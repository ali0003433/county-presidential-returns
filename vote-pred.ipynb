{
 "cells": [
  {
   "cell_type": "markdown",
   "metadata": {},
   "source": [
    "## Data cleaning, feature engineering, and modeling"
   ]
  },
  {
   "cell_type": "code",
   "execution_count": null,
   "metadata": {
    "ExecuteTime": {
     "end_time": "2019-11-23T20:07:33.829211Z",
     "start_time": "2019-11-23T20:07:30.571263Z"
    }
   },
   "outputs": [],
   "source": [
    "import matplotlib.pyplot as plt\n",
    "import numpy as np\n",
    "import pandas as pd\n",
    "import re\n",
    "import seaborn as sns\n",
    "from sklearn.cluster import KMeans\n",
    "from sklearn.ensemble import RandomForestClassifier\n",
    "from sklearn.feature_selection import RFE\n",
    "from sklearn.linear_model import LogisticRegression\n",
    "from sklearn.metrics import accuracy_score, confusion_matrix\n",
    "from sklearn.model_selection import cross_val_score, train_test_split\n",
    "from sklearn.neighbors import KNeighborsClassifier\n",
    "from sklearn.svm import SVC"
   ]
  },
  {
   "cell_type": "code",
   "execution_count": null,
   "metadata": {
    "ExecuteTime": {
     "end_time": "2019-11-23T20:07:35.287870Z",
     "start_time": "2019-11-23T20:07:33.832792Z"
    }
   },
   "outputs": [],
   "source": [
    "df = pd.read_csv('data/raw/voter-survey-december16.csv')"
   ]
  },
  {
   "cell_type": "code",
   "execution_count": null,
   "metadata": {
    "ExecuteTime": {
     "end_time": "2019-11-23T20:07:35.299710Z",
     "start_time": "2019-11-23T20:07:35.290859Z"
    }
   },
   "outputs": [],
   "source": [
    "pattern = '(imiss_).{1}(_2016)'\n",
    "def return_issue_cols(df):\n",
    "    issue_cols = []\n",
    "    for col in df.columns:\n",
    "        if re.search(pattern, col):\n",
    "            issue_cols.append(col)\n",
    "    return issue_cols\n",
    "\n",
    "issue_col_list = return_issue_cols(df)"
   ]
  },
  {
   "cell_type": "code",
   "execution_count": null,
   "metadata": {
    "ExecuteTime": {
     "end_time": "2019-11-23T12:30:50.507650Z",
     "start_time": "2019-11-23T12:30:50.476792Z"
    }
   },
   "outputs": [],
   "source": [
    "# target column list  \n",
    "target_col_list = ['presvote16post_2016']\n",
    "df_target = df[target_col_list]"
   ]
  },
  {
   "cell_type": "code",
   "execution_count": null,
   "metadata": {
    "ExecuteTime": {
     "end_time": "2019-11-23T20:09:12.893365Z",
     "start_time": "2019-11-23T20:09:12.889757Z"
    }
   },
   "outputs": [],
   "source": [
    "def fill_nans(df):\n",
    "    df.fillna(0)\n",
    "    return df"
   ]
  },
  {
   "cell_type": "code",
   "execution_count": null,
   "metadata": {
    "ExecuteTime": {
     "end_time": "2019-11-23T12:30:51.074740Z",
     "start_time": "2019-11-23T12:30:50.619589Z"
    }
   },
   "outputs": [],
   "source": [
    "def to_str_dummies(df):\n",
    "    df = df.astype(str)\n",
    "    df_dummies = pd.get_dummies(df)\n",
    "    return df_dummies"
   ]
  },
  {
   "cell_type": "code",
   "execution_count": null,
   "metadata": {
    "ExecuteTime": {
     "end_time": "2019-11-23T12:30:52.218769Z",
     "start_time": "2019-11-23T12:30:51.363130Z"
    }
   },
   "outputs": [],
   "source": [
    "df_dummies.corr()['presvote16post_2016'].abs().sort_values(ascending=False)"
   ]
  },
  {
   "cell_type": "code",
   "execution_count": null,
   "metadata": {
    "ExecuteTime": {
     "end_time": "2019-11-23T12:30:52.292578Z",
     "start_time": "2019-11-23T12:30:52.258797Z"
    }
   },
   "outputs": [],
   "source": [
    "df_predictors = df_dummies.drop('presvote16post_2016', axis=1)"
   ]
  },
  {
   "cell_type": "markdown",
   "metadata": {},
   "source": [
    "## K means clustering"
   ]
  },
  {
   "cell_type": "code",
   "execution_count": null,
   "metadata": {
    "ExecuteTime": {
     "end_time": "2019-11-23T12:30:52.428142Z",
     "start_time": "2019-11-23T12:30:52.410032Z"
    }
   },
   "outputs": [],
   "source": [
    "X = df_predictors"
   ]
  },
  {
   "cell_type": "code",
   "execution_count": null,
   "metadata": {
    "ExecuteTime": {
     "end_time": "2019-11-23T12:30:55.013529Z",
     "start_time": "2019-11-23T12:30:52.622725Z"
    }
   },
   "outputs": [],
   "source": [
    "k_means = KMeans(n_clusters=2)\n",
    "k_means.fit(X)"
   ]
  },
  {
   "cell_type": "code",
   "execution_count": null,
   "metadata": {
    "ExecuteTime": {
     "end_time": "2019-11-23T12:30:55.039134Z",
     "start_time": "2019-11-23T12:30:55.021301Z"
    }
   },
   "outputs": [],
   "source": [
    "labels = k_means.labels_"
   ]
  },
  {
   "cell_type": "code",
   "execution_count": null,
   "metadata": {
    "ExecuteTime": {
     "end_time": "2019-11-23T12:30:55.099575Z",
     "start_time": "2019-11-23T12:30:55.048094Z"
    }
   },
   "outputs": [],
   "source": [
    "y_pred = k_means.predict(X)"
   ]
  },
  {
   "cell_type": "code",
   "execution_count": null,
   "metadata": {
    "ExecuteTime": {
     "end_time": "2019-11-23T12:30:56.255666Z",
     "start_time": "2019-11-23T12:30:55.111540Z"
    }
   },
   "outputs": [],
   "source": [
    "plt.figure(figsize=(5,5))\n",
    "cl_centers = k_means.cluster_centers_\n",
    "plt.scatter(cl_centers[:, 0], cl_centers[:, 1], c='black', s=300)"
   ]
  },
  {
   "cell_type": "code",
   "execution_count": null,
   "metadata": {
    "ExecuteTime": {
     "end_time": "2019-11-23T12:31:08.062675Z",
     "start_time": "2019-11-23T12:30:56.266986Z"
    }
   },
   "outputs": [],
   "source": [
    "metrics.silhouette_score(X, labels, metric='euclidean')"
   ]
  },
  {
   "cell_type": "code",
   "execution_count": null,
   "metadata": {
    "ExecuteTime": {
     "end_time": "2019-11-23T12:31:08.174495Z",
     "start_time": "2019-11-23T12:31:08.071763Z"
    }
   },
   "outputs": [],
   "source": [
    "metrics.calinski_harabasz_score(X, labels)"
   ]
  },
  {
   "cell_type": "code",
   "execution_count": null,
   "metadata": {
    "ExecuteTime": {
     "end_time": "2019-11-23T12:31:08.237368Z",
     "start_time": "2019-11-23T12:31:08.186930Z"
    }
   },
   "outputs": [],
   "source": [
    "df_target = df[target_col_list]\n",
    "print(df_target.shape)\n",
    "df_target_arr = np.ravel(df_target)"
   ]
  },
  {
   "cell_type": "code",
   "execution_count": null,
   "metadata": {
    "ExecuteTime": {
     "end_time": "2019-11-23T12:31:08.280448Z",
     "start_time": "2019-11-23T12:31:08.253807Z"
    }
   },
   "outputs": [],
   "source": [
    "df_target_arr\n",
    "y_pred.shape"
   ]
  },
  {
   "cell_type": "code",
   "execution_count": null,
   "metadata": {
    "ExecuteTime": {
     "end_time": "2019-11-23T12:31:08.417089Z",
     "start_time": "2019-11-23T12:31:08.293950Z"
    }
   },
   "outputs": [],
   "source": [
    "dataset = pd.DataFrame({ 'y_pred': y_pred}, \n",
    "                        columns=[ 'y_pred']\n",
    "                        )"
   ]
  },
  {
   "cell_type": "code",
   "execution_count": null,
   "metadata": {
    "ExecuteTime": {
     "end_time": "2019-11-23T12:31:08.494964Z",
     "start_time": "2019-11-23T12:31:08.441599Z"
    }
   },
   "outputs": [],
   "source": [
    "dataset.head()"
   ]
  },
  {
   "cell_type": "code",
   "execution_count": null,
   "metadata": {
    "ExecuteTime": {
     "end_time": "2019-11-23T12:31:08.774697Z",
     "start_time": "2019-11-23T12:31:08.504430Z"
    }
   },
   "outputs": [],
   "source": [
    "target_pred_df = df_predictors.join(df_target).join(dataset)\n",
    "target_pred_df.head(10)"
   ]
  },
  {
   "cell_type": "code",
   "execution_count": null,
   "metadata": {
    "ExecuteTime": {
     "end_time": "2019-11-23T12:31:26.627393Z",
     "start_time": "2019-11-23T12:31:26.089401Z"
    }
   },
   "outputs": [],
   "source": [
    "count = 0\n",
    "for row in target_pred_df.itertuples():\n",
    "    if (row.presvote16post_2016 == 2): #and (row.y_pred == 0):\n",
    "        count +=1\n",
    "print(count)\n"
   ]
  },
  {
   "cell_type": "code",
   "execution_count": null,
   "metadata": {
    "ExecuteTime": {
     "end_time": "2019-11-23T12:31:26.665510Z",
     "start_time": "2019-11-23T12:31:26.640689Z"
    }
   },
   "outputs": [],
   "source": [
    "2578/3545"
   ]
  },
  {
   "cell_type": "code",
   "execution_count": null,
   "metadata": {
    "ExecuteTime": {
     "end_time": "2019-11-23T12:31:26.973713Z",
     "start_time": "2019-11-23T12:31:26.949043Z"
    }
   },
   "outputs": [],
   "source": [
    "2795/3479"
   ]
  },
  {
   "cell_type": "markdown",
   "metadata": {},
   "source": [
    "## Logistic regression"
   ]
  },
  {
   "cell_type": "code",
   "execution_count": null,
   "metadata": {
    "ExecuteTime": {
     "end_time": "2019-11-23T12:31:27.775743Z",
     "start_time": "2019-11-23T12:31:27.695380Z"
    }
   },
   "outputs": [],
   "source": [
    "X = df_predictors\n",
    "y = df_target\n",
    "X.head()"
   ]
  },
  {
   "cell_type": "code",
   "execution_count": null,
   "metadata": {
    "ExecuteTime": {
     "end_time": "2019-11-23T12:31:28.271305Z",
     "start_time": "2019-11-23T12:31:28.105442Z"
    }
   },
   "outputs": [],
   "source": [
    "X.isna().sum().any()\n",
    "y.isna().sum()"
   ]
  },
  {
   "cell_type": "code",
   "execution_count": null,
   "metadata": {
    "ExecuteTime": {
     "end_time": "2019-11-23T12:31:28.316854Z",
     "start_time": "2019-11-23T12:31:28.301600Z"
    }
   },
   "outputs": [],
   "source": [
    "y = y.fillna(0)\n",
    "y = np.ravel(y)"
   ]
  },
  {
   "cell_type": "code",
   "execution_count": null,
   "metadata": {
    "ExecuteTime": {
     "end_time": "2019-11-23T12:31:28.692331Z",
     "start_time": "2019-11-23T12:31:28.615762Z"
    }
   },
   "outputs": [],
   "source": [
    "X_train, X_test, y_train, y_test = train_test_split(X, \n",
    "                                                    y,\n",
    "                                                    test_size = 0.2, \n",
    "                                                    stratify=y)"
   ]
  },
  {
   "cell_type": "code",
   "execution_count": null,
   "metadata": {
    "ExecuteTime": {
     "end_time": "2019-11-23T12:31:41.670865Z",
     "start_time": "2019-11-23T12:31:29.073440Z"
    }
   },
   "outputs": [],
   "source": [
    "lr = LogisticRegression(C=2, penalty='l2', \n",
    "                        solver='lbfgs', \n",
    "                        multi_class='auto', \n",
    "                        max_iter=1000)\n",
    "lr.fit(X_train, y_train)\n",
    "y_pred_test = lr.predict(X_test)"
   ]
  },
  {
   "cell_type": "code",
   "execution_count": null,
   "metadata": {
    "ExecuteTime": {
     "end_time": "2019-11-23T11:40:38.976088Z",
     "start_time": "2019-11-23T11:40:38.961218Z"
    }
   },
   "outputs": [],
   "source": [
    "df_target.columns"
   ]
  },
  {
   "cell_type": "code",
   "execution_count": null,
   "metadata": {
    "ExecuteTime": {
     "end_time": "2019-11-23T11:40:39.030765Z",
     "start_time": "2019-11-23T11:40:38.981295Z"
    }
   },
   "outputs": [],
   "source": [
    "cm = confusion_matrix(y_test, y_pred_test)\n",
    "conf_matrix = pd.DataFrame(cm, index=['None','Clinton','Trump','Johnson','Stein','McMullin','Other','Did not vote'], \n",
    "                           columns=['Pred None','Pred Clinton','Pred Trump','Pred Johnson','Pred Stein','Pred McMullin','Pred Other','Pred Did Not Vote'])\n",
    "\n",
    "\n",
    "conf_matrix"
   ]
  },
  {
   "cell_type": "code",
   "execution_count": null,
   "metadata": {
    "ExecuteTime": {
     "end_time": "2019-11-23T11:40:39.050767Z",
     "start_time": "2019-11-23T11:40:39.034393Z"
    }
   },
   "outputs": [],
   "source": [
    "# correct Clinton\n",
    "correct = cm[1][1]\n",
    "total = sum(cm[1])\n",
    "pred_correct = correct/total\n",
    "pred_correct"
   ]
  },
  {
   "cell_type": "code",
   "execution_count": null,
   "metadata": {
    "ExecuteTime": {
     "end_time": "2019-11-23T11:40:39.076419Z",
     "start_time": "2019-11-23T11:40:39.061786Z"
    }
   },
   "outputs": [],
   "source": [
    "# correct Trump\n",
    "correct = cm[2][2]\n",
    "total = sum(cm[2])\n",
    "pred_correct = correct/total\n",
    "pred_correct"
   ]
  },
  {
   "cell_type": "code",
   "execution_count": null,
   "metadata": {
    "ExecuteTime": {
     "end_time": "2019-11-23T11:40:39.094504Z",
     "start_time": "2019-11-23T11:40:39.081528Z"
    }
   },
   "outputs": [],
   "source": [
    "len(lr.coef_[1])"
   ]
  },
  {
   "cell_type": "code",
   "execution_count": null,
   "metadata": {
    "ExecuteTime": {
     "end_time": "2019-11-23T11:40:39.112844Z",
     "start_time": "2019-11-23T11:40:39.101755Z"
    }
   },
   "outputs": [],
   "source": [
    "coef_dict = dict(zip(X.columns, lr.coef_[0]))\n",
    "coef_dict"
   ]
  },
  {
   "cell_type": "markdown",
   "metadata": {},
   "source": [
    "## Feature importance"
   ]
  },
  {
   "cell_type": "code",
   "execution_count": null,
   "metadata": {
    "ExecuteTime": {
     "end_time": "2019-11-23T11:43:46.535272Z",
     "start_time": "2019-11-23T11:40:39.120582Z"
    }
   },
   "outputs": [],
   "source": [
    "predictors = X_train\n",
    "selector = RFE(lr, n_features_to_select=1)\n",
    "selector = selector.fit(predictors, y_train)"
   ]
  },
  {
   "cell_type": "code",
   "execution_count": null,
   "metadata": {
    "ExecuteTime": {
     "end_time": "2019-11-23T11:43:46.565546Z",
     "start_time": "2019-11-23T11:43:46.542923Z"
    }
   },
   "outputs": [],
   "source": [
    "len(X_train.columns)"
   ]
  },
  {
   "cell_type": "code",
   "execution_count": null,
   "metadata": {
    "ExecuteTime": {
     "end_time": "2019-11-23T11:43:46.603600Z",
     "start_time": "2019-11-23T11:43:46.583479Z"
    }
   },
   "outputs": [],
   "source": [
    "order = selector.ranking_\n",
    "len(order)\n",
    "order"
   ]
  },
  {
   "cell_type": "code",
   "execution_count": null,
   "metadata": {
    "ExecuteTime": {
     "end_time": "2019-11-23T11:43:46.656468Z",
     "start_time": "2019-11-23T11:43:46.624449Z"
    }
   },
   "outputs": [],
   "source": [
    "df_predictors.columns"
   ]
  },
  {
   "cell_type": "code",
   "execution_count": null,
   "metadata": {
    "ExecuteTime": {
     "end_time": "2019-11-23T11:43:50.740007Z",
     "start_time": "2019-11-23T11:43:46.661226Z"
    }
   },
   "outputs": [],
   "source": [
    "for i in df_predictors.index:\n",
    "    rank = np.array(order)\n",
    "    feat = np.array(df_predictors.columns)\n",
    "    rank_feat = pd.DataFrame(rank,feat, columns=['rank'])"
   ]
  },
  {
   "cell_type": "code",
   "execution_count": null,
   "metadata": {
    "ExecuteTime": {
     "end_time": "2019-11-23T12:00:11.198412Z",
     "start_time": "2019-11-23T12:00:11.180844Z"
    }
   },
   "outputs": [],
   "source": [
    "rank_feat.sort_values(by='rank').tail(10)"
   ]
  },
  {
   "cell_type": "markdown",
   "metadata": {},
   "source": [
    "## Cross-validation"
   ]
  },
  {
   "cell_type": "code",
   "execution_count": null,
   "metadata": {
    "ExecuteTime": {
     "end_time": "2019-11-23T11:53:38.868454Z",
     "start_time": "2019-11-23T11:53:38.842395Z"
    }
   },
   "outputs": [],
   "source": [
    "y = y.fillna(0)"
   ]
  },
  {
   "cell_type": "code",
   "execution_count": null,
   "metadata": {
    "ExecuteTime": {
     "end_time": "2019-11-23T11:53:50.748833Z",
     "start_time": "2019-11-23T11:53:50.692729Z"
    }
   },
   "outputs": [],
   "source": [
    "X.isna().sum().any()"
   ]
  },
  {
   "cell_type": "code",
   "execution_count": null,
   "metadata": {
    "ExecuteTime": {
     "end_time": "2019-11-23T11:54:48.093628Z",
     "start_time": "2019-11-23T11:54:48.085691Z"
    }
   },
   "outputs": [],
   "source": [
    "y = np.ravel(y)\n",
    "y.shape"
   ]
  },
  {
   "cell_type": "code",
   "execution_count": null,
   "metadata": {
    "ExecuteTime": {
     "end_time": "2019-11-23T11:55:02.010268Z",
     "start_time": "2019-11-23T11:54:50.747515Z"
    }
   },
   "outputs": [],
   "source": [
    "scores = cross_val_score(lr, X, y, cv=5)"
   ]
  },
  {
   "cell_type": "code",
   "execution_count": null,
   "metadata": {
    "ExecuteTime": {
     "end_time": "2019-11-23T11:55:05.769762Z",
     "start_time": "2019-11-23T11:55:05.751435Z"
    }
   },
   "outputs": [],
   "source": [
    "scores"
   ]
  },
  {
   "cell_type": "markdown",
   "metadata": {},
   "source": [
    "## Random forest"
   ]
  },
  {
   "cell_type": "code",
   "execution_count": null,
   "metadata": {
    "ExecuteTime": {
     "end_time": "2019-11-23T12:31:43.338571Z",
     "start_time": "2019-11-23T12:31:42.898485Z"
    }
   },
   "outputs": [],
   "source": [
    "rf = RandomForestClassifier()\n",
    "rf.fit(X_train, y_train)\n",
    "y_pred_test = rf.predict(X_test)\n",
    "score = accuracy_score(y_test, y_pred_test)"
   ]
  },
  {
   "cell_type": "code",
   "execution_count": null,
   "metadata": {
    "ExecuteTime": {
     "end_time": "2019-11-23T12:31:50.174506Z",
     "start_time": "2019-11-23T12:31:50.154507Z"
    }
   },
   "outputs": [],
   "source": [
    "score"
   ]
  },
  {
   "cell_type": "code",
   "execution_count": null,
   "metadata": {
    "ExecuteTime": {
     "end_time": "2019-11-23T12:33:19.986739Z",
     "start_time": "2019-11-23T12:33:19.371124Z"
    }
   },
   "outputs": [],
   "source": [
    "scores = cross_val_score(rf, X, y, cv=5)"
   ]
  },
  {
   "cell_type": "code",
   "execution_count": null,
   "metadata": {
    "ExecuteTime": {
     "end_time": "2019-11-23T12:33:23.746761Z",
     "start_time": "2019-11-23T12:33:23.739866Z"
    }
   },
   "outputs": [],
   "source": [
    "scores"
   ]
  },
  {
   "cell_type": "code",
   "execution_count": null,
   "metadata": {
    "ExecuteTime": {
     "end_time": "2019-11-23T12:35:07.786669Z",
     "start_time": "2019-11-23T12:34:55.564529Z"
    }
   },
   "outputs": [],
   "source": [
    "knn = KNeighborsClassifier()\n",
    "scores = cross_val_score(knn, X, y, cv=5)\n",
    "scores"
   ]
  },
  {
   "cell_type": "code",
   "execution_count": null,
   "metadata": {
    "ExecuteTime": {
     "end_time": "2019-11-23T12:37:44.049712Z",
     "start_time": "2019-11-23T12:37:35.722589Z"
    }
   },
   "outputs": [],
   "source": [
    "svm = SVC(kernel='linear')\n",
    "svm.fit(X_train, y_train)\n",
    "y_pred_test = svm.predict(X_test)\n",
    "score = accuracy_score(y_test, y_pred_test)\n",
    "score"
   ]
  },
  {
   "cell_type": "code",
   "execution_count": null,
   "metadata": {
    "ExecuteTime": {
     "end_time": "2019-11-23T12:38:46.849462Z",
     "start_time": "2019-11-23T12:38:06.826392Z"
    }
   },
   "outputs": [],
   "source": [
    "scores = cross_val_score(svm, X, y, cv=5)\n",
    "scores"
   ]
  },
  {
   "cell_type": "code",
   "execution_count": null,
   "metadata": {
    "ExecuteTime": {
     "end_time": "2019-11-23T12:39:45.704719Z",
     "start_time": "2019-11-23T12:39:33.323385Z"
    }
   },
   "outputs": [],
   "source": [
    "svm = SVC(kernel='linear', class_weight='balanced')\n",
    "svm.fit(X_train, y_train)\n",
    "y_pred_test = svm.predict(X_test)\n",
    "score = accuracy_score(y_test, y_pred_test)\n",
    "score"
   ]
  }
 ],
 "metadata": {
  "kernelspec": {
   "display_name": "Python 3",
   "language": "python",
   "name": "python3"
  },
  "language_info": {
   "codemirror_mode": {
    "name": "ipython",
    "version": 3
   },
   "file_extension": ".py",
   "mimetype": "text/x-python",
   "name": "python",
   "nbconvert_exporter": "python",
   "pygments_lexer": "ipython3",
   "version": "3.7.3"
  },
  "toc": {
   "base_numbering": 1,
   "nav_menu": {},
   "number_sections": true,
   "sideBar": true,
   "skip_h1_title": false,
   "title_cell": "Table of Contents",
   "title_sidebar": "Contents",
   "toc_cell": false,
   "toc_position": {},
   "toc_section_display": true,
   "toc_window_display": false
  }
 },
 "nbformat": 4,
 "nbformat_minor": 2
}
