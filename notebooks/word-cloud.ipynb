{
 "cells": [
  {
   "cell_type": "code",
   "execution_count": 103,
   "metadata": {
    "ExecuteTime": {
     "end_time": "2019-11-30T22:52:13.132482Z",
     "start_time": "2019-11-30T22:52:13.126501Z"
    }
   },
   "outputs": [],
   "source": [
    "import numpy as np\n",
    "import pandas as pd\n",
    "import pickle\n",
    "import random\n",
    "from PIL import Image \n",
    "from wordcloud import WordCloud\n",
    "import matplotlib.pyplot as plt\n",
    "import weightedcalcs as wc"
   ]
  },
  {
   "cell_type": "code",
   "execution_count": 2,
   "metadata": {
    "ExecuteTime": {
     "end_time": "2019-11-30T22:03:47.067034Z",
     "start_time": "2019-11-30T22:03:46.810148Z"
    }
   },
   "outputs": [],
   "source": [
    "with open('../data/processed/df.pickle', 'rb') as file:\n",
    "     all_ = pickle.load( file)\n",
    "with open('../data/processed/target.pickle', 'rb') as file:\n",
    "     y = pickle.load(file)\n",
    "with open('../data/processed/selected_feat.pickle', 'rb') as file:\n",
    "     slctd_feat = pickle.load(file)"
   ]
  },
  {
   "cell_type": "code",
   "execution_count": 7,
   "metadata": {
    "ExecuteTime": {
     "end_time": "2019-11-30T22:06:06.397550Z",
     "start_time": "2019-11-30T22:06:06.385710Z"
    }
   },
   "outputs": [
    {
     "data": {
      "text/plain": [
       "Index(['imiss_c_2016', 'imiss_f_2016', 'imiss_l_2016', 'imiss_p_2016',\n",
       "       'imiss_u_2016', 'imiss_x_2016', 'imiss_y_2016'],\n",
       "      dtype='object')"
      ]
     },
     "execution_count": 7,
     "metadata": {},
     "output_type": "execute_result"
    }
   ],
   "source": [
    "col_list = slctd_feat.columns\n",
    "col_list"
   ]
  },
  {
   "cell_type": "code",
   "execution_count": 9,
   "metadata": {
    "ExecuteTime": {
     "end_time": "2019-11-30T22:08:01.341847Z",
     "start_time": "2019-11-30T22:08:01.335474Z"
    }
   },
   "outputs": [],
   "source": [
    "slctd_feat['weight'] = all_.weight\n",
    "slctd_feat['target'] = y"
   ]
  },
  {
   "cell_type": "code",
   "execution_count": 10,
   "metadata": {
    "ExecuteTime": {
     "end_time": "2019-11-30T22:08:01.853734Z",
     "start_time": "2019-11-30T22:08:01.846956Z"
    }
   },
   "outputs": [],
   "source": [
    "weight = slctd_feat['weight']\n",
    "calc = wc.Calculator('weight')"
   ]
  },
  {
   "cell_type": "code",
   "execution_count": 60,
   "metadata": {
    "ExecuteTime": {
     "end_time": "2019-11-30T22:28:00.456418Z",
     "start_time": "2019-11-30T22:28:00.451043Z"
    }
   },
   "outputs": [],
   "source": [
    "grouped = slctd_feat.groupby('target')"
   ]
  },
  {
   "cell_type": "code",
   "execution_count": 72,
   "metadata": {
    "ExecuteTime": {
     "end_time": "2019-11-30T22:34:07.486448Z",
     "start_time": "2019-11-30T22:34:07.304432Z"
    }
   },
   "outputs": [
    {
     "name": "stdout",
     "output_type": "stream",
     "text": [
      "immigration imiss_c_2016\n",
      "1.0    0.447\n",
      "2.0    0.359\n",
      "3.0    0.132\n",
      "4.0    0.033\n",
      "8.0    0.029\n",
      "Name: weight, dtype: float64 \n",
      " immigration imiss_c_2016    1.0    2.0    3.0    4.0    8.0\n",
      "target                                         \n",
      "1.0           0.304  0.427  0.200  0.038  0.030\n",
      "2.0           0.616  0.295  0.058  0.020  0.011\n",
      "3.0           0.399  0.347  0.143  0.047  0.063\n",
      "terrorism imiss_f_2016\n",
      "1.0    0.566\n",
      "2.0    0.285\n",
      "3.0    0.087\n",
      "4.0    0.035\n",
      "8.0    0.027\n",
      "Name: weight, dtype: float64 \n",
      " terrorism imiss_f_2016    1.0    2.0    3.0    4.0    8.0\n",
      "target                                         \n",
      "1.0           0.410  0.352  0.158  0.051  0.029\n",
      "2.0           0.775  0.190  0.012  0.006  0.016\n",
      "3.0           0.464  0.339  0.093  0.060  0.044\n",
      "climate change imiss_l_2016\n",
      "1.0    0.374\n",
      "2.0    0.235\n",
      "3.0    0.170\n",
      "4.0    0.195\n",
      "8.0    0.025\n",
      "Name: weight, dtype: float64 \n",
      " climate change imiss_l_2016    1.0    2.0    3.0    4.0    8.0\n",
      "target                                         \n",
      "1.0           0.657  0.235  0.060  0.023  0.025\n",
      "2.0           0.115  0.214  0.266  0.390  0.015\n",
      "3.0           0.318  0.278  0.205  0.155  0.045\n",
      "the budget deficit imiss_p_2016\n",
      "1.0    0.491\n",
      "2.0    0.322\n",
      "3.0    0.117\n",
      "4.0    0.039\n",
      "8.0    0.031\n",
      "Name: weight, dtype: float64 \n",
      " the budget deficit imiss_p_2016    1.0    2.0    3.0    4.0    8.0\n",
      "target                                         \n",
      "1.0           0.292  0.396  0.221  0.063  0.029\n",
      "2.0           0.706  0.236  0.029  0.007  0.022\n",
      "3.0           0.466  0.343  0.078  0.057  0.056\n",
      "the size of government imiss_u_2016\n",
      "1.0    0.393\n",
      "2.0    0.336\n",
      "3.0    0.184\n",
      "4.0    0.056\n",
      "8.0    0.030\n",
      "Name: weight, dtype: float64 \n",
      " the size of government imiss_u_2016    1.0    2.0    3.0    4.0    8.0\n",
      "target                                         \n",
      "1.0           0.175  0.369  0.318  0.111  0.028\n",
      "2.0           0.630  0.288  0.056  0.007  0.019\n",
      "3.0           0.364  0.367  0.169  0.044  0.057\n",
      "racial equality imiss_x_2016\n",
      "1.0    0.378\n",
      "2.0    0.343\n",
      "3.0    0.155\n",
      "4.0    0.098\n",
      "8.0    0.026\n",
      "Name: weight, dtype: float64 \n",
      " racial equality imiss_x_2016    1.0    2.0    3.0    4.0    8.0\n",
      "target                                         \n",
      "1.0           0.601  0.295  0.071  0.010  0.023\n",
      "2.0           0.191  0.364  0.238  0.188  0.018\n",
      "3.0           0.298  0.400  0.161  0.096  0.045\n",
      "gender equality imiss_y_2016\n",
      "1.0    0.341\n",
      "2.0    0.303\n",
      "3.0    0.185\n",
      "4.0    0.145\n",
      "8.0    0.026\n",
      "Name: weight, dtype: float64 \n",
      " gender equality imiss_y_2016    1.0    2.0    3.0    4.0    8.0\n",
      "target                                         \n",
      "1.0           0.585  0.282  0.082  0.025  0.025\n",
      "2.0           0.124  0.294  0.281  0.280  0.020\n",
      "3.0           0.276  0.366  0.200  0.121  0.038\n"
     ]
    }
   ],
   "source": [
    "list = ['immigration', 'terrorism', 'climate change',\n",
    "        'the budget deficit', 'the size of government', 'racial equality', 'gender equality']\n",
    "for ind, col in enumerate(col_list):\n",
    "    freq = calc.distribution(slctd_feat, col).round(3)\n",
    "    g_freq = calc.distribution(grouped, col).round(3)\n",
    "\n",
    "    print(list[ind], freq, '\\n',\n",
    "         list[ind], g_freq)"
   ]
  },
  {
   "cell_type": "code",
   "execution_count": 283,
   "metadata": {
    "ExecuteTime": {
     "end_time": "2019-12-01T18:46:20.668354Z",
     "start_time": "2019-12-01T18:46:20.660459Z"
    }
   },
   "outputs": [],
   "source": [
    "amrcns_dict = {'Terrorism': .566,\n",
    "             'The Budget Deficit': .491,\n",
    "             'Immigration': .447,\n",
    "             'The Size of Government': .393,\n",
    "             'Racial Equality': .378,\n",
    "             'Climate Change': .374,\n",
    "            'Gender Equality': .341\n",
    "             }\n",
    "\n",
    "clnt_dict = {'Terrorism': 0.410,\n",
    "             'The Budget Deficit':0.292,\n",
    "             'Immigration':0.304 ,\n",
    "             'The Size of Government':0.175,\n",
    "             'Racial Equality': 0.601,\n",
    "             'Climate Change': 0.657,\n",
    "             'Gender Equality': .585}\n",
    "\n",
    "trmp_dict = {'Terrorism': 0.775,\n",
    "             'The Budget Deficit': .706,\n",
    "             'The Size of Government':0.630,\n",
    "             'Immigration':.616, \n",
    "             'Racial Equality': 0.191,\n",
    "             'Climate Change': 0.115,\n",
    "             'Gender Equality': 0.124\n",
    "             }\n"
   ]
  },
  {
   "cell_type": "code",
   "execution_count": 284,
   "metadata": {
    "ExecuteTime": {
     "end_time": "2019-12-01T18:46:21.835707Z",
     "start_time": "2019-12-01T18:46:21.830224Z"
    }
   },
   "outputs": [],
   "source": [
    "# freq_dict = { \n",
    "#              'gender equality': .341, 'climate change': .374,'racial equality': .378,'the size of government': .393,\n",
    "#              'immigration': .447, \n",
    "#              'the budget deficit': .491, 'terrorism': .566}"
   ]
  },
  {
   "cell_type": "code",
   "execution_count": 285,
   "metadata": {
    "ExecuteTime": {
     "end_time": "2019-12-01T18:46:22.046807Z",
     "start_time": "2019-12-01T18:46:22.037037Z"
    }
   },
   "outputs": [],
   "source": [
    "amrcns_dict\n",
    "list_ = []\n",
    "val_list = []\n",
    "for key,val in amrcns_dict.items():\n",
    "    list_.append(key)\n",
    "    val_list.append(val)"
   ]
  },
  {
   "cell_type": "code",
   "execution_count": 286,
   "metadata": {
    "ExecuteTime": {
     "end_time": "2019-12-01T18:46:22.236505Z",
     "start_time": "2019-12-01T18:46:22.229947Z"
    }
   },
   "outputs": [],
   "source": [
    "clnt_dict\n",
    "list_ = []\n",
    "val_list_clnt = []\n",
    "for key,val in clnt_dict.items():\n",
    "    list_.append(key)\n",
    "    val_list_clnt.append(val)"
   ]
  },
  {
   "cell_type": "code",
   "execution_count": 287,
   "metadata": {
    "ExecuteTime": {
     "end_time": "2019-12-01T18:46:22.441765Z",
     "start_time": "2019-12-01T18:46:22.435702Z"
    }
   },
   "outputs": [],
   "source": [
    "trmp_dict\n",
    "list_ = []\n",
    "val_list_trmp = []\n",
    "for key,val in trmp_dict.items():\n",
    "    list_.append(key)\n",
    "    val_list_trmp.append(val)"
   ]
  },
  {
   "cell_type": "code",
   "execution_count": 304,
   "metadata": {
    "ExecuteTime": {
     "end_time": "2019-12-01T18:50:29.665741Z",
     "start_time": "2019-12-01T18:50:29.425578Z"
    }
   },
   "outputs": [
    {
     "data": {
      "image/png": "[encoded data removed]",
      "text/plain": [
       "<Figure size 720x432 with 1 Axes>"
      ]
     },
     "metadata": {
      "needs_background": "light"
     },
     "output_type": "display_data"
    }
   ],
   "source": [
    "fig, ax = plt.subplots(1,1, figsize=(10, 6))\n",
    "plt.scatter(x=val_list, y=list_, s=1000, c='mediumseagreen', alpha=0.7, edgecolors=\"grey\", linewidth=2)\n",
    "plt.scatter(x=val_list_clnt, y=list_, s=1000, c='tomato', alpha=0.7, edgecolors=\"grey\", linewidth=2)\n",
    "plt.scatter(x=val_list_trmp, y=list_, s=1000, c='cornflowerblue', alpha=0.7, edgecolors=\"grey\", linewidth=2)\n",
    "\n",
    "plt.xlim(0,1)\n",
    "ax.get_xaxis().set_visible(True)\n",
    "ax.set_xticks([0, .5, 1])\n",
    "ax.set_xticklabels([0, 50, 100])\n",
    "ax.set_xlabel('Percentage responded \\'Very Important\\'')\n",
    "ax.spines['right'].set_visible(False)\n",
    "ax.spines['top'].set_visible(False)\n",
    "ax.spines['bottom'].set_visible(False)\n",
    "ax.set_title('How important are these issues?', fontsize=15, y=1.1)\n",
    "plt.savefig('bubble_chrt.png')\n",
    "ax.grid(linestyle='-', linewidth='0.5', color='black')\n",
    "\n",
    "plt.show()"
   ]
  },
  {
   "cell_type": "markdown",
   "metadata": {},
   "source": [
    "## plot reps think its v import v dems "
   ]
  },
  {
   "cell_type": "code",
   "execution_count": null,
   "metadata": {},
   "outputs": [],
   "source": []
  }
 ],
 "metadata": {
  "kernelspec": {
   "display_name": "Python 3",
   "language": "python",
   "name": "python3"
  },
  "language_info": {
   "codemirror_mode": {
    "name": "ipython",
    "version": 3
   },
   "file_extension": ".py",
   "mimetype": "text/x-python",
   "name": "python",
   "nbconvert_exporter": "python",
   "pygments_lexer": "ipython3",
   "version": "3.7.3"
  },
  "toc": {
   "base_numbering": 1,
   "nav_menu": {},
   "number_sections": true,
   "sideBar": true,
   "skip_h1_title": false,
   "title_cell": "Table of Contents",
   "title_sidebar": "Contents",
   "toc_cell": false,
   "toc_position": {},
   "toc_section_display": true,
   "toc_window_display": false
  }
 },
 "nbformat": 4,
 "nbformat_minor": 2
}
