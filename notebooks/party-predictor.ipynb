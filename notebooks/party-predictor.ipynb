{
 "cells": [
  {
   "cell_type": "code",
   "execution_count": 1,
   "metadata": {
    "ExecuteTime": {
     "end_time": "2019-11-23T12:04:49.270419Z",
     "start_time": "2019-11-23T12:04:46.019640Z"
    }
   },
   "outputs": [],
   "source": [
    "import numpy as np\n",
    "import pandas as pd\n",
    "import seaborn as sns\n",
    "import re\n",
    "import matplotlib.pyplot as plt"
   ]
  },
  {
   "cell_type": "code",
   "execution_count": 2,
   "metadata": {
    "ExecuteTime": {
     "end_time": "2019-11-23T12:04:50.435918Z",
     "start_time": "2019-11-23T12:04:49.274085Z"
    }
   },
   "outputs": [],
   "source": [
    "df = pd.read_csv('data/voter-survey-december16.csv')"
   ]
  },
  {
   "cell_type": "code",
   "execution_count": 3,
   "metadata": {
    "ExecuteTime": {
     "end_time": "2019-11-23T12:04:50.449765Z",
     "start_time": "2019-11-23T12:04:50.440351Z"
    }
   },
   "outputs": [],
   "source": [
    "pattern = '(imiss_).{1}(_2016)'\n",
    "def return_imiss_cols(df):\n",
    "    imiss_cols = []\n",
    "    for col in df.columns:\n",
    "        if re.search(pattern, col):\n",
    "            imiss_cols.append(col)\n",
    "    return imiss_cols\n",
    "\n",
    "# issue column list\n",
    "imiss_col_list = return_imiss_cols(df)"
   ]
  },
  {
   "cell_type": "code",
   "execution_count": 4,
   "metadata": {
    "ExecuteTime": {
     "end_time": "2019-11-23T12:04:51.237032Z",
     "start_time": "2019-11-23T12:04:51.225261Z"
    }
   },
   "outputs": [],
   "source": [
    "# target column list  \n",
    "target_col_list = ['pid3_2016']\n",
    "df_target = df[target_col_list]"
   ]
  },
  {
   "cell_type": "code",
   "execution_count": 5,
   "metadata": {
    "ExecuteTime": {
     "end_time": "2019-11-23T12:04:53.734304Z",
     "start_time": "2019-11-23T12:04:53.724528Z"
    }
   },
   "outputs": [],
   "source": [
    "df_issue = df[imiss_col_list].fillna(0)"
   ]
  },
  {
   "cell_type": "code",
   "execution_count": 6,
   "metadata": {
    "ExecuteTime": {
     "end_time": "2019-11-23T12:04:54.487943Z",
     "start_time": "2019-11-23T12:04:54.392466Z"
    }
   },
   "outputs": [],
   "source": [
    "df_issue = df_issue.astype(str)\n",
    "df_issue = df_issue.join(df_target)"
   ]
  },
  {
   "cell_type": "code",
   "execution_count": 7,
   "metadata": {
    "ExecuteTime": {
     "end_time": "2019-11-23T12:04:55.186254Z",
     "start_time": "2019-11-23T12:04:55.088785Z"
    }
   },
   "outputs": [],
   "source": [
    "df_dummies = pd.get_dummies(df_issue)"
   ]
  },
  {
   "cell_type": "code",
   "execution_count": 9,
   "metadata": {
    "ExecuteTime": {
     "end_time": "2019-11-23T12:05:04.522344Z",
     "start_time": "2019-11-23T12:05:04.289793Z"
    }
   },
   "outputs": [
    {
     "data": {
      "text/plain": [
       "pid3_2016           1.000000\n",
       "imiss_y_2016_1.0    0.257273\n",
       "imiss_l_2016_1.0    0.250949\n",
       "imiss_d_2016_1.0    0.232526\n",
       "imiss_x_2016_1.0    0.225424\n",
       "imiss_u_2016_1.0    0.213730\n",
       "imiss_l_2016_4.0    0.211628\n",
       "imiss_g_2016_1.0    0.210702\n",
       "imiss_q_2016_1.0    0.182952\n",
       "imiss_p_2016_1.0    0.173386\n",
       "imiss_i_2016_1.0    0.171412\n",
       "imiss_s_2016_1.0    0.161111\n",
       "imiss_y_2016_4.0    0.160913\n",
       "imiss_g_2016_4.0    0.160191\n",
       "imiss_u_2016_3.0    0.152435\n",
       "imiss_j_2016_1.0    0.145084\n",
       "imiss_d_2016_3.0    0.143193\n",
       "imiss_i_2016_3.0    0.137929\n",
       "imiss_x_2016_3.0    0.131625\n",
       "imiss_l_2016_3.0    0.129721\n",
       "imiss_y_2016_3.0    0.129094\n",
       "imiss_j_2016_2.0    0.126854\n",
       "imiss_m_2016_1.0    0.125420\n",
       "imiss_s_2016_2.0    0.124386\n",
       "imiss_x_2016_4.0    0.120866\n",
       "imiss_p_2016_3.0    0.117345\n",
       "imiss_m_2016_2.0    0.111619\n",
       "imiss_q_2016_2.0    0.109102\n",
       "imiss_h_2016_1.0    0.106259\n",
       "imiss_d_2016_4.0    0.103287\n",
       "                      ...   \n",
       "imiss_o_2016_1.0    0.012891\n",
       "imiss_e_2016_2.0    0.011603\n",
       "imiss_a_2016_4.0    0.011417\n",
       "imiss_b_2016_1.0    0.010055\n",
       "imiss_k_2016_0.0    0.009178\n",
       "imiss_t_2016_0.0    0.007995\n",
       "imiss_f_2016_0.0    0.007832\n",
       "imiss_a_2016_3.0    0.007411\n",
       "imiss_n_2016_0.0    0.007309\n",
       "imiss_t_2016_2.0    0.006800\n",
       "imiss_i_2016_0.0    0.005612\n",
       "imiss_i_2016_2.0    0.005142\n",
       "imiss_q_2016_0.0    0.005141\n",
       "imiss_p_2016_0.0    0.004820\n",
       "imiss_d_2016_0.0    0.004187\n",
       "imiss_e_2016_0.0    0.004056\n",
       "imiss_o_2016_3.0    0.003981\n",
       "imiss_s_2016_0.0    0.003855\n",
       "imiss_h_2016_0.0    0.003136\n",
       "imiss_j_2016_0.0    0.002714\n",
       "imiss_m_2016_0.0    0.002532\n",
       "imiss_b_2016_0.0    0.002119\n",
       "imiss_a_2016_0.0    0.002021\n",
       "imiss_x_2016_0.0    0.001973\n",
       "imiss_c_2016_4.0    0.001813\n",
       "imiss_r_2016_0.0    0.001709\n",
       "imiss_c_2016_0.0    0.001094\n",
       "imiss_o_2016_4.0    0.000845\n",
       "imiss_b_2016_3.0    0.000579\n",
       "imiss_r_2016_4.0    0.000362\n",
       "Name: pid3_2016, Length: 116, dtype: float64"
      ]
     },
     "execution_count": 9,
     "metadata": {},
     "output_type": "execute_result"
    }
   ],
   "source": [
    "df_dummies.corr()['pid3_2016'].abs().sort_values(ascending=False)"
   ]
  },
  {
   "cell_type": "code",
   "execution_count": 10,
   "metadata": {
    "ExecuteTime": {
     "end_time": "2019-11-23T12:06:03.946918Z",
     "start_time": "2019-11-23T12:06:03.938104Z"
    }
   },
   "outputs": [
    {
     "data": {
      "text/plain": [
       "(8000, 116)"
      ]
     },
     "execution_count": 10,
     "metadata": {},
     "output_type": "execute_result"
    }
   ],
   "source": [
    "df_dummies.shape"
   ]
  },
  {
   "cell_type": "code",
   "execution_count": 12,
   "metadata": {
    "ExecuteTime": {
     "end_time": "2019-11-23T12:06:11.390151Z",
     "start_time": "2019-11-23T12:06:11.358639Z"
    }
   },
   "outputs": [],
   "source": [
    "df_predictors = df_dummies.drop('pid3_2016', axis=1)"
   ]
  },
  {
   "cell_type": "code",
   "execution_count": 13,
   "metadata": {
    "ExecuteTime": {
     "end_time": "2019-11-23T12:06:13.146583Z",
     "start_time": "2019-11-23T12:06:13.116453Z"
    }
   },
   "outputs": [
    {
     "data": {
      "text/html": [
       "<div>\n",
       "<style scoped>\n",
       "    .dataframe tbody tr th:only-of-type {\n",
       "        vertical-align: middle;\n",
       "    }\n",
       "\n",
       "    .dataframe tbody tr th {\n",
       "        vertical-align: top;\n",
       "    }\n",
       "\n",
       "    .dataframe thead th {\n",
       "        text-align: right;\n",
       "    }\n",
       "</style>\n",
       "<table border=\"1\" class=\"dataframe\">\n",
       "  <thead>\n",
       "    <tr style=\"text-align: right;\">\n",
       "      <th></th>\n",
       "      <th>imiss_a_2016_0.0</th>\n",
       "      <th>imiss_a_2016_1.0</th>\n",
       "      <th>imiss_a_2016_2.0</th>\n",
       "      <th>imiss_a_2016_3.0</th>\n",
       "      <th>imiss_a_2016_4.0</th>\n",
       "      <th>imiss_b_2016_0.0</th>\n",
       "      <th>imiss_b_2016_1.0</th>\n",
       "      <th>imiss_b_2016_2.0</th>\n",
       "      <th>imiss_b_2016_3.0</th>\n",
       "      <th>imiss_b_2016_4.0</th>\n",
       "      <th>...</th>\n",
       "      <th>imiss_x_2016_0.0</th>\n",
       "      <th>imiss_x_2016_1.0</th>\n",
       "      <th>imiss_x_2016_2.0</th>\n",
       "      <th>imiss_x_2016_3.0</th>\n",
       "      <th>imiss_x_2016_4.0</th>\n",
       "      <th>imiss_y_2016_0.0</th>\n",
       "      <th>imiss_y_2016_1.0</th>\n",
       "      <th>imiss_y_2016_2.0</th>\n",
       "      <th>imiss_y_2016_3.0</th>\n",
       "      <th>imiss_y_2016_4.0</th>\n",
       "    </tr>\n",
       "  </thead>\n",
       "  <tbody>\n",
       "    <tr>\n",
       "      <th>0</th>\n",
       "      <td>0</td>\n",
       "      <td>0</td>\n",
       "      <td>1</td>\n",
       "      <td>0</td>\n",
       "      <td>0</td>\n",
       "      <td>0</td>\n",
       "      <td>0</td>\n",
       "      <td>1</td>\n",
       "      <td>0</td>\n",
       "      <td>0</td>\n",
       "      <td>...</td>\n",
       "      <td>0</td>\n",
       "      <td>1</td>\n",
       "      <td>0</td>\n",
       "      <td>0</td>\n",
       "      <td>0</td>\n",
       "      <td>0</td>\n",
       "      <td>1</td>\n",
       "      <td>0</td>\n",
       "      <td>0</td>\n",
       "      <td>0</td>\n",
       "    </tr>\n",
       "    <tr>\n",
       "      <th>1</th>\n",
       "      <td>0</td>\n",
       "      <td>1</td>\n",
       "      <td>0</td>\n",
       "      <td>0</td>\n",
       "      <td>0</td>\n",
       "      <td>0</td>\n",
       "      <td>1</td>\n",
       "      <td>0</td>\n",
       "      <td>0</td>\n",
       "      <td>0</td>\n",
       "      <td>...</td>\n",
       "      <td>0</td>\n",
       "      <td>0</td>\n",
       "      <td>0</td>\n",
       "      <td>1</td>\n",
       "      <td>0</td>\n",
       "      <td>0</td>\n",
       "      <td>0</td>\n",
       "      <td>0</td>\n",
       "      <td>0</td>\n",
       "      <td>1</td>\n",
       "    </tr>\n",
       "    <tr>\n",
       "      <th>2</th>\n",
       "      <td>0</td>\n",
       "      <td>1</td>\n",
       "      <td>0</td>\n",
       "      <td>0</td>\n",
       "      <td>0</td>\n",
       "      <td>0</td>\n",
       "      <td>1</td>\n",
       "      <td>0</td>\n",
       "      <td>0</td>\n",
       "      <td>0</td>\n",
       "      <td>...</td>\n",
       "      <td>0</td>\n",
       "      <td>1</td>\n",
       "      <td>0</td>\n",
       "      <td>0</td>\n",
       "      <td>0</td>\n",
       "      <td>0</td>\n",
       "      <td>0</td>\n",
       "      <td>1</td>\n",
       "      <td>0</td>\n",
       "      <td>0</td>\n",
       "    </tr>\n",
       "    <tr>\n",
       "      <th>3</th>\n",
       "      <td>0</td>\n",
       "      <td>1</td>\n",
       "      <td>0</td>\n",
       "      <td>0</td>\n",
       "      <td>0</td>\n",
       "      <td>0</td>\n",
       "      <td>0</td>\n",
       "      <td>1</td>\n",
       "      <td>0</td>\n",
       "      <td>0</td>\n",
       "      <td>...</td>\n",
       "      <td>0</td>\n",
       "      <td>0</td>\n",
       "      <td>1</td>\n",
       "      <td>0</td>\n",
       "      <td>0</td>\n",
       "      <td>0</td>\n",
       "      <td>0</td>\n",
       "      <td>0</td>\n",
       "      <td>1</td>\n",
       "      <td>0</td>\n",
       "    </tr>\n",
       "    <tr>\n",
       "      <th>4</th>\n",
       "      <td>0</td>\n",
       "      <td>1</td>\n",
       "      <td>0</td>\n",
       "      <td>0</td>\n",
       "      <td>0</td>\n",
       "      <td>0</td>\n",
       "      <td>1</td>\n",
       "      <td>0</td>\n",
       "      <td>0</td>\n",
       "      <td>0</td>\n",
       "      <td>...</td>\n",
       "      <td>0</td>\n",
       "      <td>1</td>\n",
       "      <td>0</td>\n",
       "      <td>0</td>\n",
       "      <td>0</td>\n",
       "      <td>0</td>\n",
       "      <td>1</td>\n",
       "      <td>0</td>\n",
       "      <td>0</td>\n",
       "      <td>0</td>\n",
       "    </tr>\n",
       "  </tbody>\n",
       "</table>\n",
       "<p>5 rows × 115 columns</p>\n",
       "</div>"
      ],
      "text/plain": [
       "   imiss_a_2016_0.0  imiss_a_2016_1.0  imiss_a_2016_2.0  imiss_a_2016_3.0  \\\n",
       "0                 0                 0                 1                 0   \n",
       "1                 0                 1                 0                 0   \n",
       "2                 0                 1                 0                 0   \n",
       "3                 0                 1                 0                 0   \n",
       "4                 0                 1                 0                 0   \n",
       "\n",
       "   imiss_a_2016_4.0  imiss_b_2016_0.0  imiss_b_2016_1.0  imiss_b_2016_2.0  \\\n",
       "0                 0                 0                 0                 1   \n",
       "1                 0                 0                 1                 0   \n",
       "2                 0                 0                 1                 0   \n",
       "3                 0                 0                 0                 1   \n",
       "4                 0                 0                 1                 0   \n",
       "\n",
       "   imiss_b_2016_3.0  imiss_b_2016_4.0  ...  imiss_x_2016_0.0  \\\n",
       "0                 0                 0  ...                 0   \n",
       "1                 0                 0  ...                 0   \n",
       "2                 0                 0  ...                 0   \n",
       "3                 0                 0  ...                 0   \n",
       "4                 0                 0  ...                 0   \n",
       "\n",
       "   imiss_x_2016_1.0  imiss_x_2016_2.0  imiss_x_2016_3.0  imiss_x_2016_4.0  \\\n",
       "0                 1                 0                 0                 0   \n",
       "1                 0                 0                 1                 0   \n",
       "2                 1                 0                 0                 0   \n",
       "3                 0                 1                 0                 0   \n",
       "4                 1                 0                 0                 0   \n",
       "\n",
       "   imiss_y_2016_0.0  imiss_y_2016_1.0  imiss_y_2016_2.0  imiss_y_2016_3.0  \\\n",
       "0                 0                 1                 0                 0   \n",
       "1                 0                 0                 0                 0   \n",
       "2                 0                 0                 1                 0   \n",
       "3                 0                 0                 0                 1   \n",
       "4                 0                 1                 0                 0   \n",
       "\n",
       "   imiss_y_2016_4.0  \n",
       "0                 0  \n",
       "1                 1  \n",
       "2                 0  \n",
       "3                 0  \n",
       "4                 0  \n",
       "\n",
       "[5 rows x 115 columns]"
      ]
     },
     "execution_count": 13,
     "metadata": {},
     "output_type": "execute_result"
    }
   ],
   "source": [
    "df_predictors.head()"
   ]
  },
  {
   "cell_type": "markdown",
   "metadata": {},
   "source": [
    "## K means clustering"
   ]
  },
  {
   "cell_type": "code",
   "execution_count": 14,
   "metadata": {
    "ExecuteTime": {
     "end_time": "2019-11-23T12:06:15.893637Z",
     "start_time": "2019-11-23T12:06:15.887052Z"
    }
   },
   "outputs": [],
   "source": [
    "X = df_predictors"
   ]
  },
  {
   "cell_type": "code",
   "execution_count": 15,
   "metadata": {
    "ExecuteTime": {
     "end_time": "2019-11-23T12:06:18.874546Z",
     "start_time": "2019-11-23T12:06:17.651082Z"
    }
   },
   "outputs": [],
   "source": [
    "from sklearn.cluster import KMeans\n",
    "from sklearn import metrics \n",
    "from sklearn.model_selection import train_test_split"
   ]
  },
  {
   "cell_type": "code",
   "execution_count": 16,
   "metadata": {
    "ExecuteTime": {
     "end_time": "2019-11-23T12:06:19.646748Z",
     "start_time": "2019-11-23T12:06:18.878612Z"
    }
   },
   "outputs": [
    {
     "data": {
      "text/plain": [
       "KMeans(algorithm='auto', copy_x=True, init='k-means++', max_iter=300,\n",
       "       n_clusters=2, n_init=10, n_jobs=None, precompute_distances='auto',\n",
       "       random_state=None, tol=0.0001, verbose=0)"
      ]
     },
     "execution_count": 16,
     "metadata": {},
     "output_type": "execute_result"
    }
   ],
   "source": [
    "k_means = KMeans(n_clusters=2)\n",
    "k_means.fit(X)"
   ]
  },
  {
   "cell_type": "code",
   "execution_count": 17,
   "metadata": {
    "ExecuteTime": {
     "end_time": "2019-11-23T12:06:21.757339Z",
     "start_time": "2019-11-23T12:06:21.754074Z"
    }
   },
   "outputs": [],
   "source": [
    "labels = k_means.labels_"
   ]
  },
  {
   "cell_type": "code",
   "execution_count": 18,
   "metadata": {
    "ExecuteTime": {
     "end_time": "2019-11-23T12:06:22.355237Z",
     "start_time": "2019-11-23T12:06:22.333430Z"
    }
   },
   "outputs": [],
   "source": [
    "y_pred = k_means.predict(X)"
   ]
  },
  {
   "cell_type": "code",
   "execution_count": 19,
   "metadata": {
    "ExecuteTime": {
     "end_time": "2019-11-23T12:06:31.009407Z",
     "start_time": "2019-11-23T12:06:30.698680Z"
    }
   },
   "outputs": [
    {
     "data": {
      "text/plain": [
       "<matplotlib.collections.PathCollection at 0x1a235c8fd0>"
      ]
     },
     "execution_count": 19,
     "metadata": {},
     "output_type": "execute_result"
    },
    {
     "data": {
      "image/png": "[encoded data removed]",
      "text/plain": [
       "<Figure size 360x360 with 1 Axes>"
      ]
     },
     "metadata": {
      "needs_background": "light"
     },
     "output_type": "display_data"
    }
   ],
   "source": [
    "plt.figure(figsize=(5,5))\n",
    "cl_centers = k_means.cluster_centers_\n",
    "plt.scatter(cl_centers[:, 0], cl_centers[:, 1], c='black', s=300)"
   ]
  },
  {
   "cell_type": "code",
   "execution_count": 20,
   "metadata": {
    "ExecuteTime": {
     "end_time": "2019-11-23T12:06:38.391584Z",
     "start_time": "2019-11-23T12:06:35.004695Z"
    }
   },
   "outputs": [
    {
     "data": {
      "text/plain": [
       "0.09122085678832324"
      ]
     },
     "execution_count": 20,
     "metadata": {},
     "output_type": "execute_result"
    }
   ],
   "source": [
    "metrics.silhouette_score(X, labels, metric='euclidean')"
   ]
  },
  {
   "cell_type": "code",
   "execution_count": 22,
   "metadata": {
    "ExecuteTime": {
     "end_time": "2019-11-23T12:06:43.044431Z",
     "start_time": "2019-11-23T12:06:43.025466Z"
    }
   },
   "outputs": [
    {
     "data": {
      "text/plain": [
       "836.4895570763003"
      ]
     },
     "execution_count": 22,
     "metadata": {},
     "output_type": "execute_result"
    }
   ],
   "source": [
    "metrics.calinski_harabasz_score(X, labels)"
   ]
  },
  {
   "cell_type": "code",
   "execution_count": 23,
   "metadata": {
    "ExecuteTime": {
     "end_time": "2019-11-23T12:06:44.562832Z",
     "start_time": "2019-11-23T12:06:44.547301Z"
    }
   },
   "outputs": [
    {
     "name": "stdout",
     "output_type": "stream",
     "text": [
      "(8000, 1)\n"
     ]
    }
   ],
   "source": [
    "df_target = df[target_col_list]\n",
    "print(df_target.shape)\n",
    "df_target_arr = np.ravel(df_target)"
   ]
  },
  {
   "cell_type": "code",
   "execution_count": 24,
   "metadata": {
    "ExecuteTime": {
     "end_time": "2019-11-23T12:06:45.144031Z",
     "start_time": "2019-11-23T12:06:45.135372Z"
    }
   },
   "outputs": [
    {
     "data": {
      "text/plain": [
       "(8000,)"
      ]
     },
     "execution_count": 24,
     "metadata": {},
     "output_type": "execute_result"
    }
   ],
   "source": [
    "df_target_arr\n",
    "y_pred.shape"
   ]
  },
  {
   "cell_type": "code",
   "execution_count": 25,
   "metadata": {
    "ExecuteTime": {
     "end_time": "2019-11-23T12:06:45.719771Z",
     "start_time": "2019-11-23T12:06:45.698377Z"
    }
   },
   "outputs": [],
   "source": [
    "dataset = pd.DataFrame({ 'y_pred': y_pred}, \n",
    "                        columns=[ 'y_pred']\n",
    "                        )"
   ]
  },
  {
   "cell_type": "code",
   "execution_count": 26,
   "metadata": {
    "ExecuteTime": {
     "end_time": "2019-11-23T12:06:46.295892Z",
     "start_time": "2019-11-23T12:06:46.281939Z"
    }
   },
   "outputs": [
    {
     "data": {
      "text/html": [
       "<div>\n",
       "<style scoped>\n",
       "    .dataframe tbody tr th:only-of-type {\n",
       "        vertical-align: middle;\n",
       "    }\n",
       "\n",
       "    .dataframe tbody tr th {\n",
       "        vertical-align: top;\n",
       "    }\n",
       "\n",
       "    .dataframe thead th {\n",
       "        text-align: right;\n",
       "    }\n",
       "</style>\n",
       "<table border=\"1\" class=\"dataframe\">\n",
       "  <thead>\n",
       "    <tr style=\"text-align: right;\">\n",
       "      <th></th>\n",
       "      <th>y_pred</th>\n",
       "    </tr>\n",
       "  </thead>\n",
       "  <tbody>\n",
       "    <tr>\n",
       "      <th>0</th>\n",
       "      <td>0</td>\n",
       "    </tr>\n",
       "    <tr>\n",
       "      <th>1</th>\n",
       "      <td>1</td>\n",
       "    </tr>\n",
       "    <tr>\n",
       "      <th>2</th>\n",
       "      <td>0</td>\n",
       "    </tr>\n",
       "    <tr>\n",
       "      <th>3</th>\n",
       "      <td>1</td>\n",
       "    </tr>\n",
       "    <tr>\n",
       "      <th>4</th>\n",
       "      <td>0</td>\n",
       "    </tr>\n",
       "  </tbody>\n",
       "</table>\n",
       "</div>"
      ],
      "text/plain": [
       "   y_pred\n",
       "0       0\n",
       "1       1\n",
       "2       0\n",
       "3       1\n",
       "4       0"
      ]
     },
     "execution_count": 26,
     "metadata": {},
     "output_type": "execute_result"
    }
   ],
   "source": [
    "dataset.head()"
   ]
  },
  {
   "cell_type": "code",
   "execution_count": 27,
   "metadata": {
    "ExecuteTime": {
     "end_time": "2019-11-23T12:06:46.834004Z",
     "start_time": "2019-11-23T12:06:46.800926Z"
    }
   },
   "outputs": [
    {
     "data": {
      "text/html": [
       "<div>\n",
       "<style scoped>\n",
       "    .dataframe tbody tr th:only-of-type {\n",
       "        vertical-align: middle;\n",
       "    }\n",
       "\n",
       "    .dataframe tbody tr th {\n",
       "        vertical-align: top;\n",
       "    }\n",
       "\n",
       "    .dataframe thead th {\n",
       "        text-align: right;\n",
       "    }\n",
       "</style>\n",
       "<table border=\"1\" class=\"dataframe\">\n",
       "  <thead>\n",
       "    <tr style=\"text-align: right;\">\n",
       "      <th></th>\n",
       "      <th>imiss_a_2016_0.0</th>\n",
       "      <th>imiss_a_2016_1.0</th>\n",
       "      <th>imiss_a_2016_2.0</th>\n",
       "      <th>imiss_a_2016_3.0</th>\n",
       "      <th>imiss_a_2016_4.0</th>\n",
       "      <th>imiss_b_2016_0.0</th>\n",
       "      <th>imiss_b_2016_1.0</th>\n",
       "      <th>imiss_b_2016_2.0</th>\n",
       "      <th>imiss_b_2016_3.0</th>\n",
       "      <th>imiss_b_2016_4.0</th>\n",
       "      <th>...</th>\n",
       "      <th>imiss_x_2016_2.0</th>\n",
       "      <th>imiss_x_2016_3.0</th>\n",
       "      <th>imiss_x_2016_4.0</th>\n",
       "      <th>imiss_y_2016_0.0</th>\n",
       "      <th>imiss_y_2016_1.0</th>\n",
       "      <th>imiss_y_2016_2.0</th>\n",
       "      <th>imiss_y_2016_3.0</th>\n",
       "      <th>imiss_y_2016_4.0</th>\n",
       "      <th>pid3_2016</th>\n",
       "      <th>y_pred</th>\n",
       "    </tr>\n",
       "  </thead>\n",
       "  <tbody>\n",
       "    <tr>\n",
       "      <th>0</th>\n",
       "      <td>0</td>\n",
       "      <td>0</td>\n",
       "      <td>1</td>\n",
       "      <td>0</td>\n",
       "      <td>0</td>\n",
       "      <td>0</td>\n",
       "      <td>0</td>\n",
       "      <td>1</td>\n",
       "      <td>0</td>\n",
       "      <td>0</td>\n",
       "      <td>...</td>\n",
       "      <td>0</td>\n",
       "      <td>0</td>\n",
       "      <td>0</td>\n",
       "      <td>0</td>\n",
       "      <td>1</td>\n",
       "      <td>0</td>\n",
       "      <td>0</td>\n",
       "      <td>0</td>\n",
       "      <td>1</td>\n",
       "      <td>0</td>\n",
       "    </tr>\n",
       "    <tr>\n",
       "      <th>1</th>\n",
       "      <td>0</td>\n",
       "      <td>1</td>\n",
       "      <td>0</td>\n",
       "      <td>0</td>\n",
       "      <td>0</td>\n",
       "      <td>0</td>\n",
       "      <td>1</td>\n",
       "      <td>0</td>\n",
       "      <td>0</td>\n",
       "      <td>0</td>\n",
       "      <td>...</td>\n",
       "      <td>0</td>\n",
       "      <td>1</td>\n",
       "      <td>0</td>\n",
       "      <td>0</td>\n",
       "      <td>0</td>\n",
       "      <td>0</td>\n",
       "      <td>0</td>\n",
       "      <td>1</td>\n",
       "      <td>2</td>\n",
       "      <td>1</td>\n",
       "    </tr>\n",
       "    <tr>\n",
       "      <th>2</th>\n",
       "      <td>0</td>\n",
       "      <td>1</td>\n",
       "      <td>0</td>\n",
       "      <td>0</td>\n",
       "      <td>0</td>\n",
       "      <td>0</td>\n",
       "      <td>1</td>\n",
       "      <td>0</td>\n",
       "      <td>0</td>\n",
       "      <td>0</td>\n",
       "      <td>...</td>\n",
       "      <td>0</td>\n",
       "      <td>0</td>\n",
       "      <td>0</td>\n",
       "      <td>0</td>\n",
       "      <td>0</td>\n",
       "      <td>1</td>\n",
       "      <td>0</td>\n",
       "      <td>0</td>\n",
       "      <td>3</td>\n",
       "      <td>0</td>\n",
       "    </tr>\n",
       "    <tr>\n",
       "      <th>3</th>\n",
       "      <td>0</td>\n",
       "      <td>1</td>\n",
       "      <td>0</td>\n",
       "      <td>0</td>\n",
       "      <td>0</td>\n",
       "      <td>0</td>\n",
       "      <td>0</td>\n",
       "      <td>1</td>\n",
       "      <td>0</td>\n",
       "      <td>0</td>\n",
       "      <td>...</td>\n",
       "      <td>1</td>\n",
       "      <td>0</td>\n",
       "      <td>0</td>\n",
       "      <td>0</td>\n",
       "      <td>0</td>\n",
       "      <td>0</td>\n",
       "      <td>1</td>\n",
       "      <td>0</td>\n",
       "      <td>3</td>\n",
       "      <td>1</td>\n",
       "    </tr>\n",
       "    <tr>\n",
       "      <th>4</th>\n",
       "      <td>0</td>\n",
       "      <td>1</td>\n",
       "      <td>0</td>\n",
       "      <td>0</td>\n",
       "      <td>0</td>\n",
       "      <td>0</td>\n",
       "      <td>1</td>\n",
       "      <td>0</td>\n",
       "      <td>0</td>\n",
       "      <td>0</td>\n",
       "      <td>...</td>\n",
       "      <td>0</td>\n",
       "      <td>0</td>\n",
       "      <td>0</td>\n",
       "      <td>0</td>\n",
       "      <td>1</td>\n",
       "      <td>0</td>\n",
       "      <td>0</td>\n",
       "      <td>0</td>\n",
       "      <td>2</td>\n",
       "      <td>0</td>\n",
       "    </tr>\n",
       "    <tr>\n",
       "      <th>5</th>\n",
       "      <td>0</td>\n",
       "      <td>0</td>\n",
       "      <td>1</td>\n",
       "      <td>0</td>\n",
       "      <td>0</td>\n",
       "      <td>0</td>\n",
       "      <td>1</td>\n",
       "      <td>0</td>\n",
       "      <td>0</td>\n",
       "      <td>0</td>\n",
       "      <td>...</td>\n",
       "      <td>0</td>\n",
       "      <td>0</td>\n",
       "      <td>0</td>\n",
       "      <td>0</td>\n",
       "      <td>1</td>\n",
       "      <td>0</td>\n",
       "      <td>0</td>\n",
       "      <td>0</td>\n",
       "      <td>1</td>\n",
       "      <td>0</td>\n",
       "    </tr>\n",
       "    <tr>\n",
       "      <th>6</th>\n",
       "      <td>0</td>\n",
       "      <td>1</td>\n",
       "      <td>0</td>\n",
       "      <td>0</td>\n",
       "      <td>0</td>\n",
       "      <td>0</td>\n",
       "      <td>1</td>\n",
       "      <td>0</td>\n",
       "      <td>0</td>\n",
       "      <td>0</td>\n",
       "      <td>...</td>\n",
       "      <td>0</td>\n",
       "      <td>0</td>\n",
       "      <td>0</td>\n",
       "      <td>0</td>\n",
       "      <td>1</td>\n",
       "      <td>0</td>\n",
       "      <td>0</td>\n",
       "      <td>0</td>\n",
       "      <td>1</td>\n",
       "      <td>0</td>\n",
       "    </tr>\n",
       "    <tr>\n",
       "      <th>7</th>\n",
       "      <td>0</td>\n",
       "      <td>1</td>\n",
       "      <td>0</td>\n",
       "      <td>0</td>\n",
       "      <td>0</td>\n",
       "      <td>0</td>\n",
       "      <td>0</td>\n",
       "      <td>1</td>\n",
       "      <td>0</td>\n",
       "      <td>0</td>\n",
       "      <td>...</td>\n",
       "      <td>0</td>\n",
       "      <td>0</td>\n",
       "      <td>1</td>\n",
       "      <td>0</td>\n",
       "      <td>0</td>\n",
       "      <td>0</td>\n",
       "      <td>1</td>\n",
       "      <td>0</td>\n",
       "      <td>2</td>\n",
       "      <td>1</td>\n",
       "    </tr>\n",
       "    <tr>\n",
       "      <th>8</th>\n",
       "      <td>0</td>\n",
       "      <td>0</td>\n",
       "      <td>0</td>\n",
       "      <td>1</td>\n",
       "      <td>0</td>\n",
       "      <td>0</td>\n",
       "      <td>1</td>\n",
       "      <td>0</td>\n",
       "      <td>0</td>\n",
       "      <td>0</td>\n",
       "      <td>...</td>\n",
       "      <td>0</td>\n",
       "      <td>0</td>\n",
       "      <td>0</td>\n",
       "      <td>0</td>\n",
       "      <td>0</td>\n",
       "      <td>1</td>\n",
       "      <td>0</td>\n",
       "      <td>0</td>\n",
       "      <td>1</td>\n",
       "      <td>0</td>\n",
       "    </tr>\n",
       "    <tr>\n",
       "      <th>9</th>\n",
       "      <td>0</td>\n",
       "      <td>0</td>\n",
       "      <td>0</td>\n",
       "      <td>1</td>\n",
       "      <td>0</td>\n",
       "      <td>0</td>\n",
       "      <td>1</td>\n",
       "      <td>0</td>\n",
       "      <td>0</td>\n",
       "      <td>0</td>\n",
       "      <td>...</td>\n",
       "      <td>0</td>\n",
       "      <td>0</td>\n",
       "      <td>0</td>\n",
       "      <td>0</td>\n",
       "      <td>1</td>\n",
       "      <td>0</td>\n",
       "      <td>0</td>\n",
       "      <td>0</td>\n",
       "      <td>1</td>\n",
       "      <td>0</td>\n",
       "    </tr>\n",
       "  </tbody>\n",
       "</table>\n",
       "<p>10 rows × 117 columns</p>\n",
       "</div>"
      ],
      "text/plain": [
       "   imiss_a_2016_0.0  imiss_a_2016_1.0  imiss_a_2016_2.0  imiss_a_2016_3.0  \\\n",
       "0                 0                 0                 1                 0   \n",
       "1                 0                 1                 0                 0   \n",
       "2                 0                 1                 0                 0   \n",
       "3                 0                 1                 0                 0   \n",
       "4                 0                 1                 0                 0   \n",
       "5                 0                 0                 1                 0   \n",
       "6                 0                 1                 0                 0   \n",
       "7                 0                 1                 0                 0   \n",
       "8                 0                 0                 0                 1   \n",
       "9                 0                 0                 0                 1   \n",
       "\n",
       "   imiss_a_2016_4.0  imiss_b_2016_0.0  imiss_b_2016_1.0  imiss_b_2016_2.0  \\\n",
       "0                 0                 0                 0                 1   \n",
       "1                 0                 0                 1                 0   \n",
       "2                 0                 0                 1                 0   \n",
       "3                 0                 0                 0                 1   \n",
       "4                 0                 0                 1                 0   \n",
       "5                 0                 0                 1                 0   \n",
       "6                 0                 0                 1                 0   \n",
       "7                 0                 0                 0                 1   \n",
       "8                 0                 0                 1                 0   \n",
       "9                 0                 0                 1                 0   \n",
       "\n",
       "   imiss_b_2016_3.0  imiss_b_2016_4.0  ...  imiss_x_2016_2.0  \\\n",
       "0                 0                 0  ...                 0   \n",
       "1                 0                 0  ...                 0   \n",
       "2                 0                 0  ...                 0   \n",
       "3                 0                 0  ...                 1   \n",
       "4                 0                 0  ...                 0   \n",
       "5                 0                 0  ...                 0   \n",
       "6                 0                 0  ...                 0   \n",
       "7                 0                 0  ...                 0   \n",
       "8                 0                 0  ...                 0   \n",
       "9                 0                 0  ...                 0   \n",
       "\n",
       "   imiss_x_2016_3.0  imiss_x_2016_4.0  imiss_y_2016_0.0  imiss_y_2016_1.0  \\\n",
       "0                 0                 0                 0                 1   \n",
       "1                 1                 0                 0                 0   \n",
       "2                 0                 0                 0                 0   \n",
       "3                 0                 0                 0                 0   \n",
       "4                 0                 0                 0                 1   \n",
       "5                 0                 0                 0                 1   \n",
       "6                 0                 0                 0                 1   \n",
       "7                 0                 1                 0                 0   \n",
       "8                 0                 0                 0                 0   \n",
       "9                 0                 0                 0                 1   \n",
       "\n",
       "   imiss_y_2016_2.0  imiss_y_2016_3.0  imiss_y_2016_4.0  pid3_2016  y_pred  \n",
       "0                 0                 0                 0          1       0  \n",
       "1                 0                 0                 1          2       1  \n",
       "2                 1                 0                 0          3       0  \n",
       "3                 0                 1                 0          3       1  \n",
       "4                 0                 0                 0          2       0  \n",
       "5                 0                 0                 0          1       0  \n",
       "6                 0                 0                 0          1       0  \n",
       "7                 0                 1                 0          2       1  \n",
       "8                 1                 0                 0          1       0  \n",
       "9                 0                 0                 0          1       0  \n",
       "\n",
       "[10 rows x 117 columns]"
      ]
     },
     "execution_count": 27,
     "metadata": {},
     "output_type": "execute_result"
    }
   ],
   "source": [
    "target_pred_df = df_predictors.join(df_target).join(dataset)\n",
    "target_pred_df.head(10)"
   ]
  },
  {
   "cell_type": "code",
   "execution_count": 29,
   "metadata": {
    "ExecuteTime": {
     "end_time": "2019-11-23T12:06:58.795666Z",
     "start_time": "2019-11-23T12:06:58.651774Z"
    }
   },
   "outputs": [
    {
     "name": "stdout",
     "output_type": "stream",
     "text": [
      "2340\n"
     ]
    }
   ],
   "source": [
    "\n",
    "count = 0\n",
    "for row in target_pred_df.itertuples():\n",
    "    if (row.pid3_2016 == 2): #and (row.y_pred == 0):\n",
    "        count +=1\n",
    "print(count)\n"
   ]
  },
  {
   "cell_type": "markdown",
   "metadata": {},
   "source": [
    "## Logistic regression"
   ]
  },
  {
   "cell_type": "code",
   "execution_count": 30,
   "metadata": {
    "ExecuteTime": {
     "end_time": "2019-11-23T12:07:10.866304Z",
     "start_time": "2019-11-23T12:07:10.860417Z"
    }
   },
   "outputs": [],
   "source": [
    "from sklearn.linear_model import LogisticRegression\n",
    "from sklearn.metrics import confusion_matrix"
   ]
  },
  {
   "cell_type": "code",
   "execution_count": 31,
   "metadata": {
    "ExecuteTime": {
     "end_time": "2019-11-23T12:07:11.994086Z",
     "start_time": "2019-11-23T12:07:11.970214Z"
    }
   },
   "outputs": [
    {
     "data": {
      "text/html": [
       "<div>\n",
       "<style scoped>\n",
       "    .dataframe tbody tr th:only-of-type {\n",
       "        vertical-align: middle;\n",
       "    }\n",
       "\n",
       "    .dataframe tbody tr th {\n",
       "        vertical-align: top;\n",
       "    }\n",
       "\n",
       "    .dataframe thead th {\n",
       "        text-align: right;\n",
       "    }\n",
       "</style>\n",
       "<table border=\"1\" class=\"dataframe\">\n",
       "  <thead>\n",
       "    <tr style=\"text-align: right;\">\n",
       "      <th></th>\n",
       "      <th>imiss_a_2016_0.0</th>\n",
       "      <th>imiss_a_2016_1.0</th>\n",
       "      <th>imiss_a_2016_2.0</th>\n",
       "      <th>imiss_a_2016_3.0</th>\n",
       "      <th>imiss_a_2016_4.0</th>\n",
       "      <th>imiss_b_2016_0.0</th>\n",
       "      <th>imiss_b_2016_1.0</th>\n",
       "      <th>imiss_b_2016_2.0</th>\n",
       "      <th>imiss_b_2016_3.0</th>\n",
       "      <th>imiss_b_2016_4.0</th>\n",
       "      <th>...</th>\n",
       "      <th>imiss_x_2016_0.0</th>\n",
       "      <th>imiss_x_2016_1.0</th>\n",
       "      <th>imiss_x_2016_2.0</th>\n",
       "      <th>imiss_x_2016_3.0</th>\n",
       "      <th>imiss_x_2016_4.0</th>\n",
       "      <th>imiss_y_2016_0.0</th>\n",
       "      <th>imiss_y_2016_1.0</th>\n",
       "      <th>imiss_y_2016_2.0</th>\n",
       "      <th>imiss_y_2016_3.0</th>\n",
       "      <th>imiss_y_2016_4.0</th>\n",
       "    </tr>\n",
       "  </thead>\n",
       "  <tbody>\n",
       "    <tr>\n",
       "      <th>0</th>\n",
       "      <td>0</td>\n",
       "      <td>0</td>\n",
       "      <td>1</td>\n",
       "      <td>0</td>\n",
       "      <td>0</td>\n",
       "      <td>0</td>\n",
       "      <td>0</td>\n",
       "      <td>1</td>\n",
       "      <td>0</td>\n",
       "      <td>0</td>\n",
       "      <td>...</td>\n",
       "      <td>0</td>\n",
       "      <td>1</td>\n",
       "      <td>0</td>\n",
       "      <td>0</td>\n",
       "      <td>0</td>\n",
       "      <td>0</td>\n",
       "      <td>1</td>\n",
       "      <td>0</td>\n",
       "      <td>0</td>\n",
       "      <td>0</td>\n",
       "    </tr>\n",
       "    <tr>\n",
       "      <th>1</th>\n",
       "      <td>0</td>\n",
       "      <td>1</td>\n",
       "      <td>0</td>\n",
       "      <td>0</td>\n",
       "      <td>0</td>\n",
       "      <td>0</td>\n",
       "      <td>1</td>\n",
       "      <td>0</td>\n",
       "      <td>0</td>\n",
       "      <td>0</td>\n",
       "      <td>...</td>\n",
       "      <td>0</td>\n",
       "      <td>0</td>\n",
       "      <td>0</td>\n",
       "      <td>1</td>\n",
       "      <td>0</td>\n",
       "      <td>0</td>\n",
       "      <td>0</td>\n",
       "      <td>0</td>\n",
       "      <td>0</td>\n",
       "      <td>1</td>\n",
       "    </tr>\n",
       "    <tr>\n",
       "      <th>2</th>\n",
       "      <td>0</td>\n",
       "      <td>1</td>\n",
       "      <td>0</td>\n",
       "      <td>0</td>\n",
       "      <td>0</td>\n",
       "      <td>0</td>\n",
       "      <td>1</td>\n",
       "      <td>0</td>\n",
       "      <td>0</td>\n",
       "      <td>0</td>\n",
       "      <td>...</td>\n",
       "      <td>0</td>\n",
       "      <td>1</td>\n",
       "      <td>0</td>\n",
       "      <td>0</td>\n",
       "      <td>0</td>\n",
       "      <td>0</td>\n",
       "      <td>0</td>\n",
       "      <td>1</td>\n",
       "      <td>0</td>\n",
       "      <td>0</td>\n",
       "    </tr>\n",
       "    <tr>\n",
       "      <th>3</th>\n",
       "      <td>0</td>\n",
       "      <td>1</td>\n",
       "      <td>0</td>\n",
       "      <td>0</td>\n",
       "      <td>0</td>\n",
       "      <td>0</td>\n",
       "      <td>0</td>\n",
       "      <td>1</td>\n",
       "      <td>0</td>\n",
       "      <td>0</td>\n",
       "      <td>...</td>\n",
       "      <td>0</td>\n",
       "      <td>0</td>\n",
       "      <td>1</td>\n",
       "      <td>0</td>\n",
       "      <td>0</td>\n",
       "      <td>0</td>\n",
       "      <td>0</td>\n",
       "      <td>0</td>\n",
       "      <td>1</td>\n",
       "      <td>0</td>\n",
       "    </tr>\n",
       "    <tr>\n",
       "      <th>4</th>\n",
       "      <td>0</td>\n",
       "      <td>1</td>\n",
       "      <td>0</td>\n",
       "      <td>0</td>\n",
       "      <td>0</td>\n",
       "      <td>0</td>\n",
       "      <td>1</td>\n",
       "      <td>0</td>\n",
       "      <td>0</td>\n",
       "      <td>0</td>\n",
       "      <td>...</td>\n",
       "      <td>0</td>\n",
       "      <td>1</td>\n",
       "      <td>0</td>\n",
       "      <td>0</td>\n",
       "      <td>0</td>\n",
       "      <td>0</td>\n",
       "      <td>1</td>\n",
       "      <td>0</td>\n",
       "      <td>0</td>\n",
       "      <td>0</td>\n",
       "    </tr>\n",
       "  </tbody>\n",
       "</table>\n",
       "<p>5 rows × 115 columns</p>\n",
       "</div>"
      ],
      "text/plain": [
       "   imiss_a_2016_0.0  imiss_a_2016_1.0  imiss_a_2016_2.0  imiss_a_2016_3.0  \\\n",
       "0                 0                 0                 1                 0   \n",
       "1                 0                 1                 0                 0   \n",
       "2                 0                 1                 0                 0   \n",
       "3                 0                 1                 0                 0   \n",
       "4                 0                 1                 0                 0   \n",
       "\n",
       "   imiss_a_2016_4.0  imiss_b_2016_0.0  imiss_b_2016_1.0  imiss_b_2016_2.0  \\\n",
       "0                 0                 0                 0                 1   \n",
       "1                 0                 0                 1                 0   \n",
       "2                 0                 0                 1                 0   \n",
       "3                 0                 0                 0                 1   \n",
       "4                 0                 0                 1                 0   \n",
       "\n",
       "   imiss_b_2016_3.0  imiss_b_2016_4.0  ...  imiss_x_2016_0.0  \\\n",
       "0                 0                 0  ...                 0   \n",
       "1                 0                 0  ...                 0   \n",
       "2                 0                 0  ...                 0   \n",
       "3                 0                 0  ...                 0   \n",
       "4                 0                 0  ...                 0   \n",
       "\n",
       "   imiss_x_2016_1.0  imiss_x_2016_2.0  imiss_x_2016_3.0  imiss_x_2016_4.0  \\\n",
       "0                 1                 0                 0                 0   \n",
       "1                 0                 0                 1                 0   \n",
       "2                 1                 0                 0                 0   \n",
       "3                 0                 1                 0                 0   \n",
       "4                 1                 0                 0                 0   \n",
       "\n",
       "   imiss_y_2016_0.0  imiss_y_2016_1.0  imiss_y_2016_2.0  imiss_y_2016_3.0  \\\n",
       "0                 0                 1                 0                 0   \n",
       "1                 0                 0                 0                 0   \n",
       "2                 0                 0                 1                 0   \n",
       "3                 0                 0                 0                 1   \n",
       "4                 0                 1                 0                 0   \n",
       "\n",
       "   imiss_y_2016_4.0  \n",
       "0                 0  \n",
       "1                 1  \n",
       "2                 0  \n",
       "3                 0  \n",
       "4                 0  \n",
       "\n",
       "[5 rows x 115 columns]"
      ]
     },
     "execution_count": 31,
     "metadata": {},
     "output_type": "execute_result"
    }
   ],
   "source": [
    "X = df_predictors\n",
    "y = df_target\n",
    "X.head()"
   ]
  },
  {
   "cell_type": "code",
   "execution_count": 32,
   "metadata": {
    "ExecuteTime": {
     "end_time": "2019-11-23T12:07:12.678405Z",
     "start_time": "2019-11-23T12:07:12.640427Z"
    }
   },
   "outputs": [
    {
     "data": {
      "text/plain": [
       "pid3_2016    0\n",
       "dtype: int64"
      ]
     },
     "execution_count": 32,
     "metadata": {},
     "output_type": "execute_result"
    }
   ],
   "source": [
    "X.isna().sum().any()\n",
    "y.isna().sum()"
   ]
  },
  {
   "cell_type": "code",
   "execution_count": 33,
   "metadata": {
    "ExecuteTime": {
     "end_time": "2019-11-23T12:07:13.554062Z",
     "start_time": "2019-11-23T12:07:13.549698Z"
    }
   },
   "outputs": [],
   "source": [
    "y = y.fillna(0)\n",
    "y = np.ravel(y)"
   ]
  },
  {
   "cell_type": "code",
   "execution_count": 34,
   "metadata": {
    "ExecuteTime": {
     "end_time": "2019-11-23T12:07:13.957674Z",
     "start_time": "2019-11-23T12:07:13.926646Z"
    }
   },
   "outputs": [],
   "source": [
    "X_train, X_test, y_train, y_test = train_test_split(X, \n",
    "                                                    y,\n",
    "                                                    test_size = 0.2, \n",
    "                                                    stratify=y)"
   ]
  },
  {
   "cell_type": "code",
   "execution_count": 35,
   "metadata": {
    "ExecuteTime": {
     "end_time": "2019-11-23T12:07:16.714121Z",
     "start_time": "2019-11-23T12:07:14.511689Z"
    }
   },
   "outputs": [],
   "source": [
    "lr = LogisticRegression(C=2, penalty='l2', \n",
    "                        solver='lbfgs', \n",
    "                        multi_class='auto', \n",
    "                        max_iter=1000)\n",
    "lr.fit(X_train, y_train)\n",
    "y_pred_test = lr.predict(X_test)"
   ]
  },
  {
   "cell_type": "code",
   "execution_count": 36,
   "metadata": {
    "ExecuteTime": {
     "end_time": "2019-11-23T12:07:16.727628Z",
     "start_time": "2019-11-23T12:07:16.716500Z"
    }
   },
   "outputs": [
    {
     "data": {
      "text/plain": [
       "Index(['pid3_2016'], dtype='object')"
      ]
     },
     "execution_count": 36,
     "metadata": {},
     "output_type": "execute_result"
    }
   ],
   "source": [
    "df_target.columns"
   ]
  },
  {
   "cell_type": "code",
   "execution_count": 39,
   "metadata": {
    "ExecuteTime": {
     "end_time": "2019-11-23T12:08:26.919899Z",
     "start_time": "2019-11-23T12:08:26.902645Z"
    }
   },
   "outputs": [
    {
     "data": {
      "text/html": [
       "<div>\n",
       "<style scoped>\n",
       "    .dataframe tbody tr th:only-of-type {\n",
       "        vertical-align: middle;\n",
       "    }\n",
       "\n",
       "    .dataframe tbody tr th {\n",
       "        vertical-align: top;\n",
       "    }\n",
       "\n",
       "    .dataframe thead th {\n",
       "        text-align: right;\n",
       "    }\n",
       "</style>\n",
       "<table border=\"1\" class=\"dataframe\">\n",
       "  <thead>\n",
       "    <tr style=\"text-align: right;\">\n",
       "      <th></th>\n",
       "      <th>0</th>\n",
       "      <th>1</th>\n",
       "      <th>2</th>\n",
       "      <th>3</th>\n",
       "      <th>4</th>\n",
       "    </tr>\n",
       "  </thead>\n",
       "  <tbody>\n",
       "    <tr>\n",
       "      <th>0</th>\n",
       "      <td>481</td>\n",
       "      <td>22</td>\n",
       "      <td>71</td>\n",
       "      <td>0</td>\n",
       "      <td>2</td>\n",
       "    </tr>\n",
       "    <tr>\n",
       "      <th>1</th>\n",
       "      <td>63</td>\n",
       "      <td>300</td>\n",
       "      <td>100</td>\n",
       "      <td>5</td>\n",
       "      <td>0</td>\n",
       "    </tr>\n",
       "    <tr>\n",
       "      <th>2</th>\n",
       "      <td>177</td>\n",
       "      <td>206</td>\n",
       "      <td>111</td>\n",
       "      <td>4</td>\n",
       "      <td>0</td>\n",
       "    </tr>\n",
       "    <tr>\n",
       "      <th>3</th>\n",
       "      <td>17</td>\n",
       "      <td>13</td>\n",
       "      <td>8</td>\n",
       "      <td>0</td>\n",
       "      <td>0</td>\n",
       "    </tr>\n",
       "    <tr>\n",
       "      <th>4</th>\n",
       "      <td>9</td>\n",
       "      <td>5</td>\n",
       "      <td>6</td>\n",
       "      <td>0</td>\n",
       "      <td>0</td>\n",
       "    </tr>\n",
       "  </tbody>\n",
       "</table>\n",
       "</div>"
      ],
      "text/plain": [
       "     0    1    2  3  4\n",
       "0  481   22   71  0  2\n",
       "1   63  300  100  5  0\n",
       "2  177  206  111  4  0\n",
       "3   17   13    8  0  0\n",
       "4    9    5    6  0  0"
      ]
     },
     "execution_count": 39,
     "metadata": {},
     "output_type": "execute_result"
    }
   ],
   "source": [
    "cm = confusion_matrix(y_test, y_pred_test)\n",
    "conf_matrix = pd.DataFrame(cm, index=['0','1','2','3','4'], \n",
    "                           columns=['0','1','2','3','4'])\n",
    "\n",
    "\n",
    "conf_matrix"
   ]
  },
  {
   "cell_type": "code",
   "execution_count": 42,
   "metadata": {
    "ExecuteTime": {
     "end_time": "2019-11-23T12:09:04.792071Z",
     "start_time": "2019-11-23T12:09:04.736774Z"
    }
   },
   "outputs": [
    {
     "data": {
      "text/plain": [
       "0.6410256410256411"
      ]
     },
     "execution_count": 42,
     "metadata": {},
     "output_type": "execute_result"
    }
   ],
   "source": [
    "# correct \n",
    "correct = cm[1][1]\n",
    "total = sum(cm[1])\n",
    "pred_correct = correct/total\n",
    "pred_correct"
   ]
  },
  {
   "cell_type": "code",
   "execution_count": 43,
   "metadata": {
    "ExecuteTime": {
     "end_time": "2019-11-23T12:09:05.512852Z",
     "start_time": "2019-11-23T12:09:05.503115Z"
    }
   },
   "outputs": [
    {
     "data": {
      "text/plain": [
       "0.22289156626506024"
      ]
     },
     "execution_count": 43,
     "metadata": {},
     "output_type": "execute_result"
    }
   ],
   "source": [
    "# correct \n",
    "correct = cm[2][2]\n",
    "total = sum(cm[2])\n",
    "pred_correct = correct/total\n",
    "pred_correct"
   ]
  },
  {
   "cell_type": "code",
   "execution_count": 44,
   "metadata": {
    "ExecuteTime": {
     "end_time": "2019-11-23T12:09:06.079209Z",
     "start_time": "2019-11-23T12:09:06.071654Z"
    }
   },
   "outputs": [
    {
     "data": {
      "text/plain": [
       "115"
      ]
     },
     "execution_count": 44,
     "metadata": {},
     "output_type": "execute_result"
    }
   ],
   "source": [
    "len(lr.coef_[1])"
   ]
  },
  {
   "cell_type": "code",
   "execution_count": 39,
   "metadata": {
    "ExecuteTime": {
     "end_time": "2019-11-23T11:40:39.112844Z",
     "start_time": "2019-11-23T11:40:39.101755Z"
    }
   },
   "outputs": [
    {
     "data": {
      "text/plain": [
       "{'imiss_a_2016_0.0': -0.10404943923081895,\n",
       " 'imiss_a_2016_1.0': 0.24291226743981922,\n",
       " 'imiss_a_2016_2.0': 0.052454660109609245,\n",
       " 'imiss_a_2016_3.0': -0.29717277119798446,\n",
       " 'imiss_a_2016_4.0': 0.10704905782829288,\n",
       " 'imiss_b_2016_0.0': -0.4615256539571386,\n",
       " 'imiss_b_2016_1.0': -0.30731225914731,\n",
       " 'imiss_b_2016_2.0': 0.05347887370036297,\n",
       " 'imiss_b_2016_3.0': 0.4948771019259455,\n",
       " 'imiss_b_2016_4.0': 0.2216757124270555,\n",
       " 'imiss_c_2016_0.0': 0.19465896217776532,\n",
       " 'imiss_c_2016_1.0': 0.08635564123587226,\n",
       " 'imiss_c_2016_2.0': -0.3811358771341699,\n",
       " 'imiss_c_2016_3.0': -0.233542956069862,\n",
       " 'imiss_c_2016_4.0': 0.334858004739315,\n",
       " 'imiss_d_2016_0.0': -0.29704777907230845,\n",
       " 'imiss_d_2016_1.0': 0.28875836727032816,\n",
       " 'imiss_d_2016_2.0': 0.0569467081474142,\n",
       " 'imiss_d_2016_3.0': -0.025042447137693945,\n",
       " 'imiss_d_2016_4.0': -0.02242107425882628,\n",
       " 'imiss_e_2016_0.0': -0.12026786799092809,\n",
       " 'imiss_e_2016_1.0': -0.23658352569064514,\n",
       " 'imiss_e_2016_2.0': 0.09550461315036,\n",
       " 'imiss_e_2016_3.0': -0.02158305792583396,\n",
       " 'imiss_e_2016_4.0': 0.2841236134059594,\n",
       " 'imiss_f_2016_0.0': -0.27181017507459077,\n",
       " 'imiss_f_2016_1.0': -0.1874658865745534,\n",
       " 'imiss_f_2016_2.0': 0.019125644291823018,\n",
       " 'imiss_f_2016_3.0': 0.1753808078659367,\n",
       " 'imiss_f_2016_4.0': 0.26596338444029344,\n",
       " 'imiss_g_2016_0.0': 0.1517845747065803,\n",
       " 'imiss_g_2016_1.0': -0.038994650921535985,\n",
       " 'imiss_g_2016_2.0': -0.34948584103433755,\n",
       " 'imiss_g_2016_3.0': -0.11410650155367515,\n",
       " 'imiss_g_2016_4.0': 0.35199619375188285,\n",
       " 'imiss_h_2016_0.0': 0.7459408259360292,\n",
       " 'imiss_h_2016_1.0': -0.27426409606120616,\n",
       " 'imiss_h_2016_2.0': -0.06734844798181217,\n",
       " 'imiss_h_2016_3.0': -0.22640261587025207,\n",
       " 'imiss_h_2016_4.0': -0.176731891073844,\n",
       " 'imiss_i_2016_0.0': -0.17135847022688153,\n",
       " 'imiss_i_2016_1.0': 0.17663489533210186,\n",
       " 'imiss_i_2016_2.0': 0.2524711803488112,\n",
       " 'imiss_i_2016_3.0': -0.11691308605589537,\n",
       " 'imiss_i_2016_4.0': -0.13964074444922317,\n",
       " 'imiss_j_2016_0.0': 0.3959938874946134,\n",
       " 'imiss_j_2016_1.0': -0.1138560849783276,\n",
       " 'imiss_j_2016_2.0': -0.15985824591388498,\n",
       " 'imiss_j_2016_3.0': -0.6118949567774257,\n",
       " 'imiss_j_2016_4.0': 0.4908091751239481,\n",
       " 'imiss_k_2016_0.0': 0.18613950862823458,\n",
       " 'imiss_k_2016_1.0': -0.2962807383467763,\n",
       " 'imiss_k_2016_2.0': -0.08691139150452337,\n",
       " 'imiss_k_2016_3.0': -0.0379827929634748,\n",
       " 'imiss_k_2016_4.0': 0.2362291891354535,\n",
       " 'imiss_l_2016_0.0': 0.06164098211911333,\n",
       " 'imiss_l_2016_1.0': -0.021866847342391776,\n",
       " 'imiss_l_2016_2.0': -0.0694039624238222,\n",
       " 'imiss_l_2016_3.0': -0.11660496596915153,\n",
       " 'imiss_l_2016_4.0': 0.1474285685651671,\n",
       " 'imiss_m_2016_0.0': -0.2756968514951632,\n",
       " 'imiss_m_2016_1.0': 0.3812365280416453,\n",
       " 'imiss_m_2016_2.0': 0.1174926252369214,\n",
       " 'imiss_m_2016_3.0': 0.3772902139019555,\n",
       " 'imiss_m_2016_4.0': -0.5991287407364483,\n",
       " 'imiss_n_2016_0.0': -0.029827040171277193,\n",
       " 'imiss_n_2016_1.0': -0.4250991795150185,\n",
       " 'imiss_n_2016_2.0': -0.058753325136357185,\n",
       " 'imiss_n_2016_3.0': -0.15631903966897118,\n",
       " 'imiss_n_2016_4.0': 0.6711923594405411,\n",
       " 'imiss_o_2016_0.0': 0.031733210941554034,\n",
       " 'imiss_o_2016_1.0': 0.03579746212848526,\n",
       " 'imiss_o_2016_2.0': -0.13854735330657464,\n",
       " 'imiss_o_2016_3.0': 0.19323878555710247,\n",
       " 'imiss_o_2016_4.0': -0.12102833037165521,\n",
       " 'imiss_p_2016_0.0': -0.3125060288637581,\n",
       " 'imiss_p_2016_1.0': -0.1640443283856715,\n",
       " 'imiss_p_2016_2.0': 0.10817151064777643,\n",
       " 'imiss_p_2016_3.0': 0.07246759627515599,\n",
       " 'imiss_p_2016_4.0': 0.2971050252754135,\n",
       " 'imiss_q_2016_0.0': -0.19301640964011108,\n",
       " 'imiss_q_2016_1.0': 0.09999405515677709,\n",
       " 'imiss_q_2016_2.0': -0.06615526773893572,\n",
       " 'imiss_q_2016_3.0': -0.15805064656430137,\n",
       " 'imiss_q_2016_4.0': 0.3184220437354886,\n",
       " 'imiss_r_2016_0.0': 0.24796526409538486,\n",
       " 'imiss_r_2016_1.0': 0.11709686791398562,\n",
       " 'imiss_r_2016_2.0': -0.21718429616670273,\n",
       " 'imiss_r_2016_3.0': -0.4111069026202958,\n",
       " 'imiss_r_2016_4.0': 0.26442284172655134,\n",
       " 'imiss_s_2016_0.0': -0.30129315284719116,\n",
       " 'imiss_s_2016_1.0': 0.1677021708808427,\n",
       " 'imiss_s_2016_2.0': 0.17358642370028116,\n",
       " 'imiss_s_2016_3.0': 0.24795764151628183,\n",
       " 'imiss_s_2016_4.0': -0.2867593083012834,\n",
       " 'imiss_t_2016_0.0': -0.2893860945646627,\n",
       " 'imiss_t_2016_1.0': -0.09420675575420837,\n",
       " 'imiss_t_2016_2.0': -0.026210399627409862,\n",
       " 'imiss_t_2016_3.0': 0.12417991150379455,\n",
       " 'imiss_t_2016_4.0': 0.28681711339140087,\n",
       " 'imiss_u_2016_0.0': 0.5045383800518086,\n",
       " 'imiss_u_2016_1.0': -0.31859843568265805,\n",
       " 'imiss_u_2016_2.0': -0.14683428195098597,\n",
       " 'imiss_u_2016_3.0': 0.26467696192384405,\n",
       " 'imiss_u_2016_4.0': -0.3025888493930786,\n",
       " 'imiss_x_2016_0.0': -0.03362757251535358,\n",
       " 'imiss_x_2016_1.0': 0.051009910747426515,\n",
       " 'imiss_x_2016_2.0': 0.018009034761874765,\n",
       " 'imiss_x_2016_3.0': -0.015734243214752783,\n",
       " 'imiss_x_2016_4.0': -0.018463354830281553,\n",
       " 'imiss_y_2016_0.0': 0.06751624229772413,\n",
       " 'imiss_y_2016_1.0': 0.14421569995211356,\n",
       " 'imiss_y_2016_2.0': -0.04681740469982748,\n",
       " 'imiss_y_2016_3.0': 0.018936541040115214,\n",
       " 'imiss_y_2016_4.0': -0.18265730364121877}"
      ]
     },
     "execution_count": 39,
     "metadata": {},
     "output_type": "execute_result"
    }
   ],
   "source": [
    "coef_dict = dict(zip(X.columns, lr.coef_[0]))\n",
    "coef_dict"
   ]
  },
  {
   "cell_type": "markdown",
   "metadata": {},
   "source": [
    "## Feature importance"
   ]
  },
  {
   "cell_type": "code",
   "execution_count": 45,
   "metadata": {
    "ExecuteTime": {
     "end_time": "2019-11-23T12:11:20.650087Z",
     "start_time": "2019-11-23T12:09:21.242679Z"
    }
   },
   "outputs": [],
   "source": [
    "from sklearn.feature_selection import RFE\n",
    "predictors = X_train\n",
    "selector = RFE(lr, n_features_to_select=1)\n",
    "selector = selector.fit(predictors, y_train)"
   ]
  },
  {
   "cell_type": "code",
   "execution_count": 46,
   "metadata": {
    "ExecuteTime": {
     "end_time": "2019-11-23T12:11:51.679917Z",
     "start_time": "2019-11-23T12:11:51.671248Z"
    }
   },
   "outputs": [
    {
     "data": {
      "text/plain": [
       "115"
      ]
     },
     "execution_count": 46,
     "metadata": {},
     "output_type": "execute_result"
    }
   ],
   "source": [
    "len(X_train.columns)"
   ]
  },
  {
   "cell_type": "code",
   "execution_count": 47,
   "metadata": {
    "ExecuteTime": {
     "end_time": "2019-11-23T12:11:52.877135Z",
     "start_time": "2019-11-23T12:11:52.869578Z"
    }
   },
   "outputs": [
    {
     "data": {
      "text/plain": [
       "array([102,  59,  60,  92,  15,  46,  29,  30,  67,   2,  34,  57,  52,\n",
       "       103,  35,  69,  39, 115, 100,  86,  36,  83,  82,  48,  10,  12,\n",
       "        13,  14,  44,  71,  64,  16, 114,  41,  65,  28,  98,  99,  97,\n",
       "        18,  95,  37,  87,   7, 108,  76,  74, 113,  31,  21,  58,  54,\n",
       "        85,  27, 109,  43,  38,   6,   3,   1, 101,  25, 105, 112,  79,\n",
       "        55,  88,  89,  42,  11,  22,   8,   9,  40,  20,  45,  56,  75,\n",
       "       104,   4,  50,  96,  81,  80, 107,  68,  61,  93,  33,  19,  63,\n",
       "        53,  94,  73,  24,  51,  91, 110, 111,  78,  49,  23,  26,  70,\n",
       "        32,  77,  47, 106,  72,  17,   5,  84,  90,  66,  62])"
      ]
     },
     "execution_count": 47,
     "metadata": {},
     "output_type": "execute_result"
    }
   ],
   "source": [
    "order = selector.ranking_\n",
    "len(order)\n",
    "order"
   ]
  },
  {
   "cell_type": "code",
   "execution_count": 48,
   "metadata": {
    "ExecuteTime": {
     "end_time": "2019-11-23T12:11:54.865268Z",
     "start_time": "2019-11-23T12:11:54.857391Z"
    }
   },
   "outputs": [
    {
     "data": {
      "text/plain": [
       "Index(['imiss_a_2016_0.0', 'imiss_a_2016_1.0', 'imiss_a_2016_2.0',\n",
       "       'imiss_a_2016_3.0', 'imiss_a_2016_4.0', 'imiss_b_2016_0.0',\n",
       "       'imiss_b_2016_1.0', 'imiss_b_2016_2.0', 'imiss_b_2016_3.0',\n",
       "       'imiss_b_2016_4.0',\n",
       "       ...\n",
       "       'imiss_x_2016_0.0', 'imiss_x_2016_1.0', 'imiss_x_2016_2.0',\n",
       "       'imiss_x_2016_3.0', 'imiss_x_2016_4.0', 'imiss_y_2016_0.0',\n",
       "       'imiss_y_2016_1.0', 'imiss_y_2016_2.0', 'imiss_y_2016_3.0',\n",
       "       'imiss_y_2016_4.0'],\n",
       "      dtype='object', length=115)"
      ]
     },
     "execution_count": 48,
     "metadata": {},
     "output_type": "execute_result"
    }
   ],
   "source": [
    "df_predictors.columns"
   ]
  },
  {
   "cell_type": "code",
   "execution_count": 49,
   "metadata": {
    "ExecuteTime": {
     "end_time": "2019-11-23T12:12:05.630526Z",
     "start_time": "2019-11-23T12:12:01.914625Z"
    }
   },
   "outputs": [],
   "source": [
    "for i in df_predictors.index:\n",
    "    rank = np.array(order)\n",
    "    feat = np.array(df_predictors.columns)\n",
    "    rank_feat = pd.DataFrame(rank,feat, columns=['rank'])"
   ]
  },
  {
   "cell_type": "code",
   "execution_count": 51,
   "metadata": {
    "ExecuteTime": {
     "end_time": "2019-11-23T12:12:08.878731Z",
     "start_time": "2019-11-23T12:12:08.866404Z"
    }
   },
   "outputs": [
    {
     "data": {
      "text/html": [
       "<div>\n",
       "<style scoped>\n",
       "    .dataframe tbody tr th:only-of-type {\n",
       "        vertical-align: middle;\n",
       "    }\n",
       "\n",
       "    .dataframe tbody tr th {\n",
       "        vertical-align: top;\n",
       "    }\n",
       "\n",
       "    .dataframe thead th {\n",
       "        text-align: right;\n",
       "    }\n",
       "</style>\n",
       "<table border=\"1\" class=\"dataframe\">\n",
       "  <thead>\n",
       "    <tr style=\"text-align: right;\">\n",
       "      <th></th>\n",
       "      <th>rank</th>\n",
       "    </tr>\n",
       "  </thead>\n",
       "  <tbody>\n",
       "    <tr>\n",
       "      <th>imiss_l_2016_4.0</th>\n",
       "      <td>1</td>\n",
       "    </tr>\n",
       "    <tr>\n",
       "      <th>imiss_b_2016_4.0</th>\n",
       "      <td>2</td>\n",
       "    </tr>\n",
       "    <tr>\n",
       "      <th>imiss_l_2016_3.0</th>\n",
       "      <td>3</td>\n",
       "    </tr>\n",
       "    <tr>\n",
       "      <th>imiss_p_2016_4.0</th>\n",
       "      <td>4</td>\n",
       "    </tr>\n",
       "    <tr>\n",
       "      <th>imiss_y_2016_0.0</th>\n",
       "      <td>5</td>\n",
       "    </tr>\n",
       "    <tr>\n",
       "      <th>imiss_l_2016_2.0</th>\n",
       "      <td>6</td>\n",
       "    </tr>\n",
       "    <tr>\n",
       "      <th>imiss_i_2016_3.0</th>\n",
       "      <td>7</td>\n",
       "    </tr>\n",
       "    <tr>\n",
       "      <th>imiss_o_2016_1.0</th>\n",
       "      <td>8</td>\n",
       "    </tr>\n",
       "    <tr>\n",
       "      <th>imiss_o_2016_2.0</th>\n",
       "      <td>9</td>\n",
       "    </tr>\n",
       "    <tr>\n",
       "      <th>imiss_e_2016_4.0</th>\n",
       "      <td>10</td>\n",
       "    </tr>\n",
       "  </tbody>\n",
       "</table>\n",
       "</div>"
      ],
      "text/plain": [
       "                  rank\n",
       "imiss_l_2016_4.0     1\n",
       "imiss_b_2016_4.0     2\n",
       "imiss_l_2016_3.0     3\n",
       "imiss_p_2016_4.0     4\n",
       "imiss_y_2016_0.0     5\n",
       "imiss_l_2016_2.0     6\n",
       "imiss_i_2016_3.0     7\n",
       "imiss_o_2016_1.0     8\n",
       "imiss_o_2016_2.0     9\n",
       "imiss_e_2016_4.0    10"
      ]
     },
     "execution_count": 51,
     "metadata": {},
     "output_type": "execute_result"
    }
   ],
   "source": [
    "rank_feat.sort_values(by='rank').head(10)"
   ]
  },
  {
   "cell_type": "markdown",
   "metadata": {},
   "source": [
    "## Cross-validation"
   ]
  },
  {
   "cell_type": "code",
   "execution_count": 52,
   "metadata": {
    "ExecuteTime": {
     "end_time": "2019-11-23T12:13:07.697297Z",
     "start_time": "2019-11-23T12:13:07.693012Z"
    }
   },
   "outputs": [],
   "source": [
    "from sklearn.model_selection import cross_val_score"
   ]
  },
  {
   "cell_type": "code",
   "execution_count": 56,
   "metadata": {
    "ExecuteTime": {
     "end_time": "2019-11-23T12:13:49.838417Z",
     "start_time": "2019-11-23T12:13:49.792039Z"
    }
   },
   "outputs": [
    {
     "data": {
      "text/plain": [
       "False"
      ]
     },
     "execution_count": 56,
     "metadata": {},
     "output_type": "execute_result"
    }
   ],
   "source": [
    "X.isna().sum().any()"
   ]
  },
  {
   "cell_type": "code",
   "execution_count": 57,
   "metadata": {
    "ExecuteTime": {
     "end_time": "2019-11-23T12:13:50.491876Z",
     "start_time": "2019-11-23T12:13:50.483975Z"
    }
   },
   "outputs": [
    {
     "data": {
      "text/plain": [
       "(8000,)"
      ]
     },
     "execution_count": 57,
     "metadata": {},
     "output_type": "execute_result"
    }
   ],
   "source": [
    "y = np.ravel(y)\n",
    "y.shape"
   ]
  },
  {
   "cell_type": "code",
   "execution_count": 58,
   "metadata": {
    "ExecuteTime": {
     "end_time": "2019-11-23T12:14:02.398050Z",
     "start_time": "2019-11-23T12:13:51.313841Z"
    }
   },
   "outputs": [],
   "source": [
    "scores = cross_val_score(lr, X, y, cv=5)"
   ]
  },
  {
   "cell_type": "code",
   "execution_count": 59,
   "metadata": {
    "ExecuteTime": {
     "end_time": "2019-11-23T12:14:04.172241Z",
     "start_time": "2019-11-23T12:14:04.165866Z"
    }
   },
   "outputs": [
    {
     "data": {
      "text/plain": [
       "array([0.60149906, 0.565625  , 0.57125   , 0.535     , 0.54346467])"
      ]
     },
     "execution_count": 59,
     "metadata": {},
     "output_type": "execute_result"
    }
   ],
   "source": [
    "scores"
   ]
  },
  {
   "cell_type": "code",
   "execution_count": null,
   "metadata": {},
   "outputs": [],
   "source": []
  }
 ],
 "metadata": {
  "kernelspec": {
   "display_name": "Python 3",
   "language": "python",
   "name": "python3"
  },
  "language_info": {
   "codemirror_mode": {
    "name": "ipython",
    "version": 3
   },
   "file_extension": ".py",
   "mimetype": "text/x-python",
   "name": "python",
   "nbconvert_exporter": "python",
   "pygments_lexer": "ipython3",
   "version": "3.7.3"
  },
  "toc": {
   "base_numbering": 1,
   "nav_menu": {},
   "number_sections": true,
   "sideBar": true,
   "skip_h1_title": false,
   "title_cell": "Table of Contents",
   "title_sidebar": "Contents",
   "toc_cell": false,
   "toc_position": {},
   "toc_section_display": true,
   "toc_window_display": false
  }
 },
 "nbformat": 4,
 "nbformat_minor": 2
}
