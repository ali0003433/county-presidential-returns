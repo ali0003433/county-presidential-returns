{
 "cells": [
  {
   "cell_type": "markdown",
   "metadata": {},
   "source": [
    "# Exploration"
   ]
  },
  {
   "cell_type": "markdown",
   "metadata": {},
   "source": [
    "Import libraries "
   ]
  },
  {
   "cell_type": "code",
   "execution_count": 58,
   "metadata": {
    "ExecuteTime": {
     "end_time": "2019-11-25T21:58:10.321676Z",
     "start_time": "2019-11-25T21:58:10.302990Z"
    }
   },
   "outputs": [],
   "source": [
    "import matplotlib.pyplot as plt\n",
    "import numpy as np\n",
    "import pandas as pd\n",
    "import pickle\n",
    "import re\n",
    "import seaborn as sns\n",
    "import weightedcalcs as wc"
   ]
  },
  {
   "cell_type": "markdown",
   "metadata": {},
   "source": [
    "Import functions from source code"
   ]
  },
  {
   "cell_type": "code",
   "execution_count": 59,
   "metadata": {
    "ExecuteTime": {
     "end_time": "2019-11-25T21:58:10.792519Z",
     "start_time": "2019-11-25T21:58:10.784517Z"
    }
   },
   "outputs": [],
   "source": [
    "import sys\n",
    "import os\n",
    "sys.path.append('../src/features')\n",
    "from build_features import filter_col_with_regex, fill_nulls, get_dummies"
   ]
  },
  {
   "cell_type": "markdown",
   "metadata": {},
   "source": [
    "<i> Each observation is matched to a sampling frame constructed by the U.S. Census Bureau’s American Community Survey and weighted by a set of demographic and non-demographic variables<i> ( [Methodology](link ) )"
   ]
  },
  {
   "cell_type": "code",
   "execution_count": 60,
   "metadata": {
    "ExecuteTime": {
     "end_time": "2019-11-25T21:58:11.496443Z",
     "start_time": "2019-11-25T21:58:11.218898Z"
    }
   },
   "outputs": [],
   "source": [
    "with open('../data/processed/df.pickle', 'rb') as file:\n",
    "    df = pickle.load(file)"
   ]
  },
  {
   "cell_type": "markdown",
   "metadata": {},
   "source": [
    "Set up function for weighting observations"
   ]
  },
  {
   "cell_type": "code",
   "execution_count": 61,
   "metadata": {
    "ExecuteTime": {
     "end_time": "2019-11-25T21:58:11.789211Z",
     "start_time": "2019-11-25T21:58:11.771023Z"
    }
   },
   "outputs": [],
   "source": [
    "weight = df['weight']\n",
    "calc = wc.Calculator('weight')"
   ]
  },
  {
   "cell_type": "markdown",
   "metadata": {},
   "source": [
    "## Explore potential targets"
   ]
  },
  {
   "cell_type": "markdown",
   "metadata": {},
   "source": [
    "<br>\n",
    "<b>Generally speaking, do you think of yourself as a ...?</b>\n",
    "    <br>(Party identification)"
   ]
  },
  {
   "cell_type": "markdown",
   "metadata": {
    "ExecuteTime": {
     "end_time": "2019-11-25T21:42:10.606060Z",
     "start_time": "2019-11-25T21:42:10.590704Z"
    }
   },
   "source": [
    "Calculate weighted distribution of responses"
   ]
  },
  {
   "cell_type": "code",
   "execution_count": 62,
   "metadata": {
    "ExecuteTime": {
     "end_time": "2019-11-25T21:58:13.297606Z",
     "start_time": "2019-11-25T21:58:13.146006Z"
    }
   },
   "outputs": [
    {
     "name": "stdout",
     "output_type": "stream",
     "text": [
      "Democrat 0.36\n",
      "Republican 0.294\n",
      "Independent 0.296\n",
      "Other 0.018\n",
      "Not Sure 0.031\n"
     ]
    }
   ],
   "source": [
    "party_freq_series = calc.distribution(df, 'pid3_2016').round(3)\n",
    "party_list = ['Democrat', 'Republican', 'Independent', 'Other', 'Not Sure']\n",
    "party_freq_dict = dict(party_freq_series)\n",
    "for ind, val in enumerate(party_freq_dict.values()):\n",
    "    print(party_list[ind], val)"
   ]
  },
  {
   "cell_type": "markdown",
   "metadata": {},
   "source": [
    "Set set colors for plot"
   ]
  },
  {
   "cell_type": "code",
   "execution_count": 63,
   "metadata": {
    "ExecuteTime": {
     "end_time": "2019-11-25T21:58:16.170433Z",
     "start_time": "2019-11-25T21:58:16.165485Z"
    }
   },
   "outputs": [],
   "source": [
    "clrs_party = ['cornflowerblue', 'tomato', 'purple', 'lightgrey', 'dimgrey']"
   ]
  },
  {
   "cell_type": "code",
   "execution_count": 64,
   "metadata": {
    "ExecuteTime": {
     "end_time": "2019-11-25T21:58:17.052822Z",
     "start_time": "2019-11-25T21:58:16.680272Z"
    }
   },
   "outputs": [
    {
     "data": {
      "image/png": "[encoded data removed]",
      "text/plain": [
       "<Figure size 576x504 with 1 Axes>"
      ]
     },
     "metadata": {
      "needs_background": "light"
     },
     "output_type": "display_data"
    }
   ],
   "source": [
    "plt.figure(figsize=(8, 7))\n",
    "bar_plot = sns.barplot(x=party_list,\n",
    "                       y=list(party_freq_series),\n",
    "                       palette=clrs_party)\n",
    "bar_plot.set_xticklabels(rotation=90, labels=party_list)\n",
    "bar_plot.set_title('Generally speaking, do you think of yourself as a ...?')\n",
    "bar_plot.set_ylabel('Weighted frequency')\n",
    "# add labels to bars\n",
    "for bar in bar_plot.patches:\n",
    "    bar_plot.annotate(format(bar.get_height(), '.3f'), (bar.get_x() + bar.get_width() / 2.,\n",
    "                                                        bar.get_height()), ha='center', va='center', xytext=(0, 10), textcoords='offset points')\n",
    "plt.show()\n"
   ]
  },
  {
   "cell_type": "markdown",
   "metadata": {
    "ExecuteTime": {
     "end_time": "2019-11-25T21:50:05.661502Z",
     "start_time": "2019-11-25T21:50:05.645340Z"
    }
   },
   "source": [
    "Which <b>features</b> are correlated with <i>party</i>?"
   ]
  },
  {
   "cell_type": "code",
   "execution_count": 65,
   "metadata": {
    "ExecuteTime": {
     "end_time": "2019-11-25T21:58:35.930925Z",
     "start_time": "2019-11-25T21:58:30.902775Z"
    }
   },
   "outputs": [
    {
     "data": {
      "text/plain": [
       "pid3_2016            1.000000\n",
       "post_pid3_2012       0.702563\n",
       "pid3_baseline        0.578848\n",
       "pid7_2016            0.504512\n",
       "post_pid7_2012       0.455840\n",
       "pp_demprim16_2016    0.455295\n",
       "pid7_baseline        0.438591\n",
       "fav_hrc_2016         0.423551\n",
       "obamaapp_2016        0.407291\n",
       "fav_obama_2016       0.379822\n",
       "Name: pid3_2016, dtype: float64"
      ]
     },
     "execution_count": 65,
     "metadata": {},
     "output_type": "execute_result"
    }
   ],
   "source": [
    "df.corr()['pid3_2016'].sort_values(ascending=False).head(10)"
   ]
  },
  {
   "cell_type": "markdown",
   "metadata": {},
   "source": [
    "<br>\n",
    "<b>Who did you vote for in the election for President?<b>"
   ]
  },
  {
   "cell_type": "markdown",
   "metadata": {
    "ExecuteTime": {
     "end_time": "2019-11-25T19:49:48.075771Z",
     "start_time": "2019-11-25T19:49:48.066204Z"
    }
   },
   "source": [
    "Calculate weighted distribution of responses"
   ]
  },
  {
   "cell_type": "code",
   "execution_count": 66,
   "metadata": {
    "ExecuteTime": {
     "end_time": "2019-11-25T21:58:46.872759Z",
     "start_time": "2019-11-25T21:58:46.856961Z"
    }
   },
   "outputs": [
    {
     "name": "stdout",
     "output_type": "stream",
     "text": [
      "Hillary Clinton 0.406\n",
      "Donald Trump 0.399\n",
      "Gary Johnson 0.027\n",
      "Jill Stein 0.012\n",
      "Evan McMullin 0.002\n",
      "Other 0.016\n",
      "Did not vote 0.008\n",
      "No Response 0.13\n"
     ]
    }
   ],
   "source": [
    "vote_freq_series = calc.distribution(df, 'presvote16post_2016').round(3)\n",
    "candidate_list = ['Hillary Clinton', 'Donald Trump', 'Gary Johnson',\n",
    "                  'Jill Stein', 'Evan McMullin', 'Other', 'Did not vote', 'No Response']\n",
    "vote_freq_dict = dict(vote_freq_series)\n",
    "for ind, val in enumerate(vote_freq_dict.values()):\n",
    "    print(candidate_list[ind], val)\n",
    "    "
   ]
  },
  {
   "cell_type": "markdown",
   "metadata": {},
   "source": [
    "Set colors and labels to plot responses"
   ]
  },
  {
   "cell_type": "code",
   "execution_count": 67,
   "metadata": {
    "ExecuteTime": {
     "end_time": "2019-11-25T21:58:48.244097Z",
     "start_time": "2019-11-25T21:58:48.237997Z"
    }
   },
   "outputs": [],
   "source": [
    "clrs = ['cornflowerblue', 'tomato', 'gold', 'lightgreen',\n",
    "        'purple', 'lightgrey', 'dimgrey', 'darkgray']\n",
    "cand_list = ['Clinton', 'Trump', 'Johnson', 'Stein',\n",
    "             'McMullin', 'Other', 'Did not vote', 'No Response', ]"
   ]
  },
  {
   "cell_type": "markdown",
   "metadata": {},
   "source": [
    "Plot responses to survey question"
   ]
  },
  {
   "cell_type": "code",
   "execution_count": 68,
   "metadata": {
    "ExecuteTime": {
     "end_time": "2019-11-25T21:58:49.456610Z",
     "start_time": "2019-11-25T21:58:49.126940Z"
    }
   },
   "outputs": [
    {
     "data": {
      "image/png": "[encoded data removed]",
      "text/plain": [
       "<Figure size 576x504 with 1 Axes>"
      ]
     },
     "metadata": {
      "needs_background": "light"
     },
     "output_type": "display_data"
    }
   ],
   "source": [
    "plt.figure(figsize=(8, 7))\n",
    "bar_plot = sns.barplot(x=cand_list,\n",
    "                       y=list(vote_freq_series),\n",
    "                       palette=clrs)\n",
    "bar_plot.set_xticklabels(rotation=90, labels=cand_list)\n",
    "bar_plot.set_title('Who did you vote for in the election for President?')\n",
    "bar_plot.set_ylabel('Weighted frequency')\n",
    "# add labels to bars\n",
    "for bar in bar_plot.patches:\n",
    "    bar_plot.annotate(format(bar.get_height(), '.3f'), (bar.get_x() + bar.get_width() / 2.,\n",
    "                                                        bar.get_height()), ha='center', va='center', xytext=(0, 10), textcoords='offset points')\n",
    "plt.show()"
   ]
  },
  {
   "cell_type": "markdown",
   "metadata": {},
   "source": [
    "Which <b>features</b> are correlated with <i>candidate</i>?"
   ]
  },
  {
   "cell_type": "code",
   "execution_count": 69,
   "metadata": {
    "ExecuteTime": {
     "end_time": "2019-11-25T21:58:56.914930Z",
     "start_time": "2019-11-25T21:58:51.871507Z"
    }
   },
   "outputs": [
    {
     "data": {
      "text/plain": [
       "presvote16post_2016        1.000000\n",
       "vote_for_against_2016      0.831710\n",
       "vote_3cat                  0.814751\n",
       "vote_regrets_2016          0.797544\n",
       "votemeth16_2016            0.677630\n",
       "accurately_counted_2016    0.650837\n",
       "turnout16_2016             0.526559\n",
       "post_presvote12_2012       0.358575\n",
       "fav_hrc_2016               0.320787\n",
       "Clinton_Cruz_2016          0.318441\n",
       "Name: presvote16post_2016, dtype: float64"
      ]
     },
     "execution_count": 69,
     "metadata": {},
     "output_type": "execute_result"
    }
   ],
   "source": [
    "df.corr()['presvote16post_2016'].sort_values(ascending=False).head(10)"
   ]
  },
  {
   "cell_type": "markdown",
   "metadata": {},
   "source": [
    "## Explore potential predictors"
   ]
  },
  {
   "cell_type": "markdown",
   "metadata": {},
   "source": [
    "Inspired by Tim Carney's <i>Alienated America</i>... <br>Which <b>community features</b> are correlated with vote selection?"
   ]
  },
  {
   "cell_type": "code",
   "execution_count": 13,
   "metadata": {
    "ExecuteTime": {
     "end_time": "2019-11-25T21:20:34.452043Z",
     "start_time": "2019-11-25T21:20:34.402428Z"
    }
   },
   "outputs": [
    {
     "name": "stdout",
     "output_type": "stream",
     "text": [
      "number of community features: 22\n"
     ]
    },
    {
     "data": {
      "text/html": [
       "<div>\n",
       "<style scoped>\n",
       "    .dataframe tbody tr th:only-of-type {\n",
       "        vertical-align: middle;\n",
       "    }\n",
       "\n",
       "    .dataframe tbody tr th {\n",
       "        vertical-align: top;\n",
       "    }\n",
       "\n",
       "    .dataframe thead th {\n",
       "        text-align: right;\n",
       "    }\n",
       "</style>\n",
       "<table border=\"1\" class=\"dataframe\">\n",
       "  <thead>\n",
       "    <tr style=\"text-align: right;\">\n",
       "      <th></th>\n",
       "      <th>volunteerorg2_1_baseline</th>\n",
       "      <th>volunteerorg2_2_baseline</th>\n",
       "      <th>volunteerorg2_3_baseline</th>\n",
       "      <th>volunteerorg2_4_baseline</th>\n",
       "      <th>volunteerorg2_5_baseline</th>\n",
       "      <th>volunteerorg2_6_baseline</th>\n",
       "      <th>volunteerorg2_7_baseline</th>\n",
       "      <th>volunteerorg2_8_baseline</th>\n",
       "      <th>volunteerorg2_9_baseline</th>\n",
       "      <th>volunteerorg2_10_baseline</th>\n",
       "      <th>...</th>\n",
       "      <th>volunteerorg2_14_baseline</th>\n",
       "      <th>volunteerorg2_15_baseline</th>\n",
       "      <th>volunteerorg2_16_baseline</th>\n",
       "      <th>volunteerorg2_17_baseline</th>\n",
       "      <th>CIVIC_PARTICIPATION_2016</th>\n",
       "      <th>pew_churatd_2016</th>\n",
       "      <th>volunteer_baseline</th>\n",
       "      <th>volunteerf_baseline</th>\n",
       "      <th>volunteernum_baseline</th>\n",
       "      <th>presvote16post_2016</th>\n",
       "    </tr>\n",
       "  </thead>\n",
       "  <tbody>\n",
       "    <tr>\n",
       "      <th>0</th>\n",
       "      <td>2</td>\n",
       "      <td>2</td>\n",
       "      <td>2</td>\n",
       "      <td>2</td>\n",
       "      <td>2</td>\n",
       "      <td>2</td>\n",
       "      <td>1</td>\n",
       "      <td>2</td>\n",
       "      <td>2</td>\n",
       "      <td>2</td>\n",
       "      <td>...</td>\n",
       "      <td>2</td>\n",
       "      <td>2</td>\n",
       "      <td>2</td>\n",
       "      <td>2</td>\n",
       "      <td>3.0</td>\n",
       "      <td>5.0</td>\n",
       "      <td>1.0</td>\n",
       "      <td>8.0</td>\n",
       "      <td>1.0</td>\n",
       "      <td>1.0</td>\n",
       "    </tr>\n",
       "    <tr>\n",
       "      <th>1</th>\n",
       "      <td>1</td>\n",
       "      <td>1</td>\n",
       "      <td>2</td>\n",
       "      <td>2</td>\n",
       "      <td>2</td>\n",
       "      <td>2</td>\n",
       "      <td>2</td>\n",
       "      <td>2</td>\n",
       "      <td>2</td>\n",
       "      <td>2</td>\n",
       "      <td>...</td>\n",
       "      <td>2</td>\n",
       "      <td>2</td>\n",
       "      <td>2</td>\n",
       "      <td>2</td>\n",
       "      <td>5.0</td>\n",
       "      <td>1.0</td>\n",
       "      <td>1.0</td>\n",
       "      <td>8.0</td>\n",
       "      <td>1.0</td>\n",
       "      <td>2.0</td>\n",
       "    </tr>\n",
       "    <tr>\n",
       "      <th>2</th>\n",
       "      <td>2</td>\n",
       "      <td>2</td>\n",
       "      <td>2</td>\n",
       "      <td>2</td>\n",
       "      <td>2</td>\n",
       "      <td>2</td>\n",
       "      <td>2</td>\n",
       "      <td>2</td>\n",
       "      <td>2</td>\n",
       "      <td>2</td>\n",
       "      <td>...</td>\n",
       "      <td>2</td>\n",
       "      <td>2</td>\n",
       "      <td>2</td>\n",
       "      <td>2</td>\n",
       "      <td>6.0</td>\n",
       "      <td>5.0</td>\n",
       "      <td>2.0</td>\n",
       "      <td>2.0</td>\n",
       "      <td>8.0</td>\n",
       "      <td>1.0</td>\n",
       "    </tr>\n",
       "    <tr>\n",
       "      <th>3</th>\n",
       "      <td>2</td>\n",
       "      <td>2</td>\n",
       "      <td>2</td>\n",
       "      <td>2</td>\n",
       "      <td>1</td>\n",
       "      <td>2</td>\n",
       "      <td>2</td>\n",
       "      <td>2</td>\n",
       "      <td>2</td>\n",
       "      <td>2</td>\n",
       "      <td>...</td>\n",
       "      <td>2</td>\n",
       "      <td>2</td>\n",
       "      <td>2</td>\n",
       "      <td>1</td>\n",
       "      <td>5.0</td>\n",
       "      <td>5.0</td>\n",
       "      <td>1.0</td>\n",
       "      <td>8.0</td>\n",
       "      <td>3.0</td>\n",
       "      <td>3.0</td>\n",
       "    </tr>\n",
       "    <tr>\n",
       "      <th>4</th>\n",
       "      <td>1</td>\n",
       "      <td>1</td>\n",
       "      <td>2</td>\n",
       "      <td>2</td>\n",
       "      <td>2</td>\n",
       "      <td>2</td>\n",
       "      <td>2</td>\n",
       "      <td>2</td>\n",
       "      <td>2</td>\n",
       "      <td>2</td>\n",
       "      <td>...</td>\n",
       "      <td>2</td>\n",
       "      <td>2</td>\n",
       "      <td>2</td>\n",
       "      <td>2</td>\n",
       "      <td>4.0</td>\n",
       "      <td>1.0</td>\n",
       "      <td>2.0</td>\n",
       "      <td>1.0</td>\n",
       "      <td>1.0</td>\n",
       "      <td>2.0</td>\n",
       "    </tr>\n",
       "  </tbody>\n",
       "</table>\n",
       "<p>5 rows × 23 columns</p>\n",
       "</div>"
      ],
      "text/plain": [
       "   volunteerorg2_1_baseline  volunteerorg2_2_baseline  \\\n",
       "0                         2                         2   \n",
       "1                         1                         1   \n",
       "2                         2                         2   \n",
       "3                         2                         2   \n",
       "4                         1                         1   \n",
       "\n",
       "   volunteerorg2_3_baseline  volunteerorg2_4_baseline  \\\n",
       "0                         2                         2   \n",
       "1                         2                         2   \n",
       "2                         2                         2   \n",
       "3                         2                         2   \n",
       "4                         2                         2   \n",
       "\n",
       "   volunteerorg2_5_baseline  volunteerorg2_6_baseline  \\\n",
       "0                         2                         2   \n",
       "1                         2                         2   \n",
       "2                         2                         2   \n",
       "3                         1                         2   \n",
       "4                         2                         2   \n",
       "\n",
       "   volunteerorg2_7_baseline  volunteerorg2_8_baseline  \\\n",
       "0                         1                         2   \n",
       "1                         2                         2   \n",
       "2                         2                         2   \n",
       "3                         2                         2   \n",
       "4                         2                         2   \n",
       "\n",
       "   volunteerorg2_9_baseline  volunteerorg2_10_baseline  ...  \\\n",
       "0                         2                          2  ...   \n",
       "1                         2                          2  ...   \n",
       "2                         2                          2  ...   \n",
       "3                         2                          2  ...   \n",
       "4                         2                          2  ...   \n",
       "\n",
       "   volunteerorg2_14_baseline  volunteerorg2_15_baseline  \\\n",
       "0                          2                          2   \n",
       "1                          2                          2   \n",
       "2                          2                          2   \n",
       "3                          2                          2   \n",
       "4                          2                          2   \n",
       "\n",
       "   volunteerorg2_16_baseline  volunteerorg2_17_baseline  \\\n",
       "0                          2                          2   \n",
       "1                          2                          2   \n",
       "2                          2                          2   \n",
       "3                          2                          1   \n",
       "4                          2                          2   \n",
       "\n",
       "   CIVIC_PARTICIPATION_2016  pew_churatd_2016  volunteer_baseline  \\\n",
       "0                       3.0               5.0                 1.0   \n",
       "1                       5.0               1.0                 1.0   \n",
       "2                       6.0               5.0                 2.0   \n",
       "3                       5.0               5.0                 1.0   \n",
       "4                       4.0               1.0                 2.0   \n",
       "\n",
       "   volunteerf_baseline  volunteernum_baseline  presvote16post_2016  \n",
       "0                  8.0                    1.0                  1.0  \n",
       "1                  8.0                    1.0                  2.0  \n",
       "2                  2.0                    8.0                  1.0  \n",
       "3                  8.0                    3.0                  3.0  \n",
       "4                  1.0                    1.0                  2.0  \n",
       "\n",
       "[5 rows x 23 columns]"
      ]
     },
     "execution_count": 13,
     "metadata": {},
     "output_type": "execute_result"
    }
   ],
   "source": [
    "# print list of community engagement column names\n",
    "col_list = []\n",
    "for i in range(1, 18):\n",
    "    col = f'volunteerorg2_{i}_baseline'\n",
    "    col_list.append(col)\n",
    "\n",
    "# selected community engagement fields\n",
    "community_list = ['CIVIC_PARTICIPATION_2016',\n",
    "                  'pew_churatd_2016',\n",
    "                  'volunteer_baseline',\n",
    "                  'volunteerf_baseline',\n",
    "                  'volunteernum_baseline'\n",
    "                  ]\n",
    "\n",
    "target = ['presvote16post_2016']\n",
    "df_community = df[(col_list + community_list + target)]\n",
    "print('number of community features:', len(col_list + community_list))\n",
    "df_community.head()"
   ]
  },
  {
   "cell_type": "code",
   "execution_count": 11,
   "metadata": {
    "ExecuteTime": {
     "end_time": "2019-11-25T21:19:54.327217Z",
     "start_time": "2019-11-25T21:19:54.295763Z"
    }
   },
   "outputs": [
    {
     "data": {
      "text/plain": [
       "presvote16post_2016          1.000000\n",
       "CIVIC_PARTICIPATION_2016     0.077853\n",
       "volunteernum_baseline        0.061289\n",
       "volunteerorg2_4_baseline     0.060472\n",
       "volunteerorg2_6_baseline     0.055965\n",
       "volunteerorg2_12_baseline    0.046307\n",
       "volunteer_baseline           0.042013\n",
       "volunteerorg2_13_baseline    0.040980\n",
       "volunteerorg2_7_baseline     0.034954\n",
       "volunteerorg2_10_baseline    0.030976\n",
       "Name: presvote16post_2016, dtype: float64"
      ]
     },
     "execution_count": 11,
     "metadata": {},
     "output_type": "execute_result"
    }
   ],
   "source": [
    "df_community.corr()['presvote16post_2016'].sort_values(ascending=False).head(10)"
   ]
  },
  {
   "cell_type": "markdown",
   "metadata": {},
   "source": [
    "Which <b>religion features</b> are correlated with vote selection?"
   ]
  },
  {
   "cell_type": "code",
   "execution_count": 12,
   "metadata": {
    "ExecuteTime": {
     "end_time": "2019-11-25T21:19:54.370838Z",
     "start_time": "2019-11-25T21:19:54.331430Z"
    }
   },
   "outputs": [
    {
     "name": "stdout",
     "output_type": "stream",
     "text": [
      "number of religion features: 5\n"
     ]
    },
    {
     "data": {
      "text/html": [
       "<div>\n",
       "<style scoped>\n",
       "    .dataframe tbody tr th:only-of-type {\n",
       "        vertical-align: middle;\n",
       "    }\n",
       "\n",
       "    .dataframe tbody tr th {\n",
       "        vertical-align: top;\n",
       "    }\n",
       "\n",
       "    .dataframe thead th {\n",
       "        text-align: right;\n",
       "    }\n",
       "</style>\n",
       "<table border=\"1\" class=\"dataframe\">\n",
       "  <thead>\n",
       "    <tr style=\"text-align: right;\">\n",
       "      <th></th>\n",
       "      <th>pew_churatd_2016</th>\n",
       "      <th>pew_religimp_2016</th>\n",
       "      <th>pew_bornagain_2016</th>\n",
       "      <th>pew_prayer_2016</th>\n",
       "      <th>religpew_2016</th>\n",
       "      <th>presvote16post_2016</th>\n",
       "    </tr>\n",
       "  </thead>\n",
       "  <tbody>\n",
       "    <tr>\n",
       "      <th>0</th>\n",
       "      <td>5.0</td>\n",
       "      <td>3</td>\n",
       "      <td>2.0</td>\n",
       "      <td>6.0</td>\n",
       "      <td>2.0</td>\n",
       "      <td>1.0</td>\n",
       "    </tr>\n",
       "    <tr>\n",
       "      <th>1</th>\n",
       "      <td>1.0</td>\n",
       "      <td>1</td>\n",
       "      <td>2.0</td>\n",
       "      <td>1.0</td>\n",
       "      <td>3.0</td>\n",
       "      <td>2.0</td>\n",
       "    </tr>\n",
       "    <tr>\n",
       "      <th>2</th>\n",
       "      <td>5.0</td>\n",
       "      <td>4</td>\n",
       "      <td>2.0</td>\n",
       "      <td>3.0</td>\n",
       "      <td>2.0</td>\n",
       "      <td>1.0</td>\n",
       "    </tr>\n",
       "    <tr>\n",
       "      <th>3</th>\n",
       "      <td>5.0</td>\n",
       "      <td>3</td>\n",
       "      <td>2.0</td>\n",
       "      <td>3.0</td>\n",
       "      <td>11.0</td>\n",
       "      <td>3.0</td>\n",
       "    </tr>\n",
       "    <tr>\n",
       "      <th>4</th>\n",
       "      <td>1.0</td>\n",
       "      <td>1</td>\n",
       "      <td>2.0</td>\n",
       "      <td>2.0</td>\n",
       "      <td>3.0</td>\n",
       "      <td>2.0</td>\n",
       "    </tr>\n",
       "  </tbody>\n",
       "</table>\n",
       "</div>"
      ],
      "text/plain": [
       "   pew_churatd_2016  pew_religimp_2016  pew_bornagain_2016  pew_prayer_2016  \\\n",
       "0               5.0                  3                 2.0              6.0   \n",
       "1               1.0                  1                 2.0              1.0   \n",
       "2               5.0                  4                 2.0              3.0   \n",
       "3               5.0                  3                 2.0              3.0   \n",
       "4               1.0                  1                 2.0              2.0   \n",
       "\n",
       "   religpew_2016  presvote16post_2016  \n",
       "0            2.0                  1.0  \n",
       "1            3.0                  2.0  \n",
       "2            2.0                  1.0  \n",
       "3           11.0                  3.0  \n",
       "4            3.0                  2.0  "
      ]
     },
     "execution_count": 12,
     "metadata": {},
     "output_type": "execute_result"
    }
   ],
   "source": [
    "religion_list = ['pew_churatd_2016',\n",
    "                'pew_religimp_2016',\n",
    "                'pew_bornagain_2016',\n",
    "                'pew_prayer_2016',\n",
    "                'religpew_2016'\n",
    "                ]\n",
    "print('number of religion features:', len(religion_list))\n",
    "df_religion = df[(religion_list + target)]\n",
    "df_religion.head()"
   ]
  },
  {
   "cell_type": "code",
   "execution_count": null,
   "metadata": {},
   "outputs": [],
   "source": []
  },
  {
   "cell_type": "code",
   "execution_count": null,
   "metadata": {},
   "outputs": [],
   "source": [
    "target_col_list = ['pid3_2016']"
   ]
  },
  {
   "cell_type": "markdown",
   "metadata": {},
   "source": [
    "## Weighted issue prioritization of climate change"
   ]
  },
  {
   "cell_type": "code",
   "execution_count": null,
   "metadata": {
    "ExecuteTime": {
     "end_time": "2019-11-24T21:21:06.184669Z",
     "start_time": "2019-11-24T21:21:06.171101Z"
    }
   },
   "outputs": [],
   "source": [
    "climate_freq = calc.distribution(df_no_nulls, 'imiss_l_2016').round(3)\n",
    "print('weighted frequency:', climate_freq)"
   ]
  },
  {
   "cell_type": "code",
   "execution_count": null,
   "metadata": {
    "ExecuteTime": {
     "end_time": "2019-11-24T21:21:06.534697Z",
     "start_time": "2019-11-24T21:21:06.196538Z"
    }
   },
   "outputs": [],
   "source": [
    "climate_list = []\n",
    "for i in climate_freq:\n",
    "    climate_list.append(i)\n",
    "print(climate_list)\n",
    "plt.figure(figsize=(8,8))\n",
    "x = ['Very','Somewhat','Not very','Unimportant','No Response']\n",
    "bplot = sns.barplot(x = x, y = climate_list, palette='Greens_d')\n",
    "bplot.set_xticklabels(rotation=90, labels= x)\n",
    "bplot.set_title('Survey Responses: How important of an issue is climate change?')\n",
    "bplot.set_ylabel('Weighted Frequency')\n",
    "for p in bplot.patches:\n",
    " bplot.annotate(format(p.get_height(), '.3f'), (p.get_x() + p.get_width() / 2., p.get_height()), ha = 'center', va = 'center', \n",
    "            xytext = (0, 10), textcoords = 'offset points')\n",
    "plt.show()"
   ]
  },
  {
   "cell_type": "markdown",
   "metadata": {},
   "source": [
    "### Climate change"
   ]
  },
  {
   "cell_type": "code",
   "execution_count": null,
   "metadata": {
    "ExecuteTime": {
     "end_time": "2019-11-24T21:26:12.437999Z",
     "start_time": "2019-11-24T21:26:12.402169Z"
    }
   },
   "outputs": [],
   "source": [
    "g = df_3cat_issue_weight.groupby(['presvote16post_2016'])\n",
    "res = calc.distribution(g, 'imiss_l_2016').round(3)\n",
    "print(res)"
   ]
  },
  {
   "cell_type": "code",
   "execution_count": null,
   "metadata": {
    "ExecuteTime": {
     "end_time": "2019-11-24T21:31:16.775238Z",
     "start_time": "2019-11-24T21:31:16.514156Z"
    }
   },
   "outputs": [],
   "source": [
    "b=['cornflowerblue','tomato','lightgrey']\n",
    "stacked = res.T.plot(kind='bar', stacked=True, color=b)\n",
    "stacked.set_title('Survey Response: Climate change')\n",
    "stacked.set_ylabel('Weighted frequency')\n",
    "stacked.legend(['Clinton','Trump', 'Other'])\n",
    "stacked.set_xlabel('')\n",
    "N = 5 \n",
    "ind = np.arange(N)\n",
    "plt.xticks(ind, ('Very','Somewhat','Not very', 'Unimportant', 'No Response'))\n",
    "plt.show()"
   ]
  },
  {
   "cell_type": "markdown",
   "metadata": {},
   "source": [
    "### The budget deficit"
   ]
  },
  {
   "cell_type": "code",
   "execution_count": null,
   "metadata": {
    "ExecuteTime": {
     "end_time": "2019-11-24T21:35:49.052860Z",
     "start_time": "2019-11-24T21:35:48.965340Z"
    }
   },
   "outputs": [],
   "source": [
    "g = df_3cat_issue_weight.groupby(['presvote16post_2016'])\n",
    "res = calc.distribution(g, 'imiss_p_2016').round(3)\n",
    "print(res)"
   ]
  },
  {
   "cell_type": "code",
   "execution_count": null,
   "metadata": {
    "ExecuteTime": {
     "end_time": "2019-11-24T21:36:17.086128Z",
     "start_time": "2019-11-24T21:36:16.741030Z"
    }
   },
   "outputs": [],
   "source": [
    "b=['cornflowerblue','tomato','lightgrey']\n",
    "stacked = res.T.plot(kind='bar', stacked=True, color=b)\n",
    "stacked.set_title('Survey Response: The Budget deficit')\n",
    "stacked.set_ylabel('Weighted frequency')\n",
    "stacked.legend(['Clinton','Trump', 'Other'])\n",
    "stacked.set_xlabel('')\n",
    "N = 5 \n",
    "ind = np.arange(N)\n",
    "plt.xticks(ind, ('Very','Somewhat','Not very', 'Unimportant', 'No Response'))\n",
    "plt.show()"
   ]
  },
  {
   "cell_type": "markdown",
   "metadata": {},
   "source": [
    "### Abortion"
   ]
  },
  {
   "cell_type": "code",
   "execution_count": null,
   "metadata": {
    "ExecuteTime": {
     "end_time": "2019-11-24T21:40:51.778928Z",
     "start_time": "2019-11-24T21:40:51.362025Z"
    }
   },
   "outputs": [],
   "source": [
    "g = df_3cat_issue_weight.groupby(['presvote16post_2016'])\n",
    "res = calc.distribution(g, 'imiss_t_2016').round(3)\n",
    "print(res)\n",
    "b=['cornflowerblue','tomato','lightgrey']\n",
    "stacked = res.T.plot(kind='bar', stacked=True, color=b)\n",
    "stacked.set_title('Survey Response: Abortion')\n",
    "stacked.set_ylabel('Weighted frequency')\n",
    "stacked.legend(['Clinton','Trump', 'Other'])\n",
    "stacked.set_xlabel('')\n",
    "N = 5 \n",
    "ind = np.arange(N)\n",
    "plt.xticks(ind, ('Very','Somewhat','Not very', 'Unimportant', 'No Response'))\n",
    "plt.show()"
   ]
  },
  {
   "cell_type": "markdown",
   "metadata": {},
   "source": [
    "### Size of government"
   ]
  },
  {
   "cell_type": "code",
   "execution_count": null,
   "metadata": {
    "ExecuteTime": {
     "end_time": "2019-11-24T21:45:28.345638Z",
     "start_time": "2019-11-24T21:45:27.482240Z"
    }
   },
   "outputs": [],
   "source": [
    "g = df_3cat_issue_weight.groupby(['presvote16post_2016'])\n",
    "res = calc.distribution(g, 'imiss_u_2016').round(3)\n",
    "print(res)\n",
    "b=['cornflowerblue','tomato','lightgrey']\n",
    "stacked = res.T.plot(kind='bar', stacked=True, color=b)\n",
    "stacked.set_title('Survey Response: Size of government')\n",
    "stacked.set_ylabel('Weighted frequency')\n",
    "stacked.legend(['Clinton','Trump', 'Other'])\n",
    "stacked.set_xlabel('')\n",
    "N = 5 \n",
    "ind = np.arange(N)\n",
    "plt.xticks(ind, ('Very','Somewhat','Not very', 'Unimportant', 'No Response'))\n",
    "plt.show()"
   ]
  },
  {
   "cell_type": "markdown",
   "metadata": {},
   "source": [
    "within these columns in the dataframe, search each index and count the number of 4s. \n"
   ]
  },
  {
   "cell_type": "code",
   "execution_count": null,
   "metadata": {
    "ExecuteTime": {
     "end_time": "2019-11-24T21:54:33.739336Z",
     "start_time": "2019-11-24T21:54:33.602871Z"
    }
   },
   "outputs": [],
   "source": [
    "df[]"
   ]
  },
  {
   "cell_type": "code",
   "execution_count": null,
   "metadata": {},
   "outputs": [],
   "source": []
  }
 ],
 "metadata": {
  "kernelspec": {
   "display_name": "Python 3",
   "language": "python",
   "name": "python3"
  },
  "language_info": {
   "codemirror_mode": {
    "name": "ipython",
    "version": 3
   },
   "file_extension": ".py",
   "mimetype": "text/x-python",
   "name": "python",
   "nbconvert_exporter": "python",
   "pygments_lexer": "ipython3",
   "version": "3.7.3"
  },
  "toc": {
   "base_numbering": 1,
   "nav_menu": {},
   "number_sections": true,
   "sideBar": true,
   "skip_h1_title": false,
   "title_cell": "Table of Contents",
   "title_sidebar": "Contents",
   "toc_cell": false,
   "toc_position": {},
   "toc_section_display": true,
   "toc_window_display": false
  }
 },
 "nbformat": 4,
 "nbformat_minor": 2
}
