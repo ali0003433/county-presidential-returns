{
 "cells": [
  {
   "cell_type": "markdown",
   "metadata": {},
   "source": [
    "# Data Exploration"
   ]
  },
  {
   "cell_type": "markdown",
   "metadata": {},
   "source": [
    "## Prepare notebook"
   ]
  },
  {
   "cell_type": "markdown",
   "metadata": {},
   "source": [
    "Import libraries for plotting, data cleaning, weighting observations, and regular expressions "
   ]
  },
  {
   "cell_type": "code",
   "execution_count": 1,
   "metadata": {
    "ExecuteTime": {
     "end_time": "2019-12-06T22:53:09.321580Z",
     "start_time": "2019-12-06T22:53:06.929125Z"
    }
   },
   "outputs": [],
   "source": [
    "from matplotlib import rcParams  # plotting\n",
    "import numpy as np  # computing\n",
    "import pandas as pd  # data analysis\n",
    "import pickle  # serialisation\n",
    "import re  # regular expressions\n",
    "import seaborn as sns  # plotting\n",
    "import matplotlib.pyplot as plt  # plotting\n",
    "import weightedcalcs as wc  # weighting obesrvations in survey\n",
    "import warnings\n",
    "warnings.filterwarnings(\"ignore\")"
   ]
  },
  {
   "cell_type": "markdown",
   "metadata": {},
   "source": [
    "Set plotting font to serif"
   ]
  },
  {
   "cell_type": "code",
   "execution_count": 2,
   "metadata": {
    "ExecuteTime": {
     "end_time": "2019-12-06T22:53:10.178052Z",
     "start_time": "2019-12-06T22:53:10.173972Z"
    }
   },
   "outputs": [],
   "source": [
    "rcParams['font.family'] = 'serif'"
   ]
  },
  {
   "cell_type": "markdown",
   "metadata": {},
   "source": [
    "Import functions from source code for feature selection, plotting, data exploration"
   ]
  },
  {
   "cell_type": "code",
   "execution_count": 3,
   "metadata": {
    "ExecuteTime": {
     "end_time": "2019-12-06T22:53:10.926236Z",
     "start_time": "2019-12-06T22:53:10.909850Z"
    }
   },
   "outputs": [],
   "source": [
    "import sys\n",
    "import os\n",
    "sys.path.append('../src/features')\n",
    "from build_features import filter_col_with_regex\n",
    "sys.path.append('../src/visualization')\n",
    "from visualize import plot_bar, plot_stacked, count_res"
   ]
  },
  {
   "cell_type": "markdown",
   "metadata": {},
   "source": [
    "Load clean data or \"unpickle\""
   ]
  },
  {
   "cell_type": "code",
   "execution_count": 4,
   "metadata": {
    "ExecuteTime": {
     "end_time": "2019-12-06T22:53:12.054668Z",
     "start_time": "2019-12-06T22:53:11.796054Z"
    }
   },
   "outputs": [],
   "source": [
    "with open('../data/processed/df.pickle', 'rb') as file:\n",
    "    df = pickle.load(file)"
   ]
  },
  {
   "cell_type": "markdown",
   "metadata": {},
   "source": [
    "Set up function for weighting observations using the weights in the survey data"
   ]
  },
  {
   "cell_type": "code",
   "execution_count": 5,
   "metadata": {
    "ExecuteTime": {
     "end_time": "2019-12-06T22:53:12.716214Z",
     "start_time": "2019-12-06T22:53:12.709288Z"
    }
   },
   "outputs": [],
   "source": [
    "weight = df['weight']\n",
    "calc = wc.Calculator('weight')"
   ]
  },
  {
   "cell_type": "markdown",
   "metadata": {},
   "source": [
    "## Explore the presvote16post_2016 attribute"
   ]
  },
  {
   "cell_type": "markdown",
   "metadata": {},
   "source": [
    "This attribute is the survey response to \"Who did you vote for in the election for President?\""
   ]
  },
  {
   "cell_type": "markdown",
   "metadata": {
    "ExecuteTime": {
     "end_time": "2019-11-25T19:49:48.075771Z",
     "start_time": "2019-11-25T19:49:48.066204Z"
    }
   },
   "source": [
    "Calculate weighted distribution of responses for presvote16post_2016 "
   ]
  },
  {
   "cell_type": "code",
   "execution_count": 10,
   "metadata": {
    "ExecuteTime": {
     "end_time": "2019-12-06T22:55:13.972058Z",
     "start_time": "2019-12-06T22:55:13.963574Z"
    }
   },
   "outputs": [],
   "source": [
    "pres_freq = calc.distribution(df, 'presvote16post_2016').round(3)"
   ]
  },
  {
   "cell_type": "markdown",
   "metadata": {},
   "source": [
    "Create list of president names that correspond to categories and print name with vote amount received"
   ]
  },
  {
   "cell_type": "code",
   "execution_count": 12,
   "metadata": {
    "ExecuteTime": {
     "end_time": "2019-12-06T22:56:26.025568Z",
     "start_time": "2019-12-06T22:56:26.013777Z"
    }
   },
   "outputs": [
    {
     "name": "stdout",
     "output_type": "stream",
     "text": [
      "Clinton 0.406\n",
      "Trump 0.399\n",
      "Johnson 0.027\n",
      "Stein 0.012\n",
      "McMullin 0.002\n",
      "Other 0.016\n",
      "Did not vote 0.008\n",
      "No Response 0.13\n"
     ]
    }
   ],
   "source": [
    "pres_list = ['Clinton', 'Trump', 'Johnson', 'Stein',\n",
    "             'McMullin', 'Other', 'Did not vote', 'No Response']\n",
    "\n",
    "for idx, val in enumerate(pres_freq):\n",
    "    print(pres_list[idx], val)"
   ]
  },
  {
   "cell_type": "markdown",
   "metadata": {},
   "source": [
    "Visualize weighted distribution of responses across eight classes "
   ]
  },
  {
   "cell_type": "code",
   "execution_count": 8,
   "metadata": {
    "ExecuteTime": {
     "end_time": "2019-12-06T22:54:13.324634Z",
     "start_time": "2019-12-06T22:54:13.011615Z"
    }
   },
   "outputs": [
    {
     "data": {
      "image/png": "[encoded data removed]",
      "text/plain": [
       "<Figure size 720x360 with 1 Axes>"
      ]
     },
     "metadata": {
      "needs_background": "light"
     },
     "output_type": "display_data"
    }
   ],
   "source": [
    "x = pres_list\n",
    "y = pres_freq\n",
    "palette = ['cornflowerblue', 'tomato', 'gold', 'lightgreen',\n",
    "           'purple', 'lightgrey', 'dimgrey', 'darkgray']\n",
    "title = 'Who did you vote for in the election for President?'\n",
    "pres_plt = plot_bar(x, y, palette, title, x)\n",
    "for bar in pres_plt.patches:  # add value to top of each bar\n",
    "    pres_plt.annotate(format(bar.get_height(), '.3f'), (bar.get_x() + bar.get_width() / 2.,\n",
    "                                                        bar.get_height()), ha='center', va='center', xytext=(0, 10), textcoords='offset points')"
   ]
  },
  {
   "cell_type": "markdown",
   "metadata": {},
   "source": [
    "## Feature engineering of presvote16_post"
   ]
  },
  {
   "cell_type": "markdown",
   "metadata": {},
   "source": [
    "Calculate weighted distribution of responses to \"who did you vote for in the election for President?\" across three classes"
   ]
  },
  {
   "cell_type": "code",
   "execution_count": null,
   "metadata": {
    "ExecuteTime": {
     "end_time": "2019-12-06T21:54:56.418868Z",
     "start_time": "2019-12-06T21:54:56.407463Z"
    }
   },
   "outputs": [],
   "source": [
    "pres_cat_list = ['Clinton', 'Trump', 'Other behavior']\n",
    "pres_cat_freq = calc.distribution(df, 'vote_3cat').round(3)\n",
    "\n",
    "for ind, val in enumerate(pres_cat_freq):\n",
    "    print(pres_cat_list[ind], val)"
   ]
  },
  {
   "cell_type": "markdown",
   "metadata": {},
   "source": [
    "Visualize weighted distribution of responses across three classes "
   ]
  },
  {
   "cell_type": "code",
   "execution_count": null,
   "metadata": {
    "ExecuteTime": {
     "end_time": "2019-12-06T22:52:47.453296Z",
     "start_time": "2019-12-06T22:52:47.220396Z"
    }
   },
   "outputs": [],
   "source": [
    "x = pres_cat_list\n",
    "y = list(pres_cat_freq)\n",
    "title = 'Who did you vote for in the election for President?'\n",
    "xlabels = pres_cat_list\n",
    "palette_sm = [palette[0], palette[1], palette[-2]]\n",
    "cat_plt = plot_bar(x, y, palette_sm, title, xlabels)"
   ]
  },
  {
   "cell_type": "markdown",
   "metadata": {},
   "source": [
    "## Explore potential features for predicting vote_3cat or presvote16post_2016"
   ]
  },
  {
   "cell_type": "markdown",
   "metadata": {},
   "source": [
    "Which attributes are correlated with presvote16post_2016?"
   ]
  },
  {
   "cell_type": "code",
   "execution_count": null,
   "metadata": {
    "ExecuteTime": {
     "end_time": "2019-12-06T21:55:03.013122Z",
     "start_time": "2019-12-06T21:54:58.164898Z"
    }
   },
   "outputs": [],
   "source": [
    "df.corr()['presvote16post_2016'].sort_values(ascending=False).head(10)[1:9]"
   ]
  },
  {
   "cell_type": "markdown",
   "metadata": {},
   "source": [
    "Which attributes are correlated with vote_3cat?"
   ]
  },
  {
   "cell_type": "code",
   "execution_count": null,
   "metadata": {
    "ExecuteTime": {
     "end_time": "2019-12-06T21:55:07.817618Z",
     "start_time": "2019-12-06T21:55:03.018198Z"
    }
   },
   "outputs": [],
   "source": [
    "df.corr()['vote_3cat'].sort_values(ascending=False).head(10)[1:9]"
   ]
  },
  {
   "cell_type": "markdown",
   "metadata": {},
   "source": [
    "Both lists show that the survey questions that ask about party affiliation, approval of Obama, and ticket options (e.g. Clinton/Cruz) coorelate the most strongly with the target (vote_3cat/presvote16_post). "
   ]
  },
  {
   "cell_type": "markdown",
   "metadata": {},
   "source": [
    "Now that I compared the three category target versus eight, I will use the three category target attribute, vote_3cat, moving forward. "
   ]
  },
  {
   "cell_type": "markdown",
   "metadata": {},
   "source": [
    "Next, I look at other attributes that might be used as features to create a predictive model by topic area<br><br>"
   ]
  },
  {
   "cell_type": "markdown",
   "metadata": {},
   "source": [
    "## What is the relationship between attributes related to community engagement and vote_3cat?"
   ]
  },
  {
   "cell_type": "markdown",
   "metadata": {},
   "source": [
    "Using the survey guide, select attributes to represent community engagement and generate lists of the attribute names"
   ]
  },
  {
   "cell_type": "code",
   "execution_count": null,
   "metadata": {
    "ExecuteTime": {
     "end_time": "2019-12-06T21:55:07.829251Z",
     "start_time": "2019-12-06T21:55:07.822459Z"
    }
   },
   "outputs": [],
   "source": [
    "col_list = []\n",
    "for i in range(1, 18):\n",
    "    col = f'volunteerorg2_{i}_baseline'\n",
    "    col_list.append(col)\n",
    "\n",
    "col2_list = ['CIVIC_PARTICIPATION_2016',\n",
    "             'pew_churatd_2016',\n",
    "             'volunteer_baseline',\n",
    "             'volunteerf_baseline',\n",
    "             'volunteernum_baseline'\n",
    "             ]"
   ]
  },
  {
   "cell_type": "markdown",
   "metadata": {},
   "source": [
    "Print the number of community engagement attributes used and show the top of the dataframe"
   ]
  },
  {
   "cell_type": "code",
   "execution_count": null,
   "metadata": {
    "ExecuteTime": {
     "end_time": "2019-12-06T21:55:07.899645Z",
     "start_time": "2019-12-06T21:55:07.834145Z"
    }
   },
   "outputs": [],
   "source": [
    "target = ['vote_3cat']\n",
    "df_comm_engag = df[(col_list + col2_list + target)]\n",
    "print('number of community engagement attributes:', len(col_list + col2_list))\n",
    "df_comm_engag.head()"
   ]
  },
  {
   "cell_type": "markdown",
   "metadata": {},
   "source": [
    "Check how strongly these attributes correlate with the target"
   ]
  },
  {
   "cell_type": "code",
   "execution_count": null,
   "metadata": {
    "ExecuteTime": {
     "end_time": "2019-12-06T21:55:07.930257Z",
     "start_time": "2019-12-06T21:55:07.902918Z"
    }
   },
   "outputs": [],
   "source": [
    "df_comm_engag.corr()['vote_3cat'].sort_values(ascending=False).head(10)[1:10]"
   ]
  },
  {
   "cell_type": "markdown",
   "metadata": {},
   "source": [
    "## What is the relationship between attributes related to religion and vote_3cat?"
   ]
  },
  {
   "cell_type": "markdown",
   "metadata": {},
   "source": [
    "Using the survey guide, select attributes to represent the importance of religion and create a list of the attribute names"
   ]
  },
  {
   "cell_type": "code",
   "execution_count": null,
   "metadata": {
    "ExecuteTime": {
     "end_time": "2019-12-06T21:55:07.942064Z",
     "start_time": "2019-12-06T21:55:07.933440Z"
    }
   },
   "outputs": [],
   "source": [
    "col_list = ['pew_churatd_2016',\n",
    "            'pew_religimp_2016',\n",
    "            'pew_bornagain_2016',\n",
    "            'pew_prayer_2016',\n",
    "            'religpew_2016'\n",
    "            ]"
   ]
  },
  {
   "cell_type": "markdown",
   "metadata": {},
   "source": [
    "Print the number of religion attributes used and show the top of the dataframe with just the target and religion features"
   ]
  },
  {
   "cell_type": "code",
   "execution_count": null,
   "metadata": {
    "ExecuteTime": {
     "end_time": "2019-12-06T21:55:07.975892Z",
     "start_time": "2019-12-06T21:55:07.945382Z"
    }
   },
   "outputs": [],
   "source": [
    "print('number of religion features:', len(col_list))\n",
    "df_religion = df[(col_list + target)]\n",
    "df_religion.head()"
   ]
  },
  {
   "cell_type": "markdown",
   "metadata": {},
   "source": [
    "Check how strongly these attributes correlate with the target"
   ]
  },
  {
   "cell_type": "code",
   "execution_count": null,
   "metadata": {
    "ExecuteTime": {
     "end_time": "2019-12-06T21:55:07.995734Z",
     "start_time": "2019-12-06T21:55:07.981092Z"
    }
   },
   "outputs": [],
   "source": [
    "df_religion.corr()['vote_3cat'].sort_values(ascending=False).head(10)[1:10]"
   ]
  },
  {
   "cell_type": "markdown",
   "metadata": {},
   "source": [
    "## What is the relationship between issue importance attributes and vote_3cat?"
   ]
  },
  {
   "cell_type": "markdown",
   "metadata": {},
   "source": [
    "Set regex pattern to the naming convention of the attributes that ask about issue importance"
   ]
  },
  {
   "cell_type": "code",
   "execution_count": null,
   "metadata": {
    "ExecuteTime": {
     "end_time": "2019-12-06T21:55:08.002929Z",
     "start_time": "2019-12-06T21:55:07.998780Z"
    }
   },
   "outputs": [],
   "source": [
    "pattern = '(imiss_).{1}(_2016)'"
   ]
  },
  {
   "cell_type": "markdown",
   "metadata": {},
   "source": [
    "Call function from src folder to return list of column names. Then return dataframe with just issue columns plus target"
   ]
  },
  {
   "cell_type": "code",
   "execution_count": null,
   "metadata": {
    "ExecuteTime": {
     "end_time": "2019-12-06T21:55:08.018931Z",
     "start_time": "2019-12-06T21:55:08.007341Z"
    }
   },
   "outputs": [],
   "source": [
    "col_list = filter_col_with_regex(df, pattern)\n",
    "df_issue = df[col_list + target]"
   ]
  },
  {
   "cell_type": "markdown",
   "metadata": {},
   "source": [
    "When we group by 2016 vote, how many people rated climate change very important (1), somewhat important (2), not very important (3), unimportant (4), and no response (8)?"
   ]
  },
  {
   "cell_type": "code",
   "execution_count": null,
   "metadata": {
    "ExecuteTime": {
     "end_time": "2019-12-06T21:55:08.039075Z",
     "start_time": "2019-12-06T21:55:08.023449Z"
    }
   },
   "outputs": [],
   "source": [
    "df.groupby('vote_3cat').imiss_l_2016.value_counts()"
   ]
  },
  {
   "cell_type": "markdown",
   "metadata": {},
   "source": [
    "Print the number of issue importance attributes (Climate, Healthcare, Abortion, Size of government, Social Security, Medicare, Taxes, Immigration, etc.)"
   ]
  },
  {
   "cell_type": "code",
   "execution_count": null,
   "metadata": {
    "ExecuteTime": {
     "end_time": "2019-12-06T21:55:08.102035Z",
     "start_time": "2019-12-06T21:55:08.042601Z"
    }
   },
   "outputs": [],
   "source": [
    "print('number of issue features:', len(col_list))\n",
    "df_issue = df[(col_list + target)]\n",
    "df_issue.head()"
   ]
  },
  {
   "cell_type": "markdown",
   "metadata": {
    "ExecuteTime": {
     "end_time": "2019-11-26T17:54:13.619809Z",
     "start_time": "2019-11-26T17:54:13.607174Z"
    }
   },
   "source": [
    "Check how strongly these attributes correlate with the target"
   ]
  },
  {
   "cell_type": "code",
   "execution_count": null,
   "metadata": {
    "ExecuteTime": {
     "end_time": "2019-12-06T21:55:08.135721Z",
     "start_time": "2019-12-06T21:55:08.108190Z"
    }
   },
   "outputs": [],
   "source": [
    "df_issue.corr()['vote_3cat'].sort_values(ascending=False).head(10)"
   ]
  },
  {
   "cell_type": "markdown",
   "metadata": {},
   "source": [
    "imiss_l_2016 = climate change <br>\n",
    "imiss_g_2016 = gay rights <br> \n",
    "imiss_y_2016 = gender equality <br>\n",
    "imiss_x_2016 = racial equality <br>"
   ]
  },
  {
   "cell_type": "markdown",
   "metadata": {},
   "source": [
    "Check the tail for strength of negative correlations"
   ]
  },
  {
   "cell_type": "code",
   "execution_count": null,
   "metadata": {
    "ExecuteTime": {
     "end_time": "2019-12-06T21:55:08.167860Z",
     "start_time": "2019-12-06T21:55:08.139769Z"
    }
   },
   "outputs": [],
   "source": [
    "df_issue.corr()['vote_3cat'].sort_values(ascending=False).tail(10)"
   ]
  },
  {
   "cell_type": "markdown",
   "metadata": {},
   "source": [
    "Plot heatmap of issue importance correlations"
   ]
  },
  {
   "cell_type": "code",
   "execution_count": null,
   "metadata": {
    "ExecuteTime": {
     "end_time": "2019-12-06T21:55:08.867207Z",
     "start_time": "2019-12-06T21:55:08.173042Z"
    }
   },
   "outputs": [],
   "source": [
    "corr = df[col_list].corr()\n",
    "figsize=(20,9)\n",
    "sns.heatmap(corr)"
   ]
  },
  {
   "cell_type": "markdown",
   "metadata": {},
   "source": [
    "### What is the relationship between ratings of issue importance for climate change and vote?"
   ]
  },
  {
   "cell_type": "markdown",
   "metadata": {},
   "source": [
    "Add back the column of weights for each observation to the dataframe"
   ]
  },
  {
   "cell_type": "code",
   "execution_count": null,
   "metadata": {
    "ExecuteTime": {
     "end_time": "2019-12-06T21:55:08.881553Z",
     "start_time": "2019-12-06T21:55:08.873651Z"
    }
   },
   "outputs": [],
   "source": [
    "df_issue = df_issue.join(weight)"
   ]
  },
  {
   "cell_type": "markdown",
   "metadata": {},
   "source": [
    "Group dataframe by vote choice "
   ]
  },
  {
   "cell_type": "code",
   "execution_count": null,
   "metadata": {
    "ExecuteTime": {
     "end_time": "2019-12-06T21:55:08.898929Z",
     "start_time": "2019-12-06T21:55:08.887633Z"
    }
   },
   "outputs": [],
   "source": [
    "grouped = df_issue.groupby(['vote_3cat'])"
   ]
  },
  {
   "cell_type": "markdown",
   "metadata": {},
   "source": [
    "Take a subset of the data that includes only those who voted for Trump or Hilary"
   ]
  },
  {
   "cell_type": "code",
   "execution_count": null,
   "metadata": {
    "ExecuteTime": {
     "end_time": "2019-12-06T21:55:08.924242Z",
     "start_time": "2019-12-06T21:55:08.902677Z"
    }
   },
   "outputs": [],
   "source": [
    "df_bins = df_issue.loc[(df.vote_3cat == 1)| (df.vote_3cat == 2)]\n",
    "grouped_bins = df_bins.groupby('vote_3cat')"
   ]
  },
  {
   "cell_type": "markdown",
   "metadata": {},
   "source": [
    "Look at weighted distribution of responses to ratings of the issue importance of climate change"
   ]
  },
  {
   "cell_type": "code",
   "execution_count": null,
   "metadata": {
    "ExecuteTime": {
     "end_time": "2019-12-06T21:56:13.898218Z",
     "start_time": "2019-12-06T21:56:13.854371Z"
    }
   },
   "outputs": [],
   "source": [
    "clm_wgtd = calc.distribution(grouped_bins, 'imiss_l_2016').round(3)\n",
    "clm_wgtd"
   ]
  },
  {
   "cell_type": "markdown",
   "metadata": {},
   "source": [
    "Create stacked bar plots of weighted response frequency by target class for climate change"
   ]
  },
  {
   "cell_type": "code",
   "execution_count": null,
   "metadata": {
    "ExecuteTime": {
     "end_time": "2019-12-06T21:56:19.227638Z",
     "start_time": "2019-12-06T21:56:18.967284Z"
    }
   },
   "outputs": [],
   "source": [
    "data = clm_wgtd\n",
    "title = 'Climate change'\n",
    "plot_stacked(data, title)\n",
    "plt.show()"
   ]
  },
  {
   "cell_type": "markdown",
   "metadata": {},
   "source": [
    "### What is the relationship between ratings of issue importance for the Budget deficit and vote?"
   ]
  },
  {
   "cell_type": "markdown",
   "metadata": {},
   "source": [
    "View weighted responses to importance of the Budget deficit"
   ]
  },
  {
   "cell_type": "code",
   "execution_count": null,
   "metadata": {
    "ExecuteTime": {
     "end_time": "2019-12-06T21:55:09.972171Z",
     "start_time": "2019-12-06T21:55:09.937067Z"
    }
   },
   "outputs": [],
   "source": [
    "bdgt_wgtd = calc.distribution(grouped, 'imiss_p_2016').round(3)\n",
    "bdgt_wgtd"
   ]
  },
  {
   "cell_type": "markdown",
   "metadata": {},
   "source": [
    "Create stacked bar plots of weighted response frequency by target class for the Budget deficit"
   ]
  },
  {
   "cell_type": "code",
   "execution_count": null,
   "metadata": {
    "ExecuteTime": {
     "end_time": "2019-12-06T21:55:10.743514Z",
     "start_time": "2019-12-06T21:55:10.465045Z"
    }
   },
   "outputs": [],
   "source": [
    "title = 'The Budget deficit' \n",
    "plot_stacked(bdgt_wgtd, title)\n",
    "plt.show()"
   ]
  },
  {
   "cell_type": "markdown",
   "metadata": {},
   "source": [
    "### What is the relationship between ratings of issue importance for abortion and vote?"
   ]
  },
  {
   "cell_type": "markdown",
   "metadata": {},
   "source": [
    "Print weighted responses to importance of abortion"
   ]
  },
  {
   "cell_type": "code",
   "execution_count": null,
   "metadata": {
    "ExecuteTime": {
     "end_time": "2019-12-06T21:55:11.252492Z",
     "start_time": "2019-12-06T21:55:11.224934Z"
    }
   },
   "outputs": [],
   "source": [
    "abrt_wgtd = calc.distribution(grouped_bins, 'imiss_t_2016').round(3)\n",
    "print(abrt_wgtd)"
   ]
  },
  {
   "cell_type": "markdown",
   "metadata": {},
   "source": [
    "Create stacked bar plots of weighted response frequency by target class for abortion"
   ]
  },
  {
   "cell_type": "code",
   "execution_count": null,
   "metadata": {
    "ExecuteTime": {
     "end_time": "2019-12-06T21:55:12.323545Z",
     "start_time": "2019-12-06T21:55:11.848396Z"
    }
   },
   "outputs": [],
   "source": [
    "palette_short = ['cornflowerblue','tomato','lightgrey']\n",
    "fig, ax1 = plt.subplots(1,1,sharex=True, sharey=True, figsize=(8,6))\n",
    "abrt_wgtd.T.plot(kind='bar', stacked=False, color=palette_short, ax=ax1)\n",
    "ax1.set_title('Abortion', y=1.1, fontsize=18)\n",
    "N = 5 \n",
    "ind = np.arange(N)\n",
    "x_ticks = ('Very Important','Somewhat Important','Not very Important', 'Unimportant', 'No Response')\n",
    "plt.xticks(ind, x_ticks, fontsize=9, rotation='horizontal')\n",
    "frame1 = plt.gca()\n",
    "ax1.set_ylim(0,.5)\n",
    "ax1.set_yticklabels([0, 10, 20, 30, 40, 50], fontsize=12)\n",
    "ax1.spines['top'].set_visible(False)\n",
    "ax1.spines['right'].set_visible(False)\n",
    "ax1.set_ylabel('Percentage', fontsize=12)\n",
    "ax1.set_xlabel('')\n",
    "\n",
    "plt.savefig('../reports/figures/three_barplts.png')\n",
    "handles, labels = plt.gca().get_legend_handles_labels()\n",
    "order = [1,0]\n",
    "labels=['\\'16 Clinton Voters', '\\'16 Trump Voters']\n",
    "plt.legend([handles[idx] for idx in order],[labels[idx] for idx in order], fontsize=16, frameon=False)\n",
    "plt.savefig('../reports/figures/abortion-by-party.png')\n",
    "plt.show()"
   ]
  },
  {
   "cell_type": "markdown",
   "metadata": {},
   "source": [
    "### What is the relationship between ratings of issue importance for size of gov and vote?"
   ]
  },
  {
   "cell_type": "markdown",
   "metadata": {},
   "source": [
    "Print weighted responses to importance of size of government"
   ]
  },
  {
   "cell_type": "code",
   "execution_count": null,
   "metadata": {
    "ExecuteTime": {
     "end_time": "2019-12-06T21:55:19.342295Z",
     "start_time": "2019-12-06T21:55:19.315530Z"
    }
   },
   "outputs": [],
   "source": [
    "szgv_wgtd = calc.distribution(grouped_bins, 'imiss_u_2016').round(3)\n",
    "print(szgv_wgtd)"
   ]
  },
  {
   "cell_type": "markdown",
   "metadata": {},
   "source": [
    "Create stacked bar plots of weighted response frequency by target class for size of government"
   ]
  },
  {
   "cell_type": "code",
   "execution_count": null,
   "metadata": {
    "ExecuteTime": {
     "end_time": "2019-12-06T21:55:20.020878Z",
     "start_time": "2019-12-06T21:55:19.723639Z"
    }
   },
   "outputs": [],
   "source": [
    "plot_stacked(szgv_wgtd, title)\n",
    "plt.show()"
   ]
  },
  {
   "cell_type": "markdown",
   "metadata": {},
   "source": [
    "## Get weighted distribution of each issue and assign to variable "
   ]
  },
  {
   "cell_type": "markdown",
   "metadata": {},
   "source": [
    "For all the rest of the attributes, get distribution and assign to a variable"
   ]
  },
  {
   "cell_type": "code",
   "execution_count": null,
   "metadata": {
    "ExecuteTime": {
     "end_time": "2019-12-06T21:56:28.205365Z",
     "start_time": "2019-12-06T21:56:27.905348Z"
    }
   },
   "outputs": [],
   "source": [
    "crm_wgtd = calc.distribution(grouped, 'imiss_a_2016').round(3)\n",
    "ecn_wgtd = calc.distribution(grouped, 'imiss_b_2016').round(3)\n",
    "imm_wgtd = calc.distribution(grouped, 'imiss_c_2016').round(3)\n",
    "env_wgtd = calc.distribution(grouped, 'imiss_d_2016').round(3)\n",
    "rlg_wgtd = calc.distribution(grouped, 'imiss_e_2016').round(3)\n",
    "terr_wgtd = calc.distribution(grouped, 'imiss_f_2016').round(3)\n",
    "gay_wgtd = calc.distribution(grouped, 'imiss_g_2016').round(3)\n",
    "ed_wgtd = calc.distribution(grouped, 'imiss_h_2016').round(3)\n",
    "mdlv_wgtd = calc.distribution(grouped, 'imiss_i_2016').round(3)\n",
    "hlthcr_wgtd = calc.distribution(grouped, 'imiss_j_2016').round(3)\n",
    "mny_wgtd = calc.distribution(grouped, 'imiss_k_2016').round(3)\n",
    "soc_wgtd = calc.distribution(grouped, 'imiss_m_2016').round(3)\n",
    "inf_wgtd = calc.distribution(grouped, 'imiss_n_2016').round(3)\n",
    "jbs_wgtd = calc.distribution(grouped, 'imiss_o_2016').round(3)\n",
    "pov_wgtd = calc.distribution(grouped, 'imiss_q_2016').round(3)\n",
    "txs_wgtd = calc.distribution(grouped, 'imiss_r_2016').round(3)\n",
    "mdcr_wgtd = calc.distribution(grouped, 'imiss_s_2016').round(3)\n",
    "rceql_wgtd = calc.distribution(grouped, 'imiss_x_2016').round(3)\n",
    "gdreql_wgtd = calc.distribution(grouped, 'imiss_y_2016').round(3)"
   ]
  },
  {
   "cell_type": "markdown",
   "metadata": {},
   "source": [
    "List strings of issues for titles"
   ]
  },
  {
   "cell_type": "code",
   "execution_count": null,
   "metadata": {
    "ExecuteTime": {
     "end_time": "2019-12-06T21:56:29.964263Z",
     "start_time": "2019-12-06T21:56:29.958931Z"
    }
   },
   "outputs": [],
   "source": [
    "issues = ['Crime', 'The Economy',\n",
    "          'Immigration', 'The Environment', 'Religious Liberty', 'Terrorism', \n",
    "          'Gay Rights', 'Education', 'Family and Medical Leave', \n",
    "          'Health Care', 'Money in Politics', 'Climate Change', \n",
    "          'Social Security', 'Infrastructure Investment', 'Jobs', 'The Budget Deficit',\n",
    "          'Poverty', 'Taxes', 'Medicare',\n",
    "          'Abortion', 'The Size of Government', 'Racial Equality', 'Gender Equality','', '', '', '', '']"
   ]
  },
  {
   "cell_type": "markdown",
   "metadata": {},
   "source": [
    "## Plot all issues in stacked bar "
   ]
  },
  {
   "cell_type": "code",
   "execution_count": null,
   "metadata": {
    "ExecuteTime": {
     "end_time": "2019-12-06T21:56:39.266977Z",
     "start_time": "2019-12-06T21:56:30.546926Z"
    }
   },
   "outputs": [],
   "source": [
    "for ind, col in enumerate(col_list):\n",
    "    freq = calc.distribution(grouped, col).round(3)\n",
    "    iss_plt = plot_stacked(freq, issues[ind])"
   ]
  },
  {
   "cell_type": "markdown",
   "metadata": {},
   "source": [
    "## Create one plot with 23 subplots of issues"
   ]
  },
  {
   "cell_type": "markdown",
   "metadata": {},
   "source": [
    "Create new issues list for formatting edits "
   ]
  },
  {
   "cell_type": "code",
   "execution_count": null,
   "metadata": {
    "ExecuteTime": {
     "end_time": "2019-12-06T21:56:39.288955Z",
     "start_time": "2019-12-06T21:56:39.270959Z"
    }
   },
   "outputs": [],
   "source": [
    "issues = ['Crime', 'The\\nEconomy',\n",
    "          'Immigration', 'The\\nEnvironment', 'Religious\\nLiberty', 'Terrorism', \n",
    "          'Gay\\nRights', 'Education', 'Family and\\nMedical\\nLeave', \n",
    "          'Health\\nCare', 'Money\\nin\\nPolitics', 'Climate\\nChange', \n",
    "          'Social\\nSecurity', 'Infrastructure\\nInvestment', 'Jobs', 'The\\nBudget\\n Deficit',\n",
    "          'Poverty', 'Taxes', 'Medicare',\n",
    "          'Abortion', 'The\\nSize of\\nGovernment', 'Racial\\nEquality', 'Gender\\nEquality','']"
   ]
  },
  {
   "cell_type": "markdown",
   "metadata": {},
   "source": [
    "Plot each issue "
   ]
  },
  {
   "cell_type": "code",
   "execution_count": null,
   "metadata": {
    "ExecuteTime": {
     "end_time": "2019-12-06T21:56:42.981510Z",
     "start_time": "2019-12-06T21:56:39.296809Z"
    }
   },
   "outputs": [],
   "source": [
    "fig, ax = plt.subplots(figsize=(50,20), ncols=12, nrows=2)\n",
    "[axi.set_axis_off() for axi in ax.ravel()]\n",
    "\n",
    "crm_wgtd.T.plot(kind='bar', stacked=True, color=palette_short, ax=ax[0][0], legend=None)\n",
    "ecn_wgtd.T.plot(kind='bar', stacked=True, color=palette_short, ax=ax[0][1], legend=None)\n",
    "imm_wgtd.T.plot(kind='bar', stacked=True, color=palette_short, ax=ax[0][2], legend=None)\n",
    "env_wgtd.T.plot(kind='bar', stacked=True, color=palette_short, ax=ax[0][3], legend=None)\n",
    "rlg_wgtd.T.plot(kind='bar', stacked=True, color=palette_short, ax=ax[0][4], legend=None)\n",
    "terr_wgtd.T.plot(kind='bar', stacked=True, color=palette_short, ax=ax[0][5], legend=None)\n",
    "gay_wgtd.T.plot(kind='bar', stacked=True, color=palette_short, ax=ax[0][6], legend=None)\n",
    "ed_wgtd.T.plot(kind='bar', stacked=True, color=palette_short, ax=ax[0][7], legend=None)\n",
    "mdlv_wgtd.T.plot(kind='bar', stacked=True, color=palette_short, ax=ax[0][8], legend=None)\n",
    "hlthcr_wgtd.T.plot(kind='bar', stacked=True, color=palette_short, ax=ax[0][9], legend=None)\n",
    "mny_wgtd.T.plot(kind='bar', stacked=True, color=palette_short, ax=ax[0][10], legend=None)\n",
    "clm_wgtd.T.plot(kind='bar', stacked=True, color=palette_short, ax=ax[0][11], legend=None)\n",
    "soc_wgtd.T.plot(kind='bar', stacked=True, color=palette_short, ax=ax[1][0],legend=None)\n",
    "inf_wgtd.T.plot(kind='bar', stacked=True, color=palette_short, ax=ax[1][1], legend=None)\n",
    "jbs_wgtd.T.plot(kind='bar', stacked=True, color=palette_short, ax=ax[1][2], legend=None)\n",
    "bdgt_wgtd.T.plot(kind='bar', stacked=True, color=palette_short, ax=ax[1][3], legend=None)\n",
    "pov_wgtd.T.plot(kind='bar', stacked=True, color=palette_short, ax=ax[1][4], legend=None)\n",
    "txs_wgtd.T.plot(kind='bar', stacked=True, color=palette_short, ax=ax[1][5], legend=None)\n",
    "mdcr_wgtd.T.plot(kind='bar', stacked=True, color=palette_short, ax=ax[1][6], legend=None)\n",
    "abrt_wgtd.T.plot(kind='bar', stacked=True, color=palette_short, ax=ax[1][7], legend=None)\n",
    "szgv_wgtd.T.plot(kind='bar', stacked=True, color=palette_short, ax=ax[1][8], legend=None)\n",
    "rceql_wgtd.T.plot(kind='bar', stacked=True, color=palette_short, ax=ax[1][9], legend=None)\n",
    "gdreql_wgtd.T.plot(kind='bar', stacked=True, color=palette_short, ax=ax[1][10], legend=None)\n",
    "[axi.set_title(label=issues[idx], fontdict={'fontsize':30}, y=.45, x=.59) for idx, axi in enumerate(ax.ravel())]\n",
    "[axi.set_ylim([0,3]) for axi in ax.ravel()]\n",
    "\n",
    "plt.show()"
   ]
  },
  {
   "cell_type": "markdown",
   "metadata": {},
   "source": [
    "Compare plots of size of government and climate change to show issues that Trump voters care about versus Clinton voters care about "
   ]
  },
  {
   "cell_type": "code",
   "execution_count": null,
   "metadata": {
    "ExecuteTime": {
     "end_time": "2019-12-06T22:49:18.420580Z",
     "start_time": "2019-12-06T22:49:17.927206Z"
    }
   },
   "outputs": [],
   "source": [
    "palette = ['cornflowerblue','tomato','lightgrey']\n",
    "x_ticks = ('Very Important','Somewhat Important','Not Very Important', 'Unimportant', 'No Response')\n",
    "title = ['Climate Change', 'Size of Government']\n",
    "xlabel = ''\n",
    "ylabel = 'Frequency'\n",
    "fig, axes = plt.subplots(1,2,sharex=True, sharey=True, figsize=(10,7))\n",
    "distributions = [clim_wgtd, szgv_wgtd]\n",
    "spine = ['top', 'right']\n",
    "\n",
    "for idx, i in enumerate(distributions):\n",
    "    i.T.plot(kind='bar', stacked=False, color=palette, ax=axes[idx])\n",
    "    \n",
    "for idx, ax in enumerate(axes):\n",
    "    ax.set_title(title[idx])\n",
    "    ind = np.arange(N)\n",
    "    plt.xticks(ind, x_ticks)\n",
    "    ax.set_xlabel(xlabel)\n",
    "    ax.set_ylabel(ylabel)\n",
    "    for sp in spine:\n",
    "        ax.spines[sp].set_visible(False)\n",
    "\n",
    "handles, labels = axes[1].get_legend_handles_labels()\n",
    "labels = ('\\'16 Clinton Voters', '\\'16 Trump Voters')\n",
    "axes[1].legend(handles, labels)\n",
    "axes[0].get_legend().remove()\n",
    "plt.show()"
   ]
  },
  {
   "cell_type": "markdown",
   "metadata": {},
   "source": [
    "## Do Trump Voters and Clinton voters respond in similar ways to the rating scales? "
   ]
  },
  {
   "cell_type": "markdown",
   "metadata": {},
   "source": [
    "Subset issue dataframe into the three classes"
   ]
  },
  {
   "cell_type": "code",
   "execution_count": null,
   "metadata": {
    "ExecuteTime": {
     "end_time": "2019-12-06T22:29:24.556769Z",
     "start_time": "2019-12-06T22:29:24.541546Z"
    }
   },
   "outputs": [],
   "source": [
    "df_clint = df_issue.loc[df_issue.vote_3cat == 1]\n",
    "df_trump = df_issue.loc[df_issue.vote_3cat  == 2]\n",
    "df_other_behav = df_issue.loc[df_issue.vote_3cat  == 3]\n",
    "cat_df_list = [df_clint, df_trump, df_other_behav]"
   ]
  },
  {
   "cell_type": "markdown",
   "metadata": {},
   "source": [
    "Reset the index, drop the old index, drop vote category and weight columns, print the number of attributes "
   ]
  },
  {
   "cell_type": "code",
   "execution_count": null,
   "metadata": {
    "ExecuteTime": {
     "end_time": "2019-12-06T22:29:28.900474Z",
     "start_time": "2019-12-06T22:29:28.621433Z"
    }
   },
   "outputs": [],
   "source": [
    "for df in cat_df_list:\n",
    "    df.reset_index(drop=True, inplace=True)\n",
    "    df.drop(columns=['vote_3cat','weight'], inplace=True)\n",
    "    print(len(df.columns))"
   ]
  },
  {
   "cell_type": "markdown",
   "metadata": {},
   "source": [
    "Check that index has been reset"
   ]
  },
  {
   "cell_type": "code",
   "execution_count": null,
   "metadata": {
    "ExecuteTime": {
     "end_time": "2019-12-06T22:46:09.489331Z",
     "start_time": "2019-12-06T22:46:09.445088Z"
    }
   },
   "outputs": [],
   "source": [
    "df_other_behav.head()"
   ]
  },
  {
   "cell_type": "markdown",
   "metadata": {},
   "source": [
    "Call count function and save as variable and then make a list of those variables"
   ]
  },
  {
   "cell_type": "code",
   "execution_count": null,
   "metadata": {
    "ExecuteTime": {
     "end_time": "2019-12-06T22:35:00.980567Z",
     "start_time": "2019-12-06T22:34:58.074591Z"
    }
   },
   "outputs": [],
   "source": [
    "clint_count = count_res(df_clint)\n",
    "trump_count = count_res(df_trump)\n",
    "other_behav_count = count_res(df_other_behav)\n",
    "counts = [clint_count, trump_count, other_behav_count]"
   ]
  },
  {
   "cell_type": "markdown",
   "metadata": {},
   "source": [
    "Check that the number of likert scale responses is equal to number expected per candidate"
   ]
  },
  {
   "cell_type": "code",
   "execution_count": null,
   "metadata": {
    "ExecuteTime": {
     "end_time": "2019-12-06T22:31:32.870708Z",
     "start_time": "2019-12-06T22:31:32.863613Z"
    }
   },
   "outputs": [],
   "source": [
    "for idx, i in enumerate(cat_df_list):\n",
    "    print(i.shape[0]*23 == sum(counts[idx].values()))"
   ]
  },
  {
   "cell_type": "markdown",
   "metadata": {},
   "source": [
    "Plot counts for each likert scale category for Clinton, Trump, and other behavior"
   ]
  },
  {
   "cell_type": "code",
   "execution_count": null,
   "metadata": {
    "ExecuteTime": {
     "end_time": "2019-12-06T22:50:12.129295Z",
     "start_time": "2019-12-06T22:50:11.885471Z"
    }
   },
   "outputs": [],
   "source": [
    "title = 'Response counts by vote'\n",
    "ylabel = 'Count'\n",
    "width = 0.25\n",
    "b1= np.arange(5)\n",
    "b2 = [x + bar_width for x in b1]\n",
    "b3 = [x + bar_width for x in b2]\n",
    "plt.bar(b1, counts[0].values(), width=width, color=palette[0])\n",
    "plt.bar(b2, counts[1].values(), width=width, color=palette[1])\n",
    "plt.bar(b3, counts[2].values(), width=width, color=palette[-1])\n",
    "plt.title(title)\n",
    "plt.xticks([r + bar_width for r in range(len(bar_clint))],\n",
    "           x_ticks, rotation='vertical')\n",
    "plt.ylabel(ylabel)\n",
    "plt.show()"
   ]
  },
  {
   "cell_type": "code",
   "execution_count": null,
   "metadata": {},
   "outputs": [],
   "source": []
  }
 ],
 "metadata": {
  "kernelspec": {
   "display_name": "Python 3",
   "language": "python",
   "name": "python3"
  },
  "language_info": {
   "codemirror_mode": {
    "name": "ipython",
    "version": 3
   },
   "file_extension": ".py",
   "mimetype": "text/x-python",
   "name": "python",
   "nbconvert_exporter": "python",
   "pygments_lexer": "ipython3",
   "version": "3.7.3"
  },
  "toc": {
   "base_numbering": 1,
   "nav_menu": {},
   "number_sections": true,
   "sideBar": true,
   "skip_h1_title": false,
   "title_cell": "Table of Contents",
   "title_sidebar": "Contents",
   "toc_cell": false,
   "toc_position": {},
   "toc_section_display": true,
   "toc_window_display": false
  }
 },
 "nbformat": 4,
 "nbformat_minor": 2
}
