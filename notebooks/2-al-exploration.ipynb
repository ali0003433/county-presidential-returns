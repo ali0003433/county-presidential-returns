{
 "cells": [
  {
   "cell_type": "markdown",
   "metadata": {},
   "source": [
    "# Explore target and potential features"
   ]
  },
  {
   "cell_type": "markdown",
   "metadata": {},
   "source": [
    "## Prepare notebook"
   ]
  },
  {
   "cell_type": "markdown",
   "metadata": {},
   "source": [
    "Import libraries "
   ]
  },
  {
   "cell_type": "code",
   "execution_count": 1,
   "metadata": {
    "ExecuteTime": {
     "end_time": "2019-11-29T01:13:15.643577Z",
     "start_time": "2019-11-29T01:13:13.273194Z"
    }
   },
   "outputs": [],
   "source": [
    "import matplotlib.pyplot as plt\n",
    "import numpy as np\n",
    "import pandas as pd\n",
    "import pickle\n",
    "import re\n",
    "import seaborn as sns\n",
    "import weightedcalcs as wc\n",
    "import warnings\n",
    "warnings.filterwarnings(\"ignore\")"
   ]
  },
  {
   "cell_type": "markdown",
   "metadata": {},
   "source": [
    "Import functions from source code"
   ]
  },
  {
   "cell_type": "code",
   "execution_count": 2,
   "metadata": {
    "ExecuteTime": {
     "end_time": "2019-11-29T01:13:15.669360Z",
     "start_time": "2019-11-29T01:13:15.648019Z"
    }
   },
   "outputs": [],
   "source": [
    "import sys\n",
    "import os\n",
    "sys.path.append('../src/features')\n",
    "from build_features import filter_col_with_regex\n",
    "sys.path.append('../src/visualization')\n",
    "from visualize import plot_bar, plot_stacked, count_res"
   ]
  },
  {
   "cell_type": "markdown",
   "metadata": {},
   "source": [
    "Load clean data"
   ]
  },
  {
   "cell_type": "code",
   "execution_count": 3,
   "metadata": {
    "ExecuteTime": {
     "end_time": "2019-11-29T01:13:17.298321Z",
     "start_time": "2019-11-29T01:13:16.847521Z"
    }
   },
   "outputs": [],
   "source": [
    "with open('../data/processed/df.pickle', 'rb') as file:\n",
    "    df = pickle.load(file)"
   ]
  },
  {
   "cell_type": "markdown",
   "metadata": {},
   "source": [
    "Set up function for weighting observations"
   ]
  },
  {
   "cell_type": "code",
   "execution_count": 4,
   "metadata": {
    "ExecuteTime": {
     "end_time": "2019-11-29T01:13:17.313891Z",
     "start_time": "2019-11-29T01:13:17.306276Z"
    }
   },
   "outputs": [],
   "source": [
    "weight = df['weight']\n",
    "calc = wc.Calculator('weight')"
   ]
  },
  {
   "cell_type": "markdown",
   "metadata": {},
   "source": [
    "## Explore target"
   ]
  },
  {
   "cell_type": "markdown",
   "metadata": {},
   "source": [
    "Target is survey responses to: <br> <b>Who did you vote for in the election for President?<b>"
   ]
  },
  {
   "cell_type": "markdown",
   "metadata": {
    "ExecuteTime": {
     "end_time": "2019-11-25T19:49:48.075771Z",
     "start_time": "2019-11-25T19:49:48.066204Z"
    }
   },
   "source": [
    "Calculate weighted distribution of responses to \"who did you vote for in the election for President?\" across <b>eight</b> classes "
   ]
  },
  {
   "cell_type": "code",
   "execution_count": 5,
   "metadata": {
    "ExecuteTime": {
     "end_time": "2019-11-29T01:13:17.800688Z",
     "start_time": "2019-11-29T01:13:17.635742Z"
    }
   },
   "outputs": [
    {
     "name": "stdout",
     "output_type": "stream",
     "text": [
      "Clinton 0.406\n",
      "Trump 0.399\n",
      "Johnson 0.027\n",
      "Stein 0.012\n",
      "McMullin 0.002\n",
      "Other 0.016\n",
      "Did not vote 0.008\n",
      "No Response 0.13\n"
     ]
    }
   ],
   "source": [
    "pres_freq = calc.distribution(df, 'presvote16post_2016').round(3)\n",
    "pres_list = ['Clinton', 'Trump', 'Johnson', 'Stein',\n",
    "     'McMullin', 'Other', 'Did not vote', 'No Response']\n",
    "for ind, val in enumerate(pres_freq):\n",
    "    print(pres_list[ind], val)"
   ]
  },
  {
   "cell_type": "markdown",
   "metadata": {},
   "source": [
    "Visualize weighted distribution of responses to \"who did you vote for in the election for President\"? across <b>eight</b> classes "
   ]
  },
  {
   "cell_type": "code",
   "execution_count": 6,
   "metadata": {
    "ExecuteTime": {
     "end_time": "2019-11-29T01:13:18.412096Z",
     "start_time": "2019-11-29T01:13:17.923274Z"
    }
   },
   "outputs": [
    {
     "data": {
      "image/png": "[encoded data removed]",
      "text/plain": [
       "<Figure size 576x504 with 1 Axes>"
      ]
     },
     "metadata": {
      "needs_background": "light"
     },
     "output_type": "display_data"
    }
   ],
   "source": [
    "x = pres_list\n",
    "y = list(pres_freq)\n",
    "palette = ['cornflowerblue', 'tomato', 'gold', 'lightgreen',\n",
    "           'purple', 'lightgrey', 'dimgrey', 'darkgray']\n",
    "title = 'Who did you vote for in the election for President?'\n",
    "xlabels = pres_list\n",
    "pres_plt = plot_bar(x, y, palette, title, xlabels)\n",
    "for bar in pres_plt.patches: #add value to top of each bar\n",
    "    pres_plt.annotate(format(bar.get_height(), '.3f'), (bar.get_x() + bar.get_width() / 2.,\n",
    "                                                        bar.get_height()), ha='center', va='center', xytext=(0, 10), textcoords='offset points')"
   ]
  },
  {
   "cell_type": "markdown",
   "metadata": {},
   "source": [
    "Calculate weighted distribution of responses to \"who did you vote for in the election for President?\" across <b>three</b> classes"
   ]
  },
  {
   "cell_type": "code",
   "execution_count": 7,
   "metadata": {
    "ExecuteTime": {
     "end_time": "2019-11-29T01:13:18.428404Z",
     "start_time": "2019-11-29T01:13:18.417001Z"
    }
   },
   "outputs": [
    {
     "name": "stdout",
     "output_type": "stream",
     "text": [
      "Clinton 0.406\n",
      "Trump 0.399\n",
      "Other behavior 0.195\n"
     ]
    }
   ],
   "source": [
    "pres_cat_list = ['Clinton', 'Trump', 'Other behavior']\n",
    "pres_cat_freq = calc.distribution(df, 'vote_3cat').round(3)\n",
    "\n",
    "for ind, val in enumerate(pres_cat_freq):\n",
    "    print(pres_cat_list[ind], val)"
   ]
  },
  {
   "cell_type": "markdown",
   "metadata": {},
   "source": [
    "Visualize weighted distribution of responses to \"who did you vote for in the election for President\"? across <b>three</b> classes "
   ]
  },
  {
   "cell_type": "code",
   "execution_count": 8,
   "metadata": {
    "ExecuteTime": {
     "end_time": "2019-11-29T01:13:18.771617Z",
     "start_time": "2019-11-29T01:13:18.461983Z"
    }
   },
   "outputs": [
    {
     "data": {
      "image/png": "[encoded data removed]",
      "text/plain": [
       "<Figure size 576x504 with 1 Axes>"
      ]
     },
     "metadata": {
      "needs_background": "light"
     },
     "output_type": "display_data"
    }
   ],
   "source": [
    "x = pres_cat_list\n",
    "y = list(pres_cat_freq)\n",
    "palette_short = ['cornflowerblue','tomato','lightgrey']\n",
    "title = 'Who did you vote for in the election for President?'\n",
    "xlabels = pres_cat_list\n",
    "\n",
    "cat_plt = plot_bar(x, y, palette, title, xlabels)"
   ]
  },
  {
   "cell_type": "markdown",
   "metadata": {},
   "source": [
    "## Explore attributes"
   ]
  },
  {
   "cell_type": "markdown",
   "metadata": {},
   "source": [
    "Which attributes are correlated with the target when we have <b>eight</b> classes?"
   ]
  },
  {
   "cell_type": "code",
   "execution_count": 9,
   "metadata": {
    "ExecuteTime": {
     "end_time": "2019-11-29T01:13:24.103943Z",
     "start_time": "2019-11-29T01:13:18.857569Z"
    }
   },
   "outputs": [
    {
     "data": {
      "text/plain": [
       "vote_for_against_2016      0.831710\n",
       "vote_3cat                  0.814751\n",
       "vote_regrets_2016          0.797544\n",
       "votemeth16_2016            0.677630\n",
       "accurately_counted_2016    0.650837\n",
       "turnout16_2016             0.526559\n",
       "post_presvote12_2012       0.358575\n",
       "fav_hrc_2016               0.320787\n",
       "Name: presvote16post_2016, dtype: float64"
      ]
     },
     "execution_count": 9,
     "metadata": {},
     "output_type": "execute_result"
    }
   ],
   "source": [
    "df.corr()['presvote16post_2016'].sort_values(ascending=False).head(10)[1:9]"
   ]
  },
  {
   "cell_type": "markdown",
   "metadata": {},
   "source": [
    "Which attributes are correlated with the target when we have <b>three</b> classes?"
   ]
  },
  {
   "cell_type": "code",
   "execution_count": 10,
   "metadata": {
    "ExecuteTime": {
     "end_time": "2019-11-29T01:13:29.067072Z",
     "start_time": "2019-11-29T01:13:24.110743Z"
    }
   },
   "outputs": [
    {
     "data": {
      "text/plain": [
       "presvote16post_2016      0.814751\n",
       "vote_for_against_2016    0.703509\n",
       "fav_hrc_2016             0.619090\n",
       "obamaapp_2016            0.616283\n",
       "fav_obama_2016           0.578415\n",
       "Clinton_Cruz_2016        0.570247\n",
       "pid7_2016                0.559367\n",
       "Clinton_Rubio_2016       0.546756\n",
       "Name: vote_3cat, dtype: float64"
      ]
     },
     "execution_count": 10,
     "metadata": {},
     "output_type": "execute_result"
    }
   ],
   "source": [
    "df.corr()['vote_3cat'].sort_values(ascending=False).head(10)[1:9]"
   ]
  },
  {
   "cell_type": "markdown",
   "metadata": {},
   "source": [
    "Both lists show that the survey questions that ask about party affiliation, approval of Obama, and ticket options (e.g. Clinton/Cruz) coorelate the most strongly with the target. "
   ]
  },
  {
   "cell_type": "markdown",
   "metadata": {},
   "source": [
    "Now that I compared the three category target versus eight, I will use the three category target variable moving forward. "
   ]
  },
  {
   "cell_type": "markdown",
   "metadata": {},
   "source": [
    "Next, I look at other attributes that might be used as features to create a predictive model by topic area<br><br>"
   ]
  },
  {
   "cell_type": "markdown",
   "metadata": {},
   "source": [
    "### Community engagement"
   ]
  },
  {
   "cell_type": "markdown",
   "metadata": {},
   "source": [
    "Using the survey guide, select attributes to represent community engagement and generate lists of the attribute names"
   ]
  },
  {
   "cell_type": "code",
   "execution_count": 11,
   "metadata": {
    "ExecuteTime": {
     "end_time": "2019-11-29T01:13:29.079890Z",
     "start_time": "2019-11-29T01:13:29.073777Z"
    }
   },
   "outputs": [],
   "source": [
    "col_list = []\n",
    "for i in range(1, 18):\n",
    "    col = f'volunteerorg2_{i}_baseline'\n",
    "    col_list.append(col)\n",
    "\n",
    "col2_list = ['CIVIC_PARTICIPATION_2016',\n",
    "             'pew_churatd_2016',\n",
    "             'volunteer_baseline',\n",
    "             'volunteerf_baseline',\n",
    "             'volunteernum_baseline'\n",
    "             ]"
   ]
  },
  {
   "cell_type": "markdown",
   "metadata": {},
   "source": [
    "Print the number of community engagement attributes used and show the top of the dataframe with just the target and community engagement features"
   ]
  },
  {
   "cell_type": "code",
   "execution_count": 12,
   "metadata": {
    "ExecuteTime": {
     "end_time": "2019-11-29T01:13:29.161523Z",
     "start_time": "2019-11-29T01:13:29.099892Z"
    }
   },
   "outputs": [
    {
     "name": "stdout",
     "output_type": "stream",
     "text": [
      "number of community engagement attributes: 22\n"
     ]
    },
    {
     "data": {
      "text/html": [
       "<div>\n",
       "<style scoped>\n",
       "    .dataframe tbody tr th:only-of-type {\n",
       "        vertical-align: middle;\n",
       "    }\n",
       "\n",
       "    .dataframe tbody tr th {\n",
       "        vertical-align: top;\n",
       "    }\n",
       "\n",
       "    .dataframe thead th {\n",
       "        text-align: right;\n",
       "    }\n",
       "</style>\n",
       "<table border=\"1\" class=\"dataframe\">\n",
       "  <thead>\n",
       "    <tr style=\"text-align: right;\">\n",
       "      <th></th>\n",
       "      <th>volunteerorg2_1_baseline</th>\n",
       "      <th>volunteerorg2_2_baseline</th>\n",
       "      <th>volunteerorg2_3_baseline</th>\n",
       "      <th>volunteerorg2_4_baseline</th>\n",
       "      <th>volunteerorg2_5_baseline</th>\n",
       "      <th>volunteerorg2_6_baseline</th>\n",
       "      <th>volunteerorg2_7_baseline</th>\n",
       "      <th>volunteerorg2_8_baseline</th>\n",
       "      <th>volunteerorg2_9_baseline</th>\n",
       "      <th>volunteerorg2_10_baseline</th>\n",
       "      <th>...</th>\n",
       "      <th>volunteerorg2_14_baseline</th>\n",
       "      <th>volunteerorg2_15_baseline</th>\n",
       "      <th>volunteerorg2_16_baseline</th>\n",
       "      <th>volunteerorg2_17_baseline</th>\n",
       "      <th>CIVIC_PARTICIPATION_2016</th>\n",
       "      <th>pew_churatd_2016</th>\n",
       "      <th>volunteer_baseline</th>\n",
       "      <th>volunteerf_baseline</th>\n",
       "      <th>volunteernum_baseline</th>\n",
       "      <th>vote_3cat</th>\n",
       "    </tr>\n",
       "  </thead>\n",
       "  <tbody>\n",
       "    <tr>\n",
       "      <th>0</th>\n",
       "      <td>2</td>\n",
       "      <td>2</td>\n",
       "      <td>2</td>\n",
       "      <td>2</td>\n",
       "      <td>2</td>\n",
       "      <td>2</td>\n",
       "      <td>1</td>\n",
       "      <td>2</td>\n",
       "      <td>2</td>\n",
       "      <td>2</td>\n",
       "      <td>...</td>\n",
       "      <td>2</td>\n",
       "      <td>2</td>\n",
       "      <td>2</td>\n",
       "      <td>2</td>\n",
       "      <td>3.0</td>\n",
       "      <td>5.0</td>\n",
       "      <td>1.0</td>\n",
       "      <td>8.0</td>\n",
       "      <td>1.0</td>\n",
       "      <td>1.0</td>\n",
       "    </tr>\n",
       "    <tr>\n",
       "      <th>1</th>\n",
       "      <td>1</td>\n",
       "      <td>1</td>\n",
       "      <td>2</td>\n",
       "      <td>2</td>\n",
       "      <td>2</td>\n",
       "      <td>2</td>\n",
       "      <td>2</td>\n",
       "      <td>2</td>\n",
       "      <td>2</td>\n",
       "      <td>2</td>\n",
       "      <td>...</td>\n",
       "      <td>2</td>\n",
       "      <td>2</td>\n",
       "      <td>2</td>\n",
       "      <td>2</td>\n",
       "      <td>5.0</td>\n",
       "      <td>1.0</td>\n",
       "      <td>1.0</td>\n",
       "      <td>8.0</td>\n",
       "      <td>1.0</td>\n",
       "      <td>2.0</td>\n",
       "    </tr>\n",
       "    <tr>\n",
       "      <th>2</th>\n",
       "      <td>2</td>\n",
       "      <td>2</td>\n",
       "      <td>2</td>\n",
       "      <td>2</td>\n",
       "      <td>2</td>\n",
       "      <td>2</td>\n",
       "      <td>2</td>\n",
       "      <td>2</td>\n",
       "      <td>2</td>\n",
       "      <td>2</td>\n",
       "      <td>...</td>\n",
       "      <td>2</td>\n",
       "      <td>2</td>\n",
       "      <td>2</td>\n",
       "      <td>2</td>\n",
       "      <td>6.0</td>\n",
       "      <td>5.0</td>\n",
       "      <td>2.0</td>\n",
       "      <td>2.0</td>\n",
       "      <td>8.0</td>\n",
       "      <td>1.0</td>\n",
       "    </tr>\n",
       "    <tr>\n",
       "      <th>3</th>\n",
       "      <td>2</td>\n",
       "      <td>2</td>\n",
       "      <td>2</td>\n",
       "      <td>2</td>\n",
       "      <td>1</td>\n",
       "      <td>2</td>\n",
       "      <td>2</td>\n",
       "      <td>2</td>\n",
       "      <td>2</td>\n",
       "      <td>2</td>\n",
       "      <td>...</td>\n",
       "      <td>2</td>\n",
       "      <td>2</td>\n",
       "      <td>2</td>\n",
       "      <td>1</td>\n",
       "      <td>5.0</td>\n",
       "      <td>5.0</td>\n",
       "      <td>1.0</td>\n",
       "      <td>8.0</td>\n",
       "      <td>3.0</td>\n",
       "      <td>3.0</td>\n",
       "    </tr>\n",
       "    <tr>\n",
       "      <th>4</th>\n",
       "      <td>1</td>\n",
       "      <td>1</td>\n",
       "      <td>2</td>\n",
       "      <td>2</td>\n",
       "      <td>2</td>\n",
       "      <td>2</td>\n",
       "      <td>2</td>\n",
       "      <td>2</td>\n",
       "      <td>2</td>\n",
       "      <td>2</td>\n",
       "      <td>...</td>\n",
       "      <td>2</td>\n",
       "      <td>2</td>\n",
       "      <td>2</td>\n",
       "      <td>2</td>\n",
       "      <td>4.0</td>\n",
       "      <td>1.0</td>\n",
       "      <td>2.0</td>\n",
       "      <td>1.0</td>\n",
       "      <td>1.0</td>\n",
       "      <td>2.0</td>\n",
       "    </tr>\n",
       "  </tbody>\n",
       "</table>\n",
       "<p>5 rows × 23 columns</p>\n",
       "</div>"
      ],
      "text/plain": [
       "   volunteerorg2_1_baseline  volunteerorg2_2_baseline  \\\n",
       "0                         2                         2   \n",
       "1                         1                         1   \n",
       "2                         2                         2   \n",
       "3                         2                         2   \n",
       "4                         1                         1   \n",
       "\n",
       "   volunteerorg2_3_baseline  volunteerorg2_4_baseline  \\\n",
       "0                         2                         2   \n",
       "1                         2                         2   \n",
       "2                         2                         2   \n",
       "3                         2                         2   \n",
       "4                         2                         2   \n",
       "\n",
       "   volunteerorg2_5_baseline  volunteerorg2_6_baseline  \\\n",
       "0                         2                         2   \n",
       "1                         2                         2   \n",
       "2                         2                         2   \n",
       "3                         1                         2   \n",
       "4                         2                         2   \n",
       "\n",
       "   volunteerorg2_7_baseline  volunteerorg2_8_baseline  \\\n",
       "0                         1                         2   \n",
       "1                         2                         2   \n",
       "2                         2                         2   \n",
       "3                         2                         2   \n",
       "4                         2                         2   \n",
       "\n",
       "   volunteerorg2_9_baseline  volunteerorg2_10_baseline  ...  \\\n",
       "0                         2                          2  ...   \n",
       "1                         2                          2  ...   \n",
       "2                         2                          2  ...   \n",
       "3                         2                          2  ...   \n",
       "4                         2                          2  ...   \n",
       "\n",
       "   volunteerorg2_14_baseline  volunteerorg2_15_baseline  \\\n",
       "0                          2                          2   \n",
       "1                          2                          2   \n",
       "2                          2                          2   \n",
       "3                          2                          2   \n",
       "4                          2                          2   \n",
       "\n",
       "   volunteerorg2_16_baseline  volunteerorg2_17_baseline  \\\n",
       "0                          2                          2   \n",
       "1                          2                          2   \n",
       "2                          2                          2   \n",
       "3                          2                          1   \n",
       "4                          2                          2   \n",
       "\n",
       "   CIVIC_PARTICIPATION_2016  pew_churatd_2016  volunteer_baseline  \\\n",
       "0                       3.0               5.0                 1.0   \n",
       "1                       5.0               1.0                 1.0   \n",
       "2                       6.0               5.0                 2.0   \n",
       "3                       5.0               5.0                 1.0   \n",
       "4                       4.0               1.0                 2.0   \n",
       "\n",
       "   volunteerf_baseline  volunteernum_baseline  vote_3cat  \n",
       "0                  8.0                    1.0        1.0  \n",
       "1                  8.0                    1.0        2.0  \n",
       "2                  2.0                    8.0        1.0  \n",
       "3                  8.0                    3.0        3.0  \n",
       "4                  1.0                    1.0        2.0  \n",
       "\n",
       "[5 rows x 23 columns]"
      ]
     },
     "execution_count": 12,
     "metadata": {},
     "output_type": "execute_result"
    }
   ],
   "source": [
    "target = ['vote_3cat']\n",
    "df_comm_engag = df[(col_list + col2_list + target)]\n",
    "print('number of community engagement attributes:', len(col_list + col2_list))\n",
    "df_comm_engag.head()"
   ]
  },
  {
   "cell_type": "markdown",
   "metadata": {},
   "source": [
    "Check how strongly these attributes correlate with the target"
   ]
  },
  {
   "cell_type": "code",
   "execution_count": 13,
   "metadata": {
    "ExecuteTime": {
     "end_time": "2019-11-29T01:13:29.198480Z",
     "start_time": "2019-11-29T01:13:29.168840Z"
    }
   },
   "outputs": [
    {
     "data": {
      "text/plain": [
       "volunteerorg2_6_baseline     0.079310\n",
       "volunteerorg2_4_baseline     0.061510\n",
       "CIVIC_PARTICIPATION_2016     0.053554\n",
       "volunteerorg2_12_baseline    0.053367\n",
       "volunteerorg2_7_baseline     0.053001\n",
       "volunteerorg2_3_baseline     0.041190\n",
       "volunteerorg2_10_baseline    0.040977\n",
       "volunteerorg2_13_baseline    0.032248\n",
       "volunteernum_baseline        0.027982\n",
       "Name: vote_3cat, dtype: float64"
      ]
     },
     "execution_count": 13,
     "metadata": {},
     "output_type": "execute_result"
    }
   ],
   "source": [
    "df_comm_engag.corr()['vote_3cat'].sort_values(ascending=False).head(10)[1:10]"
   ]
  },
  {
   "cell_type": "markdown",
   "metadata": {},
   "source": [
    "### Religion "
   ]
  },
  {
   "cell_type": "markdown",
   "metadata": {},
   "source": [
    "Using the survey guide, select attributes to represent the importance of religion and created a list of the attribute names"
   ]
  },
  {
   "cell_type": "code",
   "execution_count": 14,
   "metadata": {
    "ExecuteTime": {
     "end_time": "2019-11-29T01:13:29.222797Z",
     "start_time": "2019-11-29T01:13:29.212986Z"
    }
   },
   "outputs": [],
   "source": [
    "col_list = ['pew_churatd_2016',\n",
    "            'pew_religimp_2016',\n",
    "            'pew_bornagain_2016',\n",
    "            'pew_prayer_2016',\n",
    "            'religpew_2016'\n",
    "            ]"
   ]
  },
  {
   "cell_type": "markdown",
   "metadata": {},
   "source": [
    "Print the number of religion attributes used and show the top of the dataframe with just the target and religion features"
   ]
  },
  {
   "cell_type": "code",
   "execution_count": 15,
   "metadata": {
    "ExecuteTime": {
     "end_time": "2019-11-29T01:13:29.262979Z",
     "start_time": "2019-11-29T01:13:29.231026Z"
    }
   },
   "outputs": [
    {
     "name": "stdout",
     "output_type": "stream",
     "text": [
      "number of religion features: 5\n"
     ]
    },
    {
     "data": {
      "text/html": [
       "<div>\n",
       "<style scoped>\n",
       "    .dataframe tbody tr th:only-of-type {\n",
       "        vertical-align: middle;\n",
       "    }\n",
       "\n",
       "    .dataframe tbody tr th {\n",
       "        vertical-align: top;\n",
       "    }\n",
       "\n",
       "    .dataframe thead th {\n",
       "        text-align: right;\n",
       "    }\n",
       "</style>\n",
       "<table border=\"1\" class=\"dataframe\">\n",
       "  <thead>\n",
       "    <tr style=\"text-align: right;\">\n",
       "      <th></th>\n",
       "      <th>pew_churatd_2016</th>\n",
       "      <th>pew_religimp_2016</th>\n",
       "      <th>pew_bornagain_2016</th>\n",
       "      <th>pew_prayer_2016</th>\n",
       "      <th>religpew_2016</th>\n",
       "      <th>vote_3cat</th>\n",
       "    </tr>\n",
       "  </thead>\n",
       "  <tbody>\n",
       "    <tr>\n",
       "      <th>0</th>\n",
       "      <td>5.0</td>\n",
       "      <td>3</td>\n",
       "      <td>2.0</td>\n",
       "      <td>6.0</td>\n",
       "      <td>2.0</td>\n",
       "      <td>1.0</td>\n",
       "    </tr>\n",
       "    <tr>\n",
       "      <th>1</th>\n",
       "      <td>1.0</td>\n",
       "      <td>1</td>\n",
       "      <td>2.0</td>\n",
       "      <td>1.0</td>\n",
       "      <td>3.0</td>\n",
       "      <td>2.0</td>\n",
       "    </tr>\n",
       "    <tr>\n",
       "      <th>2</th>\n",
       "      <td>5.0</td>\n",
       "      <td>4</td>\n",
       "      <td>2.0</td>\n",
       "      <td>3.0</td>\n",
       "      <td>2.0</td>\n",
       "      <td>1.0</td>\n",
       "    </tr>\n",
       "    <tr>\n",
       "      <th>3</th>\n",
       "      <td>5.0</td>\n",
       "      <td>3</td>\n",
       "      <td>2.0</td>\n",
       "      <td>3.0</td>\n",
       "      <td>11.0</td>\n",
       "      <td>3.0</td>\n",
       "    </tr>\n",
       "    <tr>\n",
       "      <th>4</th>\n",
       "      <td>1.0</td>\n",
       "      <td>1</td>\n",
       "      <td>2.0</td>\n",
       "      <td>2.0</td>\n",
       "      <td>3.0</td>\n",
       "      <td>2.0</td>\n",
       "    </tr>\n",
       "  </tbody>\n",
       "</table>\n",
       "</div>"
      ],
      "text/plain": [
       "   pew_churatd_2016  pew_religimp_2016  pew_bornagain_2016  pew_prayer_2016  \\\n",
       "0               5.0                  3                 2.0              6.0   \n",
       "1               1.0                  1                 2.0              1.0   \n",
       "2               5.0                  4                 2.0              3.0   \n",
       "3               5.0                  3                 2.0              3.0   \n",
       "4               1.0                  1                 2.0              2.0   \n",
       "\n",
       "   religpew_2016  vote_3cat  \n",
       "0            2.0        1.0  \n",
       "1            3.0        2.0  \n",
       "2            2.0        1.0  \n",
       "3           11.0        3.0  \n",
       "4            3.0        2.0  "
      ]
     },
     "execution_count": 15,
     "metadata": {},
     "output_type": "execute_result"
    }
   ],
   "source": [
    "print('number of religion features:', len(col_list))\n",
    "df_religion = df[(col_list + target)]\n",
    "df_religion.head()"
   ]
  },
  {
   "cell_type": "markdown",
   "metadata": {},
   "source": [
    "Check how strongly these attributes correlate with the target"
   ]
  },
  {
   "cell_type": "code",
   "execution_count": 16,
   "metadata": {
    "ExecuteTime": {
     "end_time": "2019-11-29T01:13:29.306753Z",
     "start_time": "2019-11-29T01:13:29.274704Z"
    }
   },
   "outputs": [
    {
     "data": {
      "text/plain": [
       "pew_churatd_2016     -0.125100\n",
       "religpew_2016        -0.129768\n",
       "pew_prayer_2016      -0.150176\n",
       "pew_bornagain_2016   -0.152011\n",
       "pew_religimp_2016    -0.179026\n",
       "Name: vote_3cat, dtype: float64"
      ]
     },
     "execution_count": 16,
     "metadata": {},
     "output_type": "execute_result"
    }
   ],
   "source": [
    "df_religion.corr()['vote_3cat'].sort_values(ascending=False).head(10)[1:10]"
   ]
  },
  {
   "cell_type": "markdown",
   "metadata": {},
   "source": [
    "### Issue Importance"
   ]
  },
  {
   "cell_type": "markdown",
   "metadata": {},
   "source": [
    "#### Issue Importance: All 23 issues"
   ]
  },
  {
   "cell_type": "markdown",
   "metadata": {},
   "source": [
    "Set regular expressions pattern to match columns with issue questions"
   ]
  },
  {
   "cell_type": "code",
   "execution_count": 17,
   "metadata": {
    "ExecuteTime": {
     "end_time": "2019-11-29T01:13:29.335048Z",
     "start_time": "2019-11-29T01:13:29.327159Z"
    }
   },
   "outputs": [],
   "source": [
    "pattern = '(imiss_).{1}(_2016)'"
   ]
  },
  {
   "cell_type": "markdown",
   "metadata": {},
   "source": [
    "Call function to return list"
   ]
  },
  {
   "cell_type": "code",
   "execution_count": 18,
   "metadata": {
    "ExecuteTime": {
     "end_time": "2019-11-29T01:13:29.351702Z",
     "start_time": "2019-11-29T01:13:29.340558Z"
    }
   },
   "outputs": [],
   "source": [
    "col_list = filter_col_with_regex(df, pattern)\n",
    "df_issue = df[col_list + target]"
   ]
  },
  {
   "cell_type": "code",
   "execution_count": 19,
   "metadata": {
    "ExecuteTime": {
     "end_time": "2019-11-29T01:13:29.411204Z",
     "start_time": "2019-11-29T01:13:29.354915Z"
    }
   },
   "outputs": [
    {
     "name": "stdout",
     "output_type": "stream",
     "text": [
      "number of issue features: 23\n"
     ]
    },
    {
     "data": {
      "text/html": [
       "<div>\n",
       "<style scoped>\n",
       "    .dataframe tbody tr th:only-of-type {\n",
       "        vertical-align: middle;\n",
       "    }\n",
       "\n",
       "    .dataframe tbody tr th {\n",
       "        vertical-align: top;\n",
       "    }\n",
       "\n",
       "    .dataframe thead th {\n",
       "        text-align: right;\n",
       "    }\n",
       "</style>\n",
       "<table border=\"1\" class=\"dataframe\">\n",
       "  <thead>\n",
       "    <tr style=\"text-align: right;\">\n",
       "      <th></th>\n",
       "      <th>imiss_a_2016</th>\n",
       "      <th>imiss_b_2016</th>\n",
       "      <th>imiss_c_2016</th>\n",
       "      <th>imiss_d_2016</th>\n",
       "      <th>imiss_e_2016</th>\n",
       "      <th>imiss_f_2016</th>\n",
       "      <th>imiss_g_2016</th>\n",
       "      <th>imiss_h_2016</th>\n",
       "      <th>imiss_i_2016</th>\n",
       "      <th>imiss_j_2016</th>\n",
       "      <th>...</th>\n",
       "      <th>imiss_o_2016</th>\n",
       "      <th>imiss_p_2016</th>\n",
       "      <th>imiss_q_2016</th>\n",
       "      <th>imiss_r_2016</th>\n",
       "      <th>imiss_s_2016</th>\n",
       "      <th>imiss_t_2016</th>\n",
       "      <th>imiss_u_2016</th>\n",
       "      <th>imiss_x_2016</th>\n",
       "      <th>imiss_y_2016</th>\n",
       "      <th>vote_3cat</th>\n",
       "    </tr>\n",
       "  </thead>\n",
       "  <tbody>\n",
       "    <tr>\n",
       "      <th>0</th>\n",
       "      <td>2.0</td>\n",
       "      <td>2.0</td>\n",
       "      <td>1.0</td>\n",
       "      <td>1.0</td>\n",
       "      <td>1.0</td>\n",
       "      <td>2.0</td>\n",
       "      <td>1.0</td>\n",
       "      <td>1.0</td>\n",
       "      <td>2.0</td>\n",
       "      <td>1.0</td>\n",
       "      <td>...</td>\n",
       "      <td>2.0</td>\n",
       "      <td>2.0</td>\n",
       "      <td>1.0</td>\n",
       "      <td>2.0</td>\n",
       "      <td>1.0</td>\n",
       "      <td>1.0</td>\n",
       "      <td>2.0</td>\n",
       "      <td>1.0</td>\n",
       "      <td>1.0</td>\n",
       "      <td>1.0</td>\n",
       "    </tr>\n",
       "    <tr>\n",
       "      <th>1</th>\n",
       "      <td>1.0</td>\n",
       "      <td>1.0</td>\n",
       "      <td>2.0</td>\n",
       "      <td>2.0</td>\n",
       "      <td>1.0</td>\n",
       "      <td>1.0</td>\n",
       "      <td>4.0</td>\n",
       "      <td>2.0</td>\n",
       "      <td>2.0</td>\n",
       "      <td>1.0</td>\n",
       "      <td>...</td>\n",
       "      <td>1.0</td>\n",
       "      <td>1.0</td>\n",
       "      <td>1.0</td>\n",
       "      <td>1.0</td>\n",
       "      <td>2.0</td>\n",
       "      <td>1.0</td>\n",
       "      <td>2.0</td>\n",
       "      <td>3.0</td>\n",
       "      <td>4.0</td>\n",
       "      <td>2.0</td>\n",
       "    </tr>\n",
       "    <tr>\n",
       "      <th>2</th>\n",
       "      <td>1.0</td>\n",
       "      <td>1.0</td>\n",
       "      <td>2.0</td>\n",
       "      <td>1.0</td>\n",
       "      <td>3.0</td>\n",
       "      <td>1.0</td>\n",
       "      <td>3.0</td>\n",
       "      <td>2.0</td>\n",
       "      <td>4.0</td>\n",
       "      <td>1.0</td>\n",
       "      <td>...</td>\n",
       "      <td>1.0</td>\n",
       "      <td>2.0</td>\n",
       "      <td>1.0</td>\n",
       "      <td>1.0</td>\n",
       "      <td>1.0</td>\n",
       "      <td>3.0</td>\n",
       "      <td>2.0</td>\n",
       "      <td>1.0</td>\n",
       "      <td>2.0</td>\n",
       "      <td>1.0</td>\n",
       "    </tr>\n",
       "    <tr>\n",
       "      <th>3</th>\n",
       "      <td>1.0</td>\n",
       "      <td>2.0</td>\n",
       "      <td>3.0</td>\n",
       "      <td>1.0</td>\n",
       "      <td>1.0</td>\n",
       "      <td>2.0</td>\n",
       "      <td>3.0</td>\n",
       "      <td>2.0</td>\n",
       "      <td>4.0</td>\n",
       "      <td>1.0</td>\n",
       "      <td>...</td>\n",
       "      <td>1.0</td>\n",
       "      <td>3.0</td>\n",
       "      <td>2.0</td>\n",
       "      <td>2.0</td>\n",
       "      <td>2.0</td>\n",
       "      <td>3.0</td>\n",
       "      <td>2.0</td>\n",
       "      <td>2.0</td>\n",
       "      <td>3.0</td>\n",
       "      <td>3.0</td>\n",
       "    </tr>\n",
       "    <tr>\n",
       "      <th>4</th>\n",
       "      <td>1.0</td>\n",
       "      <td>1.0</td>\n",
       "      <td>1.0</td>\n",
       "      <td>1.0</td>\n",
       "      <td>1.0</td>\n",
       "      <td>1.0</td>\n",
       "      <td>3.0</td>\n",
       "      <td>1.0</td>\n",
       "      <td>2.0</td>\n",
       "      <td>1.0</td>\n",
       "      <td>...</td>\n",
       "      <td>1.0</td>\n",
       "      <td>1.0</td>\n",
       "      <td>2.0</td>\n",
       "      <td>1.0</td>\n",
       "      <td>2.0</td>\n",
       "      <td>1.0</td>\n",
       "      <td>1.0</td>\n",
       "      <td>1.0</td>\n",
       "      <td>1.0</td>\n",
       "      <td>2.0</td>\n",
       "    </tr>\n",
       "  </tbody>\n",
       "</table>\n",
       "<p>5 rows × 24 columns</p>\n",
       "</div>"
      ],
      "text/plain": [
       "   imiss_a_2016  imiss_b_2016  imiss_c_2016  imiss_d_2016  imiss_e_2016  \\\n",
       "0           2.0           2.0           1.0           1.0           1.0   \n",
       "1           1.0           1.0           2.0           2.0           1.0   \n",
       "2           1.0           1.0           2.0           1.0           3.0   \n",
       "3           1.0           2.0           3.0           1.0           1.0   \n",
       "4           1.0           1.0           1.0           1.0           1.0   \n",
       "\n",
       "   imiss_f_2016  imiss_g_2016  imiss_h_2016  imiss_i_2016  imiss_j_2016  ...  \\\n",
       "0           2.0           1.0           1.0           2.0           1.0  ...   \n",
       "1           1.0           4.0           2.0           2.0           1.0  ...   \n",
       "2           1.0           3.0           2.0           4.0           1.0  ...   \n",
       "3           2.0           3.0           2.0           4.0           1.0  ...   \n",
       "4           1.0           3.0           1.0           2.0           1.0  ...   \n",
       "\n",
       "   imiss_o_2016  imiss_p_2016  imiss_q_2016  imiss_r_2016  imiss_s_2016  \\\n",
       "0           2.0           2.0           1.0           2.0           1.0   \n",
       "1           1.0           1.0           1.0           1.0           2.0   \n",
       "2           1.0           2.0           1.0           1.0           1.0   \n",
       "3           1.0           3.0           2.0           2.0           2.0   \n",
       "4           1.0           1.0           2.0           1.0           2.0   \n",
       "\n",
       "   imiss_t_2016  imiss_u_2016  imiss_x_2016  imiss_y_2016  vote_3cat  \n",
       "0           1.0           2.0           1.0           1.0        1.0  \n",
       "1           1.0           2.0           3.0           4.0        2.0  \n",
       "2           3.0           2.0           1.0           2.0        1.0  \n",
       "3           3.0           2.0           2.0           3.0        3.0  \n",
       "4           1.0           1.0           1.0           1.0        2.0  \n",
       "\n",
       "[5 rows x 24 columns]"
      ]
     },
     "execution_count": 19,
     "metadata": {},
     "output_type": "execute_result"
    }
   ],
   "source": [
    "print('number of issue features:', len(col_list))\n",
    "df_issue = df[(col_list + target)]\n",
    "df_issue.head()"
   ]
  },
  {
   "cell_type": "markdown",
   "metadata": {
    "ExecuteTime": {
     "end_time": "2019-11-26T17:54:13.619809Z",
     "start_time": "2019-11-26T17:54:13.607174Z"
    }
   },
   "source": [
    "Check how strongly these attributes correlate with the target"
   ]
  },
  {
   "cell_type": "code",
   "execution_count": 20,
   "metadata": {
    "ExecuteTime": {
     "end_time": "2019-11-29T01:13:29.439449Z",
     "start_time": "2019-11-29T01:13:29.416663Z"
    }
   },
   "outputs": [
    {
     "data": {
      "text/plain": [
       "vote_3cat       1.000000\n",
       "imiss_l_2016    0.395681\n",
       "imiss_g_2016    0.331644\n",
       "imiss_y_2016    0.324188\n",
       "imiss_x_2016    0.286479\n",
       "imiss_d_2016    0.285567\n",
       "imiss_i_2016    0.219071\n",
       "imiss_q_2016    0.181965\n",
       "imiss_k_2016    0.158439\n",
       "imiss_n_2016    0.142047\n",
       "Name: vote_3cat, dtype: float64"
      ]
     },
     "execution_count": 20,
     "metadata": {},
     "output_type": "execute_result"
    }
   ],
   "source": [
    "df_issue.corr()['vote_3cat'].sort_values(ascending=False).head(10)"
   ]
  },
  {
   "cell_type": "markdown",
   "metadata": {},
   "source": [
    "Check the tail for strength of negative correlations"
   ]
  },
  {
   "cell_type": "code",
   "execution_count": 21,
   "metadata": {
    "ExecuteTime": {
     "end_time": "2019-11-29T01:13:29.473484Z",
     "start_time": "2019-11-29T01:13:29.445524Z"
    }
   },
   "outputs": [
    {
     "data": {
      "text/plain": [
       "imiss_t_2016    0.043139\n",
       "imiss_o_2016   -0.007340\n",
       "imiss_b_2016   -0.012280\n",
       "imiss_c_2016   -0.106580\n",
       "imiss_a_2016   -0.106932\n",
       "imiss_e_2016   -0.118500\n",
       "imiss_f_2016   -0.118852\n",
       "imiss_r_2016   -0.121574\n",
       "imiss_p_2016   -0.223021\n",
       "imiss_u_2016   -0.272860\n",
       "Name: vote_3cat, dtype: float64"
      ]
     },
     "execution_count": 21,
     "metadata": {},
     "output_type": "execute_result"
    }
   ],
   "source": [
    "df_issue.corr()['vote_3cat'].sort_values(ascending=False).tail(10)"
   ]
  },
  {
   "cell_type": "markdown",
   "metadata": {},
   "source": [
    "#### Issue importance: Climate change"
   ]
  },
  {
   "cell_type": "markdown",
   "metadata": {},
   "source": [
    "Add weights to dataframe with issue attributes and target"
   ]
  },
  {
   "cell_type": "code",
   "execution_count": 22,
   "metadata": {
    "ExecuteTime": {
     "end_time": "2019-11-29T01:13:29.490763Z",
     "start_time": "2019-11-29T01:13:29.476542Z"
    }
   },
   "outputs": [],
   "source": [
    "df_issue = df_issue.join(weight)\n",
    "grouped = df_issue.groupby(['vote_3cat'])"
   ]
  },
  {
   "cell_type": "markdown",
   "metadata": {},
   "source": [
    "Look at weighted responses to importance of <b>climate change</b>"
   ]
  },
  {
   "cell_type": "code",
   "execution_count": 23,
   "metadata": {
    "ExecuteTime": {
     "end_time": "2019-11-29T01:13:29.530954Z",
     "start_time": "2019-11-29T01:13:29.493418Z"
    }
   },
   "outputs": [
    {
     "data": {
      "text/html": [
       "<div>\n",
       "<style scoped>\n",
       "    .dataframe tbody tr th:only-of-type {\n",
       "        vertical-align: middle;\n",
       "    }\n",
       "\n",
       "    .dataframe tbody tr th {\n",
       "        vertical-align: top;\n",
       "    }\n",
       "\n",
       "    .dataframe thead th {\n",
       "        text-align: right;\n",
       "    }\n",
       "</style>\n",
       "<table border=\"1\" class=\"dataframe\">\n",
       "  <thead>\n",
       "    <tr style=\"text-align: right;\">\n",
       "      <th>imiss_l_2016</th>\n",
       "      <th>1.0</th>\n",
       "      <th>2.0</th>\n",
       "      <th>3.0</th>\n",
       "      <th>4.0</th>\n",
       "      <th>8.0</th>\n",
       "    </tr>\n",
       "    <tr>\n",
       "      <th>vote_3cat</th>\n",
       "      <th></th>\n",
       "      <th></th>\n",
       "      <th></th>\n",
       "      <th></th>\n",
       "      <th></th>\n",
       "    </tr>\n",
       "  </thead>\n",
       "  <tbody>\n",
       "    <tr>\n",
       "      <th>1.0</th>\n",
       "      <td>0.657</td>\n",
       "      <td>0.235</td>\n",
       "      <td>0.060</td>\n",
       "      <td>0.023</td>\n",
       "      <td>0.025</td>\n",
       "    </tr>\n",
       "    <tr>\n",
       "      <th>2.0</th>\n",
       "      <td>0.115</td>\n",
       "      <td>0.214</td>\n",
       "      <td>0.266</td>\n",
       "      <td>0.390</td>\n",
       "      <td>0.015</td>\n",
       "    </tr>\n",
       "    <tr>\n",
       "      <th>3.0</th>\n",
       "      <td>0.318</td>\n",
       "      <td>0.278</td>\n",
       "      <td>0.205</td>\n",
       "      <td>0.155</td>\n",
       "      <td>0.045</td>\n",
       "    </tr>\n",
       "  </tbody>\n",
       "</table>\n",
       "</div>"
      ],
      "text/plain": [
       "imiss_l_2016    1.0    2.0    3.0    4.0    8.0\n",
       "vote_3cat                                      \n",
       "1.0           0.657  0.235  0.060  0.023  0.025\n",
       "2.0           0.115  0.214  0.266  0.390  0.015\n",
       "3.0           0.318  0.278  0.205  0.155  0.045"
      ]
     },
     "execution_count": 23,
     "metadata": {},
     "output_type": "execute_result"
    }
   ],
   "source": [
    "clim_weighted = calc.distribution(grouped, 'imiss_l_2016').round(3)\n",
    "clim_weighted"
   ]
  },
  {
   "cell_type": "markdown",
   "metadata": {},
   "source": [
    "Create stacked bar plots of weighted response frequency by target class for <b>climate change</b>"
   ]
  },
  {
   "cell_type": "code",
   "execution_count": 24,
   "metadata": {
    "ExecuteTime": {
     "end_time": "2019-11-29T01:13:29.855003Z",
     "start_time": "2019-11-29T01:13:29.534959Z"
    }
   },
   "outputs": [
    {
     "data": {
      "image/png": "[encoded data removed]",
      "text/plain": [
       "<Figure size 432x288 with 1 Axes>"
      ]
     },
     "metadata": {
      "needs_background": "light"
     },
     "output_type": "display_data"
    }
   ],
   "source": [
    "data = clim_weighted\n",
    "title = 'Climate change'\n",
    "plot_stacked(data, title)\n",
    "plt.show()"
   ]
  },
  {
   "cell_type": "markdown",
   "metadata": {},
   "source": [
    "#### Issue Importance: The Budget deficit"
   ]
  },
  {
   "cell_type": "markdown",
   "metadata": {},
   "source": [
    "View weighted responses to importance of <b>the Budget deficit</b>"
   ]
  },
  {
   "cell_type": "code",
   "execution_count": 25,
   "metadata": {
    "ExecuteTime": {
     "end_time": "2019-11-29T01:13:29.915348Z",
     "start_time": "2019-11-29T01:13:29.860621Z"
    }
   },
   "outputs": [
    {
     "data": {
      "text/html": [
       "<div>\n",
       "<style scoped>\n",
       "    .dataframe tbody tr th:only-of-type {\n",
       "        vertical-align: middle;\n",
       "    }\n",
       "\n",
       "    .dataframe tbody tr th {\n",
       "        vertical-align: top;\n",
       "    }\n",
       "\n",
       "    .dataframe thead th {\n",
       "        text-align: right;\n",
       "    }\n",
       "</style>\n",
       "<table border=\"1\" class=\"dataframe\">\n",
       "  <thead>\n",
       "    <tr style=\"text-align: right;\">\n",
       "      <th>imiss_p_2016</th>\n",
       "      <th>1.0</th>\n",
       "      <th>2.0</th>\n",
       "      <th>3.0</th>\n",
       "      <th>4.0</th>\n",
       "      <th>8.0</th>\n",
       "    </tr>\n",
       "    <tr>\n",
       "      <th>vote_3cat</th>\n",
       "      <th></th>\n",
       "      <th></th>\n",
       "      <th></th>\n",
       "      <th></th>\n",
       "      <th></th>\n",
       "    </tr>\n",
       "  </thead>\n",
       "  <tbody>\n",
       "    <tr>\n",
       "      <th>1.0</th>\n",
       "      <td>0.292</td>\n",
       "      <td>0.396</td>\n",
       "      <td>0.221</td>\n",
       "      <td>0.063</td>\n",
       "      <td>0.029</td>\n",
       "    </tr>\n",
       "    <tr>\n",
       "      <th>2.0</th>\n",
       "      <td>0.706</td>\n",
       "      <td>0.236</td>\n",
       "      <td>0.029</td>\n",
       "      <td>0.007</td>\n",
       "      <td>0.022</td>\n",
       "    </tr>\n",
       "    <tr>\n",
       "      <th>3.0</th>\n",
       "      <td>0.466</td>\n",
       "      <td>0.343</td>\n",
       "      <td>0.078</td>\n",
       "      <td>0.057</td>\n",
       "      <td>0.056</td>\n",
       "    </tr>\n",
       "  </tbody>\n",
       "</table>\n",
       "</div>"
      ],
      "text/plain": [
       "imiss_p_2016    1.0    2.0    3.0    4.0    8.0\n",
       "vote_3cat                                      \n",
       "1.0           0.292  0.396  0.221  0.063  0.029\n",
       "2.0           0.706  0.236  0.029  0.007  0.022\n",
       "3.0           0.466  0.343  0.078  0.057  0.056"
      ]
     },
     "execution_count": 25,
     "metadata": {},
     "output_type": "execute_result"
    }
   ],
   "source": [
    "budget_weighted = calc.distribution(grouped, 'imiss_p_2016').round(3)\n",
    "budget_weighted"
   ]
  },
  {
   "cell_type": "markdown",
   "metadata": {},
   "source": [
    "Create stacked bar plots of weighted response frequency by target class for <b>the Budget deficit</b>"
   ]
  },
  {
   "cell_type": "code",
   "execution_count": 26,
   "metadata": {
    "ExecuteTime": {
     "end_time": "2019-11-29T01:13:30.221329Z",
     "start_time": "2019-11-29T01:13:29.921264Z"
    }
   },
   "outputs": [
    {
     "data": {
      "image/png": "[encoded data removed]",
      "text/plain": [
       "<Figure size 432x288 with 1 Axes>"
      ]
     },
     "metadata": {
      "needs_background": "light"
     },
     "output_type": "display_data"
    }
   ],
   "source": [
    "title = 'The Budget deficit' \n",
    "plot_stacked(budget_weighted, title)\n",
    "plt.show()"
   ]
  },
  {
   "cell_type": "markdown",
   "metadata": {},
   "source": [
    "#### Issue Importance: Abortion"
   ]
  },
  {
   "cell_type": "markdown",
   "metadata": {},
   "source": [
    "Print weighted responses to importance of <b>abortion</b>"
   ]
  },
  {
   "cell_type": "code",
   "execution_count": 27,
   "metadata": {
    "ExecuteTime": {
     "end_time": "2019-11-29T01:13:30.266771Z",
     "start_time": "2019-11-29T01:13:30.224851Z"
    }
   },
   "outputs": [
    {
     "name": "stdout",
     "output_type": "stream",
     "text": [
      "imiss_t_2016    1.0    2.0    3.0    4.0    8.0\n",
      "vote_3cat                                      \n",
      "1.0           0.376  0.321  0.180  0.098  0.024\n",
      "2.0           0.383  0.279  0.196  0.126  0.017\n",
      "3.0           0.328  0.286  0.215  0.123  0.048\n"
     ]
    }
   ],
   "source": [
    "abort_weighted = calc.distribution(grouped, 'imiss_t_2016').round(3)\n",
    "print(abort_weighted)"
   ]
  },
  {
   "cell_type": "markdown",
   "metadata": {},
   "source": [
    "Create stacked bar plots of weighted response frequency by target class for <b>abortion</b> "
   ]
  },
  {
   "cell_type": "code",
   "execution_count": 28,
   "metadata": {
    "ExecuteTime": {
     "end_time": "2019-11-29T01:13:30.574700Z",
     "start_time": "2019-11-29T01:13:30.274881Z"
    }
   },
   "outputs": [
    {
     "data": {
      "image/png": "[encoded data removed]",
      "text/plain": [
       "<Figure size 432x288 with 1 Axes>"
      ]
     },
     "metadata": {
      "needs_background": "light"
     },
     "output_type": "display_data"
    }
   ],
   "source": [
    "title = 'Abortion' \n",
    "plot_stacked(abort_weighted, title)\n",
    "plt.show()"
   ]
  },
  {
   "cell_type": "markdown",
   "metadata": {},
   "source": [
    "#### Issue Importance: Size of government"
   ]
  },
  {
   "cell_type": "markdown",
   "metadata": {},
   "source": [
    "Print weighted responses to importance of <b>size of government</b>"
   ]
  },
  {
   "cell_type": "code",
   "execution_count": 29,
   "metadata": {
    "ExecuteTime": {
     "end_time": "2019-11-29T01:13:30.624623Z",
     "start_time": "2019-11-29T01:13:30.579180Z"
    }
   },
   "outputs": [
    {
     "name": "stdout",
     "output_type": "stream",
     "text": [
      "imiss_u_2016    1.0    2.0    3.0    4.0    8.0\n",
      "vote_3cat                                      \n",
      "1.0           0.175  0.369  0.318  0.111  0.028\n",
      "2.0           0.630  0.288  0.056  0.007  0.019\n",
      "3.0           0.364  0.367  0.169  0.044  0.057\n"
     ]
    }
   ],
   "source": [
    "gov_weighted = calc.distribution(grouped, 'imiss_u_2016').round(3)\n",
    "print(gov_weighted)"
   ]
  },
  {
   "cell_type": "markdown",
   "metadata": {},
   "source": [
    "Create stacked bar plots of weighted response frequency by target class for <b>size of government</b>"
   ]
  },
  {
   "cell_type": "code",
   "execution_count": 30,
   "metadata": {
    "ExecuteTime": {
     "end_time": "2019-11-29T01:13:30.996824Z",
     "start_time": "2019-11-29T01:13:30.631897Z"
    }
   },
   "outputs": [
    {
     "data": {
      "image/png": "[encoded data removed]",
      "text/plain": [
       "<Figure size 432x288 with 1 Axes>"
      ]
     },
     "metadata": {
      "needs_background": "light"
     },
     "output_type": "display_data"
    }
   ],
   "source": [
    "title = 'Size of government'\n",
    "plot_stacked(gov_weighted, title)\n",
    "plt.show()"
   ]
  },
  {
   "cell_type": "markdown",
   "metadata": {},
   "source": [
    "#### Check counts for each issue"
   ]
  },
  {
   "cell_type": "markdown",
   "metadata": {},
   "source": [
    "Subset issue dataframe into the three classes"
   ]
  },
  {
   "cell_type": "code",
   "execution_count": 31,
   "metadata": {
    "ExecuteTime": {
     "end_time": "2019-11-29T01:13:31.769551Z",
     "start_time": "2019-11-29T01:13:31.755808Z"
    }
   },
   "outputs": [],
   "source": [
    "df_clint = df_issue.loc[df_issue.vote_3cat == 1]\n",
    "df_trump = df_issue.loc[df_issue.vote_3cat  == 2]\n",
    "df_other_behav = df_issue.loc[df_issue.vote_3cat  == 3]\n",
    "cat_df_list = [df_clint, df_trump, df_other_behav]"
   ]
  },
  {
   "cell_type": "code",
   "execution_count": 32,
   "metadata": {
    "ExecuteTime": {
     "end_time": "2019-11-29T01:13:31.965727Z",
     "start_time": "2019-11-29T01:13:31.955113Z"
    }
   },
   "outputs": [
    {
     "data": {
      "text/plain": [
       "Index(['imiss_a_2016', 'imiss_b_2016', 'imiss_c_2016', 'imiss_d_2016',\n",
       "       'imiss_e_2016', 'imiss_f_2016', 'imiss_g_2016', 'imiss_h_2016',\n",
       "       'imiss_i_2016', 'imiss_j_2016', 'imiss_k_2016', 'imiss_l_2016',\n",
       "       'imiss_m_2016', 'imiss_n_2016', 'imiss_o_2016', 'imiss_p_2016',\n",
       "       'imiss_q_2016', 'imiss_r_2016', 'imiss_s_2016', 'imiss_t_2016',\n",
       "       'imiss_u_2016', 'imiss_x_2016', 'imiss_y_2016', 'vote_3cat', 'weight'],\n",
       "      dtype='object')"
      ]
     },
     "execution_count": 32,
     "metadata": {},
     "output_type": "execute_result"
    }
   ],
   "source": [
    "df_clint.columns"
   ]
  },
  {
   "cell_type": "markdown",
   "metadata": {},
   "source": [
    "Reset the index, drop the old index, drop vote category and weight columns, print the number of attributes "
   ]
  },
  {
   "cell_type": "code",
   "execution_count": 33,
   "metadata": {
    "ExecuteTime": {
     "end_time": "2019-11-29T01:13:33.134051Z",
     "start_time": "2019-11-29T01:13:32.880035Z"
    }
   },
   "outputs": [
    {
     "name": "stdout",
     "output_type": "stream",
     "text": [
      "23\n",
      "23\n",
      "23\n"
     ]
    }
   ],
   "source": [
    "for df in cat_df_list:\n",
    "    df.reset_index(drop=True, inplace=True)\n",
    "    df.drop(columns=['vote_3cat','weight'], inplace=True)\n",
    "    print(len(df.columns))"
   ]
  },
  {
   "cell_type": "markdown",
   "metadata": {},
   "source": [
    "Check that index has been reset"
   ]
  },
  {
   "cell_type": "code",
   "execution_count": 34,
   "metadata": {
    "ExecuteTime": {
     "end_time": "2019-11-29T01:13:33.321445Z",
     "start_time": "2019-11-29T01:13:33.281573Z"
    }
   },
   "outputs": [
    {
     "data": {
      "text/html": [
       "<div>\n",
       "<style scoped>\n",
       "    .dataframe tbody tr th:only-of-type {\n",
       "        vertical-align: middle;\n",
       "    }\n",
       "\n",
       "    .dataframe tbody tr th {\n",
       "        vertical-align: top;\n",
       "    }\n",
       "\n",
       "    .dataframe thead th {\n",
       "        text-align: right;\n",
       "    }\n",
       "</style>\n",
       "<table border=\"1\" class=\"dataframe\">\n",
       "  <thead>\n",
       "    <tr style=\"text-align: right;\">\n",
       "      <th></th>\n",
       "      <th>imiss_a_2016</th>\n",
       "      <th>imiss_b_2016</th>\n",
       "      <th>imiss_c_2016</th>\n",
       "      <th>imiss_d_2016</th>\n",
       "      <th>imiss_e_2016</th>\n",
       "      <th>imiss_f_2016</th>\n",
       "      <th>imiss_g_2016</th>\n",
       "      <th>imiss_h_2016</th>\n",
       "      <th>imiss_i_2016</th>\n",
       "      <th>imiss_j_2016</th>\n",
       "      <th>...</th>\n",
       "      <th>imiss_n_2016</th>\n",
       "      <th>imiss_o_2016</th>\n",
       "      <th>imiss_p_2016</th>\n",
       "      <th>imiss_q_2016</th>\n",
       "      <th>imiss_r_2016</th>\n",
       "      <th>imiss_s_2016</th>\n",
       "      <th>imiss_t_2016</th>\n",
       "      <th>imiss_u_2016</th>\n",
       "      <th>imiss_x_2016</th>\n",
       "      <th>imiss_y_2016</th>\n",
       "    </tr>\n",
       "  </thead>\n",
       "  <tbody>\n",
       "    <tr>\n",
       "      <th>0</th>\n",
       "      <td>1.0</td>\n",
       "      <td>2.0</td>\n",
       "      <td>3.0</td>\n",
       "      <td>1.0</td>\n",
       "      <td>1.0</td>\n",
       "      <td>2.0</td>\n",
       "      <td>3.0</td>\n",
       "      <td>2.0</td>\n",
       "      <td>4.0</td>\n",
       "      <td>1.0</td>\n",
       "      <td>...</td>\n",
       "      <td>1.0</td>\n",
       "      <td>1.0</td>\n",
       "      <td>3.0</td>\n",
       "      <td>2.0</td>\n",
       "      <td>2.0</td>\n",
       "      <td>2.0</td>\n",
       "      <td>3.0</td>\n",
       "      <td>2.0</td>\n",
       "      <td>2.0</td>\n",
       "      <td>3.0</td>\n",
       "    </tr>\n",
       "    <tr>\n",
       "      <th>1</th>\n",
       "      <td>3.0</td>\n",
       "      <td>2.0</td>\n",
       "      <td>4.0</td>\n",
       "      <td>1.0</td>\n",
       "      <td>3.0</td>\n",
       "      <td>3.0</td>\n",
       "      <td>2.0</td>\n",
       "      <td>2.0</td>\n",
       "      <td>4.0</td>\n",
       "      <td>3.0</td>\n",
       "      <td>...</td>\n",
       "      <td>2.0</td>\n",
       "      <td>2.0</td>\n",
       "      <td>3.0</td>\n",
       "      <td>3.0</td>\n",
       "      <td>4.0</td>\n",
       "      <td>4.0</td>\n",
       "      <td>4.0</td>\n",
       "      <td>3.0</td>\n",
       "      <td>3.0</td>\n",
       "      <td>4.0</td>\n",
       "    </tr>\n",
       "    <tr>\n",
       "      <th>2</th>\n",
       "      <td>2.0</td>\n",
       "      <td>2.0</td>\n",
       "      <td>2.0</td>\n",
       "      <td>2.0</td>\n",
       "      <td>2.0</td>\n",
       "      <td>2.0</td>\n",
       "      <td>2.0</td>\n",
       "      <td>2.0</td>\n",
       "      <td>3.0</td>\n",
       "      <td>2.0</td>\n",
       "      <td>...</td>\n",
       "      <td>2.0</td>\n",
       "      <td>2.0</td>\n",
       "      <td>2.0</td>\n",
       "      <td>2.0</td>\n",
       "      <td>2.0</td>\n",
       "      <td>2.0</td>\n",
       "      <td>2.0</td>\n",
       "      <td>2.0</td>\n",
       "      <td>2.0</td>\n",
       "      <td>2.0</td>\n",
       "    </tr>\n",
       "    <tr>\n",
       "      <th>3</th>\n",
       "      <td>1.0</td>\n",
       "      <td>1.0</td>\n",
       "      <td>2.0</td>\n",
       "      <td>3.0</td>\n",
       "      <td>1.0</td>\n",
       "      <td>1.0</td>\n",
       "      <td>4.0</td>\n",
       "      <td>1.0</td>\n",
       "      <td>4.0</td>\n",
       "      <td>2.0</td>\n",
       "      <td>...</td>\n",
       "      <td>2.0</td>\n",
       "      <td>1.0</td>\n",
       "      <td>2.0</td>\n",
       "      <td>2.0</td>\n",
       "      <td>1.0</td>\n",
       "      <td>3.0</td>\n",
       "      <td>1.0</td>\n",
       "      <td>1.0</td>\n",
       "      <td>3.0</td>\n",
       "      <td>4.0</td>\n",
       "    </tr>\n",
       "    <tr>\n",
       "      <th>4</th>\n",
       "      <td>2.0</td>\n",
       "      <td>1.0</td>\n",
       "      <td>2.0</td>\n",
       "      <td>1.0</td>\n",
       "      <td>3.0</td>\n",
       "      <td>2.0</td>\n",
       "      <td>1.0</td>\n",
       "      <td>2.0</td>\n",
       "      <td>1.0</td>\n",
       "      <td>1.0</td>\n",
       "      <td>...</td>\n",
       "      <td>1.0</td>\n",
       "      <td>1.0</td>\n",
       "      <td>3.0</td>\n",
       "      <td>1.0</td>\n",
       "      <td>3.0</td>\n",
       "      <td>2.0</td>\n",
       "      <td>3.0</td>\n",
       "      <td>3.0</td>\n",
       "      <td>1.0</td>\n",
       "      <td>1.0</td>\n",
       "    </tr>\n",
       "  </tbody>\n",
       "</table>\n",
       "<p>5 rows × 23 columns</p>\n",
       "</div>"
      ],
      "text/plain": [
       "   imiss_a_2016  imiss_b_2016  imiss_c_2016  imiss_d_2016  imiss_e_2016  \\\n",
       "0           1.0           2.0           3.0           1.0           1.0   \n",
       "1           3.0           2.0           4.0           1.0           3.0   \n",
       "2           2.0           2.0           2.0           2.0           2.0   \n",
       "3           1.0           1.0           2.0           3.0           1.0   \n",
       "4           2.0           1.0           2.0           1.0           3.0   \n",
       "\n",
       "   imiss_f_2016  imiss_g_2016  imiss_h_2016  imiss_i_2016  imiss_j_2016  ...  \\\n",
       "0           2.0           3.0           2.0           4.0           1.0  ...   \n",
       "1           3.0           2.0           2.0           4.0           3.0  ...   \n",
       "2           2.0           2.0           2.0           3.0           2.0  ...   \n",
       "3           1.0           4.0           1.0           4.0           2.0  ...   \n",
       "4           2.0           1.0           2.0           1.0           1.0  ...   \n",
       "\n",
       "   imiss_n_2016  imiss_o_2016  imiss_p_2016  imiss_q_2016  imiss_r_2016  \\\n",
       "0           1.0           1.0           3.0           2.0           2.0   \n",
       "1           2.0           2.0           3.0           3.0           4.0   \n",
       "2           2.0           2.0           2.0           2.0           2.0   \n",
       "3           2.0           1.0           2.0           2.0           1.0   \n",
       "4           1.0           1.0           3.0           1.0           3.0   \n",
       "\n",
       "   imiss_s_2016  imiss_t_2016  imiss_u_2016  imiss_x_2016  imiss_y_2016  \n",
       "0           2.0           3.0           2.0           2.0           3.0  \n",
       "1           4.0           4.0           3.0           3.0           4.0  \n",
       "2           2.0           2.0           2.0           2.0           2.0  \n",
       "3           3.0           1.0           1.0           3.0           4.0  \n",
       "4           2.0           3.0           3.0           1.0           1.0  \n",
       "\n",
       "[5 rows x 23 columns]"
      ]
     },
     "execution_count": 34,
     "metadata": {},
     "output_type": "execute_result"
    }
   ],
   "source": [
    "df_clint.head()\n",
    "df_trump.head()\n",
    "df_other_behav.head()"
   ]
  },
  {
   "cell_type": "markdown",
   "metadata": {},
   "source": [
    "Get counts of each likert scale response for each column and row in each candidate's dataframe"
   ]
  },
  {
   "cell_type": "code",
   "execution_count": null,
   "metadata": {
    "ExecuteTime": {
     "end_time": "2019-11-29T01:10:16.124747Z",
     "start_time": "2019-11-29T01:10:16.118197Z"
    }
   },
   "outputs": [],
   "source": [
    "# def get_counts(df):\n",
    "#     count_dict = {1: 0, 2: 0, 3: 0, 4: 0, 8: 0}\n",
    "#     for idx, row in df.iterrows():\n",
    "#         for col in df.columns:\n",
    "#             ans = row[col]\n",
    "#             count_dict[ans] +=1\n",
    "#     return count_dict\n"
   ]
  },
  {
   "cell_type": "markdown",
   "metadata": {},
   "source": [
    "Call count function and save as variable and then make a list of those variables"
   ]
  },
  {
   "cell_type": "code",
   "execution_count": 35,
   "metadata": {
    "ExecuteTime": {
     "end_time": "2019-11-29T01:14:34.593512Z",
     "start_time": "2019-11-29T01:14:31.896431Z"
    }
   },
   "outputs": [],
   "source": [
    "clint_count = count_res(df_clint)\n",
    "trump_count = count_res(df_trump)\n",
    "other_behav_count = count_res(df_other_behav)\n",
    "counts = [clint_count, trump_count, other_behav_count]"
   ]
  },
  {
   "cell_type": "markdown",
   "metadata": {},
   "source": [
    "Check that the number of likert scale responses is equal to number expected per candidate"
   ]
  },
  {
   "cell_type": "code",
   "execution_count": 36,
   "metadata": {
    "ExecuteTime": {
     "end_time": "2019-11-29T01:14:42.298199Z",
     "start_time": "2019-11-29T01:14:42.291392Z"
    }
   },
   "outputs": [
    {
     "name": "stdout",
     "output_type": "stream",
     "text": [
      "True\n",
      "True\n",
      "True\n"
     ]
    }
   ],
   "source": [
    "print(df_clint.shape[0]*23 == sum(clint_count.values()))\n",
    "print(df_trump.shape[0]*23 == sum(trump_count.values()))\n",
    "print(df_other_behav.shape[0]*23 == sum(other_behav_count.values()));"
   ]
  },
  {
   "cell_type": "markdown",
   "metadata": {},
   "source": [
    "Plot counts for each likert scale category for Clinton, Trump, and other behavior"
   ]
  },
  {
   "cell_type": "code",
   "execution_count": 37,
   "metadata": {
    "ExecuteTime": {
     "end_time": "2019-11-29T01:14:45.785451Z",
     "start_time": "2019-11-29T01:14:45.343722Z"
    }
   },
   "outputs": [
    {
     "ename": "NameError",
     "evalue": "name 'clrs_2' is not defined",
     "output_type": "error",
     "traceback": [
      "\u001b[0;31m---------------------------------------------------------------------------\u001b[0m",
      "\u001b[0;31mNameError\u001b[0m                                 Traceback (most recent call last)",
      "\u001b[0;32m<ipython-input-37-d7750f01503b>\u001b[0m in \u001b[0;36m<module>\u001b[0;34m\u001b[0m\n\u001b[1;32m      8\u001b[0m \u001b[0mr2\u001b[0m \u001b[0;34m=\u001b[0m \u001b[0;34m[\u001b[0m\u001b[0mx\u001b[0m \u001b[0;34m+\u001b[0m \u001b[0mbar_width\u001b[0m \u001b[0;32mfor\u001b[0m \u001b[0mx\u001b[0m \u001b[0;32min\u001b[0m \u001b[0mr1\u001b[0m\u001b[0;34m]\u001b[0m\u001b[0;34m\u001b[0m\u001b[0;34m\u001b[0m\u001b[0m\n\u001b[1;32m      9\u001b[0m \u001b[0mr3\u001b[0m \u001b[0;34m=\u001b[0m \u001b[0;34m[\u001b[0m\u001b[0mx\u001b[0m \u001b[0;34m+\u001b[0m \u001b[0mbar_width\u001b[0m \u001b[0;32mfor\u001b[0m \u001b[0mx\u001b[0m \u001b[0;32min\u001b[0m \u001b[0mr2\u001b[0m\u001b[0;34m]\u001b[0m\u001b[0;34m\u001b[0m\u001b[0;34m\u001b[0m\u001b[0m\n\u001b[0;32m---> 10\u001b[0;31m \u001b[0mplt\u001b[0m\u001b[0;34m.\u001b[0m\u001b[0mbar\u001b[0m\u001b[0;34m(\u001b[0m\u001b[0mr1\u001b[0m\u001b[0;34m,\u001b[0m \u001b[0mbar_clint\u001b[0m\u001b[0;34m,\u001b[0m \u001b[0mwidth\u001b[0m\u001b[0;34m=\u001b[0m\u001b[0mbar_width\u001b[0m\u001b[0;34m,\u001b[0m \u001b[0mcolor\u001b[0m\u001b[0;34m=\u001b[0m\u001b[0mclrs_2\u001b[0m\u001b[0;34m[\u001b[0m\u001b[0;36m0\u001b[0m\u001b[0;34m]\u001b[0m\u001b[0;34m)\u001b[0m\u001b[0;34m\u001b[0m\u001b[0;34m\u001b[0m\u001b[0m\n\u001b[0m\u001b[1;32m     11\u001b[0m \u001b[0mplt\u001b[0m\u001b[0;34m.\u001b[0m\u001b[0mbar\u001b[0m\u001b[0;34m(\u001b[0m\u001b[0mr2\u001b[0m\u001b[0;34m,\u001b[0m \u001b[0mbar_trump\u001b[0m\u001b[0;34m,\u001b[0m \u001b[0mwidth\u001b[0m\u001b[0;34m=\u001b[0m\u001b[0mbar_width\u001b[0m\u001b[0;34m,\u001b[0m \u001b[0mcolor\u001b[0m\u001b[0;34m=\u001b[0m\u001b[0mclrs_2\u001b[0m\u001b[0;34m[\u001b[0m\u001b[0;36m1\u001b[0m\u001b[0;34m]\u001b[0m\u001b[0;34m)\u001b[0m\u001b[0;34m\u001b[0m\u001b[0;34m\u001b[0m\u001b[0m\n\u001b[1;32m     12\u001b[0m \u001b[0mplt\u001b[0m\u001b[0;34m.\u001b[0m\u001b[0mbar\u001b[0m\u001b[0;34m(\u001b[0m\u001b[0mr3\u001b[0m\u001b[0;34m,\u001b[0m \u001b[0mbar_other_behav\u001b[0m\u001b[0;34m,\u001b[0m \u001b[0mwidth\u001b[0m\u001b[0;34m=\u001b[0m\u001b[0mbar_width\u001b[0m\u001b[0;34m,\u001b[0m \u001b[0mcolor\u001b[0m\u001b[0;34m=\u001b[0m\u001b[0mclrs_2\u001b[0m\u001b[0;34m[\u001b[0m\u001b[0;34m-\u001b[0m\u001b[0;36m1\u001b[0m\u001b[0;34m]\u001b[0m\u001b[0;34m)\u001b[0m\u001b[0;34m\u001b[0m\u001b[0;34m\u001b[0m\u001b[0m\n",
      "\u001b[0;31mNameError\u001b[0m: name 'clrs_2' is not defined"
     ]
    }
   ],
   "source": [
    "bar_clint = list(clint_count.values())\n",
    "bar_trump = list(trump_count.values())\n",
    "bar_other_behav = list(other_behav_count.values())\n",
    "\n",
    "bar_width = 0.25\n",
    "\n",
    "r1 = np.arange(5)\n",
    "r2 = [x + bar_width for x in r1]\n",
    "r3 = [x + bar_width for x in r2]\n",
    "plt.bar(r1, bar_clint, width=bar_width, color=clrs_2[0])\n",
    "plt.bar(r2, bar_trump, width=bar_width, color=clrs_2[1])\n",
    "plt.bar(r3, bar_other_behav, width=bar_width, color=clrs_2[-1])\n",
    "plt.title('Answer counts by vote for Clinton, Trump, and Other Behavior')\n",
    "plt.xticks([r + bar_width for r in range(len(bar_clint))],\n",
    "           ['Very', 'Somewhat', 'Not very', 'Unimportant', 'No response'])\n",
    "plt.ylabel('Count')\n",
    "plt.show()"
   ]
  },
  {
   "cell_type": "markdown",
   "metadata": {},
   "source": [
    "Need to do: \n",
    "* Weight the counts \n",
    "* What if I grouped survey response counts by candidate and tried to get the distribution using the calculator lib? \n",
    "* Make a dataframe with rows as Clinton, Trump, and Other behavior then make the columns the counts ? But then how do I add the weights in? Sum them? "
   ]
  }
 ],
 "metadata": {
  "kernelspec": {
   "display_name": "Python 3",
   "language": "python",
   "name": "python3"
  },
  "language_info": {
   "codemirror_mode": {
    "name": "ipython",
    "version": 3
   },
   "file_extension": ".py",
   "mimetype": "text/x-python",
   "name": "python",
   "nbconvert_exporter": "python",
   "pygments_lexer": "ipython3",
   "version": "3.7.3"
  },
  "toc": {
   "base_numbering": 1,
   "nav_menu": {},
   "number_sections": true,
   "sideBar": true,
   "skip_h1_title": false,
   "title_cell": "Table of Contents",
   "title_sidebar": "Contents",
   "toc_cell": false,
   "toc_position": {},
   "toc_section_display": true,
   "toc_window_display": false
  }
 },
 "nbformat": 4,
 "nbformat_minor": 2
}
