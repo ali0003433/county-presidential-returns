{
 "cells": [
  {
   "cell_type": "markdown",
   "metadata": {},
   "source": [
    "# Explore target and potential features"
   ]
  },
  {
   "cell_type": "markdown",
   "metadata": {
    "heading_collapsed": true
   },
   "source": [
    "## Prepare notebook"
   ]
  },
  {
   "cell_type": "markdown",
   "metadata": {
    "hidden": true
   },
   "source": [
    "Import libraries "
   ]
  },
  {
   "cell_type": "code",
   "execution_count": 58,
   "metadata": {
    "ExecuteTime": {
     "end_time": "2019-11-25T21:58:10.321676Z",
     "start_time": "2019-11-25T21:58:10.302990Z"
    },
    "hidden": true
   },
   "outputs": [],
   "source": [
    "import matplotlib.pyplot as plt\n",
    "import numpy as np\n",
    "import pandas as pd\n",
    "import pickle\n",
    "import re\n",
    "import seaborn as sns\n",
    "import weightedcalcs as wc"
   ]
  },
  {
   "cell_type": "markdown",
   "metadata": {
    "hidden": true
   },
   "source": [
    "Import functions from source code"
   ]
  },
  {
   "cell_type": "code",
   "execution_count": 59,
   "metadata": {
    "ExecuteTime": {
     "end_time": "2019-11-25T21:58:10.792519Z",
     "start_time": "2019-11-25T21:58:10.784517Z"
    },
    "hidden": true
   },
   "outputs": [],
   "source": [
    "import sys\n",
    "import os\n",
    "sys.path.append('../src/features')\n",
    "from build_features import filter_col_with_regex, fill_nulls, get_dummies"
   ]
  },
  {
   "cell_type": "markdown",
   "metadata": {
    "hidden": true
   },
   "source": [
    "Load clean data"
   ]
  },
  {
   "cell_type": "code",
   "execution_count": 60,
   "metadata": {
    "ExecuteTime": {
     "end_time": "2019-11-25T21:58:11.496443Z",
     "start_time": "2019-11-25T21:58:11.218898Z"
    },
    "hidden": true
   },
   "outputs": [],
   "source": [
    "with open('../data/processed/df.pickle', 'rb') as file:\n",
    "    df = pickle.load(file)"
   ]
  },
  {
   "cell_type": "markdown",
   "metadata": {
    "hidden": true
   },
   "source": [
    "Set up function for weighting observations"
   ]
  },
  {
   "cell_type": "code",
   "execution_count": 61,
   "metadata": {
    "ExecuteTime": {
     "end_time": "2019-11-25T21:58:11.789211Z",
     "start_time": "2019-11-25T21:58:11.771023Z"
    },
    "hidden": true
   },
   "outputs": [],
   "source": [
    "weight = df['weight']\n",
    "calc = wc.Calculator('weight')"
   ]
  },
  {
   "cell_type": "markdown",
   "metadata": {},
   "source": [
    "## Explore target"
   ]
  },
  {
   "cell_type": "markdown",
   "metadata": {},
   "source": [
    "<br>\n",
    "Target is survey responses to: <br> <b>Who did you vote for in the election for President?<b>"
   ]
  },
  {
   "cell_type": "markdown",
   "metadata": {
    "ExecuteTime": {
     "end_time": "2019-11-25T19:49:48.075771Z",
     "start_time": "2019-11-25T19:49:48.066204Z"
    }
   },
   "source": [
    "Calculate weighted distribution of responses to \"who did you vote for in the election for President?\" across <b>eight</b> classes "
   ]
  },
  {
   "cell_type": "code",
   "execution_count": 90,
   "metadata": {
    "ExecuteTime": {
     "end_time": "2019-11-26T17:11:26.565761Z",
     "start_time": "2019-11-26T17:11:26.533955Z"
    }
   },
   "outputs": [
    {
     "name": "stdout",
     "output_type": "stream",
     "text": [
      "Hillary Clinton 0.406\n",
      "Donald Trump 0.399\n",
      "Gary Johnson 0.027\n",
      "Jill Stein 0.012\n",
      "Evan McMullin 0.002\n",
      "Other 0.016\n",
      "Did not vote 0.008\n",
      "No Response 0.13\n"
     ]
    }
   ],
   "source": [
    "vote_freq_series = calc.distribution(df, 'presvote16post_2016').round(3)\n",
    "vote_list = ['Hillary Clinton', 'Donald Trump', 'Gary Johnson',\n",
    "                  'Jill Stein', 'Evan McMullin', 'Other', 'Did not vote', 'No Response']\n",
    "vote_freq_dict = dict(vote_freq_series)\n",
    "for ind, val in enumerate(vote_freq_dict.values()):\n",
    "    print(vote_list[ind], val)"
   ]
  },
  {
   "cell_type": "markdown",
   "metadata": {},
   "source": [
    "Visualize weighted distribution of responses to \"who did you vote for in the election for President\"? across <b>eight</b> classes "
   ]
  },
  {
   "cell_type": "code",
   "execution_count": 91,
   "metadata": {
    "ExecuteTime": {
     "end_time": "2019-11-26T17:11:27.619787Z",
     "start_time": "2019-11-26T17:11:27.210426Z"
    }
   },
   "outputs": [
    {
     "data": {
      "image/png": "[encoded data removed]",
      "text/plain": [
       "<Figure size 576x504 with 1 Axes>"
      ]
     },
     "metadata": {
      "needs_background": "light"
     },
     "output_type": "display_data"
    }
   ],
   "source": [
    "clrs = ['cornflowerblue', 'tomato', 'gold', 'lightgreen',\n",
    "        'purple', 'lightgrey', 'dimgrey', 'darkgray']\n",
    "cand_list = ['Clinton', 'Trump', 'Johnson', 'Stein',\n",
    "             'McMullin', 'Other', 'Did not vote', 'No Response']\n",
    "plt.figure(figsize=(8, 7))\n",
    "bar_plot = sns.barplot(x=cand_list,\n",
    "                       y=list(vote_freq_series),\n",
    "                       palette=clrs)\n",
    "bar_plot.set_xticklabels(rotation=90, labels=cand_list)\n",
    "bar_plot.set_title('Who did you vote for in the election for President?')\n",
    "bar_plot.set_ylabel('Weighted frequency')\n",
    "# add labels to bars\n",
    "for bar in bar_plot.patches:\n",
    "    bar_plot.annotate(format(bar.get_height(), '.3f'), (bar.get_x() + bar.get_width() / 2.,\n",
    "                                                        bar.get_height()), ha='center', va='center', xytext=(0, 10), textcoords='offset points')\n",
    "plt.show()"
   ]
  },
  {
   "cell_type": "markdown",
   "metadata": {},
   "source": [
    "Calculate weighted distribution of responses to \"who did you vote for in the election for President?\" across <b>three</b> classes"
   ]
  },
  {
   "cell_type": "code",
   "execution_count": 107,
   "metadata": {
    "ExecuteTime": {
     "end_time": "2019-11-26T17:13:24.139004Z",
     "start_time": "2019-11-26T17:13:24.126453Z"
    }
   },
   "outputs": [
    {
     "name": "stdout",
     "output_type": "stream",
     "text": [
      "Clinton 0.406\n",
      "Trump 0.399\n",
      "Other Behavior 0.195\n"
     ]
    }
   ],
   "source": [
    "cnd_3cat_series = calc.distribution(df, 'vote_3cat').round(3)\n",
    "cnd_3cat_list = ['Clinton', 'Trump', 'Other Behavior']\n",
    "cnd_3cat_freq_dict = dict(cnd_3cat_series)\n",
    "for ind, val in enumerate(cnd_3cat_freq_dict.values()):\n",
    "    print(cnd_3cat_list[ind], val)"
   ]
  },
  {
   "cell_type": "markdown",
   "metadata": {},
   "source": [
    "Visualize weighted distribution of responses to \"who did you vote for in the election for President\"? across <b>three</b> classes "
   ]
  },
  {
   "cell_type": "code",
   "execution_count": 106,
   "metadata": {
    "ExecuteTime": {
     "end_time": "2019-11-26T17:13:14.609484Z",
     "start_time": "2019-11-26T17:13:14.330732Z"
    }
   },
   "outputs": [
    {
     "data": {
      "image/png": "[encoded data removed]",
      "text/plain": [
       "<Figure size 576x504 with 1 Axes>"
      ]
     },
     "metadata": {
      "needs_background": "light"
     },
     "output_type": "display_data"
    }
   ],
   "source": [
    "\n",
    "plt.figure(figsize=(8, 7))\n",
    "bar_plot = sns.barplot(x=cnd_3cat_list,\n",
    "                       y=list(cnd_3cat_series),\n",
    "                       palette=clrs)\n",
    "bar_plot.set_xticklabels(rotation=90, labels=cnd_3cat_list)\n",
    "bar_plot.set_title('Who did you vote for in the election for President?')\n",
    "bar_plot.set_ylabel('Weighted frequency')\n",
    "# add labels to bars\n",
    "for bar in bar_plot.patches:\n",
    "    bar_plot.annotate(format(bar.get_height(), '.3f'), (bar.get_x() + bar.get_width() / 2.,\n",
    "                                                        bar.get_height()), ha='center', va='center', xytext=(0, 10), textcoords='offset points')\n",
    "plt.show()"
   ]
  },
  {
   "cell_type": "markdown",
   "metadata": {},
   "source": [
    "## Explore attributes"
   ]
  },
  {
   "cell_type": "markdown",
   "metadata": {},
   "source": [
    "Which attributes are correlated with the target when we have <b>eight</b> classes?"
   ]
  },
  {
   "cell_type": "code",
   "execution_count": 112,
   "metadata": {
    "ExecuteTime": {
     "end_time": "2019-11-26T17:18:43.386119Z",
     "start_time": "2019-11-26T17:18:38.653416Z"
    }
   },
   "outputs": [
    {
     "data": {
      "text/plain": [
       "vote_for_against_2016      0.831710\n",
       "vote_3cat                  0.814751\n",
       "vote_regrets_2016          0.797544\n",
       "votemeth16_2016            0.677630\n",
       "accurately_counted_2016    0.650837\n",
       "turnout16_2016             0.526559\n",
       "post_presvote12_2012       0.358575\n",
       "fav_hrc_2016               0.320787\n",
       "Name: presvote16post_2016, dtype: float64"
      ]
     },
     "execution_count": 112,
     "metadata": {},
     "output_type": "execute_result"
    }
   ],
   "source": [
    "df.corr()['presvote16post_2016'].sort_values(ascending=False).head(10)[1:9]"
   ]
  },
  {
   "cell_type": "markdown",
   "metadata": {},
   "source": [
    "Which attributes are correlated with the target when we have <b>three</b> classes?"
   ]
  },
  {
   "cell_type": "code",
   "execution_count": 108,
   "metadata": {
    "ExecuteTime": {
     "end_time": "2019-11-26T17:14:15.162962Z",
     "start_time": "2019-11-26T17:14:09.982730Z"
    }
   },
   "outputs": [
    {
     "data": {
      "text/plain": [
       "vote_3cat                1.000000\n",
       "presvote16post_2016      0.814751\n",
       "vote_for_against_2016    0.703509\n",
       "fav_hrc_2016             0.619090\n",
       "obamaapp_2016            0.616283\n",
       "fav_obama_2016           0.578415\n",
       "Clinton_Cruz_2016        0.570247\n",
       "pid7_2016                0.559367\n",
       "Clinton_Rubio_2016       0.546756\n",
       "obamaapp_baseline        0.534194\n",
       "Name: vote_3cat, dtype: float64"
      ]
     },
     "execution_count": 108,
     "metadata": {},
     "output_type": "execute_result"
    }
   ],
   "source": [
    "df.corr()['vote_3cat'].sort_values(ascending=False).head(10)"
   ]
  },
  {
   "cell_type": "markdown",
   "metadata": {},
   "source": [
    "Both lists show that the survey questions that ask about party affiliation, approval of Obama, and ticket options (e.g. Clinton/Cruz) coorelate the most strongly with the target. "
   ]
  },
  {
   "cell_type": "markdown",
   "metadata": {},
   "source": [
    "Now that I compared the three category target versus eight, I will use the three category target variable moving forward. "
   ]
  },
  {
   "cell_type": "markdown",
   "metadata": {},
   "source": [
    "Next, I look at other attributes that might be used as features to create a predictive model by topic area<br><br>"
   ]
  },
  {
   "cell_type": "markdown",
   "metadata": {},
   "source": [
    "### Community engagement"
   ]
  },
  {
   "cell_type": "markdown",
   "metadata": {},
   "source": [
    "I used the survey guide to select attributes to represent community engagement and generated lists of the attribute names"
   ]
  },
  {
   "cell_type": "code",
   "execution_count": 113,
   "metadata": {
    "ExecuteTime": {
     "end_time": "2019-11-26T17:25:20.287481Z",
     "start_time": "2019-11-26T17:25:20.237559Z"
    }
   },
   "outputs": [],
   "source": [
    "col_list = []\n",
    "for i in range(1, 18):\n",
    "    col = f'volunteerorg2_{i}_baseline'\n",
    "    col_list.append(col)\n",
    "\n",
    "col2_list = ['CIVIC_PARTICIPATION_2016',\n",
    "                  'pew_churatd_2016',\n",
    "                  'volunteer_baseline',\n",
    "                  'volunteerf_baseline',\n",
    "                  'volunteernum_baseline'\n",
    "                  ]"
   ]
  },
  {
   "cell_type": "markdown",
   "metadata": {},
   "source": [
    "Print the number of community engagement attributes used and show the top of the dataframe with just the target and community engagement features"
   ]
  },
  {
   "cell_type": "code",
   "execution_count": 114,
   "metadata": {
    "ExecuteTime": {
     "end_time": "2019-11-26T17:28:26.440899Z",
     "start_time": "2019-11-26T17:28:26.324804Z"
    }
   },
   "outputs": [
    {
     "name": "stdout",
     "output_type": "stream",
     "text": [
      "number of community engagement attributes: 22\n"
     ]
    },
    {
     "data": {
      "text/html": [
       "<div>\n",
       "<style scoped>\n",
       "    .dataframe tbody tr th:only-of-type {\n",
       "        vertical-align: middle;\n",
       "    }\n",
       "\n",
       "    .dataframe tbody tr th {\n",
       "        vertical-align: top;\n",
       "    }\n",
       "\n",
       "    .dataframe thead th {\n",
       "        text-align: right;\n",
       "    }\n",
       "</style>\n",
       "<table border=\"1\" class=\"dataframe\">\n",
       "  <thead>\n",
       "    <tr style=\"text-align: right;\">\n",
       "      <th></th>\n",
       "      <th>volunteerorg2_1_baseline</th>\n",
       "      <th>volunteerorg2_2_baseline</th>\n",
       "      <th>volunteerorg2_3_baseline</th>\n",
       "      <th>volunteerorg2_4_baseline</th>\n",
       "      <th>volunteerorg2_5_baseline</th>\n",
       "      <th>volunteerorg2_6_baseline</th>\n",
       "      <th>volunteerorg2_7_baseline</th>\n",
       "      <th>volunteerorg2_8_baseline</th>\n",
       "      <th>volunteerorg2_9_baseline</th>\n",
       "      <th>volunteerorg2_10_baseline</th>\n",
       "      <th>...</th>\n",
       "      <th>volunteerorg2_14_baseline</th>\n",
       "      <th>volunteerorg2_15_baseline</th>\n",
       "      <th>volunteerorg2_16_baseline</th>\n",
       "      <th>volunteerorg2_17_baseline</th>\n",
       "      <th>CIVIC_PARTICIPATION_2016</th>\n",
       "      <th>pew_churatd_2016</th>\n",
       "      <th>volunteer_baseline</th>\n",
       "      <th>volunteerf_baseline</th>\n",
       "      <th>volunteernum_baseline</th>\n",
       "      <th>vote_3cat</th>\n",
       "    </tr>\n",
       "  </thead>\n",
       "  <tbody>\n",
       "    <tr>\n",
       "      <th>0</th>\n",
       "      <td>2</td>\n",
       "      <td>2</td>\n",
       "      <td>2</td>\n",
       "      <td>2</td>\n",
       "      <td>2</td>\n",
       "      <td>2</td>\n",
       "      <td>1</td>\n",
       "      <td>2</td>\n",
       "      <td>2</td>\n",
       "      <td>2</td>\n",
       "      <td>...</td>\n",
       "      <td>2</td>\n",
       "      <td>2</td>\n",
       "      <td>2</td>\n",
       "      <td>2</td>\n",
       "      <td>3.0</td>\n",
       "      <td>5.0</td>\n",
       "      <td>1.0</td>\n",
       "      <td>8.0</td>\n",
       "      <td>1.0</td>\n",
       "      <td>1.0</td>\n",
       "    </tr>\n",
       "    <tr>\n",
       "      <th>1</th>\n",
       "      <td>1</td>\n",
       "      <td>1</td>\n",
       "      <td>2</td>\n",
       "      <td>2</td>\n",
       "      <td>2</td>\n",
       "      <td>2</td>\n",
       "      <td>2</td>\n",
       "      <td>2</td>\n",
       "      <td>2</td>\n",
       "      <td>2</td>\n",
       "      <td>...</td>\n",
       "      <td>2</td>\n",
       "      <td>2</td>\n",
       "      <td>2</td>\n",
       "      <td>2</td>\n",
       "      <td>5.0</td>\n",
       "      <td>1.0</td>\n",
       "      <td>1.0</td>\n",
       "      <td>8.0</td>\n",
       "      <td>1.0</td>\n",
       "      <td>2.0</td>\n",
       "    </tr>\n",
       "    <tr>\n",
       "      <th>2</th>\n",
       "      <td>2</td>\n",
       "      <td>2</td>\n",
       "      <td>2</td>\n",
       "      <td>2</td>\n",
       "      <td>2</td>\n",
       "      <td>2</td>\n",
       "      <td>2</td>\n",
       "      <td>2</td>\n",
       "      <td>2</td>\n",
       "      <td>2</td>\n",
       "      <td>...</td>\n",
       "      <td>2</td>\n",
       "      <td>2</td>\n",
       "      <td>2</td>\n",
       "      <td>2</td>\n",
       "      <td>6.0</td>\n",
       "      <td>5.0</td>\n",
       "      <td>2.0</td>\n",
       "      <td>2.0</td>\n",
       "      <td>8.0</td>\n",
       "      <td>1.0</td>\n",
       "    </tr>\n",
       "    <tr>\n",
       "      <th>3</th>\n",
       "      <td>2</td>\n",
       "      <td>2</td>\n",
       "      <td>2</td>\n",
       "      <td>2</td>\n",
       "      <td>1</td>\n",
       "      <td>2</td>\n",
       "      <td>2</td>\n",
       "      <td>2</td>\n",
       "      <td>2</td>\n",
       "      <td>2</td>\n",
       "      <td>...</td>\n",
       "      <td>2</td>\n",
       "      <td>2</td>\n",
       "      <td>2</td>\n",
       "      <td>1</td>\n",
       "      <td>5.0</td>\n",
       "      <td>5.0</td>\n",
       "      <td>1.0</td>\n",
       "      <td>8.0</td>\n",
       "      <td>3.0</td>\n",
       "      <td>3.0</td>\n",
       "    </tr>\n",
       "    <tr>\n",
       "      <th>4</th>\n",
       "      <td>1</td>\n",
       "      <td>1</td>\n",
       "      <td>2</td>\n",
       "      <td>2</td>\n",
       "      <td>2</td>\n",
       "      <td>2</td>\n",
       "      <td>2</td>\n",
       "      <td>2</td>\n",
       "      <td>2</td>\n",
       "      <td>2</td>\n",
       "      <td>...</td>\n",
       "      <td>2</td>\n",
       "      <td>2</td>\n",
       "      <td>2</td>\n",
       "      <td>2</td>\n",
       "      <td>4.0</td>\n",
       "      <td>1.0</td>\n",
       "      <td>2.0</td>\n",
       "      <td>1.0</td>\n",
       "      <td>1.0</td>\n",
       "      <td>2.0</td>\n",
       "    </tr>\n",
       "  </tbody>\n",
       "</table>\n",
       "<p>5 rows × 23 columns</p>\n",
       "</div>"
      ],
      "text/plain": [
       "   volunteerorg2_1_baseline  volunteerorg2_2_baseline  \\\n",
       "0                         2                         2   \n",
       "1                         1                         1   \n",
       "2                         2                         2   \n",
       "3                         2                         2   \n",
       "4                         1                         1   \n",
       "\n",
       "   volunteerorg2_3_baseline  volunteerorg2_4_baseline  \\\n",
       "0                         2                         2   \n",
       "1                         2                         2   \n",
       "2                         2                         2   \n",
       "3                         2                         2   \n",
       "4                         2                         2   \n",
       "\n",
       "   volunteerorg2_5_baseline  volunteerorg2_6_baseline  \\\n",
       "0                         2                         2   \n",
       "1                         2                         2   \n",
       "2                         2                         2   \n",
       "3                         1                         2   \n",
       "4                         2                         2   \n",
       "\n",
       "   volunteerorg2_7_baseline  volunteerorg2_8_baseline  \\\n",
       "0                         1                         2   \n",
       "1                         2                         2   \n",
       "2                         2                         2   \n",
       "3                         2                         2   \n",
       "4                         2                         2   \n",
       "\n",
       "   volunteerorg2_9_baseline  volunteerorg2_10_baseline  ...  \\\n",
       "0                         2                          2  ...   \n",
       "1                         2                          2  ...   \n",
       "2                         2                          2  ...   \n",
       "3                         2                          2  ...   \n",
       "4                         2                          2  ...   \n",
       "\n",
       "   volunteerorg2_14_baseline  volunteerorg2_15_baseline  \\\n",
       "0                          2                          2   \n",
       "1                          2                          2   \n",
       "2                          2                          2   \n",
       "3                          2                          2   \n",
       "4                          2                          2   \n",
       "\n",
       "   volunteerorg2_16_baseline  volunteerorg2_17_baseline  \\\n",
       "0                          2                          2   \n",
       "1                          2                          2   \n",
       "2                          2                          2   \n",
       "3                          2                          1   \n",
       "4                          2                          2   \n",
       "\n",
       "   CIVIC_PARTICIPATION_2016  pew_churatd_2016  volunteer_baseline  \\\n",
       "0                       3.0               5.0                 1.0   \n",
       "1                       5.0               1.0                 1.0   \n",
       "2                       6.0               5.0                 2.0   \n",
       "3                       5.0               5.0                 1.0   \n",
       "4                       4.0               1.0                 2.0   \n",
       "\n",
       "   volunteerf_baseline  volunteernum_baseline  vote_3cat  \n",
       "0                  8.0                    1.0        1.0  \n",
       "1                  8.0                    1.0        2.0  \n",
       "2                  2.0                    8.0        1.0  \n",
       "3                  8.0                    3.0        3.0  \n",
       "4                  1.0                    1.0        2.0  \n",
       "\n",
       "[5 rows x 23 columns]"
      ]
     },
     "execution_count": 114,
     "metadata": {},
     "output_type": "execute_result"
    }
   ],
   "source": [
    "target = ['vote_3cat']\n",
    "df_comm_engag = df[(col_list + col2_list + target)]\n",
    "print('number of community engagement attributes:', len(col_list + col2_list))\n",
    "df_comm_engag.head()"
   ]
  },
  {
   "cell_type": "markdown",
   "metadata": {},
   "source": [
    "Check how strongly these attributes correlate with the target"
   ]
  },
  {
   "cell_type": "code",
   "execution_count": 116,
   "metadata": {
    "ExecuteTime": {
     "end_time": "2019-11-26T17:29:45.953142Z",
     "start_time": "2019-11-26T17:29:45.926468Z"
    }
   },
   "outputs": [
    {
     "data": {
      "text/plain": [
       "volunteerorg2_6_baseline     0.079310\n",
       "volunteerorg2_4_baseline     0.061510\n",
       "CIVIC_PARTICIPATION_2016     0.053554\n",
       "volunteerorg2_12_baseline    0.053367\n",
       "volunteerorg2_7_baseline     0.053001\n",
       "volunteerorg2_3_baseline     0.041190\n",
       "volunteerorg2_10_baseline    0.040977\n",
       "volunteerorg2_13_baseline    0.032248\n",
       "volunteernum_baseline        0.027982\n",
       "Name: vote_3cat, dtype: float64"
      ]
     },
     "execution_count": 116,
     "metadata": {},
     "output_type": "execute_result"
    }
   ],
   "source": [
    "df_comm_engag.corr()['vote_3cat'].sort_values(ascending=False).head(10)[1:10]"
   ]
  },
  {
   "cell_type": "markdown",
   "metadata": {},
   "source": []
  },
  {
   "cell_type": "markdown",
   "metadata": {},
   "source": [
    "Which <b>religion features</b> are correlated with vote selection?"
   ]
  },
  {
   "cell_type": "code",
   "execution_count": 82,
   "metadata": {
    "ExecuteTime": {
     "end_time": "2019-11-25T22:51:54.742719Z",
     "start_time": "2019-11-25T22:51:54.718093Z"
    }
   },
   "outputs": [
    {
     "name": "stdout",
     "output_type": "stream",
     "text": [
      "number of religion features: 5\n"
     ]
    },
    {
     "data": {
      "text/html": [
       "<div>\n",
       "<style scoped>\n",
       "    .dataframe tbody tr th:only-of-type {\n",
       "        vertical-align: middle;\n",
       "    }\n",
       "\n",
       "    .dataframe tbody tr th {\n",
       "        vertical-align: top;\n",
       "    }\n",
       "\n",
       "    .dataframe thead th {\n",
       "        text-align: right;\n",
       "    }\n",
       "</style>\n",
       "<table border=\"1\" class=\"dataframe\">\n",
       "  <thead>\n",
       "    <tr style=\"text-align: right;\">\n",
       "      <th></th>\n",
       "      <th>pew_churatd_2016</th>\n",
       "      <th>pew_religimp_2016</th>\n",
       "      <th>pew_bornagain_2016</th>\n",
       "      <th>pew_prayer_2016</th>\n",
       "      <th>religpew_2016</th>\n",
       "      <th>presvote16post_2016</th>\n",
       "    </tr>\n",
       "  </thead>\n",
       "  <tbody>\n",
       "    <tr>\n",
       "      <th>0</th>\n",
       "      <td>5.0</td>\n",
       "      <td>3</td>\n",
       "      <td>2.0</td>\n",
       "      <td>6.0</td>\n",
       "      <td>2.0</td>\n",
       "      <td>1.0</td>\n",
       "    </tr>\n",
       "    <tr>\n",
       "      <th>1</th>\n",
       "      <td>1.0</td>\n",
       "      <td>1</td>\n",
       "      <td>2.0</td>\n",
       "      <td>1.0</td>\n",
       "      <td>3.0</td>\n",
       "      <td>2.0</td>\n",
       "    </tr>\n",
       "    <tr>\n",
       "      <th>2</th>\n",
       "      <td>5.0</td>\n",
       "      <td>4</td>\n",
       "      <td>2.0</td>\n",
       "      <td>3.0</td>\n",
       "      <td>2.0</td>\n",
       "      <td>1.0</td>\n",
       "    </tr>\n",
       "    <tr>\n",
       "      <th>3</th>\n",
       "      <td>5.0</td>\n",
       "      <td>3</td>\n",
       "      <td>2.0</td>\n",
       "      <td>3.0</td>\n",
       "      <td>11.0</td>\n",
       "      <td>3.0</td>\n",
       "    </tr>\n",
       "    <tr>\n",
       "      <th>4</th>\n",
       "      <td>1.0</td>\n",
       "      <td>1</td>\n",
       "      <td>2.0</td>\n",
       "      <td>2.0</td>\n",
       "      <td>3.0</td>\n",
       "      <td>2.0</td>\n",
       "    </tr>\n",
       "  </tbody>\n",
       "</table>\n",
       "</div>"
      ],
      "text/plain": [
       "   pew_churatd_2016  pew_religimp_2016  pew_bornagain_2016  pew_prayer_2016  \\\n",
       "0               5.0                  3                 2.0              6.0   \n",
       "1               1.0                  1                 2.0              1.0   \n",
       "2               5.0                  4                 2.0              3.0   \n",
       "3               5.0                  3                 2.0              3.0   \n",
       "4               1.0                  1                 2.0              2.0   \n",
       "\n",
       "   religpew_2016  presvote16post_2016  \n",
       "0            2.0                  1.0  \n",
       "1            3.0                  2.0  \n",
       "2            2.0                  1.0  \n",
       "3           11.0                  3.0  \n",
       "4            3.0                  2.0  "
      ]
     },
     "execution_count": 82,
     "metadata": {},
     "output_type": "execute_result"
    }
   ],
   "source": [
    "religion_list = ['pew_churatd_2016',\n",
    "                'pew_religimp_2016',\n",
    "                'pew_bornagain_2016',\n",
    "                'pew_prayer_2016',\n",
    "                'religpew_2016'\n",
    "                ]\n",
    "print('number of religion features:', len(religion_list))\n",
    "df_religion = df[(religion_list + target)]\n",
    "df_religion.head()"
   ]
  },
  {
   "cell_type": "code",
   "execution_count": null,
   "metadata": {},
   "outputs": [],
   "source": []
  },
  {
   "cell_type": "code",
   "execution_count": 83,
   "metadata": {
    "ExecuteTime": {
     "end_time": "2019-11-25T22:51:55.452325Z",
     "start_time": "2019-11-25T22:51:55.445847Z"
    }
   },
   "outputs": [],
   "source": [
    "target_col_list = ['pid3_2016']"
   ]
  },
  {
   "cell_type": "markdown",
   "metadata": {},
   "source": [
    "## Weighted issue prioritization of climate change"
   ]
  },
  {
   "cell_type": "code",
   "execution_count": 84,
   "metadata": {
    "ExecuteTime": {
     "end_time": "2019-11-25T22:51:56.310863Z",
     "start_time": "2019-11-25T22:51:56.239989Z"
    }
   },
   "outputs": [
    {
     "ename": "NameError",
     "evalue": "name 'df_no_nulls' is not defined",
     "output_type": "error",
     "traceback": [
      "\u001b[0;31m---------------------------------------------------------------------------\u001b[0m",
      "\u001b[0;31mNameError\u001b[0m                                 Traceback (most recent call last)",
      "\u001b[0;32m<ipython-input-84-05e562942de7>\u001b[0m in \u001b[0;36m<module>\u001b[0;34m\u001b[0m\n\u001b[0;32m----> 1\u001b[0;31m \u001b[0mclimate_freq\u001b[0m \u001b[0;34m=\u001b[0m \u001b[0mcalc\u001b[0m\u001b[0;34m.\u001b[0m\u001b[0mdistribution\u001b[0m\u001b[0;34m(\u001b[0m\u001b[0mdf_no_nulls\u001b[0m\u001b[0;34m,\u001b[0m \u001b[0;34m'imiss_l_2016'\u001b[0m\u001b[0;34m)\u001b[0m\u001b[0;34m.\u001b[0m\u001b[0mround\u001b[0m\u001b[0;34m(\u001b[0m\u001b[0;36m3\u001b[0m\u001b[0;34m)\u001b[0m\u001b[0;34m\u001b[0m\u001b[0;34m\u001b[0m\u001b[0m\n\u001b[0m\u001b[1;32m      2\u001b[0m \u001b[0mprint\u001b[0m\u001b[0;34m(\u001b[0m\u001b[0;34m'weighted frequency:'\u001b[0m\u001b[0;34m,\u001b[0m \u001b[0mclimate_freq\u001b[0m\u001b[0;34m)\u001b[0m\u001b[0;34m\u001b[0m\u001b[0;34m\u001b[0m\u001b[0m\n",
      "\u001b[0;31mNameError\u001b[0m: name 'df_no_nulls' is not defined"
     ]
    }
   ],
   "source": [
    "climate_freq = calc.distribution(df_no_nulls, 'imiss_l_2016').round(3)\n",
    "print('weighted frequency:', climate_freq)"
   ]
  },
  {
   "cell_type": "code",
   "execution_count": 85,
   "metadata": {
    "ExecuteTime": {
     "end_time": "2019-11-25T22:51:56.561808Z",
     "start_time": "2019-11-25T22:51:56.538739Z"
    }
   },
   "outputs": [
    {
     "ename": "NameError",
     "evalue": "name 'climate_freq' is not defined",
     "output_type": "error",
     "traceback": [
      "\u001b[0;31m---------------------------------------------------------------------------\u001b[0m",
      "\u001b[0;31mNameError\u001b[0m                                 Traceback (most recent call last)",
      "\u001b[0;32m<ipython-input-85-673980ffcdd0>\u001b[0m in \u001b[0;36m<module>\u001b[0;34m\u001b[0m\n\u001b[1;32m      1\u001b[0m \u001b[0mclimate_list\u001b[0m \u001b[0;34m=\u001b[0m \u001b[0;34m[\u001b[0m\u001b[0;34m]\u001b[0m\u001b[0;34m\u001b[0m\u001b[0;34m\u001b[0m\u001b[0m\n\u001b[0;32m----> 2\u001b[0;31m \u001b[0;32mfor\u001b[0m \u001b[0mi\u001b[0m \u001b[0;32min\u001b[0m \u001b[0mclimate_freq\u001b[0m\u001b[0;34m:\u001b[0m\u001b[0;34m\u001b[0m\u001b[0;34m\u001b[0m\u001b[0m\n\u001b[0m\u001b[1;32m      3\u001b[0m     \u001b[0mclimate_list\u001b[0m\u001b[0;34m.\u001b[0m\u001b[0mappend\u001b[0m\u001b[0;34m(\u001b[0m\u001b[0mi\u001b[0m\u001b[0;34m)\u001b[0m\u001b[0;34m\u001b[0m\u001b[0;34m\u001b[0m\u001b[0m\n\u001b[1;32m      4\u001b[0m \u001b[0mprint\u001b[0m\u001b[0;34m(\u001b[0m\u001b[0mclimate_list\u001b[0m\u001b[0;34m)\u001b[0m\u001b[0;34m\u001b[0m\u001b[0;34m\u001b[0m\u001b[0m\n\u001b[1;32m      5\u001b[0m \u001b[0mplt\u001b[0m\u001b[0;34m.\u001b[0m\u001b[0mfigure\u001b[0m\u001b[0;34m(\u001b[0m\u001b[0mfigsize\u001b[0m\u001b[0;34m=\u001b[0m\u001b[0;34m(\u001b[0m\u001b[0;36m8\u001b[0m\u001b[0;34m,\u001b[0m\u001b[0;36m8\u001b[0m\u001b[0;34m)\u001b[0m\u001b[0;34m)\u001b[0m\u001b[0;34m\u001b[0m\u001b[0;34m\u001b[0m\u001b[0m\n",
      "\u001b[0;31mNameError\u001b[0m: name 'climate_freq' is not defined"
     ]
    }
   ],
   "source": [
    "climate_list = []\n",
    "for i in climate_freq:\n",
    "    climate_list.append(i)\n",
    "print(climate_list)\n",
    "plt.figure(figsize=(8,8))\n",
    "x = ['Very','Somewhat','Not very','Unimportant','No Response']\n",
    "bplot = sns.barplot(x = x, y = climate_list, palette='Greens_d')\n",
    "bplot.set_xticklabels(rotation=90, labels= x)\n",
    "bplot.set_title('Survey Responses: How important of an issue is climate change?')\n",
    "bplot.set_ylabel('Weighted Frequency')\n",
    "for p in bplot.patches:\n",
    " bplot.annotate(format(p.get_height(), '.3f'), (p.get_x() + p.get_width() / 2., p.get_height()), ha = 'center', va = 'center', \n",
    "            xytext = (0, 10), textcoords = 'offset points')\n",
    "plt.show()"
   ]
  },
  {
   "cell_type": "markdown",
   "metadata": {},
   "source": [
    "### Climate change"
   ]
  },
  {
   "cell_type": "code",
   "execution_count": null,
   "metadata": {
    "ExecuteTime": {
     "end_time": "2019-11-24T21:26:12.437999Z",
     "start_time": "2019-11-24T21:26:12.402169Z"
    }
   },
   "outputs": [],
   "source": [
    "g = df_3cat_issue_weight.groupby(['presvote16post_2016'])\n",
    "res = calc.distribution(g, 'imiss_l_2016').round(3)\n",
    "print(res)"
   ]
  },
  {
   "cell_type": "code",
   "execution_count": null,
   "metadata": {
    "ExecuteTime": {
     "end_time": "2019-11-24T21:31:16.775238Z",
     "start_time": "2019-11-24T21:31:16.514156Z"
    }
   },
   "outputs": [],
   "source": [
    "b=['cornflowerblue','tomato','lightgrey']\n",
    "stacked = res.T.plot(kind='bar', stacked=True, color=b)\n",
    "stacked.set_title('Survey Response: Climate change')\n",
    "stacked.set_ylabel('Weighted frequency')\n",
    "stacked.legend(['Clinton','Trump', 'Other'])\n",
    "stacked.set_xlabel('')\n",
    "N = 5 \n",
    "ind = np.arange(N)\n",
    "plt.xticks(ind, ('Very','Somewhat','Not very', 'Unimportant', 'No Response'))\n",
    "plt.show()"
   ]
  },
  {
   "cell_type": "markdown",
   "metadata": {},
   "source": [
    "### The budget deficit"
   ]
  },
  {
   "cell_type": "code",
   "execution_count": null,
   "metadata": {
    "ExecuteTime": {
     "end_time": "2019-11-24T21:35:49.052860Z",
     "start_time": "2019-11-24T21:35:48.965340Z"
    }
   },
   "outputs": [],
   "source": [
    "g = df_3cat_issue_weight.groupby(['presvote16post_2016'])\n",
    "res = calc.distribution(g, 'imiss_p_2016').round(3)\n",
    "print(res)"
   ]
  },
  {
   "cell_type": "code",
   "execution_count": null,
   "metadata": {
    "ExecuteTime": {
     "end_time": "2019-11-24T21:36:17.086128Z",
     "start_time": "2019-11-24T21:36:16.741030Z"
    }
   },
   "outputs": [],
   "source": [
    "b=['cornflowerblue','tomato','lightgrey']\n",
    "stacked = res.T.plot(kind='bar', stacked=True, color=b)\n",
    "stacked.set_title('Survey Response: The Budget deficit')\n",
    "stacked.set_ylabel('Weighted frequency')\n",
    "stacked.legend(['Clinton','Trump', 'Other'])\n",
    "stacked.set_xlabel('')\n",
    "N = 5 \n",
    "ind = np.arange(N)\n",
    "plt.xticks(ind, ('Very','Somewhat','Not very', 'Unimportant', 'No Response'))\n",
    "plt.show()"
   ]
  },
  {
   "cell_type": "markdown",
   "metadata": {},
   "source": [
    "### Abortion"
   ]
  },
  {
   "cell_type": "code",
   "execution_count": null,
   "metadata": {
    "ExecuteTime": {
     "end_time": "2019-11-24T21:40:51.778928Z",
     "start_time": "2019-11-24T21:40:51.362025Z"
    }
   },
   "outputs": [],
   "source": [
    "g = df_3cat_issue_weight.groupby(['presvote16post_2016'])\n",
    "res = calc.distribution(g, 'imiss_t_2016').round(3)\n",
    "print(res)\n",
    "b=['cornflowerblue','tomato','lightgrey']\n",
    "stacked = res.T.plot(kind='bar', stacked=True, color=b)\n",
    "stacked.set_title('Survey Response: Abortion')\n",
    "stacked.set_ylabel('Weighted frequency')\n",
    "stacked.legend(['Clinton','Trump', 'Other'])\n",
    "stacked.set_xlabel('')\n",
    "N = 5 \n",
    "ind = np.arange(N)\n",
    "plt.xticks(ind, ('Very','Somewhat','Not very', 'Unimportant', 'No Response'))\n",
    "plt.show()"
   ]
  },
  {
   "cell_type": "markdown",
   "metadata": {},
   "source": [
    "### Size of government"
   ]
  },
  {
   "cell_type": "code",
   "execution_count": null,
   "metadata": {
    "ExecuteTime": {
     "end_time": "2019-11-24T21:45:28.345638Z",
     "start_time": "2019-11-24T21:45:27.482240Z"
    }
   },
   "outputs": [],
   "source": [
    "g = df_3cat_issue_weight.groupby(['presvote16post_2016'])\n",
    "res = calc.distribution(g, 'imiss_u_2016').round(3)\n",
    "print(res)\n",
    "b=['cornflowerblue','tomato','lightgrey']\n",
    "stacked = res.T.plot(kind='bar', stacked=True, color=b)\n",
    "stacked.set_title('Survey Response: Size of government')\n",
    "stacked.set_ylabel('Weighted frequency')\n",
    "stacked.legend(['Clinton','Trump', 'Other'])\n",
    "stacked.set_xlabel('')\n",
    "N = 5 \n",
    "ind = np.arange(N)\n",
    "plt.xticks(ind, ('Very','Somewhat','Not very', 'Unimportant', 'No Response'))\n",
    "plt.show()"
   ]
  },
  {
   "cell_type": "markdown",
   "metadata": {},
   "source": [
    "within these columns in the dataframe, search each index and count the number of 4s. \n"
   ]
  },
  {
   "cell_type": "code",
   "execution_count": null,
   "metadata": {
    "ExecuteTime": {
     "end_time": "2019-11-24T21:54:33.739336Z",
     "start_time": "2019-11-24T21:54:33.602871Z"
    }
   },
   "outputs": [],
   "source": [
    "df[]"
   ]
  },
  {
   "cell_type": "code",
   "execution_count": null,
   "metadata": {},
   "outputs": [],
   "source": []
  }
 ],
 "metadata": {
  "kernelspec": {
   "display_name": "Python 3",
   "language": "python",
   "name": "python3"
  },
  "language_info": {
   "codemirror_mode": {
    "name": "ipython",
    "version": 3
   },
   "file_extension": ".py",
   "mimetype": "text/x-python",
   "name": "python",
   "nbconvert_exporter": "python",
   "pygments_lexer": "ipython3",
   "version": "3.7.3"
  },
  "toc": {
   "base_numbering": 1,
   "nav_menu": {},
   "number_sections": true,
   "sideBar": true,
   "skip_h1_title": false,
   "title_cell": "Table of Contents",
   "title_sidebar": "Contents",
   "toc_cell": false,
   "toc_position": {},
   "toc_section_display": true,
   "toc_window_display": false
  }
 },
 "nbformat": 4,
 "nbformat_minor": 2
}
