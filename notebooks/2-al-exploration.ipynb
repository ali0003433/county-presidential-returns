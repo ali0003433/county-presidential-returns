{
 "cells": [
  {
   "cell_type": "markdown",
   "metadata": {},
   "source": [
    "# Explore target and potential features"
   ]
  },
  {
   "cell_type": "markdown",
   "metadata": {},
   "source": [
    "## Prepare notebook"
   ]
  },
  {
   "cell_type": "markdown",
   "metadata": {},
   "source": [
    "Import libraries "
   ]
  },
  {
   "cell_type": "code",
   "execution_count": 1,
   "metadata": {
    "ExecuteTime": {
     "end_time": "2019-11-29T02:04:17.082430Z",
     "start_time": "2019-11-29T02:04:14.730069Z"
    }
   },
   "outputs": [],
   "source": [
    "import matplotlib.pyplot as plt\n",
    "import numpy as np\n",
    "import pandas as pd\n",
    "import pickle\n",
    "import re\n",
    "import seaborn as sns\n",
    "import weightedcalcs as wc\n",
    "import warnings\n",
    "warnings.filterwarnings(\"ignore\")"
   ]
  },
  {
   "cell_type": "markdown",
   "metadata": {},
   "source": [
    "Import functions from source code"
   ]
  },
  {
   "cell_type": "code",
   "execution_count": 2,
   "metadata": {
    "ExecuteTime": {
     "end_time": "2019-11-29T02:04:17.103658Z",
     "start_time": "2019-11-29T02:04:17.087324Z"
    }
   },
   "outputs": [],
   "source": [
    "import sys\n",
    "import os\n",
    "sys.path.append('../src/features')\n",
    "from build_features import filter_col_with_regex\n",
    "sys.path.append('../src/visualization')\n",
    "from visualize import plot_bar, plot_stacked, count_res"
   ]
  },
  {
   "cell_type": "markdown",
   "metadata": {},
   "source": [
    "Load clean data"
   ]
  },
  {
   "cell_type": "code",
   "execution_count": 3,
   "metadata": {
    "ExecuteTime": {
     "end_time": "2019-11-29T02:04:17.592940Z",
     "start_time": "2019-11-29T02:04:17.107436Z"
    }
   },
   "outputs": [],
   "source": [
    "with open('../data/processed/df.pickle', 'rb') as file:\n",
    "    df = pickle.load(file)"
   ]
  },
  {
   "cell_type": "markdown",
   "metadata": {},
   "source": [
    "Set up function for weighting observations"
   ]
  },
  {
   "cell_type": "code",
   "execution_count": 4,
   "metadata": {
    "ExecuteTime": {
     "end_time": "2019-11-29T02:04:17.603658Z",
     "start_time": "2019-11-29T02:04:17.596328Z"
    }
   },
   "outputs": [],
   "source": [
    "weight = df['weight']\n",
    "calc = wc.Calculator('weight')"
   ]
  },
  {
   "cell_type": "markdown",
   "metadata": {},
   "source": [
    "## Explore target"
   ]
  },
  {
   "cell_type": "markdown",
   "metadata": {},
   "source": [
    "Target is survey responses to: <br> <b>Who did you vote for in the election for President?<b>"
   ]
  },
  {
   "cell_type": "markdown",
   "metadata": {
    "ExecuteTime": {
     "end_time": "2019-11-25T19:49:48.075771Z",
     "start_time": "2019-11-25T19:49:48.066204Z"
    }
   },
   "source": [
    "Calculate weighted distribution of responses to \"who did you vote for in the election for President?\" across <b>eight</b> classes "
   ]
  },
  {
   "cell_type": "code",
   "execution_count": 5,
   "metadata": {
    "ExecuteTime": {
     "end_time": "2019-11-29T02:04:17.779444Z",
     "start_time": "2019-11-29T02:04:17.610661Z"
    }
   },
   "outputs": [
    {
     "name": "stdout",
     "output_type": "stream",
     "text": [
      "Clinton 0.406\n",
      "Trump 0.399\n",
      "Johnson 0.027\n",
      "Stein 0.012\n",
      "McMullin 0.002\n",
      "Other 0.016\n",
      "Did not vote 0.008\n",
      "No Response 0.13\n"
     ]
    }
   ],
   "source": [
    "pres_freq = calc.distribution(df, 'presvote16post_2016').round(3)\n",
    "pres_list = ['Clinton', 'Trump', 'Johnson', 'Stein',\n",
    "     'McMullin', 'Other', 'Did not vote', 'No Response']\n",
    "for ind, val in enumerate(pres_freq):\n",
    "    print(pres_list[ind], val)"
   ]
  },
  {
   "cell_type": "markdown",
   "metadata": {},
   "source": [
    "Visualize weighted distribution of responses to \"who did you vote for in the election for President\"? across <b>eight</b> classes "
   ]
  },
  {
   "cell_type": "code",
   "execution_count": 6,
   "metadata": {
    "ExecuteTime": {
     "end_time": "2019-11-29T02:04:18.198736Z",
     "start_time": "2019-11-29T02:04:17.784630Z"
    }
   },
   "outputs": [
    {
     "data": {
      "image/png": "[encoded data removed]",
      "text/plain": [
       "<Figure size 576x504 with 1 Axes>"
      ]
     },
     "metadata": {
      "needs_background": "light"
     },
     "output_type": "display_data"
    }
   ],
   "source": [
    "x = pres_list\n",
    "y = list(pres_freq)\n",
    "palette = ['cornflowerblue', 'tomato', 'gold', 'lightgreen',\n",
    "           'purple', 'lightgrey', 'dimgrey', 'darkgray']\n",
    "title = 'Who did you vote for in the election for President?'\n",
    "xlabels = pres_list\n",
    "pres_plt = plot_bar(x, y, palette, title, xlabels)\n",
    "for bar in pres_plt.patches: #add value to top of each bar\n",
    "    pres_plt.annotate(format(bar.get_height(), '.3f'), (bar.get_x() + bar.get_width() / 2.,\n",
    "                                                        bar.get_height()), ha='center', va='center', xytext=(0, 10), textcoords='offset points')"
   ]
  },
  {
   "cell_type": "markdown",
   "metadata": {},
   "source": [
    "Calculate weighted distribution of responses to \"who did you vote for in the election for President?\" across <b>three</b> classes"
   ]
  },
  {
   "cell_type": "code",
   "execution_count": 7,
   "metadata": {
    "ExecuteTime": {
     "end_time": "2019-11-29T02:04:18.217307Z",
     "start_time": "2019-11-29T02:04:18.203720Z"
    }
   },
   "outputs": [
    {
     "name": "stdout",
     "output_type": "stream",
     "text": [
      "Clinton 0.406\n",
      "Trump 0.399\n",
      "Other behavior 0.195\n"
     ]
    }
   ],
   "source": [
    "pres_cat_list = ['Clinton', 'Trump', 'Other behavior']\n",
    "pres_cat_freq = calc.distribution(df, 'vote_3cat').round(3)\n",
    "\n",
    "for ind, val in enumerate(pres_cat_freq):\n",
    "    print(pres_cat_list[ind], val)"
   ]
  },
  {
   "cell_type": "markdown",
   "metadata": {},
   "source": [
    "Visualize weighted distribution of responses to \"who did you vote for in the election for President\"? across <b>three</b> classes "
   ]
  },
  {
   "cell_type": "code",
   "execution_count": 8,
   "metadata": {
    "ExecuteTime": {
     "end_time": "2019-11-29T02:04:18.607791Z",
     "start_time": "2019-11-29T02:04:18.224760Z"
    }
   },
   "outputs": [
    {
     "data": {
      "image/png": "[encoded data removed]",
      "text/plain": [
       "<Figure size 576x504 with 1 Axes>"
      ]
     },
     "metadata": {
      "needs_background": "light"
     },
     "output_type": "display_data"
    }
   ],
   "source": [
    "x = pres_cat_list\n",
    "y = list(pres_cat_freq)\n",
    "palette_short = ['cornflowerblue','tomato','lightgrey']\n",
    "title = 'Who did you vote for in the election for President?'\n",
    "xlabels = pres_cat_list\n",
    "\n",
    "cat_plt = plot_bar(x, y, palette, title, xlabels)"
   ]
  },
  {
   "cell_type": "markdown",
   "metadata": {},
   "source": [
    "## Explore attributes"
   ]
  },
  {
   "cell_type": "markdown",
   "metadata": {},
   "source": [
    "Which attributes are correlated with the target when we have <b>eight</b> classes?"
   ]
  },
  {
   "cell_type": "code",
   "execution_count": 9,
   "metadata": {
    "ExecuteTime": {
     "end_time": "2019-11-29T02:04:24.389349Z",
     "start_time": "2019-11-29T02:04:18.610898Z"
    }
   },
   "outputs": [
    {
     "data": {
      "text/plain": [
       "vote_for_against_2016      0.831710\n",
       "vote_3cat                  0.814751\n",
       "vote_regrets_2016          0.797544\n",
       "votemeth16_2016            0.677630\n",
       "accurately_counted_2016    0.650837\n",
       "turnout16_2016             0.526559\n",
       "post_presvote12_2012       0.358575\n",
       "fav_hrc_2016               0.320787\n",
       "Name: presvote16post_2016, dtype: float64"
      ]
     },
     "execution_count": 9,
     "metadata": {},
     "output_type": "execute_result"
    }
   ],
   "source": [
    "df.corr()['presvote16post_2016'].sort_values(ascending=False).head(10)[1:9]"
   ]
  },
  {
   "cell_type": "markdown",
   "metadata": {},
   "source": [
    "Which attributes are correlated with the target when we have <b>three</b> classes?"
   ]
  },
  {
   "cell_type": "code",
   "execution_count": 10,
   "metadata": {
    "ExecuteTime": {
     "end_time": "2019-11-29T02:04:29.486461Z",
     "start_time": "2019-11-29T02:04:24.392136Z"
    }
   },
   "outputs": [
    {
     "data": {
      "text/plain": [
       "presvote16post_2016      0.814751\n",
       "vote_for_against_2016    0.703509\n",
       "fav_hrc_2016             0.619090\n",
       "obamaapp_2016            0.616283\n",
       "fav_obama_2016           0.578415\n",
       "Clinton_Cruz_2016        0.570247\n",
       "pid7_2016                0.559367\n",
       "Clinton_Rubio_2016       0.546756\n",
       "Name: vote_3cat, dtype: float64"
      ]
     },
     "execution_count": 10,
     "metadata": {},
     "output_type": "execute_result"
    }
   ],
   "source": [
    "df.corr()['vote_3cat'].sort_values(ascending=False).head(10)[1:9]"
   ]
  },
  {
   "cell_type": "markdown",
   "metadata": {},
   "source": [
    "Both lists show that the survey questions that ask about party affiliation, approval of Obama, and ticket options (e.g. Clinton/Cruz) coorelate the most strongly with the target. "
   ]
  },
  {
   "cell_type": "markdown",
   "metadata": {},
   "source": [
    "Now that I compared the three category target versus eight, I will use the three category target variable moving forward. "
   ]
  },
  {
   "cell_type": "markdown",
   "metadata": {},
   "source": [
    "Next, I look at other attributes that might be used as features to create a predictive model by topic area<br><br>"
   ]
  },
  {
   "cell_type": "markdown",
   "metadata": {},
   "source": [
    "### Community engagement"
   ]
  },
  {
   "cell_type": "markdown",
   "metadata": {},
   "source": [
    "Using the survey guide, select attributes to represent community engagement and generate lists of the attribute names"
   ]
  },
  {
   "cell_type": "code",
   "execution_count": 11,
   "metadata": {
    "ExecuteTime": {
     "end_time": "2019-11-29T02:04:29.499919Z",
     "start_time": "2019-11-29T02:04:29.489903Z"
    }
   },
   "outputs": [],
   "source": [
    "col_list = []\n",
    "for i in range(1, 18):\n",
    "    col = f'volunteerorg2_{i}_baseline'\n",
    "    col_list.append(col)\n",
    "\n",
    "col2_list = ['CIVIC_PARTICIPATION_2016',\n",
    "             'pew_churatd_2016',\n",
    "             'volunteer_baseline',\n",
    "             'volunteerf_baseline',\n",
    "             'volunteernum_baseline'\n",
    "             ]"
   ]
  },
  {
   "cell_type": "markdown",
   "metadata": {},
   "source": [
    "Print the number of community engagement attributes used and show the top of the dataframe with just the target and community engagement features"
   ]
  },
  {
   "cell_type": "code",
   "execution_count": 12,
   "metadata": {
    "ExecuteTime": {
     "end_time": "2019-11-29T02:04:29.575039Z",
     "start_time": "2019-11-29T02:04:29.505819Z"
    }
   },
   "outputs": [
    {
     "name": "stdout",
     "output_type": "stream",
     "text": [
      "number of community engagement attributes: 22\n"
     ]
    },
    {
     "data": {
      "text/html": [
       "<div>\n",
       "<style scoped>\n",
       "    .dataframe tbody tr th:only-of-type {\n",
       "        vertical-align: middle;\n",
       "    }\n",
       "\n",
       "    .dataframe tbody tr th {\n",
       "        vertical-align: top;\n",
       "    }\n",
       "\n",
       "    .dataframe thead th {\n",
       "        text-align: right;\n",
       "    }\n",
       "</style>\n",
       "<table border=\"1\" class=\"dataframe\">\n",
       "  <thead>\n",
       "    <tr style=\"text-align: right;\">\n",
       "      <th></th>\n",
       "      <th>volunteerorg2_1_baseline</th>\n",
       "      <th>volunteerorg2_2_baseline</th>\n",
       "      <th>volunteerorg2_3_baseline</th>\n",
       "      <th>volunteerorg2_4_baseline</th>\n",
       "      <th>volunteerorg2_5_baseline</th>\n",
       "      <th>volunteerorg2_6_baseline</th>\n",
       "      <th>volunteerorg2_7_baseline</th>\n",
       "      <th>volunteerorg2_8_baseline</th>\n",
       "      <th>volunteerorg2_9_baseline</th>\n",
       "      <th>volunteerorg2_10_baseline</th>\n",
       "      <th>...</th>\n",
       "      <th>volunteerorg2_14_baseline</th>\n",
       "      <th>volunteerorg2_15_baseline</th>\n",
       "      <th>volunteerorg2_16_baseline</th>\n",
       "      <th>volunteerorg2_17_baseline</th>\n",
       "      <th>CIVIC_PARTICIPATION_2016</th>\n",
       "      <th>pew_churatd_2016</th>\n",
       "      <th>volunteer_baseline</th>\n",
       "      <th>volunteerf_baseline</th>\n",
       "      <th>volunteernum_baseline</th>\n",
       "      <th>vote_3cat</th>\n",
       "    </tr>\n",
       "  </thead>\n",
       "  <tbody>\n",
       "    <tr>\n",
       "      <th>0</th>\n",
       "      <td>2</td>\n",
       "      <td>2</td>\n",
       "      <td>2</td>\n",
       "      <td>2</td>\n",
       "      <td>2</td>\n",
       "      <td>2</td>\n",
       "      <td>1</td>\n",
       "      <td>2</td>\n",
       "      <td>2</td>\n",
       "      <td>2</td>\n",
       "      <td>...</td>\n",
       "      <td>2</td>\n",
       "      <td>2</td>\n",
       "      <td>2</td>\n",
       "      <td>2</td>\n",
       "      <td>3.0</td>\n",
       "      <td>5.0</td>\n",
       "      <td>1.0</td>\n",
       "      <td>8.0</td>\n",
       "      <td>1.0</td>\n",
       "      <td>1.0</td>\n",
       "    </tr>\n",
       "    <tr>\n",
       "      <th>1</th>\n",
       "      <td>1</td>\n",
       "      <td>1</td>\n",
       "      <td>2</td>\n",
       "      <td>2</td>\n",
       "      <td>2</td>\n",
       "      <td>2</td>\n",
       "      <td>2</td>\n",
       "      <td>2</td>\n",
       "      <td>2</td>\n",
       "      <td>2</td>\n",
       "      <td>...</td>\n",
       "      <td>2</td>\n",
       "      <td>2</td>\n",
       "      <td>2</td>\n",
       "      <td>2</td>\n",
       "      <td>5.0</td>\n",
       "      <td>1.0</td>\n",
       "      <td>1.0</td>\n",
       "      <td>8.0</td>\n",
       "      <td>1.0</td>\n",
       "      <td>2.0</td>\n",
       "    </tr>\n",
       "    <tr>\n",
       "      <th>2</th>\n",
       "      <td>2</td>\n",
       "      <td>2</td>\n",
       "      <td>2</td>\n",
       "      <td>2</td>\n",
       "      <td>2</td>\n",
       "      <td>2</td>\n",
       "      <td>2</td>\n",
       "      <td>2</td>\n",
       "      <td>2</td>\n",
       "      <td>2</td>\n",
       "      <td>...</td>\n",
       "      <td>2</td>\n",
       "      <td>2</td>\n",
       "      <td>2</td>\n",
       "      <td>2</td>\n",
       "      <td>6.0</td>\n",
       "      <td>5.0</td>\n",
       "      <td>2.0</td>\n",
       "      <td>2.0</td>\n",
       "      <td>8.0</td>\n",
       "      <td>1.0</td>\n",
       "    </tr>\n",
       "    <tr>\n",
       "      <th>3</th>\n",
       "      <td>2</td>\n",
       "      <td>2</td>\n",
       "      <td>2</td>\n",
       "      <td>2</td>\n",
       "      <td>1</td>\n",
       "      <td>2</td>\n",
       "      <td>2</td>\n",
       "      <td>2</td>\n",
       "      <td>2</td>\n",
       "      <td>2</td>\n",
       "      <td>...</td>\n",
       "      <td>2</td>\n",
       "      <td>2</td>\n",
       "      <td>2</td>\n",
       "      <td>1</td>\n",
       "      <td>5.0</td>\n",
       "      <td>5.0</td>\n",
       "      <td>1.0</td>\n",
       "      <td>8.0</td>\n",
       "      <td>3.0</td>\n",
       "      <td>3.0</td>\n",
       "    </tr>\n",
       "    <tr>\n",
       "      <th>4</th>\n",
       "      <td>1</td>\n",
       "      <td>1</td>\n",
       "      <td>2</td>\n",
       "      <td>2</td>\n",
       "      <td>2</td>\n",
       "      <td>2</td>\n",
       "      <td>2</td>\n",
       "      <td>2</td>\n",
       "      <td>2</td>\n",
       "      <td>2</td>\n",
       "      <td>...</td>\n",
       "      <td>2</td>\n",
       "      <td>2</td>\n",
       "      <td>2</td>\n",
       "      <td>2</td>\n",
       "      <td>4.0</td>\n",
       "      <td>1.0</td>\n",
       "      <td>2.0</td>\n",
       "      <td>1.0</td>\n",
       "      <td>1.0</td>\n",
       "      <td>2.0</td>\n",
       "    </tr>\n",
       "  </tbody>\n",
       "</table>\n",
       "<p>5 rows × 23 columns</p>\n",
       "</div>"
      ],
      "text/plain": [
       "   volunteerorg2_1_baseline  volunteerorg2_2_baseline  \\\n",
       "0                         2                         2   \n",
       "1                         1                         1   \n",
       "2                         2                         2   \n",
       "3                         2                         2   \n",
       "4                         1                         1   \n",
       "\n",
       "   volunteerorg2_3_baseline  volunteerorg2_4_baseline  \\\n",
       "0                         2                         2   \n",
       "1                         2                         2   \n",
       "2                         2                         2   \n",
       "3                         2                         2   \n",
       "4                         2                         2   \n",
       "\n",
       "   volunteerorg2_5_baseline  volunteerorg2_6_baseline  \\\n",
       "0                         2                         2   \n",
       "1                         2                         2   \n",
       "2                         2                         2   \n",
       "3                         1                         2   \n",
       "4                         2                         2   \n",
       "\n",
       "   volunteerorg2_7_baseline  volunteerorg2_8_baseline  \\\n",
       "0                         1                         2   \n",
       "1                         2                         2   \n",
       "2                         2                         2   \n",
       "3                         2                         2   \n",
       "4                         2                         2   \n",
       "\n",
       "   volunteerorg2_9_baseline  volunteerorg2_10_baseline  ...  \\\n",
       "0                         2                          2  ...   \n",
       "1                         2                          2  ...   \n",
       "2                         2                          2  ...   \n",
       "3                         2                          2  ...   \n",
       "4                         2                          2  ...   \n",
       "\n",
       "   volunteerorg2_14_baseline  volunteerorg2_15_baseline  \\\n",
       "0                          2                          2   \n",
       "1                          2                          2   \n",
       "2                          2                          2   \n",
       "3                          2                          2   \n",
       "4                          2                          2   \n",
       "\n",
       "   volunteerorg2_16_baseline  volunteerorg2_17_baseline  \\\n",
       "0                          2                          2   \n",
       "1                          2                          2   \n",
       "2                          2                          2   \n",
       "3                          2                          1   \n",
       "4                          2                          2   \n",
       "\n",
       "   CIVIC_PARTICIPATION_2016  pew_churatd_2016  volunteer_baseline  \\\n",
       "0                       3.0               5.0                 1.0   \n",
       "1                       5.0               1.0                 1.0   \n",
       "2                       6.0               5.0                 2.0   \n",
       "3                       5.0               5.0                 1.0   \n",
       "4                       4.0               1.0                 2.0   \n",
       "\n",
       "   volunteerf_baseline  volunteernum_baseline  vote_3cat  \n",
       "0                  8.0                    1.0        1.0  \n",
       "1                  8.0                    1.0        2.0  \n",
       "2                  2.0                    8.0        1.0  \n",
       "3                  8.0                    3.0        3.0  \n",
       "4                  1.0                    1.0        2.0  \n",
       "\n",
       "[5 rows x 23 columns]"
      ]
     },
     "execution_count": 12,
     "metadata": {},
     "output_type": "execute_result"
    }
   ],
   "source": [
    "target = ['vote_3cat']\n",
    "df_comm_engag = df[(col_list + col2_list + target)]\n",
    "print('number of community engagement attributes:', len(col_list + col2_list))\n",
    "df_comm_engag.head()"
   ]
  },
  {
   "cell_type": "markdown",
   "metadata": {},
   "source": [
    "Check how strongly these attributes correlate with the target"
   ]
  },
  {
   "cell_type": "code",
   "execution_count": 13,
   "metadata": {
    "ExecuteTime": {
     "end_time": "2019-11-29T02:04:29.609317Z",
     "start_time": "2019-11-29T02:04:29.579340Z"
    }
   },
   "outputs": [
    {
     "data": {
      "text/plain": [
       "volunteerorg2_6_baseline     0.079310\n",
       "volunteerorg2_4_baseline     0.061510\n",
       "CIVIC_PARTICIPATION_2016     0.053554\n",
       "volunteerorg2_12_baseline    0.053367\n",
       "volunteerorg2_7_baseline     0.053001\n",
       "volunteerorg2_3_baseline     0.041190\n",
       "volunteerorg2_10_baseline    0.040977\n",
       "volunteerorg2_13_baseline    0.032248\n",
       "volunteernum_baseline        0.027982\n",
       "Name: vote_3cat, dtype: float64"
      ]
     },
     "execution_count": 13,
     "metadata": {},
     "output_type": "execute_result"
    }
   ],
   "source": [
    "df_comm_engag.corr()['vote_3cat'].sort_values(ascending=False).head(10)[1:10]"
   ]
  },
  {
   "cell_type": "markdown",
   "metadata": {},
   "source": [
    "### Religion "
   ]
  },
  {
   "cell_type": "markdown",
   "metadata": {},
   "source": [
    "Using the survey guide, select attributes to represent the importance of religion and created a list of the attribute names"
   ]
  },
  {
   "cell_type": "code",
   "execution_count": 14,
   "metadata": {
    "ExecuteTime": {
     "end_time": "2019-11-29T02:04:29.619944Z",
     "start_time": "2019-11-29T02:04:29.612550Z"
    }
   },
   "outputs": [],
   "source": [
    "col_list = ['pew_churatd_2016',\n",
    "            'pew_religimp_2016',\n",
    "            'pew_bornagain_2016',\n",
    "            'pew_prayer_2016',\n",
    "            'religpew_2016'\n",
    "            ]"
   ]
  },
  {
   "cell_type": "markdown",
   "metadata": {},
   "source": [
    "Print the number of religion attributes used and show the top of the dataframe with just the target and religion features"
   ]
  },
  {
   "cell_type": "code",
   "execution_count": 15,
   "metadata": {
    "ExecuteTime": {
     "end_time": "2019-11-29T02:04:29.662620Z",
     "start_time": "2019-11-29T02:04:29.628860Z"
    }
   },
   "outputs": [
    {
     "name": "stdout",
     "output_type": "stream",
     "text": [
      "number of religion features: 5\n"
     ]
    },
    {
     "data": {
      "text/html": [
       "<div>\n",
       "<style scoped>\n",
       "    .dataframe tbody tr th:only-of-type {\n",
       "        vertical-align: middle;\n",
       "    }\n",
       "\n",
       "    .dataframe tbody tr th {\n",
       "        vertical-align: top;\n",
       "    }\n",
       "\n",
       "    .dataframe thead th {\n",
       "        text-align: right;\n",
       "    }\n",
       "</style>\n",
       "<table border=\"1\" class=\"dataframe\">\n",
       "  <thead>\n",
       "    <tr style=\"text-align: right;\">\n",
       "      <th></th>\n",
       "      <th>pew_churatd_2016</th>\n",
       "      <th>pew_religimp_2016</th>\n",
       "      <th>pew_bornagain_2016</th>\n",
       "      <th>pew_prayer_2016</th>\n",
       "      <th>religpew_2016</th>\n",
       "      <th>vote_3cat</th>\n",
       "    </tr>\n",
       "  </thead>\n",
       "  <tbody>\n",
       "    <tr>\n",
       "      <th>0</th>\n",
       "      <td>5.0</td>\n",
       "      <td>3</td>\n",
       "      <td>2.0</td>\n",
       "      <td>6.0</td>\n",
       "      <td>2.0</td>\n",
       "      <td>1.0</td>\n",
       "    </tr>\n",
       "    <tr>\n",
       "      <th>1</th>\n",
       "      <td>1.0</td>\n",
       "      <td>1</td>\n",
       "      <td>2.0</td>\n",
       "      <td>1.0</td>\n",
       "      <td>3.0</td>\n",
       "      <td>2.0</td>\n",
       "    </tr>\n",
       "    <tr>\n",
       "      <th>2</th>\n",
       "      <td>5.0</td>\n",
       "      <td>4</td>\n",
       "      <td>2.0</td>\n",
       "      <td>3.0</td>\n",
       "      <td>2.0</td>\n",
       "      <td>1.0</td>\n",
       "    </tr>\n",
       "    <tr>\n",
       "      <th>3</th>\n",
       "      <td>5.0</td>\n",
       "      <td>3</td>\n",
       "      <td>2.0</td>\n",
       "      <td>3.0</td>\n",
       "      <td>11.0</td>\n",
       "      <td>3.0</td>\n",
       "    </tr>\n",
       "    <tr>\n",
       "      <th>4</th>\n",
       "      <td>1.0</td>\n",
       "      <td>1</td>\n",
       "      <td>2.0</td>\n",
       "      <td>2.0</td>\n",
       "      <td>3.0</td>\n",
       "      <td>2.0</td>\n",
       "    </tr>\n",
       "  </tbody>\n",
       "</table>\n",
       "</div>"
      ],
      "text/plain": [
       "   pew_churatd_2016  pew_religimp_2016  pew_bornagain_2016  pew_prayer_2016  \\\n",
       "0               5.0                  3                 2.0              6.0   \n",
       "1               1.0                  1                 2.0              1.0   \n",
       "2               5.0                  4                 2.0              3.0   \n",
       "3               5.0                  3                 2.0              3.0   \n",
       "4               1.0                  1                 2.0              2.0   \n",
       "\n",
       "   religpew_2016  vote_3cat  \n",
       "0            2.0        1.0  \n",
       "1            3.0        2.0  \n",
       "2            2.0        1.0  \n",
       "3           11.0        3.0  \n",
       "4            3.0        2.0  "
      ]
     },
     "execution_count": 15,
     "metadata": {},
     "output_type": "execute_result"
    }
   ],
   "source": [
    "print('number of religion features:', len(col_list))\n",
    "df_religion = df[(col_list + target)]\n",
    "df_religion.head()"
   ]
  },
  {
   "cell_type": "markdown",
   "metadata": {},
   "source": [
    "Check how strongly these attributes correlate with the target"
   ]
  },
  {
   "cell_type": "code",
   "execution_count": 16,
   "metadata": {
    "ExecuteTime": {
     "end_time": "2019-11-29T02:04:29.683299Z",
     "start_time": "2019-11-29T02:04:29.666996Z"
    }
   },
   "outputs": [
    {
     "data": {
      "text/plain": [
       "pew_churatd_2016     -0.125100\n",
       "religpew_2016        -0.129768\n",
       "pew_prayer_2016      -0.150176\n",
       "pew_bornagain_2016   -0.152011\n",
       "pew_religimp_2016    -0.179026\n",
       "Name: vote_3cat, dtype: float64"
      ]
     },
     "execution_count": 16,
     "metadata": {},
     "output_type": "execute_result"
    }
   ],
   "source": [
    "df_religion.corr()['vote_3cat'].sort_values(ascending=False).head(10)[1:10]"
   ]
  },
  {
   "cell_type": "markdown",
   "metadata": {},
   "source": [
    "### Issue Importance"
   ]
  },
  {
   "cell_type": "markdown",
   "metadata": {},
   "source": [
    "Set regular expressions pattern to match columns with issue questions"
   ]
  },
  {
   "cell_type": "code",
   "execution_count": 17,
   "metadata": {
    "ExecuteTime": {
     "end_time": "2019-11-29T02:04:29.694227Z",
     "start_time": "2019-11-29T02:04:29.688332Z"
    }
   },
   "outputs": [],
   "source": [
    "pattern = '(imiss_).{1}(_2016)'"
   ]
  },
  {
   "cell_type": "markdown",
   "metadata": {},
   "source": [
    "Call function to return list"
   ]
  },
  {
   "cell_type": "code",
   "execution_count": 18,
   "metadata": {
    "ExecuteTime": {
     "end_time": "2019-11-29T02:04:29.713205Z",
     "start_time": "2019-11-29T02:04:29.698069Z"
    }
   },
   "outputs": [],
   "source": [
    "col_list = filter_col_with_regex(df, pattern)\n",
    "df_issue = df[col_list + target]"
   ]
  },
  {
   "cell_type": "code",
   "execution_count": 19,
   "metadata": {
    "ExecuteTime": {
     "end_time": "2019-11-29T02:04:29.776521Z",
     "start_time": "2019-11-29T02:04:29.720372Z"
    }
   },
   "outputs": [
    {
     "name": "stdout",
     "output_type": "stream",
     "text": [
      "number of issue features: 23\n"
     ]
    },
    {
     "data": {
      "text/html": [
       "<div>\n",
       "<style scoped>\n",
       "    .dataframe tbody tr th:only-of-type {\n",
       "        vertical-align: middle;\n",
       "    }\n",
       "\n",
       "    .dataframe tbody tr th {\n",
       "        vertical-align: top;\n",
       "    }\n",
       "\n",
       "    .dataframe thead th {\n",
       "        text-align: right;\n",
       "    }\n",
       "</style>\n",
       "<table border=\"1\" class=\"dataframe\">\n",
       "  <thead>\n",
       "    <tr style=\"text-align: right;\">\n",
       "      <th></th>\n",
       "      <th>imiss_a_2016</th>\n",
       "      <th>imiss_b_2016</th>\n",
       "      <th>imiss_c_2016</th>\n",
       "      <th>imiss_d_2016</th>\n",
       "      <th>imiss_e_2016</th>\n",
       "      <th>imiss_f_2016</th>\n",
       "      <th>imiss_g_2016</th>\n",
       "      <th>imiss_h_2016</th>\n",
       "      <th>imiss_i_2016</th>\n",
       "      <th>imiss_j_2016</th>\n",
       "      <th>...</th>\n",
       "      <th>imiss_o_2016</th>\n",
       "      <th>imiss_p_2016</th>\n",
       "      <th>imiss_q_2016</th>\n",
       "      <th>imiss_r_2016</th>\n",
       "      <th>imiss_s_2016</th>\n",
       "      <th>imiss_t_2016</th>\n",
       "      <th>imiss_u_2016</th>\n",
       "      <th>imiss_x_2016</th>\n",
       "      <th>imiss_y_2016</th>\n",
       "      <th>vote_3cat</th>\n",
       "    </tr>\n",
       "  </thead>\n",
       "  <tbody>\n",
       "    <tr>\n",
       "      <th>0</th>\n",
       "      <td>2.0</td>\n",
       "      <td>2.0</td>\n",
       "      <td>1.0</td>\n",
       "      <td>1.0</td>\n",
       "      <td>1.0</td>\n",
       "      <td>2.0</td>\n",
       "      <td>1.0</td>\n",
       "      <td>1.0</td>\n",
       "      <td>2.0</td>\n",
       "      <td>1.0</td>\n",
       "      <td>...</td>\n",
       "      <td>2.0</td>\n",
       "      <td>2.0</td>\n",
       "      <td>1.0</td>\n",
       "      <td>2.0</td>\n",
       "      <td>1.0</td>\n",
       "      <td>1.0</td>\n",
       "      <td>2.0</td>\n",
       "      <td>1.0</td>\n",
       "      <td>1.0</td>\n",
       "      <td>1.0</td>\n",
       "    </tr>\n",
       "    <tr>\n",
       "      <th>1</th>\n",
       "      <td>1.0</td>\n",
       "      <td>1.0</td>\n",
       "      <td>2.0</td>\n",
       "      <td>2.0</td>\n",
       "      <td>1.0</td>\n",
       "      <td>1.0</td>\n",
       "      <td>4.0</td>\n",
       "      <td>2.0</td>\n",
       "      <td>2.0</td>\n",
       "      <td>1.0</td>\n",
       "      <td>...</td>\n",
       "      <td>1.0</td>\n",
       "      <td>1.0</td>\n",
       "      <td>1.0</td>\n",
       "      <td>1.0</td>\n",
       "      <td>2.0</td>\n",
       "      <td>1.0</td>\n",
       "      <td>2.0</td>\n",
       "      <td>3.0</td>\n",
       "      <td>4.0</td>\n",
       "      <td>2.0</td>\n",
       "    </tr>\n",
       "    <tr>\n",
       "      <th>2</th>\n",
       "      <td>1.0</td>\n",
       "      <td>1.0</td>\n",
       "      <td>2.0</td>\n",
       "      <td>1.0</td>\n",
       "      <td>3.0</td>\n",
       "      <td>1.0</td>\n",
       "      <td>3.0</td>\n",
       "      <td>2.0</td>\n",
       "      <td>4.0</td>\n",
       "      <td>1.0</td>\n",
       "      <td>...</td>\n",
       "      <td>1.0</td>\n",
       "      <td>2.0</td>\n",
       "      <td>1.0</td>\n",
       "      <td>1.0</td>\n",
       "      <td>1.0</td>\n",
       "      <td>3.0</td>\n",
       "      <td>2.0</td>\n",
       "      <td>1.0</td>\n",
       "      <td>2.0</td>\n",
       "      <td>1.0</td>\n",
       "    </tr>\n",
       "    <tr>\n",
       "      <th>3</th>\n",
       "      <td>1.0</td>\n",
       "      <td>2.0</td>\n",
       "      <td>3.0</td>\n",
       "      <td>1.0</td>\n",
       "      <td>1.0</td>\n",
       "      <td>2.0</td>\n",
       "      <td>3.0</td>\n",
       "      <td>2.0</td>\n",
       "      <td>4.0</td>\n",
       "      <td>1.0</td>\n",
       "      <td>...</td>\n",
       "      <td>1.0</td>\n",
       "      <td>3.0</td>\n",
       "      <td>2.0</td>\n",
       "      <td>2.0</td>\n",
       "      <td>2.0</td>\n",
       "      <td>3.0</td>\n",
       "      <td>2.0</td>\n",
       "      <td>2.0</td>\n",
       "      <td>3.0</td>\n",
       "      <td>3.0</td>\n",
       "    </tr>\n",
       "    <tr>\n",
       "      <th>4</th>\n",
       "      <td>1.0</td>\n",
       "      <td>1.0</td>\n",
       "      <td>1.0</td>\n",
       "      <td>1.0</td>\n",
       "      <td>1.0</td>\n",
       "      <td>1.0</td>\n",
       "      <td>3.0</td>\n",
       "      <td>1.0</td>\n",
       "      <td>2.0</td>\n",
       "      <td>1.0</td>\n",
       "      <td>...</td>\n",
       "      <td>1.0</td>\n",
       "      <td>1.0</td>\n",
       "      <td>2.0</td>\n",
       "      <td>1.0</td>\n",
       "      <td>2.0</td>\n",
       "      <td>1.0</td>\n",
       "      <td>1.0</td>\n",
       "      <td>1.0</td>\n",
       "      <td>1.0</td>\n",
       "      <td>2.0</td>\n",
       "    </tr>\n",
       "  </tbody>\n",
       "</table>\n",
       "<p>5 rows × 24 columns</p>\n",
       "</div>"
      ],
      "text/plain": [
       "   imiss_a_2016  imiss_b_2016  imiss_c_2016  imiss_d_2016  imiss_e_2016  \\\n",
       "0           2.0           2.0           1.0           1.0           1.0   \n",
       "1           1.0           1.0           2.0           2.0           1.0   \n",
       "2           1.0           1.0           2.0           1.0           3.0   \n",
       "3           1.0           2.0           3.0           1.0           1.0   \n",
       "4           1.0           1.0           1.0           1.0           1.0   \n",
       "\n",
       "   imiss_f_2016  imiss_g_2016  imiss_h_2016  imiss_i_2016  imiss_j_2016  ...  \\\n",
       "0           2.0           1.0           1.0           2.0           1.0  ...   \n",
       "1           1.0           4.0           2.0           2.0           1.0  ...   \n",
       "2           1.0           3.0           2.0           4.0           1.0  ...   \n",
       "3           2.0           3.0           2.0           4.0           1.0  ...   \n",
       "4           1.0           3.0           1.0           2.0           1.0  ...   \n",
       "\n",
       "   imiss_o_2016  imiss_p_2016  imiss_q_2016  imiss_r_2016  imiss_s_2016  \\\n",
       "0           2.0           2.0           1.0           2.0           1.0   \n",
       "1           1.0           1.0           1.0           1.0           2.0   \n",
       "2           1.0           2.0           1.0           1.0           1.0   \n",
       "3           1.0           3.0           2.0           2.0           2.0   \n",
       "4           1.0           1.0           2.0           1.0           2.0   \n",
       "\n",
       "   imiss_t_2016  imiss_u_2016  imiss_x_2016  imiss_y_2016  vote_3cat  \n",
       "0           1.0           2.0           1.0           1.0        1.0  \n",
       "1           1.0           2.0           3.0           4.0        2.0  \n",
       "2           3.0           2.0           1.0           2.0        1.0  \n",
       "3           3.0           2.0           2.0           3.0        3.0  \n",
       "4           1.0           1.0           1.0           1.0        2.0  \n",
       "\n",
       "[5 rows x 24 columns]"
      ]
     },
     "execution_count": 19,
     "metadata": {},
     "output_type": "execute_result"
    }
   ],
   "source": [
    "print('number of issue features:', len(col_list))\n",
    "df_issue = df[(col_list + target)]\n",
    "df_issue.head()"
   ]
  },
  {
   "cell_type": "markdown",
   "metadata": {
    "ExecuteTime": {
     "end_time": "2019-11-26T17:54:13.619809Z",
     "start_time": "2019-11-26T17:54:13.607174Z"
    }
   },
   "source": [
    "Check how strongly these attributes correlate with the target"
   ]
  },
  {
   "cell_type": "code",
   "execution_count": 20,
   "metadata": {
    "ExecuteTime": {
     "end_time": "2019-11-29T02:04:29.806175Z",
     "start_time": "2019-11-29T02:04:29.779770Z"
    }
   },
   "outputs": [
    {
     "data": {
      "text/plain": [
       "vote_3cat       1.000000\n",
       "imiss_l_2016    0.395681\n",
       "imiss_g_2016    0.331644\n",
       "imiss_y_2016    0.324188\n",
       "imiss_x_2016    0.286479\n",
       "imiss_d_2016    0.285567\n",
       "imiss_i_2016    0.219071\n",
       "imiss_q_2016    0.181965\n",
       "imiss_k_2016    0.158439\n",
       "imiss_n_2016    0.142047\n",
       "Name: vote_3cat, dtype: float64"
      ]
     },
     "execution_count": 20,
     "metadata": {},
     "output_type": "execute_result"
    }
   ],
   "source": [
    "df_issue.corr()['vote_3cat'].sort_values(ascending=False).head(10)"
   ]
  },
  {
   "cell_type": "markdown",
   "metadata": {},
   "source": [
    "Check the tail for strength of negative correlations"
   ]
  },
  {
   "cell_type": "code",
   "execution_count": 21,
   "metadata": {
    "ExecuteTime": {
     "end_time": "2019-11-29T02:04:29.835744Z",
     "start_time": "2019-11-29T02:04:29.809331Z"
    }
   },
   "outputs": [
    {
     "data": {
      "text/plain": [
       "imiss_t_2016    0.043139\n",
       "imiss_o_2016   -0.007340\n",
       "imiss_b_2016   -0.012280\n",
       "imiss_c_2016   -0.106580\n",
       "imiss_a_2016   -0.106932\n",
       "imiss_e_2016   -0.118500\n",
       "imiss_f_2016   -0.118852\n",
       "imiss_r_2016   -0.121574\n",
       "imiss_p_2016   -0.223021\n",
       "imiss_u_2016   -0.272860\n",
       "Name: vote_3cat, dtype: float64"
      ]
     },
     "execution_count": 21,
     "metadata": {},
     "output_type": "execute_result"
    }
   ],
   "source": [
    "df_issue.corr()['vote_3cat'].sort_values(ascending=False).tail(10)"
   ]
  },
  {
   "cell_type": "markdown",
   "metadata": {},
   "source": [
    "#### Climate change"
   ]
  },
  {
   "cell_type": "markdown",
   "metadata": {},
   "source": [
    "Add weights to dataframe with issue attributes and target"
   ]
  },
  {
   "cell_type": "code",
   "execution_count": 22,
   "metadata": {
    "ExecuteTime": {
     "end_time": "2019-11-29T02:04:29.859370Z",
     "start_time": "2019-11-29T02:04:29.846062Z"
    }
   },
   "outputs": [],
   "source": [
    "df_issue = df_issue.join(weight)\n",
    "grouped = df_issue.groupby(['vote_3cat'])"
   ]
  },
  {
   "cell_type": "markdown",
   "metadata": {},
   "source": [
    "Look at weighted responses to importance of <b>climate change</b>"
   ]
  },
  {
   "cell_type": "code",
   "execution_count": 23,
   "metadata": {
    "ExecuteTime": {
     "end_time": "2019-11-29T02:04:29.901743Z",
     "start_time": "2019-11-29T02:04:29.863664Z"
    }
   },
   "outputs": [
    {
     "data": {
      "text/html": [
       "<div>\n",
       "<style scoped>\n",
       "    .dataframe tbody tr th:only-of-type {\n",
       "        vertical-align: middle;\n",
       "    }\n",
       "\n",
       "    .dataframe tbody tr th {\n",
       "        vertical-align: top;\n",
       "    }\n",
       "\n",
       "    .dataframe thead th {\n",
       "        text-align: right;\n",
       "    }\n",
       "</style>\n",
       "<table border=\"1\" class=\"dataframe\">\n",
       "  <thead>\n",
       "    <tr style=\"text-align: right;\">\n",
       "      <th>imiss_l_2016</th>\n",
       "      <th>1.0</th>\n",
       "      <th>2.0</th>\n",
       "      <th>3.0</th>\n",
       "      <th>4.0</th>\n",
       "      <th>8.0</th>\n",
       "    </tr>\n",
       "    <tr>\n",
       "      <th>vote_3cat</th>\n",
       "      <th></th>\n",
       "      <th></th>\n",
       "      <th></th>\n",
       "      <th></th>\n",
       "      <th></th>\n",
       "    </tr>\n",
       "  </thead>\n",
       "  <tbody>\n",
       "    <tr>\n",
       "      <th>1.0</th>\n",
       "      <td>0.657</td>\n",
       "      <td>0.235</td>\n",
       "      <td>0.060</td>\n",
       "      <td>0.023</td>\n",
       "      <td>0.025</td>\n",
       "    </tr>\n",
       "    <tr>\n",
       "      <th>2.0</th>\n",
       "      <td>0.115</td>\n",
       "      <td>0.214</td>\n",
       "      <td>0.266</td>\n",
       "      <td>0.390</td>\n",
       "      <td>0.015</td>\n",
       "    </tr>\n",
       "    <tr>\n",
       "      <th>3.0</th>\n",
       "      <td>0.318</td>\n",
       "      <td>0.278</td>\n",
       "      <td>0.205</td>\n",
       "      <td>0.155</td>\n",
       "      <td>0.045</td>\n",
       "    </tr>\n",
       "  </tbody>\n",
       "</table>\n",
       "</div>"
      ],
      "text/plain": [
       "imiss_l_2016    1.0    2.0    3.0    4.0    8.0\n",
       "vote_3cat                                      \n",
       "1.0           0.657  0.235  0.060  0.023  0.025\n",
       "2.0           0.115  0.214  0.266  0.390  0.015\n",
       "3.0           0.318  0.278  0.205  0.155  0.045"
      ]
     },
     "execution_count": 23,
     "metadata": {},
     "output_type": "execute_result"
    }
   ],
   "source": [
    "clim_weighted = calc.distribution(grouped, 'imiss_l_2016').round(3)\n",
    "clim_weighted"
   ]
  },
  {
   "cell_type": "markdown",
   "metadata": {},
   "source": [
    "Create stacked bar plots of weighted response frequency by target class for <b>climate change</b>"
   ]
  },
  {
   "cell_type": "code",
   "execution_count": 24,
   "metadata": {
    "ExecuteTime": {
     "end_time": "2019-11-29T02:04:30.232315Z",
     "start_time": "2019-11-29T02:04:29.905204Z"
    }
   },
   "outputs": [
    {
     "data": {
      "image/png": "[encoded data removed]",
      "text/plain": [
       "<Figure size 432x288 with 1 Axes>"
      ]
     },
     "metadata": {
      "needs_background": "light"
     },
     "output_type": "display_data"
    }
   ],
   "source": [
    "data = clim_weighted\n",
    "title = 'Climate change'\n",
    "plot_stacked(data, title)\n",
    "plt.show()"
   ]
  },
  {
   "cell_type": "markdown",
   "metadata": {},
   "source": [
    "#### The Budget deficit"
   ]
  },
  {
   "cell_type": "markdown",
   "metadata": {},
   "source": [
    "View weighted responses to importance of <b>the Budget deficit</b>"
   ]
  },
  {
   "cell_type": "code",
   "execution_count": 25,
   "metadata": {
    "ExecuteTime": {
     "end_time": "2019-11-29T02:04:30.275698Z",
     "start_time": "2019-11-29T02:04:30.237148Z"
    }
   },
   "outputs": [
    {
     "data": {
      "text/html": [
       "<div>\n",
       "<style scoped>\n",
       "    .dataframe tbody tr th:only-of-type {\n",
       "        vertical-align: middle;\n",
       "    }\n",
       "\n",
       "    .dataframe tbody tr th {\n",
       "        vertical-align: top;\n",
       "    }\n",
       "\n",
       "    .dataframe thead th {\n",
       "        text-align: right;\n",
       "    }\n",
       "</style>\n",
       "<table border=\"1\" class=\"dataframe\">\n",
       "  <thead>\n",
       "    <tr style=\"text-align: right;\">\n",
       "      <th>imiss_p_2016</th>\n",
       "      <th>1.0</th>\n",
       "      <th>2.0</th>\n",
       "      <th>3.0</th>\n",
       "      <th>4.0</th>\n",
       "      <th>8.0</th>\n",
       "    </tr>\n",
       "    <tr>\n",
       "      <th>vote_3cat</th>\n",
       "      <th></th>\n",
       "      <th></th>\n",
       "      <th></th>\n",
       "      <th></th>\n",
       "      <th></th>\n",
       "    </tr>\n",
       "  </thead>\n",
       "  <tbody>\n",
       "    <tr>\n",
       "      <th>1.0</th>\n",
       "      <td>0.292</td>\n",
       "      <td>0.396</td>\n",
       "      <td>0.221</td>\n",
       "      <td>0.063</td>\n",
       "      <td>0.029</td>\n",
       "    </tr>\n",
       "    <tr>\n",
       "      <th>2.0</th>\n",
       "      <td>0.706</td>\n",
       "      <td>0.236</td>\n",
       "      <td>0.029</td>\n",
       "      <td>0.007</td>\n",
       "      <td>0.022</td>\n",
       "    </tr>\n",
       "    <tr>\n",
       "      <th>3.0</th>\n",
       "      <td>0.466</td>\n",
       "      <td>0.343</td>\n",
       "      <td>0.078</td>\n",
       "      <td>0.057</td>\n",
       "      <td>0.056</td>\n",
       "    </tr>\n",
       "  </tbody>\n",
       "</table>\n",
       "</div>"
      ],
      "text/plain": [
       "imiss_p_2016    1.0    2.0    3.0    4.0    8.0\n",
       "vote_3cat                                      \n",
       "1.0           0.292  0.396  0.221  0.063  0.029\n",
       "2.0           0.706  0.236  0.029  0.007  0.022\n",
       "3.0           0.466  0.343  0.078  0.057  0.056"
      ]
     },
     "execution_count": 25,
     "metadata": {},
     "output_type": "execute_result"
    }
   ],
   "source": [
    "budget_weighted = calc.distribution(grouped, 'imiss_p_2016').round(3)\n",
    "budget_weighted"
   ]
  },
  {
   "cell_type": "markdown",
   "metadata": {},
   "source": [
    "Create stacked bar plots of weighted response frequency by target class for <b>the Budget deficit</b>"
   ]
  },
  {
   "cell_type": "code",
   "execution_count": 26,
   "metadata": {
    "ExecuteTime": {
     "end_time": "2019-11-29T02:04:30.583493Z",
     "start_time": "2019-11-29T02:04:30.278502Z"
    }
   },
   "outputs": [
    {
     "data": {
      "image/png": "[encoded data removed]",
      "text/plain": [
       "<Figure size 432x288 with 1 Axes>"
      ]
     },
     "metadata": {
      "needs_background": "light"
     },
     "output_type": "display_data"
    }
   ],
   "source": [
    "title = 'The Budget deficit' \n",
    "plot_stacked(budget_weighted, title)\n",
    "plt.show()"
   ]
  },
  {
   "cell_type": "markdown",
   "metadata": {},
   "source": [
    "#### Abortion"
   ]
  },
  {
   "cell_type": "markdown",
   "metadata": {},
   "source": [
    "Print weighted responses to importance of <b>abortion</b>"
   ]
  },
  {
   "cell_type": "code",
   "execution_count": 27,
   "metadata": {
    "ExecuteTime": {
     "end_time": "2019-11-29T02:04:30.652778Z",
     "start_time": "2019-11-29T02:04:30.592622Z"
    }
   },
   "outputs": [
    {
     "name": "stdout",
     "output_type": "stream",
     "text": [
      "imiss_t_2016    1.0    2.0    3.0    4.0    8.0\n",
      "vote_3cat                                      \n",
      "1.0           0.376  0.321  0.180  0.098  0.024\n",
      "2.0           0.383  0.279  0.196  0.126  0.017\n",
      "3.0           0.328  0.286  0.215  0.123  0.048\n"
     ]
    }
   ],
   "source": [
    "abort_weighted = calc.distribution(grouped, 'imiss_t_2016').round(3)\n",
    "print(abort_weighted)"
   ]
  },
  {
   "cell_type": "markdown",
   "metadata": {},
   "source": [
    "Create stacked bar plots of weighted response frequency by target class for <b>abortion</b> "
   ]
  },
  {
   "cell_type": "code",
   "execution_count": 28,
   "metadata": {
    "ExecuteTime": {
     "end_time": "2019-11-29T02:04:31.000055Z",
     "start_time": "2019-11-29T02:04:30.667116Z"
    }
   },
   "outputs": [
    {
     "data": {
      "image/png": "[encoded data removed]",
      "text/plain": [
       "<Figure size 432x288 with 1 Axes>"
      ]
     },
     "metadata": {
      "needs_background": "light"
     },
     "output_type": "display_data"
    }
   ],
   "source": [
    "title = 'Abortion' \n",
    "plot_stacked(abort_weighted, title)\n",
    "plt.show()"
   ]
  },
  {
   "cell_type": "markdown",
   "metadata": {},
   "source": [
    "####  Size of government"
   ]
  },
  {
   "cell_type": "markdown",
   "metadata": {},
   "source": [
    "Print weighted responses to importance of <b>size of government</b>"
   ]
  },
  {
   "cell_type": "code",
   "execution_count": 29,
   "metadata": {
    "ExecuteTime": {
     "end_time": "2019-11-29T02:04:31.064761Z",
     "start_time": "2019-11-29T02:04:31.005422Z"
    }
   },
   "outputs": [
    {
     "name": "stdout",
     "output_type": "stream",
     "text": [
      "imiss_u_2016    1.0    2.0    3.0    4.0    8.0\n",
      "vote_3cat                                      \n",
      "1.0           0.175  0.369  0.318  0.111  0.028\n",
      "2.0           0.630  0.288  0.056  0.007  0.019\n",
      "3.0           0.364  0.367  0.169  0.044  0.057\n"
     ]
    }
   ],
   "source": [
    "gov_weighted = calc.distribution(grouped, 'imiss_u_2016').round(3)\n",
    "print(gov_weighted)"
   ]
  },
  {
   "cell_type": "markdown",
   "metadata": {},
   "source": [
    "Create stacked bar plots of weighted response frequency by target class for <b>size of government</b>"
   ]
  },
  {
   "cell_type": "code",
   "execution_count": 30,
   "metadata": {
    "ExecuteTime": {
     "end_time": "2019-11-29T02:04:31.469397Z",
     "start_time": "2019-11-29T02:04:31.070991Z"
    }
   },
   "outputs": [
    {
     "data": {
      "image/png": "[encoded data removed]",
      "text/plain": [
       "<Figure size 432x288 with 1 Axes>"
      ]
     },
     "metadata": {
      "needs_background": "light"
     },
     "output_type": "display_data"
    }
   ],
   "source": [
    "title = 'Size of government'\n",
    "plot_stacked(gov_weighted, title)\n",
    "plt.show()"
   ]
  },
  {
   "cell_type": "markdown",
   "metadata": {},
   "source": [
    "#### Crime"
   ]
  },
  {
   "cell_type": "code",
   "execution_count": 31,
   "metadata": {
    "ExecuteTime": {
     "end_time": "2019-11-29T02:04:31.987040Z",
     "start_time": "2019-11-29T02:04:31.474546Z"
    }
   },
   "outputs": [
    {
     "data": {
      "image/png": "[encoded data removed]",
      "text/plain": [
       "<Figure size 432x288 with 1 Axes>"
      ]
     },
     "metadata": {
      "needs_background": "light"
     },
     "output_type": "display_data"
    }
   ],
   "source": [
    "crime_weighted = calc.distribution(grouped, 'imiss_a_2016').round(3)\n",
    "title = 'Crime' \n",
    "plot_stacked(crime_weighted, title)\n",
    "plt.show()"
   ]
  },
  {
   "cell_type": "markdown",
   "metadata": {
    "ExecuteTime": {
     "end_time": "2019-11-29T01:49:47.747327Z",
     "start_time": "2019-11-29T01:49:47.741585Z"
    }
   },
   "source": [
    "#### The economy"
   ]
  },
  {
   "cell_type": "code",
   "execution_count": 32,
   "metadata": {
    "ExecuteTime": {
     "end_time": "2019-11-29T02:04:32.299305Z",
     "start_time": "2019-11-29T02:04:31.990360Z"
    }
   },
   "outputs": [
    {
     "data": {
      "image/png": "[encoded data removed]",
      "text/plain": [
       "<Figure size 432x288 with 1 Axes>"
      ]
     },
     "metadata": {
      "needs_background": "light"
     },
     "output_type": "display_data"
    }
   ],
   "source": [
    "econ_weighted = calc.distribution(grouped, 'imiss_b_2016').round(3)\n",
    "title = 'The economy' \n",
    "plot_stacked(econ_weighted, title)\n",
    "plt.show()"
   ]
  },
  {
   "cell_type": "markdown",
   "metadata": {
    "ExecuteTime": {
     "end_time": "2019-11-29T01:47:20.988207Z",
     "start_time": "2019-11-29T01:47:20.984399Z"
    }
   },
   "source": [
    "#### Immigration"
   ]
  },
  {
   "cell_type": "code",
   "execution_count": 33,
   "metadata": {
    "ExecuteTime": {
     "end_time": "2019-11-29T02:04:32.855021Z",
     "start_time": "2019-11-29T02:04:32.302825Z"
    }
   },
   "outputs": [
    {
     "data": {
      "image/png": "[encoded data removed]",
      "text/plain": [
       "<Figure size 432x288 with 1 Axes>"
      ]
     },
     "metadata": {
      "needs_background": "light"
     },
     "output_type": "display_data"
    }
   ],
   "source": [
    "immig_weighted = calc.distribution(grouped, 'imiss_c_2016').round(3)\n",
    "title = 'Immigration' \n",
    "plot_stacked(immig_weighted, title)\n",
    "plt.show()"
   ]
  },
  {
   "cell_type": "markdown",
   "metadata": {},
   "source": [
    "#### The environment"
   ]
  },
  {
   "cell_type": "code",
   "execution_count": 34,
   "metadata": {
    "ExecuteTime": {
     "end_time": "2019-11-29T02:04:33.323728Z",
     "start_time": "2019-11-29T02:04:32.859751Z"
    }
   },
   "outputs": [
    {
     "data": {
      "image/png": "[encoded data removed]",
      "text/plain": [
       "<Figure size 432x288 with 1 Axes>"
      ]
     },
     "metadata": {
      "needs_background": "light"
     },
     "output_type": "display_data"
    }
   ],
   "source": [
    "env_weighted = calc.distribution(grouped, 'imiss_d_2016').round(3)\n",
    "title = 'Environment' \n",
    "plot_stacked(env_weighted, title)\n",
    "plt.show()"
   ]
  },
  {
   "cell_type": "markdown",
   "metadata": {},
   "source": [
    "#### Religious liberty"
   ]
  },
  {
   "cell_type": "code",
   "execution_count": 35,
   "metadata": {
    "ExecuteTime": {
     "end_time": "2019-11-29T02:04:33.695636Z",
     "start_time": "2019-11-29T02:04:33.338694Z"
    }
   },
   "outputs": [
    {
     "data": {
      "image/png": "[encoded data removed]",
      "text/plain": [
       "<Figure size 432x288 with 1 Axes>"
      ]
     },
     "metadata": {
      "needs_background": "light"
     },
     "output_type": "display_data"
    }
   ],
   "source": [
    "rel_weighted = calc.distribution(grouped, 'imiss_e_2016').round(3)\n",
    "title = 'Religious liberty' \n",
    "plot_stacked(rel_weighted, title)\n",
    "plt.show()"
   ]
  },
  {
   "cell_type": "markdown",
   "metadata": {},
   "source": [
    "#### Terrorism "
   ]
  },
  {
   "cell_type": "code",
   "execution_count": 36,
   "metadata": {
    "ExecuteTime": {
     "end_time": "2019-11-29T02:04:34.180051Z",
     "start_time": "2019-11-29T02:04:33.699961Z"
    }
   },
   "outputs": [
    {
     "data": {
      "image/png": "[encoded data removed]",
      "text/plain": [
       "<Figure size 432x288 with 1 Axes>"
      ]
     },
     "metadata": {
      "needs_background": "light"
     },
     "output_type": "display_data"
    }
   ],
   "source": [
    "terr_weighted = calc.distribution(grouped, 'imiss_f_2016').round(3)\n",
    "title = 'Terrorism' \n",
    "plot_stacked(terr_weighted, title)\n",
    "plt.show()"
   ]
  },
  {
   "cell_type": "markdown",
   "metadata": {},
   "source": [
    "#### Gay Rights"
   ]
  },
  {
   "cell_type": "code",
   "execution_count": 37,
   "metadata": {
    "ExecuteTime": {
     "end_time": "2019-11-29T02:04:34.487479Z",
     "start_time": "2019-11-29T02:04:34.183425Z"
    }
   },
   "outputs": [
    {
     "data": {
      "image/png": "[encoded data removed]",
      "text/plain": [
       "<Figure size 432x288 with 1 Axes>"
      ]
     },
     "metadata": {
      "needs_background": "light"
     },
     "output_type": "display_data"
    }
   ],
   "source": [
    "gay_weighted = calc.distribution(grouped, 'imiss_g_2016').round(3)\n",
    "title = 'Gay Rights' \n",
    "plot_stacked(gay_weighted, title)\n",
    "plt.show()"
   ]
  },
  {
   "cell_type": "markdown",
   "metadata": {},
   "source": [
    "#### Education"
   ]
  },
  {
   "cell_type": "code",
   "execution_count": 38,
   "metadata": {
    "ExecuteTime": {
     "end_time": "2019-11-29T02:04:35.008819Z",
     "start_time": "2019-11-29T02:04:34.494086Z"
    }
   },
   "outputs": [
    {
     "data": {
      "image/png": "[encoded data removed]",
      "text/plain": [
       "<Figure size 432x288 with 1 Axes>"
      ]
     },
     "metadata": {
      "needs_background": "light"
     },
     "output_type": "display_data"
    }
   ],
   "source": [
    "ed_weighted = calc.distribution(grouped, 'imiss_h_2016').round(3)\n",
    "title = 'Education' \n",
    "plot_stacked(ed_weighted, title)\n",
    "plt.show()"
   ]
  },
  {
   "cell_type": "markdown",
   "metadata": {},
   "source": [
    "#### Family and medical leave"
   ]
  },
  {
   "cell_type": "code",
   "execution_count": 39,
   "metadata": {
    "ExecuteTime": {
     "end_time": "2019-11-29T02:04:35.387510Z",
     "start_time": "2019-11-29T02:04:35.012174Z"
    }
   },
   "outputs": [
    {
     "data": {
      "image/png": "[encoded data removed]",
      "text/plain": [
       "<Figure size 432x288 with 1 Axes>"
      ]
     },
     "metadata": {
      "needs_background": "light"
     },
     "output_type": "display_data"
    }
   ],
   "source": [
    "leav_weighted = calc.distribution(grouped, 'imiss_i_2016').round(3)\n",
    "title = 'Family and medical leave' \n",
    "plot_stacked(leav_weighted, title)\n",
    "plt.show()"
   ]
  },
  {
   "cell_type": "code",
   "execution_count": 40,
   "metadata": {
    "ExecuteTime": {
     "end_time": "2019-11-29T02:04:35.742310Z",
     "start_time": "2019-11-29T02:04:35.391897Z"
    }
   },
   "outputs": [
    {
     "data": {
      "image/png": "[encoded data removed]",
      "text/plain": [
       "<Figure size 432x288 with 1 Axes>"
      ]
     },
     "metadata": {
      "needs_background": "light"
     },
     "output_type": "display_data"
    }
   ],
   "source": [
    "health_weighted = calc.distribution(grouped, 'imiss_j_2016').round(3)\n",
    "title = 'Healthcare' \n",
    "plot_stacked(health_weighted, title)\n",
    "plt.show()"
   ]
  },
  {
   "cell_type": "markdown",
   "metadata": {},
   "source": [
    "#### Check counts for each issue"
   ]
  },
  {
   "cell_type": "markdown",
   "metadata": {},
   "source": [
    "Subset issue dataframe into the three classes"
   ]
  },
  {
   "cell_type": "code",
   "execution_count": 41,
   "metadata": {
    "ExecuteTime": {
     "end_time": "2019-11-29T02:04:35.762687Z",
     "start_time": "2019-11-29T02:04:35.745848Z"
    }
   },
   "outputs": [],
   "source": [
    "df_clint = df_issue.loc[df_issue.vote_3cat == 1]\n",
    "df_trump = df_issue.loc[df_issue.vote_3cat  == 2]\n",
    "df_other_behav = df_issue.loc[df_issue.vote_3cat  == 3]\n",
    "cat_df_list = [df_clint, df_trump, df_other_behav]"
   ]
  },
  {
   "cell_type": "code",
   "execution_count": 42,
   "metadata": {
    "ExecuteTime": {
     "end_time": "2019-11-29T02:04:35.789616Z",
     "start_time": "2019-11-29T02:04:35.764959Z"
    }
   },
   "outputs": [
    {
     "data": {
      "text/plain": [
       "Index(['imiss_a_2016', 'imiss_b_2016', 'imiss_c_2016', 'imiss_d_2016',\n",
       "       'imiss_e_2016', 'imiss_f_2016', 'imiss_g_2016', 'imiss_h_2016',\n",
       "       'imiss_i_2016', 'imiss_j_2016', 'imiss_k_2016', 'imiss_l_2016',\n",
       "       'imiss_m_2016', 'imiss_n_2016', 'imiss_o_2016', 'imiss_p_2016',\n",
       "       'imiss_q_2016', 'imiss_r_2016', 'imiss_s_2016', 'imiss_t_2016',\n",
       "       'imiss_u_2016', 'imiss_x_2016', 'imiss_y_2016', 'vote_3cat', 'weight'],\n",
       "      dtype='object')"
      ]
     },
     "execution_count": 42,
     "metadata": {},
     "output_type": "execute_result"
    }
   ],
   "source": [
    "df_clint.columns"
   ]
  },
  {
   "cell_type": "markdown",
   "metadata": {},
   "source": [
    "Reset the index, drop the old index, drop vote category and weight columns, print the number of attributes "
   ]
  },
  {
   "cell_type": "code",
   "execution_count": 43,
   "metadata": {
    "ExecuteTime": {
     "end_time": "2019-11-29T02:04:36.037072Z",
     "start_time": "2019-11-29T02:04:35.795181Z"
    }
   },
   "outputs": [
    {
     "name": "stdout",
     "output_type": "stream",
     "text": [
      "23\n",
      "23\n",
      "23\n"
     ]
    }
   ],
   "source": [
    "for df in cat_df_list:\n",
    "    df.reset_index(drop=True, inplace=True)\n",
    "    df.drop(columns=['vote_3cat','weight'], inplace=True)\n",
    "    print(len(df.columns))"
   ]
  },
  {
   "cell_type": "markdown",
   "metadata": {},
   "source": [
    "Check that index has been reset"
   ]
  },
  {
   "cell_type": "code",
   "execution_count": 44,
   "metadata": {
    "ExecuteTime": {
     "end_time": "2019-11-29T02:04:36.082519Z",
     "start_time": "2019-11-29T02:04:36.041224Z"
    }
   },
   "outputs": [
    {
     "data": {
      "text/html": [
       "<div>\n",
       "<style scoped>\n",
       "    .dataframe tbody tr th:only-of-type {\n",
       "        vertical-align: middle;\n",
       "    }\n",
       "\n",
       "    .dataframe tbody tr th {\n",
       "        vertical-align: top;\n",
       "    }\n",
       "\n",
       "    .dataframe thead th {\n",
       "        text-align: right;\n",
       "    }\n",
       "</style>\n",
       "<table border=\"1\" class=\"dataframe\">\n",
       "  <thead>\n",
       "    <tr style=\"text-align: right;\">\n",
       "      <th></th>\n",
       "      <th>imiss_a_2016</th>\n",
       "      <th>imiss_b_2016</th>\n",
       "      <th>imiss_c_2016</th>\n",
       "      <th>imiss_d_2016</th>\n",
       "      <th>imiss_e_2016</th>\n",
       "      <th>imiss_f_2016</th>\n",
       "      <th>imiss_g_2016</th>\n",
       "      <th>imiss_h_2016</th>\n",
       "      <th>imiss_i_2016</th>\n",
       "      <th>imiss_j_2016</th>\n",
       "      <th>...</th>\n",
       "      <th>imiss_n_2016</th>\n",
       "      <th>imiss_o_2016</th>\n",
       "      <th>imiss_p_2016</th>\n",
       "      <th>imiss_q_2016</th>\n",
       "      <th>imiss_r_2016</th>\n",
       "      <th>imiss_s_2016</th>\n",
       "      <th>imiss_t_2016</th>\n",
       "      <th>imiss_u_2016</th>\n",
       "      <th>imiss_x_2016</th>\n",
       "      <th>imiss_y_2016</th>\n",
       "    </tr>\n",
       "  </thead>\n",
       "  <tbody>\n",
       "    <tr>\n",
       "      <th>0</th>\n",
       "      <td>1.0</td>\n",
       "      <td>2.0</td>\n",
       "      <td>3.0</td>\n",
       "      <td>1.0</td>\n",
       "      <td>1.0</td>\n",
       "      <td>2.0</td>\n",
       "      <td>3.0</td>\n",
       "      <td>2.0</td>\n",
       "      <td>4.0</td>\n",
       "      <td>1.0</td>\n",
       "      <td>...</td>\n",
       "      <td>1.0</td>\n",
       "      <td>1.0</td>\n",
       "      <td>3.0</td>\n",
       "      <td>2.0</td>\n",
       "      <td>2.0</td>\n",
       "      <td>2.0</td>\n",
       "      <td>3.0</td>\n",
       "      <td>2.0</td>\n",
       "      <td>2.0</td>\n",
       "      <td>3.0</td>\n",
       "    </tr>\n",
       "    <tr>\n",
       "      <th>1</th>\n",
       "      <td>3.0</td>\n",
       "      <td>2.0</td>\n",
       "      <td>4.0</td>\n",
       "      <td>1.0</td>\n",
       "      <td>3.0</td>\n",
       "      <td>3.0</td>\n",
       "      <td>2.0</td>\n",
       "      <td>2.0</td>\n",
       "      <td>4.0</td>\n",
       "      <td>3.0</td>\n",
       "      <td>...</td>\n",
       "      <td>2.0</td>\n",
       "      <td>2.0</td>\n",
       "      <td>3.0</td>\n",
       "      <td>3.0</td>\n",
       "      <td>4.0</td>\n",
       "      <td>4.0</td>\n",
       "      <td>4.0</td>\n",
       "      <td>3.0</td>\n",
       "      <td>3.0</td>\n",
       "      <td>4.0</td>\n",
       "    </tr>\n",
       "    <tr>\n",
       "      <th>2</th>\n",
       "      <td>2.0</td>\n",
       "      <td>2.0</td>\n",
       "      <td>2.0</td>\n",
       "      <td>2.0</td>\n",
       "      <td>2.0</td>\n",
       "      <td>2.0</td>\n",
       "      <td>2.0</td>\n",
       "      <td>2.0</td>\n",
       "      <td>3.0</td>\n",
       "      <td>2.0</td>\n",
       "      <td>...</td>\n",
       "      <td>2.0</td>\n",
       "      <td>2.0</td>\n",
       "      <td>2.0</td>\n",
       "      <td>2.0</td>\n",
       "      <td>2.0</td>\n",
       "      <td>2.0</td>\n",
       "      <td>2.0</td>\n",
       "      <td>2.0</td>\n",
       "      <td>2.0</td>\n",
       "      <td>2.0</td>\n",
       "    </tr>\n",
       "    <tr>\n",
       "      <th>3</th>\n",
       "      <td>1.0</td>\n",
       "      <td>1.0</td>\n",
       "      <td>2.0</td>\n",
       "      <td>3.0</td>\n",
       "      <td>1.0</td>\n",
       "      <td>1.0</td>\n",
       "      <td>4.0</td>\n",
       "      <td>1.0</td>\n",
       "      <td>4.0</td>\n",
       "      <td>2.0</td>\n",
       "      <td>...</td>\n",
       "      <td>2.0</td>\n",
       "      <td>1.0</td>\n",
       "      <td>2.0</td>\n",
       "      <td>2.0</td>\n",
       "      <td>1.0</td>\n",
       "      <td>3.0</td>\n",
       "      <td>1.0</td>\n",
       "      <td>1.0</td>\n",
       "      <td>3.0</td>\n",
       "      <td>4.0</td>\n",
       "    </tr>\n",
       "    <tr>\n",
       "      <th>4</th>\n",
       "      <td>2.0</td>\n",
       "      <td>1.0</td>\n",
       "      <td>2.0</td>\n",
       "      <td>1.0</td>\n",
       "      <td>3.0</td>\n",
       "      <td>2.0</td>\n",
       "      <td>1.0</td>\n",
       "      <td>2.0</td>\n",
       "      <td>1.0</td>\n",
       "      <td>1.0</td>\n",
       "      <td>...</td>\n",
       "      <td>1.0</td>\n",
       "      <td>1.0</td>\n",
       "      <td>3.0</td>\n",
       "      <td>1.0</td>\n",
       "      <td>3.0</td>\n",
       "      <td>2.0</td>\n",
       "      <td>3.0</td>\n",
       "      <td>3.0</td>\n",
       "      <td>1.0</td>\n",
       "      <td>1.0</td>\n",
       "    </tr>\n",
       "  </tbody>\n",
       "</table>\n",
       "<p>5 rows × 23 columns</p>\n",
       "</div>"
      ],
      "text/plain": [
       "   imiss_a_2016  imiss_b_2016  imiss_c_2016  imiss_d_2016  imiss_e_2016  \\\n",
       "0           1.0           2.0           3.0           1.0           1.0   \n",
       "1           3.0           2.0           4.0           1.0           3.0   \n",
       "2           2.0           2.0           2.0           2.0           2.0   \n",
       "3           1.0           1.0           2.0           3.0           1.0   \n",
       "4           2.0           1.0           2.0           1.0           3.0   \n",
       "\n",
       "   imiss_f_2016  imiss_g_2016  imiss_h_2016  imiss_i_2016  imiss_j_2016  ...  \\\n",
       "0           2.0           3.0           2.0           4.0           1.0  ...   \n",
       "1           3.0           2.0           2.0           4.0           3.0  ...   \n",
       "2           2.0           2.0           2.0           3.0           2.0  ...   \n",
       "3           1.0           4.0           1.0           4.0           2.0  ...   \n",
       "4           2.0           1.0           2.0           1.0           1.0  ...   \n",
       "\n",
       "   imiss_n_2016  imiss_o_2016  imiss_p_2016  imiss_q_2016  imiss_r_2016  \\\n",
       "0           1.0           1.0           3.0           2.0           2.0   \n",
       "1           2.0           2.0           3.0           3.0           4.0   \n",
       "2           2.0           2.0           2.0           2.0           2.0   \n",
       "3           2.0           1.0           2.0           2.0           1.0   \n",
       "4           1.0           1.0           3.0           1.0           3.0   \n",
       "\n",
       "   imiss_s_2016  imiss_t_2016  imiss_u_2016  imiss_x_2016  imiss_y_2016  \n",
       "0           2.0           3.0           2.0           2.0           3.0  \n",
       "1           4.0           4.0           3.0           3.0           4.0  \n",
       "2           2.0           2.0           2.0           2.0           2.0  \n",
       "3           3.0           1.0           1.0           3.0           4.0  \n",
       "4           2.0           3.0           3.0           1.0           1.0  \n",
       "\n",
       "[5 rows x 23 columns]"
      ]
     },
     "execution_count": 44,
     "metadata": {},
     "output_type": "execute_result"
    }
   ],
   "source": [
    "df_clint.head()\n",
    "df_trump.head()\n",
    "df_other_behav.head()"
   ]
  },
  {
   "cell_type": "markdown",
   "metadata": {},
   "source": [
    "Call count function and save as variable and then make a list of those variables"
   ]
  },
  {
   "cell_type": "code",
   "execution_count": 45,
   "metadata": {
    "ExecuteTime": {
     "end_time": "2019-11-29T02:04:39.696690Z",
     "start_time": "2019-11-29T02:04:36.085613Z"
    }
   },
   "outputs": [],
   "source": [
    "clint_count = count_res(df_clint)\n",
    "trump_count = count_res(df_trump)\n",
    "other_behav_count = count_res(df_other_behav)\n",
    "counts = [clint_count, trump_count, other_behav_count]"
   ]
  },
  {
   "cell_type": "markdown",
   "metadata": {},
   "source": [
    "Check that the number of likert scale responses is equal to number expected per candidate"
   ]
  },
  {
   "cell_type": "code",
   "execution_count": 46,
   "metadata": {
    "ExecuteTime": {
     "end_time": "2019-11-29T02:04:39.711800Z",
     "start_time": "2019-11-29T02:04:39.699717Z"
    }
   },
   "outputs": [
    {
     "name": "stdout",
     "output_type": "stream",
     "text": [
      "True\n",
      "True\n",
      "True\n"
     ]
    }
   ],
   "source": [
    "print(df_clint.shape[0]*23 == sum(clint_count.values()))\n",
    "print(df_trump.shape[0]*23 == sum(trump_count.values()))\n",
    "print(df_other_behav.shape[0]*23 == sum(other_behav_count.values()));"
   ]
  },
  {
   "cell_type": "markdown",
   "metadata": {},
   "source": [
    "Plot counts for each likert scale category for Clinton, Trump, and other behavior"
   ]
  },
  {
   "cell_type": "code",
   "execution_count": 47,
   "metadata": {
    "ExecuteTime": {
     "end_time": "2019-11-29T02:04:40.126045Z",
     "start_time": "2019-11-29T02:04:39.732738Z"
    }
   },
   "outputs": [
    {
     "data": {
      "image/png": "[encoded data removed]",
      "text/plain": [
       "<Figure size 432x288 with 1 Axes>"
      ]
     },
     "metadata": {
      "needs_background": "light"
     },
     "output_type": "display_data"
    }
   ],
   "source": [
    "bar_clint = list(clint_count.values())\n",
    "bar_trump = list(trump_count.values())\n",
    "bar_other_behav = list(other_behav_count.values())\n",
    "\n",
    "bar_width = 0.25\n",
    "\n",
    "r1 = np.arange(5)\n",
    "r2 = [x + bar_width for x in r1]\n",
    "r3 = [x + bar_width for x in r2]\n",
    "plt.bar(r1, bar_clint, width=bar_width, color=palette[0])\n",
    "plt.bar(r2, bar_trump, width=bar_width, color=palette[1])\n",
    "plt.bar(r3, bar_other_behav, width=bar_width, color=palette[-1])\n",
    "plt.title('Response counts by vote for Clinton, Trump, and Other Behavior')\n",
    "plt.xticks([r + bar_width for r in range(len(bar_clint))],\n",
    "           ['Very', 'Somewhat', 'Not very', 'Unimportant', 'No response'])\n",
    "plt.ylabel('Count')\n",
    "plt.show()"
   ]
  },
  {
   "cell_type": "markdown",
   "metadata": {},
   "source": [
    "Need to do: \n",
    "* Weight the counts \n",
    "* What if I grouped survey response counts by candidate and tried to get the distribution using the calculator lib? \n",
    "* Make a dataframe with rows as Clinton, Trump, and Other behavior then make the columns the counts ? But then how do I add the weights in? Sum them? "
   ]
  },
  {
   "cell_type": "code",
   "execution_count": null,
   "metadata": {},
   "outputs": [],
   "source": []
  }
 ],
 "metadata": {
  "kernelspec": {
   "display_name": "Python 3",
   "language": "python",
   "name": "python3"
  },
  "language_info": {
   "codemirror_mode": {
    "name": "ipython",
    "version": 3
   },
   "file_extension": ".py",
   "mimetype": "text/x-python",
   "name": "python",
   "nbconvert_exporter": "python",
   "pygments_lexer": "ipython3",
   "version": "3.7.3"
  },
  "toc": {
   "base_numbering": 1,
   "nav_menu": {},
   "number_sections": true,
   "sideBar": true,
   "skip_h1_title": false,
   "title_cell": "Table of Contents",
   "title_sidebar": "Contents",
   "toc_cell": false,
   "toc_position": {},
   "toc_section_display": true,
   "toc_window_display": false
  }
 },
 "nbformat": 4,
 "nbformat_minor": 2
}
