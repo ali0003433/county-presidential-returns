{
 "cells": [
  {
   "cell_type": "markdown",
   "metadata": {},
   "source": [
    "# Exploration"
   ]
  },
  {
   "cell_type": "markdown",
   "metadata": {},
   "source": [
    "Import libraries "
   ]
  },
  {
   "cell_type": "code",
   "execution_count": 25,
   "metadata": {
    "ExecuteTime": {
     "end_time": "2019-11-25T19:30:02.429642Z",
     "start_time": "2019-11-25T19:30:02.422382Z"
    }
   },
   "outputs": [],
   "source": [
    "import matplotlib.pyplot as plt\n",
    "import numpy as np\n",
    "import pandas as pd\n",
    "import pickle\n",
    "import re\n",
    "import seaborn as sns\n",
    "import weightedcalcs as wc"
   ]
  },
  {
   "cell_type": "markdown",
   "metadata": {},
   "source": [
    "Import functions from source code"
   ]
  },
  {
   "cell_type": "code",
   "execution_count": 26,
   "metadata": {
    "ExecuteTime": {
     "end_time": "2019-11-25T19:30:02.743917Z",
     "start_time": "2019-11-25T19:30:02.738655Z"
    }
   },
   "outputs": [],
   "source": [
    "import sys\n",
    "import os\n",
    "sys.path.append('../src/features')\n",
    "from build_features import filter_col_with_regex, fill_nulls, get_dummies"
   ]
  },
  {
   "cell_type": "markdown",
   "metadata": {},
   "source": [
    "<i> Each observation is matched to a sampling frame constructed by the U.S. Census Bureau’s American Community Survey and weighted by a set of demographic and non-demographic variables<i> ( [Methodology](link ) )"
   ]
  },
  {
   "cell_type": "code",
   "execution_count": 35,
   "metadata": {
    "ExecuteTime": {
     "end_time": "2019-11-25T19:36:42.907796Z",
     "start_time": "2019-11-25T19:36:42.628304Z"
    }
   },
   "outputs": [],
   "source": [
    "with open('../data/processed/df.pickle', 'rb') as file:\n",
    "    df = pickle.load(file)"
   ]
  },
  {
   "cell_type": "markdown",
   "metadata": {},
   "source": [
    "Set up function for weighting observations"
   ]
  },
  {
   "cell_type": "code",
   "execution_count": 36,
   "metadata": {
    "ExecuteTime": {
     "end_time": "2019-11-25T19:37:41.632518Z",
     "start_time": "2019-11-25T19:37:41.625290Z"
    }
   },
   "outputs": [],
   "source": [
    "weight = df['weight']\n",
    "calc = wc.Calculator('weight')"
   ]
  },
  {
   "cell_type": "markdown",
   "metadata": {},
   "source": [
    "Calculate weighted distribution of responses to the following 2016 Post-Election survey question: <br><br>\n",
    "     <b>Who did you vote for in the election for President?<b>"
   ]
  },
  {
   "cell_type": "code",
   "execution_count": 42,
   "metadata": {
    "ExecuteTime": {
     "end_time": "2019-11-25T19:45:14.094232Z",
     "start_time": "2019-11-25T19:45:14.076925Z"
    }
   },
   "outputs": [
    {
     "name": "stdout",
     "output_type": "stream",
     "text": [
      "{1.0: 0.406, 2.0: 0.399, 3.0: 0.027, 4.0: 0.012, 5.0: 0.002, 6.0: 0.016, 7.0: 0.008, 8.0: 0.13}\n"
     ]
    }
   ],
   "source": [
    "vote_freq_series = calc.distribution(df, 'presvote16post_2016').round(3)\n",
    "candidates = ['Hillary Clinton', 'Donald Trump', 'Gary Johnson', 'Jill Stein','Evan McMullin', 'Other', 'Did not vote', 'No Response']\n",
    "vote_freq_dict = dict(vote_freq_series)\n",
    "print(vote_freq_dict)"
   ]
  },
  {
   "cell_type": "markdown",
   "metadata": {},
   "source": [
    "Set colors and labels to plot responses"
   ]
  },
  {
   "cell_type": "code",
   "execution_count": 41,
   "metadata": {
    "ExecuteTime": {
     "end_time": "2019-11-25T19:45:09.130389Z",
     "start_time": "2019-11-25T19:45:09.105741Z"
    }
   },
   "outputs": [],
   "source": [
    "clrs = ['cornflowerblue','tomato', 'gold','lightgreen','purple','lightgrey','dimgrey','darkgray']\n",
    "cand_list = ['Clinton','Trump','Johnson','Stein','McMullin','Other','Did not vote', 'No Response',]"
   ]
  },
  {
   "cell_type": "markdown",
   "metadata": {},
   "source": [
    "Plot responses to survey question"
   ]
  },
  {
   "cell_type": "code",
   "execution_count": 39,
   "metadata": {
    "ExecuteTime": {
     "end_time": "2019-11-25T19:43:11.583939Z",
     "start_time": "2019-11-25T19:43:11.160555Z"
    }
   },
   "outputs": [
    {
     "data": {
      "image/png": "[encoded data removed]",
      "text/plain": [
       "<Figure size 576x504 with 1 Axes>"
      ]
     },
     "metadata": {
      "needs_background": "light"
     },
     "output_type": "display_data"
    }
   ],
   "source": [
    "plt.figure(figsize=(8,7))\n",
    "bar_plot = sns.barplot(x = cand_list, \n",
    "                       y = list(vote_freq_series), \n",
    "                       palette=clrs)\n",
    "bar_plot.set_xticklabels(rotation=90, labels= cand_list)\n",
    "bar_plot.set_title('Who did you vote for in the election for President?')\n",
    "bar_plot.set_ylabel('Weighted frequency')\n",
    "# add labels to bars\n",
    "for bar in bar_plot.patches:\n",
    " bar_plot.annotate(format(bar.get_height(), '.3f'), \n",
    "                   (bar.get_x() + bar.get_width() / 2., \n",
    "                    bar.get_height()), \n",
    "                    ha = 'center', \n",
    "                    va = 'center', \n",
    "                    xytext = (0, 10), \n",
    "                    textcoords = 'offset points')\n",
    "plt.show()"
   ]
  },
  {
   "cell_type": "markdown",
   "metadata": {},
   "source": [
    "What features are correlated with this target?"
   ]
  },
  {
   "cell_type": "code",
   "execution_count": null,
   "metadata": {},
   "outputs": [],
   "source": [
    "df_target_predictors.corr()['presvote16post_2016'].sort_values(ascending=False).head()"
   ]
  },
  {
   "cell_type": "code",
   "execution_count": null,
   "metadata": {},
   "outputs": [],
   "source": []
  },
  {
   "cell_type": "code",
   "execution_count": null,
   "metadata": {},
   "outputs": [],
   "source": []
  },
  {
   "cell_type": "code",
   "execution_count": null,
   "metadata": {},
   "outputs": [],
   "source": []
  },
  {
   "cell_type": "code",
   "execution_count": null,
   "metadata": {},
   "outputs": [],
   "source": []
  },
  {
   "cell_type": "markdown",
   "metadata": {},
   "source": [
    "## Weighted issue prioritization of climate change"
   ]
  },
  {
   "cell_type": "code",
   "execution_count": null,
   "metadata": {
    "ExecuteTime": {
     "end_time": "2019-11-24T21:21:06.184669Z",
     "start_time": "2019-11-24T21:21:06.171101Z"
    }
   },
   "outputs": [],
   "source": [
    "climate_freq = calc.distribution(df_no_nulls, 'imiss_l_2016').round(3)\n",
    "print('weighted frequency:', climate_freq)"
   ]
  },
  {
   "cell_type": "code",
   "execution_count": null,
   "metadata": {
    "ExecuteTime": {
     "end_time": "2019-11-24T21:21:06.534697Z",
     "start_time": "2019-11-24T21:21:06.196538Z"
    }
   },
   "outputs": [],
   "source": [
    "climate_list = []\n",
    "for i in climate_freq:\n",
    "    climate_list.append(i)\n",
    "print(climate_list)\n",
    "plt.figure(figsize=(8,8))\n",
    "x = ['Very','Somewhat','Not very','Unimportant','No Response']\n",
    "bplot = sns.barplot(x = x, y = climate_list, palette='Greens_d')\n",
    "bplot.set_xticklabels(rotation=90, labels= x)\n",
    "bplot.set_title('Survey Responses: How important of an issue is climate change?')\n",
    "bplot.set_ylabel('Weighted Frequency')\n",
    "for p in bplot.patches:\n",
    " bplot.annotate(format(p.get_height(), '.3f'), (p.get_x() + p.get_width() / 2., p.get_height()), ha = 'center', va = 'center', \n",
    "            xytext = (0, 10), textcoords = 'offset points')\n",
    "plt.show()"
   ]
  },
  {
   "cell_type": "markdown",
   "metadata": {},
   "source": [
    "## Exploring relationship between community engagement and vote "
   ]
  },
  {
   "cell_type": "code",
   "execution_count": null,
   "metadata": {
    "ExecuteTime": {
     "end_time": "2019-11-24T21:21:07.245377Z",
     "start_time": "2019-11-24T21:21:02.837Z"
    }
   },
   "outputs": [],
   "source": [
    "# return list of community engagement column names\n",
    "col_list = []\n",
    "for i in range(1, 18):\n",
    "    col = f'volunteerorg2_{i}_baseline'\n",
    "    col_list.append(col)\n",
    "    \n",
    "# other community engagement fields \n",
    "comm_list = ['CIVIC_PARTICIPATION_2016',\n",
    "             'pew_churatd_2016',\n",
    "             'volunteer_baseline',\n",
    "             'volunteerf_baseline',\n",
    "             'volunteernum_baseline'\n",
    "            ]\n",
    "\n",
    "df_predictors = df[(col_list + comm_list)]\n",
    "\n",
    "# save target subset of dataframe\n",
    "df_target = pd.DataFrame(df['presvote16post_2016'])\n",
    "\n",
    "# predictors and target\n",
    "df_target_predictors = df_target.join(df_predictors)"
   ]
  },
  {
   "cell_type": "markdown",
   "metadata": {},
   "source": [
    "### Climate change"
   ]
  },
  {
   "cell_type": "code",
   "execution_count": null,
   "metadata": {
    "ExecuteTime": {
     "end_time": "2019-11-24T21:26:12.437999Z",
     "start_time": "2019-11-24T21:26:12.402169Z"
    }
   },
   "outputs": [],
   "source": [
    "g = df_3cat_issue_weight.groupby(['presvote16post_2016'])\n",
    "res = calc.distribution(g, 'imiss_l_2016').round(3)\n",
    "print(res)"
   ]
  },
  {
   "cell_type": "code",
   "execution_count": null,
   "metadata": {
    "ExecuteTime": {
     "end_time": "2019-11-24T21:31:16.775238Z",
     "start_time": "2019-11-24T21:31:16.514156Z"
    }
   },
   "outputs": [],
   "source": [
    "b=['cornflowerblue','tomato','lightgrey']\n",
    "stacked = res.T.plot(kind='bar', stacked=True, color=b)\n",
    "stacked.set_title('Survey Response: Climate change')\n",
    "stacked.set_ylabel('Weighted frequency')\n",
    "stacked.legend(['Clinton','Trump', 'Other'])\n",
    "stacked.set_xlabel('')\n",
    "N = 5 \n",
    "ind = np.arange(N)\n",
    "plt.xticks(ind, ('Very','Somewhat','Not very', 'Unimportant', 'No Response'))\n",
    "plt.show()"
   ]
  },
  {
   "cell_type": "markdown",
   "metadata": {},
   "source": [
    "### The budget deficit"
   ]
  },
  {
   "cell_type": "code",
   "execution_count": null,
   "metadata": {
    "ExecuteTime": {
     "end_time": "2019-11-24T21:35:49.052860Z",
     "start_time": "2019-11-24T21:35:48.965340Z"
    }
   },
   "outputs": [],
   "source": [
    "g = df_3cat_issue_weight.groupby(['presvote16post_2016'])\n",
    "res = calc.distribution(g, 'imiss_p_2016').round(3)\n",
    "print(res)"
   ]
  },
  {
   "cell_type": "code",
   "execution_count": null,
   "metadata": {
    "ExecuteTime": {
     "end_time": "2019-11-24T21:36:17.086128Z",
     "start_time": "2019-11-24T21:36:16.741030Z"
    }
   },
   "outputs": [],
   "source": [
    "b=['cornflowerblue','tomato','lightgrey']\n",
    "stacked = res.T.plot(kind='bar', stacked=True, color=b)\n",
    "stacked.set_title('Survey Response: The Budget deficit')\n",
    "stacked.set_ylabel('Weighted frequency')\n",
    "stacked.legend(['Clinton','Trump', 'Other'])\n",
    "stacked.set_xlabel('')\n",
    "N = 5 \n",
    "ind = np.arange(N)\n",
    "plt.xticks(ind, ('Very','Somewhat','Not very', 'Unimportant', 'No Response'))\n",
    "plt.show()"
   ]
  },
  {
   "cell_type": "markdown",
   "metadata": {},
   "source": [
    "### Abortion"
   ]
  },
  {
   "cell_type": "code",
   "execution_count": null,
   "metadata": {
    "ExecuteTime": {
     "end_time": "2019-11-24T21:40:51.778928Z",
     "start_time": "2019-11-24T21:40:51.362025Z"
    }
   },
   "outputs": [],
   "source": [
    "g = df_3cat_issue_weight.groupby(['presvote16post_2016'])\n",
    "res = calc.distribution(g, 'imiss_t_2016').round(3)\n",
    "print(res)\n",
    "b=['cornflowerblue','tomato','lightgrey']\n",
    "stacked = res.T.plot(kind='bar', stacked=True, color=b)\n",
    "stacked.set_title('Survey Response: Abortion')\n",
    "stacked.set_ylabel('Weighted frequency')\n",
    "stacked.legend(['Clinton','Trump', 'Other'])\n",
    "stacked.set_xlabel('')\n",
    "N = 5 \n",
    "ind = np.arange(N)\n",
    "plt.xticks(ind, ('Very','Somewhat','Not very', 'Unimportant', 'No Response'))\n",
    "plt.show()"
   ]
  },
  {
   "cell_type": "markdown",
   "metadata": {},
   "source": [
    "### Size of government"
   ]
  },
  {
   "cell_type": "code",
   "execution_count": null,
   "metadata": {
    "ExecuteTime": {
     "end_time": "2019-11-24T21:45:28.345638Z",
     "start_time": "2019-11-24T21:45:27.482240Z"
    }
   },
   "outputs": [],
   "source": [
    "g = df_3cat_issue_weight.groupby(['presvote16post_2016'])\n",
    "res = calc.distribution(g, 'imiss_u_2016').round(3)\n",
    "print(res)\n",
    "b=['cornflowerblue','tomato','lightgrey']\n",
    "stacked = res.T.plot(kind='bar', stacked=True, color=b)\n",
    "stacked.set_title('Survey Response: Size of government')\n",
    "stacked.set_ylabel('Weighted frequency')\n",
    "stacked.legend(['Clinton','Trump', 'Other'])\n",
    "stacked.set_xlabel('')\n",
    "N = 5 \n",
    "ind = np.arange(N)\n",
    "plt.xticks(ind, ('Very','Somewhat','Not very', 'Unimportant', 'No Response'))\n",
    "plt.show()"
   ]
  },
  {
   "cell_type": "markdown",
   "metadata": {},
   "source": [
    "within these columns in the dataframe, search each index and count the number of 4s. \n"
   ]
  },
  {
   "cell_type": "code",
   "execution_count": null,
   "metadata": {
    "ExecuteTime": {
     "end_time": "2019-11-24T21:54:33.739336Z",
     "start_time": "2019-11-24T21:54:33.602871Z"
    }
   },
   "outputs": [],
   "source": [
    "df[]"
   ]
  },
  {
   "cell_type": "code",
   "execution_count": null,
   "metadata": {},
   "outputs": [],
   "source": []
  }
 ],
 "metadata": {
  "kernelspec": {
   "display_name": "Python 3",
   "language": "python",
   "name": "python3"
  },
  "language_info": {
   "codemirror_mode": {
    "name": "ipython",
    "version": 3
   },
   "file_extension": ".py",
   "mimetype": "text/x-python",
   "name": "python",
   "nbconvert_exporter": "python",
   "pygments_lexer": "ipython3",
   "version": "3.7.3"
  },
  "toc": {
   "base_numbering": 1,
   "nav_menu": {},
   "number_sections": true,
   "sideBar": true,
   "skip_h1_title": false,
   "title_cell": "Table of Contents",
   "title_sidebar": "Contents",
   "toc_cell": false,
   "toc_position": {},
   "toc_section_display": true,
   "toc_window_display": false
  }
 },
 "nbformat": 4,
 "nbformat_minor": 2
}
