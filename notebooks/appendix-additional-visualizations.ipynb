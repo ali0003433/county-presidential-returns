{
 "cells": [
  {
   "cell_type": "markdown",
   "metadata": {},
   "source": [
    "# Appendix"
   ]
  },
  {
   "cell_type": "markdown",
   "metadata": {},
   "source": [
    "## Prepare notebook"
   ]
  },
  {
   "cell_type": "markdown",
   "metadata": {},
   "source": [
    "Import libraries "
   ]
  },
  {
   "cell_type": "code",
   "execution_count": 3,
   "metadata": {
    "ExecuteTime": {
     "end_time": "2019-11-26T21:54:29.302363Z",
     "start_time": "2019-11-26T21:54:26.751954Z"
    }
   },
   "outputs": [],
   "source": [
    "import matplotlib.pyplot as plt\n",
    "import numpy as np\n",
    "import pandas as pd\n",
    "import pickle\n",
    "import seaborn as sns\n",
    "import weightedcalcs as wc"
   ]
  },
  {
   "cell_type": "code",
   "execution_count": 4,
   "metadata": {
    "ExecuteTime": {
     "end_time": "2019-11-26T21:54:29.754657Z",
     "start_time": "2019-11-26T21:54:29.320186Z"
    }
   },
   "outputs": [],
   "source": [
    "with open('../data/processed/df.pickle', 'rb') as file:\n",
    "    df = pickle.load(file)"
   ]
  },
  {
   "cell_type": "markdown",
   "metadata": {},
   "source": [
    "Set up function for weighting observations"
   ]
  },
  {
   "cell_type": "code",
   "execution_count": 5,
   "metadata": {
    "ExecuteTime": {
     "end_time": "2019-11-26T21:54:29.765912Z",
     "start_time": "2019-11-26T21:54:29.759198Z"
    }
   },
   "outputs": [],
   "source": [
    "weight = df['weight']\n",
    "calc = wc.Calculator('weight')"
   ]
  },
  {
   "cell_type": "markdown",
   "metadata": {},
   "source": [
    "## Party identification "
   ]
  },
  {
   "cell_type": "markdown",
   "metadata": {},
   "source": [
    "<br>\n",
    "<b>Generally speaking, do you think of yourself as a ...?</b>\n",
    "    <br>(Party identification)"
   ]
  },
  {
   "cell_type": "markdown",
   "metadata": {
    "ExecuteTime": {
     "end_time": "2019-11-25T21:42:10.606060Z",
     "start_time": "2019-11-25T21:42:10.590704Z"
    }
   },
   "source": [
    "Calculate weighted distribution of responses to 'Generally speaking, do you think of yourself as a ...?'"
   ]
  },
  {
   "cell_type": "code",
   "execution_count": 6,
   "metadata": {
    "ExecuteTime": {
     "end_time": "2019-11-26T21:54:29.892015Z",
     "start_time": "2019-11-26T21:54:29.775371Z"
    }
   },
   "outputs": [
    {
     "name": "stdout",
     "output_type": "stream",
     "text": [
      "Democrat 0.36\n",
      "Republican 0.294\n",
      "Independent 0.296\n",
      "Other 0.018\n",
      "Not Sure 0.031\n"
     ]
    }
   ],
   "source": [
    "party_freq_series = calc.distribution(df, 'pid3_2016').round(3)\n",
    "party_list = ['Democrat', 'Republican', 'Independent', 'Other', 'Not Sure']\n",
    "party_freq_dict = dict(party_freq_series)\n",
    "for ind, val in enumerate(party_freq_dict.values()):\n",
    "    print(party_list[ind], val)"
   ]
  },
  {
   "cell_type": "markdown",
   "metadata": {},
   "source": [
    "Plot weighted frequency of survey responses by response category"
   ]
  },
  {
   "cell_type": "code",
   "execution_count": 7,
   "metadata": {
    "ExecuteTime": {
     "end_time": "2019-11-26T21:54:30.283827Z",
     "start_time": "2019-11-26T21:54:29.897232Z"
    }
   },
   "outputs": [
    {
     "data": {
      "image/png": "[encoded data removed]",
      "text/plain": [
       "<Figure size 576x504 with 1 Axes>"
      ]
     },
     "metadata": {
      "needs_background": "light"
     },
     "output_type": "display_data"
    }
   ],
   "source": [
    "clrs_party = ['cornflowerblue', 'tomato', 'purple', 'lightgrey', 'dimgrey']\n",
    "plt.figure(figsize=(8, 7))\n",
    "bar_plot = sns.barplot(x=party_list,\n",
    "                       y=list(party_freq_series),\n",
    "                       palette=clrs_party)\n",
    "bar_plot.set_xticklabels(rotation=90, labels=party_list)\n",
    "bar_plot.set_title('Generally speaking, do you think of yourself as a ...?')\n",
    "bar_plot.set_ylabel('Weighted frequency')\n",
    "# add labels to bars\n",
    "for bar in bar_plot.patches:\n",
    "    bar_plot.annotate(format(bar.get_height(), '.3f'), (bar.get_x() + bar.get_width() / 2.,\n",
    "                                                        bar.get_height()), ha='center', va='center', xytext=(0, 10), textcoords='offset points')\n",
    "plt.show()"
   ]
  },
  {
   "cell_type": "markdown",
   "metadata": {
    "ExecuteTime": {
     "end_time": "2019-11-25T21:50:05.661502Z",
     "start_time": "2019-11-25T21:50:05.645340Z"
    }
   },
   "source": [
    "Which <b>features</b> are correlated with <i>party</i>?"
   ]
  },
  {
   "cell_type": "code",
   "execution_count": 8,
   "metadata": {
    "ExecuteTime": {
     "end_time": "2019-11-26T21:54:35.602049Z",
     "start_time": "2019-11-26T21:54:30.290735Z"
    }
   },
   "outputs": [
    {
     "data": {
      "text/plain": [
       "pid3_2016            1.000000\n",
       "post_pid3_2012       0.702563\n",
       "pid3_baseline        0.578848\n",
       "pid7_2016            0.504512\n",
       "post_pid7_2012       0.455840\n",
       "pp_demprim16_2016    0.455295\n",
       "pid7_baseline        0.438591\n",
       "fav_hrc_2016         0.423551\n",
       "obamaapp_2016        0.407291\n",
       "fav_obama_2016       0.379822\n",
       "Name: pid3_2016, dtype: float64"
      ]
     },
     "execution_count": 8,
     "metadata": {},
     "output_type": "execute_result"
    }
   ],
   "source": [
    "df.corr()['pid3_2016'].sort_values(ascending=False).head(10)"
   ]
  },
  {
   "cell_type": "markdown",
   "metadata": {
    "ExecuteTime": {
     "end_time": "2019-11-26T17:48:11.295180Z",
     "start_time": "2019-11-26T17:48:11.280792Z"
    }
   },
   "source": [
    "## Climate change"
   ]
  },
  {
   "cell_type": "code",
   "execution_count": 9,
   "metadata": {
    "ExecuteTime": {
     "end_time": "2019-11-26T21:54:35.626950Z",
     "start_time": "2019-11-26T21:54:35.606805Z"
    }
   },
   "outputs": [
    {
     "name": "stdout",
     "output_type": "stream",
     "text": [
      "weighted frequency: imiss_l_2016\n",
      "1.0    0.374\n",
      "2.0    0.235\n",
      "3.0    0.170\n",
      "4.0    0.195\n",
      "8.0    0.025\n",
      "Name: weight, dtype: float64\n"
     ]
    }
   ],
   "source": [
    "climate_freq = calc.distribution(df, 'imiss_l_2016').round(3)\n",
    "print('weighted frequency:', climate_freq)"
   ]
  },
  {
   "cell_type": "code",
   "execution_count": 10,
   "metadata": {
    "ExecuteTime": {
     "end_time": "2019-11-26T21:55:09.159947Z",
     "start_time": "2019-11-26T21:55:08.873234Z"
    }
   },
   "outputs": [
    {
     "name": "stdout",
     "output_type": "stream",
     "text": [
      "[0.374, 0.235, 0.17, 0.195, 0.025]\n"
     ]
    },
    {
     "data": {
      "image/png": "[encoded data removed]",
      "text/plain": [
       "<Figure size 576x576 with 1 Axes>"
      ]
     },
     "metadata": {
      "needs_background": "light"
     },
     "output_type": "display_data"
    }
   ],
   "source": [
    "climate_list = []\n",
    "for i in climate_freq:\n",
    "    climate_list.append(i)\n",
    "print(climate_list)\n",
    "plt.figure(figsize=(8,8))\n",
    "x = ['Very','Somewhat','Not very','Unimportant','No Response']\n",
    "bplot = sns.barplot(x = x, y = climate_list, palette='Greens_d')\n",
    "bplot.set_xticklabels(rotation=90, labels= x)\n",
    "bplot.set_title('Survey Responses: How important of an issue is climate change?')\n",
    "bplot.set_ylabel('Weighted Frequency')\n",
    "for p in bplot.patches:\n",
    " bplot.annotate(format(p.get_height(), '.3f'), (p.get_x() + p.get_width() / 2., p.get_height()), ha = 'center', va = 'center', \n",
    "            xytext = (0, 10), textcoords = 'offset points')\n",
    "plt.show()"
   ]
  }
 ],
 "metadata": {
  "kernelspec": {
   "display_name": "Python 3",
   "language": "python",
   "name": "python3"
  },
  "language_info": {
   "codemirror_mode": {
    "name": "ipython",
    "version": 3
   },
   "file_extension": ".py",
   "mimetype": "text/x-python",
   "name": "python",
   "nbconvert_exporter": "python",
   "pygments_lexer": "ipython3",
   "version": "3.7.3"
  },
  "toc": {
   "base_numbering": 1,
   "nav_menu": {},
   "number_sections": true,
   "sideBar": true,
   "skip_h1_title": false,
   "title_cell": "Table of Contents",
   "title_sidebar": "Contents",
   "toc_cell": false,
   "toc_position": {},
   "toc_section_display": true,
   "toc_window_display": false
  }
 },
 "nbformat": 4,
 "nbformat_minor": 2
}
