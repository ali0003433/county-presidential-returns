{
 "cells": [
  {
   "cell_type": "markdown",
   "metadata": {},
   "source": [
    "Import libraries "
   ]
  },
  {
   "cell_type": "code",
   "execution_count": 58,
   "metadata": {
    "ExecuteTime": {
     "end_time": "2019-11-25T21:58:10.321676Z",
     "start_time": "2019-11-25T21:58:10.302990Z"
    }
   },
   "outputs": [],
   "source": [
    "import matplotlib.pyplot as plt\n",
    "import numpy as np\n",
    "import pandas as pd\n",
    "import pickle\n",
    "import re\n",
    "import seaborn as sns\n",
    "import weightedcalcs as wc"
   ]
  },
  {
   "cell_type": "code",
   "execution_count": 60,
   "metadata": {
    "ExecuteTime": {
     "end_time": "2019-11-25T21:58:11.496443Z",
     "start_time": "2019-11-25T21:58:11.218898Z"
    }
   },
   "outputs": [],
   "source": [
    "with open('../data/processed/df.pickle', 'rb') as file:\n",
    "    df = pickle.load(file)"
   ]
  },
  {
   "cell_type": "markdown",
   "metadata": {},
   "source": [
    "Set up function for weighting observations"
   ]
  },
  {
   "cell_type": "code",
   "execution_count": 61,
   "metadata": {
    "ExecuteTime": {
     "end_time": "2019-11-25T21:58:11.789211Z",
     "start_time": "2019-11-25T21:58:11.771023Z"
    }
   },
   "outputs": [],
   "source": [
    "weight = df['weight']\n",
    "calc = wc.Calculator('weight')"
   ]
  },
  {
   "cell_type": "markdown",
   "metadata": {},
   "source": [
    "<br>\n",
    "<b>Generally speaking, do you think of yourself as a ...?</b>\n",
    "    <br>(Party identification)"
   ]
  },
  {
   "cell_type": "markdown",
   "metadata": {
    "ExecuteTime": {
     "end_time": "2019-11-25T21:42:10.606060Z",
     "start_time": "2019-11-25T21:42:10.590704Z"
    }
   },
   "source": [
    "Calculate weighted distribution of responses"
   ]
  },
  {
   "cell_type": "code",
   "execution_count": 62,
   "metadata": {
    "ExecuteTime": {
     "end_time": "2019-11-25T21:58:13.297606Z",
     "start_time": "2019-11-25T21:58:13.146006Z"
    }
   },
   "outputs": [
    {
     "name": "stdout",
     "output_type": "stream",
     "text": [
      "Democrat 0.36\n",
      "Republican 0.294\n",
      "Independent 0.296\n",
      "Other 0.018\n",
      "Not Sure 0.031\n"
     ]
    }
   ],
   "source": [
    "party_freq_series = calc.distribution(df, 'pid3_2016').round(3)\n",
    "party_list = ['Democrat', 'Republican', 'Independent', 'Other', 'Not Sure']\n",
    "party_freq_dict = dict(party_freq_series)\n",
    "for ind, val in enumerate(party_freq_dict.values()):\n",
    "    print(party_list[ind], val)"
   ]
  },
  {
   "cell_type": "markdown",
   "metadata": {},
   "source": [
    "Set set colors for plot"
   ]
  },
  {
   "cell_type": "code",
   "execution_count": 63,
   "metadata": {
    "ExecuteTime": {
     "end_time": "2019-11-25T21:58:16.170433Z",
     "start_time": "2019-11-25T21:58:16.165485Z"
    }
   },
   "outputs": [],
   "source": [
    "clrs_party = ['cornflowerblue', 'tomato', 'purple', 'lightgrey', 'dimgrey']"
   ]
  },
  {
   "cell_type": "code",
   "execution_count": 64,
   "metadata": {
    "ExecuteTime": {
     "end_time": "2019-11-25T21:58:17.052822Z",
     "start_time": "2019-11-25T21:58:16.680272Z"
    }
   },
   "outputs": [
    {
     "data": {
      "image/png": "[encoded data removed]",
      "text/plain": [
       "<Figure size 576x504 with 1 Axes>"
      ]
     },
     "metadata": {
      "needs_background": "light"
     },
     "output_type": "display_data"
    }
   ],
   "source": [
    "plt.figure(figsize=(8, 7))\n",
    "bar_plot = sns.barplot(x=party_list,\n",
    "                       y=list(party_freq_series),\n",
    "                       palette=clrs_party)\n",
    "bar_plot.set_xticklabels(rotation=90, labels=party_list)\n",
    "bar_plot.set_title('Generally speaking, do you think of yourself as a ...?')\n",
    "bar_plot.set_ylabel('Weighted frequency')\n",
    "# add labels to bars\n",
    "for bar in bar_plot.patches:\n",
    "    bar_plot.annotate(format(bar.get_height(), '.3f'), (bar.get_x() + bar.get_width() / 2.,\n",
    "                                                        bar.get_height()), ha='center', va='center', xytext=(0, 10), textcoords='offset points')\n",
    "plt.show()\n"
   ]
  },
  {
   "cell_type": "markdown",
   "metadata": {
    "ExecuteTime": {
     "end_time": "2019-11-25T21:50:05.661502Z",
     "start_time": "2019-11-25T21:50:05.645340Z"
    }
   },
   "source": [
    "Which <b>features</b> are correlated with <i>party</i>?"
   ]
  },
  {
   "cell_type": "code",
   "execution_count": 65,
   "metadata": {
    "ExecuteTime": {
     "end_time": "2019-11-25T21:58:35.930925Z",
     "start_time": "2019-11-25T21:58:30.902775Z"
    }
   },
   "outputs": [
    {
     "data": {
      "text/plain": [
       "pid3_2016            1.000000\n",
       "post_pid3_2012       0.702563\n",
       "pid3_baseline        0.578848\n",
       "pid7_2016            0.504512\n",
       "post_pid7_2012       0.455840\n",
       "pp_demprim16_2016    0.455295\n",
       "pid7_baseline        0.438591\n",
       "fav_hrc_2016         0.423551\n",
       "obamaapp_2016        0.407291\n",
       "fav_obama_2016       0.379822\n",
       "Name: pid3_2016, dtype: float64"
      ]
     },
     "execution_count": 65,
     "metadata": {},
     "output_type": "execute_result"
    }
   ],
   "source": [
    "df.corr()['pid3_2016'].sort_values(ascending=False).head(10)"
   ]
  },
  {
   "cell_type": "code",
   "execution_count": 1,
   "metadata": {
    "ExecuteTime": {
     "end_time": "2019-11-26T17:48:11.295180Z",
     "start_time": "2019-11-26T17:48:11.280792Z"
    }
   },
   "outputs": [],
   "source": [
    "# climate"
   ]
  },
  {
   "cell_type": "code",
   "execution_count": 84,
   "metadata": {
    "ExecuteTime": {
     "end_time": "2019-11-25T22:51:56.310863Z",
     "start_time": "2019-11-25T22:51:56.239989Z"
    }
   },
   "outputs": [
    {
     "ename": "NameError",
     "evalue": "name 'df_no_nulls' is not defined",
     "output_type": "error",
     "traceback": [
      "\u001b[0;31m---------------------------------------------------------------------------\u001b[0m",
      "\u001b[0;31mNameError\u001b[0m                                 Traceback (most recent call last)",
      "\u001b[0;32m<ipython-input-84-05e562942de7>\u001b[0m in \u001b[0;36m<module>\u001b[0;34m\u001b[0m\n\u001b[0;32m----> 1\u001b[0;31m \u001b[0mclimate_freq\u001b[0m \u001b[0;34m=\u001b[0m \u001b[0mcalc\u001b[0m\u001b[0;34m.\u001b[0m\u001b[0mdistribution\u001b[0m\u001b[0;34m(\u001b[0m\u001b[0mdf_no_nulls\u001b[0m\u001b[0;34m,\u001b[0m \u001b[0;34m'imiss_l_2016'\u001b[0m\u001b[0;34m)\u001b[0m\u001b[0;34m.\u001b[0m\u001b[0mround\u001b[0m\u001b[0;34m(\u001b[0m\u001b[0;36m3\u001b[0m\u001b[0;34m)\u001b[0m\u001b[0;34m\u001b[0m\u001b[0;34m\u001b[0m\u001b[0m\n\u001b[0m\u001b[1;32m      2\u001b[0m \u001b[0mprint\u001b[0m\u001b[0;34m(\u001b[0m\u001b[0;34m'weighted frequency:'\u001b[0m\u001b[0;34m,\u001b[0m \u001b[0mclimate_freq\u001b[0m\u001b[0;34m)\u001b[0m\u001b[0;34m\u001b[0m\u001b[0;34m\u001b[0m\u001b[0m\n",
      "\u001b[0;31mNameError\u001b[0m: name 'df_no_nulls' is not defined"
     ]
    }
   ],
   "source": [
    "climate_freq = calc.distribution(df_no_nulls, 'imiss_l_2016').round(3)\n",
    "print('weighted frequency:', climate_freq)"
   ]
  },
  {
   "cell_type": "code",
   "execution_count": 85,
   "metadata": {
    "ExecuteTime": {
     "end_time": "2019-11-25T22:51:56.561808Z",
     "start_time": "2019-11-25T22:51:56.538739Z"
    }
   },
   "outputs": [
    {
     "ename": "NameError",
     "evalue": "name 'climate_freq' is not defined",
     "output_type": "error",
     "traceback": [
      "\u001b[0;31m---------------------------------------------------------------------------\u001b[0m",
      "\u001b[0;31mNameError\u001b[0m                                 Traceback (most recent call last)",
      "\u001b[0;32m<ipython-input-85-673980ffcdd0>\u001b[0m in \u001b[0;36m<module>\u001b[0;34m\u001b[0m\n\u001b[1;32m      1\u001b[0m \u001b[0mclimate_list\u001b[0m \u001b[0;34m=\u001b[0m \u001b[0;34m[\u001b[0m\u001b[0;34m]\u001b[0m\u001b[0;34m\u001b[0m\u001b[0;34m\u001b[0m\u001b[0m\n\u001b[0;32m----> 2\u001b[0;31m \u001b[0;32mfor\u001b[0m \u001b[0mi\u001b[0m \u001b[0;32min\u001b[0m \u001b[0mclimate_freq\u001b[0m\u001b[0;34m:\u001b[0m\u001b[0;34m\u001b[0m\u001b[0;34m\u001b[0m\u001b[0m\n\u001b[0m\u001b[1;32m      3\u001b[0m     \u001b[0mclimate_list\u001b[0m\u001b[0;34m.\u001b[0m\u001b[0mappend\u001b[0m\u001b[0;34m(\u001b[0m\u001b[0mi\u001b[0m\u001b[0;34m)\u001b[0m\u001b[0;34m\u001b[0m\u001b[0;34m\u001b[0m\u001b[0m\n\u001b[1;32m      4\u001b[0m \u001b[0mprint\u001b[0m\u001b[0;34m(\u001b[0m\u001b[0mclimate_list\u001b[0m\u001b[0;34m)\u001b[0m\u001b[0;34m\u001b[0m\u001b[0;34m\u001b[0m\u001b[0m\n\u001b[1;32m      5\u001b[0m \u001b[0mplt\u001b[0m\u001b[0;34m.\u001b[0m\u001b[0mfigure\u001b[0m\u001b[0;34m(\u001b[0m\u001b[0mfigsize\u001b[0m\u001b[0;34m=\u001b[0m\u001b[0;34m(\u001b[0m\u001b[0;36m8\u001b[0m\u001b[0;34m,\u001b[0m\u001b[0;36m8\u001b[0m\u001b[0;34m)\u001b[0m\u001b[0;34m)\u001b[0m\u001b[0;34m\u001b[0m\u001b[0;34m\u001b[0m\u001b[0m\n",
      "\u001b[0;31mNameError\u001b[0m: name 'climate_freq' is not defined"
     ]
    }
   ],
   "source": [
    "climate_list = []\n",
    "for i in climate_freq:\n",
    "    climate_list.append(i)\n",
    "print(climate_list)\n",
    "plt.figure(figsize=(8,8))\n",
    "x = ['Very','Somewhat','Not very','Unimportant','No Response']\n",
    "bplot = sns.barplot(x = x, y = climate_list, palette='Greens_d')\n",
    "bplot.set_xticklabels(rotation=90, labels= x)\n",
    "bplot.set_title('Survey Responses: How important of an issue is climate change?')\n",
    "bplot.set_ylabel('Weighted Frequency')\n",
    "for p in bplot.patches:\n",
    " bplot.annotate(format(p.get_height(), '.3f'), (p.get_x() + p.get_width() / 2., p.get_height()), ha = 'center', va = 'center', \n",
    "            xytext = (0, 10), textcoords = 'offset points')\n",
    "plt.show()"
   ]
  },
  {
   "cell_type": "markdown",
   "metadata": {},
   "source": [
    "### Climate change"
   ]
  },
  {
   "cell_type": "code",
   "execution_count": null,
   "metadata": {
    "ExecuteTime": {
     "end_time": "2019-11-24T21:26:12.437999Z",
     "start_time": "2019-11-24T21:26:12.402169Z"
    }
   },
   "outputs": [],
   "source": [
    "g = df_3cat_issue_weight.groupby(['presvote16post_2016'])\n",
    "res = calc.distribution(g, 'imiss_l_2016').round(3)\n",
    "print(res)"
   ]
  },
  {
   "cell_type": "code",
   "execution_count": null,
   "metadata": {
    "ExecuteTime": {
     "end_time": "2019-11-24T21:31:16.775238Z",
     "start_time": "2019-11-24T21:31:16.514156Z"
    }
   },
   "outputs": [],
   "source": [
    "b=['cornflowerblue','tomato','lightgrey']\n",
    "stacked = res.T.plot(kind='bar', stacked=True, color=b)\n",
    "stacked.set_title('Survey Response: Climate change')\n",
    "stacked.set_ylabel('Weighted frequency')\n",
    "stacked.legend(['Clinton','Trump', 'Other'])\n",
    "stacked.set_xlabel('')\n",
    "N = 5 \n",
    "ind = np.arange(N)\n",
    "plt.xticks(ind, ('Very','Somewhat','Not very', 'Unimportant', 'No Response'))\n",
    "plt.show()"
   ]
  },
  {
   "cell_type": "markdown",
   "metadata": {},
   "source": [
    "### The budget deficit"
   ]
  },
  {
   "cell_type": "code",
   "execution_count": null,
   "metadata": {
    "ExecuteTime": {
     "end_time": "2019-11-24T21:35:49.052860Z",
     "start_time": "2019-11-24T21:35:48.965340Z"
    }
   },
   "outputs": [],
   "source": [
    "g = df_3cat_issue_weight.groupby(['presvote16post_2016'])\n",
    "res = calc.distribution(g, 'imiss_p_2016').round(3)\n",
    "print(res)"
   ]
  },
  {
   "cell_type": "code",
   "execution_count": null,
   "metadata": {
    "ExecuteTime": {
     "end_time": "2019-11-24T21:36:17.086128Z",
     "start_time": "2019-11-24T21:36:16.741030Z"
    }
   },
   "outputs": [],
   "source": [
    "b=['cornflowerblue','tomato','lightgrey']\n",
    "stacked = res.T.plot(kind='bar', stacked=True, color=b)\n",
    "stacked.set_title('Survey Response: The Budget deficit')\n",
    "stacked.set_ylabel('Weighted frequency')\n",
    "stacked.legend(['Clinton','Trump', 'Other'])\n",
    "stacked.set_xlabel('')\n",
    "N = 5 \n",
    "ind = np.arange(N)\n",
    "plt.xticks(ind, ('Very','Somewhat','Not very', 'Unimportant', 'No Response'))\n",
    "plt.show()"
   ]
  },
  {
   "cell_type": "markdown",
   "metadata": {},
   "source": [
    "### Abortion"
   ]
  },
  {
   "cell_type": "code",
   "execution_count": null,
   "metadata": {
    "ExecuteTime": {
     "end_time": "2019-11-24T21:40:51.778928Z",
     "start_time": "2019-11-24T21:40:51.362025Z"
    }
   },
   "outputs": [],
   "source": [
    "g = df_3cat_issue_weight.groupby(['presvote16post_2016'])\n",
    "res = calc.distribution(g, 'imiss_t_2016').round(3)\n",
    "print(res)\n",
    "b=['cornflowerblue','tomato','lightgrey']\n",
    "stacked = res.T.plot(kind='bar', stacked=True, color=b)\n",
    "stacked.set_title('Survey Response: Abortion')\n",
    "stacked.set_ylabel('Weighted frequency')\n",
    "stacked.legend(['Clinton','Trump', 'Other'])\n",
    "stacked.set_xlabel('')\n",
    "N = 5 \n",
    "ind = np.arange(N)\n",
    "plt.xticks(ind, ('Very','Somewhat','Not very', 'Unimportant', 'No Response'))\n",
    "plt.show()"
   ]
  },
  {
   "cell_type": "markdown",
   "metadata": {},
   "source": [
    "### Size of government"
   ]
  },
  {
   "cell_type": "code",
   "execution_count": null,
   "metadata": {
    "ExecuteTime": {
     "end_time": "2019-11-24T21:45:28.345638Z",
     "start_time": "2019-11-24T21:45:27.482240Z"
    }
   },
   "outputs": [],
   "source": [
    "g = df_3cat_issue_weight.groupby(['presvote16post_2016'])\n",
    "res = calc.distribution(g, 'imiss_u_2016').round(3)\n",
    "print(res)\n",
    "b=['cornflowerblue','tomato','lightgrey']\n",
    "stacked = res.T.plot(kind='bar', stacked=True, color=b)\n",
    "stacked.set_title('Survey Response: Size of government')\n",
    "stacked.set_ylabel('Weighted frequency')\n",
    "stacked.legend(['Clinton','Trump', 'Other'])\n",
    "stacked.set_xlabel('')\n",
    "N = 5 \n",
    "ind = np.arange(N)\n",
    "plt.xticks(ind, ('Very','Somewhat','Not very', 'Unimportant', 'No Response'))\n",
    "plt.show()"
   ]
  }
 ],
 "metadata": {
  "kernelspec": {
   "display_name": "Python 3",
   "language": "python",
   "name": "python3"
  },
  "language_info": {
   "codemirror_mode": {
    "name": "ipython",
    "version": 3
   },
   "file_extension": ".py",
   "mimetype": "text/x-python",
   "name": "python",
   "nbconvert_exporter": "python",
   "pygments_lexer": "ipython3",
   "version": "3.7.3"
  },
  "toc": {
   "base_numbering": 1,
   "nav_menu": {},
   "number_sections": true,
   "sideBar": true,
   "skip_h1_title": false,
   "title_cell": "Table of Contents",
   "title_sidebar": "Contents",
   "toc_cell": false,
   "toc_position": {},
   "toc_section_display": true,
   "toc_window_display": false
  }
 },
 "nbformat": 4,
 "nbformat_minor": 2
}
