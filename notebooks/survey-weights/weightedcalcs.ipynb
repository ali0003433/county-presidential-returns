{
 "cells": [
  {
   "cell_type": "code",
   "execution_count": 1,
   "metadata": {
    "ExecuteTime": {
     "end_time": "2019-11-22T21:49:15.313554Z",
     "start_time": "2019-11-22T21:49:13.140895Z"
    }
   },
   "outputs": [],
   "source": [
    "import numpy as np\n",
    "import pandas as pd\n",
    "import seaborn as sns\n",
    "import re\n",
    "import matplotlib.pyplot as plt\n",
    "import weightedcalcs as wc"
   ]
  },
  {
   "cell_type": "code",
   "execution_count": 2,
   "metadata": {
    "ExecuteTime": {
     "end_time": "2019-11-22T21:49:16.756471Z",
     "start_time": "2019-11-22T21:49:15.319061Z"
    }
   },
   "outputs": [],
   "source": [
    "df = pd.read_csv('data/voter-survey-december16.csv')"
   ]
  },
  {
   "cell_type": "code",
   "execution_count": 3,
   "metadata": {
    "ExecuteTime": {
     "end_time": "2019-11-22T21:49:16.800290Z",
     "start_time": "2019-11-22T21:49:16.760748Z"
    }
   },
   "outputs": [
    {
     "name": "stdout",
     "output_type": "stream",
     "text": [
      "presvote16post_2016    float64\n",
      "imiss_t_2016           float64\n",
      "weight                 float64\n",
      "dtype: object\n"
     ]
    },
    {
     "data": {
      "text/html": [
       "<div>\n",
       "<style scoped>\n",
       "    .dataframe tbody tr th:only-of-type {\n",
       "        vertical-align: middle;\n",
       "    }\n",
       "\n",
       "    .dataframe tbody tr th {\n",
       "        vertical-align: top;\n",
       "    }\n",
       "\n",
       "    .dataframe thead th {\n",
       "        text-align: right;\n",
       "    }\n",
       "</style>\n",
       "<table border=\"1\" class=\"dataframe\">\n",
       "  <thead>\n",
       "    <tr style=\"text-align: right;\">\n",
       "      <th></th>\n",
       "      <th>presvote16post_2016</th>\n",
       "      <th>imiss_t_2016</th>\n",
       "      <th>weight</th>\n",
       "    </tr>\n",
       "  </thead>\n",
       "  <tbody>\n",
       "    <tr>\n",
       "      <th>0</th>\n",
       "      <td>1.0</td>\n",
       "      <td>1.0</td>\n",
       "      <td>0.358213</td>\n",
       "    </tr>\n",
       "    <tr>\n",
       "      <th>1</th>\n",
       "      <td>2.0</td>\n",
       "      <td>1.0</td>\n",
       "      <td>0.562867</td>\n",
       "    </tr>\n",
       "    <tr>\n",
       "      <th>2</th>\n",
       "      <td>1.0</td>\n",
       "      <td>3.0</td>\n",
       "      <td>0.552138</td>\n",
       "    </tr>\n",
       "    <tr>\n",
       "      <th>3</th>\n",
       "      <td>3.0</td>\n",
       "      <td>3.0</td>\n",
       "      <td>0.207591</td>\n",
       "    </tr>\n",
       "    <tr>\n",
       "      <th>4</th>\n",
       "      <td>2.0</td>\n",
       "      <td>1.0</td>\n",
       "      <td>0.333729</td>\n",
       "    </tr>\n",
       "  </tbody>\n",
       "</table>\n",
       "</div>"
      ],
      "text/plain": [
       "   presvote16post_2016  imiss_t_2016    weight\n",
       "0                  1.0           1.0  0.358213\n",
       "1                  2.0           1.0  0.562867\n",
       "2                  1.0           3.0  0.552138\n",
       "3                  3.0           3.0  0.207591\n",
       "4                  2.0           1.0  0.333729"
      ]
     },
     "execution_count": 3,
     "metadata": {},
     "output_type": "execute_result"
    }
   ],
   "source": [
    "calc = wc.Calculator('weight')\n",
    "weight = df.weight\n",
    "cols = ['presvote16post_2016', 'imiss_t_2016', 'weight']\n",
    "df = df[cols]\n",
    "df = df.fillna(0)\n",
    "df.imiss_t_2016 #= df.imiss_t_2016.astype(str)\n",
    "print(df.dtypes)\n",
    "#df = pd.get_dummies(df)\n",
    "df.head()"
   ]
  },
  {
   "cell_type": "code",
   "execution_count": 4,
   "metadata": {
    "ExecuteTime": {
     "end_time": "2019-11-22T21:49:19.097072Z",
     "start_time": "2019-11-22T21:49:19.039930Z"
    }
   },
   "outputs": [
    {
     "data": {
      "text/plain": [
       "imiss_t_2016\n",
       "1.0    0.369\n",
       "2.0    0.297\n",
       "3.0    0.193\n",
       "4.0    0.114\n",
       "0.0    0.026\n",
       "Name: weight, dtype: float64"
      ]
     },
     "execution_count": 4,
     "metadata": {},
     "output_type": "execute_result"
    }
   ],
   "source": [
    "calc.distribution(df, 'imiss_t_2016').round(3).sort_values(ascending=False)"
   ]
  },
  {
   "cell_type": "code",
   "execution_count": null,
   "metadata": {
    "ExecuteTime": {
     "end_time": "2019-11-22T00:51:48.040696Z",
     "start_time": "2019-11-22T00:51:48.036879Z"
    }
   },
   "outputs": [],
   "source": [
    "#df.imiss_u_2016.value_counts()\n",
    "#3545/8000 = .44"
   ]
  },
  {
   "cell_type": "code",
   "execution_count": null,
   "metadata": {
    "ExecuteTime": {
     "end_time": "2019-11-22T14:24:28.713440Z",
     "start_time": "2019-11-22T14:24:26.921356Z"
    }
   },
   "outputs": [],
   "source": [
    "sns.countplot(df.presvote16post_2016)"
   ]
  }
 ],
 "metadata": {
  "kernelspec": {
   "display_name": "Python 3",
   "language": "python",
   "name": "python3"
  },
  "language_info": {
   "codemirror_mode": {
    "name": "ipython",
    "version": 3
   },
   "file_extension": ".py",
   "mimetype": "text/x-python",
   "name": "python",
   "nbconvert_exporter": "python",
   "pygments_lexer": "ipython3",
   "version": "3.7.3"
  },
  "toc": {
   "base_numbering": 1,
   "nav_menu": {},
   "number_sections": true,
   "sideBar": true,
   "skip_h1_title": false,
   "title_cell": "Table of Contents",
   "title_sidebar": "Contents",
   "toc_cell": false,
   "toc_position": {},
   "toc_section_display": true,
   "toc_window_display": false
  }
 },
 "nbformat": 4,
 "nbformat_minor": 2
}
