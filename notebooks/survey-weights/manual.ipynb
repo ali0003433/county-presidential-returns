{
 "cells": [
  {
   "cell_type": "markdown",
   "metadata": {},
   "source": [
    "## test"
   ]
  },
  {
   "cell_type": "code",
   "execution_count": 1,
   "metadata": {
    "ExecuteTime": {
     "end_time": "2019-11-22T15:03:04.098170Z",
     "start_time": "2019-11-22T15:03:01.500580Z"
    }
   },
   "outputs": [],
   "source": [
    "import numpy as np\n",
    "import pandas as pd\n",
    "import seaborn as sns\n",
    "import re\n",
    "import matplotlib.pyplot as plt"
   ]
  },
  {
   "cell_type": "code",
   "execution_count": 2,
   "metadata": {
    "ExecuteTime": {
     "end_time": "2019-11-22T15:03:05.599471Z",
     "start_time": "2019-11-22T15:03:04.101974Z"
    }
   },
   "outputs": [],
   "source": [
    "#read in data \n",
    "df = pd.read_csv('data/voter-survey-december16.csv')"
   ]
  },
  {
   "cell_type": "code",
   "execution_count": 3,
   "metadata": {
    "ExecuteTime": {
     "end_time": "2019-11-22T15:03:05.734336Z",
     "start_time": "2019-11-22T15:03:05.611609Z"
    }
   },
   "outputs": [
    {
     "data": {
      "text/html": [
       "<div>\n",
       "<style scoped>\n",
       "    .dataframe tbody tr th:only-of-type {\n",
       "        vertical-align: middle;\n",
       "    }\n",
       "\n",
       "    .dataframe tbody tr th {\n",
       "        vertical-align: top;\n",
       "    }\n",
       "\n",
       "    .dataframe thead th {\n",
       "        text-align: right;\n",
       "    }\n",
       "</style>\n",
       "<table border=\"1\" class=\"dataframe\">\n",
       "  <thead>\n",
       "    <tr style=\"text-align: right;\">\n",
       "      <th></th>\n",
       "      <th>presvote16post_2016</th>\n",
       "      <th>weight</th>\n",
       "      <th>imiss_u_2016_0.0</th>\n",
       "      <th>imiss_u_2016_1.0</th>\n",
       "      <th>imiss_u_2016_2.0</th>\n",
       "      <th>imiss_u_2016_3.0</th>\n",
       "      <th>imiss_u_2016_4.0</th>\n",
       "    </tr>\n",
       "  </thead>\n",
       "  <tbody>\n",
       "    <tr>\n",
       "      <th>0</th>\n",
       "      <td>1.0</td>\n",
       "      <td>0.358213</td>\n",
       "      <td>0</td>\n",
       "      <td>0</td>\n",
       "      <td>1</td>\n",
       "      <td>0</td>\n",
       "      <td>0</td>\n",
       "    </tr>\n",
       "    <tr>\n",
       "      <th>1</th>\n",
       "      <td>2.0</td>\n",
       "      <td>0.562867</td>\n",
       "      <td>0</td>\n",
       "      <td>0</td>\n",
       "      <td>1</td>\n",
       "      <td>0</td>\n",
       "      <td>0</td>\n",
       "    </tr>\n",
       "    <tr>\n",
       "      <th>2</th>\n",
       "      <td>1.0</td>\n",
       "      <td>0.552138</td>\n",
       "      <td>0</td>\n",
       "      <td>0</td>\n",
       "      <td>1</td>\n",
       "      <td>0</td>\n",
       "      <td>0</td>\n",
       "    </tr>\n",
       "    <tr>\n",
       "      <th>3</th>\n",
       "      <td>3.0</td>\n",
       "      <td>0.207591</td>\n",
       "      <td>0</td>\n",
       "      <td>0</td>\n",
       "      <td>1</td>\n",
       "      <td>0</td>\n",
       "      <td>0</td>\n",
       "    </tr>\n",
       "    <tr>\n",
       "      <th>4</th>\n",
       "      <td>2.0</td>\n",
       "      <td>0.333729</td>\n",
       "      <td>0</td>\n",
       "      <td>1</td>\n",
       "      <td>0</td>\n",
       "      <td>0</td>\n",
       "      <td>0</td>\n",
       "    </tr>\n",
       "  </tbody>\n",
       "</table>\n",
       "</div>"
      ],
      "text/plain": [
       "   presvote16post_2016    weight  imiss_u_2016_0.0  imiss_u_2016_1.0  \\\n",
       "0                  1.0  0.358213                 0                 0   \n",
       "1                  2.0  0.562867                 0                 0   \n",
       "2                  1.0  0.552138                 0                 0   \n",
       "3                  3.0  0.207591                 0                 0   \n",
       "4                  2.0  0.333729                 0                 1   \n",
       "\n",
       "   imiss_u_2016_2.0  imiss_u_2016_3.0  imiss_u_2016_4.0  \n",
       "0                 1                 0                 0  \n",
       "1                 1                 0                 0  \n",
       "2                 1                 0                 0  \n",
       "3                 1                 0                 0  \n",
       "4                 0                 0                 0  "
      ]
     },
     "execution_count": 3,
     "metadata": {},
     "output_type": "execute_result"
    }
   ],
   "source": [
    "weight = df.weight\n",
    "cols = ['presvote16post_2016', 'imiss_u_2016', 'weight']\n",
    "df = df[cols]\n",
    "df = df.fillna(0)\n",
    "df.imiss_u_2016 = df.imiss_u_2016.astype(str)\n",
    "df.dtypes\n",
    "df = pd.get_dummies(df)\n",
    "df.head()"
   ]
  },
  {
   "cell_type": "code",
   "execution_count": 4,
   "metadata": {
    "ExecuteTime": {
     "end_time": "2019-11-22T15:03:05.825368Z",
     "start_time": "2019-11-22T15:03:05.744409Z"
    }
   },
   "outputs": [
    {
     "data": {
      "text/html": [
       "<div>\n",
       "<style scoped>\n",
       "    .dataframe tbody tr th:only-of-type {\n",
       "        vertical-align: middle;\n",
       "    }\n",
       "\n",
       "    .dataframe tbody tr th {\n",
       "        vertical-align: top;\n",
       "    }\n",
       "\n",
       "    .dataframe thead th {\n",
       "        text-align: right;\n",
       "    }\n",
       "</style>\n",
       "<table border=\"1\" class=\"dataframe\">\n",
       "  <thead>\n",
       "    <tr style=\"text-align: right;\">\n",
       "      <th></th>\n",
       "      <th>presvote16post_2016</th>\n",
       "      <th>weight</th>\n",
       "      <th>imiss_u_2016_0.0</th>\n",
       "      <th>imiss_u_2016_1.0</th>\n",
       "      <th>imiss_u_2016_2.0</th>\n",
       "      <th>imiss_u_2016_3.0</th>\n",
       "      <th>imiss_u_2016_4.0</th>\n",
       "      <th>w_imiss_u_2016_0.0</th>\n",
       "      <th>w_imiss_u_2016_1.0</th>\n",
       "      <th>w_imiss_u_2016_2.0</th>\n",
       "      <th>w_imiss_u_2016_3.0</th>\n",
       "      <th>w_imiss_u_2016_4.0</th>\n",
       "    </tr>\n",
       "  </thead>\n",
       "  <tbody>\n",
       "    <tr>\n",
       "      <th>0</th>\n",
       "      <td>1.0</td>\n",
       "      <td>0.358213</td>\n",
       "      <td>0</td>\n",
       "      <td>0</td>\n",
       "      <td>1</td>\n",
       "      <td>0</td>\n",
       "      <td>0</td>\n",
       "      <td>0.0</td>\n",
       "      <td>0.000000</td>\n",
       "      <td>0.358213</td>\n",
       "      <td>0.0</td>\n",
       "      <td>0.0</td>\n",
       "    </tr>\n",
       "    <tr>\n",
       "      <th>1</th>\n",
       "      <td>2.0</td>\n",
       "      <td>0.562867</td>\n",
       "      <td>0</td>\n",
       "      <td>0</td>\n",
       "      <td>1</td>\n",
       "      <td>0</td>\n",
       "      <td>0</td>\n",
       "      <td>0.0</td>\n",
       "      <td>0.000000</td>\n",
       "      <td>0.562867</td>\n",
       "      <td>0.0</td>\n",
       "      <td>0.0</td>\n",
       "    </tr>\n",
       "    <tr>\n",
       "      <th>2</th>\n",
       "      <td>1.0</td>\n",
       "      <td>0.552138</td>\n",
       "      <td>0</td>\n",
       "      <td>0</td>\n",
       "      <td>1</td>\n",
       "      <td>0</td>\n",
       "      <td>0</td>\n",
       "      <td>0.0</td>\n",
       "      <td>0.000000</td>\n",
       "      <td>0.552138</td>\n",
       "      <td>0.0</td>\n",
       "      <td>0.0</td>\n",
       "    </tr>\n",
       "    <tr>\n",
       "      <th>3</th>\n",
       "      <td>3.0</td>\n",
       "      <td>0.207591</td>\n",
       "      <td>0</td>\n",
       "      <td>0</td>\n",
       "      <td>1</td>\n",
       "      <td>0</td>\n",
       "      <td>0</td>\n",
       "      <td>0.0</td>\n",
       "      <td>0.000000</td>\n",
       "      <td>0.207591</td>\n",
       "      <td>0.0</td>\n",
       "      <td>0.0</td>\n",
       "    </tr>\n",
       "    <tr>\n",
       "      <th>4</th>\n",
       "      <td>2.0</td>\n",
       "      <td>0.333729</td>\n",
       "      <td>0</td>\n",
       "      <td>1</td>\n",
       "      <td>0</td>\n",
       "      <td>0</td>\n",
       "      <td>0</td>\n",
       "      <td>0.0</td>\n",
       "      <td>0.333729</td>\n",
       "      <td>0.000000</td>\n",
       "      <td>0.0</td>\n",
       "      <td>0.0</td>\n",
       "    </tr>\n",
       "  </tbody>\n",
       "</table>\n",
       "</div>"
      ],
      "text/plain": [
       "   presvote16post_2016    weight  imiss_u_2016_0.0  imiss_u_2016_1.0  \\\n",
       "0                  1.0  0.358213                 0                 0   \n",
       "1                  2.0  0.562867                 0                 0   \n",
       "2                  1.0  0.552138                 0                 0   \n",
       "3                  3.0  0.207591                 0                 0   \n",
       "4                  2.0  0.333729                 0                 1   \n",
       "\n",
       "   imiss_u_2016_2.0  imiss_u_2016_3.0  imiss_u_2016_4.0  w_imiss_u_2016_0.0  \\\n",
       "0                 1                 0                 0                 0.0   \n",
       "1                 1                 0                 0                 0.0   \n",
       "2                 1                 0                 0                 0.0   \n",
       "3                 1                 0                 0                 0.0   \n",
       "4                 0                 0                 0                 0.0   \n",
       "\n",
       "   w_imiss_u_2016_1.0  w_imiss_u_2016_2.0  w_imiss_u_2016_3.0  \\\n",
       "0            0.000000            0.358213                 0.0   \n",
       "1            0.000000            0.562867                 0.0   \n",
       "2            0.000000            0.552138                 0.0   \n",
       "3            0.000000            0.207591                 0.0   \n",
       "4            0.333729            0.000000                 0.0   \n",
       "\n",
       "   w_imiss_u_2016_4.0  \n",
       "0                 0.0  \n",
       "1                 0.0  \n",
       "2                 0.0  \n",
       "3                 0.0  \n",
       "4                 0.0  "
      ]
     },
     "execution_count": 4,
     "metadata": {},
     "output_type": "execute_result"
    }
   ],
   "source": [
    "# multiply each value in the issue column (already one hot encoded) by weight \n",
    "df['w_imiss_u_2016_0.0'] = df['imiss_u_2016_0.0'] * df['weight'] \n",
    "df['w_imiss_u_2016_1.0'] = df['imiss_u_2016_1.0'] * df['weight'] \n",
    "df['w_imiss_u_2016_2.0'] = df['imiss_u_2016_2.0'] * df['weight'] \n",
    "df['w_imiss_u_2016_3.0'] = df['imiss_u_2016_3.0'] * df['weight'] \n",
    "df['w_imiss_u_2016_4.0'] = df['imiss_u_2016_4.0'] * df['weight'] \n",
    "df.head()"
   ]
  },
  {
   "cell_type": "code",
   "execution_count": 5,
   "metadata": {
    "ExecuteTime": {
     "end_time": "2019-11-22T15:03:05.858857Z",
     "start_time": "2019-11-22T15:03:05.831271Z"
    }
   },
   "outputs": [
    {
     "data": {
      "text/plain": [
       "presvote16post_2016    1.000000\n",
       "weight                -0.075662\n",
       "imiss_u_2016_0.0      -0.002878\n",
       "imiss_u_2016_1.0       0.242079\n",
       "imiss_u_2016_2.0      -0.059525\n",
       "imiss_u_2016_3.0      -0.177785\n",
       "imiss_u_2016_4.0      -0.095468\n",
       "w_imiss_u_2016_0.0    -0.003201\n",
       "w_imiss_u_2016_1.0     0.036869\n",
       "w_imiss_u_2016_2.0    -0.060465\n",
       "w_imiss_u_2016_3.0    -0.093631\n",
       "w_imiss_u_2016_4.0    -0.049242\n",
       "Name: presvote16post_2016, dtype: float64"
      ]
     },
     "execution_count": 5,
     "metadata": {},
     "output_type": "execute_result"
    }
   ],
   "source": [
    "df.corr()['presvote16post_2016']"
   ]
  },
  {
   "cell_type": "code",
   "execution_count": 7,
   "metadata": {
    "ExecuteTime": {
     "end_time": "2019-11-22T15:06:38.661563Z",
     "start_time": "2019-11-22T15:06:38.603048Z"
    }
   },
   "outputs": [
    {
     "data": {
      "text/plain": [
       "0        0.000000\n",
       "1        0.000000\n",
       "2        0.000000\n",
       "3        0.000000\n",
       "4        0.333729\n",
       "5        0.000000\n",
       "6        0.000000\n",
       "7        1.054491\n",
       "8        0.000000\n",
       "9        0.000000\n",
       "10       0.000000\n",
       "11       0.000000\n",
       "12       0.000000\n",
       "13       0.000000\n",
       "14       0.000000\n",
       "15       0.000000\n",
       "16       0.000000\n",
       "17       0.333729\n",
       "18       0.000000\n",
       "19       0.000000\n",
       "20       0.545029\n",
       "21       0.000000\n",
       "22       0.000000\n",
       "23       0.000000\n",
       "24       0.258987\n",
       "25       0.285476\n",
       "26       0.000000\n",
       "27       0.000000\n",
       "28       0.293493\n",
       "29       0.000000\n",
       "          ...    \n",
       "7970     1.684209\n",
       "7971     0.000000\n",
       "7972     0.000000\n",
       "7973     0.000000\n",
       "7974     0.000000\n",
       "7975     0.000000\n",
       "7976     0.000000\n",
       "7977     0.000000\n",
       "7978     0.336911\n",
       "7979     0.000000\n",
       "7980     0.000000\n",
       "7981     0.000000\n",
       "7982    10.138578\n",
       "7983     0.486269\n",
       "7984     0.466863\n",
       "7985     0.325428\n",
       "7986     0.796285\n",
       "7987     0.250089\n",
       "7988     0.000000\n",
       "7989     0.000000\n",
       "7990     0.218690\n",
       "7991     0.000000\n",
       "7992     0.000000\n",
       "7993     7.248741\n",
       "7994     0.000000\n",
       "7995     1.738380\n",
       "7996     0.486269\n",
       "7997     0.000000\n",
       "7998     3.163612\n",
       "7999     0.000000\n",
       "Name: w_imiss_u_2016_1.0, Length: 8000, dtype: float64"
      ]
     },
     "execution_count": 7,
     "metadata": {},
     "output_type": "execute_result"
    }
   ],
   "source": [
    "df['w_imiss_u_2016_1.0']"
   ]
  },
  {
   "cell_type": "markdown",
   "metadata": {},
   "source": [
    "### Hypothetical steps:\n",
    "1. One hot encoding all issue features (should I drop first column?)\n",
    "2. Multiply weight by each of the feature columns\n",
    "\n",
    "Questions: \n",
    "Is that OK to do? "
   ]
  },
  {
   "cell_type": "code",
   "execution_count": null,
   "metadata": {},
   "outputs": [],
   "source": []
  }
 ],
 "metadata": {
  "kernelspec": {
   "display_name": "Python 3",
   "language": "python",
   "name": "python3"
  },
  "language_info": {
   "codemirror_mode": {
    "name": "ipython",
    "version": 3
   },
   "file_extension": ".py",
   "mimetype": "text/x-python",
   "name": "python",
   "nbconvert_exporter": "python",
   "pygments_lexer": "ipython3",
   "version": "3.7.3"
  },
  "toc": {
   "base_numbering": 1,
   "nav_menu": {},
   "number_sections": true,
   "sideBar": true,
   "skip_h1_title": false,
   "title_cell": "Table of Contents",
   "title_sidebar": "Contents",
   "toc_cell": false,
   "toc_position": {},
   "toc_section_display": true,
   "toc_window_display": false
  }
 },
 "nbformat": 4,
 "nbformat_minor": 2
}
