{
 "cells": [
  {
   "cell_type": "code",
   "execution_count": 8,
   "metadata": {
    "ExecuteTime": {
     "end_time": "2019-12-02T15:01:58.175278Z",
     "start_time": "2019-12-02T15:01:56.091503Z"
    }
   },
   "outputs": [],
   "source": [
    "import numpy as np\n",
    "import pandas as pd\n",
    "import pickle\n",
    "import random\n",
    "from PIL import Image \n",
    "from wordcloud import WordCloud\n",
    "import matplotlib.pyplot as plt\n",
    "import weightedcalcs as wc\n",
    "import matplotlib.patches as mpatches\n",
    "from matplotlib import rcParams\n",
    "rcParams['font.family'] = 'serif'"
   ]
  },
  {
   "cell_type": "code",
   "execution_count": 9,
   "metadata": {
    "ExecuteTime": {
     "end_time": "2019-12-02T15:01:58.696169Z",
     "start_time": "2019-12-02T15:01:58.179452Z"
    }
   },
   "outputs": [],
   "source": [
    "with open('../data/processed/df.pickle', 'rb') as file:\n",
    "     all_ = pickle.load( file)\n",
    "with open('../data/processed/target.pickle', 'rb') as file:\n",
    "     y = pickle.load(file)\n",
    "with open('../data/processed/selected_feat.pickle', 'rb') as file:\n",
    "     slctd_feat = pickle.load(file)"
   ]
  },
  {
   "cell_type": "code",
   "execution_count": 10,
   "metadata": {
    "ExecuteTime": {
     "end_time": "2019-12-02T15:01:58.717862Z",
     "start_time": "2019-12-02T15:01:58.700000Z"
    }
   },
   "outputs": [
    {
     "data": {
      "text/plain": [
       "Index(['imiss_c_2016', 'imiss_f_2016', 'imiss_l_2016', 'imiss_p_2016',\n",
       "       'imiss_u_2016', 'imiss_x_2016', 'imiss_y_2016'],\n",
       "      dtype='object')"
      ]
     },
     "execution_count": 10,
     "metadata": {},
     "output_type": "execute_result"
    }
   ],
   "source": [
    "col_list = slctd_feat.columns\n",
    "col_list"
   ]
  },
  {
   "cell_type": "code",
   "execution_count": 11,
   "metadata": {
    "ExecuteTime": {
     "end_time": "2019-12-02T15:01:58.739533Z",
     "start_time": "2019-12-02T15:01:58.722122Z"
    }
   },
   "outputs": [],
   "source": [
    "slctd_feat['weight'] = all_.weight\n",
    "slctd_feat['target'] = y"
   ]
  },
  {
   "cell_type": "code",
   "execution_count": 12,
   "metadata": {
    "ExecuteTime": {
     "end_time": "2019-12-02T15:01:58.757912Z",
     "start_time": "2019-12-02T15:01:58.747813Z"
    }
   },
   "outputs": [],
   "source": [
    "weight = slctd_feat['weight']\n",
    "calc = wc.Calculator('weight')"
   ]
  },
  {
   "cell_type": "code",
   "execution_count": 13,
   "metadata": {
    "ExecuteTime": {
     "end_time": "2019-12-02T15:01:58.792960Z",
     "start_time": "2019-12-02T15:01:58.776079Z"
    }
   },
   "outputs": [],
   "source": [
    "grouped = slctd_feat.groupby('target')"
   ]
  },
  {
   "cell_type": "code",
   "execution_count": 14,
   "metadata": {
    "ExecuteTime": {
     "end_time": "2019-12-02T15:01:59.063371Z",
     "start_time": "2019-12-02T15:01:58.844719Z"
    }
   },
   "outputs": [
    {
     "name": "stdout",
     "output_type": "stream",
     "text": [
      "immigration imiss_c_2016\n",
      "1.0    0.447\n",
      "2.0    0.359\n",
      "3.0    0.132\n",
      "4.0    0.033\n",
      "8.0    0.029\n",
      "Name: weight, dtype: float64 \n",
      " immigration imiss_c_2016    1.0    2.0    3.0    4.0    8.0\n",
      "target                                         \n",
      "1.0           0.304  0.427  0.200  0.038  0.030\n",
      "2.0           0.616  0.295  0.058  0.020  0.011\n",
      "3.0           0.399  0.347  0.143  0.047  0.063\n",
      "terrorism imiss_f_2016\n",
      "1.0    0.566\n",
      "2.0    0.285\n",
      "3.0    0.087\n",
      "4.0    0.035\n",
      "8.0    0.027\n",
      "Name: weight, dtype: float64 \n",
      " terrorism imiss_f_2016    1.0    2.0    3.0    4.0    8.0\n",
      "target                                         \n",
      "1.0           0.410  0.352  0.158  0.051  0.029\n",
      "2.0           0.775  0.190  0.012  0.006  0.016\n",
      "3.0           0.464  0.339  0.093  0.060  0.044\n",
      "climate change imiss_l_2016\n",
      "1.0    0.374\n",
      "2.0    0.235\n",
      "3.0    0.170\n",
      "4.0    0.195\n",
      "8.0    0.025\n",
      "Name: weight, dtype: float64 \n",
      " climate change imiss_l_2016    1.0    2.0    3.0    4.0    8.0\n",
      "target                                         \n",
      "1.0           0.657  0.235  0.060  0.023  0.025\n",
      "2.0           0.115  0.214  0.266  0.390  0.015\n",
      "3.0           0.318  0.278  0.205  0.155  0.045\n",
      "the budget deficit imiss_p_2016\n",
      "1.0    0.491\n",
      "2.0    0.322\n",
      "3.0    0.117\n",
      "4.0    0.039\n",
      "8.0    0.031\n",
      "Name: weight, dtype: float64 \n",
      " the budget deficit imiss_p_2016    1.0    2.0    3.0    4.0    8.0\n",
      "target                                         \n",
      "1.0           0.292  0.396  0.221  0.063  0.029\n",
      "2.0           0.706  0.236  0.029  0.007  0.022\n",
      "3.0           0.466  0.343  0.078  0.057  0.056\n",
      "the size of government imiss_u_2016\n",
      "1.0    0.393\n",
      "2.0    0.336\n",
      "3.0    0.184\n",
      "4.0    0.056\n",
      "8.0    0.030\n",
      "Name: weight, dtype: float64 \n",
      " the size of government imiss_u_2016    1.0    2.0    3.0    4.0    8.0\n",
      "target                                         \n",
      "1.0           0.175  0.369  0.318  0.111  0.028\n",
      "2.0           0.630  0.288  0.056  0.007  0.019\n",
      "3.0           0.364  0.367  0.169  0.044  0.057\n",
      "racial equality imiss_x_2016\n",
      "1.0    0.378\n",
      "2.0    0.343\n",
      "3.0    0.155\n",
      "4.0    0.098\n",
      "8.0    0.026\n",
      "Name: weight, dtype: float64 \n",
      " racial equality imiss_x_2016    1.0    2.0    3.0    4.0    8.0\n",
      "target                                         \n",
      "1.0           0.601  0.295  0.071  0.010  0.023\n",
      "2.0           0.191  0.364  0.238  0.188  0.018\n",
      "3.0           0.298  0.400  0.161  0.096  0.045\n",
      "gender equality imiss_y_2016\n",
      "1.0    0.341\n",
      "2.0    0.303\n",
      "3.0    0.185\n",
      "4.0    0.145\n",
      "8.0    0.026\n",
      "Name: weight, dtype: float64 \n",
      " gender equality imiss_y_2016    1.0    2.0    3.0    4.0    8.0\n",
      "target                                         \n",
      "1.0           0.585  0.282  0.082  0.025  0.025\n",
      "2.0           0.124  0.294  0.281  0.280  0.020\n",
      "3.0           0.276  0.366  0.200  0.121  0.038\n"
     ]
    }
   ],
   "source": [
    "list = ['immigration', 'terrorism', 'climate change',\n",
    "        'the budget deficit', 'the size of government', 'racial equality', 'gender equality']\n",
    "for ind, col in enumerate(col_list):\n",
    "    freq = calc.distribution(slctd_feat, col).round(3)\n",
    "    g_freq = calc.distribution(grouped, col).round(3)\n",
    "\n",
    "    print(list[ind], freq, '\\n',\n",
    "         list[ind], g_freq)"
   ]
  },
  {
   "cell_type": "code",
   "execution_count": 39,
   "metadata": {
    "ExecuteTime": {
     "end_time": "2019-12-02T15:07:44.630563Z",
     "start_time": "2019-12-02T15:07:44.609313Z"
    }
   },
   "outputs": [],
   "source": [
    "amrcns_dict = {\n",
    "    'Gender Equality': .341,\n",
    "    'Climate Change': .374,\n",
    "    'Racial Equality': .378,\n",
    "    'The Size of Government': .393,\n",
    "    'Immigration': .447,\n",
    "    'The Budget Deficit': .491,\n",
    "    'Terrorism': .566\n",
    "}\n",
    "\n",
    "# clnt_dict = {'Terrorism': 0.410,\n",
    "#              'The Budget Deficit': 0.292,\n",
    "#              'Immigration': 0.304,\n",
    "#              'The Size of Government': 0.175,\n",
    "#              'Racial Equality': 0.601,\n",
    "#              'Climate Change': 0.657,\n",
    "#              'Gender Equality': .585}\n",
    "\n",
    "clnt_dict = { 'Gender Equality': .585,\n",
    "    'Climate Change': 0.657,\n",
    "    'Racial Equality': 0.601,\n",
    "    'The Size of Government': 0.175,\n",
    "    'Immigration': 0.304,\n",
    "    'The Budget Deficit': 0.292,\n",
    "'Terrorism': 0.410,}\n",
    "\n",
    "trmp_dict = {  \n",
    "    'Gender Equality': 0.124,\n",
    "    'Racial Equality': 0.191,\n",
    "    'Climate Change': 0.115,\n",
    "    'The Size of Government': 0.630,\n",
    "    'Immigration': .616,\n",
    "    'The Budget Deficit': .706,\n",
    "    'Terrorism': 0.775,\n",
    "             }\n",
    "\n",
    "# trmp_dict = {'Terrorism': 0.775,\n",
    "#              'The Budget Deficit': .706,\n",
    "#              'The Size of Government': 0.630,\n",
    "#              'Immigration': .616,\n",
    "#              'Racial Equality': 0.191,\n",
    "#              'Climate Change': 0.115,\n",
    "#              'Gender Equality': 0.124\n",
    "#              }"
   ]
  },
  {
   "cell_type": "code",
   "execution_count": 40,
   "metadata": {
    "ExecuteTime": {
     "end_time": "2019-12-02T15:07:45.665753Z",
     "start_time": "2019-12-02T15:07:45.660533Z"
    }
   },
   "outputs": [],
   "source": [
    "# freq_dict = { \n",
    "#              'gender equality': .341, 'climate change': .374,'racial equality': .378,'the size of government': .393,\n",
    "#              'immigration': .447, \n",
    "#              'the budget deficit': .491, 'terrorism': .566}"
   ]
  },
  {
   "cell_type": "code",
   "execution_count": 41,
   "metadata": {
    "ExecuteTime": {
     "end_time": "2019-12-02T15:07:45.853417Z",
     "start_time": "2019-12-02T15:07:45.842836Z"
    }
   },
   "outputs": [],
   "source": [
    "amrcns_dict\n",
    "list_ = []\n",
    "val_list = []\n",
    "for key,val in amrcns_dict.items():\n",
    "    list_.append(key)\n",
    "    val_list.append(val)"
   ]
  },
  {
   "cell_type": "code",
   "execution_count": 42,
   "metadata": {
    "ExecuteTime": {
     "end_time": "2019-12-02T15:07:46.122910Z",
     "start_time": "2019-12-02T15:07:46.116377Z"
    }
   },
   "outputs": [],
   "source": [
    "clnt_dict\n",
    "list_ = []\n",
    "val_list_clnt = []\n",
    "for key,val in clnt_dict.items():\n",
    "    list_.append(key)\n",
    "    val_list_clnt.append(val)"
   ]
  },
  {
   "cell_type": "code",
   "execution_count": 43,
   "metadata": {
    "ExecuteTime": {
     "end_time": "2019-12-02T15:07:46.311236Z",
     "start_time": "2019-12-02T15:07:46.303152Z"
    }
   },
   "outputs": [],
   "source": [
    "trmp_dict\n",
    "list_ = []\n",
    "val_list_trmp = []\n",
    "for key,val in trmp_dict.items():\n",
    "    list_.append(key)\n",
    "    val_list_trmp.append(val)"
   ]
  },
  {
   "cell_type": "code",
   "execution_count": 172,
   "metadata": {
    "ExecuteTime": {
     "end_time": "2019-12-02T15:58:20.915735Z",
     "start_time": "2019-12-02T15:58:20.569715Z"
    }
   },
   "outputs": [
    {
     "data": {
      "image/png": "[encoded data removed]",
      "text/plain": [
       "<Figure size 720x432 with 1 Axes>"
      ]
     },
     "metadata": {
      "needs_background": "light"
     },
     "output_type": "display_data"
    }
   ],
   "source": [
    "fig, ax = plt.subplots(1, 1, figsize=(10, 6))\n",
    "plt.scatter(x=val_list, y=list_, c='#b19cd9',\n",
    "            alpha=0.7, edgecolors=\"grey\", linewidth=2, label='All respondents', s=[500,600,700,800,900,1000, 1100])\n",
    "plt.scatter(x=val_list_clnt, y=list_, s=[900,1100,1000,500,700,600,800], c='cornflowerblue',\n",
    "            alpha=0.7, edgecolors=\"grey\", linewidth=2, label='\\'16 Clinton Voters')\n",
    "plt.scatter(x=val_list_trmp, y=list_, s=[600,700,500,900,800,1000,1100], c='tomato',\n",
    "            alpha=0.7, edgecolors=\"grey\", linewidth=2, label='\\'16 Trump Voters')\n",
    "\n",
    "plt.xlim(0,.9)\n",
    "ax.get_xaxis().set_visible(True)\n",
    "ax.set_xticks([0,.1,.2,.3,.4,.5,.6,.7,.8,.9])\n",
    "ax.set_xticklabels([0,'',20,'',40,'',60,'',80,''], fontsize=15)\n",
    "ax.set_xlabel('Percentage rated \\'Very Important\\'', fontsize=15)\n",
    "ax.set_yticklabels(labels=list_, fontsize=15)\n",
    "ax.spines['right'].set_visible(False)\n",
    "ax.spines['left'].set_visible(False)\n",
    "ax.spines['top'].set_visible(False)\n",
    "ax.spines['bottom'].set_visible(False)\n",
    "ax.grid(linestyle='-', linewidth='0.3', color='grey')\n",
    "ax.legend(frameon=False, loc='upper right', fontsize=12, bbox_to_anchor=(1.015,1.3), markerscale=.4)\n",
    "plt.savefig('../reports/figures/bubble_chrt.png')\n",
    "ax.tick_params(direction='out', length=0, colors='grey',\n",
    "               grid_color='grey', grid_alpha=None, labelcolor='black')\n",
    "plt.show()\n"
   ]
  },
  {
   "cell_type": "code",
   "execution_count": null,
   "metadata": {},
   "outputs": [],
   "source": []
  },
  {
   "cell_type": "code",
   "execution_count": null,
   "metadata": {},
   "outputs": [],
   "source": []
  },
  {
   "cell_type": "code",
   "execution_count": null,
   "metadata": {},
   "outputs": [],
   "source": []
  },
  {
   "cell_type": "code",
   "execution_count": null,
   "metadata": {},
   "outputs": [],
   "source": []
  }
 ],
 "metadata": {
  "kernelspec": {
   "display_name": "Python 3",
   "language": "python",
   "name": "python3"
  },
  "language_info": {
   "codemirror_mode": {
    "name": "ipython",
    "version": 3
   },
   "file_extension": ".py",
   "mimetype": "text/x-python",
   "name": "python",
   "nbconvert_exporter": "python",
   "pygments_lexer": "ipython3",
   "version": "3.7.3"
  },
  "toc": {
   "base_numbering": 1,
   "nav_menu": {},
   "number_sections": true,
   "sideBar": true,
   "skip_h1_title": false,
   "title_cell": "Table of Contents",
   "title_sidebar": "Contents",
   "toc_cell": false,
   "toc_position": {},
   "toc_section_display": true,
   "toc_window_display": false
  }
 },
 "nbformat": 4,
 "nbformat_minor": 2
}
