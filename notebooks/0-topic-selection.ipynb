{
 "cells": [
  {
   "cell_type": "markdown",
   "metadata": {},
   "source": [
    "# Data set selection"
   ]
  },
  {
   "cell_type": "markdown",
   "metadata": {},
   "source": [
    "## My background"
   ]
  },
  {
   "cell_type": "markdown",
   "metadata": {},
   "source": [
    "Prior to the Flatiron Data Science fellowship, I worked in the Information Technology policy space at a Federal agency in Washington, DC. In my role, I supported the agency's compliance with the Office of Management and Budget's [Open Data Policy](https://project-open-data.cio.gov/policy-memo/). The policy requires agencies to provide the public access to non-sensitive datasets on [Data.gov](https://www.data.gov/). Naturally, when I needed to find a dataset for a project for this fellowship, I turned to data.gov and other governmental sites. "
   ]
  },
  {
   "cell_type": "markdown",
   "metadata": {},
   "source": [
    "For a previous project, I focused on the [Federal Election Campaign Individual Contributions](https://www.fec.gov/data/receipts/individual-contributions/?two_year_transaction_period=2020&min_date=01%2F01%2F2019&max_date=12%2F31%2F2020) data sets. I built a model using 2019 DC-resident campaign contribution records to predict which candidate, of the leading Democratic candidates, the individual donated to ([Github Repo](https://github.com/ali0003433/predict-recipient-presidential-contributions)). "
   ]
  },
  {
   "cell_type": "markdown",
   "metadata": {},
   "source": [
    "## Inspiration for topic"
   ]
  },
  {
   "cell_type": "markdown",
   "metadata": {},
   "source": [
    "For my capstone project, I chose to continue with the campaign-related data and focused. I researched the existing public data by starting iwth Nate Silver's [FiveThirtyEight](https://fivethirtyeight.com/). I also used Eitan D. Hersh's <i>Hacking the Electorate</i>, Sasha Issenberg's <i>The Victory Lab</i>, and Tim Carney's <i>Alienated America</i>. In his book, Carney examines Trump's base, those who voted for him in the primary elections. His thesis is that by focusing on the economic downturn in the Rust Belt, xenophobia, and racism, we are missing an important reality about Trump supporters. <br><br>Carney cites evidences that Trump supporters are more likely to live in areas where a reasonable person might agree with the early rallying cry \"the American Dream is dead\" ...because of factors such as a decline in life expectancy, an uptick in drug and alcohol-related suicides, a decrease in community engagement, and a decrease in marriage rates, but only amongst the least educated. "
   ]
  },
  {
   "cell_type": "markdown",
   "metadata": {},
   "source": [
    "I had read in some of Carney's interviews that he uses American Community Survey (ACS) data from the US Census Bureau. I could combine ACS data with county-level 2016 presidential returns from MIT's Election Lab. This would be a different population than what Carney, the 2016 Republican primaries, so it would allow me to apply his thesis to a slightly different population of voters.  "
   ]
  },
  {
   "cell_type": "markdown",
   "metadata": {},
   "source": [
    "## First data set considered (not selected)"
   ]
  },
  {
   "cell_type": "markdown",
   "metadata": {},
   "source": [
    "Here is the first dataset I considered: [County-Level Presidential Returns 2000-2016](https://dataverse.harvard.edu/dataset.xhtml?persistentId=doi:10.7910/DVN/VOQCHQ) "
   ]
  },
  {
   "cell_type": "markdown",
   "metadata": {},
   "source": [
    "Import libraries"
   ]
  },
  {
   "cell_type": "code",
   "execution_count": 2,
   "metadata": {
    "ExecuteTime": {
     "end_time": "2019-11-26T12:35:50.999307Z",
     "start_time": "2019-11-26T12:35:49.037559Z"
    }
   },
   "outputs": [],
   "source": [
    "import numpy as np\n",
    "import pandas as pd"
   ]
  },
  {
   "cell_type": "markdown",
   "metadata": {},
   "source": [
    "Read in Presidential returns file and show the top of the dataframe"
   ]
  },
  {
   "cell_type": "code",
   "execution_count": 5,
   "metadata": {
    "ExecuteTime": {
     "end_time": "2019-11-26T12:40:53.683809Z",
     "start_time": "2019-11-26T12:40:53.490321Z"
    }
   },
   "outputs": [
    {
     "data": {
      "text/html": [
       "<div>\n",
       "<style scoped>\n",
       "    .dataframe tbody tr th:only-of-type {\n",
       "        vertical-align: middle;\n",
       "    }\n",
       "\n",
       "    .dataframe tbody tr th {\n",
       "        vertical-align: top;\n",
       "    }\n",
       "\n",
       "    .dataframe thead th {\n",
       "        text-align: right;\n",
       "    }\n",
       "</style>\n",
       "<table border=\"1\" class=\"dataframe\">\n",
       "  <thead>\n",
       "    <tr style=\"text-align: right;\">\n",
       "      <th></th>\n",
       "      <th>year</th>\n",
       "      <th>state</th>\n",
       "      <th>state_po</th>\n",
       "      <th>county</th>\n",
       "      <th>FIPS</th>\n",
       "      <th>office</th>\n",
       "      <th>candidate</th>\n",
       "      <th>party</th>\n",
       "      <th>candidatevotes</th>\n",
       "      <th>totalvotes</th>\n",
       "      <th>version</th>\n",
       "    </tr>\n",
       "  </thead>\n",
       "  <tbody>\n",
       "    <tr>\n",
       "      <th>0</th>\n",
       "      <td>2000</td>\n",
       "      <td>Alabama</td>\n",
       "      <td>AL</td>\n",
       "      <td>Autauga</td>\n",
       "      <td>1001.0</td>\n",
       "      <td>President</td>\n",
       "      <td>Al Gore</td>\n",
       "      <td>democrat</td>\n",
       "      <td>4942.0</td>\n",
       "      <td>17208</td>\n",
       "      <td>20190722</td>\n",
       "    </tr>\n",
       "    <tr>\n",
       "      <th>1</th>\n",
       "      <td>2000</td>\n",
       "      <td>Alabama</td>\n",
       "      <td>AL</td>\n",
       "      <td>Autauga</td>\n",
       "      <td>1001.0</td>\n",
       "      <td>President</td>\n",
       "      <td>George W. Bush</td>\n",
       "      <td>republican</td>\n",
       "      <td>11993.0</td>\n",
       "      <td>17208</td>\n",
       "      <td>20190722</td>\n",
       "    </tr>\n",
       "    <tr>\n",
       "      <th>2</th>\n",
       "      <td>2000</td>\n",
       "      <td>Alabama</td>\n",
       "      <td>AL</td>\n",
       "      <td>Autauga</td>\n",
       "      <td>1001.0</td>\n",
       "      <td>President</td>\n",
       "      <td>Ralph Nader</td>\n",
       "      <td>green</td>\n",
       "      <td>160.0</td>\n",
       "      <td>17208</td>\n",
       "      <td>20190722</td>\n",
       "    </tr>\n",
       "    <tr>\n",
       "      <th>3</th>\n",
       "      <td>2000</td>\n",
       "      <td>Alabama</td>\n",
       "      <td>AL</td>\n",
       "      <td>Autauga</td>\n",
       "      <td>1001.0</td>\n",
       "      <td>President</td>\n",
       "      <td>Other</td>\n",
       "      <td>NaN</td>\n",
       "      <td>113.0</td>\n",
       "      <td>17208</td>\n",
       "      <td>20190722</td>\n",
       "    </tr>\n",
       "    <tr>\n",
       "      <th>4</th>\n",
       "      <td>2000</td>\n",
       "      <td>Alabama</td>\n",
       "      <td>AL</td>\n",
       "      <td>Baldwin</td>\n",
       "      <td>1003.0</td>\n",
       "      <td>President</td>\n",
       "      <td>Al Gore</td>\n",
       "      <td>democrat</td>\n",
       "      <td>13997.0</td>\n",
       "      <td>56480</td>\n",
       "      <td>20190722</td>\n",
       "    </tr>\n",
       "  </tbody>\n",
       "</table>\n",
       "</div>"
      ],
      "text/plain": [
       "   year    state state_po   county    FIPS     office       candidate  \\\n",
       "0  2000  Alabama       AL  Autauga  1001.0  President         Al Gore   \n",
       "1  2000  Alabama       AL  Autauga  1001.0  President  George W. Bush   \n",
       "2  2000  Alabama       AL  Autauga  1001.0  President     Ralph Nader   \n",
       "3  2000  Alabama       AL  Autauga  1001.0  President           Other   \n",
       "4  2000  Alabama       AL  Baldwin  1003.0  President         Al Gore   \n",
       "\n",
       "        party  candidatevotes  totalvotes   version  \n",
       "0    democrat          4942.0       17208  20190722  \n",
       "1  republican         11993.0       17208  20190722  \n",
       "2       green           160.0       17208  20190722  \n",
       "3         NaN           113.0       17208  20190722  \n",
       "4    democrat         13997.0       56480  20190722  "
      ]
     },
     "execution_count": 5,
     "metadata": {},
     "output_type": "execute_result"
    }
   ],
   "source": [
    "df = pd.read_csv('../data/countypres_2000-2016.csv')\n",
    "df.head()"
   ]
  },
  {
   "cell_type": "markdown",
   "metadata": {},
   "source": [
    "Check shape of the data"
   ]
  },
  {
   "cell_type": "code",
   "execution_count": 14,
   "metadata": {
    "ExecuteTime": {
     "end_time": "2019-11-26T12:47:04.382268Z",
     "start_time": "2019-11-26T12:47:04.364500Z"
    }
   },
   "outputs": [
    {
     "data": {
      "text/plain": [
       "(50524, 11)"
      ]
     },
     "execution_count": 14,
     "metadata": {},
     "output_type": "execute_result"
    }
   ],
   "source": [
    "df.shape"
   ]
  },
  {
   "cell_type": "markdown",
   "metadata": {},
   "source": [
    "List attributes then consult MIT Election Lab's data dictionary"
   ]
  },
  {
   "cell_type": "code",
   "execution_count": 10,
   "metadata": {
    "ExecuteTime": {
     "end_time": "2019-11-26T12:43:11.995048Z",
     "start_time": "2019-11-26T12:43:11.973187Z"
    }
   },
   "outputs": [
    {
     "data": {
      "text/plain": [
       "['year',\n",
       " 'state',\n",
       " 'state_po',\n",
       " 'county',\n",
       " 'FIPS',\n",
       " 'office',\n",
       " 'candidate',\n",
       " 'party',\n",
       " 'candidatevotes',\n",
       " 'totalvotes',\n",
       " 'version']"
      ]
     },
     "execution_count": 10,
     "metadata": {},
     "output_type": "execute_result"
    }
   ],
   "source": [
    "list(df.columns)"
   ]
  },
  {
   "cell_type": "markdown",
   "metadata": {},
   "source": [
    "Check number of null values "
   ]
  },
  {
   "cell_type": "code",
   "execution_count": 11,
   "metadata": {
    "ExecuteTime": {
     "end_time": "2019-11-26T12:45:03.900604Z",
     "start_time": "2019-11-26T12:45:03.806729Z"
    }
   },
   "outputs": [
    {
     "data": {
      "text/plain": [
       "year                  0\n",
       "state                 0\n",
       "state_po             64\n",
       "county                0\n",
       "FIPS                 64\n",
       "office                0\n",
       "candidate             0\n",
       "party             15789\n",
       "candidatevotes      404\n",
       "totalvotes            0\n",
       "version               0\n",
       "dtype: int64"
      ]
     },
     "execution_count": 11,
     "metadata": {},
     "output_type": "execute_result"
    }
   ],
   "source": [
    "df.isna().sum()"
   ]
  },
  {
   "cell_type": "markdown",
   "metadata": {},
   "source": [
    "The FIPS (Federal Information Processing Standards) attribute will allow for mapping to Census Bureau data. What do the 64 null values look like? "
   ]
  },
  {
   "cell_type": "code",
   "execution_count": 17,
   "metadata": {
    "ExecuteTime": {
     "end_time": "2019-11-26T12:51:18.890738Z",
     "start_time": "2019-11-26T12:51:18.861437Z"
    }
   },
   "outputs": [
    {
     "data": {
      "text/html": [
       "<div>\n",
       "<style scoped>\n",
       "    .dataframe tbody tr th:only-of-type {\n",
       "        vertical-align: middle;\n",
       "    }\n",
       "\n",
       "    .dataframe tbody tr th {\n",
       "        vertical-align: top;\n",
       "    }\n",
       "\n",
       "    .dataframe thead th {\n",
       "        text-align: right;\n",
       "    }\n",
       "</style>\n",
       "<table border=\"1\" class=\"dataframe\">\n",
       "  <thead>\n",
       "    <tr style=\"text-align: right;\">\n",
       "      <th></th>\n",
       "      <th>year</th>\n",
       "      <th>state</th>\n",
       "      <th>state_po</th>\n",
       "      <th>county</th>\n",
       "      <th>FIPS</th>\n",
       "      <th>office</th>\n",
       "      <th>candidate</th>\n",
       "      <th>party</th>\n",
       "      <th>candidatevotes</th>\n",
       "      <th>totalvotes</th>\n",
       "      <th>version</th>\n",
       "    </tr>\n",
       "  </thead>\n",
       "  <tbody>\n",
       "    <tr>\n",
       "      <th>12612</th>\n",
       "      <td>2000</td>\n",
       "      <td>Connecticut</td>\n",
       "      <td>NaN</td>\n",
       "      <td>Statewide writein</td>\n",
       "      <td>NaN</td>\n",
       "      <td>President</td>\n",
       "      <td>Al Gore</td>\n",
       "      <td>democrat</td>\n",
       "      <td>NaN</td>\n",
       "      <td>0</td>\n",
       "      <td>20190722</td>\n",
       "    </tr>\n",
       "    <tr>\n",
       "      <th>12613</th>\n",
       "      <td>2000</td>\n",
       "      <td>Maine</td>\n",
       "      <td>NaN</td>\n",
       "      <td>Maine UOCAVA</td>\n",
       "      <td>NaN</td>\n",
       "      <td>President</td>\n",
       "      <td>Al Gore</td>\n",
       "      <td>democrat</td>\n",
       "      <td>NaN</td>\n",
       "      <td>0</td>\n",
       "      <td>20190722</td>\n",
       "    </tr>\n",
       "    <tr>\n",
       "      <th>12614</th>\n",
       "      <td>2000</td>\n",
       "      <td>Alaska</td>\n",
       "      <td>NaN</td>\n",
       "      <td>District 99</td>\n",
       "      <td>NaN</td>\n",
       "      <td>President</td>\n",
       "      <td>Al Gore</td>\n",
       "      <td>democrat</td>\n",
       "      <td>NaN</td>\n",
       "      <td>0</td>\n",
       "      <td>20190722</td>\n",
       "    </tr>\n",
       "    <tr>\n",
       "      <th>12615</th>\n",
       "      <td>2000</td>\n",
       "      <td>Rhode Island</td>\n",
       "      <td>NaN</td>\n",
       "      <td>Federal Precinct</td>\n",
       "      <td>NaN</td>\n",
       "      <td>President</td>\n",
       "      <td>Al Gore</td>\n",
       "      <td>democrat</td>\n",
       "      <td>NaN</td>\n",
       "      <td>0</td>\n",
       "      <td>20190722</td>\n",
       "    </tr>\n",
       "    <tr>\n",
       "      <th>12616</th>\n",
       "      <td>2000</td>\n",
       "      <td>Connecticut</td>\n",
       "      <td>NaN</td>\n",
       "      <td>Statewide writein</td>\n",
       "      <td>NaN</td>\n",
       "      <td>President</td>\n",
       "      <td>George W. Bush</td>\n",
       "      <td>republican</td>\n",
       "      <td>NaN</td>\n",
       "      <td>0</td>\n",
       "      <td>20190722</td>\n",
       "    </tr>\n",
       "  </tbody>\n",
       "</table>\n",
       "</div>"
      ],
      "text/plain": [
       "       year         state state_po             county  FIPS     office  \\\n",
       "12612  2000   Connecticut      NaN  Statewide writein   NaN  President   \n",
       "12613  2000         Maine      NaN       Maine UOCAVA   NaN  President   \n",
       "12614  2000        Alaska      NaN        District 99   NaN  President   \n",
       "12615  2000  Rhode Island      NaN   Federal Precinct   NaN  President   \n",
       "12616  2000   Connecticut      NaN  Statewide writein   NaN  President   \n",
       "\n",
       "            candidate       party  candidatevotes  totalvotes   version  \n",
       "12612         Al Gore    democrat             NaN           0  20190722  \n",
       "12613         Al Gore    democrat             NaN           0  20190722  \n",
       "12614         Al Gore    democrat             NaN           0  20190722  \n",
       "12615         Al Gore    democrat             NaN           0  20190722  \n",
       "12616  George W. Bush  republican             NaN           0  20190722  "
      ]
     },
     "execution_count": 17,
     "metadata": {},
     "output_type": "execute_result"
    }
   ],
   "source": [
    "df.loc[df.FIPS.isna() == True].head()"
   ]
  },
  {
   "cell_type": "markdown",
   "metadata": {},
   "source": [
    "It appears that there is no missing FIPS data. The records with null values refer to vote counts that are not FIPS-related\n",
    "<br>\n",
    "<br>"
   ]
  },
  {
   "cell_type": "markdown",
   "metadata": {},
   "source": [
    "Check the number of unique FIPS values"
   ]
  },
  {
   "cell_type": "code",
   "execution_count": 18,
   "metadata": {
    "ExecuteTime": {
     "end_time": "2019-11-26T13:55:55.469859Z",
     "start_time": "2019-11-26T13:55:55.400672Z"
    }
   },
   "outputs": [
    {
     "data": {
      "text/plain": [
       "3155"
      ]
     },
     "execution_count": 18,
     "metadata": {},
     "output_type": "execute_result"
    }
   ],
   "source": [
    "len(df.FIPS.unique())"
   ]
  },
  {
   "cell_type": "markdown",
   "metadata": {},
   "source": [
    "Check value counts for each party to ensure they are equivalent"
   ]
  },
  {
   "cell_type": "code",
   "execution_count": 13,
   "metadata": {
    "ExecuteTime": {
     "end_time": "2019-11-26T12:45:59.312510Z",
     "start_time": "2019-11-26T12:45:59.291086Z"
    }
   },
   "outputs": [
    {
     "data": {
      "text/plain": [
       "democrat      15789\n",
       "republican    15789\n",
       "green          3157\n",
       "Name: party, dtype: int64"
      ]
     },
     "execution_count": 13,
     "metadata": {},
     "output_type": "execute_result"
    }
   ],
   "source": [
    "df.party.value_counts()"
   ]
  },
  {
   "cell_type": "markdown",
   "metadata": {},
   "source": [
    "My next step would be to research data available from the Census Bureau's American Community Surveys (ACS) <br><br>\n",
    "After checking the data available from the ACS, I need to learn more about exactly what Carney looked at to form his thesis. <br><br> In a few articles and in his book, Carney mentions working with Emily Ekins on the book. My research led me to her publications: ['Religious Trump Voters'](https://www.voterstudygroup.org/publication/religious-trump-voters) and ['The Five Types of Trump Voters](https://www.voterstudygroup.org/publication/the-five-types-trump-voters). In her work, Ekins uses the Voter Study Group survey data published by the Democracy Fund. Additionally, it does use ACS data to create its sampling weights, which Carney was likely referring to. "
   ]
  },
  {
   "cell_type": "markdown",
   "metadata": {},
   "source": [
    "## Second data set considered  (selected)"
   ]
  },
  {
   "cell_type": "markdown",
   "metadata": {},
   "source": [
    "After discovering the data Ekins used, I took a look: [2016 Voter Study Group Survey](https://www.voterstudygroup.org/publication/2016-voter-survey)."
   ]
  },
  {
   "cell_type": "markdown",
   "metadata": {
    "ExecuteTime": {
     "end_time": "2019-11-26T15:04:52.746911Z",
     "start_time": "2019-11-26T15:04:52.727222Z"
    }
   },
   "source": [
    "Read in Voter Study Group file and display head"
   ]
  },
  {
   "cell_type": "code",
   "execution_count": 23,
   "metadata": {
    "ExecuteTime": {
     "end_time": "2019-11-26T15:05:53.702310Z",
     "start_time": "2019-11-26T15:05:51.979802Z"
    }
   },
   "outputs": [
    {
     "data": {
      "text/html": [
       "<div>\n",
       "<style scoped>\n",
       "    .dataframe tbody tr th:only-of-type {\n",
       "        vertical-align: middle;\n",
       "    }\n",
       "\n",
       "    .dataframe tbody tr th {\n",
       "        vertical-align: top;\n",
       "    }\n",
       "\n",
       "    .dataframe thead th {\n",
       "        text-align: right;\n",
       "    }\n",
       "</style>\n",
       "<table border=\"1\" class=\"dataframe\">\n",
       "  <thead>\n",
       "    <tr style=\"text-align: right;\">\n",
       "      <th></th>\n",
       "      <th>case_identifier</th>\n",
       "      <th>weight</th>\n",
       "      <th>PARTY_AGENDAS_rand_2016</th>\n",
       "      <th>pp_primary16_2016</th>\n",
       "      <th>pp_demprim16_2016</th>\n",
       "      <th>pp_repprim16_2016</th>\n",
       "      <th>inputstate_2016</th>\n",
       "      <th>izip_2016</th>\n",
       "      <th>votereg2_2016</th>\n",
       "      <th>votereg_f_2016</th>\n",
       "      <th>...</th>\n",
       "      <th>post_HouseCand3Name_2012</th>\n",
       "      <th>post_HouseCand3Party_2012</th>\n",
       "      <th>post_SenCand1Name_2012</th>\n",
       "      <th>post_SenCand1Party_2012</th>\n",
       "      <th>post_SenCand2Name_2012</th>\n",
       "      <th>post_SenCand2Party_2012</th>\n",
       "      <th>post_SenCand3Name_2012</th>\n",
       "      <th>post_SenCand3Party_2012</th>\n",
       "      <th>starttime_2016</th>\n",
       "      <th>endtime_2016</th>\n",
       "    </tr>\n",
       "  </thead>\n",
       "  <tbody>\n",
       "    <tr>\n",
       "      <th>0</th>\n",
       "      <td>779</td>\n",
       "      <td>0.358213</td>\n",
       "      <td>2</td>\n",
       "      <td>1</td>\n",
       "      <td>1.0</td>\n",
       "      <td>NaN</td>\n",
       "      <td>6</td>\n",
       "      <td>94952</td>\n",
       "      <td>1</td>\n",
       "      <td>1.0</td>\n",
       "      <td>...</td>\n",
       "      <td>NaN</td>\n",
       "      <td>NaN</td>\n",
       "      <td>Shelley Berkley</td>\n",
       "      <td>Democratic</td>\n",
       "      <td>Dean Heller</td>\n",
       "      <td>Republican</td>\n",
       "      <td>NaN</td>\n",
       "      <td>NaN</td>\n",
       "      <td>29nov2016 22:59:43</td>\n",
       "      <td>29nov2016 23:28:24</td>\n",
       "    </tr>\n",
       "    <tr>\n",
       "      <th>1</th>\n",
       "      <td>2108</td>\n",
       "      <td>0.562867</td>\n",
       "      <td>2</td>\n",
       "      <td>2</td>\n",
       "      <td>NaN</td>\n",
       "      <td>1.0</td>\n",
       "      <td>4</td>\n",
       "      <td>85298</td>\n",
       "      <td>1</td>\n",
       "      <td>1.0</td>\n",
       "      <td>...</td>\n",
       "      <td>NaN</td>\n",
       "      <td>NaN</td>\n",
       "      <td>Richard Carmona</td>\n",
       "      <td>Democratic</td>\n",
       "      <td>Jeff Flake</td>\n",
       "      <td>Republican</td>\n",
       "      <td>NaN</td>\n",
       "      <td>NaN</td>\n",
       "      <td>29nov2016 15:41:28</td>\n",
       "      <td>29nov2016 18:58:28</td>\n",
       "    </tr>\n",
       "    <tr>\n",
       "      <th>2</th>\n",
       "      <td>2597</td>\n",
       "      <td>0.552138</td>\n",
       "      <td>2</td>\n",
       "      <td>1</td>\n",
       "      <td>1.0</td>\n",
       "      <td>NaN</td>\n",
       "      <td>55</td>\n",
       "      <td>54904</td>\n",
       "      <td>1</td>\n",
       "      <td>1.0</td>\n",
       "      <td>...</td>\n",
       "      <td>NaN</td>\n",
       "      <td>NaN</td>\n",
       "      <td>Tammy Baldwin</td>\n",
       "      <td>Democratic</td>\n",
       "      <td>Tommy Thompson</td>\n",
       "      <td>Republican</td>\n",
       "      <td>NaN</td>\n",
       "      <td>NaN</td>\n",
       "      <td>29nov2016 16:08:39</td>\n",
       "      <td>29nov2016 16:32:43</td>\n",
       "    </tr>\n",
       "    <tr>\n",
       "      <th>3</th>\n",
       "      <td>4148</td>\n",
       "      <td>0.207591</td>\n",
       "      <td>1</td>\n",
       "      <td>1</td>\n",
       "      <td>3.0</td>\n",
       "      <td>NaN</td>\n",
       "      <td>40</td>\n",
       "      <td>74104</td>\n",
       "      <td>1</td>\n",
       "      <td>1.0</td>\n",
       "      <td>...</td>\n",
       "      <td>NaN</td>\n",
       "      <td>NaN</td>\n",
       "      <td>NaN</td>\n",
       "      <td>NaN</td>\n",
       "      <td>NaN</td>\n",
       "      <td>NaN</td>\n",
       "      <td>NaN</td>\n",
       "      <td>NaN</td>\n",
       "      <td>14dec2016 18:46:33</td>\n",
       "      <td>14dec2016 19:11:20</td>\n",
       "    </tr>\n",
       "    <tr>\n",
       "      <th>4</th>\n",
       "      <td>4460</td>\n",
       "      <td>0.333729</td>\n",
       "      <td>2</td>\n",
       "      <td>2</td>\n",
       "      <td>NaN</td>\n",
       "      <td>4.0</td>\n",
       "      <td>48</td>\n",
       "      <td>78253</td>\n",
       "      <td>1</td>\n",
       "      <td>1.0</td>\n",
       "      <td>...</td>\n",
       "      <td>NaN</td>\n",
       "      <td>NaN</td>\n",
       "      <td>Paul Sadler</td>\n",
       "      <td>Democratic</td>\n",
       "      <td>Ted Cruz</td>\n",
       "      <td>Republican</td>\n",
       "      <td>NaN</td>\n",
       "      <td>NaN</td>\n",
       "      <td>01dec2016 10:17:47</td>\n",
       "      <td>01dec2016 10:59:48</td>\n",
       "    </tr>\n",
       "  </tbody>\n",
       "</table>\n",
       "<p>5 rows × 668 columns</p>\n",
       "</div>"
      ],
      "text/plain": [
       "   case_identifier    weight  PARTY_AGENDAS_rand_2016  pp_primary16_2016  \\\n",
       "0              779  0.358213                        2                  1   \n",
       "1             2108  0.562867                        2                  2   \n",
       "2             2597  0.552138                        2                  1   \n",
       "3             4148  0.207591                        1                  1   \n",
       "4             4460  0.333729                        2                  2   \n",
       "\n",
       "   pp_demprim16_2016  pp_repprim16_2016  inputstate_2016  izip_2016  \\\n",
       "0                1.0                NaN                6      94952   \n",
       "1                NaN                1.0                4      85298   \n",
       "2                1.0                NaN               55      54904   \n",
       "3                3.0                NaN               40      74104   \n",
       "4                NaN                4.0               48      78253   \n",
       "\n",
       "   votereg2_2016  votereg_f_2016  ...  post_HouseCand3Name_2012  \\\n",
       "0              1             1.0  ...                       NaN   \n",
       "1              1             1.0  ...                       NaN   \n",
       "2              1             1.0  ...                       NaN   \n",
       "3              1             1.0  ...                       NaN   \n",
       "4              1             1.0  ...                       NaN   \n",
       "\n",
       "   post_HouseCand3Party_2012  post_SenCand1Name_2012  post_SenCand1Party_2012  \\\n",
       "0                        NaN         Shelley Berkley               Democratic   \n",
       "1                        NaN         Richard Carmona               Democratic   \n",
       "2                        NaN           Tammy Baldwin               Democratic   \n",
       "3                        NaN                     NaN                      NaN   \n",
       "4                        NaN             Paul Sadler               Democratic   \n",
       "\n",
       "   post_SenCand2Name_2012 post_SenCand2Party_2012  post_SenCand3Name_2012  \\\n",
       "0             Dean Heller              Republican                     NaN   \n",
       "1              Jeff Flake              Republican                     NaN   \n",
       "2          Tommy Thompson              Republican                     NaN   \n",
       "3                     NaN                     NaN                     NaN   \n",
       "4                Ted Cruz              Republican                     NaN   \n",
       "\n",
       "   post_SenCand3Party_2012      starttime_2016        endtime_2016  \n",
       "0                      NaN  29nov2016 22:59:43  29nov2016 23:28:24  \n",
       "1                      NaN  29nov2016 15:41:28  29nov2016 18:58:28  \n",
       "2                      NaN  29nov2016 16:08:39  29nov2016 16:32:43  \n",
       "3                      NaN  14dec2016 18:46:33  14dec2016 19:11:20  \n",
       "4                      NaN  01dec2016 10:17:47  01dec2016 10:59:48  \n",
       "\n",
       "[5 rows x 668 columns]"
      ]
     },
     "execution_count": 23,
     "metadata": {},
     "output_type": "execute_result"
    }
   ],
   "source": [
    "df = pd.read_csv('../data/raw/20161201_voter_study_group.csv')\n",
    "df.head()"
   ]
  },
  {
   "cell_type": "markdown",
   "metadata": {},
   "source": [
    "Check the shape of the data, number of observations by number of attributes "
   ]
  },
  {
   "cell_type": "code",
   "execution_count": 40,
   "metadata": {
    "ExecuteTime": {
     "end_time": "2019-11-26T16:23:50.215486Z",
     "start_time": "2019-11-26T16:23:50.180747Z"
    }
   },
   "outputs": [
    {
     "data": {
      "text/plain": [
       "(8000, 668)"
      ]
     },
     "execution_count": 40,
     "metadata": {},
     "output_type": "execute_result"
    }
   ],
   "source": [
    "df.shape"
   ]
  },
  {
   "cell_type": "markdown",
   "metadata": {},
   "source": [
    "668 features. List attribute names then consult the [data dictionary](link)"
   ]
  },
  {
   "cell_type": "code",
   "execution_count": 28,
   "metadata": {
    "ExecuteTime": {
     "end_time": "2019-11-26T15:07:30.802080Z",
     "start_time": "2019-11-26T15:07:30.794248Z"
    }
   },
   "outputs": [
    {
     "data": {
      "text/plain": [
       "['case_identifier',\n",
       " 'weight',\n",
       " 'PARTY_AGENDAS_rand_2016',\n",
       " 'pp_primary16_2016',\n",
       " 'pp_demprim16_2016',\n",
       " 'pp_repprim16_2016',\n",
       " 'inputstate_2016',\n",
       " 'izip_2016',\n",
       " 'votereg2_2016',\n",
       " 'votereg_f_2016']"
      ]
     },
     "execution_count": 28,
     "metadata": {},
     "output_type": "execute_result"
    }
   ],
   "source": [
    "list(df.columns)[0:10]"
   ]
  },
  {
   "cell_type": "markdown",
   "metadata": {},
   "source": [
    "Check number of null values"
   ]
  },
  {
   "cell_type": "code",
   "execution_count": 30,
   "metadata": {
    "ExecuteTime": {
     "end_time": "2019-11-26T15:11:01.432841Z",
     "start_time": "2019-11-26T15:11:01.245225Z"
    }
   },
   "outputs": [
    {
     "data": {
      "text/plain": [
       "case_identifier               0\n",
       "weight                        0\n",
       "PARTY_AGENDAS_rand_2016       0\n",
       "pp_primary16_2016             0\n",
       "pp_demprim16_2016          5026\n",
       "dtype: int64"
      ]
     },
     "execution_count": 30,
     "metadata": {},
     "output_type": "execute_result"
    }
   ],
   "source": [
    "df.isna().sum().head()"
   ]
  },
  {
   "cell_type": "markdown",
   "metadata": {},
   "source": [
    "Check 'presvote16post_2016' attribute (2016 Presidential Election candidate choice) for nulls and value counts"
   ]
  },
  {
   "cell_type": "code",
   "execution_count": 39,
   "metadata": {
    "ExecuteTime": {
     "end_time": "2019-11-26T16:13:42.284339Z",
     "start_time": "2019-11-26T16:13:42.229355Z"
    }
   },
   "outputs": [
    {
     "name": "stdout",
     "output_type": "stream",
     "text": [
      "394\n"
     ]
    },
    {
     "data": {
      "text/plain": [
       "1.0    3545\n",
       "2.0    3479\n",
       "3.0     231\n",
       "6.0     182\n",
       "4.0     112\n",
       "7.0      33\n",
       "5.0      24\n",
       "Name: presvote16post_2016, dtype: int64"
      ]
     },
     "execution_count": 39,
     "metadata": {},
     "output_type": "execute_result"
    }
   ],
   "source": [
    "print(df['presvote16post_2016'].isna().sum())\n",
    "df['presvote16post_2016'].value_counts(ascending=False)"
   ]
  },
  {
   "cell_type": "markdown",
   "metadata": {},
   "source": [
    "Pros:\n",
    "* Attributes line up with some of the features Carney utilized\n",
    "* Large variety of attributes to choose from, over 600 \n",
    "* Comes with weight for each observation so results can be generalized to registered voting population\n",
    "* Finer level of detail than Census Bureau data \n",
    "<br>\n",
    "<br> \n",
    "\n",
    "Cons: \n",
    "* Can not replicate Carney's methodology exactly\n",
    "* Uses complex survey design so will require extra time to learn how to work with that in Python"
   ]
  }
 ],
 "metadata": {
  "kernelspec": {
   "display_name": "Python 3",
   "language": "python",
   "name": "python3"
  },
  "language_info": {
   "codemirror_mode": {
    "name": "ipython",
    "version": 3
   },
   "file_extension": ".py",
   "mimetype": "text/x-python",
   "name": "python",
   "nbconvert_exporter": "python",
   "pygments_lexer": "ipython3",
   "version": "3.7.3"
  },
  "toc": {
   "base_numbering": 1,
   "nav_menu": {},
   "number_sections": true,
   "sideBar": true,
   "skip_h1_title": false,
   "title_cell": "Table of Contents",
   "title_sidebar": "Contents",
   "toc_cell": false,
   "toc_position": {},
   "toc_section_display": true,
   "toc_window_display": false
  }
 },
 "nbformat": 4,
 "nbformat_minor": 2
}
