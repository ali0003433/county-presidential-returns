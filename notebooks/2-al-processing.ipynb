{
 "cells": [
  {
   "cell_type": "markdown",
   "metadata": {},
   "source": [
    "# Processing"
   ]
  },
  {
   "cell_type": "code",
   "execution_count": 1,
   "metadata": {
    "ExecuteTime": {
     "end_time": "2019-11-24T21:20:25.181548Z",
     "start_time": "2019-11-24T21:20:22.797190Z"
    }
   },
   "outputs": [],
   "source": [
    "import matplotlib.pyplot as plt\n",
    "import numpy as np\n",
    "import pandas as pd\n",
    "import pickle\n",
    "import re\n",
    "import seaborn as sns"
   ]
  },
  {
   "cell_type": "code",
   "execution_count": 2,
   "metadata": {
    "ExecuteTime": {
     "end_time": "2019-11-24T21:20:25.201844Z",
     "start_time": "2019-11-24T21:20:25.186626Z"
    }
   },
   "outputs": [],
   "source": [
    "import sys\n",
    "import os\n",
    "sys.path.append('../src/features')\n",
    "from build_features import fill_nulls, filter_col_with_regex, get_dummies"
   ]
  },
  {
   "cell_type": "code",
   "execution_count": 3,
   "metadata": {
    "ExecuteTime": {
     "end_time": "2019-11-24T21:20:26.628698Z",
     "start_time": "2019-11-24T21:20:25.206870Z"
    }
   },
   "outputs": [],
   "source": [
    "# read in data \n",
    "df = pd.read_csv('../data/raw/20161201_voter_study_group.csv')\n",
    "# fill null values \n",
    "df = fill_nulls(df)\n",
    "weight = df.weight"
   ]
  },
  {
   "cell_type": "code",
   "execution_count": 16,
   "metadata": {
    "ExecuteTime": {
     "end_time": "2019-11-24T21:37:06.327195Z",
     "start_time": "2019-11-24T21:37:06.023035Z"
    }
   },
   "outputs": [
    {
     "data": {
      "text/plain": [
       "imiss_i_2016_8.0    0.026377\n",
       "imiss_e_2016_8.0    0.021660\n",
       "imiss_t_2016_3.0    0.021117\n",
       "imiss_t_2016_4.0    0.021060\n",
       "imiss_b_2016_8.0    0.020605\n",
       "imiss_c_2016_8.0    0.020605\n",
       "imiss_f_2016_4.0    0.018626\n",
       "imiss_c_2016_4.0    0.017311\n",
       "imiss_j_2016_8.0    0.016875\n",
       "imiss_o_2016_8.0    0.015868\n",
       "imiss_u_2016_8.0    0.015509\n",
       "imiss_k_2016_8.0    0.012888\n",
       "imiss_f_2016_8.0    0.012554\n",
       "imiss_q_2016_8.0    0.012503\n",
       "imiss_a_2016_4.0    0.011710\n",
       "imiss_t_2016_8.0    0.010219\n",
       "imiss_g_2016_8.0    0.009219\n",
       "imiss_l_2016_8.0    0.009035\n",
       "imiss_m_2016_8.0    0.008992\n",
       "imiss_y_2016_8.0    0.008992\n",
       "imiss_s_2016_8.0    0.007443\n",
       "imiss_o_2016_3.0    0.007269\n",
       "imiss_r_2016_4.0    0.004385\n",
       "imiss_d_2016_8.0    0.003177\n",
       "imiss_x_2016_8.0    0.002776\n",
       "imiss_e_2016_2.0    0.002531\n",
       "imiss_p_2016_8.0    0.002056\n",
       "imiss_b_2016_3.0   -0.000001\n",
       "imiss_a_2016_8.0   -0.002177\n",
       "imiss_u_2016_2.0   -0.004779\n",
       "imiss_t_2016_2.0   -0.011815\n",
       "imiss_b_2016_2.0   -0.013278\n",
       "imiss_i_2016_2.0   -0.025044\n",
       "imiss_o_2016_2.0   -0.025101\n",
       "imiss_p_2016_4.0   -0.035165\n",
       "imiss_c_2016_3.0   -0.036346\n",
       "imiss_e_2016_3.0   -0.041342\n",
       "imiss_f_2016_3.0   -0.042106\n",
       "imiss_e_2016_4.0   -0.044218\n",
       "imiss_p_2016_2.0   -0.044963\n",
       "imiss_a_2016_2.0   -0.047373\n",
       "imiss_r_2016_2.0   -0.048806\n",
       "imiss_f_2016_2.0   -0.049497\n",
       "imiss_g_2016_2.0   -0.050049\n",
       "imiss_c_2016_2.0   -0.053848\n",
       "imiss_a_2016_3.0   -0.058532\n",
       "imiss_u_2016_4.0   -0.080572\n",
       "imiss_r_2016_3.0   -0.090037\n",
       "imiss_u_2016_3.0   -0.104143\n",
       "imiss_p_2016_3.0   -0.106133\n",
       "Name: presvote16post_2016, dtype: float64"
      ]
     },
     "execution_count": 16,
     "metadata": {},
     "output_type": "execute_result"
    }
   ],
   "source": [
    "# set regex pattern to find predictor column names\n",
    "pattern = '(imiss_).{1}(_2016)'\n",
    "# return list of predictor column names\n",
    "col_list = filter_col_with_regex(df, pattern)\n",
    "# save predictor subset of dataframe \n",
    "df_issue = df[col_list]\n",
    "# save target subset of dataframe\n",
    "df_target = pd.DataFrame(df['presvote16post_2016'])\n",
    "\n",
    "# one hot encoding categorical variables \n",
    "df_issue_dummies = get_dummies(df_issue)\n",
    "# dummy predictors and target\n",
    "df_target_issue_dummies = df_target.join(df_issue_dummies)\n",
    "# correlation coefficients \n",
    "df_target_issue_dummies.corr()['presvote16post_2016'].sort_values(ascending=False).tail(50)\n",
    "\n",
    "    "
   ]
  },
  {
   "cell_type": "code",
   "execution_count": 5,
   "metadata": {
    "ExecuteTime": {
     "end_time": "2019-11-24T21:20:26.987570Z",
     "start_time": "2019-11-24T21:20:26.954866Z"
    }
   },
   "outputs": [],
   "source": [
    "df_target_issue = df_issue.join(df_target)\n",
    "with open('../data/processed/df_target_issue.pickle', 'wb') as file:\n",
    "    pickle.dump(df_target_issue, file)\n",
    "with open('../data/processed/df_target_issue_dummies.pickle', 'wb') as file:\n",
    "    pickle.dump(df_target_issue_dummies, file)"
   ]
  },
  {
   "cell_type": "code",
   "execution_count": 10,
   "metadata": {
    "ExecuteTime": {
     "end_time": "2019-11-24T21:26:06.194698Z",
     "start_time": "2019-11-24T21:26:06.136705Z"
    }
   },
   "outputs": [],
   "source": [
    "# convert target to 3 categories \n",
    "df_3cat = df_target['presvote16post_2016'].replace(\n",
    "    to_replace=[8, 3, 4, 5, 6, 7],\n",
    "    value=3,\n",
    "    inplace=False\n",
    ")  \n",
    "# categorical issues, 3 target categories, weight \n",
    "df_3cat_issue_weight = df_issue.join(df_3cat).join(df['weight'])\n",
    "\n",
    "with open('../data/processed/df_3cat_issue_weight.pickle', 'wb') as file:\n",
    "    pickle.dump(df_3cat_issue_weight, file)\n",
    "    \n",
    "df_3cat_dummies = df_issue_dummies.join(df_3cat)"
   ]
  },
  {
   "cell_type": "code",
   "execution_count": 7,
   "metadata": {
    "ExecuteTime": {
     "end_time": "2019-11-24T21:20:27.047487Z",
     "start_time": "2019-11-24T21:20:27.030092Z"
    }
   },
   "outputs": [],
   "source": [
    "# three categories for target, issues, and weight \n",
    "df_3cat_dummies_weight = df_issue_dummies.join(df_3cat).join(df['weight'])\n",
    "with open('../data/processed/df_3cat_dummies_weight.pickle', 'wb') as file:\n",
    "    pickle.dump(df_3cat_dummies_weight, file)"
   ]
  },
  {
   "cell_type": "code",
   "execution_count": 8,
   "metadata": {
    "ExecuteTime": {
     "end_time": "2019-11-24T21:20:27.060502Z",
     "start_time": "2019-11-24T21:20:27.050997Z"
    }
   },
   "outputs": [],
   "source": [
    "# predictors \n",
    "X = df_issue\n",
    "# target as array \n",
    "y = np.ravel(df_3cat)"
   ]
  },
  {
   "cell_type": "code",
   "execution_count": 9,
   "metadata": {
    "ExecuteTime": {
     "end_time": "2019-11-24T21:20:27.090608Z",
     "start_time": "2019-11-24T21:20:27.064317Z"
    }
   },
   "outputs": [],
   "source": [
    "# pickle X and y \n",
    "with open('../data/processed/predictor.pickle', 'wb') as file:\n",
    "    pickle.dump(X, file)\n",
    "with open('../data/processed/target.pickle', 'wb') as file:\n",
    "    pickle.dump(y, file)\n",
    "with open ('../data/processed/df_3cat_dummies_weight.pickle', 'wb') as file:\n",
    "    pickle.dump(df_3cat_dummies_weight, file)"
   ]
  },
  {
   "cell_type": "code",
   "execution_count": null,
   "metadata": {},
   "outputs": [],
   "source": []
  },
  {
   "cell_type": "markdown",
   "metadata": {},
   "source": [
    "## Check counts for each"
   ]
  },
  {
   "cell_type": "code",
   "execution_count": 86,
   "metadata": {
    "ExecuteTime": {
     "end_time": "2019-11-24T22:23:20.405263Z",
     "start_time": "2019-11-24T22:23:20.339146Z"
    }
   },
   "outputs": [
    {
     "data": {
      "text/html": [
       "<div>\n",
       "<style scoped>\n",
       "    .dataframe tbody tr th:only-of-type {\n",
       "        vertical-align: middle;\n",
       "    }\n",
       "\n",
       "    .dataframe tbody tr th {\n",
       "        vertical-align: top;\n",
       "    }\n",
       "\n",
       "    .dataframe thead th {\n",
       "        text-align: right;\n",
       "    }\n",
       "</style>\n",
       "<table border=\"1\" class=\"dataframe\">\n",
       "  <thead>\n",
       "    <tr style=\"text-align: right;\">\n",
       "      <th></th>\n",
       "      <th>imiss_a_2016</th>\n",
       "      <th>imiss_b_2016</th>\n",
       "      <th>imiss_c_2016</th>\n",
       "      <th>imiss_d_2016</th>\n",
       "      <th>imiss_e_2016</th>\n",
       "      <th>imiss_f_2016</th>\n",
       "      <th>imiss_g_2016</th>\n",
       "      <th>imiss_h_2016</th>\n",
       "      <th>imiss_i_2016</th>\n",
       "      <th>imiss_j_2016</th>\n",
       "      <th>...</th>\n",
       "      <th>imiss_o_2016</th>\n",
       "      <th>imiss_p_2016</th>\n",
       "      <th>imiss_q_2016</th>\n",
       "      <th>imiss_r_2016</th>\n",
       "      <th>imiss_s_2016</th>\n",
       "      <th>imiss_t_2016</th>\n",
       "      <th>imiss_u_2016</th>\n",
       "      <th>imiss_x_2016</th>\n",
       "      <th>imiss_y_2016</th>\n",
       "      <th>presvote16post_2016</th>\n",
       "    </tr>\n",
       "  </thead>\n",
       "  <tbody>\n",
       "    <tr>\n",
       "      <th>1</th>\n",
       "      <td>1.0</td>\n",
       "      <td>1.0</td>\n",
       "      <td>2.0</td>\n",
       "      <td>2.0</td>\n",
       "      <td>1.0</td>\n",
       "      <td>1.0</td>\n",
       "      <td>4.0</td>\n",
       "      <td>2.0</td>\n",
       "      <td>2.0</td>\n",
       "      <td>1.0</td>\n",
       "      <td>...</td>\n",
       "      <td>1.0</td>\n",
       "      <td>1.0</td>\n",
       "      <td>1.0</td>\n",
       "      <td>1.0</td>\n",
       "      <td>2.0</td>\n",
       "      <td>1.0</td>\n",
       "      <td>2.0</td>\n",
       "      <td>3.0</td>\n",
       "      <td>4.0</td>\n",
       "      <td>2.0</td>\n",
       "    </tr>\n",
       "    <tr>\n",
       "      <th>4</th>\n",
       "      <td>1.0</td>\n",
       "      <td>1.0</td>\n",
       "      <td>1.0</td>\n",
       "      <td>1.0</td>\n",
       "      <td>1.0</td>\n",
       "      <td>1.0</td>\n",
       "      <td>3.0</td>\n",
       "      <td>1.0</td>\n",
       "      <td>2.0</td>\n",
       "      <td>1.0</td>\n",
       "      <td>...</td>\n",
       "      <td>1.0</td>\n",
       "      <td>1.0</td>\n",
       "      <td>2.0</td>\n",
       "      <td>1.0</td>\n",
       "      <td>2.0</td>\n",
       "      <td>1.0</td>\n",
       "      <td>1.0</td>\n",
       "      <td>1.0</td>\n",
       "      <td>1.0</td>\n",
       "      <td>2.0</td>\n",
       "    </tr>\n",
       "    <tr>\n",
       "      <th>7</th>\n",
       "      <td>1.0</td>\n",
       "      <td>2.0</td>\n",
       "      <td>1.0</td>\n",
       "      <td>2.0</td>\n",
       "      <td>2.0</td>\n",
       "      <td>3.0</td>\n",
       "      <td>4.0</td>\n",
       "      <td>2.0</td>\n",
       "      <td>3.0</td>\n",
       "      <td>1.0</td>\n",
       "      <td>...</td>\n",
       "      <td>2.0</td>\n",
       "      <td>1.0</td>\n",
       "      <td>4.0</td>\n",
       "      <td>2.0</td>\n",
       "      <td>1.0</td>\n",
       "      <td>4.0</td>\n",
       "      <td>1.0</td>\n",
       "      <td>4.0</td>\n",
       "      <td>3.0</td>\n",
       "      <td>2.0</td>\n",
       "    </tr>\n",
       "    <tr>\n",
       "      <th>12</th>\n",
       "      <td>1.0</td>\n",
       "      <td>1.0</td>\n",
       "      <td>1.0</td>\n",
       "      <td>3.0</td>\n",
       "      <td>2.0</td>\n",
       "      <td>1.0</td>\n",
       "      <td>4.0</td>\n",
       "      <td>2.0</td>\n",
       "      <td>2.0</td>\n",
       "      <td>1.0</td>\n",
       "      <td>...</td>\n",
       "      <td>2.0</td>\n",
       "      <td>1.0</td>\n",
       "      <td>3.0</td>\n",
       "      <td>1.0</td>\n",
       "      <td>3.0</td>\n",
       "      <td>3.0</td>\n",
       "      <td>2.0</td>\n",
       "      <td>2.0</td>\n",
       "      <td>3.0</td>\n",
       "      <td>2.0</td>\n",
       "    </tr>\n",
       "    <tr>\n",
       "      <th>17</th>\n",
       "      <td>2.0</td>\n",
       "      <td>1.0</td>\n",
       "      <td>1.0</td>\n",
       "      <td>3.0</td>\n",
       "      <td>1.0</td>\n",
       "      <td>2.0</td>\n",
       "      <td>4.0</td>\n",
       "      <td>3.0</td>\n",
       "      <td>3.0</td>\n",
       "      <td>2.0</td>\n",
       "      <td>...</td>\n",
       "      <td>1.0</td>\n",
       "      <td>1.0</td>\n",
       "      <td>3.0</td>\n",
       "      <td>1.0</td>\n",
       "      <td>3.0</td>\n",
       "      <td>3.0</td>\n",
       "      <td>1.0</td>\n",
       "      <td>3.0</td>\n",
       "      <td>2.0</td>\n",
       "      <td>2.0</td>\n",
       "    </tr>\n",
       "  </tbody>\n",
       "</table>\n",
       "<p>5 rows × 24 columns</p>\n",
       "</div>"
      ],
      "text/plain": [
       "    imiss_a_2016  imiss_b_2016  imiss_c_2016  imiss_d_2016  imiss_e_2016  \\\n",
       "1            1.0           1.0           2.0           2.0           1.0   \n",
       "4            1.0           1.0           1.0           1.0           1.0   \n",
       "7            1.0           2.0           1.0           2.0           2.0   \n",
       "12           1.0           1.0           1.0           3.0           2.0   \n",
       "17           2.0           1.0           1.0           3.0           1.0   \n",
       "\n",
       "    imiss_f_2016  imiss_g_2016  imiss_h_2016  imiss_i_2016  imiss_j_2016  ...  \\\n",
       "1            1.0           4.0           2.0           2.0           1.0  ...   \n",
       "4            1.0           3.0           1.0           2.0           1.0  ...   \n",
       "7            3.0           4.0           2.0           3.0           1.0  ...   \n",
       "12           1.0           4.0           2.0           2.0           1.0  ...   \n",
       "17           2.0           4.0           3.0           3.0           2.0  ...   \n",
       "\n",
       "    imiss_o_2016  imiss_p_2016  imiss_q_2016  imiss_r_2016  imiss_s_2016  \\\n",
       "1            1.0           1.0           1.0           1.0           2.0   \n",
       "4            1.0           1.0           2.0           1.0           2.0   \n",
       "7            2.0           1.0           4.0           2.0           1.0   \n",
       "12           2.0           1.0           3.0           1.0           3.0   \n",
       "17           1.0           1.0           3.0           1.0           3.0   \n",
       "\n",
       "    imiss_t_2016  imiss_u_2016  imiss_x_2016  imiss_y_2016  \\\n",
       "1            1.0           2.0           3.0           4.0   \n",
       "4            1.0           1.0           1.0           1.0   \n",
       "7            4.0           1.0           4.0           3.0   \n",
       "12           3.0           2.0           2.0           3.0   \n",
       "17           3.0           1.0           3.0           2.0   \n",
       "\n",
       "    presvote16post_2016  \n",
       "1                   2.0  \n",
       "4                   2.0  \n",
       "7                   2.0  \n",
       "12                  2.0  \n",
       "17                  2.0  \n",
       "\n",
       "[5 rows x 24 columns]"
      ]
     },
     "execution_count": 86,
     "metadata": {},
     "output_type": "execute_result"
    }
   ],
   "source": [
    "new = df_issue.join(df_3cat)\n",
    "clinton = new.loc[new.presvote16post_2016 == 1]\n",
    "trump = new.loc[new.presvote16post_2016 == 2]\n",
    "other = new.loc[new.presvote16post_2016 == 3]\n",
    "votes = [clinton, trump, other]"
   ]
  },
  {
   "cell_type": "code",
   "execution_count": 89,
   "metadata": {
    "ExecuteTime": {
     "end_time": "2019-11-24T22:24:59.448010Z",
     "start_time": "2019-11-24T22:24:59.442111Z"
    }
   },
   "outputs": [],
   "source": [
    "clinton.reset_index(drop=True, inplace=True)\n",
    "other.reset_index(drop=True, inplace=True)\n",
    "trump.reset_index(drop=True, inplace=True)"
   ]
  },
  {
   "cell_type": "code",
   "execution_count": 90,
   "metadata": {
    "ExecuteTime": {
     "end_time": "2019-11-24T22:25:01.225797Z",
     "start_time": "2019-11-24T22:25:00.838475Z"
    }
   },
   "outputs": [],
   "source": [
    "for i in votes:\n",
    "    i.drop('presvote16post_2016', inplace=True, axis=1);"
   ]
  },
  {
   "cell_type": "code",
   "execution_count": 101,
   "metadata": {
    "ExecuteTime": {
     "end_time": "2019-11-24T22:27:09.671328Z",
     "start_time": "2019-11-24T22:27:07.172277Z"
    }
   },
   "outputs": [
    {
     "name": "stdout",
     "output_type": "stream",
     "text": [
      "(3545, 23)\n",
      "CLINTON \n",
      "very: 40969 \n",
      "somewhat: 25157 \n",
      "not very: 9679 \n",
      "unimportant: 4653 \n",
      "no response: 1077\n"
     ]
    }
   ],
   "source": [
    "# clinton counts\n",
    "one_count = 0\n",
    "two_count = 0\n",
    "three_count = 0 \n",
    "four_count = 0\n",
    "null_count = 0\n",
    "print(clinton.shape)\n",
    "for col in clinton: \n",
    "    for i in range(0, 3545):\n",
    "        if df[col][i] == 1:\n",
    "            one_count +=1\n",
    "            continue\n",
    "        if df[col][i] == 2:\n",
    "            two_count +=1\n",
    "            continue\n",
    "        if df[col][i] == 3:\n",
    "            three_count +=1\n",
    "            continue\n",
    "        if df[col][i] == 4:\n",
    "            four_count +=1\n",
    "            continue\n",
    "        if df[col][i] == 8:\n",
    "            null_count +=1\n",
    "            \n",
    "print('CLINTON','\\n'\n",
    "      'very:',one_count,'\\n'\n",
    "      'somewhat:',two_count, '\\n'\n",
    "      'not very:', three_count,'\\n'\n",
    "      'unimportant:', four_count, '\\n'\n",
    "      'no response:', null_count)"
   ]
  },
  {
   "cell_type": "code",
   "execution_count": 102,
   "metadata": {
    "ExecuteTime": {
     "end_time": "2019-11-24T22:27:09.692113Z",
     "start_time": "2019-11-24T22:27:09.675181Z"
    }
   },
   "outputs": [
    {
     "data": {
      "text/plain": [
       "81535"
      ]
     },
     "execution_count": 102,
     "metadata": {},
     "output_type": "execute_result"
    }
   ],
   "source": [
    "one_count + two_count +  three_count + four_count + null_count"
   ]
  },
  {
   "cell_type": "code",
   "execution_count": 103,
   "metadata": {
    "ExecuteTime": {
     "end_time": "2019-11-24T22:27:09.710172Z",
     "start_time": "2019-11-24T22:27:09.698694Z"
    }
   },
   "outputs": [
    {
     "data": {
      "text/plain": [
       "81535"
      ]
     },
     "execution_count": 103,
     "metadata": {},
     "output_type": "execute_result"
    }
   ],
   "source": [
    "3545 * 23"
   ]
  },
  {
   "cell_type": "code",
   "execution_count": 106,
   "metadata": {
    "ExecuteTime": {
     "end_time": "2019-11-24T22:27:38.354568Z",
     "start_time": "2019-11-24T22:27:36.115087Z"
    }
   },
   "outputs": [
    {
     "name": "stdout",
     "output_type": "stream",
     "text": [
      "(3479, 23)\n",
      "TRUMP \n",
      "very: 40305 \n",
      "somewhat: 24586 \n",
      "not very: 9480 \n",
      "unimportant: 4573 \n",
      "no response: 1073\n"
     ]
    }
   ],
   "source": [
    "# trump counts \n",
    "one_count = 0\n",
    "two_count = 0\n",
    "three_count = 0 \n",
    "four_count = 0\n",
    "null_count = 0\n",
    "print(trump.shape)\n",
    "for col in trump: \n",
    "    for i in range(0, 3479):\n",
    "        if df[col][i] == 1:\n",
    "            one_count +=1\n",
    "            continue\n",
    "        if df[col][i] == 2:\n",
    "            two_count +=1\n",
    "            continue\n",
    "        if df[col][i] == 3:\n",
    "            three_count +=1\n",
    "            continue\n",
    "        if df[col][i] == 4:\n",
    "            four_count +=1\n",
    "            continue\n",
    "        if df[col][i] == 8:\n",
    "            null_count +=1\n",
    "            \n",
    "print('TRUMP','\\n'\n",
    "      'very:',one_count,'\\n'\n",
    "      'somewhat:',two_count, '\\n'\n",
    "      'not very:', three_count,'\\n'\n",
    "      'unimportant:', four_count, '\\n'\n",
    "      'no response:', null_count)"
   ]
  },
  {
   "cell_type": "code",
   "execution_count": 107,
   "metadata": {
    "ExecuteTime": {
     "end_time": "2019-11-24T22:27:38.375683Z",
     "start_time": "2019-11-24T22:27:38.357876Z"
    }
   },
   "outputs": [
    {
     "data": {
      "text/plain": [
       "80017"
      ]
     },
     "execution_count": 107,
     "metadata": {},
     "output_type": "execute_result"
    }
   ],
   "source": [
    "one_count +two_count+three_count+four_count+null_count"
   ]
  },
  {
   "cell_type": "code",
   "execution_count": 108,
   "metadata": {
    "ExecuteTime": {
     "end_time": "2019-11-24T22:27:38.425972Z",
     "start_time": "2019-11-24T22:27:38.399781Z"
    }
   },
   "outputs": [
    {
     "data": {
      "text/plain": [
       "80017"
      ]
     },
     "execution_count": 108,
     "metadata": {},
     "output_type": "execute_result"
    }
   ],
   "source": [
    "3479*23"
   ]
  },
  {
   "cell_type": "code",
   "execution_count": null,
   "metadata": {},
   "outputs": [],
   "source": []
  }
 ],
 "metadata": {
  "kernelspec": {
   "display_name": "Python 3",
   "language": "python",
   "name": "python3"
  },
  "language_info": {
   "codemirror_mode": {
    "name": "ipython",
    "version": 3
   },
   "file_extension": ".py",
   "mimetype": "text/x-python",
   "name": "python",
   "nbconvert_exporter": "python",
   "pygments_lexer": "ipython3",
   "version": "3.7.3"
  },
  "toc": {
   "base_numbering": 1,
   "nav_menu": {},
   "number_sections": true,
   "sideBar": true,
   "skip_h1_title": false,
   "title_cell": "Table of Contents",
   "title_sidebar": "Contents",
   "toc_cell": false,
   "toc_position": {},
   "toc_section_display": true,
   "toc_window_display": false
  }
 },
 "nbformat": 4,
 "nbformat_minor": 2
}
