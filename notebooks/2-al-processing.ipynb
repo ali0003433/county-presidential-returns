{
 "cells": [
  {
   "cell_type": "markdown",
   "metadata": {},
   "source": [
    "# Notebook 1"
   ]
  },
  {
   "cell_type": "code",
   "execution_count": 42,
   "metadata": {
    "ExecuteTime": {
     "end_time": "2019-11-24T01:10:58.181848Z",
     "start_time": "2019-11-24T01:10:58.139734Z"
    }
   },
   "outputs": [],
   "source": [
    "import matplotlib.pyplot as plt\n",
    "import numpy as np\n",
    "import pandas as pd\n",
    "import pickle\n",
    "import re\n",
    "import seaborn as sns\n",
    "from sklearn import metrics\n",
    "from sklearn.cluster import KMeans\n",
    "from sklearn.ensemble import RandomForestClassifier\n",
    "from sklearn.feature_selection import RFE\n",
    "from sklearn.linear_model import LogisticRegression\n",
    "from sklearn.metrics import accuracy_score, confusion_matrix\n",
    "from sklearn.model_selection import cross_val_score, train_test_split\n",
    "from sklearn.neighbors import KNeighborsClassifier\n",
    "from sklearn.pipeline import Pipeline\n",
    "from sklearn.svm import SVC"
   ]
  },
  {
   "cell_type": "code",
   "execution_count": 2,
   "metadata": {
    "ExecuteTime": {
     "end_time": "2019-11-24T00:52:17.195442Z",
     "start_time": "2019-11-24T00:52:17.176860Z"
    }
   },
   "outputs": [],
   "source": [
    "import sys\n",
    "import os\n",
    "sys.path.append('../src/features')\n",
    "from build_features import fill_nulls, filter_col_with_regex, get_dummies\n",
    "sys.path.append('../src/models')\n",
    "from predict_model import create_perf_metrics"
   ]
  },
  {
   "cell_type": "code",
   "execution_count": 3,
   "metadata": {
    "ExecuteTime": {
     "end_time": "2019-11-24T00:52:19.398465Z",
     "start_time": "2019-11-24T00:52:17.200289Z"
    }
   },
   "outputs": [],
   "source": [
    "# read in data \n",
    "df = pd.read_csv('../data/raw/20161201_voter_study_group.csv')\n",
    "# fill null values \n",
    "df = fill_nulls(df)"
   ]
  },
  {
   "cell_type": "code",
   "execution_count": 4,
   "metadata": {
    "ExecuteTime": {
     "end_time": "2019-11-24T00:52:19.905699Z",
     "start_time": "2019-11-24T00:52:19.403596Z"
    }
   },
   "outputs": [
    {
     "data": {
      "text/plain": [
       "presvote16post_2016    1.000000\n",
       "imiss_l_2016_1.0       0.271828\n",
       "imiss_d_2016_1.0       0.260236\n",
       "imiss_u_2016_1.0       0.242079\n",
       "imiss_y_2016_1.0       0.237089\n",
       "imiss_l_2016_4.0       0.212023\n",
       "imiss_x_2016_1.0       0.211060\n",
       "imiss_p_2016_1.0       0.208277\n",
       "imiss_g_2016_1.0       0.200187\n",
       "imiss_u_2016_3.0       0.177785\n",
       "Name: presvote16post_2016, dtype: float64"
      ]
     },
     "execution_count": 4,
     "metadata": {},
     "output_type": "execute_result"
    }
   ],
   "source": [
    "# set regex pattern to find predictor column names\n",
    "pattern = '(imiss_).{1}(_2016)'\n",
    "# return list of predictor column names\n",
    "col_list = filter_col_with_regex(df, pattern)\n",
    "# save predictor subset of dataframe \n",
    "df_issue = df[col_list]\n",
    "# one hot encoding categorical variables \n",
    "df_issue = get_dummies(df_issue)\n",
    "\n",
    "# save target subset of dataframe\n",
    "df_target = pd.DataFrame(df['presvote16post_2016'])\n",
    "\n",
    "# predictors and target\n",
    "df_target_issue = df_target.join(df_issue)\n",
    "# correlation coefficients \n",
    "df_target_issue.corr()['presvote16post_2016'].abs().sort_values(ascending=False).head(10)"
   ]
  },
  {
   "cell_type": "code",
   "execution_count": 11,
   "metadata": {
    "ExecuteTime": {
     "end_time": "2019-11-24T00:53:06.463446Z",
     "start_time": "2019-11-24T00:53:06.456262Z"
    }
   },
   "outputs": [],
   "source": [
    "df_3_cats = df_target['presvote16post_2016'].replace(\n",
    "    to_replace=[0, 3, 4, 5, 6, 7],\n",
    "    value=0,\n",
    "    inplace=False\n",
    ")              "
   ]
  },
  {
   "cell_type": "code",
   "execution_count": 12,
   "metadata": {
    "ExecuteTime": {
     "end_time": "2019-11-24T00:53:06.799860Z",
     "start_time": "2019-11-24T00:53:06.782493Z"
    }
   },
   "outputs": [],
   "source": [
    "# predictors \n",
    "X = df_issue\n",
    "# target as array \n",
    "y = np.ravel(df_3_cats)"
   ]
  },
  {
   "cell_type": "code",
   "execution_count": 59,
   "metadata": {
    "ExecuteTime": {
     "end_time": "2019-11-24T01:35:16.329984Z",
     "start_time": "2019-11-24T01:35:16.316298Z"
    }
   },
   "outputs": [],
   "source": [
    "sys.path.append('../data/processed/')\n",
    "with open('predictor.pickle', 'wb') as file:\n",
    "    pickle.dump(X, file)\n",
    "with open('target.pickle', 'wb') as file:\n",
    "    pickle.dump(y, file)"
   ]
  },
  {
   "cell_type": "code",
   "execution_count": 13,
   "metadata": {
    "ExecuteTime": {
     "end_time": "2019-11-24T00:53:08.417676Z",
     "start_time": "2019-11-24T00:53:08.399923Z"
    }
   },
   "outputs": [],
   "source": [
    "# split data into train and test\n",
    "X_train, X_test, y_train, y_test = train_test_split(X, y,\n",
    "                                                    test_size=0.2, \n",
    "                                                    stratify=y)"
   ]
  },
  {
   "cell_type": "markdown",
   "metadata": {},
   "source": [
    "## Logistic regression"
   ]
  },
  {
   "cell_type": "code",
   "execution_count": 17,
   "metadata": {
    "ExecuteTime": {
     "end_time": "2019-11-24T00:53:36.798729Z",
     "start_time": "2019-11-24T00:53:36.020975Z"
    }
   },
   "outputs": [],
   "source": [
    "log_reg = LogisticRegression(C=2, penalty='l2', \n",
    "                        solver='lbfgs', \n",
    "                        multi_class='auto', \n",
    "                        max_iter=1000)\n",
    "log_reg.fit(X_train, y_train)\n",
    "y_pred_test = log_reg.predict(X_test)"
   ]
  },
  {
   "cell_type": "code",
   "execution_count": 18,
   "metadata": {
    "ExecuteTime": {
     "end_time": "2019-11-24T00:53:36.826708Z",
     "start_time": "2019-11-24T00:53:36.802746Z"
    }
   },
   "outputs": [
    {
     "name": "stdout",
     "output_type": "stream",
     "text": [
      "                Pred Nonvoter/Other  Pred Clinton  Pred Trump\n",
      "Nonvoter/Other                   14            92          89\n",
      "Clinton                          16           630          63\n",
      "Trump                            10            74         612 \n",
      "\n",
      "\n",
      " 88.9 percent that were predicted Clinton were actually Clinton\n",
      " 87.9 percent that were predicted Trump were actually Trump\n",
      "\n"
     ]
    }
   ],
   "source": [
    "# call performance metric function\n",
    "log_reg_metrics = create_perf_metrics(y_test, y_pred_test)"
   ]
  },
  {
   "cell_type": "code",
   "execution_count": 19,
   "metadata": {
    "ExecuteTime": {
     "end_time": "2019-11-24T00:53:36.850155Z",
     "start_time": "2019-11-24T00:53:36.832790Z"
    }
   },
   "outputs": [],
   "source": [
    "# storing each group's coeficients as dicts\n",
    "other_list = log_reg.coef_[0]\n",
    "other_coef = dict(zip(X.columns, other_list))\n",
    "clinton_list = log_reg.coef_[1]\n",
    "clinton_coef = dict(zip(X.columns, clinton_list))\n",
    "trump_list = log_reg.coef_[2]\n",
    "trump_coef = dict(zip(X.columns, trump_list))"
   ]
  },
  {
   "cell_type": "markdown",
   "metadata": {},
   "source": [
    "## Random forest"
   ]
  },
  {
   "cell_type": "code",
   "execution_count": 20,
   "metadata": {
    "ExecuteTime": {
     "end_time": "2019-11-24T00:53:38.217343Z",
     "start_time": "2019-11-24T00:53:36.854961Z"
    }
   },
   "outputs": [],
   "source": [
    "rf = RandomForestClassifier(n_estimators=100)\n",
    "rf.fit(X_train, y_train)\n",
    "y_pred_test = rf.predict(X_test)"
   ]
  },
  {
   "cell_type": "code",
   "execution_count": 21,
   "metadata": {
    "ExecuteTime": {
     "end_time": "2019-11-24T00:53:38.237776Z",
     "start_time": "2019-11-24T00:53:38.220060Z"
    }
   },
   "outputs": [
    {
     "name": "stdout",
     "output_type": "stream",
     "text": [
      "                Pred Nonvoter/Other  Pred Clinton  Pred Trump\n",
      "Nonvoter/Other                    9            93          93\n",
      "Clinton                          10           626          73\n",
      "Trump                             4            69         623 \n",
      "\n",
      "\n",
      " 88.3 percent that were predicted Clinton were actually Clinton\n",
      " 89.5 percent that were predicted Trump were actually Trump\n",
      "\n"
     ]
    }
   ],
   "source": [
    "rf_metrics = create_perf_metrics(y_test, y_pred_test)"
   ]
  },
  {
   "cell_type": "markdown",
   "metadata": {},
   "source": [
    "## K Nearest Neighbors"
   ]
  },
  {
   "cell_type": "code",
   "execution_count": 22,
   "metadata": {
    "ExecuteTime": {
     "end_time": "2019-11-24T00:53:40.839343Z",
     "start_time": "2019-11-24T00:53:38.242337Z"
    }
   },
   "outputs": [],
   "source": [
    "knn = KNeighborsClassifier()\n",
    "knn.fit(X_train, y_train)\n",
    "y_pred_test = knn.predict(X_test)"
   ]
  },
  {
   "cell_type": "code",
   "execution_count": 23,
   "metadata": {
    "ExecuteTime": {
     "end_time": "2019-11-24T00:53:40.861368Z",
     "start_time": "2019-11-24T00:53:40.842777Z"
    }
   },
   "outputs": [
    {
     "name": "stdout",
     "output_type": "stream",
     "text": [
      "                Pred Nonvoter/Other  Pred Clinton  Pred Trump\n",
      "Nonvoter/Other                   23            87          85\n",
      "Clinton                          30           609          70\n",
      "Trump                            28            81         587 \n",
      "\n",
      "\n",
      " 85.9 percent that were predicted Clinton were actually Clinton\n",
      " 84.3 percent that were predicted Trump were actually Trump\n",
      "\n"
     ]
    }
   ],
   "source": [
    "knn_metrics = create_perf_metrics(y_test, y_pred_test)"
   ]
  },
  {
   "cell_type": "markdown",
   "metadata": {},
   "source": [
    "## Support vector machines"
   ]
  },
  {
   "cell_type": "code",
   "execution_count": 24,
   "metadata": {
    "ExecuteTime": {
     "end_time": "2019-11-24T00:53:48.959451Z",
     "start_time": "2019-11-24T00:53:40.865486Z"
    }
   },
   "outputs": [],
   "source": [
    "svm = SVC(kernel='linear')\n",
    "svm.fit(X_train, y_train)\n",
    "y_pred_test = svm.predict(X_test)"
   ]
  },
  {
   "cell_type": "code",
   "execution_count": 27,
   "metadata": {
    "ExecuteTime": {
     "end_time": "2019-11-24T00:54:00.464912Z",
     "start_time": "2019-11-24T00:54:00.448805Z"
    }
   },
   "outputs": [
    {
     "name": "stdout",
     "output_type": "stream",
     "text": [
      "                Pred Nonvoter/Other  Pred Clinton  Pred Trump\n",
      "Nonvoter/Other                   17            93          85\n",
      "Clinton                          16           628          65\n",
      "Trump                            11            74         611 \n",
      "\n",
      "\n",
      " 88.6 percent that were predicted Clinton were actually Clinton\n",
      " 87.8 percent that were predicted Trump were actually Trump\n",
      "\n"
     ]
    }
   ],
   "source": [
    "# call performance metric function\n",
    "svm_metrics = create_perf_metrics(y_test, y_pred_test)"
   ]
  },
  {
   "cell_type": "markdown",
   "metadata": {},
   "source": [
    "## K-means clustering"
   ]
  },
  {
   "cell_type": "code",
   "execution_count": 35,
   "metadata": {
    "ExecuteTime": {
     "end_time": "2019-11-24T00:56:37.393494Z",
     "start_time": "2019-11-24T00:56:33.588294Z"
    }
   },
   "outputs": [
    {
     "data": {
      "image/png": "[encoded data removed]",
      "text/plain": [
       "<Figure size 360x360 with 1 Axes>"
      ]
     },
     "metadata": {
      "needs_background": "light"
     },
     "output_type": "display_data"
    }
   ],
   "source": [
    "kmeans = KMeans(n_clusters=2)\n",
    "kmeans.fit(X)\n",
    "\n",
    "labels = kmeans.labels_\n",
    "plt.figure(figsize=(5,5))\n",
    "plt.scatter(kmeans.cluster_centers_[:, 0], kmeans.cluster_centers_[:, 1], c='black', s=300)\n",
    "\n",
    "y_pred = kmeans.predict(X)\n",
    "metrics.silhouette_score(X, labels, metric='euclidean')\n",
    "metrics.calinski_harabasz_score(X, labels)\n",
    "\n",
    "y_pred_df = pd.DataFrame(y_pred, columns=['predicted'])\n",
    "d = df_target.join(y_pred_df)\n",
    "num_cluster_trump = d.loc[(d.presvote16post_2016 == 2) & (d.predicted == 0)].count()\n",
    "num_cluster_clinton = d.loc[(d.presvote16post_2016 == 1)].count()"
   ]
  },
  {
   "cell_type": "code",
   "execution_count": null,
   "metadata": {},
   "outputs": [],
   "source": []
  }
 ],
 "metadata": {
  "kernelspec": {
   "display_name": "Python 3",
   "language": "python",
   "name": "python3"
  },
  "language_info": {
   "codemirror_mode": {
    "name": "ipython",
    "version": 3
   },
   "file_extension": ".py",
   "mimetype": "text/x-python",
   "name": "python",
   "nbconvert_exporter": "python",
   "pygments_lexer": "ipython3",
   "version": "3.7.3"
  },
  "toc": {
   "base_numbering": 1,
   "nav_menu": {},
   "number_sections": true,
   "sideBar": true,
   "skip_h1_title": false,
   "title_cell": "Table of Contents",
   "title_sidebar": "Contents",
   "toc_cell": false,
   "toc_position": {},
   "toc_section_display": true,
   "toc_window_display": false
  }
 },
 "nbformat": 4,
 "nbformat_minor": 2
}
