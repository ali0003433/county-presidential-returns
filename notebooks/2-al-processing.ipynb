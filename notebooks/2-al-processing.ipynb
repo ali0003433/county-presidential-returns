{
 "cells": [
  {
   "cell_type": "markdown",
   "metadata": {},
   "source": [
    "# Processing"
   ]
  },
  {
   "cell_type": "code",
   "execution_count": 60,
   "metadata": {
    "ExecuteTime": {
     "end_time": "2019-11-24T01:41:42.525240Z",
     "start_time": "2019-11-24T01:41:42.497427Z"
    }
   },
   "outputs": [],
   "source": [
    "import matplotlib.pyplot as plt\n",
    "import numpy as np\n",
    "import pandas as pd\n",
    "import pickle\n",
    "import re\n",
    "import seaborn as sns"
   ]
  },
  {
   "cell_type": "code",
   "execution_count": 61,
   "metadata": {
    "ExecuteTime": {
     "end_time": "2019-11-24T01:41:42.934287Z",
     "start_time": "2019-11-24T01:41:42.921914Z"
    }
   },
   "outputs": [],
   "source": [
    "import sys\n",
    "import os\n",
    "sys.path.append('../src/features')\n",
    "from build_features import fill_nulls, filter_col_with_regex, get_dummies"
   ]
  },
  {
   "cell_type": "code",
   "execution_count": 62,
   "metadata": {
    "ExecuteTime": {
     "end_time": "2019-11-24T01:41:45.119145Z",
     "start_time": "2019-11-24T01:41:43.230823Z"
    }
   },
   "outputs": [],
   "source": [
    "# read in data \n",
    "df = pd.read_csv('../data/raw/20161201_voter_study_group.csv')\n",
    "# fill null values \n",
    "df = fill_nulls(df)"
   ]
  },
  {
   "cell_type": "code",
   "execution_count": 63,
   "metadata": {
    "ExecuteTime": {
     "end_time": "2019-11-24T01:41:45.495453Z",
     "start_time": "2019-11-24T01:41:45.125079Z"
    }
   },
   "outputs": [
    {
     "data": {
      "text/plain": [
       "presvote16post_2016    1.000000\n",
       "imiss_l_2016_1.0       0.271828\n",
       "imiss_d_2016_1.0       0.260236\n",
       "imiss_u_2016_1.0       0.242079\n",
       "imiss_y_2016_1.0       0.237089\n",
       "imiss_l_2016_4.0       0.212023\n",
       "imiss_x_2016_1.0       0.211060\n",
       "imiss_p_2016_1.0       0.208277\n",
       "imiss_g_2016_1.0       0.200187\n",
       "imiss_u_2016_3.0       0.177785\n",
       "Name: presvote16post_2016, dtype: float64"
      ]
     },
     "execution_count": 63,
     "metadata": {},
     "output_type": "execute_result"
    }
   ],
   "source": [
    "# set regex pattern to find predictor column names\n",
    "pattern = '(imiss_).{1}(_2016)'\n",
    "# return list of predictor column names\n",
    "col_list = filter_col_with_regex(df, pattern)\n",
    "# save predictor subset of dataframe \n",
    "df_issue = df[col_list]\n",
    "# one hot encoding categorical variables \n",
    "df_issue = get_dummies(df_issue)\n",
    "\n",
    "# save target subset of dataframe\n",
    "df_target = pd.DataFrame(df['presvote16post_2016'])\n",
    "\n",
    "# predictors and target\n",
    "df_target_issue = df_target.join(df_issue)\n",
    "# correlation coefficients \n",
    "df_target_issue.corr()['presvote16post_2016'].abs().sort_values(ascending=False).head(10)"
   ]
  },
  {
   "cell_type": "code",
   "execution_count": 64,
   "metadata": {
    "ExecuteTime": {
     "end_time": "2019-11-24T01:41:45.522123Z",
     "start_time": "2019-11-24T01:41:45.510857Z"
    }
   },
   "outputs": [],
   "source": [
    "# convert target to 3 categories \n",
    "df_3_cats = df_target['presvote16post_2016'].replace(\n",
    "    to_replace=[0, 3, 4, 5, 6, 7],\n",
    "    value=0,\n",
    "    inplace=False\n",
    ")              "
   ]
  },
  {
   "cell_type": "code",
   "execution_count": 65,
   "metadata": {
    "ExecuteTime": {
     "end_time": "2019-11-24T01:41:45.535531Z",
     "start_time": "2019-11-24T01:41:45.528002Z"
    }
   },
   "outputs": [],
   "source": [
    "# predictors \n",
    "X = df_issue\n",
    "# target as array \n",
    "y = np.ravel(df_3_cats)"
   ]
  },
  {
   "cell_type": "code",
   "execution_count": 67,
   "metadata": {
    "ExecuteTime": {
     "end_time": "2019-11-24T01:42:33.556074Z",
     "start_time": "2019-11-24T01:42:33.540059Z"
    }
   },
   "outputs": [],
   "source": [
    "# pickle X and y \n",
    "sys.path.append('../data/processed/')\n",
    "with open('predictor.pickle', 'wb') as file:\n",
    "    pickle.dump(X, file)\n",
    "with open('target.pickle', 'wb') as file:\n",
    "    pickle.dump(y, file)"
   ]
  }
 ],
 "metadata": {
  "kernelspec": {
   "display_name": "Python 3",
   "language": "python",
   "name": "python3"
  },
  "language_info": {
   "codemirror_mode": {
    "name": "ipython",
    "version": 3
   },
   "file_extension": ".py",
   "mimetype": "text/x-python",
   "name": "python",
   "nbconvert_exporter": "python",
   "pygments_lexer": "ipython3",
   "version": "3.7.3"
  },
  "toc": {
   "base_numbering": 1,
   "nav_menu": {},
   "number_sections": true,
   "sideBar": true,
   "skip_h1_title": false,
   "title_cell": "Table of Contents",
   "title_sidebar": "Contents",
   "toc_cell": false,
   "toc_position": {},
   "toc_section_display": true,
   "toc_window_display": false
  }
 },
 "nbformat": 4,
 "nbformat_minor": 2
}
