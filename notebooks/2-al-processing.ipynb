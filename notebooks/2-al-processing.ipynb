{
 "cells": [
  {
   "cell_type": "markdown",
   "metadata": {},
   "source": [
    "# Processing"
   ]
  },
  {
   "cell_type": "code",
   "execution_count": 13,
   "metadata": {
    "ExecuteTime": {
     "end_time": "2019-11-24T16:02:18.939243Z",
     "start_time": "2019-11-24T16:02:18.930957Z"
    }
   },
   "outputs": [],
   "source": [
    "import matplotlib.pyplot as plt\n",
    "import numpy as np\n",
    "import pandas as pd\n",
    "import pickle\n",
    "import re\n",
    "import seaborn as sns"
   ]
  },
  {
   "cell_type": "code",
   "execution_count": 14,
   "metadata": {
    "ExecuteTime": {
     "end_time": "2019-11-24T16:02:19.163333Z",
     "start_time": "2019-11-24T16:02:19.157161Z"
    }
   },
   "outputs": [],
   "source": [
    "import sys\n",
    "import os\n",
    "sys.path.append('../src/features')\n",
    "from build_features import fill_nulls, filter_col_with_regex, get_dummies"
   ]
  },
  {
   "cell_type": "code",
   "execution_count": 20,
   "metadata": {
    "ExecuteTime": {
     "end_time": "2019-11-24T16:18:44.383214Z",
     "start_time": "2019-11-24T16:18:41.865925Z"
    }
   },
   "outputs": [],
   "source": [
    "# read in data \n",
    "df = pd.read_csv('../data/raw/20161201_voter_study_group.csv')\n",
    "# fill null values \n",
    "df = fill_nulls(df)\n",
    "weight = df.weight"
   ]
  },
  {
   "cell_type": "code",
   "execution_count": 16,
   "metadata": {
    "ExecuteTime": {
     "end_time": "2019-11-24T16:02:22.232316Z",
     "start_time": "2019-11-24T16:02:21.870226Z"
    }
   },
   "outputs": [
    {
     "data": {
      "text/plain": [
       "presvote16post_2016    1.000000\n",
       "imiss_l_2016_1.0       0.271828\n",
       "imiss_d_2016_1.0       0.260236\n",
       "imiss_u_2016_1.0       0.242079\n",
       "imiss_y_2016_1.0       0.237089\n",
       "imiss_l_2016_4.0       0.212023\n",
       "imiss_x_2016_1.0       0.211060\n",
       "imiss_p_2016_1.0       0.208277\n",
       "imiss_g_2016_1.0       0.200187\n",
       "imiss_u_2016_3.0       0.177785\n",
       "Name: presvote16post_2016, dtype: float64"
      ]
     },
     "execution_count": 16,
     "metadata": {},
     "output_type": "execute_result"
    }
   ],
   "source": [
    "# set regex pattern to find predictor column names\n",
    "pattern = '(imiss_).{1}(_2016)'\n",
    "# return list of predictor column names\n",
    "col_list = filter_col_with_regex(df, pattern)\n",
    "# save predictor subset of dataframe \n",
    "df_issue = df[col_list]\n",
    "# one hot encoding categorical variables \n",
    "df_issue = get_dummies(df_issue)\n",
    "\n",
    "# save target subset of dataframe\n",
    "df_target = pd.DataFrame(df['presvote16post_2016'])\n",
    "\n",
    "# predictors and target\n",
    "df_target_issue = df_target.join(df_issue)\n",
    "# correlation coefficients \n",
    "df_target_issue.corr()['presvote16post_2016'].abs().sort_values(ascending=False).head(10)"
   ]
  },
  {
   "cell_type": "code",
   "execution_count": 26,
   "metadata": {
    "ExecuteTime": {
     "end_time": "2019-11-24T16:22:33.311348Z",
     "start_time": "2019-11-24T16:22:33.291733Z"
    }
   },
   "outputs": [],
   "source": [
    "# convert target to 3 categories \n",
    "df_3_cat = df_target['presvote16post_2016'].replace(\n",
    "    to_replace=[0, 3, 4, 5, 6, 7],\n",
    "    value=0,\n",
    "    inplace=False\n",
    ")              \n",
    "df_3_cat_issue = df_issue.join(df_3_cat)\n",
    "df_3_cat_issue = df_3_cat_issue.join(weight)"
   ]
  },
  {
   "cell_type": "code",
   "execution_count": 27,
   "metadata": {
    "ExecuteTime": {
     "end_time": "2019-11-24T16:22:33.900716Z",
     "start_time": "2019-11-24T16:22:33.896037Z"
    }
   },
   "outputs": [],
   "source": [
    "# predictors \n",
    "X = df_issue\n",
    "# target as array \n",
    "y = np.ravel(df_3_cats)"
   ]
  },
  {
   "cell_type": "code",
   "execution_count": 28,
   "metadata": {
    "ExecuteTime": {
     "end_time": "2019-11-24T16:22:34.295600Z",
     "start_time": "2019-11-24T16:22:34.270967Z"
    }
   },
   "outputs": [],
   "source": [
    "# pickle X and y \n",
    "sys.path.append('../data/processed/')\n",
    "with open('predictor.pickle', 'wb') as file:\n",
    "    pickle.dump(X, file)\n",
    "with open('target.pickle', 'wb') as file:\n",
    "    pickle.dump(y, file)\n",
    "with open ('issue_3_cat.pickle', 'wb') as file:\n",
    "    pickle.dump(df_3_cat_issue, file)"
   ]
  },
  {
   "cell_type": "code",
   "execution_count": null,
   "metadata": {},
   "outputs": [],
   "source": []
  }
 ],
 "metadata": {
  "kernelspec": {
   "display_name": "Python 3",
   "language": "python",
   "name": "python3"
  },
  "language_info": {
   "codemirror_mode": {
    "name": "ipython",
    "version": 3
   },
   "file_extension": ".py",
   "mimetype": "text/x-python",
   "name": "python",
   "nbconvert_exporter": "python",
   "pygments_lexer": "ipython3",
   "version": "3.7.3"
  },
  "toc": {
   "base_numbering": 1,
   "nav_menu": {},
   "number_sections": true,
   "sideBar": true,
   "skip_h1_title": false,
   "title_cell": "Table of Contents",
   "title_sidebar": "Contents",
   "toc_cell": false,
   "toc_position": {},
   "toc_section_display": true,
   "toc_window_display": false
  }
 },
 "nbformat": 4,
 "nbformat_minor": 2
}
