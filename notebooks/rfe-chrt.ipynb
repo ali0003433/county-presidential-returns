{
 "cells": [
  {
   "cell_type": "markdown",
   "metadata": {},
   "source": [
    "# Feature selection, modeling, parameter tuning"
   ]
  },
  {
   "cell_type": "markdown",
   "metadata": {},
   "source": [
    "## Prepare notebook"
   ]
  },
  {
   "cell_type": "markdown",
   "metadata": {},
   "source": [
    "Import libraries and functions"
   ]
  },
  {
   "cell_type": "code",
   "execution_count": 4,
   "metadata": {
    "ExecuteTime": {
     "end_time": "2019-12-02T14:24:19.020232Z",
     "start_time": "2019-12-02T14:24:19.010415Z"
    }
   },
   "outputs": [],
   "source": [
    "from imblearn.over_sampling import SMOTE \n",
    "import matplotlib.pyplot as plt\n",
    "import numpy as np\n",
    "import pandas as pd\n",
    "import pickle\n",
    "import random\n",
    "import seaborn as sns\n",
    "from sklearn import metrics\n",
    "from sklearn.ensemble import RandomForestClassifier\n",
    "from sklearn.feature_selection import RFECV\n",
    "from sklearn.linear_model import LogisticRegression\n",
    "from sklearn.metrics import confusion_matrix, make_scorer, classification_report\n",
    "from sklearn.model_selection import cross_val_score, train_test_split, GridSearchCV, cross_validate\n",
    "from sklearn.neighbors import KNeighborsClassifier\n",
    "from sklearn.svm import SVC\n",
    "import sys\n",
    "import os\n",
    "sys.path.append('../src/features')\n",
    "from build_features import get_dummies\n",
    "sys.path.append('../src/models')\n",
    "from predict_model import clint_scorer, trump_scorer, avg_scorer\n",
    "#warnings.filterwarnings(\"ignore\")\n",
    "from matplotlib import rcParams\n",
    "rcParams['font.family'] = 'serif'"
   ]
  },
  {
   "cell_type": "code",
   "execution_count": 5,
   "metadata": {
    "ExecuteTime": {
     "end_time": "2019-12-02T14:24:19.180603Z",
     "start_time": "2019-12-02T14:24:19.170103Z"
    }
   },
   "outputs": [],
   "source": [
    "seed = 20"
   ]
  },
  {
   "cell_type": "markdown",
   "metadata": {},
   "source": [
    "Load predictors (no dummy variables yet) and target variable"
   ]
  },
  {
   "cell_type": "code",
   "execution_count": 6,
   "metadata": {
    "ExecuteTime": {
     "end_time": "2019-12-02T14:24:19.506370Z",
     "start_time": "2019-12-02T14:24:19.477441Z"
    }
   },
   "outputs": [],
   "source": [
    "# with open('../data/processed/predictors.pickle', 'rb') as file:\n",
    "#     X = pickle.load(file)\n",
    "with open('../data/processed/predictors_not_dummies.pickle', 'rb') as file:\n",
    "    X_no = pickle.load(file)\n",
    "with open('../data/processed/target.pickle', 'rb') as file:\n",
    "    y = pickle.load(file)"
   ]
  },
  {
   "cell_type": "markdown",
   "metadata": {},
   "source": [
    "## Split data into train and test sets"
   ]
  },
  {
   "cell_type": "code",
   "execution_count": 7,
   "metadata": {
    "ExecuteTime": {
     "end_time": "2019-12-02T14:24:19.828209Z",
     "start_time": "2019-12-02T14:24:19.814397Z"
    }
   },
   "outputs": [],
   "source": [
    "X_train_rfe, X_test_rfe, y_train_rfe, y_test_rfe = train_test_split(X_no, y, test_size=0.2, random_state=20)"
   ]
  },
  {
   "cell_type": "markdown",
   "metadata": {},
   "source": [
    "## Define performance metrics "
   ]
  },
  {
   "cell_type": "markdown",
   "metadata": {},
   "source": [
    "Create a custom scorer to pass to sklearn cross validator "
   ]
  },
  {
   "cell_type": "code",
   "execution_count": 8,
   "metadata": {
    "ExecuteTime": {
     "end_time": "2019-12-02T14:24:20.283323Z",
     "start_time": "2019-12-02T14:24:20.277106Z"
    }
   },
   "outputs": [],
   "source": [
    "clinton_metric = make_scorer(clint_scorer)\n",
    "trump_metric = make_scorer(trump_scorer)\n",
    "comb_metric = make_scorer(avg_scorer)"
   ]
  },
  {
   "cell_type": "markdown",
   "metadata": {},
   "source": [
    "## Define models "
   ]
  },
  {
   "cell_type": "markdown",
   "metadata": {},
   "source": [
    "Set up basic model objects"
   ]
  },
  {
   "cell_type": "code",
   "execution_count": 9,
   "metadata": {
    "ExecuteTime": {
     "end_time": "2019-12-02T14:24:20.736546Z",
     "start_time": "2019-12-02T14:24:20.729351Z"
    }
   },
   "outputs": [],
   "source": [
    "lr = LogisticRegression(\n",
    "    C=2, penalty='l2', solver='lbfgs', multi_class='auto', max_iter=1000, random_state=20)\n",
    "rf = RandomForestClassifier(n_estimators=100, random_state=20)\n",
    "knn = KNeighborsClassifier()\n",
    "svm = SVC(kernel='linear', random_state=20)"
   ]
  },
  {
   "cell_type": "markdown",
   "metadata": {},
   "source": [
    "##  Evaluate training performance of basic models"
   ]
  },
  {
   "cell_type": "markdown",
   "metadata": {},
   "source": [
    "Create a list of model names and model variables "
   ]
  },
  {
   "cell_type": "code",
   "execution_count": 10,
   "metadata": {
    "ExecuteTime": {
     "end_time": "2019-12-02T14:24:21.201483Z",
     "start_time": "2019-12-02T14:24:21.191515Z"
    }
   },
   "outputs": [],
   "source": [
    "name_list = ['Logistic regression', 'Random forest',\n",
    "             'K-nearest neighbors', 'Support vector machine']\n",
    "model_list = [lr, rf, knn, svm]"
   ]
  },
  {
   "cell_type": "markdown",
   "metadata": {},
   "source": [
    "Run cross validation on all basic models and score using Clinton metric "
   ]
  },
  {
   "cell_type": "code",
   "execution_count": 11,
   "metadata": {
    "ExecuteTime": {
     "end_time": "2019-12-02T14:24:37.927566Z",
     "start_time": "2019-12-02T14:24:21.497393Z"
    }
   },
   "outputs": [
    {
     "name": "stdout",
     "output_type": "stream",
     "text": [
      "Logistic regression : [90.4 90.2 90.2 88.3 89.5] Mean: 89.72\n",
      "Random forest : [88.8 89.3 88.8 88.3 90. ] Mean: 89.04\n",
      "K-nearest neighbors : [87.2 87.  88.1 84.9 87.4] Mean: 86.92\n",
      "Support vector machine : [90.7 91.3 90.9 88.8 90.6] Mean: 90.46\n"
     ]
    }
   ],
   "source": [
    "for idx, model in enumerate(model_list):\n",
    "    clint_scores = cross_val_score(\n",
    "        model, X_train_rfe, y_train_rfe, cv=5, scoring=clinton_metric, n_jobs=-1)\n",
    "    name = name_list[idx]\n",
    "    print(name, \":\", clint_scores, 'Mean:', round(clint_scores.mean(), 5))"
   ]
  },
  {
   "cell_type": "markdown",
   "metadata": {},
   "source": [
    "Run cross validation on all basic models and score using Trump metric"
   ]
  },
  {
   "cell_type": "code",
   "execution_count": 12,
   "metadata": {
    "ExecuteTime": {
     "end_time": "2019-12-02T14:24:48.734049Z",
     "start_time": "2019-12-02T14:24:37.932290Z"
    }
   },
   "outputs": [
    {
     "name": "stdout",
     "output_type": "stream",
     "text": [
      "Logistic regression : [87.3 88.7 83.4 86.9 88. ] Mean: 86.86\n",
      "Random forest : [89.3 91.4 84.1 87.8 87.7] Mean: 88.06\n",
      "K-nearest neighbors : [84.1 86.9 80.7 86.4 83.4] Mean: 84.3\n",
      "Support vector machine : [86.2 88.2 82.6 86.2 87.5] Mean: 86.14\n"
     ]
    }
   ],
   "source": [
    "for idx, model in enumerate(model_list):\n",
    "    trump_scores = cross_val_score(\n",
    "        model, X_train_rfe, y_train_rfe, cv=5, scoring=trump_metric, n_jobs=-1)\n",
    "    name = name_list[idx]\n",
    "    print(name, ':', trump_scores, 'Mean:', round(trump_scores.mean(), 5))"
   ]
  },
  {
   "cell_type": "markdown",
   "metadata": {},
   "source": [
    "Run cross validation on all basic models for combined metric "
   ]
  },
  {
   "cell_type": "code",
   "execution_count": 13,
   "metadata": {
    "ExecuteTime": {
     "end_time": "2019-12-02T14:24:59.342989Z",
     "start_time": "2019-12-02T14:24:48.739770Z"
    }
   },
   "outputs": [
    {
     "name": "stdout",
     "output_type": "stream",
     "text": [
      "Logistic regression : [88.85 89.45 86.8  87.6  88.75] Mean: 88.29\n",
      "Random forest : [89.05 90.35 86.45 88.05 88.85] Mean: 88.55\n",
      "K-nearest neighbors : [85.65 86.95 84.4  85.65 85.4 ] Mean: 85.60999999999999\n",
      "Support vector machine : [88.45 89.75 86.75 87.5  89.05] Mean: 88.3\n"
     ]
    }
   ],
   "source": [
    "for idx, model in enumerate(model_list):\n",
    "    comb_scores = cross_val_score(\n",
    "        model, X_train_rfe, y_train_rfe, cv=5, scoring=comb_metric, n_jobs=-1)\n",
    "    name = name_list[idx]\n",
    "    print(name, ':', comb_scores,'Mean:', comb_scores.mean())"
   ]
  },
  {
   "cell_type": "markdown",
   "metadata": {},
   "source": [
    "### RFE"
   ]
  },
  {
   "cell_type": "markdown",
   "metadata": {
    "ExecuteTime": {
     "end_time": "2019-11-30T11:36:56.771909Z",
     "start_time": "2019-11-30T11:36:56.736653Z"
    }
   },
   "source": [
    "Recursive feature engineering on top performing basic models using combined metric and print optimal number of features found using each model "
   ]
  },
  {
   "cell_type": "code",
   "execution_count": 14,
   "metadata": {
    "ExecuteTime": {
     "end_time": "2019-12-02T14:26:10.288429Z",
     "start_time": "2019-12-02T14:24:59.348593Z"
    }
   },
   "outputs": [
    {
     "name": "stdout",
     "output_type": "stream",
     "text": [
      "Optimal number of LR features: 7\n",
      "Optimal number of RF features: 22\n"
     ]
    }
   ],
   "source": [
    "selector_lr = RFECV(lr, step=1, min_features_to_select=1,  #logistic regression rfe\n",
    "                    scoring=comb_metric, cv=5) \n",
    "selector_lr.fit(X_train_rfe, y_train_rfe)  # \n",
    "selector_rf = RFECV(rf, step=1, min_features_to_select=1,  #random forest rfe\n",
    "                    scoring=comb_metric, cv=5)\n",
    "selector_rf.fit(X_train_rfe, y_train_rfe)\n",
    "print('Optimal number of LR features: {}'.format(selector_lr.n_features_))\n",
    "print('Optimal number of RF features: {}'.format(selector_rf.n_features_))"
   ]
  },
  {
   "cell_type": "markdown",
   "metadata": {},
   "source": [
    "Print the list of selected features from the logistic regression basic model"
   ]
  },
  {
   "cell_type": "code",
   "execution_count": 15,
   "metadata": {
    "ExecuteTime": {
     "end_time": "2019-12-02T14:26:10.329005Z",
     "start_time": "2019-12-02T14:26:10.295907Z"
    }
   },
   "outputs": [
    {
     "name": "stdout",
     "output_type": "stream",
     "text": [
      "Not selected:\n",
      " [[3, 'imiss_a_2016'], [9, 'imiss_b_2016'], [5, 'imiss_d_2016'], [6, 'imiss_e_2016'], [2, 'imiss_g_2016'], [12, 'imiss_h_2016'], [4, 'imiss_i_2016'], [17, 'imiss_j_2016'], [14, 'imiss_k_2016'], [16, 'imiss_m_2016'], [11, 'imiss_n_2016'], [10, 'imiss_o_2016'], [7, 'imiss_q_2016'], [15, 'imiss_r_2016'], [8, 'imiss_s_2016'], [13, 'imiss_t_2016']] \n",
      "\n",
      "Selected:\n",
      " [[1, 'imiss_c_2016'], [1, 'imiss_f_2016'], [1, 'imiss_l_2016'], [1, 'imiss_p_2016'], [1, 'imiss_u_2016'], [1, 'imiss_x_2016'], [1, 'imiss_y_2016']]\n"
     ]
    }
   ],
   "source": [
    "rank_list = selector_lr.ranking_\n",
    "feature_ranks = []\n",
    "nt_slct_rank_feat = []\n",
    "slct_rank_feat = []\n",
    "for idx, rank in enumerate(rank_list):\n",
    "    feature_ranks.append([rank, X_train_rfe.columns[idx]])\n",
    "for list in feature_ranks:\n",
    "    if list[0] != 1:\n",
    "        nt_slct_rank_feat.append(list)\n",
    "    if list[0] == 1:\n",
    "        slct_rank_feat.append(list)\n",
    "print('Not selected:' '\\n', nt_slct_rank_feat, '\\n')\n",
    "print('Selected:''\\n', slct_rank_feat) "
   ]
  },
  {
   "cell_type": "code",
   "execution_count": 16,
   "metadata": {
    "ExecuteTime": {
     "end_time": "2019-12-02T14:26:10.366971Z",
     "start_time": "2019-12-02T14:26:10.335406Z"
    }
   },
   "outputs": [],
   "source": [
    "slctd_feat = []\n",
    "for item in slct_rank_feat:\n",
    "    slctd_feat.append(item[1])\n",
    "slctd_feat\n",
    "selected_feat = X_no[slctd_feat]\n",
    "with open('../data/processed/selected_feat.pickle', 'wb') as file:\n",
    "    pickle.dump(selected_feat, file)"
   ]
  },
  {
   "cell_type": "markdown",
   "metadata": {},
   "source": [
    "Visualize features versus grid scores"
   ]
  },
  {
   "cell_type": "code",
   "execution_count": 60,
   "metadata": {
    "ExecuteTime": {
     "end_time": "2019-12-02T14:47:13.029266Z",
     "start_time": "2019-12-02T14:47:12.775263Z"
    }
   },
   "outputs": [
    {
     "data": {
      "image/png": "[encoded data removed]",
      "text/plain": [
       "<Figure size 504x360 with 1 Axes>"
      ]
     },
     "metadata": {
      "needs_background": "light"
     },
     "output_type": "display_data"
    }
   ],
   "source": [
    "plt.figure(figsize=(7, 5))\n",
    "line_plt = sns.lineplot(range(1, len(selector_lr.grid_scores_) + 1), selector_lr.grid_scores_, color='gold', linewidth=3)\n",
    "line_plt.set_title('Model Performance by Number of Issues Used', pad=20, fontsize=15)\n",
    "line_plt.set_xlabel('Number of issues', fontsize=14, labelpad=20)\n",
    "line_plt.set_ylabel('Performance', fontsize=14, labelpad=20)\n",
    "line_plt.spines['right'].set_visible(False)\n",
    "line_plt.spines['top'].set_visible(False)\n",
    "line_plt.set_xticks([2,4,6,8,10,12,14])\n",
    "line_plt.set_xlim(0,15)\n",
    "line_plt.set_ylim(80, 90)\n",
    "plt.show()"
   ]
  },
  {
   "cell_type": "markdown",
   "metadata": {},
   "source": [
    "Drop the features that were not selected from the predictors dataframe "
   ]
  },
  {
   "cell_type": "code",
   "execution_count": 18,
   "metadata": {
    "ExecuteTime": {
     "end_time": "2019-12-02T14:26:25.946514Z",
     "start_time": "2019-12-02T14:26:25.936463Z"
    }
   },
   "outputs": [],
   "source": [
    "np.where(selector_lr.support_ == False)[0]\n",
    "X_selected = X_no.drop(X_no.columns[np.where(selector_lr.support_ == False)[0]], axis=1)"
   ]
  },
  {
   "cell_type": "code",
   "execution_count": 19,
   "metadata": {
    "ExecuteTime": {
     "end_time": "2019-12-02T14:26:26.247081Z",
     "start_time": "2019-12-02T14:26:26.208006Z"
    }
   },
   "outputs": [
    {
     "name": "stdout",
     "output_type": "stream",
     "text": [
      "7\n"
     ]
    },
    {
     "data": {
      "text/html": [
       "<div>\n",
       "<style scoped>\n",
       "    .dataframe tbody tr th:only-of-type {\n",
       "        vertical-align: middle;\n",
       "    }\n",
       "\n",
       "    .dataframe tbody tr th {\n",
       "        vertical-align: top;\n",
       "    }\n",
       "\n",
       "    .dataframe thead th {\n",
       "        text-align: right;\n",
       "    }\n",
       "</style>\n",
       "<table border=\"1\" class=\"dataframe\">\n",
       "  <thead>\n",
       "    <tr style=\"text-align: right;\">\n",
       "      <th></th>\n",
       "      <th>imiss_c_2016</th>\n",
       "      <th>imiss_f_2016</th>\n",
       "      <th>imiss_l_2016</th>\n",
       "      <th>imiss_p_2016</th>\n",
       "      <th>imiss_u_2016</th>\n",
       "      <th>imiss_x_2016</th>\n",
       "      <th>imiss_y_2016</th>\n",
       "    </tr>\n",
       "  </thead>\n",
       "  <tbody>\n",
       "    <tr>\n",
       "      <th>0</th>\n",
       "      <td>1.0</td>\n",
       "      <td>2.0</td>\n",
       "      <td>1.0</td>\n",
       "      <td>2.0</td>\n",
       "      <td>2.0</td>\n",
       "      <td>1.0</td>\n",
       "      <td>1.0</td>\n",
       "    </tr>\n",
       "    <tr>\n",
       "      <th>1</th>\n",
       "      <td>2.0</td>\n",
       "      <td>1.0</td>\n",
       "      <td>4.0</td>\n",
       "      <td>1.0</td>\n",
       "      <td>2.0</td>\n",
       "      <td>3.0</td>\n",
       "      <td>4.0</td>\n",
       "    </tr>\n",
       "    <tr>\n",
       "      <th>2</th>\n",
       "      <td>2.0</td>\n",
       "      <td>1.0</td>\n",
       "      <td>1.0</td>\n",
       "      <td>2.0</td>\n",
       "      <td>2.0</td>\n",
       "      <td>1.0</td>\n",
       "      <td>2.0</td>\n",
       "    </tr>\n",
       "    <tr>\n",
       "      <th>3</th>\n",
       "      <td>3.0</td>\n",
       "      <td>2.0</td>\n",
       "      <td>2.0</td>\n",
       "      <td>3.0</td>\n",
       "      <td>2.0</td>\n",
       "      <td>2.0</td>\n",
       "      <td>3.0</td>\n",
       "    </tr>\n",
       "    <tr>\n",
       "      <th>4</th>\n",
       "      <td>1.0</td>\n",
       "      <td>1.0</td>\n",
       "      <td>4.0</td>\n",
       "      <td>1.0</td>\n",
       "      <td>1.0</td>\n",
       "      <td>1.0</td>\n",
       "      <td>1.0</td>\n",
       "    </tr>\n",
       "  </tbody>\n",
       "</table>\n",
       "</div>"
      ],
      "text/plain": [
       "   imiss_c_2016  imiss_f_2016  imiss_l_2016  imiss_p_2016  imiss_u_2016  \\\n",
       "0           1.0           2.0           1.0           2.0           2.0   \n",
       "1           2.0           1.0           4.0           1.0           2.0   \n",
       "2           2.0           1.0           1.0           2.0           2.0   \n",
       "3           3.0           2.0           2.0           3.0           2.0   \n",
       "4           1.0           1.0           4.0           1.0           1.0   \n",
       "\n",
       "   imiss_x_2016  imiss_y_2016  \n",
       "0           1.0           1.0  \n",
       "1           3.0           4.0  \n",
       "2           1.0           2.0  \n",
       "3           2.0           3.0  \n",
       "4           1.0           1.0  "
      ]
     },
     "execution_count": 19,
     "metadata": {},
     "output_type": "execute_result"
    }
   ],
   "source": [
    "print(len(X_selected.columns))\n",
    "X_selected.head()"
   ]
  },
  {
   "cell_type": "markdown",
   "metadata": {},
   "source": [
    "### Define post-RFE X with dummy variables"
   ]
  },
  {
   "cell_type": "markdown",
   "metadata": {},
   "source": [
    "Use one hot encoding to transform the selected X features into dummy variables "
   ]
  },
  {
   "cell_type": "code",
   "execution_count": 16,
   "metadata": {
    "ExecuteTime": {
     "end_time": "2019-11-30T21:25:11.858979Z",
     "start_time": "2019-11-30T21:25:11.796664Z"
    }
   },
   "outputs": [
    {
     "data": {
      "text/plain": [
       "28"
      ]
     },
     "execution_count": 16,
     "metadata": {},
     "output_type": "execute_result"
    }
   ],
   "source": [
    "X = get_dummies(X_selected)\n",
    "len(X.columns)"
   ]
  },
  {
   "cell_type": "markdown",
   "metadata": {},
   "source": [
    "### Create new train and test split on final features"
   ]
  },
  {
   "cell_type": "markdown",
   "metadata": {},
   "source": [
    "Using the selected features that are now one-hot encoded, create a new train and test set "
   ]
  },
  {
   "cell_type": "code",
   "execution_count": 17,
   "metadata": {
    "ExecuteTime": {
     "end_time": "2019-11-30T21:25:11.873222Z",
     "start_time": "2019-11-30T21:25:11.861612Z"
    }
   },
   "outputs": [],
   "source": [
    "X_train, X_test, y_train, y_test = train_test_split(X, y, test_size=0.20, random_state=20)"
   ]
  },
  {
   "cell_type": "markdown",
   "metadata": {},
   "source": [
    "## Parameter tuning"
   ]
  },
  {
   "cell_type": "markdown",
   "metadata": {},
   "source": [
    "Define parameter grid for random forest and run grid search cross validation"
   ]
  },
  {
   "cell_type": "code",
   "execution_count": 18,
   "metadata": {
    "ExecuteTime": {
     "end_time": "2019-11-30T21:25:11.885394Z",
     "start_time": "2019-11-30T21:25:11.876468Z"
    }
   },
   "outputs": [],
   "source": [
    "rf_2 = RandomForestClassifier(n_estimators=100, random_state=20)\n",
    "param_grid = {'n_estimators': [100], 'max_depth': [\n",
    "    1, 2, 3, 4, 5, 6, 7, 8, 9, 10], 'oob_score': [True], 'max_features': [None, 'sqrt']}\n",
    "grid = GridSearchCV(rf_2, param_grid, iid=True, cv=5, n_jobs=-1,scoring=comb_metric, verbose=1, return_train_score=True)"
   ]
  },
  {
   "cell_type": "markdown",
   "metadata": {},
   "source": [
    "Fit to training data and print best parameters and best score "
   ]
  },
  {
   "cell_type": "code",
   "execution_count": 19,
   "metadata": {
    "ExecuteTime": {
     "end_time": "2019-11-30T21:25:38.282771Z",
     "start_time": "2019-11-30T21:25:11.888260Z"
    }
   },
   "outputs": [
    {
     "name": "stdout",
     "output_type": "stream",
     "text": [
      "Fitting 5 folds for each of 20 candidates, totalling 100 fits\n"
     ]
    },
    {
     "name": "stderr",
     "output_type": "stream",
     "text": [
      "[Parallel(n_jobs=-1)]: Using backend LokyBackend with 4 concurrent workers.\n",
      "[Parallel(n_jobs=-1)]: Done  42 tasks      | elapsed:    9.6s\n",
      "[Parallel(n_jobs=-1)]: Done 100 out of 100 | elapsed:   26.0s finished\n"
     ]
    },
    {
     "name": "stdout",
     "output_type": "stream",
     "text": [
      "{'max_depth': 8, 'max_features': 'sqrt', 'n_estimators': 100, 'oob_score': True}\n",
      "88.23\n"
     ]
    }
   ],
   "source": [
    "grid.fit(X_train, y_train)\n",
    "print(grid.best_params_)\n",
    "print(round(grid.best_score_, 3))"
   ]
  },
  {
   "cell_type": "code",
   "execution_count": 20,
   "metadata": {
    "ExecuteTime": {
     "end_time": "2019-11-30T21:25:38.412600Z",
     "start_time": "2019-11-30T21:25:38.286552Z"
    }
   },
   "outputs": [
    {
     "name": "stdout",
     "output_type": "stream",
     "text": [
      "[ 0.48877986  0.62768315  0.52136256  0.0258593   0.24179532  0.27629528\n",
      "  0.47687267  0.05204736 -0.70764685 -1.61337127 -2.07573083 -0.42357228\n",
      "  0.50387637  0.82441948  0.45695833  0.36399887  0.51252507  1.0311067\n",
      "  1.42274503  0.32268765 -0.4659145  -0.96576947 -1.26200044 -0.3471488\n",
      " -0.53114176 -0.7799944  -0.88764071 -0.50293407]\n",
      "[1. 2. 3.]\n",
      "[ 0.74793993 -0.22699382 -0.5209461 ]\n"
     ]
    }
   ],
   "source": [
    "lr_2 = LogisticRegression(\n",
    "    C=2, penalty='l2', solver='lbfgs', multi_class='auto', max_iter=1000, random_state=20)\n",
    "lr_2.fit(X_train, y_train)\n",
    "print(lr_2.coef_[0])\n",
    "print(lr_2.classes_)\n",
    "print(lr_2.intercept_)"
   ]
  },
  {
   "cell_type": "code",
   "execution_count": 21,
   "metadata": {
    "ExecuteTime": {
     "end_time": "2019-11-30T21:25:38.957445Z",
     "start_time": "2019-11-30T21:25:38.416446Z"
    }
   },
   "outputs": [
    {
     "data": {
      "text/plain": [
       "array([90.8 , 90.7 , 87.35, 88.95, 89.3 ])"
      ]
     },
     "execution_count": 21,
     "metadata": {},
     "output_type": "execute_result"
    }
   ],
   "source": [
    "predictions_lr_2 = lr_2.predict(X_train)\n",
    "scores_lr_2 = cross_validate(lr_2, X_train, y_train, scoring=comb_metric, cv=5)\n",
    "scores_lr_2['test_score']"
   ]
  },
  {
   "cell_type": "markdown",
   "metadata": {},
   "source": [
    "### Use SMOTE TO oversample minority class"
   ]
  },
  {
   "cell_type": "code",
   "execution_count": 22,
   "metadata": {
    "ExecuteTime": {
     "end_time": "2019-11-30T21:25:39.041893Z",
     "start_time": "2019-11-30T21:25:38.968812Z"
    }
   },
   "outputs": [
    {
     "name": "stdout",
     "output_type": "stream",
     "text": [
      "Before oversampling, counts of label 1: 2810\n",
      "Before oversampling, counts of label 2: 2795\n",
      "Before oversampling, counts of label 3: 795\n"
     ]
    }
   ],
   "source": [
    "print('Before oversampling, counts of label 1: {}'.format(sum(y_train == 1))) \n",
    "print('Before oversampling, counts of label 2: {}'.format(sum(y_train == 2))) \n",
    "print('Before oversampling, counts of label 3: {}'.format(sum(y_train == 3))) "
   ]
  },
  {
   "cell_type": "code",
   "execution_count": 23,
   "metadata": {
    "ExecuteTime": {
     "end_time": "2019-11-30T21:25:39.389813Z",
     "start_time": "2019-11-30T21:25:39.045700Z"
    }
   },
   "outputs": [],
   "source": [
    "sm = SMOTE(random_state = 20) \n",
    "X_train_sm, y_train_sm = sm.fit_sample(X_train, y_train) "
   ]
  },
  {
   "cell_type": "code",
   "execution_count": 24,
   "metadata": {
    "ExecuteTime": {
     "end_time": "2019-11-30T21:25:39.487110Z",
     "start_time": "2019-11-30T21:25:39.395902Z"
    }
   },
   "outputs": [
    {
     "name": "stdout",
     "output_type": "stream",
     "text": [
      "After oversampling, the shape of train_X: (8430, 28)\n",
      "After oversampling, the shape of train_y: (8430,) \n",
      "\n",
      "After oversampling, counts of label 1: 2810\n",
      "After oversampling, counts of label 2: 2810\n",
      "After oversampling, counts of label 3: 2810\n"
     ]
    }
   ],
   "source": [
    "print('After oversampling, the shape of train_X: {}'.format(X_train_sm.shape)) \n",
    "print('After oversampling, the shape of train_y: {} \\n'.format(y_train_sm.shape)) \n",
    "print('After oversampling, counts of label 1: {}'.format(sum(y_train_sm == 1))) \n",
    "print('After oversampling, counts of label 2: {}'.format(sum(y_train_sm == 2))) \n",
    "print('After oversampling, counts of label 3: {}'.format(sum(y_train_sm == 3))) "
   ]
  },
  {
   "cell_type": "code",
   "execution_count": 25,
   "metadata": {
    "ExecuteTime": {
     "end_time": "2019-11-30T21:25:41.310138Z",
     "start_time": "2019-11-30T21:25:39.492635Z"
    }
   },
   "outputs": [
    {
     "data": {
      "text/plain": [
       "array([82.75, 80.05, 76.  , 76.9 , 77.75])"
      ]
     },
     "execution_count": 25,
     "metadata": {},
     "output_type": "execute_result"
    }
   ],
   "source": [
    "lr_sm = LogisticRegression(solver='lbfgs', multi_class='auto', max_iter=1000) \n",
    "lr_sm.fit(X_train_sm, y_train_sm) \n",
    "scores_lr_sm = cross_val_score(lr_sm, X_train_sm, y_train_sm, cv=5, scoring=comb_metric, n_jobs=-1)\n",
    "scores_lr_sm"
   ]
  },
  {
   "cell_type": "code",
   "execution_count": 26,
   "metadata": {
    "ExecuteTime": {
     "end_time": "2019-11-30T21:26:15.006001Z",
     "start_time": "2019-11-30T21:25:41.314260Z"
    }
   },
   "outputs": [
    {
     "name": "stdout",
     "output_type": "stream",
     "text": [
      "Fitting 5 folds for each of 20 candidates, totalling 100 fits\n"
     ]
    },
    {
     "name": "stderr",
     "output_type": "stream",
     "text": [
      "[Parallel(n_jobs=-1)]: Using backend LokyBackend with 4 concurrent workers.\n",
      "[Parallel(n_jobs=-1)]: Done  42 tasks      | elapsed:   10.6s\n",
      "[Parallel(n_jobs=-1)]: Done 100 out of 100 | elapsed:   33.1s finished\n"
     ]
    },
    {
     "name": "stdout",
     "output_type": "stream",
     "text": [
      "{'max_depth': 2, 'max_features': None, 'n_estimators': 100, 'oob_score': True}\n",
      "83.05999999999997\n"
     ]
    }
   ],
   "source": [
    "grid_sm = GridSearchCV(rf_2, param_grid, iid=True, cv=5, n_jobs=-1,scoring=comb_metric, verbose=1, return_train_score=True)\n",
    "grid_sm.fit(X_train_sm, y_train_sm)\n",
    "print(grid_sm.best_params_)\n",
    "print(grid_sm.best_score_)"
   ]
  },
  {
   "cell_type": "markdown",
   "metadata": {},
   "source": [
    "## Evaluate test performance"
   ]
  },
  {
   "cell_type": "markdown",
   "metadata": {},
   "source": [
    "Evaluate performance of the RF model found using grid search then applying SMOTE to it "
   ]
  },
  {
   "cell_type": "code",
   "execution_count": 27,
   "metadata": {
    "ExecuteTime": {
     "end_time": "2019-11-30T21:27:10.135312Z",
     "start_time": "2019-11-30T21:26:15.008710Z"
    }
   },
   "outputs": [
    {
     "name": "stdout",
     "output_type": "stream",
     "text": [
      "Fitting 5 folds for each of 20 candidates, totalling 100 fits\n"
     ]
    },
    {
     "name": "stderr",
     "output_type": "stream",
     "text": [
      "[Parallel(n_jobs=-1)]: Using backend LokyBackend with 4 concurrent workers.\n",
      "[Parallel(n_jobs=-1)]: Done  42 tasks      | elapsed:    3.6s\n",
      "[Parallel(n_jobs=-1)]: Done 100 out of 100 | elapsed:    9.3s finished\n"
     ]
    },
    {
     "name": "stdout",
     "output_type": "stream",
     "text": [
      "Fitting 5 folds for each of 20 candidates, totalling 100 fits\n"
     ]
    },
    {
     "name": "stderr",
     "output_type": "stream",
     "text": [
      "[Parallel(n_jobs=-1)]: Using backend LokyBackend with 4 concurrent workers.\n",
      "[Parallel(n_jobs=-1)]: Done  42 tasks      | elapsed:    4.2s\n",
      "[Parallel(n_jobs=-1)]: Done 100 out of 100 | elapsed:   10.7s finished\n"
     ]
    },
    {
     "name": "stdout",
     "output_type": "stream",
     "text": [
      "Fitting 5 folds for each of 20 candidates, totalling 100 fits\n"
     ]
    },
    {
     "name": "stderr",
     "output_type": "stream",
     "text": [
      "[Parallel(n_jobs=-1)]: Using backend LokyBackend with 4 concurrent workers.\n",
      "[Parallel(n_jobs=-1)]: Done  42 tasks      | elapsed:    3.9s\n",
      "[Parallel(n_jobs=-1)]: Done 100 out of 100 | elapsed:   11.0s finished\n"
     ]
    },
    {
     "name": "stdout",
     "output_type": "stream",
     "text": [
      "Fitting 5 folds for each of 20 candidates, totalling 100 fits\n"
     ]
    },
    {
     "name": "stderr",
     "output_type": "stream",
     "text": [
      "[Parallel(n_jobs=-1)]: Using backend LokyBackend with 4 concurrent workers.\n",
      "[Parallel(n_jobs=-1)]: Done  42 tasks      | elapsed:    5.1s\n",
      "[Parallel(n_jobs=-1)]: Done 100 out of 100 | elapsed:   13.1s finished\n",
      "[Parallel(n_jobs=-1)]: Using backend LokyBackend with 4 concurrent workers.\n"
     ]
    },
    {
     "name": "stdout",
     "output_type": "stream",
     "text": [
      "Fitting 5 folds for each of 20 candidates, totalling 100 fits\n"
     ]
    },
    {
     "name": "stderr",
     "output_type": "stream",
     "text": [
      "[Parallel(n_jobs=-1)]: Done  42 tasks      | elapsed:    3.7s\n",
      "[Parallel(n_jobs=-1)]: Done 100 out of 100 | elapsed:    9.9s finished\n"
     ]
    },
    {
     "data": {
      "text/plain": [
       "88.58"
      ]
     },
     "execution_count": 27,
     "metadata": {},
     "output_type": "execute_result"
    }
   ],
   "source": [
    "scores_rf = cross_validate(grid_sm, X_test, y_test, scoring=comb_metric, cv=5)\n",
    "scores_rf['test_score'].mean()"
   ]
  },
  {
   "cell_type": "markdown",
   "metadata": {},
   "source": [
    "Evaluate performance of logistic regression model w/o SMOTE on test data"
   ]
  },
  {
   "cell_type": "code",
   "execution_count": 28,
   "metadata": {
    "ExecuteTime": {
     "end_time": "2019-11-30T21:27:10.444745Z",
     "start_time": "2019-11-30T21:27:10.143352Z"
    }
   },
   "outputs": [
    {
     "data": {
      "text/plain": [
       "88.96000000000001"
      ]
     },
     "execution_count": 28,
     "metadata": {},
     "output_type": "execute_result"
    }
   ],
   "source": [
    "predictions_lr2 = lr_2.predict(X_test)\n",
    "scores_lr2 = cross_validate(lr_2, X_test, y_test, scoring=comb_metric, cv=5)\n",
    "scores_lr2['test_score'].mean()"
   ]
  },
  {
   "cell_type": "markdown",
   "metadata": {},
   "source": [
    "Evaluate performance of logistic regression model with SMOTE on test data "
   ]
  },
  {
   "cell_type": "code",
   "execution_count": 29,
   "metadata": {
    "ExecuteTime": {
     "end_time": "2019-11-30T21:27:10.750783Z",
     "start_time": "2019-11-30T21:27:10.451121Z"
    }
   },
   "outputs": [
    {
     "data": {
      "text/plain": [
       "89.46000000000001"
      ]
     },
     "execution_count": 29,
     "metadata": {},
     "output_type": "execute_result"
    }
   ],
   "source": [
    "predictions_sm2 = lr_sm.predict(X_test)\n",
    "scores_lr_sm = cross_validate(lr_sm, X_test, y_test, scoring=comb_metric, cv=5)\n",
    "scores_lr_sm['test_score'].mean()"
   ]
  },
  {
   "cell_type": "code",
   "execution_count": null,
   "metadata": {},
   "outputs": [],
   "source": []
  }
 ],
 "metadata": {
  "kernelspec": {
   "display_name": "Python 3",
   "language": "python",
   "name": "python3"
  },
  "language_info": {
   "codemirror_mode": {
    "name": "ipython",
    "version": 3
   },
   "file_extension": ".py",
   "mimetype": "text/x-python",
   "name": "python",
   "nbconvert_exporter": "python",
   "pygments_lexer": "ipython3",
   "version": "3.7.3"
  },
  "toc": {
   "base_numbering": 1,
   "nav_menu": {},
   "number_sections": true,
   "sideBar": true,
   "skip_h1_title": false,
   "title_cell": "Table of Contents",
   "title_sidebar": "Contents",
   "toc_cell": false,
   "toc_position": {},
   "toc_section_display": true,
   "toc_window_display": false
  }
 },
 "nbformat": 4,
 "nbformat_minor": 2
}
