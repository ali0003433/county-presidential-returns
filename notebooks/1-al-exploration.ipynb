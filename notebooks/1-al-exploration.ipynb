{
 "cells": [
  {
   "cell_type": "markdown",
   "metadata": {},
   "source": [
    "# Exploration"
   ]
  },
  {
   "cell_type": "code",
   "execution_count": 1,
   "metadata": {
    "ExecuteTime": {
     "end_time": "2019-11-24T14:07:43.491577Z",
     "start_time": "2019-11-24T14:07:41.053890Z"
    }
   },
   "outputs": [],
   "source": [
    "import matplotlib.pyplot as plt\n",
    "import numpy as np\n",
    "import pandas as pd\n",
    "import pickle\n",
    "import re\n",
    "import seaborn as sns\n",
    "import weightedcalcs as wc"
   ]
  },
  {
   "cell_type": "code",
   "execution_count": 2,
   "metadata": {
    "ExecuteTime": {
     "end_time": "2019-11-24T14:07:43.517364Z",
     "start_time": "2019-11-24T14:07:43.495794Z"
    }
   },
   "outputs": [],
   "source": [
    "import sys\n",
    "import os\n",
    "sys.path.append('../src/features')\n",
    "from build_features import fill_nulls, filter_col_with_regex, get_dummies"
   ]
  },
  {
   "cell_type": "code",
   "execution_count": 3,
   "metadata": {
    "ExecuteTime": {
     "end_time": "2019-11-24T14:07:45.824116Z",
     "start_time": "2019-11-24T14:07:44.174406Z"
    }
   },
   "outputs": [],
   "source": [
    "# read in data \n",
    "df = pd.read_csv('../data/raw/20161201_voter_study_group.csv')"
   ]
  },
  {
   "cell_type": "code",
   "execution_count": 5,
   "metadata": {
    "ExecuteTime": {
     "end_time": "2019-11-24T14:07:56.480855Z",
     "start_time": "2019-11-24T14:07:56.216430Z"
    }
   },
   "outputs": [],
   "source": [
    "df_no_nulls = fill_nulls(df)"
   ]
  },
  {
   "cell_type": "code",
   "execution_count": 8,
   "metadata": {
    "ExecuteTime": {
     "end_time": "2019-11-24T14:08:21.527400Z",
     "start_time": "2019-11-24T14:08:21.479753Z"
    }
   },
   "outputs": [
    {
     "data": {
      "text/plain": [
       "presvote16post_2016\n",
       "1.0    0.406\n",
       "2.0    0.399\n",
       "0.0    0.130\n",
       "3.0    0.027\n",
       "6.0    0.016\n",
       "4.0    0.012\n",
       "7.0    0.008\n",
       "5.0    0.002\n",
       "Name: weight, dtype: float64"
      ]
     },
     "execution_count": 8,
     "metadata": {},
     "output_type": "execute_result"
    }
   ],
   "source": [
    "calc = wc.Calculator('weight')\n",
    "weight = df['weight']\n",
    "d = calc.distribution(df_no_nulls, 'presvote16post_2016').round(3).sort_values(ascending=False)\n",
    "d.count\n",
    "\n",
    "\n"
   ]
  },
  {
   "cell_type": "markdown",
   "metadata": {},
   "source": [
    "## Community engagement features"
   ]
  },
  {
   "cell_type": "code",
   "execution_count": null,
   "metadata": {
    "ExecuteTime": {
     "end_time": "2019-11-24T13:58:23.779002Z",
     "start_time": "2019-11-24T13:58:23.670000Z"
    }
   },
   "outputs": [],
   "source": [
    "# return list of community engagement column names\n",
    "col_list = []\n",
    "for i in range(1, 18):\n",
    "    col = f'volunteerorg2_{i}_baseline'\n",
    "    col_list.append(col)\n",
    "    \n",
    "# other community engagement fields \n",
    "comm_list = ['CIVIC_PARTICIPATION_2016',\n",
    "             'pew_churatd_2016',\n",
    "             'volunteer_baseline',\n",
    "             'volunteerf_baseline',\n",
    "             'volunteernum_baseline'\n",
    "            ]\n",
    "\n",
    "df_predictors = df[(col_list + comm_list)]\n",
    "\n",
    "# save target subset of dataframe\n",
    "df_target = pd.DataFrame(df['presvote16post_2016'])\n",
    "\n",
    "# predictors and target\n",
    "df_target_predictors = df_target.join(df_predictors)\n",
    "\n",
    "# correlation coefficients \n",
    "df_target_predictors.corr()['presvote16post_2016'].sort_values(ascending=False).head()"
   ]
  },
  {
   "cell_type": "code",
   "execution_count": null,
   "metadata": {
    "ExecuteTime": {
     "end_time": "2019-11-24T14:00:54.948128Z",
     "start_time": "2019-11-24T14:00:54.666728Z"
    }
   },
   "outputs": [],
   "source": [
    "sns.countplot(x=df_target.presvote16post_2016)\n",
    "sns.xticklabels(df_target.columns)"
   ]
  },
  {
   "cell_type": "code",
   "execution_count": null,
   "metadata": {},
   "outputs": [],
   "source": [
    "# fill null values \n",
    "# df = fill_nulls(df)"
   ]
  },
  {
   "cell_type": "code",
   "execution_count": null,
   "metadata": {
    "ExecuteTime": {
     "end_time": "2019-11-24T01:18:40.303438Z",
     "start_time": "2019-11-24T01:18:40.287437Z"
    }
   },
   "outputs": [],
   "source": [
    "# with open('../data/processed/predictors_target.text', 'wb') as f:\n",
    "#     pickle.dump([X, y], f)"
   ]
  }
 ],
 "metadata": {
  "kernelspec": {
   "display_name": "Python 3",
   "language": "python",
   "name": "python3"
  },
  "language_info": {
   "codemirror_mode": {
    "name": "ipython",
    "version": 3
   },
   "file_extension": ".py",
   "mimetype": "text/x-python",
   "name": "python",
   "nbconvert_exporter": "python",
   "pygments_lexer": "ipython3",
   "version": "3.7.3"
  },
  "toc": {
   "base_numbering": 1,
   "nav_menu": {},
   "number_sections": true,
   "sideBar": true,
   "skip_h1_title": false,
   "title_cell": "Table of Contents",
   "title_sidebar": "Contents",
   "toc_cell": false,
   "toc_position": {},
   "toc_section_display": true,
   "toc_window_display": false
  }
 },
 "nbformat": 4,
 "nbformat_minor": 2
}
