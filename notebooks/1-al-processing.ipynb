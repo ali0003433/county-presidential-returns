{
 "cells": [
  {
   "cell_type": "markdown",
   "metadata": {},
   "source": [
    "# Processing"
   ]
  },
  {
   "cell_type": "code",
   "execution_count": 1,
   "metadata": {
    "ExecuteTime": {
     "end_time": "2019-11-25T19:32:12.582684Z",
     "start_time": "2019-11-25T19:32:11.259440Z"
    }
   },
   "outputs": [],
   "source": [
    "import matplotlib.pyplot as plt\n",
    "import numpy as np\n",
    "import pandas as pd\n",
    "import pickle\n",
    "import re\n",
    "import weightedcalcs as wc"
   ]
  },
  {
   "cell_type": "markdown",
   "metadata": {},
   "source": [
    "Import functions from py files "
   ]
  },
  {
   "cell_type": "code",
   "execution_count": 2,
   "metadata": {
    "ExecuteTime": {
     "end_time": "2019-11-25T19:32:12.596963Z",
     "start_time": "2019-11-25T19:32:12.586808Z"
    }
   },
   "outputs": [],
   "source": [
    "import sys\n",
    "import os\n",
    "sys.path.append('../src/features')\n",
    "from build_features import fill_nulls, filter_col_with_regex, get_dummies"
   ]
  },
  {
   "cell_type": "markdown",
   "metadata": {},
   "source": [
    "Read in data from Voter Study Group CSV"
   ]
  },
  {
   "cell_type": "code",
   "execution_count": 3,
   "metadata": {
    "ExecuteTime": {
     "end_time": "2019-11-25T19:32:13.959950Z",
     "start_time": "2019-11-25T19:32:12.603734Z"
    }
   },
   "outputs": [],
   "source": [
    "df = pd.read_csv('../data/raw/20161201_voter_study_group.csv')"
   ]
  },
  {
   "cell_type": "markdown",
   "metadata": {},
   "source": [
    "Check number of observations, number of features, and a few example column names"
   ]
  },
  {
   "cell_type": "code",
   "execution_count": 9,
   "metadata": {
    "ExecuteTime": {
     "end_time": "2019-11-25T19:34:28.161031Z",
     "start_time": "2019-11-25T19:34:28.153220Z"
    }
   },
   "outputs": [
    {
     "name": "stdout",
     "output_type": "stream",
     "text": [
      "num observations: 8000 \n",
      "num columns: 668 \n",
      "example columns: ['case_identifier', 'weight', 'PARTY_AGENDAS_rand_2016', 'pp_primary16_2016', 'pp_demprim16_2016']\n"
     ]
    }
   ],
   "source": [
    "print('num observations:', df.shape[0], '\\n'\n",
    "      'num features:', df.shape[1], '\\n'\n",
    "      'example columns:', list(df.columns)[0:5])"
   ]
  },
  {
   "cell_type": "markdown",
   "metadata": {},
   "source": [
    "Check number of null values per feature"
   ]
  },
  {
   "cell_type": "code",
   "execution_count": 10,
   "metadata": {
    "ExecuteTime": {
     "end_time": "2019-11-25T19:35:28.477543Z",
     "start_time": "2019-11-25T19:35:28.202257Z"
    }
   },
   "outputs": [
    {
     "data": {
      "text/plain": [
       "case_identifier               0\n",
       "weight                        0\n",
       "PARTY_AGENDAS_rand_2016       0\n",
       "pp_primary16_2016             0\n",
       "pp_demprim16_2016          5026\n",
       "pp_repprim16_2016          5094\n",
       "inputstate_2016               0\n",
       "izip_2016                     0\n",
       "votereg2_2016                 0\n",
       "votereg_f_2016               90\n",
       "dtype: int64"
      ]
     },
     "execution_count": 10,
     "metadata": {},
     "output_type": "execute_result"
    }
   ],
   "source": [
    "df.isna().sum().head(10)"
   ]
  },
  {
   "cell_type": "markdown",
   "metadata": {},
   "source": [
    "Fill null values"
   ]
  },
  {
   "cell_type": "code",
   "execution_count": 11,
   "metadata": {
    "ExecuteTime": {
     "end_time": "2019-11-25T19:35:44.768046Z",
     "start_time": "2019-11-25T19:35:44.527265Z"
    }
   },
   "outputs": [],
   "source": [
    "df = fill_nulls(df)"
   ]
  },
  {
   "cell_type": "markdown",
   "metadata": {},
   "source": [
    "Pickle dataframe"
   ]
  },
  {
   "cell_type": "code",
   "execution_count": 12,
   "metadata": {
    "ExecuteTime": {
     "end_time": "2019-11-25T19:36:14.770954Z",
     "start_time": "2019-11-25T19:36:14.398071Z"
    }
   },
   "outputs": [],
   "source": [
    "with open('../data/processed/df.pickle', 'wb') as file:\n",
    "    pickle.dump(df, file)"
   ]
  },
  {
   "cell_type": "code",
   "execution_count": null,
   "metadata": {},
   "outputs": [],
   "source": [
    "# weight = df['weight']\n",
    "# calc = wc.Calculator('weight')"
   ]
  },
  {
   "cell_type": "code",
   "execution_count": null,
   "metadata": {
    "ExecuteTime": {
     "end_time": "2019-11-25T15:51:32.018421Z",
     "start_time": "2019-11-25T15:51:31.697018Z"
    }
   },
   "outputs": [],
   "source": [
    "# set regex pattern to find predictor column names\n",
    "pattern = '(imiss_).{1}(_2016)'\n",
    "# return list of predictor column names\n",
    "col_list = filter_col_with_regex(df, pattern)\n",
    "# save predictor subset of dataframe \n",
    "df_issue = df[col_list]\n",
    "# save target subset of dataframe\n",
    "df_target = pd.DataFrame(df['presvote16post_2016'])\n",
    "\n",
    "# one hot encoding categorical variables \n",
    "df_issue_dummies = get_dummies(df_issue)\n",
    "# dummy predictors and target\n",
    "df_target_issue_dummies = df_target.join(df_issue_dummies)\n",
    "# correlation coefficients \n",
    "df_target_issue_dummies.corr()['presvote16post_2016'].sort_values(ascending=False).head(10)"
   ]
  },
  {
   "cell_type": "code",
   "execution_count": null,
   "metadata": {
    "ExecuteTime": {
     "end_time": "2019-11-25T15:22:33.876258Z",
     "start_time": "2019-11-25T15:22:33.844935Z"
    }
   },
   "outputs": [],
   "source": [
    "df_target_issue = df_issue.join(df_target)\n",
    "with open('../data/processed/df_target_issue.pickle', 'wb') as file:\n",
    "    pickle.dump(df_target_issue, file)\n",
    "with open('../data/processed/df_target_issue_dummies.pickle', 'wb') as file:\n",
    "    pickle.dump(df_target_issue_dummies, file)"
   ]
  },
  {
   "cell_type": "code",
   "execution_count": null,
   "metadata": {
    "ExecuteTime": {
     "end_time": "2019-11-25T15:22:33.913986Z",
     "start_time": "2019-11-25T15:22:33.886893Z"
    }
   },
   "outputs": [],
   "source": [
    "# convert target to 3 categories \n",
    "df_3cat = df_target['presvote16post_2016'].replace(\n",
    "    to_replace=[8, 3, 4, 5, 6, 7],\n",
    "    value=3,\n",
    "    inplace=False\n",
    ")  \n",
    "# categorical issues, 3 target categories, weight \n",
    "df_3cat_issue_weight = df_issue.join(df_3cat).join(df['weight'])\n",
    "\n",
    "with open('../data/processed/df_3cat_issue_weight.pickle', 'wb') as file:\n",
    "    pickle.dump(df_3cat_issue_weight, file)\n",
    "    \n",
    "df_3cat_dummies = df_issue_dummies.join(df_3cat)"
   ]
  },
  {
   "cell_type": "code",
   "execution_count": null,
   "metadata": {
    "ExecuteTime": {
     "end_time": "2019-11-25T15:22:33.935084Z",
     "start_time": "2019-11-25T15:22:33.916922Z"
    }
   },
   "outputs": [],
   "source": [
    "# three categories for target, issues, and weight \n",
    "df_3cat_dummies_weight = df_issue_dummies.join(df_3cat).join(df['weight'])\n",
    "with open('../data/processed/df_3cat_dummies_weight.pickle', 'wb') as file:\n",
    "    pickle.dump(df_3cat_dummies_weight, file)"
   ]
  },
  {
   "cell_type": "code",
   "execution_count": null,
   "metadata": {
    "ExecuteTime": {
     "end_time": "2019-11-25T15:22:33.947005Z",
     "start_time": "2019-11-25T15:22:33.938558Z"
    }
   },
   "outputs": [],
   "source": [
    "# predictors \n",
    "X = df_issue_dummies\n",
    "# target as array \n",
    "y = np.ravel(df_3cat)"
   ]
  },
  {
   "cell_type": "code",
   "execution_count": null,
   "metadata": {
    "ExecuteTime": {
     "end_time": "2019-11-25T15:22:33.968394Z",
     "start_time": "2019-11-25T15:22:33.950518Z"
    }
   },
   "outputs": [],
   "source": [
    "# pickle X and y \n",
    "with open('../data/processed/predictor.pickle', 'wb') as file:\n",
    "    pickle.dump(X, file)\n",
    "with open('../data/processed/target.pickle', 'wb') as file:\n",
    "    pickle.dump(y, file)\n",
    "with open ('../data/processed/df_3cat_dummies_weight.pickle', 'wb') as file:\n",
    "    pickle.dump(df_3cat_dummies_weight, file)"
   ]
  },
  {
   "cell_type": "markdown",
   "metadata": {},
   "source": [
    "## Check counts for each"
   ]
  },
  {
   "cell_type": "code",
   "execution_count": null,
   "metadata": {
    "ExecuteTime": {
     "end_time": "2019-11-25T15:22:34.039552Z",
     "start_time": "2019-11-25T15:22:34.019462Z"
    }
   },
   "outputs": [],
   "source": [
    "new = df_issue.join(df_3cat)\n",
    "clinton = new.loc[new.presvote16post_2016 == 1]\n",
    "trump = new.loc[new.presvote16post_2016 == 2]\n",
    "other = new.loc[new.presvote16post_2016 == 3]\n",
    "votes = [clinton, trump, other]"
   ]
  },
  {
   "cell_type": "code",
   "execution_count": null,
   "metadata": {
    "ExecuteTime": {
     "end_time": "2019-11-25T15:22:34.544379Z",
     "start_time": "2019-11-25T15:22:34.539871Z"
    }
   },
   "outputs": [],
   "source": [
    "clinton.reset_index(drop=True, inplace=True)\n",
    "other.reset_index(drop=True, inplace=True)\n",
    "trump.reset_index(drop=True, inplace=True)"
   ]
  },
  {
   "cell_type": "code",
   "execution_count": null,
   "metadata": {
    "ExecuteTime": {
     "end_time": "2019-11-25T15:22:34.914324Z",
     "start_time": "2019-11-25T15:22:34.723196Z"
    }
   },
   "outputs": [],
   "source": [
    "for i in votes:\n",
    "    i.drop('presvote16post_2016', inplace=True, axis=1);"
   ]
  },
  {
   "cell_type": "code",
   "execution_count": null,
   "metadata": {
    "ExecuteTime": {
     "end_time": "2019-11-25T15:22:37.666970Z",
     "start_time": "2019-11-25T15:22:34.919805Z"
    }
   },
   "outputs": [],
   "source": [
    "# clinton counts\n",
    "one_count = 0\n",
    "two_count = 0\n",
    "three_count = 0 \n",
    "four_count = 0\n",
    "null_count = 0\n",
    "print(clinton.shape)\n",
    "for col in clinton: \n",
    "    for i in range(0, 3545):\n",
    "        if df[col][i] == 1:\n",
    "            one_count +=1\n",
    "            continue\n",
    "        if df[col][i] == 2:\n",
    "            two_count +=1\n",
    "            continue\n",
    "        if df[col][i] == 3:\n",
    "            three_count +=1\n",
    "            continue\n",
    "        if df[col][i] == 4:\n",
    "            four_count +=1\n",
    "            continue\n",
    "        if df[col][i] == 8:\n",
    "            null_count +=1\n",
    "            \n",
    "print('CLINTON','\\n'\n",
    "      'very:',one_count,'\\n'\n",
    "      'somewhat:',two_count, '\\n'\n",
    "      'not very:', three_count,'\\n'\n",
    "      'unimportant:', four_count, '\\n'\n",
    "      'no response:', null_count)"
   ]
  },
  {
   "cell_type": "code",
   "execution_count": null,
   "metadata": {
    "ExecuteTime": {
     "end_time": "2019-11-25T15:22:37.681948Z",
     "start_time": "2019-11-25T15:22:37.671918Z"
    }
   },
   "outputs": [],
   "source": [
    "one_count + two_count +  three_count + four_count + null_count"
   ]
  },
  {
   "cell_type": "code",
   "execution_count": null,
   "metadata": {
    "ExecuteTime": {
     "end_time": "2019-11-25T15:22:37.710528Z",
     "start_time": "2019-11-25T15:22:37.700046Z"
    }
   },
   "outputs": [],
   "source": [
    "3545 * 23"
   ]
  },
  {
   "cell_type": "code",
   "execution_count": null,
   "metadata": {
    "ExecuteTime": {
     "end_time": "2019-11-25T15:22:37.754876Z",
     "start_time": "2019-11-25T15:22:37.716852Z"
    }
   },
   "outputs": [],
   "source": [
    "item = [map(row function, x), x in cols]"
   ]
  },
  {
   "cell_type": "code",
   "execution_count": null,
   "metadata": {
    "ExecuteTime": {
     "end_time": "2019-11-25T15:55:40.275122Z",
     "start_time": "2019-11-25T15:55:37.513875Z"
    }
   },
   "outputs": [],
   "source": [
    "# trump counts \n",
    "one_count = 0\n",
    "two_count = 0\n",
    "three_count = 0 \n",
    "four_count = 0\n",
    "null_count = 0\n",
    "print(trump.shape)\n",
    "for col in trump: \n",
    "    for i in range(0, 3479):\n",
    "        if df[col][i] == 1:\n",
    "            one_count +=1\n",
    "            continue\n",
    "        if df[col][i] == 2:\n",
    "            two_count +=1\n",
    "            continue\n",
    "        if df[col][i] == 3:\n",
    "            three_count +=1\n",
    "            continue\n",
    "        if df[col][i] == 4:\n",
    "            four_count +=1\n",
    "            continue\n",
    "        if df[col][i] == 8:\n",
    "            null_count +=1\n",
    "            \n",
    "print('TRUMP','\\n'\n",
    "      'very:',one_count,'\\n'\n",
    "      'somewhat:',two_count, '\\n'\n",
    "      'not very:', three_count,'\\n'\n",
    "      'unimportant:', four_count, '\\n'\n",
    "      'no response:', null_count)"
   ]
  },
  {
   "cell_type": "code",
   "execution_count": null,
   "metadata": {
    "ExecuteTime": {
     "end_time": "2019-11-25T15:55:40.292767Z",
     "start_time": "2019-11-25T15:55:40.278813Z"
    }
   },
   "outputs": [],
   "source": [
    "one_count +two_count+three_count+four_count+null_count"
   ]
  },
  {
   "cell_type": "code",
   "execution_count": null,
   "metadata": {
    "ExecuteTime": {
     "end_time": "2019-11-25T15:55:40.332478Z",
     "start_time": "2019-11-25T15:55:40.312478Z"
    }
   },
   "outputs": [],
   "source": [
    "3479*23"
   ]
  },
  {
   "cell_type": "code",
   "execution_count": null,
   "metadata": {},
   "outputs": [],
   "source": []
  },
  {
   "cell_type": "code",
   "execution_count": null,
   "metadata": {},
   "outputs": [],
   "source": []
  }
 ],
 "metadata": {
  "kernelspec": {
   "display_name": "Python 3",
   "language": "python",
   "name": "python3"
  },
  "language_info": {
   "codemirror_mode": {
    "name": "ipython",
    "version": 3
   },
   "file_extension": ".py",
   "mimetype": "text/x-python",
   "name": "python",
   "nbconvert_exporter": "python",
   "pygments_lexer": "ipython3",
   "version": "3.7.3"
  },
  "toc": {
   "base_numbering": 1,
   "nav_menu": {},
   "number_sections": true,
   "sideBar": true,
   "skip_h1_title": false,
   "title_cell": "Table of Contents",
   "title_sidebar": "Contents",
   "toc_cell": false,
   "toc_position": {},
   "toc_section_display": true,
   "toc_window_display": false
  }
 },
 "nbformat": 4,
 "nbformat_minor": 2
}
