{
 "cells": [
  {
   "cell_type": "markdown",
   "metadata": {},
   "source": [
    "# Processing"
   ]
  },
  {
   "cell_type": "code",
   "execution_count": 1,
   "metadata": {
    "ExecuteTime": {
     "end_time": "2019-11-25T21:11:29.128385Z",
     "start_time": "2019-11-25T21:11:26.967804Z"
    }
   },
   "outputs": [],
   "source": [
    "import matplotlib.pyplot as plt\n",
    "import numpy as np\n",
    "import pandas as pd\n",
    "import pickle\n",
    "import re\n",
    "import weightedcalcs as wc\n",
    "import random"
   ]
  },
  {
   "cell_type": "markdown",
   "metadata": {},
   "source": [
    "Set random seed"
   ]
  },
  {
   "cell_type": "code",
   "execution_count": 2,
   "metadata": {
    "ExecuteTime": {
     "end_time": "2019-11-25T21:12:46.960932Z",
     "start_time": "2019-11-25T21:12:46.954952Z"
    }
   },
   "outputs": [],
   "source": [
    "random.seed(0)"
   ]
  },
  {
   "cell_type": "markdown",
   "metadata": {},
   "source": [
    "Import functions from py files "
   ]
  },
  {
   "cell_type": "code",
   "execution_count": 3,
   "metadata": {
    "ExecuteTime": {
     "end_time": "2019-11-25T21:12:50.462578Z",
     "start_time": "2019-11-25T21:12:50.446905Z"
    }
   },
   "outputs": [],
   "source": [
    "import sys\n",
    "import os\n",
    "sys.path.append('../src/features')\n",
    "from build_features import fill_nulls, filter_col_with_regex, get_dummies"
   ]
  },
  {
   "cell_type": "markdown",
   "metadata": {},
   "source": [
    "Read in data from Voter Study Group CSV"
   ]
  },
  {
   "cell_type": "code",
   "execution_count": 4,
   "metadata": {
    "ExecuteTime": {
     "end_time": "2019-11-25T21:12:55.586101Z",
     "start_time": "2019-11-25T21:12:54.118021Z"
    }
   },
   "outputs": [],
   "source": [
    "df = pd.read_csv('../data/raw/20161201_voter_study_group.csv')"
   ]
  },
  {
   "cell_type": "markdown",
   "metadata": {},
   "source": [
    "Fill missing values with a number that represents the category \"no response\""
   ]
  },
  {
   "cell_type": "code",
   "execution_count": 7,
   "metadata": {
    "ExecuteTime": {
     "end_time": "2019-11-25T21:12:57.013936Z",
     "start_time": "2019-11-25T21:12:56.686014Z"
    }
   },
   "outputs": [],
   "source": [
    "df = fill_nulls(df)"
   ]
  },
  {
   "cell_type": "markdown",
   "metadata": {},
   "source": [
    "Add column that groups the <b>target variable</b> into three categories"
   ]
  },
  {
   "cell_type": "code",
   "execution_count": 26,
   "metadata": {
    "ExecuteTime": {
     "end_time": "2019-11-26T15:40:18.087238Z",
     "start_time": "2019-11-26T15:40:17.927493Z"
    }
   },
   "outputs": [],
   "source": [
    "df['vote_3cat'] = df_target['presvote16post_2016'].replace(\n",
    "    to_replace=[8, 3, 4, 5, 6, 7], value=3, inplace=False)"
   ]
  },
  {
   "cell_type": "markdown",
   "metadata": {},
   "source": [
    "Pickle clean dataframe with all features, weights, and target columns"
   ]
  },
  {
   "cell_type": "code",
   "execution_count": 24,
   "metadata": {
    "ExecuteTime": {
     "end_time": "2019-11-25T21:57:53.082897Z",
     "start_time": "2019-11-25T21:57:52.616531Z"
    }
   },
   "outputs": [],
   "source": [
    "with open('../data/processed/df.pickle', 'wb') as file:\n",
    "    pickle.dump(df, file)"
   ]
  },
  {
   "cell_type": "markdown",
   "metadata": {},
   "source": [
    "Create a list of features to represent <b>community engagement</b>"
   ]
  },
  {
   "cell_type": "markdown",
   "metadata": {},
   "source": [
    "Set regular expressions pattern to match columns with issue questions"
   ]
  },
  {
   "cell_type": "code",
   "execution_count": 27,
   "metadata": {
    "ExecuteTime": {
     "end_time": "2019-11-26T15:43:25.071719Z",
     "start_time": "2019-11-26T15:43:25.066339Z"
    }
   },
   "outputs": [],
   "source": [
    "pattern = '(imiss_).{1}(_2016)'"
   ]
  },
  {
   "cell_type": "markdown",
   "metadata": {},
   "source": [
    "Call function to return list"
   ]
  },
  {
   "cell_type": "code",
   "execution_count": null,
   "metadata": {},
   "outputs": [],
   "source": [
    "col_list = filter_col_with_regex(df, pattern)\n",
    "df_issue = df[col_list]\n",
    "# save target subset of dataframe\n",
    "df_target = pd.DataFrame(df['presvote16post_2016'])\n",
    "\n",
    "# one hot encoding categorical variables \n",
    "df_issue_dummies = get_dummies(df_issue)\n",
    "# dummy predictors and target\n",
    "df_target_issue_dummies = df_target.join(df_issue_dummies)\n",
    "# correlation coefficients \n",
    "df_target_issue_dummies.corr()['presvote16post_2016'].sort_values(ascending=False).head(10)"
   ]
  },
  {
   "cell_type": "code",
   "execution_count": null,
   "metadata": {},
   "outputs": [],
   "source": []
  },
  {
   "cell_type": "code",
   "execution_count": null,
   "metadata": {},
   "outputs": [],
   "source": []
  },
  {
   "cell_type": "code",
   "execution_count": null,
   "metadata": {},
   "outputs": [],
   "source": []
  },
  {
   "cell_type": "code",
   "execution_count": 10,
   "metadata": {
    "ExecuteTime": {
     "end_time": "2019-11-25T21:12:59.778982Z",
     "start_time": "2019-11-25T21:12:59.747294Z"
    }
   },
   "outputs": [],
   "source": [
    "# convert target to 3 categories \n",
    "df_3cat = df_target['presvote16post_2016'].replace(\n",
    "    to_replace=[8, 3, 4, 5, 6, 7],\n",
    "    value=3,\n",
    "    inplace=False\n",
    ")  \n",
    "# categorical issues, 3 target categories, weight \n",
    "df_3cat_issue_weight = df_issue.join(df_3cat).join(df['weight'])\n",
    "\n",
    "with open('../data/processed/df_3cat_issue_weight.pickle', 'wb') as file:\n",
    "    pickle.dump(df_3cat_issue_weight, file)\n",
    "    \n",
    "df_3cat_dummies = df_issue_dummies.join(df_3cat)"
   ]
  },
  {
   "cell_type": "code",
   "execution_count": 11,
   "metadata": {
    "ExecuteTime": {
     "end_time": "2019-11-25T21:13:00.274479Z",
     "start_time": "2019-11-25T21:13:00.258092Z"
    }
   },
   "outputs": [],
   "source": [
    "# three categories for target, issues, and weight \n",
    "df_3cat_dummies_weight = df_issue_dummies.join(df_3cat).join(df['weight'])\n",
    "with open('../data/processed/df_3cat_dummies_weight.pickle', 'wb') as file:\n",
    "    pickle.dump(df_3cat_dummies_weight, file)"
   ]
  },
  {
   "cell_type": "code",
   "execution_count": 12,
   "metadata": {
    "ExecuteTime": {
     "end_time": "2019-11-25T21:13:00.613578Z",
     "start_time": "2019-11-25T21:13:00.605311Z"
    }
   },
   "outputs": [],
   "source": [
    "# predictors \n",
    "X = df_issue_dummies\n",
    "# target as array \n",
    "y = np.ravel(df_3cat)"
   ]
  },
  {
   "cell_type": "code",
   "execution_count": 13,
   "metadata": {
    "ExecuteTime": {
     "end_time": "2019-11-25T21:13:00.951498Z",
     "start_time": "2019-11-25T21:13:00.916779Z"
    }
   },
   "outputs": [],
   "source": [
    "# pickle X and y \n",
    "with open('../data/processed/predictor.pickle', 'wb') as file:\n",
    "    pickle.dump(X, file)\n",
    "with open('../data/processed/target.pickle', 'wb') as file:\n",
    "    pickle.dump(y, file)\n",
    "with open ('../data/processed/df_3cat_dummies_weight.pickle', 'wb') as file:\n",
    "    pickle.dump(df_3cat_dummies_weight, file)"
   ]
  },
  {
   "cell_type": "markdown",
   "metadata": {},
   "source": [
    "## Check counts for each"
   ]
  },
  {
   "cell_type": "code",
   "execution_count": 14,
   "metadata": {
    "ExecuteTime": {
     "end_time": "2019-11-25T21:13:01.947190Z",
     "start_time": "2019-11-25T21:13:01.926584Z"
    }
   },
   "outputs": [],
   "source": [
    "new = df_issue.join(df_3cat)\n",
    "clinton = new.loc[new.presvote16post_2016 == 1]\n",
    "trump = new.loc[new.presvote16post_2016 == 2]\n",
    "other = new.loc[new.presvote16post_2016 == 3]\n",
    "votes = [clinton, trump, other]"
   ]
  },
  {
   "cell_type": "code",
   "execution_count": 15,
   "metadata": {
    "ExecuteTime": {
     "end_time": "2019-11-25T21:13:02.370238Z",
     "start_time": "2019-11-25T21:13:02.362032Z"
    }
   },
   "outputs": [],
   "source": [
    "clinton.reset_index(drop=True, inplace=True)\n",
    "other.reset_index(drop=True, inplace=True)\n",
    "trump.reset_index(drop=True, inplace=True)"
   ]
  },
  {
   "cell_type": "code",
   "execution_count": 16,
   "metadata": {
    "ExecuteTime": {
     "end_time": "2019-11-25T21:13:02.882960Z",
     "start_time": "2019-11-25T21:13:02.717252Z"
    }
   },
   "outputs": [
    {
     "name": "stderr",
     "output_type": "stream",
     "text": [
      "/Users/alyssaliguori/anaconda3/lib/python3.7/site-packages/pandas/core/frame.py:3940: SettingWithCopyWarning: \n",
      "A value is trying to be set on a copy of a slice from a DataFrame\n",
      "\n",
      "See the caveats in the documentation: http://pandas.pydata.org/pandas-docs/stable/indexing.html#indexing-view-versus-copy\n",
      "  errors=errors)\n"
     ]
    }
   ],
   "source": [
    "for i in votes:\n",
    "    i.drop('presvote16post_2016', inplace=True, axis=1);"
   ]
  },
  {
   "cell_type": "code",
   "execution_count": 17,
   "metadata": {
    "ExecuteTime": {
     "end_time": "2019-11-25T21:13:05.395178Z",
     "start_time": "2019-11-25T21:13:03.064972Z"
    }
   },
   "outputs": [
    {
     "name": "stdout",
     "output_type": "stream",
     "text": [
      "(3545, 23)\n",
      "CLINTON \n",
      "very: 40969 \n",
      "somewhat: 25157 \n",
      "not very: 9679 \n",
      "unimportant: 4653 \n",
      "no response: 1077\n"
     ]
    }
   ],
   "source": [
    "# clinton counts\n",
    "one_count = 0\n",
    "two_count = 0\n",
    "three_count = 0 \n",
    "four_count = 0\n",
    "null_count = 0\n",
    "print(clinton.shape)\n",
    "for col in clinton: \n",
    "    for i in range(0, 3545):\n",
    "        if df[col][i] == 1:\n",
    "            one_count +=1\n",
    "            continue\n",
    "        if df[col][i] == 2:\n",
    "            two_count +=1\n",
    "            continue\n",
    "        if df[col][i] == 3:\n",
    "            three_count +=1\n",
    "            continue\n",
    "        if df[col][i] == 4:\n",
    "            four_count +=1\n",
    "            continue\n",
    "        if df[col][i] == 8:\n",
    "            null_count +=1\n",
    "            \n",
    "print('CLINTON','\\n'\n",
    "      'very:',one_count,'\\n'\n",
    "      'somewhat:',two_count, '\\n'\n",
    "      'not very:', three_count,'\\n'\n",
    "      'unimportant:', four_count, '\\n'\n",
    "      'no response:', null_count)"
   ]
  },
  {
   "cell_type": "code",
   "execution_count": 18,
   "metadata": {
    "ExecuteTime": {
     "end_time": "2019-11-25T21:13:05.408130Z",
     "start_time": "2019-11-25T21:13:05.398643Z"
    }
   },
   "outputs": [
    {
     "data": {
      "text/plain": [
       "81535"
      ]
     },
     "execution_count": 18,
     "metadata": {},
     "output_type": "execute_result"
    }
   ],
   "source": [
    "one_count + two_count +  three_count + four_count + null_count"
   ]
  },
  {
   "cell_type": "code",
   "execution_count": 19,
   "metadata": {
    "ExecuteTime": {
     "end_time": "2019-11-25T21:13:05.432902Z",
     "start_time": "2019-11-25T21:13:05.413438Z"
    }
   },
   "outputs": [
    {
     "data": {
      "text/plain": [
       "81535"
      ]
     },
     "execution_count": 19,
     "metadata": {},
     "output_type": "execute_result"
    }
   ],
   "source": [
    "3545 * 23"
   ]
  },
  {
   "cell_type": "code",
   "execution_count": 20,
   "metadata": {
    "ExecuteTime": {
     "end_time": "2019-11-25T21:13:05.449457Z",
     "start_time": "2019-11-25T21:13:05.439050Z"
    }
   },
   "outputs": [
    {
     "ename": "SyntaxError",
     "evalue": "invalid syntax (<ipython-input-20-62cb0965f841>, line 1)",
     "output_type": "error",
     "traceback": [
      "\u001b[0;36m  File \u001b[0;32m\"<ipython-input-20-62cb0965f841>\"\u001b[0;36m, line \u001b[0;32m1\u001b[0m\n\u001b[0;31m    item = [map(row function, x), x in cols]\u001b[0m\n\u001b[0m                           ^\u001b[0m\n\u001b[0;31mSyntaxError\u001b[0m\u001b[0;31m:\u001b[0m invalid syntax\n"
     ]
    }
   ],
   "source": [
    "item = [map(row function, x), x in cols]"
   ]
  },
  {
   "cell_type": "code",
   "execution_count": null,
   "metadata": {
    "ExecuteTime": {
     "end_time": "2019-11-25T21:13:05.455965Z",
     "start_time": "2019-11-25T21:13:05.146Z"
    }
   },
   "outputs": [],
   "source": [
    "# trump counts \n",
    "one_count = 0\n",
    "two_count = 0\n",
    "three_count = 0 \n",
    "four_count = 0\n",
    "null_count = 0\n",
    "print(trump.shape)\n",
    "for col in trump: \n",
    "    for i in range(0, 3479):\n",
    "        if df[col][i] == 1:\n",
    "            one_count +=1\n",
    "            continue\n",
    "        if df[col][i] == 2:\n",
    "            two_count +=1\n",
    "            continue\n",
    "        if df[col][i] == 3:\n",
    "            three_count +=1\n",
    "            continue\n",
    "        if df[col][i] == 4:\n",
    "            four_count +=1\n",
    "            continue\n",
    "        if df[col][i] == 8:\n",
    "            null_count +=1\n",
    "            \n",
    "print('TRUMP','\\n'\n",
    "      'very:',one_count,'\\n'\n",
    "      'somewhat:',two_count, '\\n'\n",
    "      'not very:', three_count,'\\n'\n",
    "      'unimportant:', four_count, '\\n'\n",
    "      'no response:', null_count)"
   ]
  },
  {
   "cell_type": "code",
   "execution_count": 21,
   "metadata": {
    "ExecuteTime": {
     "end_time": "2019-11-25T21:13:05.761198Z",
     "start_time": "2019-11-25T21:13:05.752901Z"
    }
   },
   "outputs": [
    {
     "data": {
      "text/plain": [
       "81535"
      ]
     },
     "execution_count": 21,
     "metadata": {},
     "output_type": "execute_result"
    }
   ],
   "source": [
    "one_count +two_count+three_count+four_count+null_count"
   ]
  },
  {
   "cell_type": "code",
   "execution_count": 22,
   "metadata": {
    "ExecuteTime": {
     "end_time": "2019-11-25T21:13:06.171694Z",
     "start_time": "2019-11-25T21:13:06.163058Z"
    }
   },
   "outputs": [
    {
     "data": {
      "text/plain": [
       "80017"
      ]
     },
     "execution_count": 22,
     "metadata": {},
     "output_type": "execute_result"
    }
   ],
   "source": [
    "3479*23"
   ]
  },
  {
   "cell_type": "code",
   "execution_count": null,
   "metadata": {},
   "outputs": [],
   "source": []
  }
 ],
 "metadata": {
  "kernelspec": {
   "display_name": "Python 3",
   "language": "python",
   "name": "python3"
  },
  "language_info": {
   "codemirror_mode": {
    "name": "ipython",
    "version": 3
   },
   "file_extension": ".py",
   "mimetype": "text/x-python",
   "name": "python",
   "nbconvert_exporter": "python",
   "pygments_lexer": "ipython3",
   "version": "3.7.3"
  },
  "toc": {
   "base_numbering": 1,
   "nav_menu": {},
   "number_sections": true,
   "sideBar": true,
   "skip_h1_title": false,
   "title_cell": "Table of Contents",
   "title_sidebar": "Contents",
   "toc_cell": false,
   "toc_position": {},
   "toc_section_display": true,
   "toc_window_display": false
  }
 },
 "nbformat": 4,
 "nbformat_minor": 2
}
