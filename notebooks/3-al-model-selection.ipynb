{
 "cells": [
  {
   "cell_type": "markdown",
   "metadata": {},
   "source": [
    "# Notebook 1"
   ]
  },
  {
   "cell_type": "code",
   "execution_count": 1,
   "metadata": {
    "ExecuteTime": {
     "end_time": "2019-11-24T01:36:51.710690Z",
     "start_time": "2019-11-24T01:36:47.927700Z"
    }
   },
   "outputs": [],
   "source": [
    "import matplotlib.pyplot as plt\n",
    "import numpy as np\n",
    "import pandas as pd\n",
    "import pickle\n",
    "import re\n",
    "import seaborn as sns\n",
    "from sklearn import metrics\n",
    "from sklearn.cluster import KMeans\n",
    "from sklearn.ensemble import RandomForestClassifier\n",
    "from sklearn.feature_selection import RFE\n",
    "from sklearn.linear_model import LogisticRegression\n",
    "from sklearn.metrics import accuracy_score, confusion_matrix\n",
    "from sklearn.model_selection import cross_val_score, train_test_split\n",
    "from sklearn.neighbors import KNeighborsClassifier\n",
    "from sklearn.pipeline import Pipeline\n",
    "from sklearn.svm import SVC"
   ]
  },
  {
   "cell_type": "code",
   "execution_count": 2,
   "metadata": {
    "ExecuteTime": {
     "end_time": "2019-11-24T01:36:51.730626Z",
     "start_time": "2019-11-24T01:36:51.716797Z"
    }
   },
   "outputs": [],
   "source": [
    "import sys\n",
    "import os\n",
    "sys.path.append('../src/models')\n",
    "from predict_model import create_perf_metrics"
   ]
  },
  {
   "cell_type": "code",
   "execution_count": 3,
   "metadata": {
    "ExecuteTime": {
     "end_time": "2019-11-24T01:36:51.765349Z",
     "start_time": "2019-11-24T01:36:51.739421Z"
    }
   },
   "outputs": [],
   "source": [
    "# open predictor and target variables \n",
    "sys.path.append('../data/processed/')\n",
    "with open('predictor.pickle', 'rb') as file:\n",
    "    X = pickle.load(file)\n",
    "with open('target.pickle', 'rb') as file:\n",
    "    y = pickle.load(file)"
   ]
  },
  {
   "cell_type": "code",
   "execution_count": 4,
   "metadata": {
    "ExecuteTime": {
     "end_time": "2019-11-24T01:36:51.801870Z",
     "start_time": "2019-11-24T01:36:51.768396Z"
    }
   },
   "outputs": [],
   "source": [
    "# split data into train and test\n",
    "X_train, X_test, y_train, y_test = train_test_split(X, y,\n",
    "                                                    test_size=0.2, \n",
    "                                                    stratify=y)"
   ]
  },
  {
   "cell_type": "markdown",
   "metadata": {},
   "source": [
    "## Logistic regression"
   ]
  },
  {
   "cell_type": "code",
   "execution_count": 5,
   "metadata": {
    "ExecuteTime": {
     "end_time": "2019-11-24T01:36:56.439470Z",
     "start_time": "2019-11-24T01:36:55.681668Z"
    }
   },
   "outputs": [],
   "source": [
    "log_reg = LogisticRegression(C=2, penalty='l2', \n",
    "                        solver='lbfgs', \n",
    "                        multi_class='auto', \n",
    "                        max_iter=1000)\n",
    "log_reg.fit(X_train, y_train)\n",
    "y_pred_test = log_reg.predict(X_test)"
   ]
  },
  {
   "cell_type": "code",
   "execution_count": 6,
   "metadata": {
    "ExecuteTime": {
     "end_time": "2019-11-24T01:36:56.464758Z",
     "start_time": "2019-11-24T01:36:56.443412Z"
    }
   },
   "outputs": [
    {
     "name": "stdout",
     "output_type": "stream",
     "text": [
      "                Pred Nonvoter/Other  Pred Clinton  Pred Trump\n",
      "Nonvoter/Other                   18            96          81\n",
      "Clinton                          19           635          55\n",
      "Trump                            10            79         607 \n",
      "\n",
      "\n",
      " 89.60000000000001 percent that were predicted Clinton were actually Clinton\n",
      " 87.2 percent that were predicted Trump were actually Trump\n",
      "\n"
     ]
    }
   ],
   "source": [
    "# call performance metric function\n",
    "log_reg_metrics = create_perf_metrics(y_test, y_pred_test)"
   ]
  },
  {
   "cell_type": "code",
   "execution_count": 7,
   "metadata": {
    "ExecuteTime": {
     "end_time": "2019-11-24T01:36:56.483848Z",
     "start_time": "2019-11-24T01:36:56.471476Z"
    }
   },
   "outputs": [],
   "source": [
    "# storing each group's coeficients as dicts\n",
    "other_list = log_reg.coef_[0]\n",
    "other_coef = dict(zip(X.columns, other_list))\n",
    "clinton_list = log_reg.coef_[1]\n",
    "clinton_coef = dict(zip(X.columns, clinton_list))\n",
    "trump_list = log_reg.coef_[2]\n",
    "trump_coef = dict(zip(X.columns, trump_list))"
   ]
  },
  {
   "cell_type": "markdown",
   "metadata": {},
   "source": [
    "## Random forest"
   ]
  },
  {
   "cell_type": "code",
   "execution_count": 8,
   "metadata": {
    "ExecuteTime": {
     "end_time": "2019-11-24T01:36:57.848550Z",
     "start_time": "2019-11-24T01:36:56.664263Z"
    }
   },
   "outputs": [],
   "source": [
    "rf = RandomForestClassifier(n_estimators=100)\n",
    "rf.fit(X_train, y_train)\n",
    "y_pred_test = rf.predict(X_test)"
   ]
  },
  {
   "cell_type": "code",
   "execution_count": 9,
   "metadata": {
    "ExecuteTime": {
     "end_time": "2019-11-24T01:36:57.875381Z",
     "start_time": "2019-11-24T01:36:57.855132Z"
    }
   },
   "outputs": [
    {
     "name": "stdout",
     "output_type": "stream",
     "text": [
      "                Pred Nonvoter/Other  Pred Clinton  Pred Trump\n",
      "Nonvoter/Other                    3           101          91\n",
      "Clinton                          13           633          63\n",
      "Trump                             9            72         615 \n",
      "\n",
      "\n",
      " 89.3 percent that were predicted Clinton were actually Clinton\n",
      " 88.4 percent that were predicted Trump were actually Trump\n",
      "\n"
     ]
    }
   ],
   "source": [
    "rf_metrics = create_perf_metrics(y_test, y_pred_test)"
   ]
  },
  {
   "cell_type": "markdown",
   "metadata": {},
   "source": [
    "## K Nearest Neighbors"
   ]
  },
  {
   "cell_type": "code",
   "execution_count": null,
   "metadata": {
    "ExecuteTime": {
     "start_time": "2019-11-24T01:36:57.347Z"
    }
   },
   "outputs": [],
   "source": [
    "knn = KNeighborsClassifier()\n",
    "knn.fit(X_train, y_train)\n",
    "y_pred_test = knn.predict(X_test)"
   ]
  },
  {
   "cell_type": "code",
   "execution_count": null,
   "metadata": {
    "ExecuteTime": {
     "start_time": "2019-11-24T01:36:57.563Z"
    }
   },
   "outputs": [],
   "source": [
    "knn_metrics = create_perf_metrics(y_test, y_pred_test)"
   ]
  },
  {
   "cell_type": "markdown",
   "metadata": {},
   "source": [
    "## Support vector machines"
   ]
  },
  {
   "cell_type": "code",
   "execution_count": null,
   "metadata": {
    "ExecuteTime": {
     "start_time": "2019-11-24T01:36:57.983Z"
    }
   },
   "outputs": [],
   "source": [
    "svm = SVC(kernel='linear')\n",
    "svm.fit(X_train, y_train)\n",
    "y_pred_test = svm.predict(X_test)"
   ]
  },
  {
   "cell_type": "code",
   "execution_count": null,
   "metadata": {
    "ExecuteTime": {
     "start_time": "2019-11-24T01:36:58.161Z"
    }
   },
   "outputs": [],
   "source": [
    "# call performance metric function\n",
    "svm_metrics = create_perf_metrics(y_test, y_pred_test)"
   ]
  },
  {
   "cell_type": "markdown",
   "metadata": {},
   "source": [
    "## K-means clustering"
   ]
  },
  {
   "cell_type": "code",
   "execution_count": null,
   "metadata": {
    "ExecuteTime": {
     "start_time": "2019-11-24T01:36:58.562Z"
    }
   },
   "outputs": [],
   "source": [
    "kmeans = KMeans(n_clusters=2)\n",
    "kmeans.fit(X)\n",
    "\n",
    "labels = kmeans.labels_\n",
    "plt.figure(figsize=(5,5))\n",
    "plt.scatter(kmeans.cluster_centers_[:, 0], kmeans.cluster_centers_[:, 1], c='black', s=300)\n",
    "\n",
    "y_pred = kmeans.predict(X)\n",
    "metrics.silhouette_score(X, labels, metric='euclidean')\n",
    "metrics.calinski_harabasz_score(X, labels)\n",
    "\n",
    "y_pred_df = pd.DataFrame(y_pred, columns=['predicted'])\n",
    "d = df_target.join(y_pred_df)\n",
    "num_cluster_trump = d.loc[(d.presvote16post_2016 == 2) & (d.predicted == 0)].count()\n",
    "num_cluster_clinton = d.loc[(d.presvote16post_2016 == 1)].count()"
   ]
  },
  {
   "cell_type": "code",
   "execution_count": null,
   "metadata": {},
   "outputs": [],
   "source": []
  },
  {
   "cell_type": "code",
   "execution_count": null,
   "metadata": {},
   "outputs": [],
   "source": []
  },
  {
   "cell_type": "code",
   "execution_count": null,
   "metadata": {},
   "outputs": [],
   "source": []
  }
 ],
 "metadata": {
  "kernelspec": {
   "display_name": "Python 3",
   "language": "python",
   "name": "python3"
  },
  "language_info": {
   "codemirror_mode": {
    "name": "ipython",
    "version": 3
   },
   "file_extension": ".py",
   "mimetype": "text/x-python",
   "name": "python",
   "nbconvert_exporter": "python",
   "pygments_lexer": "ipython3",
   "version": "3.7.3"
  },
  "toc": {
   "base_numbering": 1,
   "nav_menu": {},
   "number_sections": true,
   "sideBar": true,
   "skip_h1_title": false,
   "title_cell": "Table of Contents",
   "title_sidebar": "Contents",
   "toc_cell": false,
   "toc_position": {},
   "toc_section_display": true,
   "toc_window_display": false
  }
 },
 "nbformat": 4,
 "nbformat_minor": 2
}
