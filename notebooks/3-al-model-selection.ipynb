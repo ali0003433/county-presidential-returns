{
 "cells": [
  {
   "cell_type": "markdown",
   "metadata": {},
   "source": [
    "# Model selection"
   ]
  },
  {
   "cell_type": "code",
   "execution_count": 25,
   "metadata": {
    "ExecuteTime": {
     "end_time": "2019-11-25T15:32:46.998489Z",
     "start_time": "2019-11-25T15:32:46.989212Z"
    }
   },
   "outputs": [],
   "source": [
    "import matplotlib.pyplot as plt\n",
    "import numpy as np\n",
    "import pandas as pd\n",
    "import pickle\n",
    "import re\n",
    "import seaborn as sns\n",
    "from sklearn import metrics\n",
    "from sklearn.cluster import KMeans\n",
    "from sklearn.ensemble import RandomForestClassifier\n",
    "from sklearn.linear_model import LogisticRegression\n",
    "from sklearn.metrics import confusion_matrix\n",
    "from sklearn.model_selection import cross_val_score, train_test_split\n",
    "from sklearn.neighbors import KNeighborsClassifier\n",
    "from sklearn.svm import SVC"
   ]
  },
  {
   "cell_type": "code",
   "execution_count": 26,
   "metadata": {
    "ExecuteTime": {
     "end_time": "2019-11-25T15:32:47.259873Z",
     "start_time": "2019-11-25T15:32:47.251903Z"
    }
   },
   "outputs": [],
   "source": [
    "import sys\n",
    "import os\n",
    "sys.path.append('../src/models')\n",
    "from predict_model import create_perf_metrics"
   ]
  },
  {
   "cell_type": "code",
   "execution_count": 27,
   "metadata": {
    "ExecuteTime": {
     "end_time": "2019-11-25T15:32:47.638502Z",
     "start_time": "2019-11-25T15:32:47.612483Z"
    }
   },
   "outputs": [],
   "source": [
    "# open predictor and target variables \n",
    "with open('../data/processed/predictor.pickle', 'rb') as file:\n",
    "    X = pickle.load(file)\n",
    "with open('../data/processed/target.pickle', 'rb') as file:\n",
    "    y = pickle.load(file)"
   ]
  },
  {
   "cell_type": "code",
   "execution_count": 28,
   "metadata": {
    "ExecuteTime": {
     "end_time": "2019-11-25T15:32:47.963877Z",
     "start_time": "2019-11-25T15:32:47.951911Z"
    }
   },
   "outputs": [
    {
     "data": {
      "text/plain": [
       "array([1., 2., 3.])"
      ]
     },
     "execution_count": 28,
     "metadata": {},
     "output_type": "execute_result"
    }
   ],
   "source": [
    "np.unique(y)"
   ]
  },
  {
   "cell_type": "code",
   "execution_count": 29,
   "metadata": {
    "ExecuteTime": {
     "end_time": "2019-11-25T15:32:48.381818Z",
     "start_time": "2019-11-25T15:32:48.344882Z"
    }
   },
   "outputs": [],
   "source": [
    "# split data into train and test\n",
    "X_train, X_test, y_train, y_test = train_test_split(X, y,\n",
    "                                                    test_size=0.2, \n",
    "                                                    stratify=y)"
   ]
  },
  {
   "cell_type": "markdown",
   "metadata": {},
   "source": [
    "## Logistic regression"
   ]
  },
  {
   "cell_type": "code",
   "execution_count": 30,
   "metadata": {
    "ExecuteTime": {
     "end_time": "2019-11-25T15:32:49.611618Z",
     "start_time": "2019-11-25T15:32:49.147945Z"
    }
   },
   "outputs": [],
   "source": [
    "log_reg = LogisticRegression(C=2, penalty='l2', \n",
    "                            solver='lbfgs', \n",
    "                            multi_class='auto', \n",
    "                            max_iter=1000)\n",
    "log_reg.fit(X_train, y_train)\n",
    "y_pred_test = log_reg.predict(X_test)"
   ]
  },
  {
   "cell_type": "code",
   "execution_count": 31,
   "metadata": {
    "ExecuteTime": {
     "end_time": "2019-11-25T15:32:49.774114Z",
     "start_time": "2019-11-25T15:32:49.747223Z"
    }
   },
   "outputs": [
    {
     "name": "stdout",
     "output_type": "stream",
     "text": [
      "                Pred Clinton  Pred Trump  Pred Nonvoter/Other\n",
      "Clinton                  642          52                   15\n",
      "Trump                     73         612                   11\n",
      "Nonvoter/Other           104          79                   12 \n",
      "\n",
      "\n",
      " 90.60000000000001 percent that were predicted Clinton were actually Clinton\n",
      " 87.9 percent that were predicted Trump were actually Trump\n",
      "\n"
     ]
    }
   ],
   "source": [
    "# call performance metric function\n",
    "log_reg_metrics = create_perf_metrics(y_test, y_pred_test)"
   ]
  },
  {
   "cell_type": "code",
   "execution_count": 35,
   "metadata": {
    "ExecuteTime": {
     "end_time": "2019-11-25T15:33:41.770466Z",
     "start_time": "2019-11-25T15:33:41.763130Z"
    }
   },
   "outputs": [],
   "source": [
    "# storing each group's coeficients as dicts\n",
    "clinton_list = log_reg.coef_[0]\n",
    "clinton_coef = dict(zip(X.columns, clinton_list))\n",
    "trump_list = log_reg.coef_[1]\n",
    "trump_coef = dict(zip(X.columns, trump_list))\n",
    "other_list = log_reg.coef_[2]\n",
    "other_coef = dict(zip(X.columns, other_list))"
   ]
  },
  {
   "cell_type": "markdown",
   "metadata": {},
   "source": [
    "## Random forest"
   ]
  },
  {
   "cell_type": "code",
   "execution_count": 36,
   "metadata": {
    "ExecuteTime": {
     "end_time": "2019-11-25T15:33:45.109684Z",
     "start_time": "2019-11-25T15:33:44.063968Z"
    }
   },
   "outputs": [],
   "source": [
    "rf = RandomForestClassifier(n_estimators=100)\n",
    "rf.fit(X_train, y_train)\n",
    "y_pred_test = rf.predict(X_test)"
   ]
  },
  {
   "cell_type": "code",
   "execution_count": 37,
   "metadata": {
    "ExecuteTime": {
     "end_time": "2019-11-25T15:33:45.136811Z",
     "start_time": "2019-11-25T15:33:45.113786Z"
    }
   },
   "outputs": [
    {
     "name": "stdout",
     "output_type": "stream",
     "text": [
      "                Pred Clinton  Pred Trump  Pred Nonvoter/Other\n",
      "Clinton                  620          81                    8\n",
      "Trump                     72         622                    2\n",
      "Nonvoter/Other           106          86                    3 \n",
      "\n",
      "\n",
      " 87.4 percent that were predicted Clinton were actually Clinton\n",
      " 89.4 percent that were predicted Trump were actually Trump\n",
      "\n"
     ]
    }
   ],
   "source": [
    "rf_metrics = create_perf_metrics(y_test, y_pred_test)"
   ]
  },
  {
   "cell_type": "markdown",
   "metadata": {},
   "source": [
    "## K Nearest Neighbors"
   ]
  },
  {
   "cell_type": "code",
   "execution_count": 38,
   "metadata": {
    "ExecuteTime": {
     "end_time": "2019-11-25T15:33:47.426978Z",
     "start_time": "2019-11-25T15:33:45.147538Z"
    }
   },
   "outputs": [],
   "source": [
    "knn = KNeighborsClassifier()\n",
    "knn.fit(X_train, y_train)\n",
    "y_pred_test = knn.predict(X_test)"
   ]
  },
  {
   "cell_type": "code",
   "execution_count": 39,
   "metadata": {
    "ExecuteTime": {
     "end_time": "2019-11-25T15:33:47.446769Z",
     "start_time": "2019-11-25T15:33:47.431998Z"
    }
   },
   "outputs": [
    {
     "name": "stdout",
     "output_type": "stream",
     "text": [
      "                Pred Clinton  Pred Trump  Pred Nonvoter/Other\n",
      "Clinton                  626          69                   14\n",
      "Trump                    109         579                    8\n",
      "Nonvoter/Other           100          89                    6 \n",
      "\n",
      "\n",
      " 88.3 percent that were predicted Clinton were actually Clinton\n",
      " 83.2 percent that were predicted Trump were actually Trump\n",
      "\n"
     ]
    }
   ],
   "source": [
    "knn_metrics = create_perf_metrics(y_test, y_pred_test)"
   ]
  },
  {
   "cell_type": "markdown",
   "metadata": {},
   "source": [
    "## Support vector machines"
   ]
  },
  {
   "cell_type": "code",
   "execution_count": 40,
   "metadata": {
    "ExecuteTime": {
     "end_time": "2019-11-25T15:33:53.864254Z",
     "start_time": "2019-11-25T15:33:47.452279Z"
    }
   },
   "outputs": [],
   "source": [
    "svm = SVC(kernel='linear')\n",
    "svm.fit(X_train, y_train)\n",
    "y_pred_test = svm.predict(X_test)"
   ]
  },
  {
   "cell_type": "code",
   "execution_count": 41,
   "metadata": {
    "ExecuteTime": {
     "end_time": "2019-11-25T15:33:53.926078Z",
     "start_time": "2019-11-25T15:33:53.890247Z"
    }
   },
   "outputs": [
    {
     "name": "stdout",
     "output_type": "stream",
     "text": [
      "                Pred Clinton  Pred Trump  Pred Nonvoter/Other\n",
      "Clinton                  645          51                   13\n",
      "Trump                     78         611                    7\n",
      "Nonvoter/Other           109          78                    8 \n",
      "\n",
      "\n",
      " 91.0 percent that were predicted Clinton were actually Clinton\n",
      " 87.8 percent that were predicted Trump were actually Trump\n",
      "\n"
     ]
    }
   ],
   "source": [
    "# call performance metric function\n",
    "svm_metrics = create_perf_metrics(y_test, y_pred_test)"
   ]
  },
  {
   "cell_type": "markdown",
   "metadata": {},
   "source": [
    "## K-means clustering"
   ]
  },
  {
   "cell_type": "code",
   "execution_count": 42,
   "metadata": {
    "ExecuteTime": {
     "end_time": "2019-11-25T15:33:59.085643Z",
     "start_time": "2019-11-25T15:33:53.930629Z"
    }
   },
   "outputs": [
    {
     "data": {
      "image/png": "[encoded data removed]",
      "text/plain": [
       "<Figure size 360x360 with 1 Axes>"
      ]
     },
     "metadata": {
      "needs_background": "light"
     },
     "output_type": "display_data"
    }
   ],
   "source": [
    "kmeans = KMeans(n_clusters=2)\n",
    "kmeans.fit(X)\n",
    "\n",
    "labels = kmeans.labels_\n",
    "plt.figure(figsize=(5,5))\n",
    "plt.scatter(kmeans.cluster_centers_[:, 0], kmeans.cluster_centers_[:, 1], c='black', s=300)\n",
    "\n",
    "y_pred = kmeans.predict(X)\n",
    "metrics.silhouette_score(X, labels, metric='euclidean')\n",
    "metrics.calinski_harabasz_score(X, labels)\n",
    "\n",
    "y_pred_df = pd.DataFrame(y_pred, columns=['predicted'])\n",
    "df = pd.DataFrame(y, columns=['presvote16post_2016']).join(y_pred_df)\n",
    "num_cluster_trump = df.loc[(df.presvote16post_2016 == 2) & (df.predicted == 0)].count()\n",
    "num_cluster_clinton = df.loc[(df.presvote16post_2016 == 1)].count()"
   ]
  },
  {
   "cell_type": "markdown",
   "metadata": {},
   "source": [
    "# Parameter tuning"
   ]
  },
  {
   "cell_type": "markdown",
   "metadata": {},
   "source": [
    "gridsearchcv"
   ]
  },
  {
   "cell_type": "markdown",
   "metadata": {},
   "source": [
    "# Test "
   ]
  },
  {
   "cell_type": "markdown",
   "metadata": {},
   "source": [
    "Which model does better with test data? \n",
    "Stick with one metric\n",
    "Whatever model is best, variation between train and test,etc. "
   ]
  },
  {
   "cell_type": "code",
   "execution_count": null,
   "metadata": {},
   "outputs": [],
   "source": []
  }
 ],
 "metadata": {
  "kernelspec": {
   "display_name": "Python 3",
   "language": "python",
   "name": "python3"
  },
  "language_info": {
   "codemirror_mode": {
    "name": "ipython",
    "version": 3
   },
   "file_extension": ".py",
   "mimetype": "text/x-python",
   "name": "python",
   "nbconvert_exporter": "python",
   "pygments_lexer": "ipython3",
   "version": "3.7.3"
  },
  "toc": {
   "base_numbering": 1,
   "nav_menu": {},
   "number_sections": true,
   "sideBar": true,
   "skip_h1_title": false,
   "title_cell": "Table of Contents",
   "title_sidebar": "Contents",
   "toc_cell": false,
   "toc_position": {},
   "toc_section_display": true,
   "toc_window_display": false
  }
 },
 "nbformat": 4,
 "nbformat_minor": 2
}
