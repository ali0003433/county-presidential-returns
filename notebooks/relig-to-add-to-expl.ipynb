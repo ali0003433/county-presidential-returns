{
 "cells": [
  {
   "cell_type": "markdown",
   "metadata": {},
   "source": [
    "## Data cleaning, feature engineering, and modeling"
   ]
  },
  {
   "cell_type": "code",
   "execution_count": 1,
   "metadata": {
    "ExecuteTime": {
     "end_time": "2019-11-23T13:34:19.538803Z",
     "start_time": "2019-11-23T13:34:16.423607Z"
    }
   },
   "outputs": [],
   "source": [
    "import numpy as np\n",
    "import pandas as pd\n",
    "import seaborn as sns\n",
    "import re\n",
    "import matplotlib.pyplot as plt"
   ]
  },
  {
   "cell_type": "code",
   "execution_count": 2,
   "metadata": {
    "ExecuteTime": {
     "end_time": "2019-11-23T13:34:21.581831Z",
     "start_time": "2019-11-23T13:34:19.543531Z"
    }
   },
   "outputs": [],
   "source": [
    "df = pd.read_csv('data/voter-survey-december16.csv')"
   ]
  },
  {
   "cell_type": "code",
   "execution_count": 3,
   "metadata": {
    "ExecuteTime": {
     "end_time": "2019-11-23T13:34:21.811933Z",
     "start_time": "2019-11-23T13:34:21.795227Z"
    }
   },
   "outputs": [
    {
     "data": {
      "text/plain": [
       "6"
      ]
     },
     "execution_count": 3,
     "metadata": {},
     "output_type": "execute_result"
    }
   ],
   "source": [
    "# religion composite variables col names \n",
    "\n",
    "\n",
    "imiss_col_list = ['CIVIC_PARTICIPATION_2016',\n",
    "                  'pew_churatd_2016',\n",
    "                  'pew_religimp_2016',\n",
    "                  'pew_bornagain_2016',\n",
    "                  'pew_prayer_2016',\n",
    "                  'religpew_2016'\n",
    "                ]\n",
    "len(imiss_col_list)"
   ]
  },
  {
   "cell_type": "code",
   "execution_count": 4,
   "metadata": {
    "ExecuteTime": {
     "end_time": "2019-11-23T13:34:22.444004Z",
     "start_time": "2019-11-23T13:34:22.422655Z"
    }
   },
   "outputs": [],
   "source": [
    "# target column list  \n",
    "target_col_list = ['presvote16post_2016']\n",
    "df_target = df[target_col_list]"
   ]
  },
  {
   "cell_type": "code",
   "execution_count": 5,
   "metadata": {
    "ExecuteTime": {
     "end_time": "2019-11-23T13:34:23.422050Z",
     "start_time": "2019-11-23T13:34:23.405440Z"
    }
   },
   "outputs": [],
   "source": [
    "df_issue = df[imiss_col_list].fillna(0)\n"
   ]
  },
  {
   "cell_type": "code",
   "execution_count": 6,
   "metadata": {
    "ExecuteTime": {
     "end_time": "2019-11-23T13:34:23.858373Z",
     "start_time": "2019-11-23T13:34:23.810614Z"
    }
   },
   "outputs": [],
   "source": [
    "df_issue = df_issue.astype(str)\n",
    "df_issue = df_issue.join(df_target)"
   ]
  },
  {
   "cell_type": "code",
   "execution_count": 7,
   "metadata": {
    "ExecuteTime": {
     "end_time": "2019-11-23T13:34:24.119314Z",
     "start_time": "2019-11-23T13:34:24.076732Z"
    }
   },
   "outputs": [],
   "source": [
    "df_dummies = pd.get_dummies(df_issue)"
   ]
  },
  {
   "cell_type": "code",
   "execution_count": 8,
   "metadata": {
    "ExecuteTime": {
     "end_time": "2019-11-23T13:34:24.624146Z",
     "start_time": "2019-11-23T13:34:24.570356Z"
    }
   },
   "outputs": [
    {
     "data": {
      "text/plain": [
       "presvote16post_2016             1.000000\n",
       "pew_bornagain_2016_1.0          0.124769\n",
       "pew_bornagain_2016_2.0          0.124197\n",
       "pew_religimp_2016_1             0.117217\n",
       "pew_religimp_2016_4             0.110876\n",
       "pew_prayer_2016_1.0             0.110281\n",
       "pew_prayer_2016_7.0             0.102675\n",
       "pew_churatd_2016_6.0            0.101641\n",
       "religpew_2016_9.0               0.091458\n",
       "pew_churatd_2016_2.0            0.086730\n",
       "religpew_2016_3.0               0.080701\n",
       "religpew_2016_1.0               0.074097\n",
       "pew_churatd_2016_1.0            0.066156\n",
       "religpew_2016_10.0              0.059587\n",
       "pew_religimp_2016_3             0.055058\n",
       "religpew_2016_5.0               0.053526\n",
       "pew_prayer_2016_6.0             0.047372\n",
       "religpew_2016_11.0              0.043944\n",
       "religpew_2016_2.0               0.042726\n",
       "pew_churatd_2016_5.0            0.025002\n",
       "pew_prayer_2016_8.0             0.023639\n",
       "religpew_2016_8.0               0.019356\n",
       "religpew_2016_7.0               0.018785\n",
       "CIVIC_PARTICIPATION_2016_0.0    0.018690\n",
       "religpew_2016_6.0               0.017428\n",
       "pew_religimp_2016_2             0.015999\n",
       "CIVIC_PARTICIPATION_2016_5.0    0.015077\n",
       "pew_churatd_2016_4.0            0.014441\n",
       "CIVIC_PARTICIPATION_2016_3.0    0.012709\n",
       "CIVIC_PARTICIPATION_2016_4.0    0.010486\n",
       "pew_churatd_2016_7.0            0.010242\n",
       "pew_bornagain_2016_0.0          0.008235\n",
       "CIVIC_PARTICIPATION_2016_1.0    0.008207\n",
       "CIVIC_PARTICIPATION_2016_2.0    0.007911\n",
       "religpew_2016_12.0              0.006438\n",
       "pew_prayer_2016_3.0             0.005777\n",
       "pew_churatd_2016_0.0            0.004535\n",
       "pew_prayer_2016_2.0             0.003151\n",
       "religpew_2016_0.0               0.003098\n",
       "pew_prayer_2016_4.0             0.002114\n",
       "pew_prayer_2016_0.0             0.001518\n",
       "pew_churatd_2016_3.0            0.001043\n",
       "religpew_2016_4.0               0.001011\n",
       "CIVIC_PARTICIPATION_2016_6.0    0.000278\n",
       "pew_prayer_2016_5.0             0.000120\n",
       "Name: presvote16post_2016, dtype: float64"
      ]
     },
     "execution_count": 8,
     "metadata": {},
     "output_type": "execute_result"
    }
   ],
   "source": [
    "df_dummies.corr()['presvote16post_2016'].abs().sort_values(ascending=False)"
   ]
  },
  {
   "cell_type": "code",
   "execution_count": 9,
   "metadata": {
    "ExecuteTime": {
     "end_time": "2019-11-23T13:34:25.117216Z",
     "start_time": "2019-11-23T13:34:25.108912Z"
    }
   },
   "outputs": [
    {
     "data": {
      "text/plain": [
       "(8000, 45)"
      ]
     },
     "execution_count": 9,
     "metadata": {},
     "output_type": "execute_result"
    }
   ],
   "source": [
    "df_dummies.shape"
   ]
  },
  {
   "cell_type": "code",
   "execution_count": 10,
   "metadata": {
    "ExecuteTime": {
     "end_time": "2019-11-23T13:34:25.489934Z",
     "start_time": "2019-11-23T13:34:25.483876Z"
    }
   },
   "outputs": [],
   "source": [
    "df_predictors = df_dummies.drop('presvote16post_2016', axis=1)"
   ]
  },
  {
   "cell_type": "code",
   "execution_count": 11,
   "metadata": {
    "ExecuteTime": {
     "end_time": "2019-11-23T13:34:25.989645Z",
     "start_time": "2019-11-23T13:34:25.957656Z"
    }
   },
   "outputs": [
    {
     "data": {
      "text/html": [
       "<div>\n",
       "<style scoped>\n",
       "    .dataframe tbody tr th:only-of-type {\n",
       "        vertical-align: middle;\n",
       "    }\n",
       "\n",
       "    .dataframe tbody tr th {\n",
       "        vertical-align: top;\n",
       "    }\n",
       "\n",
       "    .dataframe thead th {\n",
       "        text-align: right;\n",
       "    }\n",
       "</style>\n",
       "<table border=\"1\" class=\"dataframe\">\n",
       "  <thead>\n",
       "    <tr style=\"text-align: right;\">\n",
       "      <th></th>\n",
       "      <th>CIVIC_PARTICIPATION_2016_0.0</th>\n",
       "      <th>CIVIC_PARTICIPATION_2016_1.0</th>\n",
       "      <th>CIVIC_PARTICIPATION_2016_2.0</th>\n",
       "      <th>CIVIC_PARTICIPATION_2016_3.0</th>\n",
       "      <th>CIVIC_PARTICIPATION_2016_4.0</th>\n",
       "      <th>CIVIC_PARTICIPATION_2016_5.0</th>\n",
       "      <th>CIVIC_PARTICIPATION_2016_6.0</th>\n",
       "      <th>pew_churatd_2016_0.0</th>\n",
       "      <th>pew_churatd_2016_1.0</th>\n",
       "      <th>pew_churatd_2016_2.0</th>\n",
       "      <th>...</th>\n",
       "      <th>religpew_2016_11.0</th>\n",
       "      <th>religpew_2016_12.0</th>\n",
       "      <th>religpew_2016_2.0</th>\n",
       "      <th>religpew_2016_3.0</th>\n",
       "      <th>religpew_2016_4.0</th>\n",
       "      <th>religpew_2016_5.0</th>\n",
       "      <th>religpew_2016_6.0</th>\n",
       "      <th>religpew_2016_7.0</th>\n",
       "      <th>religpew_2016_8.0</th>\n",
       "      <th>religpew_2016_9.0</th>\n",
       "    </tr>\n",
       "  </thead>\n",
       "  <tbody>\n",
       "    <tr>\n",
       "      <th>0</th>\n",
       "      <td>0</td>\n",
       "      <td>0</td>\n",
       "      <td>0</td>\n",
       "      <td>1</td>\n",
       "      <td>0</td>\n",
       "      <td>0</td>\n",
       "      <td>0</td>\n",
       "      <td>0</td>\n",
       "      <td>0</td>\n",
       "      <td>0</td>\n",
       "      <td>...</td>\n",
       "      <td>0</td>\n",
       "      <td>0</td>\n",
       "      <td>1</td>\n",
       "      <td>0</td>\n",
       "      <td>0</td>\n",
       "      <td>0</td>\n",
       "      <td>0</td>\n",
       "      <td>0</td>\n",
       "      <td>0</td>\n",
       "      <td>0</td>\n",
       "    </tr>\n",
       "    <tr>\n",
       "      <th>1</th>\n",
       "      <td>0</td>\n",
       "      <td>0</td>\n",
       "      <td>0</td>\n",
       "      <td>0</td>\n",
       "      <td>0</td>\n",
       "      <td>1</td>\n",
       "      <td>0</td>\n",
       "      <td>0</td>\n",
       "      <td>1</td>\n",
       "      <td>0</td>\n",
       "      <td>...</td>\n",
       "      <td>0</td>\n",
       "      <td>0</td>\n",
       "      <td>0</td>\n",
       "      <td>1</td>\n",
       "      <td>0</td>\n",
       "      <td>0</td>\n",
       "      <td>0</td>\n",
       "      <td>0</td>\n",
       "      <td>0</td>\n",
       "      <td>0</td>\n",
       "    </tr>\n",
       "    <tr>\n",
       "      <th>2</th>\n",
       "      <td>0</td>\n",
       "      <td>0</td>\n",
       "      <td>0</td>\n",
       "      <td>0</td>\n",
       "      <td>0</td>\n",
       "      <td>0</td>\n",
       "      <td>1</td>\n",
       "      <td>0</td>\n",
       "      <td>0</td>\n",
       "      <td>0</td>\n",
       "      <td>...</td>\n",
       "      <td>0</td>\n",
       "      <td>0</td>\n",
       "      <td>1</td>\n",
       "      <td>0</td>\n",
       "      <td>0</td>\n",
       "      <td>0</td>\n",
       "      <td>0</td>\n",
       "      <td>0</td>\n",
       "      <td>0</td>\n",
       "      <td>0</td>\n",
       "    </tr>\n",
       "    <tr>\n",
       "      <th>3</th>\n",
       "      <td>0</td>\n",
       "      <td>0</td>\n",
       "      <td>0</td>\n",
       "      <td>0</td>\n",
       "      <td>0</td>\n",
       "      <td>1</td>\n",
       "      <td>0</td>\n",
       "      <td>0</td>\n",
       "      <td>0</td>\n",
       "      <td>0</td>\n",
       "      <td>...</td>\n",
       "      <td>1</td>\n",
       "      <td>0</td>\n",
       "      <td>0</td>\n",
       "      <td>0</td>\n",
       "      <td>0</td>\n",
       "      <td>0</td>\n",
       "      <td>0</td>\n",
       "      <td>0</td>\n",
       "      <td>0</td>\n",
       "      <td>0</td>\n",
       "    </tr>\n",
       "    <tr>\n",
       "      <th>4</th>\n",
       "      <td>0</td>\n",
       "      <td>0</td>\n",
       "      <td>0</td>\n",
       "      <td>0</td>\n",
       "      <td>1</td>\n",
       "      <td>0</td>\n",
       "      <td>0</td>\n",
       "      <td>0</td>\n",
       "      <td>1</td>\n",
       "      <td>0</td>\n",
       "      <td>...</td>\n",
       "      <td>0</td>\n",
       "      <td>0</td>\n",
       "      <td>0</td>\n",
       "      <td>1</td>\n",
       "      <td>0</td>\n",
       "      <td>0</td>\n",
       "      <td>0</td>\n",
       "      <td>0</td>\n",
       "      <td>0</td>\n",
       "      <td>0</td>\n",
       "    </tr>\n",
       "  </tbody>\n",
       "</table>\n",
       "<p>5 rows × 44 columns</p>\n",
       "</div>"
      ],
      "text/plain": [
       "   CIVIC_PARTICIPATION_2016_0.0  CIVIC_PARTICIPATION_2016_1.0  \\\n",
       "0                             0                             0   \n",
       "1                             0                             0   \n",
       "2                             0                             0   \n",
       "3                             0                             0   \n",
       "4                             0                             0   \n",
       "\n",
       "   CIVIC_PARTICIPATION_2016_2.0  CIVIC_PARTICIPATION_2016_3.0  \\\n",
       "0                             0                             1   \n",
       "1                             0                             0   \n",
       "2                             0                             0   \n",
       "3                             0                             0   \n",
       "4                             0                             0   \n",
       "\n",
       "   CIVIC_PARTICIPATION_2016_4.0  CIVIC_PARTICIPATION_2016_5.0  \\\n",
       "0                             0                             0   \n",
       "1                             0                             1   \n",
       "2                             0                             0   \n",
       "3                             0                             1   \n",
       "4                             1                             0   \n",
       "\n",
       "   CIVIC_PARTICIPATION_2016_6.0  pew_churatd_2016_0.0  pew_churatd_2016_1.0  \\\n",
       "0                             0                     0                     0   \n",
       "1                             0                     0                     1   \n",
       "2                             1                     0                     0   \n",
       "3                             0                     0                     0   \n",
       "4                             0                     0                     1   \n",
       "\n",
       "   pew_churatd_2016_2.0  ...  religpew_2016_11.0  religpew_2016_12.0  \\\n",
       "0                     0  ...                   0                   0   \n",
       "1                     0  ...                   0                   0   \n",
       "2                     0  ...                   0                   0   \n",
       "3                     0  ...                   1                   0   \n",
       "4                     0  ...                   0                   0   \n",
       "\n",
       "   religpew_2016_2.0  religpew_2016_3.0  religpew_2016_4.0  religpew_2016_5.0  \\\n",
       "0                  1                  0                  0                  0   \n",
       "1                  0                  1                  0                  0   \n",
       "2                  1                  0                  0                  0   \n",
       "3                  0                  0                  0                  0   \n",
       "4                  0                  1                  0                  0   \n",
       "\n",
       "   religpew_2016_6.0  religpew_2016_7.0  religpew_2016_8.0  religpew_2016_9.0  \n",
       "0                  0                  0                  0                  0  \n",
       "1                  0                  0                  0                  0  \n",
       "2                  0                  0                  0                  0  \n",
       "3                  0                  0                  0                  0  \n",
       "4                  0                  0                  0                  0  \n",
       "\n",
       "[5 rows x 44 columns]"
      ]
     },
     "execution_count": 11,
     "metadata": {},
     "output_type": "execute_result"
    }
   ],
   "source": [
    "df_predictors.head()"
   ]
  },
  {
   "cell_type": "markdown",
   "metadata": {},
   "source": [
    "## K means clustering"
   ]
  },
  {
   "cell_type": "code",
   "execution_count": 12,
   "metadata": {
    "ExecuteTime": {
     "end_time": "2019-11-23T13:34:26.573068Z",
     "start_time": "2019-11-23T13:34:26.569009Z"
    }
   },
   "outputs": [],
   "source": [
    "X = df_predictors"
   ]
  },
  {
   "cell_type": "code",
   "execution_count": 13,
   "metadata": {
    "ExecuteTime": {
     "end_time": "2019-11-23T13:34:28.060131Z",
     "start_time": "2019-11-23T13:34:26.840690Z"
    }
   },
   "outputs": [],
   "source": [
    "from sklearn.cluster import KMeans\n",
    "from sklearn import metrics \n",
    "from sklearn.model_selection import train_test_split"
   ]
  },
  {
   "cell_type": "code",
   "execution_count": 68,
   "metadata": {
    "ExecuteTime": {
     "end_time": "2019-11-23T13:42:44.341907Z",
     "start_time": "2019-11-23T13:42:43.888856Z"
    }
   },
   "outputs": [
    {
     "data": {
      "text/plain": [
       "KMeans(algorithm='auto', copy_x=True, init='k-means++', max_iter=300,\n",
       "       n_clusters=4, n_init=10, n_jobs=None, precompute_distances='auto',\n",
       "       random_state=None, tol=0.0001, verbose=0)"
      ]
     },
     "execution_count": 68,
     "metadata": {},
     "output_type": "execute_result"
    }
   ],
   "source": [
    "k_means = KMeans(n_clusters=4)\n",
    "k_means.fit(X)"
   ]
  },
  {
   "cell_type": "code",
   "execution_count": 69,
   "metadata": {
    "ExecuteTime": {
     "end_time": "2019-11-23T13:42:46.736289Z",
     "start_time": "2019-11-23T13:42:46.731188Z"
    }
   },
   "outputs": [],
   "source": [
    "labels = k_means.labels_"
   ]
  },
  {
   "cell_type": "code",
   "execution_count": 70,
   "metadata": {
    "ExecuteTime": {
     "end_time": "2019-11-23T13:42:47.024779Z",
     "start_time": "2019-11-23T13:42:47.014522Z"
    }
   },
   "outputs": [],
   "source": [
    "y_pred = k_means.predict(X)"
   ]
  },
  {
   "cell_type": "code",
   "execution_count": 71,
   "metadata": {
    "ExecuteTime": {
     "end_time": "2019-11-23T13:42:47.597983Z",
     "start_time": "2019-11-23T13:42:47.329304Z"
    }
   },
   "outputs": [
    {
     "data": {
      "text/plain": [
       "<matplotlib.collections.PathCollection at 0x1a20061cc0>"
      ]
     },
     "execution_count": 71,
     "metadata": {},
     "output_type": "execute_result"
    },
    {
     "data": {
      "image/png": "[encoded data removed]",
      "text/plain": [
       "<Figure size 360x360 with 1 Axes>"
      ]
     },
     "metadata": {
      "needs_background": "light"
     },
     "output_type": "display_data"
    }
   ],
   "source": [
    "plt.figure(figsize=(5,5))\n",
    "cl_centers = k_means.cluster_centers_\n",
    "plt.scatter(cl_centers[:, 0], cl_centers[:, 1], c='black', s=300)"
   ]
  },
  {
   "cell_type": "code",
   "execution_count": 64,
   "metadata": {
    "ExecuteTime": {
     "end_time": "2019-11-23T13:35:56.098552Z",
     "start_time": "2019-11-23T13:35:53.002326Z"
    }
   },
   "outputs": [
    {
     "data": {
      "text/plain": [
       "0.15636766923389564"
      ]
     },
     "execution_count": 64,
     "metadata": {},
     "output_type": "execute_result"
    }
   ],
   "source": [
    "metrics.silhouette_score(X, labels, metric='euclidean')"
   ]
  },
  {
   "cell_type": "code",
   "execution_count": 65,
   "metadata": {
    "ExecuteTime": {
     "end_time": "2019-11-23T13:35:56.124829Z",
     "start_time": "2019-11-23T13:35:56.101734Z"
    }
   },
   "outputs": [
    {
     "data": {
      "text/plain": [
       "1331.132949584017"
      ]
     },
     "execution_count": 65,
     "metadata": {},
     "output_type": "execute_result"
    }
   ],
   "source": [
    "metrics.calinski_harabasz_score(X, labels)"
   ]
  },
  {
   "cell_type": "code",
   "execution_count": 20,
   "metadata": {
    "ExecuteTime": {
     "end_time": "2019-11-23T13:34:33.093035Z",
     "start_time": "2019-11-23T13:34:33.077079Z"
    }
   },
   "outputs": [
    {
     "name": "stdout",
     "output_type": "stream",
     "text": [
      "(8000, 1)\n"
     ]
    }
   ],
   "source": [
    "df_target = df[target_col_list]\n",
    "print(df_target.shape)\n",
    "df_target_arr = np.ravel(df_target)"
   ]
  },
  {
   "cell_type": "code",
   "execution_count": 21,
   "metadata": {
    "ExecuteTime": {
     "end_time": "2019-11-23T13:34:33.105193Z",
     "start_time": "2019-11-23T13:34:33.096426Z"
    }
   },
   "outputs": [
    {
     "data": {
      "text/plain": [
       "(8000,)"
      ]
     },
     "execution_count": 21,
     "metadata": {},
     "output_type": "execute_result"
    }
   ],
   "source": [
    "df_target_arr\n",
    "y_pred.shape"
   ]
  },
  {
   "cell_type": "code",
   "execution_count": 22,
   "metadata": {
    "ExecuteTime": {
     "end_time": "2019-11-23T13:34:33.121221Z",
     "start_time": "2019-11-23T13:34:33.108280Z"
    }
   },
   "outputs": [],
   "source": [
    "dataset = pd.DataFrame({ 'y_pred': y_pred}, \n",
    "                        columns=[ 'y_pred']\n",
    "                        )"
   ]
  },
  {
   "cell_type": "code",
   "execution_count": 23,
   "metadata": {
    "ExecuteTime": {
     "end_time": "2019-11-23T13:34:33.139386Z",
     "start_time": "2019-11-23T13:34:33.124446Z"
    }
   },
   "outputs": [
    {
     "data": {
      "text/html": [
       "<div>\n",
       "<style scoped>\n",
       "    .dataframe tbody tr th:only-of-type {\n",
       "        vertical-align: middle;\n",
       "    }\n",
       "\n",
       "    .dataframe tbody tr th {\n",
       "        vertical-align: top;\n",
       "    }\n",
       "\n",
       "    .dataframe thead th {\n",
       "        text-align: right;\n",
       "    }\n",
       "</style>\n",
       "<table border=\"1\" class=\"dataframe\">\n",
       "  <thead>\n",
       "    <tr style=\"text-align: right;\">\n",
       "      <th></th>\n",
       "      <th>y_pred</th>\n",
       "    </tr>\n",
       "  </thead>\n",
       "  <tbody>\n",
       "    <tr>\n",
       "      <th>0</th>\n",
       "      <td>0</td>\n",
       "    </tr>\n",
       "    <tr>\n",
       "      <th>1</th>\n",
       "      <td>1</td>\n",
       "    </tr>\n",
       "    <tr>\n",
       "      <th>2</th>\n",
       "      <td>0</td>\n",
       "    </tr>\n",
       "    <tr>\n",
       "      <th>3</th>\n",
       "      <td>0</td>\n",
       "    </tr>\n",
       "    <tr>\n",
       "      <th>4</th>\n",
       "      <td>1</td>\n",
       "    </tr>\n",
       "  </tbody>\n",
       "</table>\n",
       "</div>"
      ],
      "text/plain": [
       "   y_pred\n",
       "0       0\n",
       "1       1\n",
       "2       0\n",
       "3       0\n",
       "4       1"
      ]
     },
     "execution_count": 23,
     "metadata": {},
     "output_type": "execute_result"
    }
   ],
   "source": [
    "dataset.head()"
   ]
  },
  {
   "cell_type": "code",
   "execution_count": 24,
   "metadata": {
    "ExecuteTime": {
     "end_time": "2019-11-23T13:34:33.187785Z",
     "start_time": "2019-11-23T13:34:33.142453Z"
    }
   },
   "outputs": [
    {
     "data": {
      "text/html": [
       "<div>\n",
       "<style scoped>\n",
       "    .dataframe tbody tr th:only-of-type {\n",
       "        vertical-align: middle;\n",
       "    }\n",
       "\n",
       "    .dataframe tbody tr th {\n",
       "        vertical-align: top;\n",
       "    }\n",
       "\n",
       "    .dataframe thead th {\n",
       "        text-align: right;\n",
       "    }\n",
       "</style>\n",
       "<table border=\"1\" class=\"dataframe\">\n",
       "  <thead>\n",
       "    <tr style=\"text-align: right;\">\n",
       "      <th></th>\n",
       "      <th>CIVIC_PARTICIPATION_2016_0.0</th>\n",
       "      <th>CIVIC_PARTICIPATION_2016_1.0</th>\n",
       "      <th>CIVIC_PARTICIPATION_2016_2.0</th>\n",
       "      <th>CIVIC_PARTICIPATION_2016_3.0</th>\n",
       "      <th>CIVIC_PARTICIPATION_2016_4.0</th>\n",
       "      <th>CIVIC_PARTICIPATION_2016_5.0</th>\n",
       "      <th>CIVIC_PARTICIPATION_2016_6.0</th>\n",
       "      <th>pew_churatd_2016_0.0</th>\n",
       "      <th>pew_churatd_2016_1.0</th>\n",
       "      <th>pew_churatd_2016_2.0</th>\n",
       "      <th>...</th>\n",
       "      <th>religpew_2016_2.0</th>\n",
       "      <th>religpew_2016_3.0</th>\n",
       "      <th>religpew_2016_4.0</th>\n",
       "      <th>religpew_2016_5.0</th>\n",
       "      <th>religpew_2016_6.0</th>\n",
       "      <th>religpew_2016_7.0</th>\n",
       "      <th>religpew_2016_8.0</th>\n",
       "      <th>religpew_2016_9.0</th>\n",
       "      <th>presvote16post_2016</th>\n",
       "      <th>y_pred</th>\n",
       "    </tr>\n",
       "  </thead>\n",
       "  <tbody>\n",
       "    <tr>\n",
       "      <th>0</th>\n",
       "      <td>0</td>\n",
       "      <td>0</td>\n",
       "      <td>0</td>\n",
       "      <td>1</td>\n",
       "      <td>0</td>\n",
       "      <td>0</td>\n",
       "      <td>0</td>\n",
       "      <td>0</td>\n",
       "      <td>0</td>\n",
       "      <td>0</td>\n",
       "      <td>...</td>\n",
       "      <td>1</td>\n",
       "      <td>0</td>\n",
       "      <td>0</td>\n",
       "      <td>0</td>\n",
       "      <td>0</td>\n",
       "      <td>0</td>\n",
       "      <td>0</td>\n",
       "      <td>0</td>\n",
       "      <td>1.0</td>\n",
       "      <td>0</td>\n",
       "    </tr>\n",
       "    <tr>\n",
       "      <th>1</th>\n",
       "      <td>0</td>\n",
       "      <td>0</td>\n",
       "      <td>0</td>\n",
       "      <td>0</td>\n",
       "      <td>0</td>\n",
       "      <td>1</td>\n",
       "      <td>0</td>\n",
       "      <td>0</td>\n",
       "      <td>1</td>\n",
       "      <td>0</td>\n",
       "      <td>...</td>\n",
       "      <td>0</td>\n",
       "      <td>1</td>\n",
       "      <td>0</td>\n",
       "      <td>0</td>\n",
       "      <td>0</td>\n",
       "      <td>0</td>\n",
       "      <td>0</td>\n",
       "      <td>0</td>\n",
       "      <td>2.0</td>\n",
       "      <td>1</td>\n",
       "    </tr>\n",
       "    <tr>\n",
       "      <th>2</th>\n",
       "      <td>0</td>\n",
       "      <td>0</td>\n",
       "      <td>0</td>\n",
       "      <td>0</td>\n",
       "      <td>0</td>\n",
       "      <td>0</td>\n",
       "      <td>1</td>\n",
       "      <td>0</td>\n",
       "      <td>0</td>\n",
       "      <td>0</td>\n",
       "      <td>...</td>\n",
       "      <td>1</td>\n",
       "      <td>0</td>\n",
       "      <td>0</td>\n",
       "      <td>0</td>\n",
       "      <td>0</td>\n",
       "      <td>0</td>\n",
       "      <td>0</td>\n",
       "      <td>0</td>\n",
       "      <td>1.0</td>\n",
       "      <td>0</td>\n",
       "    </tr>\n",
       "    <tr>\n",
       "      <th>3</th>\n",
       "      <td>0</td>\n",
       "      <td>0</td>\n",
       "      <td>0</td>\n",
       "      <td>0</td>\n",
       "      <td>0</td>\n",
       "      <td>1</td>\n",
       "      <td>0</td>\n",
       "      <td>0</td>\n",
       "      <td>0</td>\n",
       "      <td>0</td>\n",
       "      <td>...</td>\n",
       "      <td>0</td>\n",
       "      <td>0</td>\n",
       "      <td>0</td>\n",
       "      <td>0</td>\n",
       "      <td>0</td>\n",
       "      <td>0</td>\n",
       "      <td>0</td>\n",
       "      <td>0</td>\n",
       "      <td>3.0</td>\n",
       "      <td>0</td>\n",
       "    </tr>\n",
       "    <tr>\n",
       "      <th>4</th>\n",
       "      <td>0</td>\n",
       "      <td>0</td>\n",
       "      <td>0</td>\n",
       "      <td>0</td>\n",
       "      <td>1</td>\n",
       "      <td>0</td>\n",
       "      <td>0</td>\n",
       "      <td>0</td>\n",
       "      <td>1</td>\n",
       "      <td>0</td>\n",
       "      <td>...</td>\n",
       "      <td>0</td>\n",
       "      <td>1</td>\n",
       "      <td>0</td>\n",
       "      <td>0</td>\n",
       "      <td>0</td>\n",
       "      <td>0</td>\n",
       "      <td>0</td>\n",
       "      <td>0</td>\n",
       "      <td>2.0</td>\n",
       "      <td>1</td>\n",
       "    </tr>\n",
       "    <tr>\n",
       "      <th>5</th>\n",
       "      <td>0</td>\n",
       "      <td>0</td>\n",
       "      <td>0</td>\n",
       "      <td>0</td>\n",
       "      <td>0</td>\n",
       "      <td>0</td>\n",
       "      <td>1</td>\n",
       "      <td>0</td>\n",
       "      <td>0</td>\n",
       "      <td>0</td>\n",
       "      <td>...</td>\n",
       "      <td>0</td>\n",
       "      <td>0</td>\n",
       "      <td>0</td>\n",
       "      <td>0</td>\n",
       "      <td>0</td>\n",
       "      <td>0</td>\n",
       "      <td>0</td>\n",
       "      <td>0</td>\n",
       "      <td>1.0</td>\n",
       "      <td>0</td>\n",
       "    </tr>\n",
       "    <tr>\n",
       "      <th>6</th>\n",
       "      <td>0</td>\n",
       "      <td>0</td>\n",
       "      <td>0</td>\n",
       "      <td>0</td>\n",
       "      <td>0</td>\n",
       "      <td>1</td>\n",
       "      <td>0</td>\n",
       "      <td>0</td>\n",
       "      <td>1</td>\n",
       "      <td>0</td>\n",
       "      <td>...</td>\n",
       "      <td>0</td>\n",
       "      <td>0</td>\n",
       "      <td>0</td>\n",
       "      <td>0</td>\n",
       "      <td>0</td>\n",
       "      <td>0</td>\n",
       "      <td>0</td>\n",
       "      <td>0</td>\n",
       "      <td>1.0</td>\n",
       "      <td>1</td>\n",
       "    </tr>\n",
       "    <tr>\n",
       "      <th>7</th>\n",
       "      <td>0</td>\n",
       "      <td>0</td>\n",
       "      <td>0</td>\n",
       "      <td>0</td>\n",
       "      <td>0</td>\n",
       "      <td>1</td>\n",
       "      <td>0</td>\n",
       "      <td>0</td>\n",
       "      <td>0</td>\n",
       "      <td>0</td>\n",
       "      <td>...</td>\n",
       "      <td>0</td>\n",
       "      <td>0</td>\n",
       "      <td>0</td>\n",
       "      <td>0</td>\n",
       "      <td>0</td>\n",
       "      <td>0</td>\n",
       "      <td>0</td>\n",
       "      <td>0</td>\n",
       "      <td>2.0</td>\n",
       "      <td>0</td>\n",
       "    </tr>\n",
       "    <tr>\n",
       "      <th>8</th>\n",
       "      <td>0</td>\n",
       "      <td>0</td>\n",
       "      <td>0</td>\n",
       "      <td>0</td>\n",
       "      <td>0</td>\n",
       "      <td>0</td>\n",
       "      <td>1</td>\n",
       "      <td>0</td>\n",
       "      <td>0</td>\n",
       "      <td>0</td>\n",
       "      <td>...</td>\n",
       "      <td>0</td>\n",
       "      <td>0</td>\n",
       "      <td>0</td>\n",
       "      <td>0</td>\n",
       "      <td>0</td>\n",
       "      <td>0</td>\n",
       "      <td>0</td>\n",
       "      <td>1</td>\n",
       "      <td>1.0</td>\n",
       "      <td>0</td>\n",
       "    </tr>\n",
       "    <tr>\n",
       "      <th>9</th>\n",
       "      <td>0</td>\n",
       "      <td>0</td>\n",
       "      <td>0</td>\n",
       "      <td>0</td>\n",
       "      <td>0</td>\n",
       "      <td>1</td>\n",
       "      <td>0</td>\n",
       "      <td>0</td>\n",
       "      <td>0</td>\n",
       "      <td>0</td>\n",
       "      <td>...</td>\n",
       "      <td>0</td>\n",
       "      <td>0</td>\n",
       "      <td>0</td>\n",
       "      <td>0</td>\n",
       "      <td>0</td>\n",
       "      <td>0</td>\n",
       "      <td>0</td>\n",
       "      <td>1</td>\n",
       "      <td>1.0</td>\n",
       "      <td>0</td>\n",
       "    </tr>\n",
       "  </tbody>\n",
       "</table>\n",
       "<p>10 rows × 46 columns</p>\n",
       "</div>"
      ],
      "text/plain": [
       "   CIVIC_PARTICIPATION_2016_0.0  CIVIC_PARTICIPATION_2016_1.0  \\\n",
       "0                             0                             0   \n",
       "1                             0                             0   \n",
       "2                             0                             0   \n",
       "3                             0                             0   \n",
       "4                             0                             0   \n",
       "5                             0                             0   \n",
       "6                             0                             0   \n",
       "7                             0                             0   \n",
       "8                             0                             0   \n",
       "9                             0                             0   \n",
       "\n",
       "   CIVIC_PARTICIPATION_2016_2.0  CIVIC_PARTICIPATION_2016_3.0  \\\n",
       "0                             0                             1   \n",
       "1                             0                             0   \n",
       "2                             0                             0   \n",
       "3                             0                             0   \n",
       "4                             0                             0   \n",
       "5                             0                             0   \n",
       "6                             0                             0   \n",
       "7                             0                             0   \n",
       "8                             0                             0   \n",
       "9                             0                             0   \n",
       "\n",
       "   CIVIC_PARTICIPATION_2016_4.0  CIVIC_PARTICIPATION_2016_5.0  \\\n",
       "0                             0                             0   \n",
       "1                             0                             1   \n",
       "2                             0                             0   \n",
       "3                             0                             1   \n",
       "4                             1                             0   \n",
       "5                             0                             0   \n",
       "6                             0                             1   \n",
       "7                             0                             1   \n",
       "8                             0                             0   \n",
       "9                             0                             1   \n",
       "\n",
       "   CIVIC_PARTICIPATION_2016_6.0  pew_churatd_2016_0.0  pew_churatd_2016_1.0  \\\n",
       "0                             0                     0                     0   \n",
       "1                             0                     0                     1   \n",
       "2                             1                     0                     0   \n",
       "3                             0                     0                     0   \n",
       "4                             0                     0                     1   \n",
       "5                             1                     0                     0   \n",
       "6                             0                     0                     1   \n",
       "7                             0                     0                     0   \n",
       "8                             1                     0                     0   \n",
       "9                             0                     0                     0   \n",
       "\n",
       "   pew_churatd_2016_2.0  ...  religpew_2016_2.0  religpew_2016_3.0  \\\n",
       "0                     0  ...                  1                  0   \n",
       "1                     0  ...                  0                  1   \n",
       "2                     0  ...                  1                  0   \n",
       "3                     0  ...                  0                  0   \n",
       "4                     0  ...                  0                  1   \n",
       "5                     0  ...                  0                  0   \n",
       "6                     0  ...                  0                  0   \n",
       "7                     0  ...                  0                  0   \n",
       "8                     0  ...                  0                  0   \n",
       "9                     0  ...                  0                  0   \n",
       "\n",
       "   religpew_2016_4.0  religpew_2016_5.0  religpew_2016_6.0  religpew_2016_7.0  \\\n",
       "0                  0                  0                  0                  0   \n",
       "1                  0                  0                  0                  0   \n",
       "2                  0                  0                  0                  0   \n",
       "3                  0                  0                  0                  0   \n",
       "4                  0                  0                  0                  0   \n",
       "5                  0                  0                  0                  0   \n",
       "6                  0                  0                  0                  0   \n",
       "7                  0                  0                  0                  0   \n",
       "8                  0                  0                  0                  0   \n",
       "9                  0                  0                  0                  0   \n",
       "\n",
       "   religpew_2016_8.0  religpew_2016_9.0  presvote16post_2016  y_pred  \n",
       "0                  0                  0                  1.0       0  \n",
       "1                  0                  0                  2.0       1  \n",
       "2                  0                  0                  1.0       0  \n",
       "3                  0                  0                  3.0       0  \n",
       "4                  0                  0                  2.0       1  \n",
       "5                  0                  0                  1.0       0  \n",
       "6                  0                  0                  1.0       1  \n",
       "7                  0                  0                  2.0       0  \n",
       "8                  0                  1                  1.0       0  \n",
       "9                  0                  1                  1.0       0  \n",
       "\n",
       "[10 rows x 46 columns]"
      ]
     },
     "execution_count": 24,
     "metadata": {},
     "output_type": "execute_result"
    }
   ],
   "source": [
    "target_pred_df = df_predictors.join(df_target).join(dataset)\n",
    "target_pred_df.head(10)"
   ]
  },
  {
   "cell_type": "code",
   "execution_count": 66,
   "metadata": {
    "ExecuteTime": {
     "end_time": "2019-11-23T13:35:56.248142Z",
     "start_time": "2019-11-23T13:35:56.130044Z"
    }
   },
   "outputs": [
    {
     "name": "stdout",
     "output_type": "stream",
     "text": [
      "1561\n"
     ]
    }
   ],
   "source": [
    "count = 0\n",
    "for row in target_pred_df.itertuples():\n",
    "    if (row.presvote16post_2016 == 2) and (row.y_pred == 0):\n",
    "        count +=1\n",
    "print(count)\n"
   ]
  },
  {
   "cell_type": "markdown",
   "metadata": {},
   "source": [
    "## Logistic regression"
   ]
  },
  {
   "cell_type": "code",
   "execution_count": 26,
   "metadata": {
    "ExecuteTime": {
     "end_time": "2019-11-23T13:34:33.295819Z",
     "start_time": "2019-11-23T13:34:33.289900Z"
    }
   },
   "outputs": [],
   "source": [
    "from sklearn.linear_model import LogisticRegression\n",
    "from sklearn.metrics import confusion_matrix"
   ]
  },
  {
   "cell_type": "code",
   "execution_count": 27,
   "metadata": {
    "ExecuteTime": {
     "end_time": "2019-11-23T13:34:33.327284Z",
     "start_time": "2019-11-23T13:34:33.298610Z"
    }
   },
   "outputs": [
    {
     "data": {
      "text/html": [
       "<div>\n",
       "<style scoped>\n",
       "    .dataframe tbody tr th:only-of-type {\n",
       "        vertical-align: middle;\n",
       "    }\n",
       "\n",
       "    .dataframe tbody tr th {\n",
       "        vertical-align: top;\n",
       "    }\n",
       "\n",
       "    .dataframe thead th {\n",
       "        text-align: right;\n",
       "    }\n",
       "</style>\n",
       "<table border=\"1\" class=\"dataframe\">\n",
       "  <thead>\n",
       "    <tr style=\"text-align: right;\">\n",
       "      <th></th>\n",
       "      <th>CIVIC_PARTICIPATION_2016_0.0</th>\n",
       "      <th>CIVIC_PARTICIPATION_2016_1.0</th>\n",
       "      <th>CIVIC_PARTICIPATION_2016_2.0</th>\n",
       "      <th>CIVIC_PARTICIPATION_2016_3.0</th>\n",
       "      <th>CIVIC_PARTICIPATION_2016_4.0</th>\n",
       "      <th>CIVIC_PARTICIPATION_2016_5.0</th>\n",
       "      <th>CIVIC_PARTICIPATION_2016_6.0</th>\n",
       "      <th>pew_churatd_2016_0.0</th>\n",
       "      <th>pew_churatd_2016_1.0</th>\n",
       "      <th>pew_churatd_2016_2.0</th>\n",
       "      <th>...</th>\n",
       "      <th>religpew_2016_11.0</th>\n",
       "      <th>religpew_2016_12.0</th>\n",
       "      <th>religpew_2016_2.0</th>\n",
       "      <th>religpew_2016_3.0</th>\n",
       "      <th>religpew_2016_4.0</th>\n",
       "      <th>religpew_2016_5.0</th>\n",
       "      <th>religpew_2016_6.0</th>\n",
       "      <th>religpew_2016_7.0</th>\n",
       "      <th>religpew_2016_8.0</th>\n",
       "      <th>religpew_2016_9.0</th>\n",
       "    </tr>\n",
       "  </thead>\n",
       "  <tbody>\n",
       "    <tr>\n",
       "      <th>0</th>\n",
       "      <td>0</td>\n",
       "      <td>0</td>\n",
       "      <td>0</td>\n",
       "      <td>1</td>\n",
       "      <td>0</td>\n",
       "      <td>0</td>\n",
       "      <td>0</td>\n",
       "      <td>0</td>\n",
       "      <td>0</td>\n",
       "      <td>0</td>\n",
       "      <td>...</td>\n",
       "      <td>0</td>\n",
       "      <td>0</td>\n",
       "      <td>1</td>\n",
       "      <td>0</td>\n",
       "      <td>0</td>\n",
       "      <td>0</td>\n",
       "      <td>0</td>\n",
       "      <td>0</td>\n",
       "      <td>0</td>\n",
       "      <td>0</td>\n",
       "    </tr>\n",
       "    <tr>\n",
       "      <th>1</th>\n",
       "      <td>0</td>\n",
       "      <td>0</td>\n",
       "      <td>0</td>\n",
       "      <td>0</td>\n",
       "      <td>0</td>\n",
       "      <td>1</td>\n",
       "      <td>0</td>\n",
       "      <td>0</td>\n",
       "      <td>1</td>\n",
       "      <td>0</td>\n",
       "      <td>...</td>\n",
       "      <td>0</td>\n",
       "      <td>0</td>\n",
       "      <td>0</td>\n",
       "      <td>1</td>\n",
       "      <td>0</td>\n",
       "      <td>0</td>\n",
       "      <td>0</td>\n",
       "      <td>0</td>\n",
       "      <td>0</td>\n",
       "      <td>0</td>\n",
       "    </tr>\n",
       "    <tr>\n",
       "      <th>2</th>\n",
       "      <td>0</td>\n",
       "      <td>0</td>\n",
       "      <td>0</td>\n",
       "      <td>0</td>\n",
       "      <td>0</td>\n",
       "      <td>0</td>\n",
       "      <td>1</td>\n",
       "      <td>0</td>\n",
       "      <td>0</td>\n",
       "      <td>0</td>\n",
       "      <td>...</td>\n",
       "      <td>0</td>\n",
       "      <td>0</td>\n",
       "      <td>1</td>\n",
       "      <td>0</td>\n",
       "      <td>0</td>\n",
       "      <td>0</td>\n",
       "      <td>0</td>\n",
       "      <td>0</td>\n",
       "      <td>0</td>\n",
       "      <td>0</td>\n",
       "    </tr>\n",
       "    <tr>\n",
       "      <th>3</th>\n",
       "      <td>0</td>\n",
       "      <td>0</td>\n",
       "      <td>0</td>\n",
       "      <td>0</td>\n",
       "      <td>0</td>\n",
       "      <td>1</td>\n",
       "      <td>0</td>\n",
       "      <td>0</td>\n",
       "      <td>0</td>\n",
       "      <td>0</td>\n",
       "      <td>...</td>\n",
       "      <td>1</td>\n",
       "      <td>0</td>\n",
       "      <td>0</td>\n",
       "      <td>0</td>\n",
       "      <td>0</td>\n",
       "      <td>0</td>\n",
       "      <td>0</td>\n",
       "      <td>0</td>\n",
       "      <td>0</td>\n",
       "      <td>0</td>\n",
       "    </tr>\n",
       "    <tr>\n",
       "      <th>4</th>\n",
       "      <td>0</td>\n",
       "      <td>0</td>\n",
       "      <td>0</td>\n",
       "      <td>0</td>\n",
       "      <td>1</td>\n",
       "      <td>0</td>\n",
       "      <td>0</td>\n",
       "      <td>0</td>\n",
       "      <td>1</td>\n",
       "      <td>0</td>\n",
       "      <td>...</td>\n",
       "      <td>0</td>\n",
       "      <td>0</td>\n",
       "      <td>0</td>\n",
       "      <td>1</td>\n",
       "      <td>0</td>\n",
       "      <td>0</td>\n",
       "      <td>0</td>\n",
       "      <td>0</td>\n",
       "      <td>0</td>\n",
       "      <td>0</td>\n",
       "    </tr>\n",
       "  </tbody>\n",
       "</table>\n",
       "<p>5 rows × 44 columns</p>\n",
       "</div>"
      ],
      "text/plain": [
       "   CIVIC_PARTICIPATION_2016_0.0  CIVIC_PARTICIPATION_2016_1.0  \\\n",
       "0                             0                             0   \n",
       "1                             0                             0   \n",
       "2                             0                             0   \n",
       "3                             0                             0   \n",
       "4                             0                             0   \n",
       "\n",
       "   CIVIC_PARTICIPATION_2016_2.0  CIVIC_PARTICIPATION_2016_3.0  \\\n",
       "0                             0                             1   \n",
       "1                             0                             0   \n",
       "2                             0                             0   \n",
       "3                             0                             0   \n",
       "4                             0                             0   \n",
       "\n",
       "   CIVIC_PARTICIPATION_2016_4.0  CIVIC_PARTICIPATION_2016_5.0  \\\n",
       "0                             0                             0   \n",
       "1                             0                             1   \n",
       "2                             0                             0   \n",
       "3                             0                             1   \n",
       "4                             1                             0   \n",
       "\n",
       "   CIVIC_PARTICIPATION_2016_6.0  pew_churatd_2016_0.0  pew_churatd_2016_1.0  \\\n",
       "0                             0                     0                     0   \n",
       "1                             0                     0                     1   \n",
       "2                             1                     0                     0   \n",
       "3                             0                     0                     0   \n",
       "4                             0                     0                     1   \n",
       "\n",
       "   pew_churatd_2016_2.0  ...  religpew_2016_11.0  religpew_2016_12.0  \\\n",
       "0                     0  ...                   0                   0   \n",
       "1                     0  ...                   0                   0   \n",
       "2                     0  ...                   0                   0   \n",
       "3                     0  ...                   1                   0   \n",
       "4                     0  ...                   0                   0   \n",
       "\n",
       "   religpew_2016_2.0  religpew_2016_3.0  religpew_2016_4.0  religpew_2016_5.0  \\\n",
       "0                  1                  0                  0                  0   \n",
       "1                  0                  1                  0                  0   \n",
       "2                  1                  0                  0                  0   \n",
       "3                  0                  0                  0                  0   \n",
       "4                  0                  1                  0                  0   \n",
       "\n",
       "   religpew_2016_6.0  religpew_2016_7.0  religpew_2016_8.0  religpew_2016_9.0  \n",
       "0                  0                  0                  0                  0  \n",
       "1                  0                  0                  0                  0  \n",
       "2                  0                  0                  0                  0  \n",
       "3                  0                  0                  0                  0  \n",
       "4                  0                  0                  0                  0  \n",
       "\n",
       "[5 rows x 44 columns]"
      ]
     },
     "execution_count": 27,
     "metadata": {},
     "output_type": "execute_result"
    }
   ],
   "source": [
    "X = df_predictors\n",
    "y = df_target\n",
    "X.head()"
   ]
  },
  {
   "cell_type": "code",
   "execution_count": 28,
   "metadata": {
    "ExecuteTime": {
     "end_time": "2019-11-23T13:34:33.362289Z",
     "start_time": "2019-11-23T13:34:33.334237Z"
    }
   },
   "outputs": [
    {
     "data": {
      "text/plain": [
       "presvote16post_2016    394\n",
       "dtype: int64"
      ]
     },
     "execution_count": 28,
     "metadata": {},
     "output_type": "execute_result"
    }
   ],
   "source": [
    "X.isna().sum().any()\n",
    "y.isna().sum()"
   ]
  },
  {
   "cell_type": "code",
   "execution_count": 29,
   "metadata": {
    "ExecuteTime": {
     "end_time": "2019-11-23T13:34:33.373095Z",
     "start_time": "2019-11-23T13:34:33.365506Z"
    }
   },
   "outputs": [],
   "source": [
    "y = y.fillna(0)\n",
    "y = np.ravel(y)"
   ]
  },
  {
   "cell_type": "code",
   "execution_count": 30,
   "metadata": {
    "ExecuteTime": {
     "end_time": "2019-11-23T13:34:33.399922Z",
     "start_time": "2019-11-23T13:34:33.379359Z"
    }
   },
   "outputs": [],
   "source": [
    "X_train, X_test, y_train, y_test = train_test_split(X, \n",
    "                                                    y,\n",
    "                                                    test_size = 0.2, \n",
    "                                                    stratify=y)"
   ]
  },
  {
   "cell_type": "code",
   "execution_count": 31,
   "metadata": {
    "ExecuteTime": {
     "end_time": "2019-11-23T13:34:34.670060Z",
     "start_time": "2019-11-23T13:34:33.403578Z"
    }
   },
   "outputs": [],
   "source": [
    "lr = LogisticRegression(C=2, penalty='l2', \n",
    "                        solver='lbfgs', \n",
    "                        multi_class='auto', \n",
    "                        max_iter=1000)\n",
    "lr.fit(X_train, y_train)\n",
    "y_pred_test = lr.predict(X_test)"
   ]
  },
  {
   "cell_type": "code",
   "execution_count": 32,
   "metadata": {
    "ExecuteTime": {
     "end_time": "2019-11-23T13:34:34.684798Z",
     "start_time": "2019-11-23T13:34:34.672561Z"
    }
   },
   "outputs": [
    {
     "data": {
      "text/plain": [
       "Index(['presvote16post_2016'], dtype='object')"
      ]
     },
     "execution_count": 32,
     "metadata": {},
     "output_type": "execute_result"
    }
   ],
   "source": [
    "df_target.columns"
   ]
  },
  {
   "cell_type": "code",
   "execution_count": 33,
   "metadata": {
    "ExecuteTime": {
     "end_time": "2019-11-23T13:34:34.728354Z",
     "start_time": "2019-11-23T13:34:34.691779Z"
    }
   },
   "outputs": [
    {
     "data": {
      "text/html": [
       "<div>\n",
       "<style scoped>\n",
       "    .dataframe tbody tr th:only-of-type {\n",
       "        vertical-align: middle;\n",
       "    }\n",
       "\n",
       "    .dataframe tbody tr th {\n",
       "        vertical-align: top;\n",
       "    }\n",
       "\n",
       "    .dataframe thead th {\n",
       "        text-align: right;\n",
       "    }\n",
       "</style>\n",
       "<table border=\"1\" class=\"dataframe\">\n",
       "  <thead>\n",
       "    <tr style=\"text-align: right;\">\n",
       "      <th></th>\n",
       "      <th>Pred None</th>\n",
       "      <th>Pred Clinton</th>\n",
       "      <th>Pred Trump</th>\n",
       "      <th>Pred Johnson</th>\n",
       "      <th>Pred Stein</th>\n",
       "      <th>Pred McMullin</th>\n",
       "      <th>Pred Other</th>\n",
       "      <th>Pred Did Not Vote</th>\n",
       "    </tr>\n",
       "  </thead>\n",
       "  <tbody>\n",
       "    <tr>\n",
       "      <th>None</th>\n",
       "      <td>0</td>\n",
       "      <td>32</td>\n",
       "      <td>47</td>\n",
       "      <td>0</td>\n",
       "      <td>0</td>\n",
       "      <td>0</td>\n",
       "      <td>0</td>\n",
       "      <td>0</td>\n",
       "    </tr>\n",
       "    <tr>\n",
       "      <th>Clinton</th>\n",
       "      <td>0</td>\n",
       "      <td>404</td>\n",
       "      <td>305</td>\n",
       "      <td>0</td>\n",
       "      <td>0</td>\n",
       "      <td>0</td>\n",
       "      <td>0</td>\n",
       "      <td>0</td>\n",
       "    </tr>\n",
       "    <tr>\n",
       "      <th>Trump</th>\n",
       "      <td>0</td>\n",
       "      <td>212</td>\n",
       "      <td>484</td>\n",
       "      <td>0</td>\n",
       "      <td>0</td>\n",
       "      <td>0</td>\n",
       "      <td>0</td>\n",
       "      <td>0</td>\n",
       "    </tr>\n",
       "    <tr>\n",
       "      <th>Johnson</th>\n",
       "      <td>0</td>\n",
       "      <td>21</td>\n",
       "      <td>25</td>\n",
       "      <td>0</td>\n",
       "      <td>0</td>\n",
       "      <td>0</td>\n",
       "      <td>0</td>\n",
       "      <td>0</td>\n",
       "    </tr>\n",
       "    <tr>\n",
       "      <th>Stein</th>\n",
       "      <td>0</td>\n",
       "      <td>17</td>\n",
       "      <td>5</td>\n",
       "      <td>0</td>\n",
       "      <td>0</td>\n",
       "      <td>0</td>\n",
       "      <td>0</td>\n",
       "      <td>0</td>\n",
       "    </tr>\n",
       "    <tr>\n",
       "      <th>McMullin</th>\n",
       "      <td>0</td>\n",
       "      <td>0</td>\n",
       "      <td>5</td>\n",
       "      <td>0</td>\n",
       "      <td>0</td>\n",
       "      <td>0</td>\n",
       "      <td>0</td>\n",
       "      <td>0</td>\n",
       "    </tr>\n",
       "    <tr>\n",
       "      <th>Other</th>\n",
       "      <td>0</td>\n",
       "      <td>14</td>\n",
       "      <td>22</td>\n",
       "      <td>0</td>\n",
       "      <td>0</td>\n",
       "      <td>0</td>\n",
       "      <td>0</td>\n",
       "      <td>0</td>\n",
       "    </tr>\n",
       "    <tr>\n",
       "      <th>Did not vote</th>\n",
       "      <td>0</td>\n",
       "      <td>2</td>\n",
       "      <td>5</td>\n",
       "      <td>0</td>\n",
       "      <td>0</td>\n",
       "      <td>0</td>\n",
       "      <td>0</td>\n",
       "      <td>0</td>\n",
       "    </tr>\n",
       "  </tbody>\n",
       "</table>\n",
       "</div>"
      ],
      "text/plain": [
       "              Pred None  Pred Clinton  Pred Trump  Pred Johnson  Pred Stein  \\\n",
       "None                  0            32          47             0           0   \n",
       "Clinton               0           404         305             0           0   \n",
       "Trump                 0           212         484             0           0   \n",
       "Johnson               0            21          25             0           0   \n",
       "Stein                 0            17           5             0           0   \n",
       "McMullin              0             0           5             0           0   \n",
       "Other                 0            14          22             0           0   \n",
       "Did not vote          0             2           5             0           0   \n",
       "\n",
       "              Pred McMullin  Pred Other  Pred Did Not Vote  \n",
       "None                      0           0                  0  \n",
       "Clinton                   0           0                  0  \n",
       "Trump                     0           0                  0  \n",
       "Johnson                   0           0                  0  \n",
       "Stein                     0           0                  0  \n",
       "McMullin                  0           0                  0  \n",
       "Other                     0           0                  0  \n",
       "Did not vote              0           0                  0  "
      ]
     },
     "execution_count": 33,
     "metadata": {},
     "output_type": "execute_result"
    }
   ],
   "source": [
    "cm = confusion_matrix(y_test, y_pred_test)\n",
    "conf_matrix = pd.DataFrame(cm, index=['None','Clinton','Trump','Johnson','Stein','McMullin','Other','Did not vote'], \n",
    "                           columns=['Pred None','Pred Clinton','Pred Trump','Pred Johnson','Pred Stein','Pred McMullin','Pred Other','Pred Did Not Vote'])\n",
    "\n",
    "\n",
    "conf_matrix"
   ]
  },
  {
   "cell_type": "code",
   "execution_count": 34,
   "metadata": {
    "ExecuteTime": {
     "end_time": "2019-11-23T13:34:34.747199Z",
     "start_time": "2019-11-23T13:34:34.735298Z"
    }
   },
   "outputs": [
    {
     "data": {
      "text/plain": [
       "0.5698166431593794"
      ]
     },
     "execution_count": 34,
     "metadata": {},
     "output_type": "execute_result"
    }
   ],
   "source": [
    "# correct Clinton\n",
    "correct = cm[1][1]\n",
    "total = sum(cm[1])\n",
    "pred_correct = correct/total\n",
    "pred_correct"
   ]
  },
  {
   "cell_type": "code",
   "execution_count": 35,
   "metadata": {
    "ExecuteTime": {
     "end_time": "2019-11-23T13:34:34.763522Z",
     "start_time": "2019-11-23T13:34:34.750707Z"
    }
   },
   "outputs": [
    {
     "data": {
      "text/plain": [
       "0.6954022988505747"
      ]
     },
     "execution_count": 35,
     "metadata": {},
     "output_type": "execute_result"
    }
   ],
   "source": [
    "# correct Trump\n",
    "correct = cm[2][2]\n",
    "total = sum(cm[2])\n",
    "pred_correct = correct/total\n",
    "pred_correct"
   ]
  },
  {
   "cell_type": "code",
   "execution_count": 36,
   "metadata": {
    "ExecuteTime": {
     "end_time": "2019-11-23T13:34:34.772999Z",
     "start_time": "2019-11-23T13:34:34.765922Z"
    }
   },
   "outputs": [
    {
     "data": {
      "text/plain": [
       "44"
      ]
     },
     "execution_count": 36,
     "metadata": {},
     "output_type": "execute_result"
    }
   ],
   "source": [
    "len(lr.coef_[1])"
   ]
  },
  {
   "cell_type": "code",
   "execution_count": 67,
   "metadata": {
    "ExecuteTime": {
     "end_time": "2019-11-23T13:42:18.725963Z",
     "start_time": "2019-11-23T13:42:18.711577Z"
    }
   },
   "outputs": [
    {
     "data": {
      "text/plain": [
       "{'CIVIC_PARTICIPATION_2016_0.0': array([-0.33010624, -0.18743568,  0.11063539, -0.25555235, -0.41793052,\n",
       "         0.18848342,  0.89647006, -0.18498262, -0.59156265, -0.66877742,\n",
       "        -0.09067526, -0.1145303 ,  0.27349647,  0.36037441,  1.02122144,\n",
       "         0.04392665,  0.01701008,  0.16052895, -0.2169016 ,  0.74432188,\n",
       "        -0.19518568, -0.54457212,  0.66295802, -0.10204485,  0.20793895,\n",
       "         0.0946678 , -0.00935901, -0.47937586, -0.02479795, -0.08300816,\n",
       "        -0.26241486, -0.46875211,  0.08670494, -0.2382971 ,  0.09104182,\n",
       "        -0.42347507,  0.11020984,  0.0121663 , -0.69252863,  0.46624027,\n",
       "         1.33020661, -0.51163675,  0.70641451, -0.46373056]),\n",
       " 'CIVIC_PARTICIPATION_2016_1.0': array([-0.08041317, -0.00612245,  0.09356531,  0.13642211,  0.07781282,\n",
       "        -0.0911656 , -0.16728524,  0.80181845, -0.40842121, -0.31506129,\n",
       "        -0.1549199 , -0.10472403,  0.10416603,  0.16019172, -0.12023599,\n",
       "         0.02195438, -0.22105905,  0.18972515, -0.02780669,  0.29371468,\n",
       "        -0.40832186,  0.07742097, -0.12897822, -0.14711342,  0.26224532,\n",
       "         0.10224009,  0.19719042, -0.01858547,  0.03112612,  0.03978508,\n",
       "        -0.37509612, -0.01259225, -0.14484369,  0.06277781, -0.26010513,\n",
       "        -0.38992033, -0.37356505, -1.32636379, -0.10414133,  0.81006975,\n",
       "         0.47572728,  0.2434558 ,  0.53221325,  0.45010147]),\n",
       " 'CIVIC_PARTICIPATION_2016_2.0': array([ 7.93231528e-02,  5.82800380e-02, -8.82917496e-02,  2.97573400e-04,\n",
       "        -1.60479838e-02, -3.36687595e-03, -5.10450817e-02, -3.43036089e-01,\n",
       "        -5.76052754e-02, -1.15257463e-01, -3.55592430e-01,  6.49014853e-02,\n",
       "         2.44308214e-01,  4.33148739e-01,  1.08281892e-01,  4.10077272e-01,\n",
       "         3.44641059e-05,  4.07646580e-02, -4.71727321e-01, -3.10863836e-01,\n",
       "         2.20954404e-01,  6.90585051e-02,  2.54960057e-01, -2.37388780e-01,\n",
       "         1.87310507e-01,  3.26865095e-02, -6.46060199e-03, -2.32669179e-02,\n",
       "         7.18524336e-02, -6.54324217e-02, -2.35111712e-01,  8.26422455e-01,\n",
       "         3.99096480e-01, -2.03873640e-01, -5.08335038e-03, -2.41750599e-01,\n",
       "         4.73034863e-01, -3.54949291e-01,  1.02573604e+00,  8.01659148e-01,\n",
       "        -1.32905474e+00, -5.99724276e-01, -5.36767713e-01, -2.75596300e-01]),\n",
       " 'CIVIC_PARTICIPATION_2016_3.0': array([ 0.46955958,  0.11601426, -0.12937235,  0.24476683, -0.15259198,\n",
       "         0.01662778, -0.55126783, -0.0976863 ,  0.09693829,  0.10064376,\n",
       "         0.27715422,  0.47061209,  0.28093518, -0.18183471, -0.93302623,\n",
       "        -0.44497219, -0.06867863,  0.43024677,  0.09714035, -0.20263966,\n",
       "         0.26012785, -0.04375189, -0.20877984, -0.24276013, -0.01566348,\n",
       "         0.08812204,  0.92420575,  0.02331332, -0.07909178,  0.14277353,\n",
       "        -0.61838311, -0.11314628, -0.11962165,  0.68716413,  0.12030269,\n",
       "         0.23945986,  0.16171222,  0.47161204,  0.59553648, -0.87058592,\n",
       "        -0.42409003, -0.96277867, -0.26925523,  0.49742666]),\n",
       " 'CIVIC_PARTICIPATION_2016_4.0': array([-0.4940671 , -0.59378446, -0.09825457,  0.09556447,  0.14462607,\n",
       "         0.36731167,  0.60007682, -0.02489386, -0.07378277, -0.11339161,\n",
       "         0.10442035,  0.15239747, -0.70526205,  0.05940717,  0.62257818,\n",
       "        -0.43639048,  0.0941689 , -0.13563428,  0.49932876, -0.22154953,\n",
       "        -0.13512001,  0.37814243, -0.28692148,  0.23810781,  0.10803896,\n",
       "         0.31860798, -0.86459414,  0.38922563, -0.10456448,  0.00823447,\n",
       "         0.21533813, -0.09129561, -0.73867407,  0.38661694, -0.12817943,\n",
       "         0.81482858, -0.25109883, -0.25029824, -0.30544435, -1.10534839,\n",
       "        -0.35246855,  1.53347816, -0.16317765,  0.67253433]),\n",
       " 'CIVIC_PARTICIPATION_2016_5.0': array([-0.22628571,  0.26901721, -0.00698566,  0.3028322 ,  0.10464539,\n",
       "        -0.37786621, -0.07961015, -0.00689289,  0.64533378,  0.56281739,\n",
       "         0.3761676 ,  0.05553374, -0.37578382, -1.15332627, -0.11810247,\n",
       "         0.34547355, -0.09845463, -0.61540004,  0.35412818, -0.01419108,\n",
       "        -0.19292932,  0.19286746, -0.01519854,  0.87070786, -0.18397414,\n",
       "        -0.75296295, -0.25048664,  0.66359614,  0.43116439, -0.48655761,\n",
       "        -0.29054145, -0.0097837 , -0.13394902, -0.28406064,  0.16705595,\n",
       "        -0.59305287, -0.79514719,  2.37238654, -0.07181526, -0.21649936,\n",
       "        -0.14583897, -0.13426587, -0.02933261, -0.13994994]),\n",
       " 'CIVIC_PARTICIPATION_2016_6.0': array([ 0.93348642, -0.22123647, -0.08153319, -0.1545549 , -0.12650836,\n",
       "        -0.23403044, -0.09932379, -0.1290374 ,  0.44699439,  0.45775695,\n",
       "         0.05996558,  0.00779288,  0.02888064,  0.15138305, -1.0074368 ,\n",
       "         0.25628023, -0.20701448,  0.15024056, -0.18320703, -0.13010529,\n",
       "         0.04278547,  0.1036191 , -0.20921615, -0.01277287, -0.07632554,\n",
       "        -0.12989679, -0.32039434, -0.02875605,  0.09541679,  0.36276321,\n",
       "         0.33548101, -0.10658861,  0.5303719 , -0.35570555, -0.24090267,\n",
       "         0.20494667,  0.31175128, -0.26615788, -0.37220624,  0.5752769 ,\n",
       "         0.56167333, -0.69207079, -0.18398767,  0.04989861]),\n",
       " 'pew_churatd_2016_0.0': array([-0.35149694,  0.56526757,  0.20023683, -0.36977594,  0.38599455,\n",
       "         0.13400625, -0.54801478, -0.0152893 , -0.05789455,  0.09126969,\n",
       "        -0.21652017, -0.53198333,  0.14925933,  0.17065588,  0.42671998,\n",
       "        -0.19634941,  0.48399335, -0.22047176, -0.05095465, -0.15868716,\n",
       "         0.40768915, -0.23278446, -0.06882385, -0.36673562, -0.48957057,\n",
       "         0.24653532,  0.32989856, -0.52615078, -0.42110553,  0.0814419 ,\n",
       "         1.23072811, -0.02426391,  0.12091511, -0.05462195,  0.25587012,\n",
       "         0.38896377,  0.36310287, -0.65839567, -0.07513672, -0.4608124 ,\n",
       "        -0.11615493,  1.1235424 , -0.05610688, -0.79068428])}"
      ]
     },
     "execution_count": 67,
     "metadata": {},
     "output_type": "execute_result"
    }
   ],
   "source": [
    "coef_dict = dict(zip(X.columns, lr.coef_))\n",
    "coef_dict"
   ]
  },
  {
   "cell_type": "markdown",
   "metadata": {},
   "source": [
    "## Feature importance"
   ]
  },
  {
   "cell_type": "code",
   "execution_count": 38,
   "metadata": {
    "ExecuteTime": {
     "end_time": "2019-11-23T13:35:07.152836Z",
     "start_time": "2019-11-23T13:34:34.786667Z"
    }
   },
   "outputs": [],
   "source": [
    "from sklearn.feature_selection import RFE\n",
    "predictors = X_train\n",
    "selector = RFE(lr, n_features_to_select=1)\n",
    "selector = selector.fit(predictors, y_train)"
   ]
  },
  {
   "cell_type": "code",
   "execution_count": 39,
   "metadata": {
    "ExecuteTime": {
     "end_time": "2019-11-23T13:35:07.166058Z",
     "start_time": "2019-11-23T13:35:07.156677Z"
    }
   },
   "outputs": [
    {
     "data": {
      "text/plain": [
       "44"
      ]
     },
     "execution_count": 39,
     "metadata": {},
     "output_type": "execute_result"
    }
   ],
   "source": [
    "len(X_train.columns)"
   ]
  },
  {
   "cell_type": "code",
   "execution_count": 40,
   "metadata": {
    "ExecuteTime": {
     "end_time": "2019-11-23T13:35:07.186942Z",
     "start_time": "2019-11-23T13:35:07.170824Z"
    }
   },
   "outputs": [
    {
     "data": {
      "text/plain": [
       "array([10, 25, 44, 32, 39, 36, 15, 28, 30, 31, 38, 37, 17,  5,  3,  8, 42,\n",
       "       20, 27, 19, 35, 23, 33, 24, 40, 18, 13, 26, 41, 34,  9, 29, 21, 11,\n",
       "       43, 12, 22,  1, 16,  6,  4,  2, 14,  7])"
      ]
     },
     "execution_count": 40,
     "metadata": {},
     "output_type": "execute_result"
    }
   ],
   "source": [
    "order = selector.ranking_\n",
    "len(order)\n",
    "order"
   ]
  },
  {
   "cell_type": "code",
   "execution_count": 41,
   "metadata": {
    "ExecuteTime": {
     "end_time": "2019-11-23T13:35:07.201135Z",
     "start_time": "2019-11-23T13:35:07.190291Z"
    }
   },
   "outputs": [
    {
     "data": {
      "text/plain": [
       "Index(['CIVIC_PARTICIPATION_2016_0.0', 'CIVIC_PARTICIPATION_2016_1.0',\n",
       "       'CIVIC_PARTICIPATION_2016_2.0', 'CIVIC_PARTICIPATION_2016_3.0',\n",
       "       'CIVIC_PARTICIPATION_2016_4.0', 'CIVIC_PARTICIPATION_2016_5.0',\n",
       "       'CIVIC_PARTICIPATION_2016_6.0', 'pew_churatd_2016_0.0',\n",
       "       'pew_churatd_2016_1.0', 'pew_churatd_2016_2.0', 'pew_churatd_2016_3.0',\n",
       "       'pew_churatd_2016_4.0', 'pew_churatd_2016_5.0', 'pew_churatd_2016_6.0',\n",
       "       'pew_churatd_2016_7.0', 'pew_religimp_2016_1', 'pew_religimp_2016_2',\n",
       "       'pew_religimp_2016_3', 'pew_religimp_2016_4', 'pew_bornagain_2016_0.0',\n",
       "       'pew_bornagain_2016_1.0', 'pew_bornagain_2016_2.0',\n",
       "       'pew_prayer_2016_0.0', 'pew_prayer_2016_1.0', 'pew_prayer_2016_2.0',\n",
       "       'pew_prayer_2016_3.0', 'pew_prayer_2016_4.0', 'pew_prayer_2016_5.0',\n",
       "       'pew_prayer_2016_6.0', 'pew_prayer_2016_7.0', 'pew_prayer_2016_8.0',\n",
       "       'religpew_2016_0.0', 'religpew_2016_1.0', 'religpew_2016_10.0',\n",
       "       'religpew_2016_11.0', 'religpew_2016_12.0', 'religpew_2016_2.0',\n",
       "       'religpew_2016_3.0', 'religpew_2016_4.0', 'religpew_2016_5.0',\n",
       "       'religpew_2016_6.0', 'religpew_2016_7.0', 'religpew_2016_8.0',\n",
       "       'religpew_2016_9.0'],\n",
       "      dtype='object')"
      ]
     },
     "execution_count": 41,
     "metadata": {},
     "output_type": "execute_result"
    }
   ],
   "source": [
    "df_predictors.columns"
   ]
  },
  {
   "cell_type": "code",
   "execution_count": 42,
   "metadata": {
    "ExecuteTime": {
     "end_time": "2019-11-23T13:35:10.998386Z",
     "start_time": "2019-11-23T13:35:07.210036Z"
    }
   },
   "outputs": [],
   "source": [
    "for i in df_predictors.index:\n",
    "    rank = np.array(order)\n",
    "    feat = np.array(df_predictors.columns)\n",
    "    rank_feat = pd.DataFrame(rank,feat, columns=['rank'])"
   ]
  },
  {
   "cell_type": "code",
   "execution_count": 72,
   "metadata": {
    "ExecuteTime": {
     "end_time": "2019-11-23T13:44:45.501840Z",
     "start_time": "2019-11-23T13:44:45.486356Z"
    }
   },
   "outputs": [
    {
     "data": {
      "text/html": [
       "<div>\n",
       "<style scoped>\n",
       "    .dataframe tbody tr th:only-of-type {\n",
       "        vertical-align: middle;\n",
       "    }\n",
       "\n",
       "    .dataframe tbody tr th {\n",
       "        vertical-align: top;\n",
       "    }\n",
       "\n",
       "    .dataframe thead th {\n",
       "        text-align: right;\n",
       "    }\n",
       "</style>\n",
       "<table border=\"1\" class=\"dataframe\">\n",
       "  <thead>\n",
       "    <tr style=\"text-align: right;\">\n",
       "      <th></th>\n",
       "      <th>rank</th>\n",
       "    </tr>\n",
       "  </thead>\n",
       "  <tbody>\n",
       "    <tr>\n",
       "      <th>religpew_2016_3.0</th>\n",
       "      <td>1</td>\n",
       "    </tr>\n",
       "    <tr>\n",
       "      <th>religpew_2016_7.0</th>\n",
       "      <td>2</td>\n",
       "    </tr>\n",
       "    <tr>\n",
       "      <th>pew_churatd_2016_7.0</th>\n",
       "      <td>3</td>\n",
       "    </tr>\n",
       "    <tr>\n",
       "      <th>religpew_2016_6.0</th>\n",
       "      <td>4</td>\n",
       "    </tr>\n",
       "    <tr>\n",
       "      <th>pew_churatd_2016_6.0</th>\n",
       "      <td>5</td>\n",
       "    </tr>\n",
       "    <tr>\n",
       "      <th>religpew_2016_5.0</th>\n",
       "      <td>6</td>\n",
       "    </tr>\n",
       "    <tr>\n",
       "      <th>religpew_2016_9.0</th>\n",
       "      <td>7</td>\n",
       "    </tr>\n",
       "    <tr>\n",
       "      <th>pew_religimp_2016_1</th>\n",
       "      <td>8</td>\n",
       "    </tr>\n",
       "    <tr>\n",
       "      <th>pew_prayer_2016_8.0</th>\n",
       "      <td>9</td>\n",
       "    </tr>\n",
       "    <tr>\n",
       "      <th>CIVIC_PARTICIPATION_2016_0.0</th>\n",
       "      <td>10</td>\n",
       "    </tr>\n",
       "    <tr>\n",
       "      <th>religpew_2016_10.0</th>\n",
       "      <td>11</td>\n",
       "    </tr>\n",
       "    <tr>\n",
       "      <th>religpew_2016_12.0</th>\n",
       "      <td>12</td>\n",
       "    </tr>\n",
       "    <tr>\n",
       "      <th>pew_prayer_2016_4.0</th>\n",
       "      <td>13</td>\n",
       "    </tr>\n",
       "    <tr>\n",
       "      <th>religpew_2016_8.0</th>\n",
       "      <td>14</td>\n",
       "    </tr>\n",
       "    <tr>\n",
       "      <th>CIVIC_PARTICIPATION_2016_6.0</th>\n",
       "      <td>15</td>\n",
       "    </tr>\n",
       "    <tr>\n",
       "      <th>religpew_2016_4.0</th>\n",
       "      <td>16</td>\n",
       "    </tr>\n",
       "    <tr>\n",
       "      <th>pew_churatd_2016_5.0</th>\n",
       "      <td>17</td>\n",
       "    </tr>\n",
       "    <tr>\n",
       "      <th>pew_prayer_2016_3.0</th>\n",
       "      <td>18</td>\n",
       "    </tr>\n",
       "    <tr>\n",
       "      <th>pew_bornagain_2016_0.0</th>\n",
       "      <td>19</td>\n",
       "    </tr>\n",
       "    <tr>\n",
       "      <th>pew_religimp_2016_3</th>\n",
       "      <td>20</td>\n",
       "    </tr>\n",
       "  </tbody>\n",
       "</table>\n",
       "</div>"
      ],
      "text/plain": [
       "                              rank\n",
       "religpew_2016_3.0                1\n",
       "religpew_2016_7.0                2\n",
       "pew_churatd_2016_7.0             3\n",
       "religpew_2016_6.0                4\n",
       "pew_churatd_2016_6.0             5\n",
       "religpew_2016_5.0                6\n",
       "religpew_2016_9.0                7\n",
       "pew_religimp_2016_1              8\n",
       "pew_prayer_2016_8.0              9\n",
       "CIVIC_PARTICIPATION_2016_0.0    10\n",
       "religpew_2016_10.0              11\n",
       "religpew_2016_12.0              12\n",
       "pew_prayer_2016_4.0             13\n",
       "religpew_2016_8.0               14\n",
       "CIVIC_PARTICIPATION_2016_6.0    15\n",
       "religpew_2016_4.0               16\n",
       "pew_churatd_2016_5.0            17\n",
       "pew_prayer_2016_3.0             18\n",
       "pew_bornagain_2016_0.0          19\n",
       "pew_religimp_2016_3             20"
      ]
     },
     "execution_count": 72,
     "metadata": {},
     "output_type": "execute_result"
    }
   ],
   "source": [
    "rank_feat.sort_values(by='rank').head(20)"
   ]
  },
  {
   "cell_type": "markdown",
   "metadata": {},
   "source": [
    "## Cross-validation"
   ]
  },
  {
   "cell_type": "code",
   "execution_count": 44,
   "metadata": {
    "ExecuteTime": {
     "end_time": "2019-11-23T13:35:11.040089Z",
     "start_time": "2019-11-23T13:35:11.022643Z"
    }
   },
   "outputs": [],
   "source": [
    "from sklearn.model_selection import cross_val_score"
   ]
  },
  {
   "cell_type": "code",
   "execution_count": 45,
   "metadata": {
    "ExecuteTime": {
     "end_time": "2019-11-23T13:35:11.071095Z",
     "start_time": "2019-11-23T13:35:11.043709Z"
    }
   },
   "outputs": [
    {
     "data": {
      "text/plain": [
       "False"
      ]
     },
     "execution_count": 45,
     "metadata": {},
     "output_type": "execute_result"
    }
   ],
   "source": [
    "X.isna().sum().any()"
   ]
  },
  {
   "cell_type": "code",
   "execution_count": 46,
   "metadata": {
    "ExecuteTime": {
     "end_time": "2019-11-23T13:35:11.100419Z",
     "start_time": "2019-11-23T13:35:11.077297Z"
    }
   },
   "outputs": [
    {
     "data": {
      "text/plain": [
       "(8000,)"
      ]
     },
     "execution_count": 46,
     "metadata": {},
     "output_type": "execute_result"
    }
   ],
   "source": [
    "y = np.ravel(y)\n",
    "y.shape"
   ]
  },
  {
   "cell_type": "code",
   "execution_count": 47,
   "metadata": {
    "ExecuteTime": {
     "end_time": "2019-11-23T13:35:17.037984Z",
     "start_time": "2019-11-23T13:35:11.105342Z"
    }
   },
   "outputs": [],
   "source": [
    "scores = cross_val_score(lr, X, y, cv=5)"
   ]
  },
  {
   "cell_type": "code",
   "execution_count": 48,
   "metadata": {
    "ExecuteTime": {
     "end_time": "2019-11-23T13:35:17.058286Z",
     "start_time": "2019-11-23T13:35:17.040651Z"
    }
   },
   "outputs": [
    {
     "data": {
      "text/plain": [
       "array([0.60137243, 0.55867665, 0.558125  , 0.55284553, 0.53696742])"
      ]
     },
     "execution_count": 48,
     "metadata": {},
     "output_type": "execute_result"
    }
   ],
   "source": [
    "scores"
   ]
  },
  {
   "cell_type": "markdown",
   "metadata": {},
   "source": [
    "## Random forest"
   ]
  },
  {
   "cell_type": "code",
   "execution_count": 49,
   "metadata": {
    "ExecuteTime": {
     "end_time": "2019-11-23T13:35:17.098447Z",
     "start_time": "2019-11-23T13:35:17.065464Z"
    }
   },
   "outputs": [],
   "source": [
    "from sklearn.ensemble import RandomForestClassifier\n",
    "from sklearn.metrics import accuracy_score"
   ]
  },
  {
   "cell_type": "code",
   "execution_count": 50,
   "metadata": {
    "ExecuteTime": {
     "end_time": "2019-11-23T13:35:17.223381Z",
     "start_time": "2019-11-23T13:35:17.106922Z"
    }
   },
   "outputs": [
    {
     "name": "stderr",
     "output_type": "stream",
     "text": [
      "/Users/alyssaliguori/anaconda3/lib/python3.7/site-packages/sklearn/ensemble/forest.py:245: FutureWarning: The default value of n_estimators will change from 10 in version 0.20 to 100 in 0.22.\n",
      "  \"10 in version 0.20 to 100 in 0.22.\", FutureWarning)\n"
     ]
    }
   ],
   "source": [
    "rf = RandomForestClassifier()\n",
    "rf.fit(X_train, y_train)\n",
    "y_pred_test = rf.predict(X_test)\n",
    "score = accuracy_score(y_test, y_pred_test)"
   ]
  },
  {
   "cell_type": "code",
   "execution_count": 51,
   "metadata": {
    "ExecuteTime": {
     "end_time": "2019-11-23T13:35:17.236968Z",
     "start_time": "2019-11-23T13:35:17.230093Z"
    }
   },
   "outputs": [
    {
     "data": {
      "text/plain": [
       "0.5175"
      ]
     },
     "execution_count": 51,
     "metadata": {},
     "output_type": "execute_result"
    }
   ],
   "source": [
    "score"
   ]
  },
  {
   "cell_type": "code",
   "execution_count": 52,
   "metadata": {
    "ExecuteTime": {
     "end_time": "2019-11-23T13:35:17.903379Z",
     "start_time": "2019-11-23T13:35:17.248962Z"
    }
   },
   "outputs": [],
   "source": [
    "scores = cross_val_score(rf, X, y, cv=5)"
   ]
  },
  {
   "cell_type": "code",
   "execution_count": 53,
   "metadata": {
    "ExecuteTime": {
     "end_time": "2019-11-23T13:35:17.919829Z",
     "start_time": "2019-11-23T13:35:17.907182Z"
    }
   },
   "outputs": [
    {
     "data": {
      "text/plain": [
       "array([0.55708047, 0.51747815, 0.52125   , 0.51469669, 0.49937343])"
      ]
     },
     "execution_count": 53,
     "metadata": {},
     "output_type": "execute_result"
    }
   ],
   "source": [
    "scores"
   ]
  },
  {
   "cell_type": "code",
   "execution_count": 54,
   "metadata": {
    "ExecuteTime": {
     "end_time": "2019-11-23T13:35:17.933107Z",
     "start_time": "2019-11-23T13:35:17.925850Z"
    }
   },
   "outputs": [],
   "source": [
    "from sklearn.neighbors import KNeighborsClassifier"
   ]
  },
  {
   "cell_type": "code",
   "execution_count": 55,
   "metadata": {
    "ExecuteTime": {
     "end_time": "2019-11-23T13:35:22.884818Z",
     "start_time": "2019-11-23T13:35:17.942948Z"
    }
   },
   "outputs": [
    {
     "data": {
      "text/plain": [
       "array([0.52900811, 0.51123596, 0.526875  , 0.51657286, 0.52694236])"
      ]
     },
     "execution_count": 55,
     "metadata": {},
     "output_type": "execute_result"
    }
   ],
   "source": [
    "knn = KNeighborsClassifier()\n",
    "scores = cross_val_score(knn, X, y, cv=5)\n",
    "scores"
   ]
  },
  {
   "cell_type": "code",
   "execution_count": 56,
   "metadata": {
    "ExecuteTime": {
     "end_time": "2019-11-23T13:35:22.893980Z",
     "start_time": "2019-11-23T13:35:22.888847Z"
    }
   },
   "outputs": [],
   "source": [
    "from sklearn.svm import SVC"
   ]
  },
  {
   "cell_type": "code",
   "execution_count": 57,
   "metadata": {
    "ExecuteTime": {
     "end_time": "2019-11-23T13:35:26.552580Z",
     "start_time": "2019-11-23T13:35:22.897442Z"
    }
   },
   "outputs": [
    {
     "data": {
      "text/plain": [
       "0.5575"
      ]
     },
     "execution_count": 57,
     "metadata": {},
     "output_type": "execute_result"
    }
   ],
   "source": [
    "svm = SVC(kernel='linear')\n",
    "svm.fit(X_train, y_train)\n",
    "y_pred_test = svm.predict(X_test)\n",
    "score = accuracy_score(y_test, y_pred_test)\n",
    "score"
   ]
  },
  {
   "cell_type": "code",
   "execution_count": 58,
   "metadata": {
    "ExecuteTime": {
     "end_time": "2019-11-23T13:35:42.848494Z",
     "start_time": "2019-11-23T13:35:26.555296Z"
    }
   },
   "outputs": [
    {
     "data": {
      "text/plain": [
       "array([0.60137243, 0.54182272, 0.553125  , 0.55222014, 0.53634085])"
      ]
     },
     "execution_count": 58,
     "metadata": {},
     "output_type": "execute_result"
    }
   ],
   "source": [
    "scores = cross_val_score(svm, X, y, cv=5)\n",
    "scores"
   ]
  },
  {
   "cell_type": "code",
   "execution_count": 59,
   "metadata": {
    "ExecuteTime": {
     "end_time": "2019-11-23T13:35:52.347781Z",
     "start_time": "2019-11-23T13:35:42.850914Z"
    }
   },
   "outputs": [
    {
     "data": {
      "text/plain": [
       "0.181875"
      ]
     },
     "execution_count": 59,
     "metadata": {},
     "output_type": "execute_result"
    }
   ],
   "source": [
    "svm = SVC(kernel='linear', class_weight='balanced')\n",
    "svm.fit(X_train, y_train)\n",
    "y_pred_test = svm.predict(X_test)\n",
    "score = accuracy_score(y_test, y_pred_test)\n",
    "score"
   ]
  },
  {
   "cell_type": "code",
   "execution_count": null,
   "metadata": {},
   "outputs": [],
   "source": []
  },
  {
   "cell_type": "code",
   "execution_count": null,
   "metadata": {},
   "outputs": [],
   "source": []
  }
 ],
 "metadata": {
  "kernelspec": {
   "display_name": "Python 3",
   "language": "python",
   "name": "python3"
  },
  "language_info": {
   "codemirror_mode": {
    "name": "ipython",
    "version": 3
   },
   "file_extension": ".py",
   "mimetype": "text/x-python",
   "name": "python",
   "nbconvert_exporter": "python",
   "pygments_lexer": "ipython3",
   "version": "3.7.3"
  },
  "toc": {
   "base_numbering": 1,
   "nav_menu": {},
   "number_sections": true,
   "sideBar": true,
   "skip_h1_title": false,
   "title_cell": "Table of Contents",
   "title_sidebar": "Contents",
   "toc_cell": false,
   "toc_position": {},
   "toc_section_display": true,
   "toc_window_display": false
  }
 },
 "nbformat": 4,
 "nbformat_minor": 2
}
