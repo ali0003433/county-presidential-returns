{
 "cells": [
  {
   "cell_type": "markdown",
   "metadata": {},
   "source": [
    "# Model selection and parameter tuning"
   ]
  },
  {
   "cell_type": "markdown",
   "metadata": {},
   "source": [
    "## Prepare notebook"
   ]
  },
  {
   "cell_type": "markdown",
   "metadata": {},
   "source": [
    "Import libraries and functions"
   ]
  },
  {
   "cell_type": "code",
   "execution_count": 1,
   "metadata": {
    "ExecuteTime": {
     "end_time": "2019-11-30T13:11:51.096446Z",
     "start_time": "2019-11-30T13:11:47.640601Z"
    }
   },
   "outputs": [],
   "source": [
    "import matplotlib.pyplot as plt\n",
    "import numpy as np\n",
    "import pandas as pd\n",
    "import pickle\n",
    "import random\n",
    "import seaborn as sns\n",
    "from sklearn import metrics\n",
    "from sklearn.ensemble import RandomForestClassifier\n",
    "from sklearn.feature_selection import RFE, RFECV\n",
    "from sklearn.linear_model import LogisticRegression\n",
    "from sklearn.metrics import confusion_matrix, make_scorer\n",
    "from sklearn.model_selection import cross_val_score, train_test_split, GridSearchCV, cross_validate\n",
    "from sklearn.neighbors import KNeighborsClassifier\n",
    "from sklearn.svm import SVC\n",
    "import sys\n",
    "import os\n",
    "sys.path.append('../src/features')\n",
    "from build_features import get_dummies\n",
    "sys.path.append('../src/models')\n",
    "from predict_model import clint_scorer, trump_scorer, avg_scorer\n",
    "#warnings.filterwarnings(\"ignore\")"
   ]
  },
  {
   "cell_type": "code",
   "execution_count": 2,
   "metadata": {
    "ExecuteTime": {
     "end_time": "2019-11-30T13:11:51.955236Z",
     "start_time": "2019-11-30T13:11:51.950491Z"
    }
   },
   "outputs": [],
   "source": [
    "random.seed(10)"
   ]
  },
  {
   "cell_type": "markdown",
   "metadata": {},
   "source": [
    "Load predictors and target variable"
   ]
  },
  {
   "cell_type": "code",
   "execution_count": 3,
   "metadata": {
    "ExecuteTime": {
     "end_time": "2019-11-30T13:11:53.432619Z",
     "start_time": "2019-11-30T13:11:53.419816Z"
    }
   },
   "outputs": [],
   "source": [
    "# with open('../data/processed/predictors.pickle', 'rb') as file:\n",
    "#     X = pickle.load(file)\n",
    "with open('../data/processed/target.pickle', 'rb') as file:\n",
    "    y = pickle.load(file)"
   ]
  },
  {
   "cell_type": "markdown",
   "metadata": {
    "ExecuteTime": {
     "end_time": "2019-11-30T11:33:08.936307Z",
     "start_time": "2019-11-30T11:33:08.921050Z"
    }
   },
   "source": [
    "Load predictors without dummies "
   ]
  },
  {
   "cell_type": "code",
   "execution_count": 4,
   "metadata": {
    "ExecuteTime": {
     "end_time": "2019-11-30T13:11:54.483870Z",
     "start_time": "2019-11-30T13:11:54.463820Z"
    }
   },
   "outputs": [],
   "source": [
    "with open('../data/processed/predictors_not_dummies.pickle', 'rb') as file:\n",
    "     X_no = pickle.load(file)"
   ]
  },
  {
   "cell_type": "markdown",
   "metadata": {},
   "source": [
    "## Split data into train and test sets"
   ]
  },
  {
   "cell_type": "markdown",
   "metadata": {},
   "source": [
    "Split the 23 (no dummies) predictors into train and test set "
   ]
  },
  {
   "cell_type": "code",
   "execution_count": 5,
   "metadata": {
    "ExecuteTime": {
     "end_time": "2019-11-30T13:11:56.067354Z",
     "start_time": "2019-11-30T13:11:56.056229Z"
    }
   },
   "outputs": [],
   "source": [
    "X_train_rfe, X_test_rfe, y_train_rfe, y_test_rfe = train_test_split(X_no, y)"
   ]
  },
  {
   "cell_type": "markdown",
   "metadata": {},
   "source": [
    "## Define function to score model performance "
   ]
  },
  {
   "cell_type": "markdown",
   "metadata": {},
   "source": [
    "Create a metric to pass to cross_val_score when evaluating models"
   ]
  },
  {
   "cell_type": "code",
   "execution_count": 6,
   "metadata": {
    "ExecuteTime": {
     "end_time": "2019-11-30T13:11:57.451942Z",
     "start_time": "2019-11-30T13:11:57.447653Z"
    }
   },
   "outputs": [],
   "source": [
    "clinton_metric = make_scorer(clint_scorer)\n",
    "trump_metric = make_scorer(trump_scorer)\n",
    "comb_metric = make_scorer(avg_scorer)"
   ]
  },
  {
   "cell_type": "markdown",
   "metadata": {},
   "source": [
    "## Define models "
   ]
  },
  {
   "cell_type": "markdown",
   "metadata": {},
   "source": [
    "Logistic regression"
   ]
  },
  {
   "cell_type": "code",
   "execution_count": 7,
   "metadata": {
    "ExecuteTime": {
     "end_time": "2019-11-30T13:11:58.463727Z",
     "start_time": "2019-11-30T13:11:58.459731Z"
    }
   },
   "outputs": [],
   "source": [
    "lr = LogisticRegression(\n",
    "    C=2, penalty='l2', solver='lbfgs', multi_class='auto', max_iter=1000)"
   ]
  },
  {
   "cell_type": "markdown",
   "metadata": {},
   "source": [
    "Random forest classifier"
   ]
  },
  {
   "cell_type": "code",
   "execution_count": 8,
   "metadata": {
    "ExecuteTime": {
     "end_time": "2019-11-30T13:11:59.180905Z",
     "start_time": "2019-11-30T13:11:59.175745Z"
    }
   },
   "outputs": [],
   "source": [
    "rf = RandomForestClassifier(n_estimators=100)"
   ]
  },
  {
   "cell_type": "markdown",
   "metadata": {},
   "source": [
    "K-nearest neighbors"
   ]
  },
  {
   "cell_type": "code",
   "execution_count": 9,
   "metadata": {
    "ExecuteTime": {
     "end_time": "2019-11-30T13:12:00.031401Z",
     "start_time": "2019-11-30T13:12:00.025926Z"
    }
   },
   "outputs": [],
   "source": [
    "knn = KNeighborsClassifier()"
   ]
  },
  {
   "cell_type": "markdown",
   "metadata": {},
   "source": [
    "Support vector machine"
   ]
  },
  {
   "cell_type": "code",
   "execution_count": 10,
   "metadata": {
    "ExecuteTime": {
     "end_time": "2019-11-30T13:12:00.784521Z",
     "start_time": "2019-11-30T13:12:00.780075Z"
    }
   },
   "outputs": [],
   "source": [
    "svm = SVC(kernel='linear')"
   ]
  },
  {
   "cell_type": "markdown",
   "metadata": {},
   "source": [
    "##  Evaluate training performance"
   ]
  },
  {
   "cell_type": "markdown",
   "metadata": {},
   "source": [
    "Create a list of model names and model variables "
   ]
  },
  {
   "cell_type": "code",
   "execution_count": 11,
   "metadata": {
    "ExecuteTime": {
     "end_time": "2019-11-30T13:12:01.955584Z",
     "start_time": "2019-11-30T13:12:01.951264Z"
    }
   },
   "outputs": [],
   "source": [
    "name_list = ['Logistic regression', 'Random forest', 'K-nearest neighbors', 'Support vector machine']\n",
    "model_list = [lr, rf, knn, svm]"
   ]
  },
  {
   "cell_type": "markdown",
   "metadata": {},
   "source": [
    "Cross validate all of the models and print scores and score mean for each for  Clinton "
   ]
  },
  {
   "cell_type": "code",
   "execution_count": 12,
   "metadata": {
    "ExecuteTime": {
     "end_time": "2019-11-30T13:12:19.678956Z",
     "start_time": "2019-11-30T13:12:03.303832Z"
    }
   },
   "outputs": [
    {
     "name": "stdout",
     "output_type": "stream",
     "text": [
      "Logistic regression : [91.  88.4 90.1 92.1 88.9] 90.1\n",
      "Random forest : [89.9 89.5 91.2 91.  88. ] 89.92\n",
      "K-nearest neighbors : [87.8 86.3 89.9 88.6 83.9] 87.3\n",
      "Support vector machine : [91.2 89.  90.8 92.7 88.7] 90.48\n"
     ]
    }
   ],
   "source": [
    "for idx, model in enumerate(model_list): \n",
    "    clint_scores = cross_val_score(\n",
    "    model, X_train_rfe, y_train_rfe, cv=5, scoring=clinton_metric, n_jobs=-1)\n",
    "    name = name_list[idx]\n",
    "    print(name,\":\", clint_scores, round(clint_scores.mean(), 5))"
   ]
  },
  {
   "cell_type": "markdown",
   "metadata": {},
   "source": [
    "Cross validate all of the models and print scores and score mean for each for Trump"
   ]
  },
  {
   "cell_type": "code",
   "execution_count": 13,
   "metadata": {
    "ExecuteTime": {
     "end_time": "2019-11-30T13:12:38.659981Z",
     "start_time": "2019-11-30T13:12:27.642356Z"
    }
   },
   "outputs": [
    {
     "name": "stdout",
     "output_type": "stream",
     "text": [
      "Logistic regression : [87.1 85.8 86.2 85.6 87.7] Mean: 86.48\n",
      "Random forest : [90.6 88.3 89.6 88.7 89. ] Mean: 89.24\n",
      "K-nearest neighbors : [85.4 83.7 85.4 84.6 84.2] Mean: 84.66\n",
      "Support vector machine : [87.3 85.4 86.2 85.4 86.2] Mean: 86.1\n"
     ]
    }
   ],
   "source": [
    "for idx, model in enumerate(model_list): \n",
    "    trump_scores = cross_val_score(\n",
    "    model, X_train_rfe, y_train_rfe, cv=5, scoring=trump_metric, n_jobs=-1)\n",
    "    name = name_list[idx]\n",
    "    print(name, \":\", trump_scores, 'Mean:', round(trump_scores.mean(), 5))"
   ]
  },
  {
   "cell_type": "markdown",
   "metadata": {},
   "source": [
    "Cross validate and evaluate using the combined Trump/Clinton metric on non-dummy predictors "
   ]
  },
  {
   "cell_type": "code",
   "execution_count": 14,
   "metadata": {
    "ExecuteTime": {
     "end_time": "2019-11-30T13:12:49.479991Z",
     "start_time": "2019-11-30T13:12:38.663053Z"
    }
   },
   "outputs": [
    {
     "name": "stdout",
     "output_type": "stream",
     "text": [
      "Logistic regression [89.05 87.1  88.15 88.85 88.3 ] 88.28999999999999\n",
      "Random forest [90.05 88.35 89.85 89.1  88.7 ] 89.21000000000001\n",
      "K-nearest neighbors [86.6  85.   87.65 86.6  84.05] 85.98\n",
      "Support vector machine [89.25 87.2  88.5  89.05 87.45] 88.28999999999999\n"
     ]
    }
   ],
   "source": [
    "for idx, model in enumerate(model_list): \n",
    "    comb_scores = cross_val_score(\n",
    "    model, X_train_rfe, y_train_rfe, cv=5, scoring=comb_metric, n_jobs=-1)\n",
    "    name = name_list[idx]\n",
    "    print(name, comb_scores, comb_scores.mean())"
   ]
  },
  {
   "cell_type": "markdown",
   "metadata": {
    "ExecuteTime": {
     "end_time": "2019-11-30T11:36:56.771909Z",
     "start_time": "2019-11-30T11:36:56.736653Z"
    }
   },
   "source": [
    "Use recursive feature elimination on non-dummy variables on two top performing models (LR and RF)"
   ]
  },
  {
   "cell_type": "code",
   "execution_count": 15,
   "metadata": {
    "ExecuteTime": {
     "end_time": "2019-11-30T13:13:09.379329Z",
     "start_time": "2019-11-30T13:12:57.333310Z"
    }
   },
   "outputs": [
    {
     "data": {
      "text/plain": [
       "RFECV(cv=5,\n",
       "      estimator=LogisticRegression(C=2, class_weight=None, dual=False,\n",
       "                                   fit_intercept=True, intercept_scaling=1,\n",
       "                                   l1_ratio=None, max_iter=1000,\n",
       "                                   multi_class='auto', n_jobs=None,\n",
       "                                   penalty='l2', random_state=None,\n",
       "                                   solver='lbfgs', tol=0.0001, verbose=0,\n",
       "                                   warm_start=False),\n",
       "      min_features_to_select=1, n_jobs=None, scoring=make_scorer(avg_scorer),\n",
       "      step=1, verbose=0)"
      ]
     },
     "execution_count": 15,
     "metadata": {},
     "output_type": "execute_result"
    }
   ],
   "source": [
    "selector_lr = RFECV(lr, step=1, min_features_to_select=1,  scoring=comb_metric, cv=5)\n",
    "selector_lr.fit(X_train_rfe, y_train_rfe)"
   ]
  },
  {
   "cell_type": "code",
   "execution_count": 16,
   "metadata": {
    "ExecuteTime": {
     "end_time": "2019-11-30T13:14:25.960404Z",
     "start_time": "2019-11-30T13:13:09.382754Z"
    }
   },
   "outputs": [
    {
     "data": {
      "text/plain": [
       "RFECV(cv=5,\n",
       "      estimator=RandomForestClassifier(bootstrap=True, class_weight=None,\n",
       "                                       criterion='gini', max_depth=None,\n",
       "                                       max_features='auto', max_leaf_nodes=None,\n",
       "                                       min_impurity_decrease=0.0,\n",
       "                                       min_impurity_split=None,\n",
       "                                       min_samples_leaf=1, min_samples_split=2,\n",
       "                                       min_weight_fraction_leaf=0.0,\n",
       "                                       n_estimators=100, n_jobs=None,\n",
       "                                       oob_score=False, random_state=None,\n",
       "                                       verbose=0, warm_start=False),\n",
       "      min_features_to_select=1, n_jobs=None, scoring=make_scorer(avg_scorer),\n",
       "      step=1, verbose=0)"
      ]
     },
     "execution_count": 16,
     "metadata": {},
     "output_type": "execute_result"
    }
   ],
   "source": [
    "selector_rf = RFECV(rf, step=1, min_features_to_select=1,  \n",
    "                    scoring=comb_metric, cv=5)\n",
    "selector_rf.fit(X_train_rfe, y_train_rfe)"
   ]
  },
  {
   "cell_type": "markdown",
   "metadata": {},
   "source": [
    "Print findings from RFE "
   ]
  },
  {
   "cell_type": "code",
   "execution_count": 17,
   "metadata": {
    "ExecuteTime": {
     "end_time": "2019-11-30T13:14:30.923495Z",
     "start_time": "2019-11-30T13:14:30.901967Z"
    }
   },
   "outputs": [
    {
     "name": "stdout",
     "output_type": "stream",
     "text": [
      "[ 5 11  1  1  7  1  1 14  2 15 13  1 12  9  8  1  6  3  4 10  1  1  1]\n",
      "[[1, 'imiss_c_2016'], [1, 'imiss_d_2016'], [1, 'imiss_f_2016'], [1, 'imiss_g_2016'], [1, 'imiss_l_2016'], [1, 'imiss_p_2016'], [1, 'imiss_u_2016'], [1, 'imiss_x_2016'], [1, 'imiss_y_2016']]\n"
     ]
    }
   ],
   "source": [
    "print(selector_lr.ranking_)\n",
    "rank_list = selector_lr.ranking_\n",
    "feature_ranks = []\n",
    "no = []\n",
    "yes = []\n",
    "for idx, rank in enumerate(rank_list):\n",
    "    feature_ranks.append([rank, X_train_rfe.columns[idx]])\n",
    "for list in feature_ranks:\n",
    "    if list[0] != 1:\n",
    "        #print('no', list)\n",
    "        no.append(list)\n",
    "    if list[0] == 1:\n",
    "        #print('yes', list)\n",
    "        yes.append(list)\n",
    "#print(no)\n",
    "print(yes) # immigration, terrorism, climate change, the budget deficit, racial equality, "
   ]
  },
  {
   "cell_type": "markdown",
   "metadata": {},
   "source": [
    "Selected feature count using non-dummies"
   ]
  },
  {
   "cell_type": "code",
   "execution_count": 19,
   "metadata": {
    "ExecuteTime": {
     "end_time": "2019-11-30T13:14:42.932736Z",
     "start_time": "2019-11-30T13:14:42.924126Z"
    }
   },
   "outputs": [
    {
     "name": "stdout",
     "output_type": "stream",
     "text": [
      "Optimal number of features: 9\n",
      "Optimal number of features: 22\n"
     ]
    }
   ],
   "source": [
    "print('Optimal number of features: {}'.format(selector_lr.n_features_))\n",
    "print('Optimal number of features: {}'.format(selector_rf.n_features_))"
   ]
  },
  {
   "cell_type": "code",
   "execution_count": 20,
   "metadata": {
    "ExecuteTime": {
     "end_time": "2019-11-30T13:14:46.159316Z",
     "start_time": "2019-11-30T13:14:45.783770Z"
    }
   },
   "outputs": [
    {
     "data": {
      "image/png": "[encoded data removed]",
      "text/plain": [
       "<Figure size 1152x648 with 1 Axes>"
      ]
     },
     "metadata": {
      "needs_background": "light"
     },
     "output_type": "display_data"
    }
   ],
   "source": [
    "plt.figure(figsize=(16, 9))\n",
    "plt.title('Recursive Feature Elimination with Cross-Validation', fontsize=18, fontweight='bold', pad=20)\n",
    "plt.xlabel('Number of features selected', fontsize=14, labelpad=20)\n",
    "plt.ylabel('% Correct Classification', fontsize=14, labelpad=20)\n",
    "plt.plot(range(1, len(selector_lr.grid_scores_) + 1), selector_lr.grid_scores_, color='#303F9F', linewidth=3)\n",
    "\n",
    "plt.show()"
   ]
  },
  {
   "cell_type": "markdown",
   "metadata": {},
   "source": [
    "Drop unneeded attributes"
   ]
  },
  {
   "cell_type": "code",
   "execution_count": 21,
   "metadata": {
    "ExecuteTime": {
     "end_time": "2019-11-30T13:14:53.297697Z",
     "start_time": "2019-11-30T13:14:53.281916Z"
    }
   },
   "outputs": [
    {
     "name": "stdout",
     "output_type": "stream",
     "text": [
      "[ 0  1  4  7  8  9 10 12 13 14 16 17 18 19]\n"
     ]
    }
   ],
   "source": [
    "print(np.where(selector_lr.support_ == False)[0])\n",
    "\n",
    "X_dropped = X_no.drop(X_no.columns[np.where(selector_lr.support_ == False)[0]], axis=1)"
   ]
  },
  {
   "cell_type": "code",
   "execution_count": 22,
   "metadata": {
    "ExecuteTime": {
     "end_time": "2019-11-30T13:14:54.152568Z",
     "start_time": "2019-11-30T13:14:54.110410Z"
    }
   },
   "outputs": [
    {
     "name": "stdout",
     "output_type": "stream",
     "text": [
      "9\n"
     ]
    },
    {
     "data": {
      "text/html": [
       "<div>\n",
       "<style scoped>\n",
       "    .dataframe tbody tr th:only-of-type {\n",
       "        vertical-align: middle;\n",
       "    }\n",
       "\n",
       "    .dataframe tbody tr th {\n",
       "        vertical-align: top;\n",
       "    }\n",
       "\n",
       "    .dataframe thead th {\n",
       "        text-align: right;\n",
       "    }\n",
       "</style>\n",
       "<table border=\"1\" class=\"dataframe\">\n",
       "  <thead>\n",
       "    <tr style=\"text-align: right;\">\n",
       "      <th></th>\n",
       "      <th>imiss_c_2016</th>\n",
       "      <th>imiss_d_2016</th>\n",
       "      <th>imiss_f_2016</th>\n",
       "      <th>imiss_g_2016</th>\n",
       "      <th>imiss_l_2016</th>\n",
       "      <th>imiss_p_2016</th>\n",
       "      <th>imiss_u_2016</th>\n",
       "      <th>imiss_x_2016</th>\n",
       "      <th>imiss_y_2016</th>\n",
       "    </tr>\n",
       "  </thead>\n",
       "  <tbody>\n",
       "    <tr>\n",
       "      <th>0</th>\n",
       "      <td>1.0</td>\n",
       "      <td>1.0</td>\n",
       "      <td>2.0</td>\n",
       "      <td>1.0</td>\n",
       "      <td>1.0</td>\n",
       "      <td>2.0</td>\n",
       "      <td>2.0</td>\n",
       "      <td>1.0</td>\n",
       "      <td>1.0</td>\n",
       "    </tr>\n",
       "    <tr>\n",
       "      <th>1</th>\n",
       "      <td>2.0</td>\n",
       "      <td>2.0</td>\n",
       "      <td>1.0</td>\n",
       "      <td>4.0</td>\n",
       "      <td>4.0</td>\n",
       "      <td>1.0</td>\n",
       "      <td>2.0</td>\n",
       "      <td>3.0</td>\n",
       "      <td>4.0</td>\n",
       "    </tr>\n",
       "    <tr>\n",
       "      <th>2</th>\n",
       "      <td>2.0</td>\n",
       "      <td>1.0</td>\n",
       "      <td>1.0</td>\n",
       "      <td>3.0</td>\n",
       "      <td>1.0</td>\n",
       "      <td>2.0</td>\n",
       "      <td>2.0</td>\n",
       "      <td>1.0</td>\n",
       "      <td>2.0</td>\n",
       "    </tr>\n",
       "    <tr>\n",
       "      <th>3</th>\n",
       "      <td>3.0</td>\n",
       "      <td>1.0</td>\n",
       "      <td>2.0</td>\n",
       "      <td>3.0</td>\n",
       "      <td>2.0</td>\n",
       "      <td>3.0</td>\n",
       "      <td>2.0</td>\n",
       "      <td>2.0</td>\n",
       "      <td>3.0</td>\n",
       "    </tr>\n",
       "    <tr>\n",
       "      <th>4</th>\n",
       "      <td>1.0</td>\n",
       "      <td>1.0</td>\n",
       "      <td>1.0</td>\n",
       "      <td>3.0</td>\n",
       "      <td>4.0</td>\n",
       "      <td>1.0</td>\n",
       "      <td>1.0</td>\n",
       "      <td>1.0</td>\n",
       "      <td>1.0</td>\n",
       "    </tr>\n",
       "  </tbody>\n",
       "</table>\n",
       "</div>"
      ],
      "text/plain": [
       "   imiss_c_2016  imiss_d_2016  imiss_f_2016  imiss_g_2016  imiss_l_2016  \\\n",
       "0           1.0           1.0           2.0           1.0           1.0   \n",
       "1           2.0           2.0           1.0           4.0           4.0   \n",
       "2           2.0           1.0           1.0           3.0           1.0   \n",
       "3           3.0           1.0           2.0           3.0           2.0   \n",
       "4           1.0           1.0           1.0           3.0           4.0   \n",
       "\n",
       "   imiss_p_2016  imiss_u_2016  imiss_x_2016  imiss_y_2016  \n",
       "0           2.0           2.0           1.0           1.0  \n",
       "1           1.0           2.0           3.0           4.0  \n",
       "2           2.0           2.0           1.0           2.0  \n",
       "3           3.0           2.0           2.0           3.0  \n",
       "4           1.0           1.0           1.0           1.0  "
      ]
     },
     "execution_count": 22,
     "metadata": {},
     "output_type": "execute_result"
    }
   ],
   "source": [
    "print(len(X_dropped.columns))\n",
    "X_dropped.head()"
   ]
  },
  {
   "cell_type": "markdown",
   "metadata": {},
   "source": [
    "Get dummies for X with fewer attributes"
   ]
  },
  {
   "cell_type": "code",
   "execution_count": 23,
   "metadata": {
    "ExecuteTime": {
     "end_time": "2019-11-30T13:14:56.363966Z",
     "start_time": "2019-11-30T13:14:56.255105Z"
    }
   },
   "outputs": [],
   "source": [
    "X = get_dummies(X_dropped)"
   ]
  },
  {
   "cell_type": "markdown",
   "metadata": {},
   "source": [
    "Number of columns in new X "
   ]
  },
  {
   "cell_type": "code",
   "execution_count": 24,
   "metadata": {
    "ExecuteTime": {
     "end_time": "2019-11-30T13:14:58.516436Z",
     "start_time": "2019-11-30T13:14:58.493195Z"
    }
   },
   "outputs": [
    {
     "data": {
      "text/plain": [
       "36"
      ]
     },
     "execution_count": 24,
     "metadata": {},
     "output_type": "execute_result"
    }
   ],
   "source": [
    "len(X.columns)"
   ]
  },
  {
   "cell_type": "code",
   "execution_count": 25,
   "metadata": {
    "ExecuteTime": {
     "end_time": "2019-11-30T13:14:59.123310Z",
     "start_time": "2019-11-30T13:14:59.111341Z"
    }
   },
   "outputs": [],
   "source": [
    "X_train, X_test, y_train, y_test = train_test_split(X, y)"
   ]
  },
  {
   "cell_type": "markdown",
   "metadata": {},
   "source": [
    "Show rfe feature importances"
   ]
  },
  {
   "cell_type": "markdown",
   "metadata": {},
   "source": [
    "## Parameter tuning"
   ]
  },
  {
   "cell_type": "markdown",
   "metadata": {},
   "source": [
    "Define parameter grid for random forest"
   ]
  },
  {
   "cell_type": "code",
   "execution_count": 26,
   "metadata": {
    "ExecuteTime": {
     "end_time": "2019-11-30T13:15:06.864105Z",
     "start_time": "2019-11-30T13:15:06.851884Z"
    }
   },
   "outputs": [],
   "source": [
    "param_grid = {'n_estimators': [100], 'max_depth': [\n",
    "    1, 2, 3, 4, 5, 6, 7, 8, 9, 10], 'oob_score': [True], 'max_features': [None, 'sqrt']}"
   ]
  },
  {
   "cell_type": "markdown",
   "metadata": {},
   "source": [
    "Find the best parameters and then crossvalidate with five folds"
   ]
  },
  {
   "cell_type": "code",
   "execution_count": 27,
   "metadata": {
    "ExecuteTime": {
     "end_time": "2019-11-30T13:15:07.880372Z",
     "start_time": "2019-11-30T13:15:07.872770Z"
    }
   },
   "outputs": [],
   "source": [
    "grid = GridSearchCV(rf, param_grid, iid=True, cv=5, n_jobs=-1,\n",
    "                    scoring=comb_metric, verbose=1, return_train_score=True)"
   ]
  },
  {
   "cell_type": "markdown",
   "metadata": {},
   "source": [
    "Fit training data to grid"
   ]
  },
  {
   "cell_type": "code",
   "execution_count": 28,
   "metadata": {
    "ExecuteTime": {
     "end_time": "2019-11-30T13:15:41.379370Z",
     "start_time": "2019-11-30T13:15:09.249195Z"
    }
   },
   "outputs": [
    {
     "name": "stdout",
     "output_type": "stream",
     "text": [
      "Fitting 5 folds for each of 20 candidates, totalling 100 fits\n"
     ]
    },
    {
     "name": "stderr",
     "output_type": "stream",
     "text": [
      "[Parallel(n_jobs=-1)]: Using backend LokyBackend with 4 concurrent workers.\n",
      "[Parallel(n_jobs=-1)]: Done  42 tasks      | elapsed:    9.8s\n",
      "[Parallel(n_jobs=-1)]: Done 100 out of 100 | elapsed:   31.6s finished\n"
     ]
    },
    {
     "data": {
      "text/plain": [
       "GridSearchCV(cv=5, error_score='raise-deprecating',\n",
       "             estimator=RandomForestClassifier(bootstrap=True, class_weight=None,\n",
       "                                              criterion='gini', max_depth=None,\n",
       "                                              max_features='auto',\n",
       "                                              max_leaf_nodes=None,\n",
       "                                              min_impurity_decrease=0.0,\n",
       "                                              min_impurity_split=None,\n",
       "                                              min_samples_leaf=1,\n",
       "                                              min_samples_split=2,\n",
       "                                              min_weight_fraction_leaf=0.0,\n",
       "                                              n_estimators=100, n_jobs=None,\n",
       "                                              oob_score=False,\n",
       "                                              random_state=None, verbose=0,\n",
       "                                              warm_start=False),\n",
       "             iid=True, n_jobs=-1,\n",
       "             param_grid={'max_depth': [1, 2, 3, 4, 5, 6, 7, 8, 9, 10],\n",
       "                         'max_features': [None, 'sqrt'], 'n_estimators': [100],\n",
       "                         'oob_score': [True]},\n",
       "             pre_dispatch='2*n_jobs', refit=True, return_train_score=True,\n",
       "             scoring=make_scorer(avg_scorer), verbose=1)"
      ]
     },
     "execution_count": 28,
     "metadata": {},
     "output_type": "execute_result"
    }
   ],
   "source": [
    "grid.fit(X_train, y_train)"
   ]
  },
  {
   "cell_type": "markdown",
   "metadata": {},
   "source": [
    "Print best parameters and best score"
   ]
  },
  {
   "cell_type": "code",
   "execution_count": 29,
   "metadata": {
    "ExecuteTime": {
     "end_time": "2019-11-30T13:15:41.436271Z",
     "start_time": "2019-11-30T13:15:41.390786Z"
    }
   },
   "outputs": [
    {
     "name": "stdout",
     "output_type": "stream",
     "text": [
      "{'max_depth': 10, 'max_features': 'sqrt', 'n_estimators': 100, 'oob_score': True}\n",
      "88.73\n"
     ]
    }
   ],
   "source": [
    "print(grid.best_params_)\n",
    "print(round(grid.best_score_, 3))"
   ]
  },
  {
   "cell_type": "markdown",
   "metadata": {},
   "source": [
    "## Evaluate test performance"
   ]
  },
  {
   "cell_type": "code",
   "execution_count": 30,
   "metadata": {
    "ExecuteTime": {
     "end_time": "2019-11-30T13:16:46.492095Z",
     "start_time": "2019-11-30T13:15:41.450893Z"
    }
   },
   "outputs": [
    {
     "name": "stdout",
     "output_type": "stream",
     "text": [
      "Fitting 5 folds for each of 20 candidates, totalling 100 fits\n"
     ]
    },
    {
     "name": "stderr",
     "output_type": "stream",
     "text": [
      "[Parallel(n_jobs=-1)]: Using backend LokyBackend with 4 concurrent workers.\n",
      "[Parallel(n_jobs=-1)]: Done  42 tasks      | elapsed:    5.9s\n",
      "[Parallel(n_jobs=-1)]: Done 100 out of 100 | elapsed:   14.5s finished\n"
     ]
    },
    {
     "name": "stdout",
     "output_type": "stream",
     "text": [
      "Fitting 5 folds for each of 20 candidates, totalling 100 fits\n"
     ]
    },
    {
     "name": "stderr",
     "output_type": "stream",
     "text": [
      "[Parallel(n_jobs=-1)]: Using backend LokyBackend with 4 concurrent workers.\n",
      "[Parallel(n_jobs=-1)]: Done  42 tasks      | elapsed:    4.3s\n",
      "[Parallel(n_jobs=-1)]: Done 100 out of 100 | elapsed:   11.8s finished\n"
     ]
    },
    {
     "name": "stdout",
     "output_type": "stream",
     "text": [
      "Fitting 5 folds for each of 20 candidates, totalling 100 fits\n"
     ]
    },
    {
     "name": "stderr",
     "output_type": "stream",
     "text": [
      "[Parallel(n_jobs=-1)]: Using backend LokyBackend with 4 concurrent workers.\n",
      "[Parallel(n_jobs=-1)]: Done  42 tasks      | elapsed:    4.9s\n",
      "[Parallel(n_jobs=-1)]: Done 100 out of 100 | elapsed:   12.1s finished\n"
     ]
    },
    {
     "name": "stdout",
     "output_type": "stream",
     "text": [
      "Fitting 5 folds for each of 20 candidates, totalling 100 fits\n"
     ]
    },
    {
     "name": "stderr",
     "output_type": "stream",
     "text": [
      "[Parallel(n_jobs=-1)]: Using backend LokyBackend with 4 concurrent workers.\n",
      "[Parallel(n_jobs=-1)]: Done  42 tasks      | elapsed:    4.2s\n",
      "[Parallel(n_jobs=-1)]: Done 100 out of 100 | elapsed:   12.4s finished\n"
     ]
    },
    {
     "name": "stdout",
     "output_type": "stream",
     "text": [
      "Fitting 5 folds for each of 20 candidates, totalling 100 fits\n"
     ]
    },
    {
     "name": "stderr",
     "output_type": "stream",
     "text": [
      "[Parallel(n_jobs=-1)]: Using backend LokyBackend with 4 concurrent workers.\n",
      "[Parallel(n_jobs=-1)]: Done  42 tasks      | elapsed:    5.5s\n",
      "[Parallel(n_jobs=-1)]: Done 100 out of 100 | elapsed:   13.0s finished\n"
     ]
    }
   ],
   "source": [
    "scores_rf = cross_validate(grid, X_test, y_test, scoring=comb_metric, cv=5)"
   ]
  },
  {
   "cell_type": "code",
   "execution_count": 31,
   "metadata": {
    "ExecuteTime": {
     "end_time": "2019-11-30T13:16:46.516794Z",
     "start_time": "2019-11-30T13:16:46.495836Z"
    }
   },
   "outputs": [
    {
     "data": {
      "text/plain": [
       "88.10999999999999"
      ]
     },
     "execution_count": 31,
     "metadata": {},
     "output_type": "execute_result"
    }
   ],
   "source": [
    "scores_rf['test_score'].mean()"
   ]
  },
  {
   "cell_type": "code",
   "execution_count": 32,
   "metadata": {
    "ExecuteTime": {
     "end_time": "2019-11-30T13:16:46.975668Z",
     "start_time": "2019-11-30T13:16:46.521857Z"
    }
   },
   "outputs": [
    {
     "data": {
      "text/plain": [
       "89.53"
      ]
     },
     "execution_count": 32,
     "metadata": {},
     "output_type": "execute_result"
    }
   ],
   "source": [
    "scores_lr = cross_validate(lr, X_test, y_test, scoring=comb_metric, cv=5)\n",
    "scores_lr['test_score'].mean()"
   ]
  },
  {
   "cell_type": "code",
   "execution_count": 34,
   "metadata": {
    "ExecuteTime": {
     "end_time": "2019-11-30T13:17:27.488796Z",
     "start_time": "2019-11-30T13:17:26.879088Z"
    }
   },
   "outputs": [
    {
     "data": {
      "text/plain": [
       "89.46000000000001"
      ]
     },
     "execution_count": 34,
     "metadata": {},
     "output_type": "execute_result"
    }
   ],
   "source": [
    "scores_svm = cross_validate(svm, X_test, y_test, scoring=comb_metric, cv=5)\n",
    "scores_svm['test_score'].mean()"
   ]
  },
  {
   "cell_type": "code",
   "execution_count": null,
   "metadata": {},
   "outputs": [],
   "source": []
  }
 ],
 "metadata": {
  "kernelspec": {
   "display_name": "Python 3",
   "language": "python",
   "name": "python3"
  },
  "language_info": {
   "codemirror_mode": {
    "name": "ipython",
    "version": 3
   },
   "file_extension": ".py",
   "mimetype": "text/x-python",
   "name": "python",
   "nbconvert_exporter": "python",
   "pygments_lexer": "ipython3",
   "version": "3.7.3"
  },
  "toc": {
   "base_numbering": 1,
   "nav_menu": {},
   "number_sections": true,
   "sideBar": true,
   "skip_h1_title": false,
   "title_cell": "Table of Contents",
   "title_sidebar": "Contents",
   "toc_cell": false,
   "toc_position": {},
   "toc_section_display": true,
   "toc_window_display": false
  }
 },
 "nbformat": 4,
 "nbformat_minor": 2
}
