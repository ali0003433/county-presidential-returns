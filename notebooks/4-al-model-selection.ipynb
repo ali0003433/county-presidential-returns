{
 "cells": [
  {
   "cell_type": "markdown",
   "metadata": {},
   "source": [
    "# Model selection and parameter tuning"
   ]
  },
  {
   "cell_type": "markdown",
   "metadata": {},
   "source": [
    "## Prepare notebook"
   ]
  },
  {
   "cell_type": "markdown",
   "metadata": {},
   "source": [
    "Import libraries and functions"
   ]
  },
  {
   "cell_type": "code",
   "execution_count": 27,
   "metadata": {
    "ExecuteTime": {
     "end_time": "2019-11-27T16:53:36.010947Z",
     "start_time": "2019-11-27T16:53:36.000311Z"
    }
   },
   "outputs": [],
   "source": [
    "import matplotlib.pyplot as plt\n",
    "import numpy as np\n",
    "import pandas as pd\n",
    "import pickle\n",
    "import re\n",
    "import seaborn as sns\n",
    "from sklearn import metrics\n",
    "from sklearn.ensemble import RandomForestClassifier\n",
    "from sklearn.feature_selection import RFE, RFECV\n",
    "from sklearn.linear_model import LogisticRegression\n",
    "from sklearn.metrics import confusion_matrix, make_scorer\n",
    "from sklearn.model_selection import cross_val_score, train_test_split, GridSearchCV, cross_validate\n",
    "from sklearn.neighbors import KNeighborsClassifier\n",
    "from sklearn.svm import SVC\n",
    "import sys\n",
    "import os\n",
    "sys.path.append('../src/models')\n",
    "from predict_model import clint_scorer, trump_scorer, avg_scorer\n",
    "#warnings.filterwarnings(\"ignore\")"
   ]
  },
  {
   "cell_type": "markdown",
   "metadata": {},
   "source": [
    "Load predictors and target variable"
   ]
  },
  {
   "cell_type": "code",
   "execution_count": 13,
   "metadata": {
    "ExecuteTime": {
     "end_time": "2019-11-27T16:51:45.771638Z",
     "start_time": "2019-11-27T16:51:45.746208Z"
    }
   },
   "outputs": [],
   "source": [
    "with open('../data/processed/predictors.pickle', 'rb') as file:\n",
    "    X = pickle.load(file)\n",
    "with open('../data/processed/target.pickle', 'rb') as file:\n",
    "    y = pickle.load(file)"
   ]
  },
  {
   "cell_type": "markdown",
   "metadata": {},
   "source": [
    "## Split data into train and test sets"
   ]
  },
  {
   "cell_type": "markdown",
   "metadata": {},
   "source": [
    "Split data into a train set and a test set "
   ]
  },
  {
   "cell_type": "code",
   "execution_count": 14,
   "metadata": {
    "ExecuteTime": {
     "end_time": "2019-11-27T16:51:46.608655Z",
     "start_time": "2019-11-27T16:51:46.591647Z"
    }
   },
   "outputs": [],
   "source": [
    "X_train, X_test, y_train, y_test = train_test_split(X, y)"
   ]
  },
  {
   "cell_type": "markdown",
   "metadata": {},
   "source": [
    "## Define function to score model performance "
   ]
  },
  {
   "cell_type": "markdown",
   "metadata": {},
   "source": [
    "Create a metric to pass to cross_val_score when evaluating models"
   ]
  },
  {
   "cell_type": "code",
   "execution_count": 15,
   "metadata": {
    "ExecuteTime": {
     "end_time": "2019-11-27T16:51:47.465785Z",
     "start_time": "2019-11-27T16:51:47.458571Z"
    }
   },
   "outputs": [],
   "source": [
    "clinton_metric = make_scorer(clint_scorer)\n",
    "trump_metric = make_scorer(trump_scorer)\n",
    "comb_metric = make_scorer(avg_scorer)"
   ]
  },
  {
   "cell_type": "markdown",
   "metadata": {},
   "source": [
    "## Define models "
   ]
  },
  {
   "cell_type": "markdown",
   "metadata": {},
   "source": [
    "Logistic regression"
   ]
  },
  {
   "cell_type": "code",
   "execution_count": 16,
   "metadata": {
    "ExecuteTime": {
     "end_time": "2019-11-27T16:51:48.382733Z",
     "start_time": "2019-11-27T16:51:48.378211Z"
    }
   },
   "outputs": [],
   "source": [
    "lr = LogisticRegression(\n",
    "    C=2, penalty='l2', solver='lbfgs', multi_class='auto', max_iter=1000)"
   ]
  },
  {
   "cell_type": "markdown",
   "metadata": {},
   "source": [
    "Random forest classifier"
   ]
  },
  {
   "cell_type": "code",
   "execution_count": 17,
   "metadata": {
    "ExecuteTime": {
     "end_time": "2019-11-27T16:51:48.956147Z",
     "start_time": "2019-11-27T16:51:48.952373Z"
    }
   },
   "outputs": [],
   "source": [
    "rf = RandomForestClassifier(n_estimators=100)"
   ]
  },
  {
   "cell_type": "markdown",
   "metadata": {},
   "source": [
    "K-nearest neighbors"
   ]
  },
  {
   "cell_type": "code",
   "execution_count": 18,
   "metadata": {
    "ExecuteTime": {
     "end_time": "2019-11-27T16:51:49.502962Z",
     "start_time": "2019-11-27T16:51:49.497990Z"
    }
   },
   "outputs": [],
   "source": [
    "knn = KNeighborsClassifier()"
   ]
  },
  {
   "cell_type": "markdown",
   "metadata": {},
   "source": [
    "Support vector machine"
   ]
  },
  {
   "cell_type": "code",
   "execution_count": 19,
   "metadata": {
    "ExecuteTime": {
     "end_time": "2019-11-27T16:51:50.098175Z",
     "start_time": "2019-11-27T16:51:50.094276Z"
    }
   },
   "outputs": [],
   "source": [
    "svm = SVC(kernel='linear')"
   ]
  },
  {
   "cell_type": "markdown",
   "metadata": {},
   "source": [
    "##  Evaluate training performance"
   ]
  },
  {
   "cell_type": "markdown",
   "metadata": {},
   "source": [
    "Create a list of model names and model variables "
   ]
  },
  {
   "cell_type": "code",
   "execution_count": 20,
   "metadata": {
    "ExecuteTime": {
     "end_time": "2019-11-27T16:51:50.950194Z",
     "start_time": "2019-11-27T16:51:50.945654Z"
    }
   },
   "outputs": [],
   "source": [
    "name_list = ['Logistic regression', 'Random forest', 'K-nearest neighbors', 'Support vector machine']\n",
    "model_list = [lr, rf, knn, svm]"
   ]
  },
  {
   "cell_type": "markdown",
   "metadata": {},
   "source": [
    "Cross validate all of the models and print scores and score mean for each for  Clinton "
   ]
  },
  {
   "cell_type": "code",
   "execution_count": 21,
   "metadata": {
    "ExecuteTime": {
     "end_time": "2019-11-27T16:52:12.122232Z",
     "start_time": "2019-11-27T16:51:51.267189Z"
    }
   },
   "outputs": [
    {
     "name": "stdout",
     "output_type": "stream",
     "text": [
      "Logistic regression : [89.6 88.5 88.1 90.5 89.1] 89.16\n",
      "Random forest : [88.5 90.7 88.3 89.4 85. ] 88.38\n",
      "K-nearest neighbors : [86.1 89.3 86.9 91.1 87.6] 88.2\n",
      "Support vector machine : [89.3 90.4 89.4 91.7 89.4] 90.04\n"
     ]
    }
   ],
   "source": [
    "for idx, model in enumerate(model_list): \n",
    "    clint_scores = cross_val_score(\n",
    "    model, X_train, y_train, cv=5, scoring=clinton_metric, n_jobs=-1)\n",
    "    name = name_list[idx]\n",
    "    print(name,\":\", clint_scores, round(clint_scores.mean(), 5))"
   ]
  },
  {
   "cell_type": "markdown",
   "metadata": {},
   "source": [
    "Cross validate all of the models and print scores and score mean for each for Trump"
   ]
  },
  {
   "cell_type": "code",
   "execution_count": 24,
   "metadata": {
    "ExecuteTime": {
     "end_time": "2019-11-27T16:53:06.596476Z",
     "start_time": "2019-11-27T16:52:47.412943Z"
    }
   },
   "outputs": [
    {
     "name": "stdout",
     "output_type": "stream",
     "text": [
      "Logistic regression : [85.1 85.7 87.  86.6 88.4] Mean: 86.56\n",
      "Random forest : [88.2 87.6 88.8 88.  88.2] Mean: 88.16\n",
      "K-nearest neighbors : [80.4 83.3 83.7 81.8 82. ] Mean: 82.24\n",
      "Support vector machine : [85.3 85.3 88.2 87.  87.2] Mean: 86.6\n"
     ]
    }
   ],
   "source": [
    "for idx, model in enumerate(model_list): \n",
    "    trump_scores = cross_val_score(\n",
    "    model, X_train, y_train, cv=5, scoring=trump_metric, n_jobs=-1)\n",
    "    name = name_list[idx]\n",
    "    print(name, \":\", trump_scores, 'Mean:', round(trump_scores.mean(), 5))"
   ]
  },
  {
   "cell_type": "markdown",
   "metadata": {},
   "source": [
    "Print cross-validated scores for the average of Trump and Clinton scores "
   ]
  },
  {
   "cell_type": "code",
   "execution_count": 25,
   "metadata": {
    "ExecuteTime": {
     "end_time": "2019-11-27T16:53:25.845034Z",
     "start_time": "2019-11-27T16:53:09.446243Z"
    }
   },
   "outputs": [
    {
     "name": "stdout",
     "output_type": "stream",
     "text": [
      "Logistic regression [87.35 87.1  87.55 88.55 88.75] 87.86\n",
      "Random forest [88.05 88.8  88.65 88.6  87.7 ] 88.36\n",
      "K-nearest neighbors [83.25 86.3  85.3  86.45 84.8 ] 85.22\n",
      "Support vector machine [87.3  87.85 88.8  89.35 88.3 ] 88.32\n"
     ]
    }
   ],
   "source": [
    "for idx, model in enumerate(model_list): \n",
    "    comb_scores = cross_val_score(\n",
    "    model, X_train, y_train, cv=5, scoring=comb_metric, n_jobs=-1)\n",
    "    name = name_list[idx]\n",
    "    print(name, comb_scores, comb_scores.mean())"
   ]
  },
  {
   "cell_type": "markdown",
   "metadata": {},
   "source": [
    "Use recursive feature elimination"
   ]
  },
  {
   "cell_type": "code",
   "execution_count": 32,
   "metadata": {
    "ExecuteTime": {
     "end_time": "2019-11-27T17:01:10.842533Z",
     "start_time": "2019-11-27T16:57:19.057801Z"
    }
   },
   "outputs": [
    {
     "data": {
      "text/plain": [
       "RFECV(cv=5,\n",
       "      estimator=LogisticRegression(C=2, class_weight=None, dual=False,\n",
       "                                   fit_intercept=True, intercept_scaling=1,\n",
       "                                   l1_ratio=None, max_iter=1000,\n",
       "                                   multi_class='auto', n_jobs=None,\n",
       "                                   penalty='l2', random_state=None,\n",
       "                                   solver='lbfgs', tol=0.0001, verbose=0,\n",
       "                                   warm_start=False),\n",
       "      min_features_to_select=1, n_jobs=None, scoring=make_scorer(avg_scorer),\n",
       "      step=1, verbose=0)"
      ]
     },
     "execution_count": 32,
     "metadata": {},
     "output_type": "execute_result"
    }
   ],
   "source": [
    "selector = RFECV(lr, step=1, min_features_to_select=1,  scoring=comb_metric, cv=5)\n",
    "selector.fit(X_train, y_train)"
   ]
  },
  {
   "cell_type": "markdown",
   "metadata": {},
   "source": [
    "Number of features found in recursive elimination and grid scores"
   ]
  },
  {
   "cell_type": "code",
   "execution_count": 55,
   "metadata": {
    "ExecuteTime": {
     "end_time": "2019-11-27T17:15:36.960595Z",
     "start_time": "2019-11-27T17:15:36.923556Z"
    }
   },
   "outputs": [
    {
     "data": {
      "text/plain": [
       "array([70.69, 80.12, 82.47, 82.49, 82.65, 82.63, 82.92, 82.77, 83.46,\n",
       "       84.57, 86.12, 86.52, 87.1 , 87.04, 87.08, 87.07, 87.01, 87.02,\n",
       "       86.98, 86.86, 86.86, 86.83, 86.98, 87.01, 87.12, 87.14, 87.72,\n",
       "       87.74, 87.75, 88.04, 88.18, 88.13, 88.09, 87.97, 87.98, 88.1 ,\n",
       "       88.31, 88.29, 88.6 , 88.6 , 88.67, 88.71, 88.62, 88.6 , 88.64,\n",
       "       88.62, 88.48, 88.42, 88.54, 88.37, 88.45, 88.34, 88.34, 88.36,\n",
       "       88.39, 88.35, 88.37, 88.46, 88.14, 88.12, 88.17, 88.16, 88.12,\n",
       "       88.04, 88.08, 88.18, 88.17, 88.14, 88.16, 88.14, 88.15, 87.99,\n",
       "       87.99, 87.97, 88.01, 87.9 , 87.84, 87.78, 87.8 , 87.86, 87.92,\n",
       "       88.  , 88.01, 87.97, 87.95, 88.01, 87.98, 87.99, 88.02, 87.92,\n",
       "       87.9 , 87.86])"
      ]
     },
     "execution_count": 55,
     "metadata": {},
     "output_type": "execute_result"
    }
   ],
   "source": [
    "selector.n_features_\n",
    "selector.grid_scores_"
   ]
  },
  {
   "cell_type": "markdown",
   "metadata": {},
   "source": [
    "Print findings from RFE "
   ]
  },
  {
   "cell_type": "code",
   "execution_count": 87,
   "metadata": {
    "ExecuteTime": {
     "end_time": "2019-11-29T01:29:49.032147Z",
     "start_time": "2019-11-29T01:29:49.004638Z"
    }
   },
   "outputs": [
    {
     "name": "stdout",
     "output_type": "stream",
     "text": [
      "[38 23  3  1 25  1  1 20  1  1  1 28 12 11 40 46 34  1  1  1  1  1  1 21\n",
      " 18  9  1  1 36 35  1  1 30 31 17  1 13  1 16 19 32  2 22  1  1  1  1  1\n",
      " 37  1 44 33 43 24  1  1 14 29 15 45  1  1 42  1  7  5  6 47 41  1  1  1\n",
      "  8  4  1 39 27 26 10  1  1  1  1  1  1  1  1  1  1  1  1  1]\n",
      "[[38, 'imiss_a_2016_2.0'], [23, 'imiss_a_2016_3.0'], [3, 'imiss_a_2016_4.0'], [25, 'imiss_b_2016_2.0'], [20, 'imiss_b_2016_8.0'], [28, 'imiss_c_2016_8.0'], [12, 'imiss_d_2016_2.0'], [11, 'imiss_d_2016_3.0'], [40, 'imiss_d_2016_4.0'], [46, 'imiss_d_2016_8.0'], [34, 'imiss_e_2016_2.0'], [21, 'imiss_f_2016_8.0'], [18, 'imiss_g_2016_2.0'], [9, 'imiss_g_2016_3.0'], [36, 'imiss_h_2016_2.0'], [35, 'imiss_h_2016_3.0'], [30, 'imiss_i_2016_2.0'], [31, 'imiss_i_2016_3.0'], [17, 'imiss_i_2016_4.0'], [13, 'imiss_j_2016_2.0'], [16, 'imiss_j_2016_4.0'], [19, 'imiss_j_2016_8.0'], [32, 'imiss_k_2016_2.0'], [2, 'imiss_k_2016_3.0'], [22, 'imiss_k_2016_4.0'], [37, 'imiss_m_2016_2.0'], [44, 'imiss_m_2016_4.0'], [33, 'imiss_m_2016_8.0'], [43, 'imiss_n_2016_2.0'], [24, 'imiss_n_2016_3.0'], [14, 'imiss_o_2016_2.0'], [29, 'imiss_o_2016_3.0'], [15, 'imiss_o_2016_4.0'], [45, 'imiss_o_2016_8.0'], [42, 'imiss_p_2016_4.0'], [7, 'imiss_q_2016_2.0'], [5, 'imiss_q_2016_3.0'], [6, 'imiss_q_2016_4.0'], [47, 'imiss_q_2016_8.0'], [41, 'imiss_r_2016_2.0'], [8, 'imiss_s_2016_2.0'], [4, 'imiss_s_2016_3.0'], [39, 'imiss_s_2016_8.0'], [27, 'imiss_t_2016_2.0'], [26, 'imiss_t_2016_3.0'], [10, 'imiss_t_2016_4.0']]\n",
      "[[1, 'imiss_a_2016_8.0'], [1, 'imiss_b_2016_3.0'], [1, 'imiss_b_2016_4.0'], [1, 'imiss_c_2016_2.0'], [1, 'imiss_c_2016_3.0'], [1, 'imiss_c_2016_4.0'], [1, 'imiss_e_2016_3.0'], [1, 'imiss_e_2016_4.0'], [1, 'imiss_e_2016_8.0'], [1, 'imiss_f_2016_2.0'], [1, 'imiss_f_2016_3.0'], [1, 'imiss_f_2016_4.0'], [1, 'imiss_g_2016_4.0'], [1, 'imiss_g_2016_8.0'], [1, 'imiss_h_2016_4.0'], [1, 'imiss_h_2016_8.0'], [1, 'imiss_i_2016_8.0'], [1, 'imiss_j_2016_3.0'], [1, 'imiss_k_2016_8.0'], [1, 'imiss_l_2016_2.0'], [1, 'imiss_l_2016_3.0'], [1, 'imiss_l_2016_4.0'], [1, 'imiss_l_2016_8.0'], [1, 'imiss_m_2016_3.0'], [1, 'imiss_n_2016_4.0'], [1, 'imiss_n_2016_8.0'], [1, 'imiss_p_2016_2.0'], [1, 'imiss_p_2016_3.0'], [1, 'imiss_p_2016_8.0'], [1, 'imiss_r_2016_3.0'], [1, 'imiss_r_2016_4.0'], [1, 'imiss_r_2016_8.0'], [1, 'imiss_s_2016_4.0'], [1, 'imiss_t_2016_8.0'], [1, 'imiss_u_2016_2.0'], [1, 'imiss_u_2016_3.0'], [1, 'imiss_u_2016_4.0'], [1, 'imiss_u_2016_8.0'], [1, 'imiss_x_2016_2.0'], [1, 'imiss_x_2016_3.0'], [1, 'imiss_x_2016_4.0'], [1, 'imiss_x_2016_8.0'], [1, 'imiss_y_2016_2.0'], [1, 'imiss_y_2016_3.0'], [1, 'imiss_y_2016_4.0'], [1, 'imiss_y_2016_8.0']]\n"
     ]
    }
   ],
   "source": [
    "selector.support_\n",
    "print(selector.ranking_)\n",
    "rank_list = selector.ranking_\n",
    "feature_ranks = []\n",
    "no = []\n",
    "yes = []\n",
    "for idx, rank in enumerate(rank_list):\n",
    "    feature_ranks.append([rank, X_train.columns[idx]])\n",
    "for list in feature_ranks:\n",
    "    if list[0] != 1:\n",
    "        #print('no', list)\n",
    "        no.append(list)\n",
    "    if list[0] == 1:\n",
    "        #print('yes', list)\n",
    "        yes.append(list)\n",
    "print(no)\n",
    "print(yes)"
   ]
  },
  {
   "cell_type": "markdown",
   "metadata": {},
   "source": [
    "## Parameter tuning"
   ]
  },
  {
   "cell_type": "markdown",
   "metadata": {},
   "source": [
    "Define parameter grid for random forest"
   ]
  },
  {
   "cell_type": "code",
   "execution_count": 59,
   "metadata": {
    "ExecuteTime": {
     "end_time": "2019-11-27T17:18:38.045681Z",
     "start_time": "2019-11-27T17:18:38.027907Z"
    }
   },
   "outputs": [],
   "source": [
    "param_grid = {'n_estimators': [100], 'max_depth': [\n",
    "    1, 2, 3, 4, 5, 6, 7, 8, 9, 10], 'oob_score': [True], 'max_features': [None, 'sqrt']}"
   ]
  },
  {
   "cell_type": "markdown",
   "metadata": {},
   "source": [
    "Find the best parameters and then crossvalidate with five folds"
   ]
  },
  {
   "cell_type": "code",
   "execution_count": 60,
   "metadata": {
    "ExecuteTime": {
     "end_time": "2019-11-27T17:18:38.807686Z",
     "start_time": "2019-11-27T17:18:38.783446Z"
    }
   },
   "outputs": [],
   "source": [
    "grid = GridSearchCV(rf, param_grid, iid=True, cv=5, n_jobs=-1,\n",
    "                    scoring=comb_metric, verbose=1, return_train_score=True)"
   ]
  },
  {
   "cell_type": "markdown",
   "metadata": {},
   "source": [
    "Fit training data to grid"
   ]
  },
  {
   "cell_type": "code",
   "execution_count": 61,
   "metadata": {
    "ExecuteTime": {
     "end_time": "2019-11-27T17:22:05.377410Z",
     "start_time": "2019-11-27T17:18:39.762610Z"
    }
   },
   "outputs": [
    {
     "name": "stdout",
     "output_type": "stream",
     "text": [
      "Fitting 5 folds for each of 20 candidates, totalling 100 fits\n"
     ]
    },
    {
     "name": "stderr",
     "output_type": "stream",
     "text": [
      "[Parallel(n_jobs=-1)]: Using backend LokyBackend with 4 concurrent workers.\n",
      "[Parallel(n_jobs=-1)]: Done  42 tasks      | elapsed:  1.0min\n",
      "[Parallel(n_jobs=-1)]: Done 100 out of 100 | elapsed:  3.4min finished\n"
     ]
    },
    {
     "data": {
      "text/plain": [
       "GridSearchCV(cv=5, error_score='raise-deprecating',\n",
       "             estimator=RandomForestClassifier(bootstrap=True, class_weight=None,\n",
       "                                              criterion='gini', max_depth=None,\n",
       "                                              max_features='auto',\n",
       "                                              max_leaf_nodes=None,\n",
       "                                              min_impurity_decrease=0.0,\n",
       "                                              min_impurity_split=None,\n",
       "                                              min_samples_leaf=1,\n",
       "                                              min_samples_split=2,\n",
       "                                              min_weight_fraction_leaf=0.0,\n",
       "                                              n_estimators=100, n_jobs=None,\n",
       "                                              oob_score=False,\n",
       "                                              random_state=None, verbose=0,\n",
       "                                              warm_start=False),\n",
       "             iid=True, n_jobs=-1,\n",
       "             param_grid={'max_depth': [1, 2, 3, 4, 5, 6, 7, 8, 9, 10],\n",
       "                         'max_features': [None, 'sqrt'], 'n_estimators': [100],\n",
       "                         'oob_score': [True]},\n",
       "             pre_dispatch='2*n_jobs', refit=True, return_train_score=True,\n",
       "             scoring=make_scorer(avg_scorer), verbose=1)"
      ]
     },
     "execution_count": 61,
     "metadata": {},
     "output_type": "execute_result"
    }
   ],
   "source": [
    "grid.fit(X_train, y_train)"
   ]
  },
  {
   "cell_type": "markdown",
   "metadata": {},
   "source": [
    "Print best parameters and best score"
   ]
  },
  {
   "cell_type": "code",
   "execution_count": null,
   "metadata": {
    "ExecuteTime": {
     "end_time": "2019-11-27T16:13:45.525263Z",
     "start_time": "2019-11-27T16:13:45.515439Z"
    }
   },
   "outputs": [],
   "source": [
    "print(grid.best_params_)\n",
    "print(round(grid.best_score_, 3))"
   ]
  },
  {
   "cell_type": "markdown",
   "metadata": {},
   "source": [
    "### Feature importance"
   ]
  },
  {
   "cell_type": "markdown",
   "metadata": {},
   "source": [
    "Check feature importance "
   ]
  },
  {
   "cell_type": "code",
   "execution_count": null,
   "metadata": {
    "ExecuteTime": {
     "end_time": "2019-11-27T16:42:32.002281Z",
     "start_time": "2019-11-27T16:42:31.974591Z"
    }
   },
   "outputs": [],
   "source": [
    "feats = pd.DataFrame(grid.best_estimator_.feature_importances_,\n",
    "                                   index = X_train.columns,\n",
    "                                    columns=['importance']).sort_values('importance',ascending=False)\n",
    "feats.sort_values(by='importance')[80:92]"
   ]
  },
  {
   "cell_type": "markdown",
   "metadata": {},
   "source": [
    "## Evaluate test performance"
   ]
  },
  {
   "cell_type": "code",
   "execution_count": 62,
   "metadata": {
    "ExecuteTime": {
     "end_time": "2019-11-27T17:27:15.902348Z",
     "start_time": "2019-11-27T17:22:05.409631Z"
    }
   },
   "outputs": [
    {
     "name": "stdout",
     "output_type": "stream",
     "text": [
      "Fitting 5 folds for each of 20 candidates, totalling 100 fits\n"
     ]
    },
    {
     "name": "stderr",
     "output_type": "stream",
     "text": [
      "[Parallel(n_jobs=-1)]: Using backend LokyBackend with 4 concurrent workers.\n",
      "[Parallel(n_jobs=-1)]: Done  42 tasks      | elapsed:   16.9s\n",
      "[Parallel(n_jobs=-1)]: Done 100 out of 100 | elapsed:   40.7s finished\n"
     ]
    },
    {
     "name": "stdout",
     "output_type": "stream",
     "text": [
      "Fitting 5 folds for each of 20 candidates, totalling 100 fits\n"
     ]
    },
    {
     "name": "stderr",
     "output_type": "stream",
     "text": [
      "[Parallel(n_jobs=-1)]: Using backend LokyBackend with 4 concurrent workers.\n",
      "[Parallel(n_jobs=-1)]: Done  42 tasks      | elapsed:  1.5min\n",
      "[Parallel(n_jobs=-1)]: Done 100 out of 100 | elapsed:  2.0min finished\n"
     ]
    },
    {
     "name": "stdout",
     "output_type": "stream",
     "text": [
      "Fitting 5 folds for each of 20 candidates, totalling 100 fits\n"
     ]
    },
    {
     "name": "stderr",
     "output_type": "stream",
     "text": [
      "[Parallel(n_jobs=-1)]: Using backend LokyBackend with 4 concurrent workers.\n",
      "[Parallel(n_jobs=-1)]: Done  42 tasks      | elapsed:   18.4s\n",
      "[Parallel(n_jobs=-1)]: Done 100 out of 100 | elapsed:   55.1s finished\n"
     ]
    },
    {
     "name": "stdout",
     "output_type": "stream",
     "text": [
      "Fitting 5 folds for each of 20 candidates, totalling 100 fits\n"
     ]
    },
    {
     "name": "stderr",
     "output_type": "stream",
     "text": [
      "[Parallel(n_jobs=-1)]: Using backend LokyBackend with 4 concurrent workers.\n",
      "[Parallel(n_jobs=-1)]: Done  42 tasks      | elapsed:   13.9s\n",
      "[Parallel(n_jobs=-1)]: Done 100 out of 100 | elapsed:   41.6s finished\n"
     ]
    },
    {
     "name": "stdout",
     "output_type": "stream",
     "text": [
      "Fitting 5 folds for each of 20 candidates, totalling 100 fits\n"
     ]
    },
    {
     "name": "stderr",
     "output_type": "stream",
     "text": [
      "[Parallel(n_jobs=-1)]: Using backend LokyBackend with 4 concurrent workers.\n",
      "[Parallel(n_jobs=-1)]: Done  42 tasks      | elapsed:   19.2s\n",
      "[Parallel(n_jobs=-1)]: Done 100 out of 100 | elapsed:   47.6s finished\n"
     ]
    }
   ],
   "source": [
    "scores = cross_validate(grid, X_test, y_test, scoring=comb_metric, cv=5)"
   ]
  },
  {
   "cell_type": "code",
   "execution_count": 63,
   "metadata": {
    "ExecuteTime": {
     "end_time": "2019-11-27T17:27:16.168732Z",
     "start_time": "2019-11-27T17:27:16.037336Z"
    }
   },
   "outputs": [
    {
     "data": {
      "text/plain": [
       "90.26"
      ]
     },
     "execution_count": 63,
     "metadata": {},
     "output_type": "execute_result"
    }
   ],
   "source": [
    "scores['test_score'].mean()"
   ]
  }
 ],
 "metadata": {
  "kernelspec": {
   "display_name": "Python 3",
   "language": "python",
   "name": "python3"
  },
  "language_info": {
   "codemirror_mode": {
    "name": "ipython",
    "version": 3
   },
   "file_extension": ".py",
   "mimetype": "text/x-python",
   "name": "python",
   "nbconvert_exporter": "python",
   "pygments_lexer": "ipython3",
   "version": "3.7.3"
  },
  "toc": {
   "base_numbering": 1,
   "nav_menu": {},
   "number_sections": true,
   "sideBar": true,
   "skip_h1_title": false,
   "title_cell": "Table of Contents",
   "title_sidebar": "Contents",
   "toc_cell": false,
   "toc_position": {},
   "toc_section_display": true,
   "toc_window_display": false
  }
 },
 "nbformat": 4,
 "nbformat_minor": 2
}
