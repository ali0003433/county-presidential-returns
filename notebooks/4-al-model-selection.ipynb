{
 "cells": [
  {
   "cell_type": "markdown",
   "metadata": {},
   "source": [
    "# Model selection and parameter tuning"
   ]
  },
  {
   "cell_type": "markdown",
   "metadata": {},
   "source": [
    "## Prepare notebook"
   ]
  },
  {
   "cell_type": "markdown",
   "metadata": {},
   "source": [
    "Import libraries and functions"
   ]
  },
  {
   "cell_type": "code",
   "execution_count": 26,
   "metadata": {
    "ExecuteTime": {
     "end_time": "2019-11-26T23:40:40.258928Z",
     "start_time": "2019-11-26T23:40:40.235765Z"
    }
   },
   "outputs": [],
   "source": [
    "import matplotlib.pyplot as plt\n",
    "import numpy as np\n",
    "import pandas as pd\n",
    "import pickle\n",
    "import re\n",
    "import seaborn as sns\n",
    "from sklearn import metrics\n",
    "from sklearn.ensemble import RandomForestClassifier\n",
    "from sklearn.linear_model import LogisticRegression\n",
    "from sklearn.metrics import confusion_matrix, make_scorer\n",
    "from sklearn.model_selection import cross_val_score, train_test_split, GridSearchCV\n",
    "from sklearn.neighbors import KNeighborsClassifier\n",
    "from sklearn.svm import SVC\n",
    "import sys\n",
    "import os\n",
    "sys.path.append('../src/models')\n",
    "from predict_model import clint_scorer, trump_scorer\n",
    "#warnings.filterwarnings(\"ignore\")"
   ]
  },
  {
   "cell_type": "markdown",
   "metadata": {},
   "source": [
    "Load predictors and target variable"
   ]
  },
  {
   "cell_type": "code",
   "execution_count": 3,
   "metadata": {
    "ExecuteTime": {
     "end_time": "2019-11-26T23:24:18.797841Z",
     "start_time": "2019-11-26T23:24:18.773636Z"
    }
   },
   "outputs": [],
   "source": [
    "with open('../data/processed/predictors.pickle', 'rb') as file:\n",
    "    X = pickle.load(file)\n",
    "with open('../data/processed/target.pickle', 'rb') as file:\n",
    "    y = pickle.load(file)"
   ]
  },
  {
   "cell_type": "markdown",
   "metadata": {},
   "source": [
    "## Split data into train and test sets"
   ]
  },
  {
   "cell_type": "markdown",
   "metadata": {},
   "source": [
    "Split data into a train set and a test set "
   ]
  },
  {
   "cell_type": "code",
   "execution_count": 4,
   "metadata": {
    "ExecuteTime": {
     "end_time": "2019-11-26T23:24:29.940811Z",
     "start_time": "2019-11-26T23:24:29.925428Z"
    }
   },
   "outputs": [],
   "source": [
    "X_train, X_test, y_train, y_test = train_test_split(X, y)"
   ]
  },
  {
   "cell_type": "markdown",
   "metadata": {},
   "source": [
    "## Define function to score model performance "
   ]
  },
  {
   "cell_type": "markdown",
   "metadata": {},
   "source": [
    "Create a metric to pass to cross_val_score when evaluating models"
   ]
  },
  {
   "cell_type": "code",
   "execution_count": 5,
   "metadata": {
    "ExecuteTime": {
     "end_time": "2019-11-26T23:25:03.784550Z",
     "start_time": "2019-11-26T23:25:03.777472Z"
    }
   },
   "outputs": [],
   "source": [
    "clinton_metric = make_scorer(clint_scorer)\n",
    "trump_metric = make_scorer(trump_scorer)"
   ]
  },
  {
   "cell_type": "markdown",
   "metadata": {},
   "source": [
    "## Define models "
   ]
  },
  {
   "cell_type": "markdown",
   "metadata": {},
   "source": [
    "Logistic regression"
   ]
  },
  {
   "cell_type": "code",
   "execution_count": 9,
   "metadata": {
    "ExecuteTime": {
     "end_time": "2019-11-26T23:28:16.074850Z",
     "start_time": "2019-11-26T23:28:16.070153Z"
    }
   },
   "outputs": [],
   "source": [
    "lr = LogisticRegression(\n",
    "    C=2, penalty='l2', solver='lbfgs', multi_class='auto', max_iter=1000)"
   ]
  },
  {
   "cell_type": "markdown",
   "metadata": {},
   "source": [
    "Random forest classifier"
   ]
  },
  {
   "cell_type": "code",
   "execution_count": 10,
   "metadata": {
    "ExecuteTime": {
     "end_time": "2019-11-26T23:28:16.796439Z",
     "start_time": "2019-11-26T23:28:16.790883Z"
    }
   },
   "outputs": [],
   "source": [
    "rf = RandomForestClassifier(n_estimators=100)"
   ]
  },
  {
   "cell_type": "markdown",
   "metadata": {},
   "source": [
    "K-nearest neighbors"
   ]
  },
  {
   "cell_type": "code",
   "execution_count": 11,
   "metadata": {
    "ExecuteTime": {
     "end_time": "2019-11-26T23:28:17.363105Z",
     "start_time": "2019-11-26T23:28:17.358688Z"
    }
   },
   "outputs": [],
   "source": [
    "knn = KNeighborsClassifier()"
   ]
  },
  {
   "cell_type": "markdown",
   "metadata": {},
   "source": [
    "Support vector machine"
   ]
  },
  {
   "cell_type": "code",
   "execution_count": 12,
   "metadata": {
    "ExecuteTime": {
     "end_time": "2019-11-26T23:28:17.898788Z",
     "start_time": "2019-11-26T23:28:17.894510Z"
    }
   },
   "outputs": [],
   "source": [
    "svm = SVC(kernel='linear')"
   ]
  },
  {
   "cell_type": "markdown",
   "metadata": {},
   "source": [
    "##  Check model performance"
   ]
  },
  {
   "cell_type": "markdown",
   "metadata": {},
   "source": [
    "Create a list of model names and model variables "
   ]
  },
  {
   "cell_type": "code",
   "execution_count": 19,
   "metadata": {
    "ExecuteTime": {
     "end_time": "2019-11-26T23:33:15.269078Z",
     "start_time": "2019-11-26T23:33:15.263276Z"
    }
   },
   "outputs": [],
   "source": [
    "name_list = ['Logistic regression', 'Random forest', 'K-nearest neighbors', 'Support vector machine']\n",
    "model_list = [lr, rf, knn, svm]"
   ]
  },
  {
   "cell_type": "markdown",
   "metadata": {},
   "source": [
    "Cross validate all of the models and print scores and score mean for each for  Clinton "
   ]
  },
  {
   "cell_type": "code",
   "execution_count": 24,
   "metadata": {
    "ExecuteTime": {
     "end_time": "2019-11-26T23:37:20.199517Z",
     "start_time": "2019-11-26T23:37:04.309125Z"
    }
   },
   "outputs": [
    {
     "name": "stdout",
     "output_type": "stream",
     "text": [
      "Logistic regression : [89.3 87.8 89.8 91.4 88.7] Mean: 89.4\n",
      "Random forest : [89.3 87.1 87.2 91.2 90.4] Mean: 89.04\n",
      "K-nearest neighbors : [88.7 88.7 88.  89.5 88.2] Mean: 88.62\n",
      "Support vector machine : [90.4 89.1 91.4 91.5 89.1] Mean: 90.3\n"
     ]
    }
   ],
   "source": [
    "for idx, model in enumerate(model_list): \n",
    "    clint_scores = cross_val_score(\n",
    "    model, X_train, y_train, cv=5, scoring=clinton_metric, n_jobs=-1)\n",
    "    name = name_list[idx]\n",
    "    print(name,\":\", clint_scores, 'Mean:', round(clint_scores.mean(), 5))"
   ]
  },
  {
   "cell_type": "markdown",
   "metadata": {},
   "source": [
    "Cross validate all of the models and print scores and score mean for each for Trump"
   ]
  },
  {
   "cell_type": "code",
   "execution_count": 25,
   "metadata": {
    "ExecuteTime": {
     "end_time": "2019-11-26T23:37:37.288019Z",
     "start_time": "2019-11-26T23:37:20.202344Z"
    }
   },
   "outputs": [
    {
     "name": "stdout",
     "output_type": "stream",
     "text": [
      "Logistic regression : [86.4 88.5 86.9 87.5 89.4] Mean: 87.74\n",
      "Random forest : [87.3 91.2 86.4 88.3 91.2] Mean: 88.88\n",
      "K-nearest neighbors : [80.6 83.7 79.7 81.8 81.9] Mean: 81.54\n",
      "Support vector machine : [86.8 87.7 85.4 86.4 89. ] Mean: 87.06\n"
     ]
    }
   ],
   "source": [
    "for idx, model in enumerate(model_list): \n",
    "    trump_scores = cross_val_score(\n",
    "    model, X_train, y_train, cv=5, scoring=trump_metric, n_jobs=-1)\n",
    "    name = name_list[idx]\n",
    "    print(name, \":\", trump_scores, 'Mean:', round(trump_scores.mean(), 5))"
   ]
  },
  {
   "cell_type": "code",
   "execution_count": 68,
   "metadata": {
    "ExecuteTime": {
     "end_time": "2019-11-27T02:28:53.690973Z",
     "start_time": "2019-11-27T02:28:53.663312Z"
    }
   },
   "outputs": [
    {
     "name": "stdout",
     "output_type": "stream",
     "text": [
      "88.57\n",
      "88.96000000000001\n",
      "85.08000000000001\n",
      "88.68\n"
     ]
    }
   ],
   "source": [
    "print((87.74+89.4)/2)\n",
    "print((88.88 + 89.04)/2)\n",
    "print((88.62+81.54)/2)\n",
    "print((87.06 +90.3)/2)"
   ]
  },
  {
   "cell_type": "markdown",
   "metadata": {},
   "source": [
    "## Parameter tuning"
   ]
  },
  {
   "cell_type": "markdown",
   "metadata": {},
   "source": [
    "Define parameter grid for random forest"
   ]
  },
  {
   "cell_type": "code",
   "execution_count": 40,
   "metadata": {
    "ExecuteTime": {
     "end_time": "2019-11-26T23:53:17.205263Z",
     "start_time": "2019-11-26T23:53:17.200370Z"
    }
   },
   "outputs": [],
   "source": [
    "param_grid = {'n_estimators': [10, 100, 250], 'max_depth': [\n",
    "    2, 3, 5, 7], 'oob_score': [True], 'max_features': [None]}"
   ]
  },
  {
   "cell_type": "markdown",
   "metadata": {},
   "source": [
    "Find the best parameters and then crossvalidate with five folds"
   ]
  },
  {
   "cell_type": "code",
   "execution_count": 50,
   "metadata": {
    "ExecuteTime": {
     "end_time": "2019-11-27T01:37:09.821694Z",
     "start_time": "2019-11-27T01:37:09.815447Z"
    }
   },
   "outputs": [],
   "source": [
    "grid = GridSearchCV(rf, param_grid, iid=True, cv=5,\n",
    "                    n_jobs=-1, scoring=clinton_metric, verbose=1, return_train_score=True)"
   ]
  },
  {
   "cell_type": "markdown",
   "metadata": {},
   "source": [
    "Fit training data to grid"
   ]
  },
  {
   "cell_type": "code",
   "execution_count": 51,
   "metadata": {
    "ExecuteTime": {
     "end_time": "2019-11-27T01:38:02.463308Z",
     "start_time": "2019-11-27T01:37:11.475238Z"
    }
   },
   "outputs": [
    {
     "name": "stdout",
     "output_type": "stream",
     "text": [
      "Fitting 5 folds for each of 12 candidates, totalling 60 fits\n"
     ]
    },
    {
     "name": "stderr",
     "output_type": "stream",
     "text": [
      "[Parallel(n_jobs=-1)]: Using backend LokyBackend with 4 concurrent workers.\n",
      "[Parallel(n_jobs=-1)]: Done  42 tasks      | elapsed:   27.8s\n",
      "[Parallel(n_jobs=-1)]: Done  60 out of  60 | elapsed:   50.8s finished\n",
      "/Users/alyssaliguori/anaconda3/lib/python3.7/site-packages/sklearn/ensemble/forest.py:460: UserWarning: Some inputs do not have OOB scores. This probably means too few trees were used to compute any reliable oob estimates.\n",
      "  warn(\"Some inputs do not have OOB scores. \"\n",
      "/Users/alyssaliguori/anaconda3/lib/python3.7/site-packages/sklearn/ensemble/forest.py:465: RuntimeWarning: divide by zero encountered in true_divide\n",
      "  predictions[k].sum(axis=1)[:, np.newaxis])\n",
      "/Users/alyssaliguori/anaconda3/lib/python3.7/site-packages/sklearn/ensemble/forest.py:465: RuntimeWarning: invalid value encountered in true_divide\n",
      "  predictions[k].sum(axis=1)[:, np.newaxis])\n"
     ]
    },
    {
     "data": {
      "text/plain": [
       "GridSearchCV(cv=5, error_score='raise-deprecating',\n",
       "             estimator=RandomForestClassifier(bootstrap=True, class_weight=None,\n",
       "                                              criterion='gini', max_depth=None,\n",
       "                                              max_features='auto',\n",
       "                                              max_leaf_nodes=None,\n",
       "                                              min_impurity_decrease=0.0,\n",
       "                                              min_impurity_split=None,\n",
       "                                              min_samples_leaf=1,\n",
       "                                              min_samples_split=2,\n",
       "                                              min_weight_fraction_leaf=0.0,\n",
       "                                              n_estimators=100, n_jobs=None,\n",
       "                                              oob_score=False,\n",
       "                                              random_state=None, verbose=0,\n",
       "                                              warm_start=False),\n",
       "             iid=True, n_jobs=-1,\n",
       "             param_grid={'max_depth': [2, 3, 5, 7], 'max_features': [None],\n",
       "                         'n_estimators': [10, 100, 250], 'oob_score': [True]},\n",
       "             pre_dispatch='2*n_jobs', refit=True, return_train_score=True,\n",
       "             scoring=make_scorer(clint_scorer), verbose=1)"
      ]
     },
     "execution_count": 51,
     "metadata": {},
     "output_type": "execute_result"
    }
   ],
   "source": [
    "grid.fit(X_train, y_train)"
   ]
  },
  {
   "cell_type": "markdown",
   "metadata": {},
   "source": [
    "Print best parameters and best score"
   ]
  },
  {
   "cell_type": "code",
   "execution_count": 58,
   "metadata": {
    "ExecuteTime": {
     "end_time": "2019-11-27T01:42:30.664795Z",
     "start_time": "2019-11-27T01:42:30.644074Z"
    }
   },
   "outputs": [
    {
     "name": "stdout",
     "output_type": "stream",
     "text": [
      "{'max_depth': 3, 'max_features': None, 'n_estimators': 10, 'oob_score': True}\n",
      "95.1\n"
     ]
    }
   ],
   "source": [
    "print(grid.best_params_)\n",
    "print(round(grid.best_score_, 3))"
   ]
  },
  {
   "cell_type": "markdown",
   "metadata": {},
   "source": [
    "# Test "
   ]
  },
  {
   "cell_type": "markdown",
   "metadata": {},
   "source": [
    "Crossvalidate with 5 folds on the test data and check performance metrics"
   ]
  },
  {
   "cell_type": "code",
   "execution_count": null,
   "metadata": {},
   "outputs": [],
   "source": []
  }
 ],
 "metadata": {
  "kernelspec": {
   "display_name": "Python 3",
   "language": "python",
   "name": "python3"
  },
  "language_info": {
   "codemirror_mode": {
    "name": "ipython",
    "version": 3
   },
   "file_extension": ".py",
   "mimetype": "text/x-python",
   "name": "python",
   "nbconvert_exporter": "python",
   "pygments_lexer": "ipython3",
   "version": "3.7.3"
  },
  "toc": {
   "base_numbering": 1,
   "nav_menu": {},
   "number_sections": true,
   "sideBar": true,
   "skip_h1_title": false,
   "title_cell": "Table of Contents",
   "title_sidebar": "Contents",
   "toc_cell": false,
   "toc_position": {},
   "toc_section_display": true,
   "toc_window_display": false
  }
 },
 "nbformat": 4,
 "nbformat_minor": 2
}
