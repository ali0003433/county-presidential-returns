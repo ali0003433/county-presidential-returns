{
 "cells": [
  {
   "cell_type": "markdown",
   "metadata": {},
   "source": [
    "# Model selection and parameter tuning"
   ]
  },
  {
   "cell_type": "markdown",
   "metadata": {},
   "source": [
    "## Prepare notebook"
   ]
  },
  {
   "cell_type": "markdown",
   "metadata": {},
   "source": [
    "Import libraries and functions"
   ]
  },
  {
   "cell_type": "code",
   "execution_count": 120,
   "metadata": {
    "ExecuteTime": {
     "end_time": "2019-11-27T13:23:12.649441Z",
     "start_time": "2019-11-27T13:23:11.869829Z"
    }
   },
   "outputs": [],
   "source": [
    "import matplotlib.pyplot as plt\n",
    "import numpy as np\n",
    "import pandas as pd\n",
    "import pickle\n",
    "import re\n",
    "import seaborn as sns\n",
    "from sklearn import metrics\n",
    "from sklearn.ensemble import RandomForestClassifier\n",
    "from sklearn.feature_selection import RFE\n",
    "from sklearn.linear_model import LogisticRegression\n",
    "from sklearn.metrics import confusion_matrix, make_scorer\n",
    "from sklearn.model_selection import cross_val_score, train_test_split, GridSearchCV\n",
    "from sklearn.neighbors import KNeighborsClassifier\n",
    "from sklearn.svm import SVC\n",
    "import sys\n",
    "import os\n",
    "sys.path.append('../src/models')\n",
    "from predict_model import clint_scorer, trump_scorer\n",
    "#warnings.filterwarnings(\"ignore\")"
   ]
  },
  {
   "cell_type": "markdown",
   "metadata": {},
   "source": [
    "Load predictors and target variable"
   ]
  },
  {
   "cell_type": "code",
   "execution_count": 3,
   "metadata": {
    "ExecuteTime": {
     "end_time": "2019-11-26T23:24:18.797841Z",
     "start_time": "2019-11-26T23:24:18.773636Z"
    }
   },
   "outputs": [],
   "source": [
    "with open('../data/processed/predictors.pickle', 'rb') as file:\n",
    "    X = pickle.load(file)\n",
    "with open('../data/processed/target.pickle', 'rb') as file:\n",
    "    y = pickle.load(file)"
   ]
  },
  {
   "cell_type": "markdown",
   "metadata": {},
   "source": [
    "## Split data into train and test sets"
   ]
  },
  {
   "cell_type": "markdown",
   "metadata": {},
   "source": [
    "Split data into a train set and a test set "
   ]
  },
  {
   "cell_type": "code",
   "execution_count": 4,
   "metadata": {
    "ExecuteTime": {
     "end_time": "2019-11-26T23:24:29.940811Z",
     "start_time": "2019-11-26T23:24:29.925428Z"
    }
   },
   "outputs": [],
   "source": [
    "X_train, X_test, y_train, y_test = train_test_split(X, y)"
   ]
  },
  {
   "cell_type": "markdown",
   "metadata": {},
   "source": [
    "## Define function to score model performance "
   ]
  },
  {
   "cell_type": "markdown",
   "metadata": {},
   "source": [
    "Create a metric to pass to cross_val_score when evaluating models"
   ]
  },
  {
   "cell_type": "code",
   "execution_count": 5,
   "metadata": {
    "ExecuteTime": {
     "end_time": "2019-11-26T23:25:03.784550Z",
     "start_time": "2019-11-26T23:25:03.777472Z"
    }
   },
   "outputs": [],
   "source": [
    "clinton_metric = make_scorer(clint_scorer)\n",
    "trump_metric = make_scorer(trump_scorer)"
   ]
  },
  {
   "cell_type": "markdown",
   "metadata": {},
   "source": [
    "## Define models "
   ]
  },
  {
   "cell_type": "markdown",
   "metadata": {},
   "source": [
    "Logistic regression"
   ]
  },
  {
   "cell_type": "code",
   "execution_count": 9,
   "metadata": {
    "ExecuteTime": {
     "end_time": "2019-11-26T23:28:16.074850Z",
     "start_time": "2019-11-26T23:28:16.070153Z"
    }
   },
   "outputs": [],
   "source": [
    "lr = LogisticRegression(\n",
    "    C=2, penalty='l2', solver='lbfgs', multi_class='auto', max_iter=1000)"
   ]
  },
  {
   "cell_type": "markdown",
   "metadata": {},
   "source": [
    "Random forest classifier"
   ]
  },
  {
   "cell_type": "code",
   "execution_count": 10,
   "metadata": {
    "ExecuteTime": {
     "end_time": "2019-11-26T23:28:16.796439Z",
     "start_time": "2019-11-26T23:28:16.790883Z"
    }
   },
   "outputs": [],
   "source": [
    "rf = RandomForestClassifier(n_estimators=100)"
   ]
  },
  {
   "cell_type": "markdown",
   "metadata": {},
   "source": [
    "K-nearest neighbors"
   ]
  },
  {
   "cell_type": "code",
   "execution_count": 11,
   "metadata": {
    "ExecuteTime": {
     "end_time": "2019-11-26T23:28:17.363105Z",
     "start_time": "2019-11-26T23:28:17.358688Z"
    }
   },
   "outputs": [],
   "source": [
    "knn = KNeighborsClassifier()"
   ]
  },
  {
   "cell_type": "markdown",
   "metadata": {},
   "source": [
    "Support vector machine"
   ]
  },
  {
   "cell_type": "code",
   "execution_count": 12,
   "metadata": {
    "ExecuteTime": {
     "end_time": "2019-11-26T23:28:17.898788Z",
     "start_time": "2019-11-26T23:28:17.894510Z"
    }
   },
   "outputs": [],
   "source": [
    "svm = SVC(kernel='linear')"
   ]
  },
  {
   "cell_type": "markdown",
   "metadata": {},
   "source": [
    "##  Check model performance"
   ]
  },
  {
   "cell_type": "markdown",
   "metadata": {},
   "source": [
    "Create a list of model names and model variables "
   ]
  },
  {
   "cell_type": "code",
   "execution_count": 19,
   "metadata": {
    "ExecuteTime": {
     "end_time": "2019-11-26T23:33:15.269078Z",
     "start_time": "2019-11-26T23:33:15.263276Z"
    }
   },
   "outputs": [],
   "source": [
    "name_list = ['Logistic regression', 'Random forest', 'K-nearest neighbors', 'Support vector machine']\n",
    "model_list = [lr, rf, knn, svm]"
   ]
  },
  {
   "cell_type": "markdown",
   "metadata": {},
   "source": [
    "Cross validate all of the models and print scores and score mean for each for  Clinton "
   ]
  },
  {
   "cell_type": "code",
   "execution_count": 24,
   "metadata": {
    "ExecuteTime": {
     "end_time": "2019-11-26T23:37:20.199517Z",
     "start_time": "2019-11-26T23:37:04.309125Z"
    }
   },
   "outputs": [
    {
     "name": "stdout",
     "output_type": "stream",
     "text": [
      "Logistic regression : [89.3 87.8 89.8 91.4 88.7] Mean: 89.4\n",
      "Random forest : [89.3 87.1 87.2 91.2 90.4] Mean: 89.04\n",
      "K-nearest neighbors : [88.7 88.7 88.  89.5 88.2] Mean: 88.62\n",
      "Support vector machine : [90.4 89.1 91.4 91.5 89.1] Mean: 90.3\n"
     ]
    }
   ],
   "source": [
    "for idx, model in enumerate(model_list): \n",
    "    clint_scores = cross_val_score(\n",
    "    model, X_train, y_train, cv=5, scoring=clinton_metric, n_jobs=-1)\n",
    "    name = name_list[idx]\n",
    "    print(name,\":\", clint_scores, 'Mean:', round(clint_scores.mean(), 5))"
   ]
  },
  {
   "cell_type": "markdown",
   "metadata": {},
   "source": [
    "Cross validate all of the models and print scores and score mean for each for Trump"
   ]
  },
  {
   "cell_type": "code",
   "execution_count": 25,
   "metadata": {
    "ExecuteTime": {
     "end_time": "2019-11-26T23:37:37.288019Z",
     "start_time": "2019-11-26T23:37:20.202344Z"
    }
   },
   "outputs": [
    {
     "name": "stdout",
     "output_type": "stream",
     "text": [
      "Logistic regression : [86.4 88.5 86.9 87.5 89.4] Mean: 87.74\n",
      "Random forest : [87.3 91.2 86.4 88.3 91.2] Mean: 88.88\n",
      "K-nearest neighbors : [80.6 83.7 79.7 81.8 81.9] Mean: 81.54\n",
      "Support vector machine : [86.8 87.7 85.4 86.4 89. ] Mean: 87.06\n"
     ]
    }
   ],
   "source": [
    "for idx, model in enumerate(model_list): \n",
    "    trump_scores = cross_val_score(\n",
    "    model, X_train, y_train, cv=5, scoring=trump_metric, n_jobs=-1)\n",
    "    name = name_list[idx]\n",
    "    print(name, \":\", trump_scores, 'Mean:', round(trump_scores.mean(), 5))"
   ]
  },
  {
   "cell_type": "code",
   "execution_count": 147,
   "metadata": {
    "ExecuteTime": {
     "end_time": "2019-11-27T13:31:46.164118Z",
     "start_time": "2019-11-27T13:31:26.517325Z"
    }
   },
   "outputs": [],
   "source": [
    "predictors = X_train\n",
    "selector = RFE(lr, n_features_to_select=1)\n",
    "selector = selector.fit(predictors, y_train)"
   ]
  },
  {
   "cell_type": "code",
   "execution_count": 148,
   "metadata": {
    "ExecuteTime": {
     "end_time": "2019-11-27T13:31:46.174880Z",
     "start_time": "2019-11-27T13:31:46.167402Z"
    }
   },
   "outputs": [
    {
     "data": {
      "text/plain": [
       "6000"
      ]
     },
     "execution_count": 148,
     "metadata": {},
     "output_type": "execute_result"
    }
   ],
   "source": [
    "len(X_train)"
   ]
  },
  {
   "cell_type": "code",
   "execution_count": 171,
   "metadata": {
    "ExecuteTime": {
     "end_time": "2019-11-27T13:37:50.259055Z",
     "start_time": "2019-11-27T13:37:50.218268Z"
    }
   },
   "outputs": [
    {
     "name": "stdout",
     "output_type": "stream",
     "text": [
      "89 imiss_a_2016_2.0\n",
      "45 imiss_a_2016_3.0\n",
      "84 imiss_a_2016_4.0\n",
      "18 imiss_a_2016_8.0\n",
      "83 imiss_b_2016_2.0\n",
      "88 imiss_b_2016_3.0\n",
      "8 imiss_b_2016_4.0\n",
      "44 imiss_b_2016_8.0\n",
      "24 imiss_c_2016_2.0\n",
      "22 imiss_c_2016_3.0\n",
      "23 imiss_c_2016_4.0\n",
      "60 imiss_c_2016_8.0\n",
      "54 imiss_d_2016_2.0\n",
      "55 imiss_d_2016_3.0\n",
      "72 imiss_d_2016_4.0\n",
      "92 imiss_d_2016_8.0\n",
      "53 imiss_e_2016_2.0\n",
      "48 imiss_e_2016_3.0\n",
      "52 imiss_e_2016_4.0\n",
      "51 imiss_e_2016_8.0\n",
      "10 imiss_f_2016_2.0\n",
      "4 imiss_f_2016_3.0\n",
      "5 imiss_f_2016_4.0\n",
      "56 imiss_f_2016_8.0\n",
      "78 imiss_g_2016_2.0\n",
      "68 imiss_g_2016_3.0\n",
      "27 imiss_g_2016_4.0\n",
      "21 imiss_g_2016_8.0\n",
      "75 imiss_h_2016_2.0\n",
      "63 imiss_h_2016_3.0\n",
      "38 imiss_h_2016_4.0\n",
      "58 imiss_h_2016_8.0\n",
      "70 imiss_i_2016_2.0\n",
      "69 imiss_i_2016_3.0\n",
      "76 imiss_i_2016_4.0\n",
      "17 imiss_i_2016_8.0\n",
      "49 imiss_j_2016_2.0\n",
      "28 imiss_j_2016_3.0\n",
      "40 imiss_j_2016_4.0\n",
      "85 imiss_j_2016_8.0\n",
      "80 imiss_k_2016_2.0\n",
      "79 imiss_k_2016_3.0\n",
      "42 imiss_k_2016_4.0\n",
      "36 imiss_k_2016_8.0\n",
      "9 imiss_l_2016_2.0\n",
      "2 imiss_l_2016_3.0\n",
      "1 imiss_l_2016_4.0\n",
      "16 imiss_l_2016_8.0\n",
      "86 imiss_m_2016_2.0\n",
      "33 imiss_m_2016_3.0\n",
      "87 imiss_m_2016_4.0\n",
      "73 imiss_m_2016_8.0\n",
      "91 imiss_n_2016_2.0\n",
      "77 imiss_n_2016_3.0\n",
      "30 imiss_n_2016_4.0\n",
      "26 imiss_n_2016_8.0\n",
      "66 imiss_o_2016_2.0\n",
      "65 imiss_o_2016_3.0\n",
      "41 imiss_o_2016_4.0\n",
      "39 imiss_o_2016_8.0\n",
      "32 imiss_p_2016_2.0\n",
      "25 imiss_p_2016_3.0\n",
      "61 imiss_p_2016_4.0\n",
      "31 imiss_p_2016_8.0\n",
      "47 imiss_q_2016_2.0\n",
      "46 imiss_q_2016_3.0\n",
      "64 imiss_q_2016_4.0\n",
      "62 imiss_q_2016_8.0\n",
      "82 imiss_r_2016_2.0\n",
      "34 imiss_r_2016_3.0\n",
      "35 imiss_r_2016_4.0\n",
      "57 imiss_r_2016_8.0\n",
      "71 imiss_s_2016_2.0\n",
      "59 imiss_s_2016_3.0\n",
      "13 imiss_s_2016_4.0\n",
      "43 imiss_s_2016_8.0\n",
      "81 imiss_t_2016_2.0\n",
      "74 imiss_t_2016_3.0\n",
      "67 imiss_t_2016_4.0\n",
      "90 imiss_t_2016_8.0\n",
      "14 imiss_u_2016_2.0\n",
      "7 imiss_u_2016_3.0\n",
      "3 imiss_u_2016_4.0\n",
      "20 imiss_u_2016_8.0\n",
      "29 imiss_x_2016_2.0\n",
      "19 imiss_x_2016_3.0\n",
      "6 imiss_x_2016_4.0\n",
      "50 imiss_x_2016_8.0\n",
      "15 imiss_y_2016_2.0\n",
      "12 imiss_y_2016_3.0\n",
      "11 imiss_y_2016_4.0\n",
      "37 imiss_y_2016_8.0\n"
     ]
    }
   ],
   "source": [
    "rank_list = selector.ranking_\n",
    "feature_ranks = []\n",
    "for idx, rank in enumerate(rank_list):\n",
    "    print(rank, X_train.columns[idx])"
   ]
  },
  {
   "cell_type": "markdown",
   "metadata": {},
   "source": [
    "Looking at the metrics, the random forest model performs the best for this business problem "
   ]
  },
  {
   "cell_type": "markdown",
   "metadata": {},
   "source": [
    "## Parameter tuning"
   ]
  },
  {
   "cell_type": "markdown",
   "metadata": {},
   "source": [
    "Define parameter grid for random forest"
   ]
  },
  {
   "cell_type": "code",
   "execution_count": 108,
   "metadata": {
    "ExecuteTime": {
     "end_time": "2019-11-27T13:18:38.855403Z",
     "start_time": "2019-11-27T13:18:38.849989Z"
    }
   },
   "outputs": [],
   "source": [
    "\n",
    "param_grid = {'n_estimators': [100], 'max_depth': [1,2,3,4,5,6], 'oob_score': [True], 'max_features': [None, 'sqrt']}\n",
    "\n"
   ]
  },
  {
   "cell_type": "markdown",
   "metadata": {},
   "source": [
    "Find the best parameters and then crossvalidate with five folds"
   ]
  },
  {
   "cell_type": "code",
   "execution_count": 109,
   "metadata": {
    "ExecuteTime": {
     "end_time": "2019-11-27T13:18:39.766864Z",
     "start_time": "2019-11-27T13:18:39.761559Z"
    }
   },
   "outputs": [],
   "source": [
    "grid = GridSearchCV(rf, param_grid, iid=True, cv=5,\n",
    "                    n_jobs=-1, scoring=clinton_metric, verbose=1, return_train_score=True)"
   ]
  },
  {
   "cell_type": "markdown",
   "metadata": {},
   "source": [
    "Fit training data to grid"
   ]
  },
  {
   "cell_type": "code",
   "execution_count": 110,
   "metadata": {
    "ExecuteTime": {
     "end_time": "2019-11-27T13:19:11.896539Z",
     "start_time": "2019-11-27T13:18:41.752283Z"
    }
   },
   "outputs": [
    {
     "name": "stdout",
     "output_type": "stream",
     "text": [
      "Fitting 5 folds for each of 12 candidates, totalling 60 fits\n"
     ]
    },
    {
     "name": "stderr",
     "output_type": "stream",
     "text": [
      "[Parallel(n_jobs=-1)]: Using backend LokyBackend with 4 concurrent workers.\n",
      "[Parallel(n_jobs=-1)]: Done  42 tasks      | elapsed:   21.1s\n",
      "[Parallel(n_jobs=-1)]: Done  60 out of  60 | elapsed:   29.4s finished\n"
     ]
    },
    {
     "data": {
      "text/plain": [
       "GridSearchCV(cv=5, error_score='raise-deprecating',\n",
       "             estimator=RandomForestClassifier(bootstrap=True, class_weight=None,\n",
       "                                              criterion='gini', max_depth=None,\n",
       "                                              max_features='auto',\n",
       "                                              max_leaf_nodes=None,\n",
       "                                              min_impurity_decrease=0.0,\n",
       "                                              min_impurity_split=None,\n",
       "                                              min_samples_leaf=1,\n",
       "                                              min_samples_split=2,\n",
       "                                              min_weight_fraction_leaf=0.0,\n",
       "                                              n_estimators=100, n_jobs=None,\n",
       "                                              oob_score=False,\n",
       "                                              random_state=None, verbose=0,\n",
       "                                              warm_start=False),\n",
       "             iid=True, n_jobs=-1,\n",
       "             param_grid={'max_depth': [1, 2, 3, 4, 5, 6],\n",
       "                         'max_features': [None, 'sqrt'], 'n_estimators': [100],\n",
       "                         'oob_score': [True]},\n",
       "             pre_dispatch='2*n_jobs', refit=True, return_train_score=True,\n",
       "             scoring=make_scorer(clint_scorer), verbose=1)"
      ]
     },
     "execution_count": 110,
     "metadata": {},
     "output_type": "execute_result"
    }
   ],
   "source": [
    "grid.fit(X_train, y_train)"
   ]
  },
  {
   "cell_type": "markdown",
   "metadata": {},
   "source": [
    "Print best parameters and best score"
   ]
  },
  {
   "cell_type": "code",
   "execution_count": 111,
   "metadata": {
    "ExecuteTime": {
     "end_time": "2019-11-27T13:19:14.870005Z",
     "start_time": "2019-11-27T13:19:14.864434Z"
    }
   },
   "outputs": [
    {
     "name": "stdout",
     "output_type": "stream",
     "text": [
      "{'max_depth': 1, 'max_features': None, 'n_estimators': 100, 'oob_score': True}\n",
      "98.72\n"
     ]
    }
   ],
   "source": [
    "print(grid.best_params_)\n",
    "print(round(grid.best_score_, 3))"
   ]
  },
  {
   "cell_type": "markdown",
   "metadata": {},
   "source": [
    "# Test "
   ]
  },
  {
   "cell_type": "markdown",
   "metadata": {},
   "source": [
    "Crossvalidate with 5 folds on the test data and check performance metrics"
   ]
  },
  {
   "cell_type": "code",
   "execution_count": 114,
   "metadata": {
    "ExecuteTime": {
     "end_time": "2019-11-27T13:19:32.635121Z",
     "start_time": "2019-11-27T13:19:32.609046Z"
    }
   },
   "outputs": [
    {
     "data": {
      "text/plain": [
       "array([0., 0., 0., 0., 0., 0., 0., 0., 0., 0., 0., 0., 0., 0., 0., 0., 0.,\n",
       "       0., 0., 0., 0., 0., 0., 0., 0., 0., 0., 0., 0., 0., 0., 0., 0., 0.,\n",
       "       0., 0., 0., 0., 0., 0., 0., 0., 0., 0., 0., 0., 1., 0., 0., 0., 0.,\n",
       "       0., 0., 0., 0., 0., 0., 0., 0., 0., 0., 0., 0., 0., 0., 0., 0., 0.,\n",
       "       0., 0., 0., 0., 0., 0., 0., 0., 0., 0., 0., 0., 0., 0., 0., 0., 0.,\n",
       "       0., 0., 0., 0., 0., 0., 0.])"
      ]
     },
     "execution_count": 114,
     "metadata": {},
     "output_type": "execute_result"
    }
   ],
   "source": [
    "grid.best_estimator_.feature_importances_"
   ]
  },
  {
   "cell_type": "code",
   "execution_count": 116,
   "metadata": {
    "ExecuteTime": {
     "end_time": "2019-11-27T13:19:46.649738Z",
     "start_time": "2019-11-27T13:19:46.620967Z"
    }
   },
   "outputs": [],
   "source": [
    "feats = pd.DataFrame(grid.best_estimator_.feature_importances_,\n",
    "                                   index = X_train.columns,\n",
    "                                    columns=['importance']).sort_values('importance',ascending=False)"
   ]
  },
  {
   "cell_type": "code",
   "execution_count": 117,
   "metadata": {
    "ExecuteTime": {
     "end_time": "2019-11-27T13:19:48.084288Z",
     "start_time": "2019-11-27T13:19:48.058306Z"
    }
   },
   "outputs": [
    {
     "data": {
      "text/html": [
       "<div>\n",
       "<style scoped>\n",
       "    .dataframe tbody tr th:only-of-type {\n",
       "        vertical-align: middle;\n",
       "    }\n",
       "\n",
       "    .dataframe tbody tr th {\n",
       "        vertical-align: top;\n",
       "    }\n",
       "\n",
       "    .dataframe thead th {\n",
       "        text-align: right;\n",
       "    }\n",
       "</style>\n",
       "<table border=\"1\" class=\"dataframe\">\n",
       "  <thead>\n",
       "    <tr style=\"text-align: right;\">\n",
       "      <th></th>\n",
       "      <th>importance</th>\n",
       "    </tr>\n",
       "  </thead>\n",
       "  <tbody>\n",
       "    <tr>\n",
       "      <th>imiss_l_2016_4.0</th>\n",
       "      <td>1.0</td>\n",
       "    </tr>\n",
       "    <tr>\n",
       "      <th>imiss_o_2016_4.0</th>\n",
       "      <td>0.0</td>\n",
       "    </tr>\n",
       "    <tr>\n",
       "      <th>imiss_q_2016_8.0</th>\n",
       "      <td>0.0</td>\n",
       "    </tr>\n",
       "    <tr>\n",
       "      <th>imiss_q_2016_4.0</th>\n",
       "      <td>0.0</td>\n",
       "    </tr>\n",
       "    <tr>\n",
       "      <th>imiss_q_2016_3.0</th>\n",
       "      <td>0.0</td>\n",
       "    </tr>\n",
       "    <tr>\n",
       "      <th>imiss_q_2016_2.0</th>\n",
       "      <td>0.0</td>\n",
       "    </tr>\n",
       "    <tr>\n",
       "      <th>imiss_p_2016_8.0</th>\n",
       "      <td>0.0</td>\n",
       "    </tr>\n",
       "    <tr>\n",
       "      <th>imiss_p_2016_4.0</th>\n",
       "      <td>0.0</td>\n",
       "    </tr>\n",
       "    <tr>\n",
       "      <th>imiss_p_2016_3.0</th>\n",
       "      <td>0.0</td>\n",
       "    </tr>\n",
       "    <tr>\n",
       "      <th>imiss_p_2016_2.0</th>\n",
       "      <td>0.0</td>\n",
       "    </tr>\n",
       "    <tr>\n",
       "      <th>imiss_o_2016_8.0</th>\n",
       "      <td>0.0</td>\n",
       "    </tr>\n",
       "    <tr>\n",
       "      <th>imiss_o_2016_3.0</th>\n",
       "      <td>0.0</td>\n",
       "    </tr>\n",
       "    <tr>\n",
       "      <th>imiss_a_2016_3.0</th>\n",
       "      <td>0.0</td>\n",
       "    </tr>\n",
       "    <tr>\n",
       "      <th>imiss_o_2016_2.0</th>\n",
       "      <td>0.0</td>\n",
       "    </tr>\n",
       "    <tr>\n",
       "      <th>imiss_n_2016_8.0</th>\n",
       "      <td>0.0</td>\n",
       "    </tr>\n",
       "    <tr>\n",
       "      <th>imiss_n_2016_4.0</th>\n",
       "      <td>0.0</td>\n",
       "    </tr>\n",
       "    <tr>\n",
       "      <th>imiss_n_2016_3.0</th>\n",
       "      <td>0.0</td>\n",
       "    </tr>\n",
       "    <tr>\n",
       "      <th>imiss_n_2016_2.0</th>\n",
       "      <td>0.0</td>\n",
       "    </tr>\n",
       "    <tr>\n",
       "      <th>imiss_m_2016_8.0</th>\n",
       "      <td>0.0</td>\n",
       "    </tr>\n",
       "    <tr>\n",
       "      <th>imiss_m_2016_4.0</th>\n",
       "      <td>0.0</td>\n",
       "    </tr>\n",
       "    <tr>\n",
       "      <th>imiss_m_2016_3.0</th>\n",
       "      <td>0.0</td>\n",
       "    </tr>\n",
       "    <tr>\n",
       "      <th>imiss_m_2016_2.0</th>\n",
       "      <td>0.0</td>\n",
       "    </tr>\n",
       "    <tr>\n",
       "      <th>imiss_r_2016_2.0</th>\n",
       "      <td>0.0</td>\n",
       "    </tr>\n",
       "    <tr>\n",
       "      <th>imiss_r_2016_3.0</th>\n",
       "      <td>0.0</td>\n",
       "    </tr>\n",
       "    <tr>\n",
       "      <th>imiss_r_2016_4.0</th>\n",
       "      <td>0.0</td>\n",
       "    </tr>\n",
       "    <tr>\n",
       "      <th>imiss_r_2016_8.0</th>\n",
       "      <td>0.0</td>\n",
       "    </tr>\n",
       "    <tr>\n",
       "      <th>imiss_y_2016_4.0</th>\n",
       "      <td>0.0</td>\n",
       "    </tr>\n",
       "    <tr>\n",
       "      <th>imiss_y_2016_3.0</th>\n",
       "      <td>0.0</td>\n",
       "    </tr>\n",
       "    <tr>\n",
       "      <th>imiss_y_2016_2.0</th>\n",
       "      <td>0.0</td>\n",
       "    </tr>\n",
       "    <tr>\n",
       "      <th>imiss_x_2016_8.0</th>\n",
       "      <td>0.0</td>\n",
       "    </tr>\n",
       "    <tr>\n",
       "      <th>...</th>\n",
       "      <td>...</td>\n",
       "    </tr>\n",
       "    <tr>\n",
       "      <th>imiss_b_2016_8.0</th>\n",
       "      <td>0.0</td>\n",
       "    </tr>\n",
       "    <tr>\n",
       "      <th>imiss_b_2016_4.0</th>\n",
       "      <td>0.0</td>\n",
       "    </tr>\n",
       "    <tr>\n",
       "      <th>imiss_b_2016_3.0</th>\n",
       "      <td>0.0</td>\n",
       "    </tr>\n",
       "    <tr>\n",
       "      <th>imiss_b_2016_2.0</th>\n",
       "      <td>0.0</td>\n",
       "    </tr>\n",
       "    <tr>\n",
       "      <th>imiss_a_2016_8.0</th>\n",
       "      <td>0.0</td>\n",
       "    </tr>\n",
       "    <tr>\n",
       "      <th>imiss_a_2016_4.0</th>\n",
       "      <td>0.0</td>\n",
       "    </tr>\n",
       "    <tr>\n",
       "      <th>imiss_f_2016_3.0</th>\n",
       "      <td>0.0</td>\n",
       "    </tr>\n",
       "    <tr>\n",
       "      <th>imiss_f_2016_8.0</th>\n",
       "      <td>0.0</td>\n",
       "    </tr>\n",
       "    <tr>\n",
       "      <th>imiss_l_2016_2.0</th>\n",
       "      <td>0.0</td>\n",
       "    </tr>\n",
       "    <tr>\n",
       "      <th>imiss_g_2016_2.0</th>\n",
       "      <td>0.0</td>\n",
       "    </tr>\n",
       "    <tr>\n",
       "      <th>imiss_k_2016_8.0</th>\n",
       "      <td>0.0</td>\n",
       "    </tr>\n",
       "    <tr>\n",
       "      <th>imiss_k_2016_4.0</th>\n",
       "      <td>0.0</td>\n",
       "    </tr>\n",
       "    <tr>\n",
       "      <th>imiss_k_2016_3.0</th>\n",
       "      <td>0.0</td>\n",
       "    </tr>\n",
       "    <tr>\n",
       "      <th>imiss_k_2016_2.0</th>\n",
       "      <td>0.0</td>\n",
       "    </tr>\n",
       "    <tr>\n",
       "      <th>imiss_j_2016_8.0</th>\n",
       "      <td>0.0</td>\n",
       "    </tr>\n",
       "    <tr>\n",
       "      <th>imiss_j_2016_4.0</th>\n",
       "      <td>0.0</td>\n",
       "    </tr>\n",
       "    <tr>\n",
       "      <th>imiss_j_2016_3.0</th>\n",
       "      <td>0.0</td>\n",
       "    </tr>\n",
       "    <tr>\n",
       "      <th>imiss_j_2016_2.0</th>\n",
       "      <td>0.0</td>\n",
       "    </tr>\n",
       "    <tr>\n",
       "      <th>imiss_i_2016_8.0</th>\n",
       "      <td>0.0</td>\n",
       "    </tr>\n",
       "    <tr>\n",
       "      <th>imiss_i_2016_4.0</th>\n",
       "      <td>0.0</td>\n",
       "    </tr>\n",
       "    <tr>\n",
       "      <th>imiss_i_2016_3.0</th>\n",
       "      <td>0.0</td>\n",
       "    </tr>\n",
       "    <tr>\n",
       "      <th>imiss_i_2016_2.0</th>\n",
       "      <td>0.0</td>\n",
       "    </tr>\n",
       "    <tr>\n",
       "      <th>imiss_h_2016_8.0</th>\n",
       "      <td>0.0</td>\n",
       "    </tr>\n",
       "    <tr>\n",
       "      <th>imiss_h_2016_4.0</th>\n",
       "      <td>0.0</td>\n",
       "    </tr>\n",
       "    <tr>\n",
       "      <th>imiss_h_2016_3.0</th>\n",
       "      <td>0.0</td>\n",
       "    </tr>\n",
       "    <tr>\n",
       "      <th>imiss_h_2016_2.0</th>\n",
       "      <td>0.0</td>\n",
       "    </tr>\n",
       "    <tr>\n",
       "      <th>imiss_g_2016_8.0</th>\n",
       "      <td>0.0</td>\n",
       "    </tr>\n",
       "    <tr>\n",
       "      <th>imiss_g_2016_4.0</th>\n",
       "      <td>0.0</td>\n",
       "    </tr>\n",
       "    <tr>\n",
       "      <th>imiss_g_2016_3.0</th>\n",
       "      <td>0.0</td>\n",
       "    </tr>\n",
       "    <tr>\n",
       "      <th>imiss_y_2016_8.0</th>\n",
       "      <td>0.0</td>\n",
       "    </tr>\n",
       "  </tbody>\n",
       "</table>\n",
       "<p>92 rows × 1 columns</p>\n",
       "</div>"
      ],
      "text/plain": [
       "                  importance\n",
       "imiss_l_2016_4.0         1.0\n",
       "imiss_o_2016_4.0         0.0\n",
       "imiss_q_2016_8.0         0.0\n",
       "imiss_q_2016_4.0         0.0\n",
       "imiss_q_2016_3.0         0.0\n",
       "imiss_q_2016_2.0         0.0\n",
       "imiss_p_2016_8.0         0.0\n",
       "imiss_p_2016_4.0         0.0\n",
       "imiss_p_2016_3.0         0.0\n",
       "imiss_p_2016_2.0         0.0\n",
       "imiss_o_2016_8.0         0.0\n",
       "imiss_o_2016_3.0         0.0\n",
       "imiss_a_2016_3.0         0.0\n",
       "imiss_o_2016_2.0         0.0\n",
       "imiss_n_2016_8.0         0.0\n",
       "imiss_n_2016_4.0         0.0\n",
       "imiss_n_2016_3.0         0.0\n",
       "imiss_n_2016_2.0         0.0\n",
       "imiss_m_2016_8.0         0.0\n",
       "imiss_m_2016_4.0         0.0\n",
       "imiss_m_2016_3.0         0.0\n",
       "imiss_m_2016_2.0         0.0\n",
       "imiss_r_2016_2.0         0.0\n",
       "imiss_r_2016_3.0         0.0\n",
       "imiss_r_2016_4.0         0.0\n",
       "imiss_r_2016_8.0         0.0\n",
       "imiss_y_2016_4.0         0.0\n",
       "imiss_y_2016_3.0         0.0\n",
       "imiss_y_2016_2.0         0.0\n",
       "imiss_x_2016_8.0         0.0\n",
       "...                      ...\n",
       "imiss_b_2016_8.0         0.0\n",
       "imiss_b_2016_4.0         0.0\n",
       "imiss_b_2016_3.0         0.0\n",
       "imiss_b_2016_2.0         0.0\n",
       "imiss_a_2016_8.0         0.0\n",
       "imiss_a_2016_4.0         0.0\n",
       "imiss_f_2016_3.0         0.0\n",
       "imiss_f_2016_8.0         0.0\n",
       "imiss_l_2016_2.0         0.0\n",
       "imiss_g_2016_2.0         0.0\n",
       "imiss_k_2016_8.0         0.0\n",
       "imiss_k_2016_4.0         0.0\n",
       "imiss_k_2016_3.0         0.0\n",
       "imiss_k_2016_2.0         0.0\n",
       "imiss_j_2016_8.0         0.0\n",
       "imiss_j_2016_4.0         0.0\n",
       "imiss_j_2016_3.0         0.0\n",
       "imiss_j_2016_2.0         0.0\n",
       "imiss_i_2016_8.0         0.0\n",
       "imiss_i_2016_4.0         0.0\n",
       "imiss_i_2016_3.0         0.0\n",
       "imiss_i_2016_2.0         0.0\n",
       "imiss_h_2016_8.0         0.0\n",
       "imiss_h_2016_4.0         0.0\n",
       "imiss_h_2016_3.0         0.0\n",
       "imiss_h_2016_2.0         0.0\n",
       "imiss_g_2016_8.0         0.0\n",
       "imiss_g_2016_4.0         0.0\n",
       "imiss_g_2016_3.0         0.0\n",
       "imiss_y_2016_8.0         0.0\n",
       "\n",
       "[92 rows x 1 columns]"
      ]
     },
     "execution_count": 117,
     "metadata": {},
     "output_type": "execute_result"
    }
   ],
   "source": [
    "feats"
   ]
  },
  {
   "cell_type": "code",
   "execution_count": null,
   "metadata": {},
   "outputs": [],
   "source": []
  }
 ],
 "metadata": {
  "kernelspec": {
   "display_name": "Python 3",
   "language": "python",
   "name": "python3"
  },
  "language_info": {
   "codemirror_mode": {
    "name": "ipython",
    "version": 3
   },
   "file_extension": ".py",
   "mimetype": "text/x-python",
   "name": "python",
   "nbconvert_exporter": "python",
   "pygments_lexer": "ipython3",
   "version": "3.7.3"
  },
  "toc": {
   "base_numbering": 1,
   "nav_menu": {},
   "number_sections": true,
   "sideBar": true,
   "skip_h1_title": false,
   "title_cell": "Table of Contents",
   "title_sidebar": "Contents",
   "toc_cell": false,
   "toc_position": {},
   "toc_section_display": true,
   "toc_window_display": false
  }
 },
 "nbformat": 4,
 "nbformat_minor": 2
}
