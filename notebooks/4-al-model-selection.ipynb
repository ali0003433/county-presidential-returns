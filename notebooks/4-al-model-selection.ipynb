{
 "cells": [
  {
   "cell_type": "markdown",
   "metadata": {},
   "source": [
    "# Model selection"
   ]
  },
  {
   "cell_type": "code",
   "execution_count": 1,
   "metadata": {
    "ExecuteTime": {
     "end_time": "2019-11-26T22:31:43.136389Z",
     "start_time": "2019-11-26T22:31:39.714055Z"
    }
   },
   "outputs": [],
   "source": [
    "from predict_model import clint_scorer, trump_scorer\n",
    "import matplotlib.pyplot as plt\n",
    "import numpy as np\n",
    "import pandas as pd\n",
    "import pickle\n",
    "import re\n",
    "import seaborn as sns\n",
    "from sklearn import metrics\n",
    "from sklearn.cluster import KMeans\n",
    "from sklearn.ensemble import RandomForestClassifier\n",
    "from sklearn.linear_model import LogisticRegression\n",
    "from sklearn.metrics import confusion_matrix, make_scorer\n",
    "from sklearn.model_selection import cross_val_score, train_test_split\n",
    "from sklearn.neighbors import KNeighborsClassifier\n",
    "from sklearn.svm import SVC\n",
    "import sys\n",
    "import os\n",
    "sys.path.append('../src/models')"
   ]
  },
  {
   "cell_type": "code",
   "execution_count": 2,
   "metadata": {
    "ExecuteTime": {
     "end_time": "2019-11-26T22:31:43.163943Z",
     "start_time": "2019-11-26T22:31:43.139417Z"
    }
   },
   "outputs": [],
   "source": [
    "with open('../data/processed/predictors.pickle', 'rb') as file:\n",
    "    X = pickle.load(file)\n",
    "with open('../data/processed/target.pickle', 'rb') as file:\n",
    "    y = pickle.load(file)"
   ]
  },
  {
   "cell_type": "code",
   "execution_count": 3,
   "metadata": {
    "ExecuteTime": {
     "end_time": "2019-11-26T22:31:43.174420Z",
     "start_time": "2019-11-26T22:31:43.168007Z"
    }
   },
   "outputs": [],
   "source": [
    "clinton_metric = make_scorer(clint_scorer)\n",
    "trump_metric = make_scorer(trump_scorer)"
   ]
  },
  {
   "cell_type": "markdown",
   "metadata": {},
   "source": [
    "## Logistic regression"
   ]
  },
  {
   "cell_type": "code",
   "execution_count": 10,
   "metadata": {
    "ExecuteTime": {
     "end_time": "2019-11-26T22:35:43.186020Z",
     "start_time": "2019-11-26T22:35:43.179067Z"
    }
   },
   "outputs": [],
   "source": [
    "lr = LogisticRegression(\n",
    "    C=2, penalty='l2', solver='lbfgs', multi_class='auto', max_iter=1000)"
   ]
  },
  {
   "cell_type": "code",
   "execution_count": 13,
   "metadata": {
    "ExecuteTime": {
     "end_time": "2019-11-26T22:35:51.830238Z",
     "start_time": "2019-11-26T22:35:50.275265Z"
    }
   },
   "outputs": [
    {
     "data": {
      "text/plain": [
       "array([92.7, 89.1, 86.9, 90.3, 89.3])"
      ]
     },
     "execution_count": 13,
     "metadata": {},
     "output_type": "execute_result"
    }
   ],
   "source": [
    "clinton_lr_scores = cross_val_score(lr, X, y, cv=5, scoring=clinton_metric, n_jobs=-1)\n",
    "clinton_lr_scores"
   ]
  },
  {
   "cell_type": "code",
   "execution_count": 19,
   "metadata": {
    "ExecuteTime": {
     "end_time": "2019-11-26T22:37:54.006567Z",
     "start_time": "2019-11-26T22:37:54.001665Z"
    }
   },
   "outputs": [
    {
     "name": "stdout",
     "output_type": "stream",
     "text": [
      "89.41999999999999\n"
     ]
    }
   ],
   "source": [
    "print(clinton_rf_scores.mean())"
   ]
  },
  {
   "cell_type": "code",
   "execution_count": 14,
   "metadata": {
    "ExecuteTime": {
     "end_time": "2019-11-26T22:36:21.270743Z",
     "start_time": "2019-11-26T22:36:19.947453Z"
    }
   },
   "outputs": [
    {
     "data": {
      "text/plain": [
       "array([93.2, 83.6, 88.6, 85.3, 86.9])"
      ]
     },
     "execution_count": 14,
     "metadata": {},
     "output_type": "execute_result"
    }
   ],
   "source": [
    "trump_lr_scores = cross_val_score(lr, X, y, cv=5, scoring=trump_metric, n_jobs=-1)\n",
    "trump_lr_scores"
   ]
  },
  {
   "cell_type": "code",
   "execution_count": 20,
   "metadata": {
    "ExecuteTime": {
     "end_time": "2019-11-26T22:38:08.904132Z",
     "start_time": "2019-11-26T22:38:08.897572Z"
    }
   },
   "outputs": [
    {
     "data": {
      "text/plain": [
       "87.52000000000001"
      ]
     },
     "execution_count": 20,
     "metadata": {},
     "output_type": "execute_result"
    }
   ],
   "source": [
    "trump_lr_scores.mean()"
   ]
  },
  {
   "cell_type": "markdown",
   "metadata": {},
   "source": [
    "## Random forest"
   ]
  },
  {
   "cell_type": "code",
   "execution_count": 16,
   "metadata": {
    "ExecuteTime": {
     "end_time": "2019-11-26T22:37:10.278122Z",
     "start_time": "2019-11-26T22:37:10.273141Z"
    }
   },
   "outputs": [],
   "source": [
    "rf = RandomForestClassifier(n_estimators=100)"
   ]
  },
  {
   "cell_type": "code",
   "execution_count": 17,
   "metadata": {
    "ExecuteTime": {
     "end_time": "2019-11-26T22:37:14.207755Z",
     "start_time": "2019-11-26T22:37:10.614669Z"
    }
   },
   "outputs": [
    {
     "data": {
      "text/plain": [
       "array([93.9, 90.1, 86.5, 88.4, 88.2])"
      ]
     },
     "execution_count": 17,
     "metadata": {},
     "output_type": "execute_result"
    }
   ],
   "source": [
    "clinton_rf_scores = cross_val_score(rf, X, y, cv=5, scoring=clinton_metric, n_jobs=-1)\n",
    "clinton_rf_scores"
   ]
  },
  {
   "cell_type": "code",
   "execution_count": 18,
   "metadata": {
    "ExecuteTime": {
     "end_time": "2019-11-26T22:37:32.046014Z",
     "start_time": "2019-11-26T22:37:32.040173Z"
    }
   },
   "outputs": [
    {
     "name": "stdout",
     "output_type": "stream",
     "text": [
      "89.41999999999999\n"
     ]
    }
   ],
   "source": [
    "print(clinton_rf_scores.mean())"
   ]
  },
  {
   "cell_type": "code",
   "execution_count": null,
   "metadata": {},
   "outputs": [],
   "source": [
    "trump_rf_scores = cross_val_score(rf, X, y, cv=5, scoring=trump_)"
   ]
  },
  {
   "cell_type": "markdown",
   "metadata": {},
   "source": [
    "## K Nearest Neighbors"
   ]
  },
  {
   "cell_type": "code",
   "execution_count": null,
   "metadata": {},
   "outputs": [],
   "source": []
  },
  {
   "cell_type": "code",
   "execution_count": null,
   "metadata": {
    "ExecuteTime": {
     "end_time": "2019-11-25T15:33:47.426978Z",
     "start_time": "2019-11-25T15:33:45.147538Z"
    }
   },
   "outputs": [],
   "source": [
    "knn = KNeighborsClassifier()\n",
    "knn.fit(X_train, y_train)\n",
    "y_pred_test = knn.predict(X_test)"
   ]
  },
  {
   "cell_type": "code",
   "execution_count": null,
   "metadata": {
    "ExecuteTime": {
     "end_time": "2019-11-25T15:33:47.446769Z",
     "start_time": "2019-11-25T15:33:47.431998Z"
    }
   },
   "outputs": [],
   "source": [
    "knn_metrics = create_perf_metrics(y_test, y_pred_test)"
   ]
  },
  {
   "cell_type": "markdown",
   "metadata": {},
   "source": [
    "## Support vector machines"
   ]
  },
  {
   "cell_type": "code",
   "execution_count": null,
   "metadata": {
    "ExecuteTime": {
     "end_time": "2019-11-25T15:33:53.864254Z",
     "start_time": "2019-11-25T15:33:47.452279Z"
    }
   },
   "outputs": [],
   "source": [
    "svm = SVC(kernel='linear')\n",
    "svm.fit(X_train, y_train)\n",
    "y_pred_test = svm.predict(X_test)"
   ]
  },
  {
   "cell_type": "code",
   "execution_count": null,
   "metadata": {
    "ExecuteTime": {
     "end_time": "2019-11-25T15:33:53.926078Z",
     "start_time": "2019-11-25T15:33:53.890247Z"
    }
   },
   "outputs": [],
   "source": [
    "# call performance metric function\n",
    "svm_metrics = create_perf_metrics(y_test, y_pred_test)"
   ]
  },
  {
   "cell_type": "markdown",
   "metadata": {},
   "source": [
    "## K-means clustering"
   ]
  },
  {
   "cell_type": "code",
   "execution_count": null,
   "metadata": {
    "ExecuteTime": {
     "end_time": "2019-11-25T15:33:59.085643Z",
     "start_time": "2019-11-25T15:33:53.930629Z"
    }
   },
   "outputs": [],
   "source": [
    "kmeans = KMeans(n_clusters=2)\n",
    "kmeans.fit(X)\n",
    "\n",
    "labels = kmeans.labels_\n",
    "plt.figure(figsize=(5,5))\n",
    "plt.scatter(kmeans.cluster_centers_[:, 0], kmeans.cluster_centers_[:, 1], c='black', s=300)\n",
    "\n",
    "y_pred = kmeans.predict(X)\n",
    "metrics.silhouette_score(X, labels, metric='euclidean')\n",
    "metrics.calinski_harabasz_score(X, labels)\n",
    "\n",
    "y_pred_df = pd.DataFrame(y_pred, columns=['predicted'])\n",
    "df = pd.DataFrame(y, columns=['presvote16post_2016']).join(y_pred_df)\n",
    "num_cluster_trump = df.loc[(df.presvote16post_2016 == 2) & (df.predicted == 0)].count()\n",
    "num_cluster_clinton = df.loc[(df.presvote16post_2016 == 1)].count()"
   ]
  },
  {
   "cell_type": "markdown",
   "metadata": {},
   "source": [
    "# Parameter tuning"
   ]
  },
  {
   "cell_type": "markdown",
   "metadata": {},
   "source": [
    "gridsearchcv"
   ]
  },
  {
   "cell_type": "markdown",
   "metadata": {},
   "source": [
    "# Test "
   ]
  },
  {
   "cell_type": "markdown",
   "metadata": {},
   "source": [
    "Which model does better with test data? \n",
    "Stick with one metric\n",
    "Whatever model is best, variation between train and test,etc. "
   ]
  },
  {
   "cell_type": "code",
   "execution_count": null,
   "metadata": {},
   "outputs": [],
   "source": []
  }
 ],
 "metadata": {
  "kernelspec": {
   "display_name": "Python 3",
   "language": "python",
   "name": "python3"
  },
  "language_info": {
   "codemirror_mode": {
    "name": "ipython",
    "version": 3
   },
   "file_extension": ".py",
   "mimetype": "text/x-python",
   "name": "python",
   "nbconvert_exporter": "python",
   "pygments_lexer": "ipython3",
   "version": "3.7.3"
  },
  "toc": {
   "base_numbering": 1,
   "nav_menu": {},
   "number_sections": true,
   "sideBar": true,
   "skip_h1_title": false,
   "title_cell": "Table of Contents",
   "title_sidebar": "Contents",
   "toc_cell": false,
   "toc_position": {},
   "toc_section_display": true,
   "toc_window_display": false
  }
 },
 "nbformat": 4,
 "nbformat_minor": 2
}
