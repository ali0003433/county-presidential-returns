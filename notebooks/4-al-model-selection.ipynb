{
 "cells": [
  {
   "cell_type": "markdown",
   "metadata": {},
   "source": [
    "# Model selection"
   ]
  },
  {
   "cell_type": "code",
   "execution_count": 1,
   "metadata": {
    "ExecuteTime": {
     "end_time": "2019-11-26T22:31:43.136389Z",
     "start_time": "2019-11-26T22:31:39.714055Z"
    }
   },
   "outputs": [],
   "source": [
    "from predict_model import clint_scorer, trump_scorer\n",
    "import matplotlib.pyplot as plt\n",
    "import numpy as np\n",
    "import pandas as pd\n",
    "import pickle\n",
    "import re\n",
    "import seaborn as sns\n",
    "from sklearn import metrics\n",
    "from sklearn.ensemble import RandomForestClassifier\n",
    "from sklearn.linear_model import LogisticRegression\n",
    "from sklearn.metrics import confusion_matrix, make_scorer\n",
    "from sklearn.model_selection import cross_val_score, train_test_split\n",
    "from sklearn.neighbors import KNeighborsClassifier\n",
    "from sklearn.svm import SVC\n",
    "import sys\n",
    "import os\n",
    "sys.path.append('../src/models')"
   ]
  },
  {
   "cell_type": "code",
   "execution_count": 2,
   "metadata": {
    "ExecuteTime": {
     "end_time": "2019-11-26T22:31:43.163943Z",
     "start_time": "2019-11-26T22:31:43.139417Z"
    }
   },
   "outputs": [],
   "source": [
    "with open('../data/processed/predictors.pickle', 'rb') as file:\n",
    "    X = pickle.load(file)\n",
    "with open('../data/processed/target.pickle', 'rb') as file:\n",
    "    y = pickle.load(file)"
   ]
  },
  {
   "cell_type": "code",
   "execution_count": 3,
   "metadata": {
    "ExecuteTime": {
     "end_time": "2019-11-26T22:31:43.174420Z",
     "start_time": "2019-11-26T22:31:43.168007Z"
    }
   },
   "outputs": [],
   "source": [
    "clinton_metric = make_scorer(clint_scorer)\n",
    "trump_metric = make_scorer(trump_scorer)"
   ]
  },
  {
   "cell_type": "code",
   "execution_count": 10,
   "metadata": {
    "ExecuteTime": {
     "end_time": "2019-11-26T22:35:43.186020Z",
     "start_time": "2019-11-26T22:35:43.179067Z"
    }
   },
   "outputs": [],
   "source": [
    "lr = LogisticRegression(\n",
    "    C=2, penalty='l2', solver='lbfgs', multi_class='auto', max_iter=1000)"
   ]
  },
  {
   "cell_type": "code",
   "execution_count": 13,
   "metadata": {
    "ExecuteTime": {
     "end_time": "2019-11-26T22:35:51.830238Z",
     "start_time": "2019-11-26T22:35:50.275265Z"
    }
   },
   "outputs": [
    {
     "data": {
      "text/plain": [
       "array([92.7, 89.1, 86.9, 90.3, 89.3])"
      ]
     },
     "execution_count": 13,
     "metadata": {},
     "output_type": "execute_result"
    }
   ],
   "source": [
    "clinton_lr_scores = cross_val_score(lr, X, y, cv=5, scoring=clinton_metric, n_jobs=-1)\n",
    "clinton_lr_scores"
   ]
  },
  {
   "cell_type": "code",
   "execution_count": 29,
   "metadata": {
    "ExecuteTime": {
     "end_time": "2019-11-26T22:39:45.668295Z",
     "start_time": "2019-11-26T22:39:45.660185Z"
    }
   },
   "outputs": [
    {
     "data": {
      "text/plain": [
       "89.42"
      ]
     },
     "execution_count": 29,
     "metadata": {},
     "output_type": "execute_result"
    }
   ],
   "source": [
    "round(clinton_rf_scores.mean(), 5)"
   ]
  },
  {
   "cell_type": "code",
   "execution_count": 14,
   "metadata": {
    "ExecuteTime": {
     "end_time": "2019-11-26T22:36:21.270743Z",
     "start_time": "2019-11-26T22:36:19.947453Z"
    }
   },
   "outputs": [
    {
     "data": {
      "text/plain": [
       "array([93.2, 83.6, 88.6, 85.3, 86.9])"
      ]
     },
     "execution_count": 14,
     "metadata": {},
     "output_type": "execute_result"
    }
   ],
   "source": [
    "trump_lr_scores = cross_val_score(lr, X, y, cv=5, scoring=trump_metric, n_jobs=-1)\n",
    "trump_lr_scores"
   ]
  },
  {
   "cell_type": "code",
   "execution_count": 30,
   "metadata": {
    "ExecuteTime": {
     "end_time": "2019-11-26T22:39:49.690195Z",
     "start_time": "2019-11-26T22:39:49.681338Z"
    }
   },
   "outputs": [
    {
     "data": {
      "text/plain": [
       "87.52"
      ]
     },
     "execution_count": 30,
     "metadata": {},
     "output_type": "execute_result"
    }
   ],
   "source": [
    "round(trump_lr_scores.mean(), 5)"
   ]
  },
  {
   "cell_type": "code",
   "execution_count": 16,
   "metadata": {
    "ExecuteTime": {
     "end_time": "2019-11-26T22:37:10.278122Z",
     "start_time": "2019-11-26T22:37:10.273141Z"
    }
   },
   "outputs": [],
   "source": [
    "rf = RandomForestClassifier(n_estimators=100)"
   ]
  },
  {
   "cell_type": "code",
   "execution_count": 17,
   "metadata": {
    "ExecuteTime": {
     "end_time": "2019-11-26T22:37:14.207755Z",
     "start_time": "2019-11-26T22:37:10.614669Z"
    }
   },
   "outputs": [
    {
     "data": {
      "text/plain": [
       "array([93.9, 90.1, 86.5, 88.4, 88.2])"
      ]
     },
     "execution_count": 17,
     "metadata": {},
     "output_type": "execute_result"
    }
   ],
   "source": [
    "clinton_rf_scores = cross_val_score(rf, X, y, cv=5, scoring=clinton_metric, n_jobs=-1)\n",
    "clinton_rf_scores"
   ]
  },
  {
   "cell_type": "code",
   "execution_count": 28,
   "metadata": {
    "ExecuteTime": {
     "end_time": "2019-11-26T22:39:22.012344Z",
     "start_time": "2019-11-26T22:39:22.006236Z"
    }
   },
   "outputs": [
    {
     "name": "stdout",
     "output_type": "stream",
     "text": [
      "89.42\n"
     ]
    }
   ],
   "source": [
    "print(round(clinton_rf_scores.mean(), 5))"
   ]
  },
  {
   "cell_type": "code",
   "execution_count": 21,
   "metadata": {
    "ExecuteTime": {
     "end_time": "2019-11-26T22:38:44.787360Z",
     "start_time": "2019-11-26T22:38:41.246850Z"
    }
   },
   "outputs": [
    {
     "data": {
      "text/plain": [
       "array([93.2, 85.3, 88.8, 88.4, 87.8])"
      ]
     },
     "execution_count": 21,
     "metadata": {},
     "output_type": "execute_result"
    }
   ],
   "source": [
    "trump_rf_scores = cross_val_score(rf, X, y, cv=5, scoring=trump_metric, n_jobs=-1)\n",
    "trump_rf_scores"
   ]
  },
  {
   "cell_type": "code",
   "execution_count": 26,
   "metadata": {
    "ExecuteTime": {
     "end_time": "2019-11-26T22:39:08.642358Z",
     "start_time": "2019-11-26T22:39:08.636415Z"
    }
   },
   "outputs": [
    {
     "name": "stdout",
     "output_type": "stream",
     "text": [
      "88.7\n"
     ]
    }
   ],
   "source": [
    "print(round(trump_rf_scores.mean(),5))"
   ]
  },
  {
   "cell_type": "code",
   "execution_count": 31,
   "metadata": {
    "ExecuteTime": {
     "end_time": "2019-11-26T22:41:01.221321Z",
     "start_time": "2019-11-26T22:41:01.214458Z"
    }
   },
   "outputs": [],
   "source": [
    "knn = KNeighborsClassifier()"
   ]
  },
  {
   "cell_type": "code",
   "execution_count": 32,
   "metadata": {
    "ExecuteTime": {
     "end_time": "2019-11-26T22:41:08.353578Z",
     "start_time": "2019-11-26T22:41:01.479045Z"
    }
   },
   "outputs": [
    {
     "data": {
      "text/plain": [
       "array([92.5, 88.9, 87. , 86.5, 86.9])"
      ]
     },
     "execution_count": 32,
     "metadata": {},
     "output_type": "execute_result"
    }
   ],
   "source": [
    "clinton_knn_scores = cross_val_score(knn, X, y, cv=5, scoring=clinton_metric, n_jobs=-1)\n",
    "clinton_knn_scores"
   ]
  },
  {
   "cell_type": "code",
   "execution_count": 35,
   "metadata": {
    "ExecuteTime": {
     "end_time": "2019-11-26T22:43:09.377041Z",
     "start_time": "2019-11-26T22:43:09.366359Z"
    }
   },
   "outputs": [
    {
     "data": {
      "text/plain": [
       "88.36"
      ]
     },
     "execution_count": 35,
     "metadata": {},
     "output_type": "execute_result"
    }
   ],
   "source": [
    "round(clinton_knn_scores.mean(), 2)"
   ]
  },
  {
   "cell_type": "code",
   "execution_count": 33,
   "metadata": {
    "ExecuteTime": {
     "end_time": "2019-11-26T22:41:14.724192Z",
     "start_time": "2019-11-26T22:41:08.357041Z"
    }
   },
   "outputs": [
    {
     "data": {
      "text/plain": [
       "array([88.9, 78. , 82.2, 82.2, 82.6])"
      ]
     },
     "execution_count": 33,
     "metadata": {},
     "output_type": "execute_result"
    }
   ],
   "source": [
    "trump_knn_scores = cross_val_score(knn, X, y, cv=5, scoring=trump_metric, n_jobs=-1)\n",
    "trump_knn_scores"
   ]
  },
  {
   "cell_type": "code",
   "execution_count": 36,
   "metadata": {
    "ExecuteTime": {
     "end_time": "2019-11-26T22:43:25.234404Z",
     "start_time": "2019-11-26T22:43:25.222400Z"
    }
   },
   "outputs": [
    {
     "data": {
      "text/plain": [
       "82.78"
      ]
     },
     "execution_count": 36,
     "metadata": {},
     "output_type": "execute_result"
    }
   ],
   "source": [
    "round(trump_knn_scores.mean(), 2)"
   ]
  },
  {
   "cell_type": "code",
   "execution_count": 37,
   "metadata": {
    "ExecuteTime": {
     "end_time": "2019-11-26T22:44:52.385320Z",
     "start_time": "2019-11-26T22:44:52.380348Z"
    }
   },
   "outputs": [],
   "source": [
    "svm = SVC(kernel='linear')"
   ]
  },
  {
   "cell_type": "code",
   "execution_count": 38,
   "metadata": {
    "ExecuteTime": {
     "end_time": "2019-11-26T22:45:15.251033Z",
     "start_time": "2019-11-26T22:44:57.518850Z"
    }
   },
   "outputs": [
    {
     "data": {
      "text/plain": [
       "array([92.5, 88.9, 87. , 86.5, 86.9])"
      ]
     },
     "execution_count": 38,
     "metadata": {},
     "output_type": "execute_result"
    }
   ],
   "source": [
    "clinton_svm_scores = cross_val_score(svm, X, y, cv=5, scoring=clinton_metric, n_jobs=-1)\n",
    "clinton_knn_scores"
   ]
  },
  {
   "cell_type": "code",
   "execution_count": 39,
   "metadata": {
    "ExecuteTime": {
     "end_time": "2019-11-26T22:45:38.932812Z",
     "start_time": "2019-11-26T22:45:15.255326Z"
    }
   },
   "outputs": [
    {
     "data": {
      "text/plain": [
       "array([92.8, 83.6, 87.9, 85.3, 86.3])"
      ]
     },
     "execution_count": 39,
     "metadata": {},
     "output_type": "execute_result"
    }
   ],
   "source": [
    "trump_svm_scores = cross_val_score(svm, X, y, cv=5, scoring=trump_metric, n_jobs=-1)\n",
    "trump_svm_scores"
   ]
  },
  {
   "cell_type": "markdown",
   "metadata": {},
   "source": [
    "## K-means clustering"
   ]
  },
  {
   "cell_type": "code",
   "execution_count": null,
   "metadata": {
    "ExecuteTime": {
     "end_time": "2019-11-25T15:33:59.085643Z",
     "start_time": "2019-11-25T15:33:53.930629Z"
    }
   },
   "outputs": [],
   "source": []
  },
  {
   "cell_type": "markdown",
   "metadata": {},
   "source": [
    "# Parameter tuning"
   ]
  },
  {
   "cell_type": "markdown",
   "metadata": {},
   "source": [
    "gridsearchcv"
   ]
  },
  {
   "cell_type": "markdown",
   "metadata": {},
   "source": [
    "# Test "
   ]
  },
  {
   "cell_type": "markdown",
   "metadata": {},
   "source": [
    "Which model does better with test data? \n",
    "Stick with one metric\n",
    "Whatever model is best, variation between train and test,etc. "
   ]
  },
  {
   "cell_type": "code",
   "execution_count": null,
   "metadata": {},
   "outputs": [],
   "source": []
  }
 ],
 "metadata": {
  "kernelspec": {
   "display_name": "Python 3",
   "language": "python",
   "name": "python3"
  },
  "language_info": {
   "codemirror_mode": {
    "name": "ipython",
    "version": 3
   },
   "file_extension": ".py",
   "mimetype": "text/x-python",
   "name": "python",
   "nbconvert_exporter": "python",
   "pygments_lexer": "ipython3",
   "version": "3.7.3"
  },
  "toc": {
   "base_numbering": 1,
   "nav_menu": {},
   "number_sections": true,
   "sideBar": true,
   "skip_h1_title": false,
   "title_cell": "Table of Contents",
   "title_sidebar": "Contents",
   "toc_cell": false,
   "toc_position": {},
   "toc_section_display": true,
   "toc_window_display": false
  }
 },
 "nbformat": 4,
 "nbformat_minor": 2
}
