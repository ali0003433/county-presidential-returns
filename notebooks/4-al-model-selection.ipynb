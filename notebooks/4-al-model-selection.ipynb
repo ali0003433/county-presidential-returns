{
 "cells": [
  {
   "cell_type": "markdown",
   "metadata": {},
   "source": [
    "# Model selection and parameter tuning"
   ]
  },
  {
   "cell_type": "markdown",
   "metadata": {},
   "source": [
    "## Prepare notebook"
   ]
  },
  {
   "cell_type": "markdown",
   "metadata": {},
   "source": [
    "Import libraries and functions"
   ]
  },
  {
   "cell_type": "code",
   "execution_count": 20,
   "metadata": {
    "ExecuteTime": {
     "end_time": "2019-11-30T16:09:16.528212Z",
     "start_time": "2019-11-30T16:09:16.516605Z"
    }
   },
   "outputs": [],
   "source": [
    "import matplotlib.pyplot as plt\n",
    "import numpy as np\n",
    "import pandas as pd\n",
    "import pickle\n",
    "import random\n",
    "import seaborn as sns\n",
    "from sklearn import metrics\n",
    "from sklearn.ensemble import RandomForestClassifier\n",
    "from sklearn.feature_selection import RFECV\n",
    "from sklearn.linear_model import LogisticRegression\n",
    "from sklearn.metrics import confusion_matrix, make_scorer\n",
    "from sklearn.model_selection import cross_val_score, train_test_split, GridSearchCV, cross_validate\n",
    "from sklearn.neighbors import KNeighborsClassifier\n",
    "from sklearn.svm import SVC\n",
    "import sys\n",
    "import os\n",
    "sys.path.append('../src/features')\n",
    "from build_features import get_dummies\n",
    "sys.path.append('../src/models')\n",
    "from predict_model import clint_scorer, trump_scorer, avg_scorer\n",
    "#warnings.filterwarnings(\"ignore\")"
   ]
  },
  {
   "cell_type": "code",
   "execution_count": 21,
   "metadata": {
    "ExecuteTime": {
     "end_time": "2019-11-30T16:09:16.741726Z",
     "start_time": "2019-11-30T16:09:16.728212Z"
    }
   },
   "outputs": [],
   "source": [
    "random.seed(10)"
   ]
  },
  {
   "cell_type": "markdown",
   "metadata": {},
   "source": [
    "Load predictors and target variable"
   ]
  },
  {
   "cell_type": "code",
   "execution_count": 22,
   "metadata": {
    "ExecuteTime": {
     "end_time": "2019-11-30T16:09:17.102195Z",
     "start_time": "2019-11-30T16:09:17.088695Z"
    }
   },
   "outputs": [],
   "source": [
    "# with open('../data/processed/predictors.pickle', 'rb') as file:\n",
    "#     X = pickle.load(file)\n",
    "with open('../data/processed/target.pickle', 'rb') as file:\n",
    "    y = pickle.load(file)"
   ]
  },
  {
   "cell_type": "markdown",
   "metadata": {
    "ExecuteTime": {
     "end_time": "2019-11-30T11:33:08.936307Z",
     "start_time": "2019-11-30T11:33:08.921050Z"
    }
   },
   "source": [
    "Load predictors without dummies "
   ]
  },
  {
   "cell_type": "code",
   "execution_count": 23,
   "metadata": {
    "ExecuteTime": {
     "end_time": "2019-11-30T16:09:17.490200Z",
     "start_time": "2019-11-30T16:09:17.469314Z"
    }
   },
   "outputs": [],
   "source": [
    "with open('../data/processed/predictors_not_dummies.pickle', 'rb') as file:\n",
    "     X_no = pickle.load(file)"
   ]
  },
  {
   "cell_type": "markdown",
   "metadata": {},
   "source": [
    "## Split data into train and test sets"
   ]
  },
  {
   "cell_type": "markdown",
   "metadata": {},
   "source": [
    "Split the 23 (no dummies) predictors into train and test set "
   ]
  },
  {
   "cell_type": "code",
   "execution_count": 24,
   "metadata": {
    "ExecuteTime": {
     "end_time": "2019-11-30T16:09:18.117818Z",
     "start_time": "2019-11-30T16:09:18.104015Z"
    }
   },
   "outputs": [],
   "source": [
    "X_train_rfe, X_test_rfe, y_train_rfe, y_test_rfe = train_test_split(X_no, y)"
   ]
  },
  {
   "cell_type": "markdown",
   "metadata": {},
   "source": [
    "## Define function to score model performance "
   ]
  },
  {
   "cell_type": "markdown",
   "metadata": {},
   "source": [
    "Create a metric to pass to cross_val_score when evaluating models"
   ]
  },
  {
   "cell_type": "code",
   "execution_count": 25,
   "metadata": {
    "ExecuteTime": {
     "end_time": "2019-11-30T16:09:19.064776Z",
     "start_time": "2019-11-30T16:09:19.060192Z"
    }
   },
   "outputs": [],
   "source": [
    "clinton_metric = make_scorer(clint_scorer)\n",
    "trump_metric = make_scorer(trump_scorer)\n",
    "comb_metric = make_scorer(avg_scorer)"
   ]
  },
  {
   "cell_type": "markdown",
   "metadata": {},
   "source": [
    "## Define models "
   ]
  },
  {
   "cell_type": "markdown",
   "metadata": {},
   "source": [
    "Logistic regression"
   ]
  },
  {
   "cell_type": "code",
   "execution_count": 40,
   "metadata": {
    "ExecuteTime": {
     "end_time": "2019-11-30T16:15:40.936226Z",
     "start_time": "2019-11-30T16:15:40.927748Z"
    }
   },
   "outputs": [],
   "source": [
    "lr = LogisticRegression(\n",
    "    C=2, penalty='l2', solver='lbfgs', multi_class='auto', max_iter=1000, random_state=3)"
   ]
  },
  {
   "cell_type": "markdown",
   "metadata": {},
   "source": [
    "Random forest classifier"
   ]
  },
  {
   "cell_type": "code",
   "execution_count": 41,
   "metadata": {
    "ExecuteTime": {
     "end_time": "2019-11-30T16:15:58.376797Z",
     "start_time": "2019-11-30T16:15:58.372326Z"
    }
   },
   "outputs": [],
   "source": [
    "rf = RandomForestClassifier(n_estimators=100, random_state=3)"
   ]
  },
  {
   "cell_type": "markdown",
   "metadata": {},
   "source": [
    "K-nearest neighbors"
   ]
  },
  {
   "cell_type": "code",
   "execution_count": 43,
   "metadata": {
    "ExecuteTime": {
     "end_time": "2019-11-30T16:16:29.329772Z",
     "start_time": "2019-11-30T16:16:29.323356Z"
    }
   },
   "outputs": [],
   "source": [
    "knn = KNeighborsClassifier()"
   ]
  },
  {
   "cell_type": "markdown",
   "metadata": {},
   "source": [
    "Support vector machine"
   ]
  },
  {
   "cell_type": "code",
   "execution_count": 44,
   "metadata": {
    "ExecuteTime": {
     "end_time": "2019-11-30T16:16:30.838927Z",
     "start_time": "2019-11-30T16:16:30.834594Z"
    }
   },
   "outputs": [],
   "source": [
    "svm = SVC(kernel='linear', random_state=3)"
   ]
  },
  {
   "cell_type": "markdown",
   "metadata": {},
   "source": [
    "##  Evaluate training performance"
   ]
  },
  {
   "cell_type": "markdown",
   "metadata": {},
   "source": [
    "Create a list of model names and model variables "
   ]
  },
  {
   "cell_type": "code",
   "execution_count": 45,
   "metadata": {
    "ExecuteTime": {
     "end_time": "2019-11-30T16:16:33.294799Z",
     "start_time": "2019-11-30T16:16:33.288801Z"
    }
   },
   "outputs": [],
   "source": [
    "name_list = ['Logistic regression', 'Random forest',\n",
    "             'K-nearest neighbors', 'Support vector machine']\n",
    "model_list = [lr, rf, knn, svm]"
   ]
  },
  {
   "cell_type": "markdown",
   "metadata": {},
   "source": [
    "Cross validate all of the models and print scores and score mean for each for  Clinton "
   ]
  },
  {
   "cell_type": "code",
   "execution_count": 46,
   "metadata": {
    "ExecuteTime": {
     "end_time": "2019-11-30T16:16:45.929117Z",
     "start_time": "2019-11-30T16:16:35.408983Z"
    }
   },
   "outputs": [
    {
     "name": "stdout",
     "output_type": "stream",
     "text": [
      "Logistic regression : [90.4 91.5 89.3 90.8 89.8] 90.36\n",
      "Random forest : [90.  89.7 88.1 88.9 90. ] 89.34\n",
      "K-nearest neighbors : [86.5 88.5 86.1 84.9 87. ] 86.6\n",
      "Support vector machine : [92.3 92.3 90.4 91.7 90.6] 91.46\n"
     ]
    }
   ],
   "source": [
    "for idx, model in enumerate(model_list):\n",
    "    clint_scores = cross_val_score(\n",
    "        model, X_train_rfe, y_train_rfe, cv=5, scoring=clinton_metric, n_jobs=-1)\n",
    "    name = name_list[idx]\n",
    "    print(name, \":\", clint_scores, round(clint_scores.mean(), 5))"
   ]
  },
  {
   "cell_type": "markdown",
   "metadata": {},
   "source": [
    "Cross validate all of the models and print scores and score mean for each for Trump"
   ]
  },
  {
   "cell_type": "code",
   "execution_count": 47,
   "metadata": {
    "ExecuteTime": {
     "end_time": "2019-11-30T16:16:56.212182Z",
     "start_time": "2019-11-30T16:16:45.934020Z"
    }
   },
   "outputs": [
    {
     "name": "stdout",
     "output_type": "stream",
     "text": [
      "Logistic regression : [85.9 85.7 87.5 90.  88. ] Mean: 87.42\n",
      "Random forest : [86.7 88.8 90.  91.5 87.6] Mean: 88.92\n",
      "K-nearest neighbors : [83.8 82.9 85.5 86.3 86.9] Mean: 85.08\n",
      "Support vector machine : [85.7 85.  86.5 88.8 87.1] Mean: 86.62\n"
     ]
    }
   ],
   "source": [
    "for idx, model in enumerate(model_list):\n",
    "    trump_scores = cross_val_score(\n",
    "        model, X_train_rfe, y_train_rfe, cv=5, scoring=trump_metric, n_jobs=-1)\n",
    "    name = name_list[idx]\n",
    "    print(name, \":\", trump_scores, 'Mean:', round(trump_scores.mean(), 5))"
   ]
  },
  {
   "cell_type": "markdown",
   "metadata": {},
   "source": [
    "Cross validate and evaluate using the combined Trump/Clinton metric on non-dummy predictors "
   ]
  },
  {
   "cell_type": "code",
   "execution_count": 48,
   "metadata": {
    "ExecuteTime": {
     "end_time": "2019-11-30T16:17:07.642247Z",
     "start_time": "2019-11-30T16:16:56.215725Z"
    }
   },
   "outputs": [
    {
     "name": "stdout",
     "output_type": "stream",
     "text": [
      "Logistic regression [88.15 88.6  88.4  90.4  88.9 ] 88.88999999999999\n",
      "Random forest [88.35 89.25 89.05 90.2  88.8 ] 89.13\n",
      "K-nearest neighbors [85.15 85.7  85.8  85.6  86.95] 85.84\n",
      "Support vector machine [89.   88.65 88.45 90.25 88.85] 89.04\n"
     ]
    }
   ],
   "source": [
    "for idx, model in enumerate(model_list):\n",
    "    comb_scores = cross_val_score(\n",
    "        model, X_train_rfe, y_train_rfe, cv=5, scoring=comb_metric, n_jobs=-1)\n",
    "    name = name_list[idx]\n",
    "    print(name, comb_scores, comb_scores.mean())"
   ]
  },
  {
   "cell_type": "markdown",
   "metadata": {
    "ExecuteTime": {
     "end_time": "2019-11-30T11:36:56.771909Z",
     "start_time": "2019-11-30T11:36:56.736653Z"
    }
   },
   "source": [
    "Use recursive feature elimination on non-dummy variables on two top performing models (LR and RF)"
   ]
  },
  {
   "cell_type": "code",
   "execution_count": 51,
   "metadata": {
    "ExecuteTime": {
     "end_time": "2019-11-30T16:18:04.167157Z",
     "start_time": "2019-11-30T16:17:53.503051Z"
    }
   },
   "outputs": [
    {
     "data": {
      "text/plain": [
       "RFECV(cv=5,\n",
       "      estimator=LogisticRegression(C=2, class_weight=None, dual=False,\n",
       "                                   fit_intercept=True, intercept_scaling=1,\n",
       "                                   l1_ratio=None, max_iter=1000,\n",
       "                                   multi_class='auto', n_jobs=None,\n",
       "                                   penalty='l2', random_state=3, solver='lbfgs',\n",
       "                                   tol=0.0001, verbose=0, warm_start=False),\n",
       "      min_features_to_select=1, n_jobs=None, scoring=make_scorer(avg_scorer),\n",
       "      step=1, verbose=0)"
      ]
     },
     "execution_count": 51,
     "metadata": {},
     "output_type": "execute_result"
    }
   ],
   "source": [
    "selector_lr = RFECV(lr, step=1, min_features_to_select=1,\n",
    "                    scoring=comb_metric, cv=5)\n",
    "selector_lr.fit(X_train_rfe, y_train_rfe)"
   ]
  },
  {
   "cell_type": "code",
   "execution_count": 54,
   "metadata": {
    "ExecuteTime": {
     "end_time": "2019-11-30T16:19:25.010299Z",
     "start_time": "2019-11-30T16:18:22.524109Z"
    }
   },
   "outputs": [
    {
     "data": {
      "text/plain": [
       "RFECV(cv=5,\n",
       "      estimator=RandomForestClassifier(bootstrap=True, class_weight=None,\n",
       "                                       criterion='gini', max_depth=None,\n",
       "                                       max_features='auto', max_leaf_nodes=None,\n",
       "                                       min_impurity_decrease=0.0,\n",
       "                                       min_impurity_split=None,\n",
       "                                       min_samples_leaf=1, min_samples_split=2,\n",
       "                                       min_weight_fraction_leaf=0.0,\n",
       "                                       n_estimators=100, n_jobs=None,\n",
       "                                       oob_score=False, random_state=3,\n",
       "                                       verbose=0, warm_start=False),\n",
       "      min_features_to_select=1, n_jobs=None, scoring=make_scorer(avg_scorer),\n",
       "      step=1, verbose=0)"
      ]
     },
     "execution_count": 54,
     "metadata": {},
     "output_type": "execute_result"
    }
   ],
   "source": [
    "selector_rf = RFECV(rf, step=1, min_features_to_select=1,  \n",
    "                    scoring=comb_metric, cv=5)\n",
    "selector_rf.fit(X_train_rfe, y_train_rfe)"
   ]
  },
  {
   "cell_type": "markdown",
   "metadata": {},
   "source": [
    "Print findings from RFE "
   ]
  },
  {
   "cell_type": "code",
   "execution_count": 55,
   "metadata": {
    "ExecuteTime": {
     "end_time": "2019-11-30T16:19:25.038726Z",
     "start_time": "2019-11-30T16:19:25.017278Z"
    }
   },
   "outputs": [
    {
     "name": "stdout",
     "output_type": "stream",
     "text": [
      "Optimal number of features: 9\n",
      "Optimal number of features: 23\n"
     ]
    }
   ],
   "source": [
    "print('Optimal number of features: {}'.format(selector_lr.n_features_))\n",
    "print('Optimal number of features: {}'.format(selector_rf.n_features_))"
   ]
  },
  {
   "cell_type": "markdown",
   "metadata": {},
   "source": [
    "Print selected features from the RFE using logistic regression "
   ]
  },
  {
   "cell_type": "code",
   "execution_count": 67,
   "metadata": {
    "ExecuteTime": {
     "end_time": "2019-11-30T16:20:04.714631Z",
     "start_time": "2019-11-30T16:20:04.705004Z"
    }
   },
   "outputs": [
    {
     "name": "stdout",
     "output_type": "stream",
     "text": [
      "[ 1 10  1  4  3  1  1 13  5 14 11  1 15  9  8  1  7  6  2 12  1  1  1]\n",
      "[[1, 'imiss_a_2016'], [1, 'imiss_c_2016'], [1, 'imiss_f_2016'], [1, 'imiss_g_2016'], [1, 'imiss_l_2016'], [1, 'imiss_p_2016'], [1, 'imiss_u_2016'], [1, 'imiss_x_2016'], [1, 'imiss_y_2016']]\n"
     ]
    }
   ],
   "source": [
    "print(selector_lr.ranking_)\n",
    "rank_list = selector_lr.ranking_\n",
    "feature_ranks = []\n",
    "no = []\n",
    "yes = []\n",
    "for idx, rank in enumerate(rank_list):\n",
    "    feature_ranks.append([rank, X_train_rfe.columns[idx]])\n",
    "for list in feature_ranks:\n",
    "    if list[0] != 1:\n",
    "        #print('no', list)\n",
    "        no.append(list)\n",
    "    if list[0] == 1:\n",
    "        #print('yes', list)\n",
    "        yes.append(list)\n",
    "#print(no)\n",
    "print(yes) # immigration, terrorism, climate change, the budget deficit, racial equality, "
   ]
  },
  {
   "cell_type": "markdown",
   "metadata": {},
   "source": [
    "Selected feature count using non-dummies"
   ]
  },
  {
   "cell_type": "code",
   "execution_count": 68,
   "metadata": {
    "ExecuteTime": {
     "end_time": "2019-11-30T16:20:07.011029Z",
     "start_time": "2019-11-30T16:20:06.705347Z"
    }
   },
   "outputs": [
    {
     "data": {
      "image/png": "[encoded data removed]",
      "text/plain": [
       "<Figure size 1152x648 with 1 Axes>"
      ]
     },
     "metadata": {
      "needs_background": "light"
     },
     "output_type": "display_data"
    }
   ],
   "source": [
    "plt.figure(figsize=(16, 9))\n",
    "plt.title('Recursive Feature Elimination - Logistic Regression', fontsize=18, fontweight='bold', pad=20)\n",
    "plt.xlabel('Number of features selected', fontsize=14, labelpad=20)\n",
    "plt.ylabel('% Correct Classification', fontsize=14, labelpad=20)\n",
    "plt.plot(range(1, len(selector_lr.grid_scores_) + 1), selector_lr.grid_scores_, color='#303F9F', linewidth=3)\n",
    "\n",
    "plt.show()"
   ]
  },
  {
   "cell_type": "markdown",
   "metadata": {},
   "source": [
    "Drop unneeded attributes"
   ]
  },
  {
   "cell_type": "code",
   "execution_count": 69,
   "metadata": {
    "ExecuteTime": {
     "end_time": "2019-11-30T16:20:08.227228Z",
     "start_time": "2019-11-30T16:20:08.218291Z"
    }
   },
   "outputs": [
    {
     "name": "stdout",
     "output_type": "stream",
     "text": [
      "[ 1  3  4  7  8  9 10 12 13 14 16 17 18 19]\n"
     ]
    }
   ],
   "source": [
    "print(np.where(selector_lr.support_ == False)[0])\n",
    "\n",
    "X_dropped = X_no.drop(X_no.columns[np.where(selector_lr.support_ == False)[0]], axis=1)"
   ]
  },
  {
   "cell_type": "code",
   "execution_count": 98,
   "metadata": {
    "ExecuteTime": {
     "end_time": "2019-11-30T16:33:08.510785Z",
     "start_time": "2019-11-30T16:33:08.479515Z"
    }
   },
   "outputs": [
    {
     "name": "stdout",
     "output_type": "stream",
     "text": [
      "9\n"
     ]
    },
    {
     "data": {
      "text/html": [
       "<div>\n",
       "<style scoped>\n",
       "    .dataframe tbody tr th:only-of-type {\n",
       "        vertical-align: middle;\n",
       "    }\n",
       "\n",
       "    .dataframe tbody tr th {\n",
       "        vertical-align: top;\n",
       "    }\n",
       "\n",
       "    .dataframe thead th {\n",
       "        text-align: right;\n",
       "    }\n",
       "</style>\n",
       "<table border=\"1\" class=\"dataframe\">\n",
       "  <thead>\n",
       "    <tr style=\"text-align: right;\">\n",
       "      <th></th>\n",
       "      <th>imiss_a_2016</th>\n",
       "      <th>imiss_c_2016</th>\n",
       "      <th>imiss_f_2016</th>\n",
       "      <th>imiss_g_2016</th>\n",
       "      <th>imiss_l_2016</th>\n",
       "      <th>imiss_p_2016</th>\n",
       "      <th>imiss_u_2016</th>\n",
       "      <th>imiss_x_2016</th>\n",
       "      <th>imiss_y_2016</th>\n",
       "    </tr>\n",
       "  </thead>\n",
       "  <tbody>\n",
       "    <tr>\n",
       "      <th>0</th>\n",
       "      <td>2.0</td>\n",
       "      <td>1.0</td>\n",
       "      <td>2.0</td>\n",
       "      <td>1.0</td>\n",
       "      <td>1.0</td>\n",
       "      <td>2.0</td>\n",
       "      <td>2.0</td>\n",
       "      <td>1.0</td>\n",
       "      <td>1.0</td>\n",
       "    </tr>\n",
       "    <tr>\n",
       "      <th>1</th>\n",
       "      <td>1.0</td>\n",
       "      <td>2.0</td>\n",
       "      <td>1.0</td>\n",
       "      <td>4.0</td>\n",
       "      <td>4.0</td>\n",
       "      <td>1.0</td>\n",
       "      <td>2.0</td>\n",
       "      <td>3.0</td>\n",
       "      <td>4.0</td>\n",
       "    </tr>\n",
       "    <tr>\n",
       "      <th>2</th>\n",
       "      <td>1.0</td>\n",
       "      <td>2.0</td>\n",
       "      <td>1.0</td>\n",
       "      <td>3.0</td>\n",
       "      <td>1.0</td>\n",
       "      <td>2.0</td>\n",
       "      <td>2.0</td>\n",
       "      <td>1.0</td>\n",
       "      <td>2.0</td>\n",
       "    </tr>\n",
       "    <tr>\n",
       "      <th>3</th>\n",
       "      <td>1.0</td>\n",
       "      <td>3.0</td>\n",
       "      <td>2.0</td>\n",
       "      <td>3.0</td>\n",
       "      <td>2.0</td>\n",
       "      <td>3.0</td>\n",
       "      <td>2.0</td>\n",
       "      <td>2.0</td>\n",
       "      <td>3.0</td>\n",
       "    </tr>\n",
       "    <tr>\n",
       "      <th>4</th>\n",
       "      <td>1.0</td>\n",
       "      <td>1.0</td>\n",
       "      <td>1.0</td>\n",
       "      <td>3.0</td>\n",
       "      <td>4.0</td>\n",
       "      <td>1.0</td>\n",
       "      <td>1.0</td>\n",
       "      <td>1.0</td>\n",
       "      <td>1.0</td>\n",
       "    </tr>\n",
       "  </tbody>\n",
       "</table>\n",
       "</div>"
      ],
      "text/plain": [
       "   imiss_a_2016  imiss_c_2016  imiss_f_2016  imiss_g_2016  imiss_l_2016  \\\n",
       "0           2.0           1.0           2.0           1.0           1.0   \n",
       "1           1.0           2.0           1.0           4.0           4.0   \n",
       "2           1.0           2.0           1.0           3.0           1.0   \n",
       "3           1.0           3.0           2.0           3.0           2.0   \n",
       "4           1.0           1.0           1.0           3.0           4.0   \n",
       "\n",
       "   imiss_p_2016  imiss_u_2016  imiss_x_2016  imiss_y_2016  \n",
       "0           2.0           2.0           1.0           1.0  \n",
       "1           1.0           2.0           3.0           4.0  \n",
       "2           2.0           2.0           1.0           2.0  \n",
       "3           3.0           2.0           2.0           3.0  \n",
       "4           1.0           1.0           1.0           1.0  "
      ]
     },
     "execution_count": 98,
     "metadata": {},
     "output_type": "execute_result"
    }
   ],
   "source": [
    "print(len(X_dropped.columns))\n",
    "X_dropped.head()\n"
   ]
  },
  {
   "cell_type": "markdown",
   "metadata": {},
   "source": [
    "Get dummies for X with fewer attributes"
   ]
  },
  {
   "cell_type": "code",
   "execution_count": 71,
   "metadata": {
    "ExecuteTime": {
     "end_time": "2019-11-30T16:20:09.143418Z",
     "start_time": "2019-11-30T16:20:09.071417Z"
    }
   },
   "outputs": [],
   "source": [
    "X = get_dummies(X_dropped)"
   ]
  },
  {
   "cell_type": "markdown",
   "metadata": {},
   "source": [
    "Number of columns in new X "
   ]
  },
  {
   "cell_type": "code",
   "execution_count": 72,
   "metadata": {
    "ExecuteTime": {
     "end_time": "2019-11-30T16:20:09.644305Z",
     "start_time": "2019-11-30T16:20:09.632775Z"
    }
   },
   "outputs": [
    {
     "data": {
      "text/plain": [
       "36"
      ]
     },
     "execution_count": 72,
     "metadata": {},
     "output_type": "execute_result"
    }
   ],
   "source": [
    "len(X.columns)"
   ]
  },
  {
   "cell_type": "code",
   "execution_count": 73,
   "metadata": {
    "ExecuteTime": {
     "end_time": "2019-11-30T16:20:09.833255Z",
     "start_time": "2019-11-30T16:20:09.824712Z"
    }
   },
   "outputs": [],
   "source": [
    "X_train, X_test, y_train, y_test = train_test_split(X, y)"
   ]
  },
  {
   "cell_type": "markdown",
   "metadata": {},
   "source": [
    "Show rfe feature importances"
   ]
  },
  {
   "cell_type": "markdown",
   "metadata": {},
   "source": [
    "## Parameter tuning"
   ]
  },
  {
   "cell_type": "markdown",
   "metadata": {},
   "source": [
    "Define parameter grid for random forest"
   ]
  },
  {
   "cell_type": "code",
   "execution_count": 74,
   "metadata": {
    "ExecuteTime": {
     "end_time": "2019-11-30T16:20:11.423655Z",
     "start_time": "2019-11-30T16:20:11.417127Z"
    }
   },
   "outputs": [],
   "source": [
    "param_grid = {'n_estimators': [100], 'max_depth': [\n",
    "    1, 2, 3, 4, 5, 6, 7, 8, 9, 10], 'oob_score': [True], 'max_features': [None, 'sqrt']}"
   ]
  },
  {
   "cell_type": "markdown",
   "metadata": {},
   "source": [
    "Find the best parameters and then crossvalidate with five folds"
   ]
  },
  {
   "cell_type": "code",
   "execution_count": 77,
   "metadata": {
    "ExecuteTime": {
     "end_time": "2019-11-30T16:20:23.202401Z",
     "start_time": "2019-11-30T16:20:23.197522Z"
    }
   },
   "outputs": [],
   "source": [
    "grid = GridSearchCV(rf, param_grid, iid=True, cv=5, n_jobs=-1,\n",
    "                    scoring=comb_metric, verbose=1, return_train_score=True)"
   ]
  },
  {
   "cell_type": "markdown",
   "metadata": {},
   "source": [
    "Fit training data to grid"
   ]
  },
  {
   "cell_type": "code",
   "execution_count": 99,
   "metadata": {
    "ExecuteTime": {
     "end_time": "2019-11-30T16:37:17.591091Z",
     "start_time": "2019-11-30T16:37:17.365889Z"
    }
   },
   "outputs": [
    {
     "data": {
      "text/plain": [
       "LogisticRegression(C=2, class_weight=None, dual=False, fit_intercept=True,\n",
       "                   intercept_scaling=1, l1_ratio=None, max_iter=1000,\n",
       "                   multi_class='auto', n_jobs=None, penalty='l2',\n",
       "                   random_state=3, solver='lbfgs', tol=0.0001, verbose=0,\n",
       "                   warm_start=False)"
      ]
     },
     "execution_count": 99,
     "metadata": {},
     "output_type": "execute_result"
    }
   ],
   "source": [
    "lr.fit(X_train, y_train)"
   ]
  },
  {
   "cell_type": "code",
   "execution_count": 105,
   "metadata": {
    "ExecuteTime": {
     "end_time": "2019-11-30T16:38:11.950175Z",
     "start_time": "2019-11-30T16:38:11.939313Z"
    }
   },
   "outputs": [
    {
     "data": {
      "text/plain": [
       "array([[ 0.07937392,  0.42934026,  0.66457478, -0.03698937,  0.44279562,\n",
       "         0.59969262,  0.46952508,  0.11708019,  0.2012351 ,  0.10544338,\n",
       "         0.05971256,  0.18226675, -0.2261798 , -0.46914026, -0.72040081,\n",
       "        -0.50071449, -0.61178001, -1.47090024, -1.99900977, -0.50254861,\n",
       "         0.43999515,  0.69979355,  0.4622185 ,  0.3814029 ,  0.50141263,\n",
       "         1.06686984,  1.41569484,  0.39045779, -0.40887705, -0.80142715,\n",
       "        -1.11604996, -0.2628891 , -0.44156308, -0.59803681, -0.51855404,\n",
       "        -0.31376773],\n",
       "       [-0.11059773, -0.32832178, -0.6045839 ,  0.29271035, -0.53020948,\n",
       "        -0.90443869, -0.80519231, -0.48521051, -0.54938896, -1.0185643 ,\n",
       "        -1.21791663, -0.33409511,  0.32351632,  0.52389987,  0.73002496,\n",
       "         0.560831  ,  0.81402113,  1.43808939,  1.87853051,  0.80738217,\n",
       "        -0.19977666, -0.56610027, -0.33948866, -0.34550492, -0.35411024,\n",
       "        -0.97270185, -1.20701923, -0.56486645,  0.33912965,  0.75358392,\n",
       "         0.85204291,  0.44919552,  0.35572924,  0.53039042,  0.40844348,\n",
       "         0.28908902],\n",
       "       [ 0.03122381, -0.10101849, -0.05999088, -0.25572098,  0.08741387,\n",
       "         0.30474607,  0.33566723,  0.36813032,  0.34815386,  0.91312092,\n",
       "         1.15820408,  0.15182836, -0.09733652, -0.0547596 , -0.00962415,\n",
       "        -0.06011651, -0.20224113,  0.03281085,  0.12047926, -0.30483356,\n",
       "        -0.24021849, -0.13369328, -0.12272983, -0.03589799, -0.14730239,\n",
       "        -0.09416799, -0.20867561,  0.17440867,  0.0697474 ,  0.04784323,\n",
       "         0.26400705, -0.18630642,  0.08583384,  0.06764639,  0.11011056,\n",
       "         0.02467871]])"
      ]
     },
     "execution_count": 105,
     "metadata": {},
     "output_type": "execute_result"
    }
   ],
   "source": [
    "lr.coef_"
   ]
  },
  {
   "cell_type": "code",
   "execution_count": 116,
   "metadata": {
    "ExecuteTime": {
     "end_time": "2019-11-30T16:43:57.013939Z",
     "start_time": "2019-11-30T16:43:56.982767Z"
    }
   },
   "outputs": [
    {
     "data": {
      "text/plain": [
       "array([1., 2., 3.])"
      ]
     },
     "execution_count": 116,
     "metadata": {},
     "output_type": "execute_result"
    }
   ],
   "source": [
    "lr.classes_"
   ]
  },
  {
   "cell_type": "code",
   "execution_count": 117,
   "metadata": {
    "ExecuteTime": {
     "end_time": "2019-11-30T16:44:29.993456Z",
     "start_time": "2019-11-30T16:44:29.983883Z"
    }
   },
   "outputs": [
    {
     "data": {
      "text/plain": [
       "array([ 0.913321  , -0.46978294, -0.44353807])"
      ]
     },
     "execution_count": 117,
     "metadata": {},
     "output_type": "execute_result"
    }
   ],
   "source": [
    "lr.intercept_"
   ]
  },
  {
   "cell_type": "code",
   "execution_count": 106,
   "metadata": {
    "ExecuteTime": {
     "end_time": "2019-11-30T16:39:33.039720Z",
     "start_time": "2019-11-30T16:38:55.518954Z"
    }
   },
   "outputs": [
    {
     "name": "stdout",
     "output_type": "stream",
     "text": [
      "Fitting 5 folds for each of 20 candidates, totalling 100 fits\n"
     ]
    },
    {
     "name": "stderr",
     "output_type": "stream",
     "text": [
      "[Parallel(n_jobs=-1)]: Using backend LokyBackend with 4 concurrent workers.\n",
      "[Parallel(n_jobs=-1)]: Done  42 tasks      | elapsed:   16.3s\n",
      "[Parallel(n_jobs=-1)]: Done 100 out of 100 | elapsed:   36.4s finished\n"
     ]
    },
    {
     "data": {
      "text/plain": [
       "GridSearchCV(cv=5, error_score='raise-deprecating',\n",
       "             estimator=RandomForestClassifier(bootstrap=True, class_weight=None,\n",
       "                                              criterion='gini', max_depth=None,\n",
       "                                              max_features='auto',\n",
       "                                              max_leaf_nodes=None,\n",
       "                                              min_impurity_decrease=0.0,\n",
       "                                              min_impurity_split=None,\n",
       "                                              min_samples_leaf=1,\n",
       "                                              min_samples_split=2,\n",
       "                                              min_weight_fraction_leaf=0.0,\n",
       "                                              n_estimators=100, n_jobs=None,\n",
       "                                              oob_score=False, random_state=3,\n",
       "                                              verbose=0, warm_start=False),\n",
       "             iid=True, n_jobs=-1,\n",
       "             param_grid={'max_depth': [1, 2, 3, 4, 5, 6, 7, 8, 9, 10],\n",
       "                         'max_features': [None, 'sqrt'], 'n_estimators': [100],\n",
       "                         'oob_score': [True]},\n",
       "             pre_dispatch='2*n_jobs', refit=True, return_train_score=True,\n",
       "             scoring=make_scorer(avg_scorer), verbose=1)"
      ]
     },
     "execution_count": 106,
     "metadata": {},
     "output_type": "execute_result"
    }
   ],
   "source": [
    "grid.fit(X_train, y_train)"
   ]
  },
  {
   "cell_type": "markdown",
   "metadata": {},
   "source": [
    "Print best parameters and best score"
   ]
  },
  {
   "cell_type": "code",
   "execution_count": 79,
   "metadata": {
    "ExecuteTime": {
     "end_time": "2019-11-30T16:21:02.620047Z",
     "start_time": "2019-11-30T16:21:02.606541Z"
    }
   },
   "outputs": [
    {
     "name": "stdout",
     "output_type": "stream",
     "text": [
      "{'max_depth': 9, 'max_features': None, 'n_estimators': 100, 'oob_score': True}\n",
      "88.7\n"
     ]
    }
   ],
   "source": [
    "print(grid.best_params_)\n",
    "print(round(grid.best_score_, 3))"
   ]
  },
  {
   "cell_type": "code",
   "execution_count": 111,
   "metadata": {
    "ExecuteTime": {
     "end_time": "2019-11-30T16:40:54.981588Z",
     "start_time": "2019-11-30T16:40:54.242390Z"
    }
   },
   "outputs": [],
   "source": [
    "lr.predict(X_train)\n",
    "scores_train_lr = cross_validate(lr, X_train, y_train, scoring=comb_metric, cv=5)"
   ]
  },
  {
   "cell_type": "code",
   "execution_count": 115,
   "metadata": {
    "ExecuteTime": {
     "end_time": "2019-11-30T16:42:08.336406Z",
     "start_time": "2019-11-30T16:42:08.320879Z"
    }
   },
   "outputs": [
    {
     "data": {
      "text/plain": [
       "{'fit_time': array([0.16303706, 0.14747977, 0.11915278, 0.11568308, 0.13249421]),\n",
       " 'score_time': array([0.00851297, 0.00655532, 0.00729823, 0.0117979 , 0.0066607 ]),\n",
       " 'test_score': array([89.45, 88.8 , 90.8 , 90.15, 89.75])}"
      ]
     },
     "execution_count": 115,
     "metadata": {},
     "output_type": "execute_result"
    }
   ],
   "source": [
    "scores_train_lr"
   ]
  },
  {
   "cell_type": "markdown",
   "metadata": {},
   "source": [
    "## Evaluate test performance"
   ]
  },
  {
   "cell_type": "code",
   "execution_count": 112,
   "metadata": {
    "ExecuteTime": {
     "end_time": "2019-11-30T16:42:07.756529Z",
     "start_time": "2019-11-30T16:40:57.467132Z"
    }
   },
   "outputs": [
    {
     "name": "stdout",
     "output_type": "stream",
     "text": [
      "Fitting 5 folds for each of 20 candidates, totalling 100 fits\n"
     ]
    },
    {
     "name": "stderr",
     "output_type": "stream",
     "text": [
      "[Parallel(n_jobs=-1)]: Using backend LokyBackend with 4 concurrent workers.\n",
      "[Parallel(n_jobs=-1)]: Done  42 tasks      | elapsed:   10.4s\n",
      "[Parallel(n_jobs=-1)]: Done 100 out of 100 | elapsed:   18.7s finished\n"
     ]
    },
    {
     "name": "stdout",
     "output_type": "stream",
     "text": [
      "Fitting 5 folds for each of 20 candidates, totalling 100 fits\n"
     ]
    },
    {
     "name": "stderr",
     "output_type": "stream",
     "text": [
      "[Parallel(n_jobs=-1)]: Using backend LokyBackend with 4 concurrent workers.\n",
      "[Parallel(n_jobs=-1)]: Done  42 tasks      | elapsed:    4.5s\n",
      "[Parallel(n_jobs=-1)]: Done 100 out of 100 | elapsed:   12.1s finished\n"
     ]
    },
    {
     "name": "stdout",
     "output_type": "stream",
     "text": [
      "Fitting 5 folds for each of 20 candidates, totalling 100 fits\n"
     ]
    },
    {
     "name": "stderr",
     "output_type": "stream",
     "text": [
      "[Parallel(n_jobs=-1)]: Using backend LokyBackend with 4 concurrent workers.\n",
      "[Parallel(n_jobs=-1)]: Done  42 tasks      | elapsed:    4.9s\n",
      "[Parallel(n_jobs=-1)]: Done 100 out of 100 | elapsed:   13.0s finished\n"
     ]
    },
    {
     "name": "stdout",
     "output_type": "stream",
     "text": [
      "Fitting 5 folds for each of 20 candidates, totalling 100 fits\n"
     ]
    },
    {
     "name": "stderr",
     "output_type": "stream",
     "text": [
      "[Parallel(n_jobs=-1)]: Using backend LokyBackend with 4 concurrent workers.\n",
      "[Parallel(n_jobs=-1)]: Done  42 tasks      | elapsed:    4.7s\n",
      "[Parallel(n_jobs=-1)]: Done 100 out of 100 | elapsed:   12.1s finished\n"
     ]
    },
    {
     "name": "stdout",
     "output_type": "stream",
     "text": [
      "Fitting 5 folds for each of 20 candidates, totalling 100 fits\n"
     ]
    },
    {
     "name": "stderr",
     "output_type": "stream",
     "text": [
      "[Parallel(n_jobs=-1)]: Using backend LokyBackend with 4 concurrent workers.\n",
      "[Parallel(n_jobs=-1)]: Done  42 tasks      | elapsed:    4.8s\n",
      "[Parallel(n_jobs=-1)]: Done 100 out of 100 | elapsed:   12.9s finished\n"
     ]
    }
   ],
   "source": [
    "scores_rf = cross_validate(grid, X_test, y_test, scoring=comb_metric, cv=5)"
   ]
  },
  {
   "cell_type": "code",
   "execution_count": 113,
   "metadata": {
    "ExecuteTime": {
     "end_time": "2019-11-30T16:42:07.780835Z",
     "start_time": "2019-11-30T16:42:07.760579Z"
    }
   },
   "outputs": [
    {
     "data": {
      "text/plain": [
       "85.96"
      ]
     },
     "execution_count": 113,
     "metadata": {},
     "output_type": "execute_result"
    }
   ],
   "source": [
    "scores_rf['test_score'].mean()"
   ]
  },
  {
   "cell_type": "code",
   "execution_count": 114,
   "metadata": {
    "ExecuteTime": {
     "end_time": "2019-11-30T16:42:08.317542Z",
     "start_time": "2019-11-30T16:42:07.785456Z"
    }
   },
   "outputs": [
    {
     "data": {
      "text/plain": [
       "88.09"
      ]
     },
     "execution_count": 114,
     "metadata": {},
     "output_type": "execute_result"
    }
   ],
   "source": [
    "scores_lr = cross_validate(lr, X_test, y_test, scoring=comb_metric, cv=5)\n",
    "scores_lr['test_score'].mean()"
   ]
  },
  {
   "cell_type": "code",
   "execution_count": null,
   "metadata": {},
   "outputs": [],
   "source": []
  }
 ],
 "metadata": {
  "kernelspec": {
   "display_name": "Python 3",
   "language": "python",
   "name": "python3"
  },
  "language_info": {
   "codemirror_mode": {
    "name": "ipython",
    "version": 3
   },
   "file_extension": ".py",
   "mimetype": "text/x-python",
   "name": "python",
   "nbconvert_exporter": "python",
   "pygments_lexer": "ipython3",
   "version": "3.7.3"
  },
  "toc": {
   "base_numbering": 1,
   "nav_menu": {},
   "number_sections": true,
   "sideBar": true,
   "skip_h1_title": false,
   "title_cell": "Table of Contents",
   "title_sidebar": "Contents",
   "toc_cell": false,
   "toc_position": {},
   "toc_section_display": true,
   "toc_window_display": false
  }
 },
 "nbformat": 4,
 "nbformat_minor": 2
}
