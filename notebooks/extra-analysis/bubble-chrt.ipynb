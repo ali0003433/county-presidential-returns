{
 "cells": [
  {
   "cell_type": "code",
   "execution_count": 1,
   "metadata": {
    "ExecuteTime": {
     "end_time": "2019-12-07T15:45:16.597877Z",
     "start_time": "2019-12-07T15:45:15.252919Z"
    }
   },
   "outputs": [],
   "source": [
    "import numpy as np\n",
    "import pandas as pd\n",
    "import pickle\n",
    "import random\n",
    "import matplotlib.pyplot as plt\n",
    "import weightedcalcs as wc\n",
    "import matplotlib.patches as mpatches\n",
    "from matplotlib import rcParams\n",
    "rcParams['font.family'] = 'serif'"
   ]
  },
  {
   "cell_type": "code",
   "execution_count": 2,
   "metadata": {
    "ExecuteTime": {
     "end_time": "2019-12-07T15:45:31.523490Z",
     "start_time": "2019-12-07T15:45:31.329390Z"
    }
   },
   "outputs": [],
   "source": [
    "with open('../../data/processed/df.pickle', 'rb') as file:\n",
    "     all_ = pickle.load( file)\n",
    "with open('../../data/processed/target.pickle', 'rb') as file:\n",
    "     y = pickle.load(file)\n",
    "with open('../../data/processed/selected_feat.pickle', 'rb') as file:\n",
    "     slctd_feat = pickle.load(file)"
   ]
  },
  {
   "cell_type": "code",
   "execution_count": 3,
   "metadata": {
    "ExecuteTime": {
     "end_time": "2019-12-07T15:45:34.291809Z",
     "start_time": "2019-12-07T15:45:34.273889Z"
    }
   },
   "outputs": [
    {
     "data": {
      "text/plain": [
       "Index(['imiss_c_2016', 'imiss_f_2016', 'imiss_l_2016', 'imiss_p_2016',\n",
       "       'imiss_u_2016', 'imiss_x_2016', 'imiss_y_2016'],\n",
       "      dtype='object')"
      ]
     },
     "execution_count": 3,
     "metadata": {},
     "output_type": "execute_result"
    }
   ],
   "source": [
    "col_list = slctd_feat.columns\n",
    "col_list"
   ]
  },
  {
   "cell_type": "code",
   "execution_count": 4,
   "metadata": {
    "ExecuteTime": {
     "end_time": "2019-12-07T15:45:35.270209Z",
     "start_time": "2019-12-07T15:45:35.261868Z"
    }
   },
   "outputs": [],
   "source": [
    "slctd_feat['weight'] = all_.weight\n",
    "slctd_feat['target'] = y"
   ]
  },
  {
   "cell_type": "code",
   "execution_count": 5,
   "metadata": {
    "ExecuteTime": {
     "end_time": "2019-12-07T15:45:36.791422Z",
     "start_time": "2019-12-07T15:45:36.785578Z"
    }
   },
   "outputs": [],
   "source": [
    "weight = slctd_feat['weight']\n",
    "calc = wc.Calculator('weight')"
   ]
  },
  {
   "cell_type": "code",
   "execution_count": 6,
   "metadata": {
    "ExecuteTime": {
     "end_time": "2019-12-07T15:45:37.221681Z",
     "start_time": "2019-12-07T15:45:37.215279Z"
    }
   },
   "outputs": [],
   "source": [
    "grouped = slctd_feat.groupby('target')"
   ]
  },
  {
   "cell_type": "code",
   "execution_count": 8,
   "metadata": {
    "ExecuteTime": {
     "end_time": "2019-12-07T15:46:07.218742Z",
     "start_time": "2019-12-07T15:46:07.033561Z"
    }
   },
   "outputs": [
    {
     "name": "stdout",
     "output_type": "stream",
     "text": [
      "immigration imiss_c_2016\n",
      "1.0    0.447\n",
      "2.0    0.359\n",
      "3.0    0.132\n",
      "4.0    0.033\n",
      "8.0    0.029\n",
      "Name: weight, dtype: float64 \n",
      " immigration imiss_c_2016    1.0    2.0    3.0    4.0    8.0\n",
      "target                                         \n",
      "1.0           0.304  0.427  0.200  0.038  0.030\n",
      "2.0           0.616  0.295  0.058  0.020  0.011\n",
      "3.0           0.399  0.347  0.143  0.047  0.063\n",
      "terrorism imiss_f_2016\n",
      "1.0    0.566\n",
      "2.0    0.285\n",
      "3.0    0.087\n",
      "4.0    0.035\n",
      "8.0    0.027\n",
      "Name: weight, dtype: float64 \n",
      " terrorism imiss_f_2016    1.0    2.0    3.0    4.0    8.0\n",
      "target                                         \n",
      "1.0           0.410  0.352  0.158  0.051  0.029\n",
      "2.0           0.775  0.190  0.012  0.006  0.016\n",
      "3.0           0.464  0.339  0.093  0.060  0.044\n",
      "climate change imiss_l_2016\n",
      "1.0    0.374\n",
      "2.0    0.235\n",
      "3.0    0.170\n",
      "4.0    0.195\n",
      "8.0    0.025\n",
      "Name: weight, dtype: float64 \n",
      " climate change imiss_l_2016    1.0    2.0    3.0    4.0    8.0\n",
      "target                                         \n",
      "1.0           0.657  0.235  0.060  0.023  0.025\n",
      "2.0           0.115  0.214  0.266  0.390  0.015\n",
      "3.0           0.318  0.278  0.205  0.155  0.045\n",
      "the budget deficit imiss_p_2016\n",
      "1.0    0.491\n",
      "2.0    0.322\n",
      "3.0    0.117\n",
      "4.0    0.039\n",
      "8.0    0.031\n",
      "Name: weight, dtype: float64 \n",
      " the budget deficit imiss_p_2016    1.0    2.0    3.0    4.0    8.0\n",
      "target                                         \n",
      "1.0           0.292  0.396  0.221  0.063  0.029\n",
      "2.0           0.706  0.236  0.029  0.007  0.022\n",
      "3.0           0.466  0.343  0.078  0.057  0.056\n",
      "the size of government imiss_u_2016\n",
      "1.0    0.393\n",
      "2.0    0.336\n",
      "3.0    0.184\n",
      "4.0    0.056\n",
      "8.0    0.030\n",
      "Name: weight, dtype: float64 \n",
      " the size of government imiss_u_2016    1.0    2.0    3.0    4.0    8.0\n",
      "target                                         \n",
      "1.0           0.175  0.369  0.318  0.111  0.028\n",
      "2.0           0.630  0.288  0.056  0.007  0.019\n",
      "3.0           0.364  0.367  0.169  0.044  0.057\n",
      "racial equality imiss_x_2016\n",
      "1.0    0.378\n",
      "2.0    0.343\n",
      "3.0    0.155\n",
      "4.0    0.098\n",
      "8.0    0.026\n",
      "Name: weight, dtype: float64 \n",
      " racial equality imiss_x_2016    1.0    2.0    3.0    4.0    8.0\n",
      "target                                         \n",
      "1.0           0.601  0.295  0.071  0.010  0.023\n",
      "2.0           0.191  0.364  0.238  0.188  0.018\n",
      "3.0           0.298  0.400  0.161  0.096  0.045\n",
      "gender equality imiss_y_2016\n",
      "1.0    0.341\n",
      "2.0    0.303\n",
      "3.0    0.185\n",
      "4.0    0.145\n",
      "8.0    0.026\n",
      "Name: weight, dtype: float64 \n",
      " gender equality imiss_y_2016    1.0    2.0    3.0    4.0    8.0\n",
      "target                                         \n",
      "1.0           0.585  0.282  0.082  0.025  0.025\n",
      "2.0           0.124  0.294  0.281  0.280  0.020\n",
      "3.0           0.276  0.366  0.200  0.121  0.038\n"
     ]
    }
   ],
   "source": [
    "iss_list = ['immigration', 'terrorism', 'climate change',\n",
    "        'the budget deficit', 'the size of government', 'racial equality', 'gender equality']\n",
    "for ind, col in enumerate(col_list):\n",
    "    freq = calc.distribution(slctd_feat, col).round(3)\n",
    "    g_freq = calc.distribution(grouped, col).round(3)\n",
    "\n",
    "    print(iss_list[ind], freq, '\\n',\n",
    "         iss_list[ind], g_freq)"
   ]
  },
  {
   "cell_type": "code",
   "execution_count": 9,
   "metadata": {
    "ExecuteTime": {
     "end_time": "2019-12-07T15:46:17.709716Z",
     "start_time": "2019-12-07T15:46:17.702069Z"
    }
   },
   "outputs": [],
   "source": [
    "amrcns_list = [.341, .374, 378, .393, .447, .491, .566]\n",
    "clnt_list = {.585, 0.657, 0.601, 0.175, 0.304, 0.292, 0.410, }\n",
    "\n",
    "trmp_list = {\n",
    "    'Gender Equality': 0.124,\n",
    "    'Climate Change': 0.115,\n",
    "    'Racial Equality': 0.191,\n",
    "    'The Size of Government': 0.630,\n",
    "    'Immigration': .616,\n",
    "    'The Budget Deficit': .706,\n",
    "    'Terrorism': 0.775,\n",
    "}"
   ]
  },
  {
   "cell_type": "code",
   "execution_count": 27,
   "metadata": {
    "ExecuteTime": {
     "end_time": "2019-12-07T15:56:17.688081Z",
     "start_time": "2019-12-07T15:56:17.460286Z"
    }
   },
   "outputs": [
    {
     "ename": "ValueError",
     "evalue": "x and y must be the same size",
     "output_type": "error",
     "traceback": [
      "\u001b[0;31m---------------------------------------------------------------------------\u001b[0m",
      "\u001b[0;31mValueError\u001b[0m                                Traceback (most recent call last)",
      "\u001b[0;32m<ipython-input-27-eb22e8bfa29c>\u001b[0m in \u001b[0;36m<module>\u001b[0;34m\u001b[0m\n\u001b[1;32m      5\u001b[0m \u001b[0;34m\u001b[0m\u001b[0m\n\u001b[1;32m      6\u001b[0m \u001b[0;32mfor\u001b[0m \u001b[0midx\u001b[0m\u001b[0;34m,\u001b[0m \u001b[0mcat\u001b[0m \u001b[0;32min\u001b[0m \u001b[0menumerate\u001b[0m\u001b[0;34m(\u001b[0m\u001b[0mcat_list\u001b[0m\u001b[0;34m)\u001b[0m\u001b[0;34m:\u001b[0m\u001b[0;34m\u001b[0m\u001b[0;34m\u001b[0m\u001b[0m\n\u001b[0;32m----> 7\u001b[0;31m     \u001b[0mplt\u001b[0m\u001b[0;34m.\u001b[0m\u001b[0mscatter\u001b[0m\u001b[0;34m(\u001b[0m\u001b[0mx\u001b[0m\u001b[0;34m=\u001b[0m\u001b[0mcat\u001b[0m\u001b[0;34m,\u001b[0m \u001b[0my\u001b[0m\u001b[0;34m=\u001b[0m\u001b[0miss_list\u001b[0m\u001b[0;34m,\u001b[0m \u001b[0malpha\u001b[0m\u001b[0;34m=\u001b[0m\u001b[0;36m0.7\u001b[0m\u001b[0;34m,\u001b[0m \u001b[0mlinewidth\u001b[0m\u001b[0;34m=\u001b[0m\u001b[0;36m2\u001b[0m\u001b[0;34m,\u001b[0m \u001b[0ms\u001b[0m\u001b[0;34m=\u001b[0m\u001b[0;36m500\u001b[0m\u001b[0;34m,\u001b[0m \u001b[0mlabel\u001b[0m\u001b[0;34m=\u001b[0m\u001b[0mlabels\u001b[0m\u001b[0;34m[\u001b[0m\u001b[0midx\u001b[0m\u001b[0;34m]\u001b[0m\u001b[0;34m,\u001b[0m \u001b[0mc\u001b[0m\u001b[0;34m=\u001b[0m\u001b[0mcolor\u001b[0m\u001b[0;34m[\u001b[0m\u001b[0midx\u001b[0m\u001b[0;34m]\u001b[0m\u001b[0;34m)\u001b[0m\u001b[0;34m\u001b[0m\u001b[0;34m\u001b[0m\u001b[0m\n\u001b[0m\u001b[1;32m      8\u001b[0m \u001b[0;34m\u001b[0m\u001b[0m\n\u001b[1;32m      9\u001b[0m \u001b[0mplt\u001b[0m\u001b[0;34m.\u001b[0m\u001b[0mxlim\u001b[0m\u001b[0;34m(\u001b[0m\u001b[0;36m0\u001b[0m\u001b[0;34m,\u001b[0m\u001b[0;36m.9\u001b[0m\u001b[0;34m)\u001b[0m\u001b[0;34m\u001b[0m\u001b[0;34m\u001b[0m\u001b[0m\n",
      "\u001b[0;32m~/anaconda3/lib/python3.7/site-packages/matplotlib/pyplot.py\u001b[0m in \u001b[0;36mscatter\u001b[0;34m(x, y, s, c, marker, cmap, norm, vmin, vmax, alpha, linewidths, verts, edgecolors, plotnonfinite, data, **kwargs)\u001b[0m\n\u001b[1;32m   2839\u001b[0m         \u001b[0mverts\u001b[0m\u001b[0;34m=\u001b[0m\u001b[0mverts\u001b[0m\u001b[0;34m,\u001b[0m \u001b[0medgecolors\u001b[0m\u001b[0;34m=\u001b[0m\u001b[0medgecolors\u001b[0m\u001b[0;34m,\u001b[0m\u001b[0;34m\u001b[0m\u001b[0;34m\u001b[0m\u001b[0m\n\u001b[1;32m   2840\u001b[0m         plotnonfinite=plotnonfinite, **({\"data\": data} if data is not\n\u001b[0;32m-> 2841\u001b[0;31m         None else {}), **kwargs)\n\u001b[0m\u001b[1;32m   2842\u001b[0m     \u001b[0msci\u001b[0m\u001b[0;34m(\u001b[0m\u001b[0m__ret\u001b[0m\u001b[0;34m)\u001b[0m\u001b[0;34m\u001b[0m\u001b[0;34m\u001b[0m\u001b[0m\n\u001b[1;32m   2843\u001b[0m     \u001b[0;32mreturn\u001b[0m \u001b[0m__ret\u001b[0m\u001b[0;34m\u001b[0m\u001b[0;34m\u001b[0m\u001b[0m\n",
      "\u001b[0;32m~/anaconda3/lib/python3.7/site-packages/matplotlib/__init__.py\u001b[0m in \u001b[0;36minner\u001b[0;34m(ax, data, *args, **kwargs)\u001b[0m\n\u001b[1;32m   1587\u001b[0m     \u001b[0;32mdef\u001b[0m \u001b[0minner\u001b[0m\u001b[0;34m(\u001b[0m\u001b[0max\u001b[0m\u001b[0;34m,\u001b[0m \u001b[0;34m*\u001b[0m\u001b[0margs\u001b[0m\u001b[0;34m,\u001b[0m \u001b[0mdata\u001b[0m\u001b[0;34m=\u001b[0m\u001b[0;32mNone\u001b[0m\u001b[0;34m,\u001b[0m \u001b[0;34m**\u001b[0m\u001b[0mkwargs\u001b[0m\u001b[0;34m)\u001b[0m\u001b[0;34m:\u001b[0m\u001b[0;34m\u001b[0m\u001b[0;34m\u001b[0m\u001b[0m\n\u001b[1;32m   1588\u001b[0m         \u001b[0;32mif\u001b[0m \u001b[0mdata\u001b[0m \u001b[0;32mis\u001b[0m \u001b[0;32mNone\u001b[0m\u001b[0;34m:\u001b[0m\u001b[0;34m\u001b[0m\u001b[0;34m\u001b[0m\u001b[0m\n\u001b[0;32m-> 1589\u001b[0;31m             \u001b[0;32mreturn\u001b[0m \u001b[0mfunc\u001b[0m\u001b[0;34m(\u001b[0m\u001b[0max\u001b[0m\u001b[0;34m,\u001b[0m \u001b[0;34m*\u001b[0m\u001b[0mmap\u001b[0m\u001b[0;34m(\u001b[0m\u001b[0msanitize_sequence\u001b[0m\u001b[0;34m,\u001b[0m \u001b[0margs\u001b[0m\u001b[0;34m)\u001b[0m\u001b[0;34m,\u001b[0m \u001b[0;34m**\u001b[0m\u001b[0mkwargs\u001b[0m\u001b[0;34m)\u001b[0m\u001b[0;34m\u001b[0m\u001b[0;34m\u001b[0m\u001b[0m\n\u001b[0m\u001b[1;32m   1590\u001b[0m \u001b[0;34m\u001b[0m\u001b[0m\n\u001b[1;32m   1591\u001b[0m         \u001b[0mbound\u001b[0m \u001b[0;34m=\u001b[0m \u001b[0mnew_sig\u001b[0m\u001b[0;34m.\u001b[0m\u001b[0mbind\u001b[0m\u001b[0;34m(\u001b[0m\u001b[0max\u001b[0m\u001b[0;34m,\u001b[0m \u001b[0;34m*\u001b[0m\u001b[0margs\u001b[0m\u001b[0;34m,\u001b[0m \u001b[0;34m**\u001b[0m\u001b[0mkwargs\u001b[0m\u001b[0;34m)\u001b[0m\u001b[0;34m\u001b[0m\u001b[0;34m\u001b[0m\u001b[0m\n",
      "\u001b[0;32m~/anaconda3/lib/python3.7/site-packages/matplotlib/axes/_axes.py\u001b[0m in \u001b[0;36mscatter\u001b[0;34m(self, x, y, s, c, marker, cmap, norm, vmin, vmax, alpha, linewidths, verts, edgecolors, plotnonfinite, **kwargs)\u001b[0m\n\u001b[1;32m   4434\u001b[0m         \u001b[0my\u001b[0m \u001b[0;34m=\u001b[0m \u001b[0mnp\u001b[0m\u001b[0;34m.\u001b[0m\u001b[0mma\u001b[0m\u001b[0;34m.\u001b[0m\u001b[0mravel\u001b[0m\u001b[0;34m(\u001b[0m\u001b[0my\u001b[0m\u001b[0;34m)\u001b[0m\u001b[0;34m\u001b[0m\u001b[0;34m\u001b[0m\u001b[0m\n\u001b[1;32m   4435\u001b[0m         \u001b[0;32mif\u001b[0m \u001b[0mx\u001b[0m\u001b[0;34m.\u001b[0m\u001b[0msize\u001b[0m \u001b[0;34m!=\u001b[0m \u001b[0my\u001b[0m\u001b[0;34m.\u001b[0m\u001b[0msize\u001b[0m\u001b[0;34m:\u001b[0m\u001b[0;34m\u001b[0m\u001b[0;34m\u001b[0m\u001b[0m\n\u001b[0;32m-> 4436\u001b[0;31m             \u001b[0;32mraise\u001b[0m \u001b[0mValueError\u001b[0m\u001b[0;34m(\u001b[0m\u001b[0;34m\"x and y must be the same size\"\u001b[0m\u001b[0;34m)\u001b[0m\u001b[0;34m\u001b[0m\u001b[0;34m\u001b[0m\u001b[0m\n\u001b[0m\u001b[1;32m   4437\u001b[0m \u001b[0;34m\u001b[0m\u001b[0m\n\u001b[1;32m   4438\u001b[0m         \u001b[0;32mif\u001b[0m \u001b[0ms\u001b[0m \u001b[0;32mis\u001b[0m \u001b[0;32mNone\u001b[0m\u001b[0;34m:\u001b[0m\u001b[0;34m\u001b[0m\u001b[0;34m\u001b[0m\u001b[0m\n",
      "\u001b[0;31mValueError\u001b[0m: x and y must be the same size"
     ]
    },
    {
     "data": {
      "image/png": "[encoded data removed]",
      "text/plain": [
       "<Figure size 720x432 with 1 Axes>"
      ]
     },
     "metadata": {
      "needs_background": "light"
     },
     "output_type": "display_data"
    }
   ],
   "source": [
    "fig, ax = plt.subplots(1, 1, figsize=(10, 6))\n",
    "cat_list = [trmp_list, clnt_list, amrcns_list]\n",
    "labels = ['All registered voters', '\\'16 Clinton Voters', '\\'16 Trump Voters']\n",
    "color = ['#b19cd9', 'cornflowerblue', 'tomato']\n",
    "\n",
    "for idx, cat in enumerate(cat_list):\n",
    "    plt.scatter(x=cat, y=iss_list, alpha=0.7, linewidth=2, s=500, label=labels[idx], c=color[idx])\n",
    "\n",
    "plt.xlim(0,.9)\n",
    "ax.get_xaxis().set_visible(True)\n",
    "ax.set_xticks([0,.1,.2,.3,.4,.5,.6,.7,.8,.9])\n",
    "ax.set_xticklabels([0,'',20,'',40,'',60,'',80,''], fontsize=15)\n",
    "ax.set_xlabel('Percentage rated \\'Very Important\\'', fontsize=15)\n",
    "ax.set_yticklabels(labels=list_, fontsize=15)\n",
    "ax.grid(linestyle='-', linewidth='0.3', color='grey')\n",
    "ax.tick_params(direction='out', length=0, colors='grey',grid_color='grey', grid_alpha=None, labelcolor='black')\n",
    "ax.legend(frameon=False, loc='upper right', fontsize=12, bbox_to_anchor=(1.015,1.3), markerscale=.4)\n",
    "\n",
    "spines = ['top', 'bottom', 'right']\n",
    "\n",
    "for sp in spines:\n",
    "    ax.spines[sp].set_visible(False)\n",
    "\n",
    "plt.savefig('../../reports/figures/bubble_chrt.png')\n",
    "plt.show()"
   ]
  },
  {
   "cell_type": "code",
   "execution_count": null,
   "metadata": {},
   "outputs": [],
   "source": []
  }
 ],
 "metadata": {
  "kernelspec": {
   "display_name": "Python 3",
   "language": "python",
   "name": "python3"
  },
  "language_info": {
   "codemirror_mode": {
    "name": "ipython",
    "version": 3
   },
   "file_extension": ".py",
   "mimetype": "text/x-python",
   "name": "python",
   "nbconvert_exporter": "python",
   "pygments_lexer": "ipython3",
   "version": "3.7.3"
  },
  "toc": {
   "base_numbering": 1,
   "nav_menu": {},
   "number_sections": true,
   "sideBar": true,
   "skip_h1_title": false,
   "title_cell": "Table of Contents",
   "title_sidebar": "Contents",
   "toc_cell": false,
   "toc_position": {},
   "toc_section_display": true,
   "toc_window_display": false
  }
 },
 "nbformat": 4,
 "nbformat_minor": 2
}
