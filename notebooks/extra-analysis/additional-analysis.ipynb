{
 "cells": [
  {
   "cell_type": "markdown",
   "metadata": {},
   "source": [
    "# Additional Analysis"
   ]
  },
  {
   "cell_type": "markdown",
   "metadata": {},
   "source": [
    "## Prepare notebook"
   ]
  },
  {
   "cell_type": "markdown",
   "metadata": {},
   "source": [
    "Import libraries "
   ]
  },
  {
   "cell_type": "code",
   "execution_count": 1,
   "metadata": {
    "ExecuteTime": {
     "end_time": "2019-12-07T15:43:19.466416Z",
     "start_time": "2019-12-07T15:43:15.583817Z"
    }
   },
   "outputs": [],
   "source": [
    "import matplotlib.pyplot as plt\n",
    "import numpy as np\n",
    "import pandas as pd\n",
    "import pickle\n",
    "import seaborn as sns\n",
    "import weightedcalcs as wc\n",
    "from sklearn.cluster import KMeans\n",
    "from sklearn import metrics\n",
    "from matplotlib import rcParams"
   ]
  },
  {
   "cell_type": "markdown",
   "metadata": {},
   "source": [
    "Import my source functions"
   ]
  },
  {
   "cell_type": "code",
   "execution_count": 2,
   "metadata": {
    "ExecuteTime": {
     "end_time": "2019-12-07T15:43:19.496798Z",
     "start_time": "2019-12-07T15:43:19.472436Z"
    }
   },
   "outputs": [],
   "source": [
    "import sys\n",
    "import os\n",
    "sys.path.append('../../src/features/')\n",
    "from build_features import filter_col_with_regex\n",
    "sys.path.append('../../src/visualization/')\n",
    "from visualize import plot_bar"
   ]
  },
  {
   "cell_type": "markdown",
   "metadata": {},
   "source": [
    "Set font for plotting"
   ]
  },
  {
   "cell_type": "code",
   "execution_count": 3,
   "metadata": {
    "ExecuteTime": {
     "end_time": "2019-12-07T15:43:19.513276Z",
     "start_time": "2019-12-07T15:43:19.501698Z"
    }
   },
   "outputs": [],
   "source": [
    "rcParams['font.family'] = 'serif'\n",
    "rcParams['font.sans-serif'] = ['Baskerville']"
   ]
  },
  {
   "cell_type": "markdown",
   "metadata": {},
   "source": [
    "Unpickle df, predictors, and target variables "
   ]
  },
  {
   "cell_type": "code",
   "execution_count": 4,
   "metadata": {
    "ExecuteTime": {
     "end_time": "2019-12-07T15:43:19.749592Z",
     "start_time": "2019-12-07T15:43:19.518239Z"
    }
   },
   "outputs": [],
   "source": [
    "with open('../../data/processed/df.pickle', 'rb') as file:\n",
    "    df = pickle.load(file)\n",
    "with open('../../data/processed/predictors.pickle', 'rb') as file:\n",
    "    X = pickle.load(file)\n",
    "with open('../../data/processed/target.pickle', 'rb') as file:\n",
    "    y = pickle.load(file)"
   ]
  },
  {
   "cell_type": "markdown",
   "metadata": {
    "ExecuteTime": {
     "end_time": "2019-11-29T22:36:29.059898Z",
     "start_time": "2019-11-29T22:36:29.029018Z"
    }
   },
   "source": [
    "Set up function for weighting observations"
   ]
  },
  {
   "cell_type": "code",
   "execution_count": 5,
   "metadata": {
    "ExecuteTime": {
     "end_time": "2019-12-07T15:43:19.761434Z",
     "start_time": "2019-12-07T15:43:19.753943Z"
    }
   },
   "outputs": [],
   "source": [
    "weight = df['weight']\n",
    "calc = wc.Calculator('weight')"
   ]
  },
  {
   "cell_type": "markdown",
   "metadata": {},
   "source": [
    "## Party identification "
   ]
  },
  {
   "cell_type": "markdown",
   "metadata": {},
   "source": [
    "Create string list of responses to pid3_2016"
   ]
  },
  {
   "cell_type": "code",
   "execution_count": 6,
   "metadata": {
    "ExecuteTime": {
     "end_time": "2019-12-07T15:43:19.772954Z",
     "start_time": "2019-12-07T15:43:19.764782Z"
    }
   },
   "outputs": [],
   "source": [
    "party_list = ['Democrat', 'Republican', 'Independent', 'Other', 'Not sure']"
   ]
  },
  {
   "cell_type": "markdown",
   "metadata": {},
   "source": [
    "Calculate weighted distributions to responses to pid3_2016 and print"
   ]
  },
  {
   "cell_type": "code",
   "execution_count": 7,
   "metadata": {
    "ExecuteTime": {
     "end_time": "2019-12-07T15:43:19.845556Z",
     "start_time": "2019-12-07T15:43:19.776194Z"
    }
   },
   "outputs": [
    {
     "name": "stdout",
     "output_type": "stream",
     "text": [
      "Democrat 0.36\n",
      "Republican 0.294\n",
      "Independent 0.296\n",
      "Other 0.018\n",
      "Not sure 0.031\n"
     ]
    }
   ],
   "source": [
    "party_freq = calc.distribution(df, 'pid3_2016').round(3)\n",
    "for ind, val in enumerate(party_freq):\n",
    "    print(party_list[ind], val)"
   ]
  },
  {
   "cell_type": "markdown",
   "metadata": {},
   "source": [
    "Plot weighted frequency of party identification"
   ]
  },
  {
   "cell_type": "code",
   "execution_count": 8,
   "metadata": {
    "ExecuteTime": {
     "end_time": "2019-12-07T15:43:20.139385Z",
     "start_time": "2019-12-07T15:43:19.850409Z"
    }
   },
   "outputs": [
    {
     "data": {
      "image/png": "[encoded data removed]",
      "text/plain": [
       "<Figure size 720x360 with 1 Axes>"
      ]
     },
     "metadata": {
      "needs_background": "light"
     },
     "output_type": "display_data"
    }
   ],
   "source": [
    "x = party_list\n",
    "y = party_freq\n",
    "palette = ['cornflowerblue', 'tomato', 'purple', 'lightgrey', 'dimgrey']\n",
    "title = 'Response to pid3_2016'\n",
    "party_plt = plot_bar(x, y, palette, title, x)\n",
    "\n",
    "# add labels to bars\n",
    "for bar in party_plt.patches:\n",
    "    party_plt.annotate(format(bar.get_height(), '.3f'), (bar.get_x() + bar.get_width() / 2.,\n",
    "                                                         bar.get_height()), ha='center', va='center', xytext=(0, 10), textcoords='offset points')\n",
    "plt.show()"
   ]
  },
  {
   "cell_type": "markdown",
   "metadata": {
    "ExecuteTime": {
     "end_time": "2019-11-25T21:50:05.661502Z",
     "start_time": "2019-11-25T21:50:05.645340Z"
    }
   },
   "source": [
    "Determine features correlated with pid3_2016 "
   ]
  },
  {
   "cell_type": "code",
   "execution_count": 9,
   "metadata": {
    "ExecuteTime": {
     "end_time": "2019-12-07T15:43:25.124737Z",
     "start_time": "2019-12-07T15:43:20.144073Z"
    }
   },
   "outputs": [
    {
     "data": {
      "text/plain": [
       "post_pid3_2012       0.702563\n",
       "pid3_baseline        0.578848\n",
       "pid7_2016            0.504512\n",
       "post_pid7_2012       0.455840\n",
       "pp_demprim16_2016    0.455295\n",
       "Name: pid3_2016, dtype: float64"
      ]
     },
     "execution_count": 9,
     "metadata": {},
     "output_type": "execute_result"
    }
   ],
   "source": [
    "df.corr()['pid3_2016'].sort_values(ascending=False)[1:6]"
   ]
  },
  {
   "cell_type": "markdown",
   "metadata": {
    "ExecuteTime": {
     "end_time": "2019-11-26T17:48:11.295180Z",
     "start_time": "2019-11-26T17:48:11.280792Z"
    }
   },
   "source": [
    "## How important is this issue (not broken into vote choice)?"
   ]
  },
  {
   "cell_type": "code",
   "execution_count": 10,
   "metadata": {
    "ExecuteTime": {
     "end_time": "2019-12-07T15:43:25.143141Z",
     "start_time": "2019-12-07T15:43:25.133419Z"
    }
   },
   "outputs": [],
   "source": [
    "x_ticks = ['Very','Somewhat','Not Very','Unimportant','No Response']"
   ]
  },
  {
   "cell_type": "markdown",
   "metadata": {},
   "source": [
    "Plot issue by importance"
   ]
  },
  {
   "cell_type": "code",
   "execution_count": 11,
   "metadata": {
    "ExecuteTime": {
     "end_time": "2019-12-07T15:43:25.171927Z",
     "start_time": "2019-12-07T15:43:25.159706Z"
    }
   },
   "outputs": [
    {
     "name": "stdout",
     "output_type": "stream",
     "text": [
      "['imiss_a_2016', 'imiss_b_2016', 'imiss_c_2016', 'imiss_d_2016', 'imiss_e_2016', 'imiss_f_2016', 'imiss_g_2016', 'imiss_h_2016', 'imiss_i_2016', 'imiss_j_2016', 'imiss_k_2016', 'imiss_l_2016', 'imiss_m_2016', 'imiss_n_2016', 'imiss_o_2016', 'imiss_p_2016', 'imiss_q_2016', 'imiss_r_2016', 'imiss_s_2016', 'imiss_t_2016', 'imiss_u_2016', 'imiss_x_2016', 'imiss_y_2016']\n"
     ]
    }
   ],
   "source": [
    "pattern = '(imiss_).{1}(_2016)'\n",
    "col_list = filter_col_with_regex(df, pattern)\n",
    "print(col_list)"
   ]
  },
  {
   "cell_type": "markdown",
   "metadata": {},
   "source": [
    "Visualize issue importance for entire population "
   ]
  },
  {
   "cell_type": "code",
   "execution_count": 12,
   "metadata": {
    "ExecuteTime": {
     "end_time": "2019-12-07T15:43:25.526647Z",
     "start_time": "2019-12-07T15:43:25.180593Z"
    }
   },
   "outputs": [
    {
     "ename": "NameError",
     "evalue": "name 'issues' is not defined",
     "output_type": "error",
     "traceback": [
      "\u001b[0;31m---------------------------------------------------------------------------\u001b[0m",
      "\u001b[0;31mNameError\u001b[0m                                 Traceback (most recent call last)",
      "\u001b[0;32m<ipython-input-12-6d139225ad90>\u001b[0m in \u001b[0;36m<module>\u001b[0;34m\u001b[0m\n\u001b[1;32m      1\u001b[0m \u001b[0;32mfor\u001b[0m \u001b[0midx\u001b[0m\u001b[0;34m,\u001b[0m \u001b[0mcol\u001b[0m \u001b[0;32min\u001b[0m \u001b[0menumerate\u001b[0m\u001b[0;34m(\u001b[0m\u001b[0mcol_list\u001b[0m\u001b[0;34m)\u001b[0m\u001b[0;34m:\u001b[0m\u001b[0;34m\u001b[0m\u001b[0;34m\u001b[0m\u001b[0m\n\u001b[1;32m      2\u001b[0m     \u001b[0mfreq\u001b[0m \u001b[0;34m=\u001b[0m \u001b[0mcalc\u001b[0m\u001b[0;34m.\u001b[0m\u001b[0mdistribution\u001b[0m\u001b[0;34m(\u001b[0m\u001b[0mdf\u001b[0m\u001b[0;34m,\u001b[0m \u001b[0mcol\u001b[0m\u001b[0;34m)\u001b[0m\u001b[0;34m.\u001b[0m\u001b[0mround\u001b[0m\u001b[0;34m(\u001b[0m\u001b[0;36m3\u001b[0m\u001b[0;34m)\u001b[0m\u001b[0;34m\u001b[0m\u001b[0;34m\u001b[0m\u001b[0m\n\u001b[0;32m----> 3\u001b[0;31m     \u001b[0miss_plt\u001b[0m \u001b[0;34m=\u001b[0m \u001b[0mplot_bar\u001b[0m\u001b[0;34m(\u001b[0m\u001b[0mx_ticks\u001b[0m\u001b[0;34m,\u001b[0m \u001b[0mfreq\u001b[0m\u001b[0;34m,\u001b[0m \u001b[0;34m'GnBu_d'\u001b[0m\u001b[0;34m,\u001b[0m \u001b[0missues\u001b[0m\u001b[0;34m[\u001b[0m\u001b[0midx\u001b[0m\u001b[0;34m]\u001b[0m\u001b[0;34m,\u001b[0m \u001b[0mx_ticks\u001b[0m\u001b[0;34m)\u001b[0m\u001b[0;34m\u001b[0m\u001b[0;34m\u001b[0m\u001b[0m\n\u001b[0m\u001b[1;32m      4\u001b[0m     \u001b[0;32mfor\u001b[0m \u001b[0miss\u001b[0m \u001b[0;32min\u001b[0m \u001b[0miss_plt\u001b[0m\u001b[0;34m.\u001b[0m\u001b[0mpatches\u001b[0m\u001b[0;34m:\u001b[0m\u001b[0;34m\u001b[0m\u001b[0;34m\u001b[0m\u001b[0m\n\u001b[1;32m      5\u001b[0m         iss_plt.annotate(format(iss.get_height(), '.3f'), (iss.get_x() + iss.get_width() / 2.,\n",
      "\u001b[0;31mNameError\u001b[0m: name 'issues' is not defined"
     ]
    }
   ],
   "source": [
    "for idx, col in enumerate(col_list):\n",
    "    freq = calc.distribution(df, col).round(3)\n",
    "    iss_plt = plot_bar(x_ticks, freq, 'GnBu_d', issues[idx], x_ticks)\n",
    "    for iss in iss_plt.patches:\n",
    "        iss_plt.annotate(format(iss.get_height(), '.3f'), (iss.get_x() + iss.get_width() / 2.,\n",
    "                                                         iss.get_height()), ha='center', va='center', xytext=(0, 10), textcoords='offset points')"
   ]
  },
  {
   "cell_type": "markdown",
   "metadata": {},
   "source": [
    "Calculate distribution of responses to issue of Jobs and Gay Rights"
   ]
  },
  {
   "cell_type": "code",
   "execution_count": null,
   "metadata": {
    "ExecuteTime": {
     "end_time": "2019-12-07T15:43:25.533495Z",
     "start_time": "2019-12-07T15:43:15.643Z"
    }
   },
   "outputs": [],
   "source": [
    "jobs_freq = calc.distribution(df, 'imiss_o_2016').round(3)\n",
    "gay_freq = calc.distribution(df, 'imiss_g_2016').round(3)\n",
    "cntrst_list = [jobs_freq, gay_freq]"
   ]
  },
  {
   "cell_type": "markdown",
   "metadata": {},
   "source": [
    "Plot distributions from jobs and gay rights and save"
   ]
  },
  {
   "cell_type": "code",
   "execution_count": null,
   "metadata": {
    "ExecuteTime": {
     "end_time": "2019-12-07T15:43:25.537849Z",
     "start_time": "2019-12-07T15:43:15.648Z"
    }
   },
   "outputs": [],
   "source": [
    "fig, axes = plt.subplots(1, 2, figsize=(18, 10))\n",
    "for idx, iss in enumerate(cntrst_list):\n",
    "    sns.barplot(x=iss, y=x_ticks, palette=sns.cubehelix_palette(5, start=.5, rot=-.2, reverse=True)\n",
    "    ,ax=axes[idx])\n",
    "    sns.set_style('white', {'ytick.direction': 'out'})\n",
    "spines = ['right', 'top', 'bottom']\n",
    "titles = ['Jobs', 'Gay Rights']\n",
    "for ax in axes: \n",
    "    ax.set_xlim(0,1)\n",
    "    for sp in spines:\n",
    "        ax.spines[sp].set_visible(False)\n",
    "    ax.set_xticks([])\n",
    "    ax.set_xlabel('')\n",
    "    ax.tick_params(axis = 'y', labelsize=18)\n",
    "    ax.set_title(titles[idx])\n",
    "\n",
    "axes[1].get_yaxis().set_visible(False)\n",
    "\n",
    "plt.savefig('../../reports/figures/jobs_vs_gay.png')a"
   ]
  },
  {
   "cell_type": "markdown",
   "metadata": {},
   "source": [
    "## K Means Clustering"
   ]
  },
  {
   "cell_type": "markdown",
   "metadata": {
    "ExecuteTime": {
     "end_time": "2019-12-07T15:40:47.197118Z",
     "start_time": "2019-12-07T15:40:47.177745Z"
    }
   },
   "source": [
    "Cluster predictors"
   ]
  },
  {
   "cell_type": "code",
   "execution_count": null,
   "metadata": {
    "ExecuteTime": {
     "end_time": "2019-12-07T15:43:25.544762Z",
     "start_time": "2019-12-07T15:43:15.653Z"
    }
   },
   "outputs": [],
   "source": [
    "kmeans = KMeans(n_clusters=2)\n",
    "kmeans.fit(X)\n",
    "labels = kmeans.labels_\n",
    "plt.figure(figsize=(5, 5))\n",
    "plt.scatter(kmeans.cluster_centers_[\n",
    "            :, 0], kmeans.cluster_centers_[:, 1], c='green', s=300)\n",
    "\n",
    "y_pred = kmeans.predict(X)"
   ]
  },
  {
   "cell_type": "code",
   "execution_count": null,
   "metadata": {
    "ExecuteTime": {
     "end_time": "2019-12-07T15:43:25.551028Z",
     "start_time": "2019-12-07T15:43:15.657Z"
    }
   },
   "outputs": [],
   "source": [
    "print(round(metrics.silhouette_score(X, labels, metric='euclidean'), 3))\n",
    "round(metrics.calinski_harabasz_score(X, labels), 3)"
   ]
  }
 ],
 "metadata": {
  "kernelspec": {
   "display_name": "Python 3",
   "language": "python",
   "name": "python3"
  },
  "language_info": {
   "codemirror_mode": {
    "name": "ipython",
    "version": 3
   },
   "file_extension": ".py",
   "mimetype": "text/x-python",
   "name": "python",
   "nbconvert_exporter": "python",
   "pygments_lexer": "ipython3",
   "version": "3.7.3"
  },
  "toc": {
   "base_numbering": 1,
   "nav_menu": {},
   "number_sections": true,
   "sideBar": true,
   "skip_h1_title": false,
   "title_cell": "Table of Contents",
   "title_sidebar": "Contents",
   "toc_cell": false,
   "toc_position": {},
   "toc_section_display": true,
   "toc_window_display": false
  }
 },
 "nbformat": 4,
 "nbformat_minor": 2
}
