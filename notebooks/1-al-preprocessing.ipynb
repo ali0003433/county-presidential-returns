{
 "cells": [
  {
   "cell_type": "markdown",
   "metadata": {},
   "source": [
    "# Preprocess data"
   ]
  },
  {
   "cell_type": "markdown",
   "metadata": {},
   "source": [
    "## Prepare notebook"
   ]
  },
  {
   "cell_type": "markdown",
   "metadata": {},
   "source": [
    "Import libraries "
   ]
  },
  {
   "cell_type": "code",
   "execution_count": 30,
   "metadata": {
    "ExecuteTime": {
     "end_time": "2019-11-26T16:25:54.366506Z",
     "start_time": "2019-11-26T16:25:54.325057Z"
    }
   },
   "outputs": [],
   "source": [
    "import matplotlib.pyplot as plt\n",
    "import numpy as np\n",
    "import pandas as pd\n",
    "import pickle\n",
    "import re\n",
    "import weightedcalcs as wc\n",
    "import random\n",
    "import sys\n",
    "import os"
   ]
  },
  {
   "cell_type": "markdown",
   "metadata": {},
   "source": [
    "Set random seed for repeatability "
   ]
  },
  {
   "cell_type": "code",
   "execution_count": 31,
   "metadata": {
    "ExecuteTime": {
     "end_time": "2019-11-26T16:25:54.932753Z",
     "start_time": "2019-11-26T16:25:54.925630Z"
    }
   },
   "outputs": [],
   "source": [
    "random.seed(0)"
   ]
  },
  {
   "cell_type": "markdown",
   "metadata": {},
   "source": [
    "Import my functions from .py files "
   ]
  },
  {
   "cell_type": "code",
   "execution_count": 43,
   "metadata": {
    "ExecuteTime": {
     "end_time": "2019-11-26T16:57:16.462210Z",
     "start_time": "2019-11-26T16:57:16.439664Z"
    }
   },
   "outputs": [],
   "source": [
    "sys.path.append('../src/features')\n",
    "from build_features import fill_nulls"
   ]
  },
  {
   "cell_type": "markdown",
   "metadata": {},
   "source": [
    "## Read in data"
   ]
  },
  {
   "cell_type": "markdown",
   "metadata": {},
   "source": [
    "Read in data from Voter Study Group file and check head of the dataframe"
   ]
  },
  {
   "cell_type": "code",
   "execution_count": 34,
   "metadata": {
    "ExecuteTime": {
     "end_time": "2019-11-26T16:26:33.812563Z",
     "start_time": "2019-11-26T16:26:32.477561Z"
    }
   },
   "outputs": [
    {
     "data": {
      "text/html": [
       "<div>\n",
       "<style scoped>\n",
       "    .dataframe tbody tr th:only-of-type {\n",
       "        vertical-align: middle;\n",
       "    }\n",
       "\n",
       "    .dataframe tbody tr th {\n",
       "        vertical-align: top;\n",
       "    }\n",
       "\n",
       "    .dataframe thead th {\n",
       "        text-align: right;\n",
       "    }\n",
       "</style>\n",
       "<table border=\"1\" class=\"dataframe\">\n",
       "  <thead>\n",
       "    <tr style=\"text-align: right;\">\n",
       "      <th></th>\n",
       "      <th>case_identifier</th>\n",
       "      <th>weight</th>\n",
       "      <th>PARTY_AGENDAS_rand_2016</th>\n",
       "      <th>pp_primary16_2016</th>\n",
       "      <th>pp_demprim16_2016</th>\n",
       "      <th>pp_repprim16_2016</th>\n",
       "      <th>inputstate_2016</th>\n",
       "      <th>izip_2016</th>\n",
       "      <th>votereg2_2016</th>\n",
       "      <th>votereg_f_2016</th>\n",
       "      <th>...</th>\n",
       "      <th>post_HouseCand3Name_2012</th>\n",
       "      <th>post_HouseCand3Party_2012</th>\n",
       "      <th>post_SenCand1Name_2012</th>\n",
       "      <th>post_SenCand1Party_2012</th>\n",
       "      <th>post_SenCand2Name_2012</th>\n",
       "      <th>post_SenCand2Party_2012</th>\n",
       "      <th>post_SenCand3Name_2012</th>\n",
       "      <th>post_SenCand3Party_2012</th>\n",
       "      <th>starttime_2016</th>\n",
       "      <th>endtime_2016</th>\n",
       "    </tr>\n",
       "  </thead>\n",
       "  <tbody>\n",
       "    <tr>\n",
       "      <th>0</th>\n",
       "      <td>779</td>\n",
       "      <td>0.358213</td>\n",
       "      <td>2</td>\n",
       "      <td>1</td>\n",
       "      <td>1.0</td>\n",
       "      <td>NaN</td>\n",
       "      <td>6</td>\n",
       "      <td>94952</td>\n",
       "      <td>1</td>\n",
       "      <td>1.0</td>\n",
       "      <td>...</td>\n",
       "      <td>NaN</td>\n",
       "      <td>NaN</td>\n",
       "      <td>Shelley Berkley</td>\n",
       "      <td>Democratic</td>\n",
       "      <td>Dean Heller</td>\n",
       "      <td>Republican</td>\n",
       "      <td>NaN</td>\n",
       "      <td>NaN</td>\n",
       "      <td>29nov2016 22:59:43</td>\n",
       "      <td>29nov2016 23:28:24</td>\n",
       "    </tr>\n",
       "    <tr>\n",
       "      <th>1</th>\n",
       "      <td>2108</td>\n",
       "      <td>0.562867</td>\n",
       "      <td>2</td>\n",
       "      <td>2</td>\n",
       "      <td>NaN</td>\n",
       "      <td>1.0</td>\n",
       "      <td>4</td>\n",
       "      <td>85298</td>\n",
       "      <td>1</td>\n",
       "      <td>1.0</td>\n",
       "      <td>...</td>\n",
       "      <td>NaN</td>\n",
       "      <td>NaN</td>\n",
       "      <td>Richard Carmona</td>\n",
       "      <td>Democratic</td>\n",
       "      <td>Jeff Flake</td>\n",
       "      <td>Republican</td>\n",
       "      <td>NaN</td>\n",
       "      <td>NaN</td>\n",
       "      <td>29nov2016 15:41:28</td>\n",
       "      <td>29nov2016 18:58:28</td>\n",
       "    </tr>\n",
       "    <tr>\n",
       "      <th>2</th>\n",
       "      <td>2597</td>\n",
       "      <td>0.552138</td>\n",
       "      <td>2</td>\n",
       "      <td>1</td>\n",
       "      <td>1.0</td>\n",
       "      <td>NaN</td>\n",
       "      <td>55</td>\n",
       "      <td>54904</td>\n",
       "      <td>1</td>\n",
       "      <td>1.0</td>\n",
       "      <td>...</td>\n",
       "      <td>NaN</td>\n",
       "      <td>NaN</td>\n",
       "      <td>Tammy Baldwin</td>\n",
       "      <td>Democratic</td>\n",
       "      <td>Tommy Thompson</td>\n",
       "      <td>Republican</td>\n",
       "      <td>NaN</td>\n",
       "      <td>NaN</td>\n",
       "      <td>29nov2016 16:08:39</td>\n",
       "      <td>29nov2016 16:32:43</td>\n",
       "    </tr>\n",
       "    <tr>\n",
       "      <th>3</th>\n",
       "      <td>4148</td>\n",
       "      <td>0.207591</td>\n",
       "      <td>1</td>\n",
       "      <td>1</td>\n",
       "      <td>3.0</td>\n",
       "      <td>NaN</td>\n",
       "      <td>40</td>\n",
       "      <td>74104</td>\n",
       "      <td>1</td>\n",
       "      <td>1.0</td>\n",
       "      <td>...</td>\n",
       "      <td>NaN</td>\n",
       "      <td>NaN</td>\n",
       "      <td>NaN</td>\n",
       "      <td>NaN</td>\n",
       "      <td>NaN</td>\n",
       "      <td>NaN</td>\n",
       "      <td>NaN</td>\n",
       "      <td>NaN</td>\n",
       "      <td>14dec2016 18:46:33</td>\n",
       "      <td>14dec2016 19:11:20</td>\n",
       "    </tr>\n",
       "    <tr>\n",
       "      <th>4</th>\n",
       "      <td>4460</td>\n",
       "      <td>0.333729</td>\n",
       "      <td>2</td>\n",
       "      <td>2</td>\n",
       "      <td>NaN</td>\n",
       "      <td>4.0</td>\n",
       "      <td>48</td>\n",
       "      <td>78253</td>\n",
       "      <td>1</td>\n",
       "      <td>1.0</td>\n",
       "      <td>...</td>\n",
       "      <td>NaN</td>\n",
       "      <td>NaN</td>\n",
       "      <td>Paul Sadler</td>\n",
       "      <td>Democratic</td>\n",
       "      <td>Ted Cruz</td>\n",
       "      <td>Republican</td>\n",
       "      <td>NaN</td>\n",
       "      <td>NaN</td>\n",
       "      <td>01dec2016 10:17:47</td>\n",
       "      <td>01dec2016 10:59:48</td>\n",
       "    </tr>\n",
       "  </tbody>\n",
       "</table>\n",
       "<p>5 rows × 668 columns</p>\n",
       "</div>"
      ],
      "text/plain": [
       "   case_identifier    weight  PARTY_AGENDAS_rand_2016  pp_primary16_2016  \\\n",
       "0              779  0.358213                        2                  1   \n",
       "1             2108  0.562867                        2                  2   \n",
       "2             2597  0.552138                        2                  1   \n",
       "3             4148  0.207591                        1                  1   \n",
       "4             4460  0.333729                        2                  2   \n",
       "\n",
       "   pp_demprim16_2016  pp_repprim16_2016  inputstate_2016  izip_2016  \\\n",
       "0                1.0                NaN                6      94952   \n",
       "1                NaN                1.0                4      85298   \n",
       "2                1.0                NaN               55      54904   \n",
       "3                3.0                NaN               40      74104   \n",
       "4                NaN                4.0               48      78253   \n",
       "\n",
       "   votereg2_2016  votereg_f_2016  ...  post_HouseCand3Name_2012  \\\n",
       "0              1             1.0  ...                       NaN   \n",
       "1              1             1.0  ...                       NaN   \n",
       "2              1             1.0  ...                       NaN   \n",
       "3              1             1.0  ...                       NaN   \n",
       "4              1             1.0  ...                       NaN   \n",
       "\n",
       "   post_HouseCand3Party_2012  post_SenCand1Name_2012  post_SenCand1Party_2012  \\\n",
       "0                        NaN         Shelley Berkley               Democratic   \n",
       "1                        NaN         Richard Carmona               Democratic   \n",
       "2                        NaN           Tammy Baldwin               Democratic   \n",
       "3                        NaN                     NaN                      NaN   \n",
       "4                        NaN             Paul Sadler               Democratic   \n",
       "\n",
       "   post_SenCand2Name_2012 post_SenCand2Party_2012  post_SenCand3Name_2012  \\\n",
       "0             Dean Heller              Republican                     NaN   \n",
       "1              Jeff Flake              Republican                     NaN   \n",
       "2          Tommy Thompson              Republican                     NaN   \n",
       "3                     NaN                     NaN                     NaN   \n",
       "4                Ted Cruz              Republican                     NaN   \n",
       "\n",
       "   post_SenCand3Party_2012      starttime_2016        endtime_2016  \n",
       "0                      NaN  29nov2016 22:59:43  29nov2016 23:28:24  \n",
       "1                      NaN  29nov2016 15:41:28  29nov2016 18:58:28  \n",
       "2                      NaN  29nov2016 16:08:39  29nov2016 16:32:43  \n",
       "3                      NaN  14dec2016 18:46:33  14dec2016 19:11:20  \n",
       "4                      NaN  01dec2016 10:17:47  01dec2016 10:59:48  \n",
       "\n",
       "[5 rows x 668 columns]"
      ]
     },
     "execution_count": 34,
     "metadata": {},
     "output_type": "execute_result"
    }
   ],
   "source": [
    "df = pd.read_csv('../data/raw/20161201_voter_study_group.csv')\n",
    "df.head()"
   ]
  },
  {
   "cell_type": "markdown",
   "metadata": {},
   "source": [
    "Fill missing values that were detected in the profiling done in [notebook 0](link) with a number to represent the category \"no response\" "
   ]
  },
  {
   "cell_type": "markdown",
   "metadata": {},
   "source": [
    "## Clean data"
   ]
  },
  {
   "cell_type": "code",
   "execution_count": 35,
   "metadata": {
    "ExecuteTime": {
     "end_time": "2019-11-26T16:27:55.854142Z",
     "start_time": "2019-11-26T16:27:55.409291Z"
    }
   },
   "outputs": [],
   "source": [
    "df = fill_nulls(df)"
   ]
  },
  {
   "cell_type": "markdown",
   "metadata": {},
   "source": [
    "Double check to ensure no null values"
   ]
  },
  {
   "cell_type": "code",
   "execution_count": 37,
   "metadata": {
    "ExecuteTime": {
     "end_time": "2019-11-26T16:28:11.327045Z",
     "start_time": "2019-11-26T16:28:11.159927Z"
    }
   },
   "outputs": [
    {
     "data": {
      "text/plain": [
       "False"
      ]
     },
     "execution_count": 37,
     "metadata": {},
     "output_type": "execute_result"
    }
   ],
   "source": [
    "df.isna().sum().any()"
   ]
  },
  {
   "cell_type": "markdown",
   "metadata": {},
   "source": [
    "Define target variable as <b>Who did you vote for in the election for President?</b> (presvote16post_2016)"
   ]
  },
  {
   "cell_type": "code",
   "execution_count": 38,
   "metadata": {
    "ExecuteTime": {
     "end_time": "2019-11-26T16:42:22.531576Z",
     "start_time": "2019-11-26T16:42:22.418940Z"
    }
   },
   "outputs": [
    {
     "data": {
      "text/plain": [
       "1.0    3545\n",
       "2.0    3479\n",
       "8.0     394\n",
       "3.0     231\n",
       "6.0     182\n",
       "4.0     112\n",
       "7.0      33\n",
       "5.0      24\n",
       "Name: presvote16post_2016, dtype: int64"
      ]
     },
     "execution_count": 38,
     "metadata": {},
     "output_type": "execute_result"
    }
   ],
   "source": [
    "df.presvote16post_2016.value_counts()"
   ]
  },
  {
   "cell_type": "markdown",
   "metadata": {},
   "source": [
    "1.0 - Clinton <br> \n",
    "2.0 - Trump <br> \n",
    "3.0 - Johnson <br>\n",
    "4.0 - Stein <br> \n",
    "5.0 - McMullin <br> \n",
    "6.0 - Other <br>\n",
    "7.0 - Did not vote <br> \n",
    "8.0 - No response <br>"
   ]
  },
  {
   "cell_type": "markdown",
   "metadata": {},
   "source": [
    "I am mostly interested in Trump vs. Clinton votes so I will group this target variable into three categories and it to the dataframe as an additional column "
   ]
  },
  {
   "cell_type": "markdown",
   "metadata": {},
   "source": [
    "Replace the numbers that represent Johnson, Stein, McMullin, Other, did not vote, and no response with 3 which will stand for \"other\""
   ]
  },
  {
   "cell_type": "code",
   "execution_count": 40,
   "metadata": {
    "ExecuteTime": {
     "end_time": "2019-11-26T16:49:25.373098Z",
     "start_time": "2019-11-26T16:49:25.350486Z"
    }
   },
   "outputs": [],
   "source": [
    "df['vote_3cat'] = df_target['presvote16post_2016'].replace(\n",
    "    to_replace=[3, 4, 5, 6, 7, 8], value=3, inplace=False)"
   ]
  },
  {
   "cell_type": "markdown",
   "metadata": {
    "ExecuteTime": {
     "end_time": "2019-11-26T16:49:27.064620Z",
     "start_time": "2019-11-26T16:49:27.040038Z"
    }
   },
   "source": [
    "1.0 - Clinton <br>\n",
    "2.0 - Trump <br> \n",
    "3.0 - Other <br> "
   ]
  },
  {
   "cell_type": "markdown",
   "metadata": {},
   "source": [
    "Save clean data with all features, weights, and both potential target columns"
   ]
  },
  {
   "cell_type": "code",
   "execution_count": 24,
   "metadata": {
    "ExecuteTime": {
     "end_time": "2019-11-25T21:57:53.082897Z",
     "start_time": "2019-11-25T21:57:52.616531Z"
    }
   },
   "outputs": [],
   "source": [
    "with open('../data/processed/df.pickle', 'wb') as file:\n",
    "    pickle.dump(df, file)"
   ]
  },
  {
   "cell_type": "code",
   "execution_count": 12,
   "metadata": {
    "ExecuteTime": {
     "end_time": "2019-11-25T21:13:00.613578Z",
     "start_time": "2019-11-25T21:13:00.605311Z"
    }
   },
   "outputs": [],
   "source": []
  },
  {
   "cell_type": "code",
   "execution_count": 14,
   "metadata": {
    "ExecuteTime": {
     "end_time": "2019-11-25T21:13:01.947190Z",
     "start_time": "2019-11-25T21:13:01.926584Z"
    }
   },
   "outputs": [],
   "source": []
  },
  {
   "cell_type": "code",
   "execution_count": 15,
   "metadata": {
    "ExecuteTime": {
     "end_time": "2019-11-25T21:13:02.370238Z",
     "start_time": "2019-11-25T21:13:02.362032Z"
    }
   },
   "outputs": [],
   "source": []
  },
  {
   "cell_type": "code",
   "execution_count": 16,
   "metadata": {
    "ExecuteTime": {
     "end_time": "2019-11-25T21:13:02.882960Z",
     "start_time": "2019-11-25T21:13:02.717252Z"
    }
   },
   "outputs": [
    {
     "name": "stderr",
     "output_type": "stream",
     "text": [
      "/Users/alyssaliguori/anaconda3/lib/python3.7/site-packages/pandas/core/frame.py:3940: SettingWithCopyWarning: \n",
      "A value is trying to be set on a copy of a slice from a DataFrame\n",
      "\n",
      "See the caveats in the documentation: http://pandas.pydata.org/pandas-docs/stable/indexing.html#indexing-view-versus-copy\n",
      "  errors=errors)\n"
     ]
    }
   ],
   "source": [
    "for i in votes:\n",
    "    i.drop('presvote16post_2016', inplace=True, axis=1);"
   ]
  },
  {
   "cell_type": "code",
   "execution_count": 17,
   "metadata": {
    "ExecuteTime": {
     "end_time": "2019-11-25T21:13:05.395178Z",
     "start_time": "2019-11-25T21:13:03.064972Z"
    }
   },
   "outputs": [
    {
     "name": "stdout",
     "output_type": "stream",
     "text": [
      "(3545, 23)\n",
      "CLINTON \n",
      "very: 40969 \n",
      "somewhat: 25157 \n",
      "not very: 9679 \n",
      "unimportant: 4653 \n",
      "no response: 1077\n"
     ]
    }
   ],
   "source": []
  },
  {
   "cell_type": "code",
   "execution_count": 18,
   "metadata": {
    "ExecuteTime": {
     "end_time": "2019-11-25T21:13:05.408130Z",
     "start_time": "2019-11-25T21:13:05.398643Z"
    }
   },
   "outputs": [
    {
     "data": {
      "text/plain": [
       "81535"
      ]
     },
     "execution_count": 18,
     "metadata": {},
     "output_type": "execute_result"
    }
   ],
   "source": []
  },
  {
   "cell_type": "code",
   "execution_count": 19,
   "metadata": {
    "ExecuteTime": {
     "end_time": "2019-11-25T21:13:05.432902Z",
     "start_time": "2019-11-25T21:13:05.413438Z"
    }
   },
   "outputs": [
    {
     "data": {
      "text/plain": [
       "81535"
      ]
     },
     "execution_count": 19,
     "metadata": {},
     "output_type": "execute_result"
    }
   ],
   "source": [
    "3545 * 23"
   ]
  },
  {
   "cell_type": "code",
   "execution_count": 20,
   "metadata": {
    "ExecuteTime": {
     "end_time": "2019-11-25T21:13:05.449457Z",
     "start_time": "2019-11-25T21:13:05.439050Z"
    }
   },
   "outputs": [
    {
     "ename": "SyntaxError",
     "evalue": "invalid syntax (<ipython-input-20-62cb0965f841>, line 1)",
     "output_type": "error",
     "traceback": [
      "\u001b[0;36m  File \u001b[0;32m\"<ipython-input-20-62cb0965f841>\"\u001b[0;36m, line \u001b[0;32m1\u001b[0m\n\u001b[0;31m    item = [map(row function, x), x in cols]\u001b[0m\n\u001b[0m                           ^\u001b[0m\n\u001b[0;31mSyntaxError\u001b[0m\u001b[0;31m:\u001b[0m invalid syntax\n"
     ]
    }
   ],
   "source": [
    "item = [map(row function, x), x in cols]"
   ]
  },
  {
   "cell_type": "code",
   "execution_count": null,
   "metadata": {
    "ExecuteTime": {
     "end_time": "2019-11-25T21:13:05.455965Z",
     "start_time": "2019-11-25T21:13:05.146Z"
    }
   },
   "outputs": [],
   "source": [
    "# trump counts \n",
    "one_count = 0\n",
    "two_count = 0\n",
    "three_count = 0 \n",
    "four_count = 0\n",
    "null_count = 0\n",
    "print(trump.shape)\n",
    "for col in trump: \n",
    "    for i in range(0, 3479):\n",
    "        if df[col][i] == 1:\n",
    "            one_count +=1\n",
    "            continue\n",
    "        if df[col][i] == 2:\n",
    "            two_count +=1\n",
    "            continue\n",
    "        if df[col][i] == 3:\n",
    "            three_count +=1\n",
    "            continue\n",
    "        if df[col][i] == 4:\n",
    "            four_count +=1\n",
    "            continue\n",
    "        if df[col][i] == 8:\n",
    "            null_count +=1\n",
    "            \n",
    "print('TRUMP','\\n'\n",
    "      'very:',one_count,'\\n'\n",
    "      'somewhat:',two_count, '\\n'\n",
    "      'not very:', three_count,'\\n'\n",
    "      'unimportant:', four_count, '\\n'\n",
    "      'no response:', null_count)"
   ]
  },
  {
   "cell_type": "code",
   "execution_count": 21,
   "metadata": {
    "ExecuteTime": {
     "end_time": "2019-11-25T21:13:05.761198Z",
     "start_time": "2019-11-25T21:13:05.752901Z"
    }
   },
   "outputs": [
    {
     "data": {
      "text/plain": [
       "81535"
      ]
     },
     "execution_count": 21,
     "metadata": {},
     "output_type": "execute_result"
    }
   ],
   "source": [
    "one_count +two_count+three_count+four_count+null_count"
   ]
  },
  {
   "cell_type": "code",
   "execution_count": 22,
   "metadata": {
    "ExecuteTime": {
     "end_time": "2019-11-25T21:13:06.171694Z",
     "start_time": "2019-11-25T21:13:06.163058Z"
    }
   },
   "outputs": [
    {
     "data": {
      "text/plain": [
       "80017"
      ]
     },
     "execution_count": 22,
     "metadata": {},
     "output_type": "execute_result"
    }
   ],
   "source": [
    "3479*23"
   ]
  },
  {
   "cell_type": "code",
   "execution_count": null,
   "metadata": {},
   "outputs": [],
   "source": []
  }
 ],
 "metadata": {
  "kernelspec": {
   "display_name": "Python 3",
   "language": "python",
   "name": "python3"
  },
  "language_info": {
   "codemirror_mode": {
    "name": "ipython",
    "version": 3
   },
   "file_extension": ".py",
   "mimetype": "text/x-python",
   "name": "python",
   "nbconvert_exporter": "python",
   "pygments_lexer": "ipython3",
   "version": "3.7.3"
  },
  "toc": {
   "base_numbering": 1,
   "nav_menu": {},
   "number_sections": true,
   "sideBar": true,
   "skip_h1_title": false,
   "title_cell": "Table of Contents",
   "title_sidebar": "Contents",
   "toc_cell": false,
   "toc_position": {},
   "toc_section_display": true,
   "toc_window_display": false
  }
 },
 "nbformat": 4,
 "nbformat_minor": 2
}
