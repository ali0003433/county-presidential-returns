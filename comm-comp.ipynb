{
 "cells": [
  {
   "cell_type": "markdown",
   "metadata": {},
   "source": [
    "## Data cleaning, feature engineering, and modeling"
   ]
  },
  {
   "cell_type": "code",
   "execution_count": 7,
   "metadata": {
    "ExecuteTime": {
     "end_time": "2019-11-23T13:25:26.513353Z",
     "start_time": "2019-11-23T13:25:22.913679Z"
    }
   },
   "outputs": [],
   "source": [
    "import numpy as np\n",
    "import pandas as pd\n",
    "import seaborn as sns\n",
    "import re\n",
    "import matplotlib.pyplot as plt"
   ]
  },
  {
   "cell_type": "code",
   "execution_count": 8,
   "metadata": {
    "ExecuteTime": {
     "end_time": "2019-11-23T13:25:27.826237Z",
     "start_time": "2019-11-23T13:25:26.518218Z"
    }
   },
   "outputs": [],
   "source": [
    "df = pd.read_csv('data/voter-survey-december16.csv')"
   ]
  },
  {
   "cell_type": "code",
   "execution_count": 9,
   "metadata": {
    "ExecuteTime": {
     "end_time": "2019-11-23T13:25:27.842691Z",
     "start_time": "2019-11-23T13:25:27.831264Z"
    }
   },
   "outputs": [
    {
     "data": {
      "text/plain": [
       "22"
      ]
     },
     "execution_count": 9,
     "metadata": {},
     "output_type": "execute_result"
    }
   ],
   "source": [
    "# community composite variables col names \n",
    "volunteerorg2_list = []\n",
    "for i in range(1, 18):\n",
    "    col = f'volunteerorg2_{i}_baseline'\n",
    "    volunteerorg2_list.append(col)\n",
    "\n",
    "imiss_col_list = ['CIVIC_PARTICIPATION_2016',\n",
    "                  'pew_churatd_2016',\n",
    "                  'volunteer_baseline',\n",
    "                  'volunteerf_baseline',\n",
    "                  'volunteernum_baseline'\n",
    "                ]\n",
    "imiss_col_list.extend(volunteerorg2_list)\n",
    "len(imiss_col_list)"
   ]
  },
  {
   "cell_type": "code",
   "execution_count": 10,
   "metadata": {
    "ExecuteTime": {
     "end_time": "2019-11-23T13:25:27.860692Z",
     "start_time": "2019-11-23T13:25:27.847196Z"
    }
   },
   "outputs": [],
   "source": [
    "# target column list  \n",
    "target_col_list = ['presvote16post_2016']\n",
    "df_target = df[target_col_list]"
   ]
  },
  {
   "cell_type": "code",
   "execution_count": 11,
   "metadata": {
    "ExecuteTime": {
     "end_time": "2019-11-23T13:25:27.876335Z",
     "start_time": "2019-11-23T13:25:27.864148Z"
    }
   },
   "outputs": [],
   "source": [
    "df_issue = df[imiss_col_list].fillna(0)\n"
   ]
  },
  {
   "cell_type": "code",
   "execution_count": 12,
   "metadata": {
    "ExecuteTime": {
     "end_time": "2019-11-23T13:25:28.169552Z",
     "start_time": "2019-11-23T13:25:27.879930Z"
    }
   },
   "outputs": [],
   "source": [
    "df_issue = df_issue.astype(str)\n",
    "df_issue = df_issue.join(df_target)"
   ]
  },
  {
   "cell_type": "code",
   "execution_count": 13,
   "metadata": {
    "ExecuteTime": {
     "end_time": "2019-11-23T13:25:28.274534Z",
     "start_time": "2019-11-23T13:25:28.172668Z"
    }
   },
   "outputs": [],
   "source": [
    "df_dummies = pd.get_dummies(df_issue)"
   ]
  },
  {
   "cell_type": "code",
   "execution_count": 14,
   "metadata": {
    "ExecuteTime": {
     "end_time": "2019-11-23T13:25:28.391540Z",
     "start_time": "2019-11-23T13:25:28.278142Z"
    }
   },
   "outputs": [
    {
     "data": {
      "text/plain": [
       "presvote16post_2016             1.000000\n",
       "pew_churatd_2016_6.0            0.101641\n",
       "pew_churatd_2016_2.0            0.086730\n",
       "volunteerorg2_1_baseline_2      0.084843\n",
       "volunteerorg2_1_baseline_1      0.084843\n",
       "pew_churatd_2016_1.0            0.066156\n",
       "volunteerorg2_15_baseline_2     0.050135\n",
       "volunteerorg2_15_baseline_1     0.050135\n",
       "volunteerorg2_6_baseline_2      0.048510\n",
       "volunteerorg2_6_baseline_1      0.048510\n",
       "volunteerorg2_12_baseline_2     0.044336\n",
       "volunteerorg2_12_baseline_1     0.044336\n",
       "volunteerorg2_14_baseline_2     0.040881\n",
       "volunteerorg2_14_baseline_1     0.040881\n",
       "volunteerorg2_16_baseline_2     0.036887\n",
       "volunteerorg2_16_baseline_1     0.036887\n",
       "volunteerorg2_17_baseline_1     0.033546\n",
       "volunteerorg2_17_baseline_2     0.033546\n",
       "volunteerorg2_10_baseline_1     0.031534\n",
       "volunteerorg2_10_baseline_2     0.031534\n",
       "volunteernum_baseline_4.0       0.030151\n",
       "volunteerorg2_4_baseline_2      0.028927\n",
       "volunteerorg2_4_baseline_1      0.028927\n",
       "volunteerorg2_3_baseline_2      0.026972\n",
       "volunteerorg2_3_baseline_1      0.026972\n",
       "volunteerorg2_7_baseline_2      0.026494\n",
       "volunteerorg2_7_baseline_1      0.026494\n",
       "pew_churatd_2016_5.0            0.025002\n",
       "volunteernum_baseline_6.0       0.024651\n",
       "volunteer_baseline_1.0          0.022193\n",
       "                                  ...   \n",
       "volunteernum_baseline_7.0       0.020524\n",
       "CIVIC_PARTICIPATION_2016_0.0    0.018690\n",
       "volunteernum_baseline_5.0       0.015662\n",
       "volunteerorg2_5_baseline_2      0.015346\n",
       "volunteerorg2_5_baseline_1      0.015346\n",
       "CIVIC_PARTICIPATION_2016_5.0    0.015077\n",
       "pew_churatd_2016_4.0            0.014441\n",
       "CIVIC_PARTICIPATION_2016_3.0    0.012709\n",
       "volunteerorg2_11_baseline_2     0.012587\n",
       "volunteerorg2_11_baseline_1     0.012587\n",
       "CIVIC_PARTICIPATION_2016_4.0    0.010486\n",
       "pew_churatd_2016_7.0            0.010242\n",
       "CIVIC_PARTICIPATION_2016_1.0    0.008207\n",
       "CIVIC_PARTICIPATION_2016_2.0    0.007911\n",
       "volunteerorg2_2_baseline_1      0.006907\n",
       "volunteerorg2_2_baseline_2      0.006907\n",
       "volunteer_baseline_0.0          0.005493\n",
       "pew_churatd_2016_0.0            0.004535\n",
       "volunteerorg2_9_baseline_1      0.004246\n",
       "volunteerorg2_9_baseline_2      0.004246\n",
       "volunteernum_baseline_3.0       0.003287\n",
       "volunteernum_baseline_1.0       0.002689\n",
       "volunteernum_baseline_2.0       0.002054\n",
       "volunteerorg2_8_baseline_1      0.001996\n",
       "volunteerorg2_8_baseline_2      0.001996\n",
       "pew_churatd_2016_3.0            0.001043\n",
       "volunteerf_baseline_1.0         0.000988\n",
       "volunteerorg2_13_baseline_2     0.000604\n",
       "volunteerorg2_13_baseline_1     0.000604\n",
       "CIVIC_PARTICIPATION_2016_6.0    0.000278\n",
       "Name: presvote16post_2016, Length: 64, dtype: float64"
      ]
     },
     "execution_count": 14,
     "metadata": {},
     "output_type": "execute_result"
    }
   ],
   "source": [
    "df_dummies.corr()['presvote16post_2016'].abs().sort_values(ascending=False)"
   ]
  },
  {
   "cell_type": "code",
   "execution_count": 15,
   "metadata": {
    "ExecuteTime": {
     "end_time": "2019-11-23T13:25:43.512353Z",
     "start_time": "2019-11-23T13:25:43.505236Z"
    }
   },
   "outputs": [
    {
     "data": {
      "text/plain": [
       "(8000, 64)"
      ]
     },
     "execution_count": 15,
     "metadata": {},
     "output_type": "execute_result"
    }
   ],
   "source": [
    "df_dummies.shape"
   ]
  },
  {
   "cell_type": "code",
   "execution_count": 16,
   "metadata": {
    "ExecuteTime": {
     "end_time": "2019-11-23T13:25:46.001296Z",
     "start_time": "2019-11-23T13:25:45.986641Z"
    }
   },
   "outputs": [],
   "source": [
    "df_predictors = df_dummies.drop('presvote16post_2016', axis=1)"
   ]
  },
  {
   "cell_type": "code",
   "execution_count": 14,
   "metadata": {
    "ExecuteTime": {
     "end_time": "2019-11-23T12:30:52.396758Z",
     "start_time": "2019-11-23T12:30:52.309413Z"
    }
   },
   "outputs": [
    {
     "data": {
      "text/html": [
       "<div>\n",
       "<style scoped>\n",
       "    .dataframe tbody tr th:only-of-type {\n",
       "        vertical-align: middle;\n",
       "    }\n",
       "\n",
       "    .dataframe tbody tr th {\n",
       "        vertical-align: top;\n",
       "    }\n",
       "\n",
       "    .dataframe thead th {\n",
       "        text-align: right;\n",
       "    }\n",
       "</style>\n",
       "<table border=\"1\" class=\"dataframe\">\n",
       "  <thead>\n",
       "    <tr style=\"text-align: right;\">\n",
       "      <th></th>\n",
       "      <th>imiss_a_2016_0.0</th>\n",
       "      <th>imiss_a_2016_1.0</th>\n",
       "      <th>imiss_a_2016_2.0</th>\n",
       "      <th>imiss_a_2016_3.0</th>\n",
       "      <th>imiss_a_2016_4.0</th>\n",
       "      <th>imiss_b_2016_0.0</th>\n",
       "      <th>imiss_b_2016_1.0</th>\n",
       "      <th>imiss_b_2016_2.0</th>\n",
       "      <th>imiss_b_2016_3.0</th>\n",
       "      <th>imiss_b_2016_4.0</th>\n",
       "      <th>...</th>\n",
       "      <th>imiss_x_2016_0.0</th>\n",
       "      <th>imiss_x_2016_1.0</th>\n",
       "      <th>imiss_x_2016_2.0</th>\n",
       "      <th>imiss_x_2016_3.0</th>\n",
       "      <th>imiss_x_2016_4.0</th>\n",
       "      <th>imiss_y_2016_0.0</th>\n",
       "      <th>imiss_y_2016_1.0</th>\n",
       "      <th>imiss_y_2016_2.0</th>\n",
       "      <th>imiss_y_2016_3.0</th>\n",
       "      <th>imiss_y_2016_4.0</th>\n",
       "    </tr>\n",
       "  </thead>\n",
       "  <tbody>\n",
       "    <tr>\n",
       "      <th>0</th>\n",
       "      <td>0</td>\n",
       "      <td>0</td>\n",
       "      <td>1</td>\n",
       "      <td>0</td>\n",
       "      <td>0</td>\n",
       "      <td>0</td>\n",
       "      <td>0</td>\n",
       "      <td>1</td>\n",
       "      <td>0</td>\n",
       "      <td>0</td>\n",
       "      <td>...</td>\n",
       "      <td>0</td>\n",
       "      <td>1</td>\n",
       "      <td>0</td>\n",
       "      <td>0</td>\n",
       "      <td>0</td>\n",
       "      <td>0</td>\n",
       "      <td>1</td>\n",
       "      <td>0</td>\n",
       "      <td>0</td>\n",
       "      <td>0</td>\n",
       "    </tr>\n",
       "    <tr>\n",
       "      <th>1</th>\n",
       "      <td>0</td>\n",
       "      <td>1</td>\n",
       "      <td>0</td>\n",
       "      <td>0</td>\n",
       "      <td>0</td>\n",
       "      <td>0</td>\n",
       "      <td>1</td>\n",
       "      <td>0</td>\n",
       "      <td>0</td>\n",
       "      <td>0</td>\n",
       "      <td>...</td>\n",
       "      <td>0</td>\n",
       "      <td>0</td>\n",
       "      <td>0</td>\n",
       "      <td>1</td>\n",
       "      <td>0</td>\n",
       "      <td>0</td>\n",
       "      <td>0</td>\n",
       "      <td>0</td>\n",
       "      <td>0</td>\n",
       "      <td>1</td>\n",
       "    </tr>\n",
       "    <tr>\n",
       "      <th>2</th>\n",
       "      <td>0</td>\n",
       "      <td>1</td>\n",
       "      <td>0</td>\n",
       "      <td>0</td>\n",
       "      <td>0</td>\n",
       "      <td>0</td>\n",
       "      <td>1</td>\n",
       "      <td>0</td>\n",
       "      <td>0</td>\n",
       "      <td>0</td>\n",
       "      <td>...</td>\n",
       "      <td>0</td>\n",
       "      <td>1</td>\n",
       "      <td>0</td>\n",
       "      <td>0</td>\n",
       "      <td>0</td>\n",
       "      <td>0</td>\n",
       "      <td>0</td>\n",
       "      <td>1</td>\n",
       "      <td>0</td>\n",
       "      <td>0</td>\n",
       "    </tr>\n",
       "    <tr>\n",
       "      <th>3</th>\n",
       "      <td>0</td>\n",
       "      <td>1</td>\n",
       "      <td>0</td>\n",
       "      <td>0</td>\n",
       "      <td>0</td>\n",
       "      <td>0</td>\n",
       "      <td>0</td>\n",
       "      <td>1</td>\n",
       "      <td>0</td>\n",
       "      <td>0</td>\n",
       "      <td>...</td>\n",
       "      <td>0</td>\n",
       "      <td>0</td>\n",
       "      <td>1</td>\n",
       "      <td>0</td>\n",
       "      <td>0</td>\n",
       "      <td>0</td>\n",
       "      <td>0</td>\n",
       "      <td>0</td>\n",
       "      <td>1</td>\n",
       "      <td>0</td>\n",
       "    </tr>\n",
       "    <tr>\n",
       "      <th>4</th>\n",
       "      <td>0</td>\n",
       "      <td>1</td>\n",
       "      <td>0</td>\n",
       "      <td>0</td>\n",
       "      <td>0</td>\n",
       "      <td>0</td>\n",
       "      <td>1</td>\n",
       "      <td>0</td>\n",
       "      <td>0</td>\n",
       "      <td>0</td>\n",
       "      <td>...</td>\n",
       "      <td>0</td>\n",
       "      <td>1</td>\n",
       "      <td>0</td>\n",
       "      <td>0</td>\n",
       "      <td>0</td>\n",
       "      <td>0</td>\n",
       "      <td>1</td>\n",
       "      <td>0</td>\n",
       "      <td>0</td>\n",
       "      <td>0</td>\n",
       "    </tr>\n",
       "  </tbody>\n",
       "</table>\n",
       "<p>5 rows × 115 columns</p>\n",
       "</div>"
      ],
      "text/plain": [
       "   imiss_a_2016_0.0  imiss_a_2016_1.0  imiss_a_2016_2.0  imiss_a_2016_3.0  \\\n",
       "0                 0                 0                 1                 0   \n",
       "1                 0                 1                 0                 0   \n",
       "2                 0                 1                 0                 0   \n",
       "3                 0                 1                 0                 0   \n",
       "4                 0                 1                 0                 0   \n",
       "\n",
       "   imiss_a_2016_4.0  imiss_b_2016_0.0  imiss_b_2016_1.0  imiss_b_2016_2.0  \\\n",
       "0                 0                 0                 0                 1   \n",
       "1                 0                 0                 1                 0   \n",
       "2                 0                 0                 1                 0   \n",
       "3                 0                 0                 0                 1   \n",
       "4                 0                 0                 1                 0   \n",
       "\n",
       "   imiss_b_2016_3.0  imiss_b_2016_4.0  ...  imiss_x_2016_0.0  \\\n",
       "0                 0                 0  ...                 0   \n",
       "1                 0                 0  ...                 0   \n",
       "2                 0                 0  ...                 0   \n",
       "3                 0                 0  ...                 0   \n",
       "4                 0                 0  ...                 0   \n",
       "\n",
       "   imiss_x_2016_1.0  imiss_x_2016_2.0  imiss_x_2016_3.0  imiss_x_2016_4.0  \\\n",
       "0                 1                 0                 0                 0   \n",
       "1                 0                 0                 1                 0   \n",
       "2                 1                 0                 0                 0   \n",
       "3                 0                 1                 0                 0   \n",
       "4                 1                 0                 0                 0   \n",
       "\n",
       "   imiss_y_2016_0.0  imiss_y_2016_1.0  imiss_y_2016_2.0  imiss_y_2016_3.0  \\\n",
       "0                 0                 1                 0                 0   \n",
       "1                 0                 0                 0                 0   \n",
       "2                 0                 0                 1                 0   \n",
       "3                 0                 0                 0                 1   \n",
       "4                 0                 1                 0                 0   \n",
       "\n",
       "   imiss_y_2016_4.0  \n",
       "0                 0  \n",
       "1                 1  \n",
       "2                 0  \n",
       "3                 0  \n",
       "4                 0  \n",
       "\n",
       "[5 rows x 115 columns]"
      ]
     },
     "execution_count": 14,
     "metadata": {},
     "output_type": "execute_result"
    }
   ],
   "source": [
    "df_predictors.head()"
   ]
  },
  {
   "cell_type": "markdown",
   "metadata": {},
   "source": [
    "## K means clustering"
   ]
  },
  {
   "cell_type": "code",
   "execution_count": 17,
   "metadata": {
    "ExecuteTime": {
     "end_time": "2019-11-23T13:25:50.859146Z",
     "start_time": "2019-11-23T13:25:50.855269Z"
    }
   },
   "outputs": [],
   "source": [
    "X = df_predictors"
   ]
  },
  {
   "cell_type": "code",
   "execution_count": 18,
   "metadata": {
    "ExecuteTime": {
     "end_time": "2019-11-23T13:25:52.528650Z",
     "start_time": "2019-11-23T13:25:51.211363Z"
    }
   },
   "outputs": [],
   "source": [
    "from sklearn.cluster import KMeans\n",
    "from sklearn import metrics \n",
    "from sklearn.model_selection import train_test_split"
   ]
  },
  {
   "cell_type": "code",
   "execution_count": 19,
   "metadata": {
    "ExecuteTime": {
     "end_time": "2019-11-23T13:25:52.889968Z",
     "start_time": "2019-11-23T13:25:52.532914Z"
    }
   },
   "outputs": [
    {
     "data": {
      "text/plain": [
       "KMeans(algorithm='auto', copy_x=True, init='k-means++', max_iter=300,\n",
       "       n_clusters=2, n_init=10, n_jobs=None, precompute_distances='auto',\n",
       "       random_state=None, tol=0.0001, verbose=0)"
      ]
     },
     "execution_count": 19,
     "metadata": {},
     "output_type": "execute_result"
    }
   ],
   "source": [
    "k_means = KMeans(n_clusters=2)\n",
    "k_means.fit(X)"
   ]
  },
  {
   "cell_type": "code",
   "execution_count": 20,
   "metadata": {
    "ExecuteTime": {
     "end_time": "2019-11-23T13:25:52.900603Z",
     "start_time": "2019-11-23T13:25:52.894371Z"
    }
   },
   "outputs": [],
   "source": [
    "labels = k_means.labels_"
   ]
  },
  {
   "cell_type": "code",
   "execution_count": 21,
   "metadata": {
    "ExecuteTime": {
     "end_time": "2019-11-23T13:25:52.924082Z",
     "start_time": "2019-11-23T13:25:52.905076Z"
    }
   },
   "outputs": [],
   "source": [
    "y_pred = k_means.predict(X)"
   ]
  },
  {
   "cell_type": "code",
   "execution_count": 22,
   "metadata": {
    "ExecuteTime": {
     "end_time": "2019-11-23T13:25:54.703515Z",
     "start_time": "2019-11-23T13:25:54.394865Z"
    }
   },
   "outputs": [
    {
     "data": {
      "text/plain": [
       "<matplotlib.collections.PathCollection at 0x1064cc9e8>"
      ]
     },
     "execution_count": 22,
     "metadata": {},
     "output_type": "execute_result"
    },
    {
     "data": {
      "image/png": "[encoded data removed]",
      "text/plain": [
       "<Figure size 360x360 with 1 Axes>"
      ]
     },
     "metadata": {
      "needs_background": "light"
     },
     "output_type": "display_data"
    }
   ],
   "source": [
    "plt.figure(figsize=(5,5))\n",
    "cl_centers = k_means.cluster_centers_\n",
    "plt.scatter(cl_centers[:, 0], cl_centers[:, 1], c='black', s=300)"
   ]
  },
  {
   "cell_type": "code",
   "execution_count": 23,
   "metadata": {
    "ExecuteTime": {
     "end_time": "2019-11-23T13:26:07.807951Z",
     "start_time": "2019-11-23T13:26:04.632408Z"
    }
   },
   "outputs": [
    {
     "data": {
      "text/plain": [
       "0.30005850993674005"
      ]
     },
     "execution_count": 23,
     "metadata": {},
     "output_type": "execute_result"
    }
   ],
   "source": [
    "metrics.silhouette_score(X, labels, metric='euclidean')"
   ]
  },
  {
   "cell_type": "code",
   "execution_count": 24,
   "metadata": {
    "ExecuteTime": {
     "end_time": "2019-11-23T13:26:08.654574Z",
     "start_time": "2019-11-23T13:26:08.624017Z"
    }
   },
   "outputs": [
    {
     "data": {
      "text/plain": [
       "2981.6377411231597"
      ]
     },
     "execution_count": 24,
     "metadata": {},
     "output_type": "execute_result"
    }
   ],
   "source": [
    "metrics.calinski_harabasz_score(X, labels)"
   ]
  },
  {
   "cell_type": "code",
   "execution_count": 25,
   "metadata": {
    "ExecuteTime": {
     "end_time": "2019-11-23T13:26:14.357124Z",
     "start_time": "2019-11-23T13:26:14.341735Z"
    }
   },
   "outputs": [
    {
     "name": "stdout",
     "output_type": "stream",
     "text": [
      "(8000, 1)\n"
     ]
    }
   ],
   "source": [
    "df_target = df[target_col_list]\n",
    "print(df_target.shape)\n",
    "df_target_arr = np.ravel(df_target)"
   ]
  },
  {
   "cell_type": "code",
   "execution_count": 26,
   "metadata": {
    "ExecuteTime": {
     "end_time": "2019-11-23T13:26:16.088476Z",
     "start_time": "2019-11-23T13:26:16.080987Z"
    }
   },
   "outputs": [
    {
     "data": {
      "text/plain": [
       "(8000,)"
      ]
     },
     "execution_count": 26,
     "metadata": {},
     "output_type": "execute_result"
    }
   ],
   "source": [
    "df_target_arr\n",
    "y_pred.shape"
   ]
  },
  {
   "cell_type": "code",
   "execution_count": 27,
   "metadata": {
    "ExecuteTime": {
     "end_time": "2019-11-23T13:26:18.094385Z",
     "start_time": "2019-11-23T13:26:18.067685Z"
    }
   },
   "outputs": [],
   "source": [
    "dataset = pd.DataFrame({ 'y_pred': y_pred}, \n",
    "                        columns=[ 'y_pred']\n",
    "                        )"
   ]
  },
  {
   "cell_type": "code",
   "execution_count": 28,
   "metadata": {
    "ExecuteTime": {
     "end_time": "2019-11-23T13:26:19.758158Z",
     "start_time": "2019-11-23T13:26:19.731872Z"
    }
   },
   "outputs": [
    {
     "data": {
      "text/html": [
       "<div>\n",
       "<style scoped>\n",
       "    .dataframe tbody tr th:only-of-type {\n",
       "        vertical-align: middle;\n",
       "    }\n",
       "\n",
       "    .dataframe tbody tr th {\n",
       "        vertical-align: top;\n",
       "    }\n",
       "\n",
       "    .dataframe thead th {\n",
       "        text-align: right;\n",
       "    }\n",
       "</style>\n",
       "<table border=\"1\" class=\"dataframe\">\n",
       "  <thead>\n",
       "    <tr style=\"text-align: right;\">\n",
       "      <th></th>\n",
       "      <th>y_pred</th>\n",
       "    </tr>\n",
       "  </thead>\n",
       "  <tbody>\n",
       "    <tr>\n",
       "      <th>0</th>\n",
       "      <td>1</td>\n",
       "    </tr>\n",
       "    <tr>\n",
       "      <th>1</th>\n",
       "      <td>1</td>\n",
       "    </tr>\n",
       "    <tr>\n",
       "      <th>2</th>\n",
       "      <td>0</td>\n",
       "    </tr>\n",
       "    <tr>\n",
       "      <th>3</th>\n",
       "      <td>1</td>\n",
       "    </tr>\n",
       "    <tr>\n",
       "      <th>4</th>\n",
       "      <td>1</td>\n",
       "    </tr>\n",
       "  </tbody>\n",
       "</table>\n",
       "</div>"
      ],
      "text/plain": [
       "   y_pred\n",
       "0       1\n",
       "1       1\n",
       "2       0\n",
       "3       1\n",
       "4       1"
      ]
     },
     "execution_count": 28,
     "metadata": {},
     "output_type": "execute_result"
    }
   ],
   "source": [
    "dataset.head()"
   ]
  },
  {
   "cell_type": "code",
   "execution_count": 29,
   "metadata": {
    "ExecuteTime": {
     "end_time": "2019-11-23T13:26:20.181425Z",
     "start_time": "2019-11-23T13:26:20.139992Z"
    }
   },
   "outputs": [
    {
     "data": {
      "text/html": [
       "<div>\n",
       "<style scoped>\n",
       "    .dataframe tbody tr th:only-of-type {\n",
       "        vertical-align: middle;\n",
       "    }\n",
       "\n",
       "    .dataframe tbody tr th {\n",
       "        vertical-align: top;\n",
       "    }\n",
       "\n",
       "    .dataframe thead th {\n",
       "        text-align: right;\n",
       "    }\n",
       "</style>\n",
       "<table border=\"1\" class=\"dataframe\">\n",
       "  <thead>\n",
       "    <tr style=\"text-align: right;\">\n",
       "      <th></th>\n",
       "      <th>CIVIC_PARTICIPATION_2016_0.0</th>\n",
       "      <th>CIVIC_PARTICIPATION_2016_1.0</th>\n",
       "      <th>CIVIC_PARTICIPATION_2016_2.0</th>\n",
       "      <th>CIVIC_PARTICIPATION_2016_3.0</th>\n",
       "      <th>CIVIC_PARTICIPATION_2016_4.0</th>\n",
       "      <th>CIVIC_PARTICIPATION_2016_5.0</th>\n",
       "      <th>CIVIC_PARTICIPATION_2016_6.0</th>\n",
       "      <th>pew_churatd_2016_0.0</th>\n",
       "      <th>pew_churatd_2016_1.0</th>\n",
       "      <th>pew_churatd_2016_2.0</th>\n",
       "      <th>...</th>\n",
       "      <th>volunteerorg2_14_baseline_1</th>\n",
       "      <th>volunteerorg2_14_baseline_2</th>\n",
       "      <th>volunteerorg2_15_baseline_1</th>\n",
       "      <th>volunteerorg2_15_baseline_2</th>\n",
       "      <th>volunteerorg2_16_baseline_1</th>\n",
       "      <th>volunteerorg2_16_baseline_2</th>\n",
       "      <th>volunteerorg2_17_baseline_1</th>\n",
       "      <th>volunteerorg2_17_baseline_2</th>\n",
       "      <th>presvote16post_2016</th>\n",
       "      <th>y_pred</th>\n",
       "    </tr>\n",
       "  </thead>\n",
       "  <tbody>\n",
       "    <tr>\n",
       "      <th>0</th>\n",
       "      <td>0</td>\n",
       "      <td>0</td>\n",
       "      <td>0</td>\n",
       "      <td>1</td>\n",
       "      <td>0</td>\n",
       "      <td>0</td>\n",
       "      <td>0</td>\n",
       "      <td>0</td>\n",
       "      <td>0</td>\n",
       "      <td>0</td>\n",
       "      <td>...</td>\n",
       "      <td>0</td>\n",
       "      <td>1</td>\n",
       "      <td>0</td>\n",
       "      <td>1</td>\n",
       "      <td>0</td>\n",
       "      <td>1</td>\n",
       "      <td>0</td>\n",
       "      <td>1</td>\n",
       "      <td>1.0</td>\n",
       "      <td>1</td>\n",
       "    </tr>\n",
       "    <tr>\n",
       "      <th>1</th>\n",
       "      <td>0</td>\n",
       "      <td>0</td>\n",
       "      <td>0</td>\n",
       "      <td>0</td>\n",
       "      <td>0</td>\n",
       "      <td>1</td>\n",
       "      <td>0</td>\n",
       "      <td>0</td>\n",
       "      <td>1</td>\n",
       "      <td>0</td>\n",
       "      <td>...</td>\n",
       "      <td>0</td>\n",
       "      <td>1</td>\n",
       "      <td>0</td>\n",
       "      <td>1</td>\n",
       "      <td>0</td>\n",
       "      <td>1</td>\n",
       "      <td>0</td>\n",
       "      <td>1</td>\n",
       "      <td>2.0</td>\n",
       "      <td>1</td>\n",
       "    </tr>\n",
       "    <tr>\n",
       "      <th>2</th>\n",
       "      <td>0</td>\n",
       "      <td>0</td>\n",
       "      <td>0</td>\n",
       "      <td>0</td>\n",
       "      <td>0</td>\n",
       "      <td>0</td>\n",
       "      <td>1</td>\n",
       "      <td>0</td>\n",
       "      <td>0</td>\n",
       "      <td>0</td>\n",
       "      <td>...</td>\n",
       "      <td>0</td>\n",
       "      <td>1</td>\n",
       "      <td>0</td>\n",
       "      <td>1</td>\n",
       "      <td>0</td>\n",
       "      <td>1</td>\n",
       "      <td>0</td>\n",
       "      <td>1</td>\n",
       "      <td>1.0</td>\n",
       "      <td>0</td>\n",
       "    </tr>\n",
       "    <tr>\n",
       "      <th>3</th>\n",
       "      <td>0</td>\n",
       "      <td>0</td>\n",
       "      <td>0</td>\n",
       "      <td>0</td>\n",
       "      <td>0</td>\n",
       "      <td>1</td>\n",
       "      <td>0</td>\n",
       "      <td>0</td>\n",
       "      <td>0</td>\n",
       "      <td>0</td>\n",
       "      <td>...</td>\n",
       "      <td>0</td>\n",
       "      <td>1</td>\n",
       "      <td>0</td>\n",
       "      <td>1</td>\n",
       "      <td>0</td>\n",
       "      <td>1</td>\n",
       "      <td>1</td>\n",
       "      <td>0</td>\n",
       "      <td>3.0</td>\n",
       "      <td>1</td>\n",
       "    </tr>\n",
       "    <tr>\n",
       "      <th>4</th>\n",
       "      <td>0</td>\n",
       "      <td>0</td>\n",
       "      <td>0</td>\n",
       "      <td>0</td>\n",
       "      <td>1</td>\n",
       "      <td>0</td>\n",
       "      <td>0</td>\n",
       "      <td>0</td>\n",
       "      <td>1</td>\n",
       "      <td>0</td>\n",
       "      <td>...</td>\n",
       "      <td>0</td>\n",
       "      <td>1</td>\n",
       "      <td>0</td>\n",
       "      <td>1</td>\n",
       "      <td>0</td>\n",
       "      <td>1</td>\n",
       "      <td>0</td>\n",
       "      <td>1</td>\n",
       "      <td>2.0</td>\n",
       "      <td>1</td>\n",
       "    </tr>\n",
       "    <tr>\n",
       "      <th>5</th>\n",
       "      <td>0</td>\n",
       "      <td>0</td>\n",
       "      <td>0</td>\n",
       "      <td>0</td>\n",
       "      <td>0</td>\n",
       "      <td>0</td>\n",
       "      <td>1</td>\n",
       "      <td>0</td>\n",
       "      <td>0</td>\n",
       "      <td>0</td>\n",
       "      <td>...</td>\n",
       "      <td>0</td>\n",
       "      <td>1</td>\n",
       "      <td>0</td>\n",
       "      <td>1</td>\n",
       "      <td>0</td>\n",
       "      <td>1</td>\n",
       "      <td>0</td>\n",
       "      <td>1</td>\n",
       "      <td>1.0</td>\n",
       "      <td>0</td>\n",
       "    </tr>\n",
       "    <tr>\n",
       "      <th>6</th>\n",
       "      <td>0</td>\n",
       "      <td>0</td>\n",
       "      <td>0</td>\n",
       "      <td>0</td>\n",
       "      <td>0</td>\n",
       "      <td>1</td>\n",
       "      <td>0</td>\n",
       "      <td>0</td>\n",
       "      <td>1</td>\n",
       "      <td>0</td>\n",
       "      <td>...</td>\n",
       "      <td>0</td>\n",
       "      <td>1</td>\n",
       "      <td>0</td>\n",
       "      <td>1</td>\n",
       "      <td>0</td>\n",
       "      <td>1</td>\n",
       "      <td>0</td>\n",
       "      <td>1</td>\n",
       "      <td>1.0</td>\n",
       "      <td>1</td>\n",
       "    </tr>\n",
       "    <tr>\n",
       "      <th>7</th>\n",
       "      <td>0</td>\n",
       "      <td>0</td>\n",
       "      <td>0</td>\n",
       "      <td>0</td>\n",
       "      <td>0</td>\n",
       "      <td>1</td>\n",
       "      <td>0</td>\n",
       "      <td>0</td>\n",
       "      <td>0</td>\n",
       "      <td>0</td>\n",
       "      <td>...</td>\n",
       "      <td>0</td>\n",
       "      <td>1</td>\n",
       "      <td>0</td>\n",
       "      <td>1</td>\n",
       "      <td>0</td>\n",
       "      <td>1</td>\n",
       "      <td>0</td>\n",
       "      <td>1</td>\n",
       "      <td>2.0</td>\n",
       "      <td>1</td>\n",
       "    </tr>\n",
       "    <tr>\n",
       "      <th>8</th>\n",
       "      <td>0</td>\n",
       "      <td>0</td>\n",
       "      <td>0</td>\n",
       "      <td>0</td>\n",
       "      <td>0</td>\n",
       "      <td>0</td>\n",
       "      <td>1</td>\n",
       "      <td>0</td>\n",
       "      <td>0</td>\n",
       "      <td>0</td>\n",
       "      <td>...</td>\n",
       "      <td>0</td>\n",
       "      <td>1</td>\n",
       "      <td>0</td>\n",
       "      <td>1</td>\n",
       "      <td>0</td>\n",
       "      <td>1</td>\n",
       "      <td>0</td>\n",
       "      <td>1</td>\n",
       "      <td>1.0</td>\n",
       "      <td>0</td>\n",
       "    </tr>\n",
       "    <tr>\n",
       "      <th>9</th>\n",
       "      <td>0</td>\n",
       "      <td>0</td>\n",
       "      <td>0</td>\n",
       "      <td>0</td>\n",
       "      <td>0</td>\n",
       "      <td>1</td>\n",
       "      <td>0</td>\n",
       "      <td>0</td>\n",
       "      <td>0</td>\n",
       "      <td>0</td>\n",
       "      <td>...</td>\n",
       "      <td>0</td>\n",
       "      <td>1</td>\n",
       "      <td>0</td>\n",
       "      <td>1</td>\n",
       "      <td>0</td>\n",
       "      <td>1</td>\n",
       "      <td>0</td>\n",
       "      <td>1</td>\n",
       "      <td>1.0</td>\n",
       "      <td>0</td>\n",
       "    </tr>\n",
       "  </tbody>\n",
       "</table>\n",
       "<p>10 rows × 65 columns</p>\n",
       "</div>"
      ],
      "text/plain": [
       "   CIVIC_PARTICIPATION_2016_0.0  CIVIC_PARTICIPATION_2016_1.0  \\\n",
       "0                             0                             0   \n",
       "1                             0                             0   \n",
       "2                             0                             0   \n",
       "3                             0                             0   \n",
       "4                             0                             0   \n",
       "5                             0                             0   \n",
       "6                             0                             0   \n",
       "7                             0                             0   \n",
       "8                             0                             0   \n",
       "9                             0                             0   \n",
       "\n",
       "   CIVIC_PARTICIPATION_2016_2.0  CIVIC_PARTICIPATION_2016_3.0  \\\n",
       "0                             0                             1   \n",
       "1                             0                             0   \n",
       "2                             0                             0   \n",
       "3                             0                             0   \n",
       "4                             0                             0   \n",
       "5                             0                             0   \n",
       "6                             0                             0   \n",
       "7                             0                             0   \n",
       "8                             0                             0   \n",
       "9                             0                             0   \n",
       "\n",
       "   CIVIC_PARTICIPATION_2016_4.0  CIVIC_PARTICIPATION_2016_5.0  \\\n",
       "0                             0                             0   \n",
       "1                             0                             1   \n",
       "2                             0                             0   \n",
       "3                             0                             1   \n",
       "4                             1                             0   \n",
       "5                             0                             0   \n",
       "6                             0                             1   \n",
       "7                             0                             1   \n",
       "8                             0                             0   \n",
       "9                             0                             1   \n",
       "\n",
       "   CIVIC_PARTICIPATION_2016_6.0  pew_churatd_2016_0.0  pew_churatd_2016_1.0  \\\n",
       "0                             0                     0                     0   \n",
       "1                             0                     0                     1   \n",
       "2                             1                     0                     0   \n",
       "3                             0                     0                     0   \n",
       "4                             0                     0                     1   \n",
       "5                             1                     0                     0   \n",
       "6                             0                     0                     1   \n",
       "7                             0                     0                     0   \n",
       "8                             1                     0                     0   \n",
       "9                             0                     0                     0   \n",
       "\n",
       "   pew_churatd_2016_2.0  ...  volunteerorg2_14_baseline_1  \\\n",
       "0                     0  ...                            0   \n",
       "1                     0  ...                            0   \n",
       "2                     0  ...                            0   \n",
       "3                     0  ...                            0   \n",
       "4                     0  ...                            0   \n",
       "5                     0  ...                            0   \n",
       "6                     0  ...                            0   \n",
       "7                     0  ...                            0   \n",
       "8                     0  ...                            0   \n",
       "9                     0  ...                            0   \n",
       "\n",
       "   volunteerorg2_14_baseline_2  volunteerorg2_15_baseline_1  \\\n",
       "0                            1                            0   \n",
       "1                            1                            0   \n",
       "2                            1                            0   \n",
       "3                            1                            0   \n",
       "4                            1                            0   \n",
       "5                            1                            0   \n",
       "6                            1                            0   \n",
       "7                            1                            0   \n",
       "8                            1                            0   \n",
       "9                            1                            0   \n",
       "\n",
       "   volunteerorg2_15_baseline_2  volunteerorg2_16_baseline_1  \\\n",
       "0                            1                            0   \n",
       "1                            1                            0   \n",
       "2                            1                            0   \n",
       "3                            1                            0   \n",
       "4                            1                            0   \n",
       "5                            1                            0   \n",
       "6                            1                            0   \n",
       "7                            1                            0   \n",
       "8                            1                            0   \n",
       "9                            1                            0   \n",
       "\n",
       "   volunteerorg2_16_baseline_2  volunteerorg2_17_baseline_1  \\\n",
       "0                            1                            0   \n",
       "1                            1                            0   \n",
       "2                            1                            0   \n",
       "3                            1                            1   \n",
       "4                            1                            0   \n",
       "5                            1                            0   \n",
       "6                            1                            0   \n",
       "7                            1                            0   \n",
       "8                            1                            0   \n",
       "9                            1                            0   \n",
       "\n",
       "   volunteerorg2_17_baseline_2  presvote16post_2016  y_pred  \n",
       "0                            1                  1.0       1  \n",
       "1                            1                  2.0       1  \n",
       "2                            1                  1.0       0  \n",
       "3                            0                  3.0       1  \n",
       "4                            1                  2.0       1  \n",
       "5                            1                  1.0       0  \n",
       "6                            1                  1.0       1  \n",
       "7                            1                  2.0       1  \n",
       "8                            1                  1.0       0  \n",
       "9                            1                  1.0       0  \n",
       "\n",
       "[10 rows x 65 columns]"
      ]
     },
     "execution_count": 29,
     "metadata": {},
     "output_type": "execute_result"
    }
   ],
   "source": [
    "target_pred_df = df_predictors.join(df_target).join(dataset)\n",
    "target_pred_df.head(10)"
   ]
  },
  {
   "cell_type": "code",
   "execution_count": 30,
   "metadata": {
    "ExecuteTime": {
     "end_time": "2019-11-23T13:26:23.352639Z",
     "start_time": "2019-11-23T13:26:23.251212Z"
    }
   },
   "outputs": [
    {
     "name": "stdout",
     "output_type": "stream",
     "text": [
      "3479\n"
     ]
    }
   ],
   "source": [
    "count = 0\n",
    "for row in target_pred_df.itertuples():\n",
    "    if (row.presvote16post_2016 == 2): #and (row.y_pred == 0):\n",
    "        count +=1\n",
    "print(count)\n"
   ]
  },
  {
   "cell_type": "markdown",
   "metadata": {},
   "source": [
    "## Logistic regression"
   ]
  },
  {
   "cell_type": "code",
   "execution_count": 32,
   "metadata": {
    "ExecuteTime": {
     "end_time": "2019-11-23T13:26:36.331703Z",
     "start_time": "2019-11-23T13:26:36.327228Z"
    }
   },
   "outputs": [],
   "source": [
    "from sklearn.linear_model import LogisticRegression\n",
    "from sklearn.metrics import confusion_matrix"
   ]
  },
  {
   "cell_type": "code",
   "execution_count": 33,
   "metadata": {
    "ExecuteTime": {
     "end_time": "2019-11-23T13:26:36.967498Z",
     "start_time": "2019-11-23T13:26:36.934715Z"
    }
   },
   "outputs": [
    {
     "data": {
      "text/html": [
       "<div>\n",
       "<style scoped>\n",
       "    .dataframe tbody tr th:only-of-type {\n",
       "        vertical-align: middle;\n",
       "    }\n",
       "\n",
       "    .dataframe tbody tr th {\n",
       "        vertical-align: top;\n",
       "    }\n",
       "\n",
       "    .dataframe thead th {\n",
       "        text-align: right;\n",
       "    }\n",
       "</style>\n",
       "<table border=\"1\" class=\"dataframe\">\n",
       "  <thead>\n",
       "    <tr style=\"text-align: right;\">\n",
       "      <th></th>\n",
       "      <th>CIVIC_PARTICIPATION_2016_0.0</th>\n",
       "      <th>CIVIC_PARTICIPATION_2016_1.0</th>\n",
       "      <th>CIVIC_PARTICIPATION_2016_2.0</th>\n",
       "      <th>CIVIC_PARTICIPATION_2016_3.0</th>\n",
       "      <th>CIVIC_PARTICIPATION_2016_4.0</th>\n",
       "      <th>CIVIC_PARTICIPATION_2016_5.0</th>\n",
       "      <th>CIVIC_PARTICIPATION_2016_6.0</th>\n",
       "      <th>pew_churatd_2016_0.0</th>\n",
       "      <th>pew_churatd_2016_1.0</th>\n",
       "      <th>pew_churatd_2016_2.0</th>\n",
       "      <th>...</th>\n",
       "      <th>volunteerorg2_13_baseline_1</th>\n",
       "      <th>volunteerorg2_13_baseline_2</th>\n",
       "      <th>volunteerorg2_14_baseline_1</th>\n",
       "      <th>volunteerorg2_14_baseline_2</th>\n",
       "      <th>volunteerorg2_15_baseline_1</th>\n",
       "      <th>volunteerorg2_15_baseline_2</th>\n",
       "      <th>volunteerorg2_16_baseline_1</th>\n",
       "      <th>volunteerorg2_16_baseline_2</th>\n",
       "      <th>volunteerorg2_17_baseline_1</th>\n",
       "      <th>volunteerorg2_17_baseline_2</th>\n",
       "    </tr>\n",
       "  </thead>\n",
       "  <tbody>\n",
       "    <tr>\n",
       "      <th>0</th>\n",
       "      <td>0</td>\n",
       "      <td>0</td>\n",
       "      <td>0</td>\n",
       "      <td>1</td>\n",
       "      <td>0</td>\n",
       "      <td>0</td>\n",
       "      <td>0</td>\n",
       "      <td>0</td>\n",
       "      <td>0</td>\n",
       "      <td>0</td>\n",
       "      <td>...</td>\n",
       "      <td>0</td>\n",
       "      <td>1</td>\n",
       "      <td>0</td>\n",
       "      <td>1</td>\n",
       "      <td>0</td>\n",
       "      <td>1</td>\n",
       "      <td>0</td>\n",
       "      <td>1</td>\n",
       "      <td>0</td>\n",
       "      <td>1</td>\n",
       "    </tr>\n",
       "    <tr>\n",
       "      <th>1</th>\n",
       "      <td>0</td>\n",
       "      <td>0</td>\n",
       "      <td>0</td>\n",
       "      <td>0</td>\n",
       "      <td>0</td>\n",
       "      <td>1</td>\n",
       "      <td>0</td>\n",
       "      <td>0</td>\n",
       "      <td>1</td>\n",
       "      <td>0</td>\n",
       "      <td>...</td>\n",
       "      <td>0</td>\n",
       "      <td>1</td>\n",
       "      <td>0</td>\n",
       "      <td>1</td>\n",
       "      <td>0</td>\n",
       "      <td>1</td>\n",
       "      <td>0</td>\n",
       "      <td>1</td>\n",
       "      <td>0</td>\n",
       "      <td>1</td>\n",
       "    </tr>\n",
       "    <tr>\n",
       "      <th>2</th>\n",
       "      <td>0</td>\n",
       "      <td>0</td>\n",
       "      <td>0</td>\n",
       "      <td>0</td>\n",
       "      <td>0</td>\n",
       "      <td>0</td>\n",
       "      <td>1</td>\n",
       "      <td>0</td>\n",
       "      <td>0</td>\n",
       "      <td>0</td>\n",
       "      <td>...</td>\n",
       "      <td>0</td>\n",
       "      <td>1</td>\n",
       "      <td>0</td>\n",
       "      <td>1</td>\n",
       "      <td>0</td>\n",
       "      <td>1</td>\n",
       "      <td>0</td>\n",
       "      <td>1</td>\n",
       "      <td>0</td>\n",
       "      <td>1</td>\n",
       "    </tr>\n",
       "    <tr>\n",
       "      <th>3</th>\n",
       "      <td>0</td>\n",
       "      <td>0</td>\n",
       "      <td>0</td>\n",
       "      <td>0</td>\n",
       "      <td>0</td>\n",
       "      <td>1</td>\n",
       "      <td>0</td>\n",
       "      <td>0</td>\n",
       "      <td>0</td>\n",
       "      <td>0</td>\n",
       "      <td>...</td>\n",
       "      <td>0</td>\n",
       "      <td>1</td>\n",
       "      <td>0</td>\n",
       "      <td>1</td>\n",
       "      <td>0</td>\n",
       "      <td>1</td>\n",
       "      <td>0</td>\n",
       "      <td>1</td>\n",
       "      <td>1</td>\n",
       "      <td>0</td>\n",
       "    </tr>\n",
       "    <tr>\n",
       "      <th>4</th>\n",
       "      <td>0</td>\n",
       "      <td>0</td>\n",
       "      <td>0</td>\n",
       "      <td>0</td>\n",
       "      <td>1</td>\n",
       "      <td>0</td>\n",
       "      <td>0</td>\n",
       "      <td>0</td>\n",
       "      <td>1</td>\n",
       "      <td>0</td>\n",
       "      <td>...</td>\n",
       "      <td>0</td>\n",
       "      <td>1</td>\n",
       "      <td>0</td>\n",
       "      <td>1</td>\n",
       "      <td>0</td>\n",
       "      <td>1</td>\n",
       "      <td>0</td>\n",
       "      <td>1</td>\n",
       "      <td>0</td>\n",
       "      <td>1</td>\n",
       "    </tr>\n",
       "  </tbody>\n",
       "</table>\n",
       "<p>5 rows × 63 columns</p>\n",
       "</div>"
      ],
      "text/plain": [
       "   CIVIC_PARTICIPATION_2016_0.0  CIVIC_PARTICIPATION_2016_1.0  \\\n",
       "0                             0                             0   \n",
       "1                             0                             0   \n",
       "2                             0                             0   \n",
       "3                             0                             0   \n",
       "4                             0                             0   \n",
       "\n",
       "   CIVIC_PARTICIPATION_2016_2.0  CIVIC_PARTICIPATION_2016_3.0  \\\n",
       "0                             0                             1   \n",
       "1                             0                             0   \n",
       "2                             0                             0   \n",
       "3                             0                             0   \n",
       "4                             0                             0   \n",
       "\n",
       "   CIVIC_PARTICIPATION_2016_4.0  CIVIC_PARTICIPATION_2016_5.0  \\\n",
       "0                             0                             0   \n",
       "1                             0                             1   \n",
       "2                             0                             0   \n",
       "3                             0                             1   \n",
       "4                             1                             0   \n",
       "\n",
       "   CIVIC_PARTICIPATION_2016_6.0  pew_churatd_2016_0.0  pew_churatd_2016_1.0  \\\n",
       "0                             0                     0                     0   \n",
       "1                             0                     0                     1   \n",
       "2                             1                     0                     0   \n",
       "3                             0                     0                     0   \n",
       "4                             0                     0                     1   \n",
       "\n",
       "   pew_churatd_2016_2.0  ...  volunteerorg2_13_baseline_1  \\\n",
       "0                     0  ...                            0   \n",
       "1                     0  ...                            0   \n",
       "2                     0  ...                            0   \n",
       "3                     0  ...                            0   \n",
       "4                     0  ...                            0   \n",
       "\n",
       "   volunteerorg2_13_baseline_2  volunteerorg2_14_baseline_1  \\\n",
       "0                            1                            0   \n",
       "1                            1                            0   \n",
       "2                            1                            0   \n",
       "3                            1                            0   \n",
       "4                            1                            0   \n",
       "\n",
       "   volunteerorg2_14_baseline_2  volunteerorg2_15_baseline_1  \\\n",
       "0                            1                            0   \n",
       "1                            1                            0   \n",
       "2                            1                            0   \n",
       "3                            1                            0   \n",
       "4                            1                            0   \n",
       "\n",
       "   volunteerorg2_15_baseline_2  volunteerorg2_16_baseline_1  \\\n",
       "0                            1                            0   \n",
       "1                            1                            0   \n",
       "2                            1                            0   \n",
       "3                            1                            0   \n",
       "4                            1                            0   \n",
       "\n",
       "   volunteerorg2_16_baseline_2  volunteerorg2_17_baseline_1  \\\n",
       "0                            1                            0   \n",
       "1                            1                            0   \n",
       "2                            1                            0   \n",
       "3                            1                            1   \n",
       "4                            1                            0   \n",
       "\n",
       "   volunteerorg2_17_baseline_2  \n",
       "0                            1  \n",
       "1                            1  \n",
       "2                            1  \n",
       "3                            0  \n",
       "4                            1  \n",
       "\n",
       "[5 rows x 63 columns]"
      ]
     },
     "execution_count": 33,
     "metadata": {},
     "output_type": "execute_result"
    }
   ],
   "source": [
    "X = df_predictors\n",
    "y = df_target\n",
    "X.head()"
   ]
  },
  {
   "cell_type": "code",
   "execution_count": 34,
   "metadata": {
    "ExecuteTime": {
     "end_time": "2019-11-23T13:26:37.886747Z",
     "start_time": "2019-11-23T13:26:37.851560Z"
    }
   },
   "outputs": [
    {
     "data": {
      "text/plain": [
       "presvote16post_2016    394\n",
       "dtype: int64"
      ]
     },
     "execution_count": 34,
     "metadata": {},
     "output_type": "execute_result"
    }
   ],
   "source": [
    "X.isna().sum().any()\n",
    "y.isna().sum()"
   ]
  },
  {
   "cell_type": "code",
   "execution_count": 35,
   "metadata": {
    "ExecuteTime": {
     "end_time": "2019-11-23T13:26:38.464882Z",
     "start_time": "2019-11-23T13:26:38.458999Z"
    }
   },
   "outputs": [],
   "source": [
    "y = y.fillna(0)\n",
    "y = np.ravel(y)"
   ]
  },
  {
   "cell_type": "code",
   "execution_count": 36,
   "metadata": {
    "ExecuteTime": {
     "end_time": "2019-11-23T13:26:39.063360Z",
     "start_time": "2019-11-23T13:26:39.038920Z"
    }
   },
   "outputs": [],
   "source": [
    "X_train, X_test, y_train, y_test = train_test_split(X, \n",
    "                                                    y,\n",
    "                                                    test_size = 0.2, \n",
    "                                                    stratify=y)"
   ]
  },
  {
   "cell_type": "code",
   "execution_count": 37,
   "metadata": {
    "ExecuteTime": {
     "end_time": "2019-11-23T13:26:42.488392Z",
     "start_time": "2019-11-23T13:26:39.559838Z"
    }
   },
   "outputs": [],
   "source": [
    "lr = LogisticRegression(C=2, penalty='l2', \n",
    "                        solver='lbfgs', \n",
    "                        multi_class='auto', \n",
    "                        max_iter=1000)\n",
    "lr.fit(X_train, y_train)\n",
    "y_pred_test = lr.predict(X_test)"
   ]
  },
  {
   "cell_type": "code",
   "execution_count": 38,
   "metadata": {
    "ExecuteTime": {
     "end_time": "2019-11-23T13:26:42.499592Z",
     "start_time": "2019-11-23T13:26:42.491380Z"
    }
   },
   "outputs": [
    {
     "data": {
      "text/plain": [
       "Index(['presvote16post_2016'], dtype='object')"
      ]
     },
     "execution_count": 38,
     "metadata": {},
     "output_type": "execute_result"
    }
   ],
   "source": [
    "df_target.columns"
   ]
  },
  {
   "cell_type": "code",
   "execution_count": 39,
   "metadata": {
    "ExecuteTime": {
     "end_time": "2019-11-23T13:26:42.533826Z",
     "start_time": "2019-11-23T13:26:42.504735Z"
    }
   },
   "outputs": [
    {
     "data": {
      "text/html": [
       "<div>\n",
       "<style scoped>\n",
       "    .dataframe tbody tr th:only-of-type {\n",
       "        vertical-align: middle;\n",
       "    }\n",
       "\n",
       "    .dataframe tbody tr th {\n",
       "        vertical-align: top;\n",
       "    }\n",
       "\n",
       "    .dataframe thead th {\n",
       "        text-align: right;\n",
       "    }\n",
       "</style>\n",
       "<table border=\"1\" class=\"dataframe\">\n",
       "  <thead>\n",
       "    <tr style=\"text-align: right;\">\n",
       "      <th></th>\n",
       "      <th>Pred None</th>\n",
       "      <th>Pred Clinton</th>\n",
       "      <th>Pred Trump</th>\n",
       "      <th>Pred Johnson</th>\n",
       "      <th>Pred Stein</th>\n",
       "      <th>Pred McMullin</th>\n",
       "      <th>Pred Other</th>\n",
       "      <th>Pred Did Not Vote</th>\n",
       "    </tr>\n",
       "  </thead>\n",
       "  <tbody>\n",
       "    <tr>\n",
       "      <th>None</th>\n",
       "      <td>0</td>\n",
       "      <td>36</td>\n",
       "      <td>43</td>\n",
       "      <td>0</td>\n",
       "      <td>0</td>\n",
       "      <td>0</td>\n",
       "      <td>0</td>\n",
       "      <td>0</td>\n",
       "    </tr>\n",
       "    <tr>\n",
       "      <th>Clinton</th>\n",
       "      <td>0</td>\n",
       "      <td>397</td>\n",
       "      <td>312</td>\n",
       "      <td>0</td>\n",
       "      <td>0</td>\n",
       "      <td>0</td>\n",
       "      <td>0</td>\n",
       "      <td>0</td>\n",
       "    </tr>\n",
       "    <tr>\n",
       "      <th>Trump</th>\n",
       "      <td>0</td>\n",
       "      <td>248</td>\n",
       "      <td>447</td>\n",
       "      <td>0</td>\n",
       "      <td>0</td>\n",
       "      <td>1</td>\n",
       "      <td>0</td>\n",
       "      <td>0</td>\n",
       "    </tr>\n",
       "    <tr>\n",
       "      <th>Johnson</th>\n",
       "      <td>0</td>\n",
       "      <td>21</td>\n",
       "      <td>25</td>\n",
       "      <td>0</td>\n",
       "      <td>0</td>\n",
       "      <td>0</td>\n",
       "      <td>0</td>\n",
       "      <td>0</td>\n",
       "    </tr>\n",
       "    <tr>\n",
       "      <th>Stein</th>\n",
       "      <td>0</td>\n",
       "      <td>18</td>\n",
       "      <td>4</td>\n",
       "      <td>0</td>\n",
       "      <td>0</td>\n",
       "      <td>0</td>\n",
       "      <td>0</td>\n",
       "      <td>0</td>\n",
       "    </tr>\n",
       "    <tr>\n",
       "      <th>McMullin</th>\n",
       "      <td>0</td>\n",
       "      <td>0</td>\n",
       "      <td>5</td>\n",
       "      <td>0</td>\n",
       "      <td>0</td>\n",
       "      <td>0</td>\n",
       "      <td>0</td>\n",
       "      <td>0</td>\n",
       "    </tr>\n",
       "    <tr>\n",
       "      <th>Other</th>\n",
       "      <td>0</td>\n",
       "      <td>13</td>\n",
       "      <td>23</td>\n",
       "      <td>0</td>\n",
       "      <td>0</td>\n",
       "      <td>0</td>\n",
       "      <td>0</td>\n",
       "      <td>0</td>\n",
       "    </tr>\n",
       "    <tr>\n",
       "      <th>Did not vote</th>\n",
       "      <td>0</td>\n",
       "      <td>3</td>\n",
       "      <td>4</td>\n",
       "      <td>0</td>\n",
       "      <td>0</td>\n",
       "      <td>0</td>\n",
       "      <td>0</td>\n",
       "      <td>0</td>\n",
       "    </tr>\n",
       "  </tbody>\n",
       "</table>\n",
       "</div>"
      ],
      "text/plain": [
       "              Pred None  Pred Clinton  Pred Trump  Pred Johnson  Pred Stein  \\\n",
       "None                  0            36          43             0           0   \n",
       "Clinton               0           397         312             0           0   \n",
       "Trump                 0           248         447             0           0   \n",
       "Johnson               0            21          25             0           0   \n",
       "Stein                 0            18           4             0           0   \n",
       "McMullin              0             0           5             0           0   \n",
       "Other                 0            13          23             0           0   \n",
       "Did not vote          0             3           4             0           0   \n",
       "\n",
       "              Pred McMullin  Pred Other  Pred Did Not Vote  \n",
       "None                      0           0                  0  \n",
       "Clinton                   0           0                  0  \n",
       "Trump                     1           0                  0  \n",
       "Johnson                   0           0                  0  \n",
       "Stein                     0           0                  0  \n",
       "McMullin                  0           0                  0  \n",
       "Other                     0           0                  0  \n",
       "Did not vote              0           0                  0  "
      ]
     },
     "execution_count": 39,
     "metadata": {},
     "output_type": "execute_result"
    }
   ],
   "source": [
    "cm = confusion_matrix(y_test, y_pred_test)\n",
    "conf_matrix = pd.DataFrame(cm, index=['None','Clinton','Trump','Johnson','Stein','McMullin','Other','Did not vote'], \n",
    "                           columns=['Pred None','Pred Clinton','Pred Trump','Pred Johnson','Pred Stein','Pred McMullin','Pred Other','Pred Did Not Vote'])\n",
    "\n",
    "\n",
    "conf_matrix"
   ]
  },
  {
   "cell_type": "code",
   "execution_count": 40,
   "metadata": {
    "ExecuteTime": {
     "end_time": "2019-11-23T13:26:45.127482Z",
     "start_time": "2019-11-23T13:26:45.116218Z"
    }
   },
   "outputs": [
    {
     "data": {
      "text/plain": [
       "0.5599435825105783"
      ]
     },
     "execution_count": 40,
     "metadata": {},
     "output_type": "execute_result"
    }
   ],
   "source": [
    "# correct Clinton\n",
    "correct = cm[1][1]\n",
    "total = sum(cm[1])\n",
    "pred_correct = correct/total\n",
    "pred_correct"
   ]
  },
  {
   "cell_type": "code",
   "execution_count": 41,
   "metadata": {
    "ExecuteTime": {
     "end_time": "2019-11-23T13:26:47.376113Z",
     "start_time": "2019-11-23T13:26:47.368187Z"
    }
   },
   "outputs": [
    {
     "data": {
      "text/plain": [
       "0.6422413793103449"
      ]
     },
     "execution_count": 41,
     "metadata": {},
     "output_type": "execute_result"
    }
   ],
   "source": [
    "# correct Trump\n",
    "correct = cm[2][2]\n",
    "total = sum(cm[2])\n",
    "pred_correct = correct/total\n",
    "pred_correct"
   ]
  },
  {
   "cell_type": "code",
   "execution_count": 42,
   "metadata": {
    "ExecuteTime": {
     "end_time": "2019-11-23T13:26:51.604602Z",
     "start_time": "2019-11-23T13:26:51.596125Z"
    }
   },
   "outputs": [
    {
     "data": {
      "text/plain": [
       "63"
      ]
     },
     "execution_count": 42,
     "metadata": {},
     "output_type": "execute_result"
    }
   ],
   "source": [
    "len(lr.coef_[1])"
   ]
  },
  {
   "cell_type": "code",
   "execution_count": 43,
   "metadata": {
    "ExecuteTime": {
     "end_time": "2019-11-23T13:26:55.052965Z",
     "start_time": "2019-11-23T13:26:55.039205Z"
    }
   },
   "outputs": [
    {
     "data": {
      "text/plain": [
       "{'CIVIC_PARTICIPATION_2016_0.0': -1.0939796693661126,\n",
       " 'CIVIC_PARTICIPATION_2016_1.0': 0.1884874528354243,\n",
       " 'CIVIC_PARTICIPATION_2016_2.0': 0.07748289787277968,\n",
       " 'CIVIC_PARTICIPATION_2016_3.0': -0.12372572986716132,\n",
       " 'CIVIC_PARTICIPATION_2016_4.0': 0.018270247174592656,\n",
       " 'CIVIC_PARTICIPATION_2016_5.0': 0.21271719972252864,\n",
       " 'CIVIC_PARTICIPATION_2016_6.0': 0.712325944804517,\n",
       " 'pew_churatd_2016_0.0': -0.23641730636937947,\n",
       " 'pew_churatd_2016_1.0': 0.17711238148400826,\n",
       " 'pew_churatd_2016_2.0': -0.3259391939696145,\n",
       " 'pew_churatd_2016_3.0': -0.11118475429706645,\n",
       " 'pew_churatd_2016_4.0': 0.03294058107133515,\n",
       " 'pew_churatd_2016_5.0': -0.04370400998534695,\n",
       " 'pew_churatd_2016_6.0': 0.04089867266552678,\n",
       " 'pew_churatd_2016_7.0': 0.4578719725770572,\n",
       " 'volunteer_baseline_0.0': 0.028717933478327386,\n",
       " 'volunteer_baseline_1.0': -0.4074725212984391,\n",
       " 'volunteer_baseline_2.0': 0.3703329309966392,\n",
       " 'volunteerf_baseline_0.0': 0.12460388008971919,\n",
       " 'volunteerf_baseline_1.0': 0.09407651679505613,\n",
       " 'volunteerf_baseline_2.0': -0.22710205370824316,\n",
       " 'volunteernum_baseline_0.0': 0.2997578954714883,\n",
       " 'volunteernum_baseline_1.0': 0.3207816451912679,\n",
       " 'volunteernum_baseline_2.0': 0.21835815378579385,\n",
       " 'volunteernum_baseline_3.0': -0.2001194616599248,\n",
       " 'volunteernum_baseline_4.0': 0.2288690121673277,\n",
       " 'volunteernum_baseline_5.0': -0.842258133288442,\n",
       " 'volunteernum_baseline_6.0': -0.3054331607550427,\n",
       " 'volunteernum_baseline_7.0': 0.27162239226407753,\n",
       " 'volunteerorg2_1_baseline_1': -0.15851766924999156,\n",
       " 'volunteerorg2_1_baseline_2': 0.15009601242653303,\n",
       " 'volunteerorg2_2_baseline_1': -0.08923170472977834,\n",
       " 'volunteerorg2_2_baseline_2': 0.08081004790631031,\n",
       " 'volunteerorg2_3_baseline_1': 0.20901963140673638,\n",
       " 'volunteerorg2_3_baseline_2': -0.21744128823020592,\n",
       " 'volunteerorg2_4_baseline_1': 0.14811592593410627,\n",
       " 'volunteerorg2_4_baseline_2': -0.15653758275756383,\n",
       " 'volunteerorg2_5_baseline_1': -0.1241055879779946,\n",
       " 'volunteerorg2_5_baseline_2': 0.1156839311545349,\n",
       " 'volunteerorg2_6_baseline_1': -0.17202004969927545,\n",
       " 'volunteerorg2_6_baseline_2': 0.16359839287579933,\n",
       " 'volunteerorg2_7_baseline_1': -0.05609954180045039,\n",
       " 'volunteerorg2_7_baseline_2': 0.0476778849769815,\n",
       " 'volunteerorg2_8_baseline_1': -0.3938843594596076,\n",
       " 'volunteerorg2_8_baseline_2': 0.38546270263614335,\n",
       " 'volunteerorg2_9_baseline_1': -0.011750224733236421,\n",
       " 'volunteerorg2_9_baseline_2': 0.003328567909769691,\n",
       " 'volunteerorg2_10_baseline_1': -0.2156532225247373,\n",
       " 'volunteerorg2_10_baseline_2': 0.20723156570127982,\n",
       " 'volunteerorg2_11_baseline_1': -0.08642183940935201,\n",
       " 'volunteerorg2_11_baseline_2': 0.07800018258589039,\n",
       " 'volunteerorg2_12_baseline_1': -0.04270576122162695,\n",
       " 'volunteerorg2_12_baseline_2': 0.03428410439815943,\n",
       " 'volunteerorg2_13_baseline_1': -0.7509661298447106,\n",
       " 'volunteerorg2_13_baseline_2': 0.7425444730212144,\n",
       " 'volunteerorg2_14_baseline_1': 0.0567516484983,\n",
       " 'volunteerorg2_14_baseline_2': -0.06517330532176233,\n",
       " 'volunteerorg2_15_baseline_1': -0.13659605826374688,\n",
       " 'volunteerorg2_15_baseline_2': 0.12817440144029046,\n",
       " 'volunteerorg2_16_baseline_1': -0.163140719076495,\n",
       " 'volunteerorg2_16_baseline_2': 0.15471906225303644,\n",
       " 'volunteerorg2_17_baseline_1': 0.1366630398256184,\n",
       " 'volunteerorg2_17_baseline_2': -0.14508469664909332}"
      ]
     },
     "execution_count": 43,
     "metadata": {},
     "output_type": "execute_result"
    }
   ],
   "source": [
    "coef_dict = dict(zip(X.columns, lr.coef_[0]))\n",
    "coef_dict"
   ]
  },
  {
   "cell_type": "markdown",
   "metadata": {},
   "source": [
    "## Feature importance"
   ]
  },
  {
   "cell_type": "code",
   "execution_count": 44,
   "metadata": {
    "ExecuteTime": {
     "end_time": "2019-11-23T13:28:42.738765Z",
     "start_time": "2019-11-23T13:26:58.711565Z"
    }
   },
   "outputs": [],
   "source": [
    "from sklearn.feature_selection import RFE\n",
    "predictors = X_train\n",
    "selector = RFE(lr, n_features_to_select=1)\n",
    "selector = selector.fit(predictors, y_train)"
   ]
  },
  {
   "cell_type": "code",
   "execution_count": 45,
   "metadata": {
    "ExecuteTime": {
     "end_time": "2019-11-23T13:28:42.750142Z",
     "start_time": "2019-11-23T13:28:42.741419Z"
    }
   },
   "outputs": [
    {
     "data": {
      "text/plain": [
       "63"
      ]
     },
     "execution_count": 45,
     "metadata": {},
     "output_type": "execute_result"
    }
   ],
   "source": [
    "len(X_train.columns)"
   ]
  },
  {
   "cell_type": "code",
   "execution_count": 46,
   "metadata": {
    "ExecuteTime": {
     "end_time": "2019-11-23T13:28:42.778346Z",
     "start_time": "2019-11-23T13:28:42.756787Z"
    }
   },
   "outputs": [
    {
     "data": {
      "text/plain": [
       "array([12, 58, 60, 43, 41, 56, 30, 45, 19, 20, 26,  9, 44,  2,  1, 62, 13,\n",
       "       46, 55, 37, 50, 52, 53, 54, 33,  6,  5, 16, 14, 57, 38, 61, 63, 23,\n",
       "       40, 15, 34, 49, 29,  7, 27, 39, 18, 48, 25, 42, 22, 31, 10, 47, 32,\n",
       "        4, 17,  3, 21, 24,  8, 11, 35, 28, 51, 36, 59])"
      ]
     },
     "execution_count": 46,
     "metadata": {},
     "output_type": "execute_result"
    }
   ],
   "source": [
    "order = selector.ranking_\n",
    "len(order)\n",
    "order"
   ]
  },
  {
   "cell_type": "code",
   "execution_count": 47,
   "metadata": {
    "ExecuteTime": {
     "end_time": "2019-11-23T13:28:42.799068Z",
     "start_time": "2019-11-23T13:28:42.782396Z"
    }
   },
   "outputs": [
    {
     "data": {
      "text/plain": [
       "Index(['CIVIC_PARTICIPATION_2016_0.0', 'CIVIC_PARTICIPATION_2016_1.0',\n",
       "       'CIVIC_PARTICIPATION_2016_2.0', 'CIVIC_PARTICIPATION_2016_3.0',\n",
       "       'CIVIC_PARTICIPATION_2016_4.0', 'CIVIC_PARTICIPATION_2016_5.0',\n",
       "       'CIVIC_PARTICIPATION_2016_6.0', 'pew_churatd_2016_0.0',\n",
       "       'pew_churatd_2016_1.0', 'pew_churatd_2016_2.0', 'pew_churatd_2016_3.0',\n",
       "       'pew_churatd_2016_4.0', 'pew_churatd_2016_5.0', 'pew_churatd_2016_6.0',\n",
       "       'pew_churatd_2016_7.0', 'volunteer_baseline_0.0',\n",
       "       'volunteer_baseline_1.0', 'volunteer_baseline_2.0',\n",
       "       'volunteerf_baseline_0.0', 'volunteerf_baseline_1.0',\n",
       "       'volunteerf_baseline_2.0', 'volunteernum_baseline_0.0',\n",
       "       'volunteernum_baseline_1.0', 'volunteernum_baseline_2.0',\n",
       "       'volunteernum_baseline_3.0', 'volunteernum_baseline_4.0',\n",
       "       'volunteernum_baseline_5.0', 'volunteernum_baseline_6.0',\n",
       "       'volunteernum_baseline_7.0', 'volunteerorg2_1_baseline_1',\n",
       "       'volunteerorg2_1_baseline_2', 'volunteerorg2_2_baseline_1',\n",
       "       'volunteerorg2_2_baseline_2', 'volunteerorg2_3_baseline_1',\n",
       "       'volunteerorg2_3_baseline_2', 'volunteerorg2_4_baseline_1',\n",
       "       'volunteerorg2_4_baseline_2', 'volunteerorg2_5_baseline_1',\n",
       "       'volunteerorg2_5_baseline_2', 'volunteerorg2_6_baseline_1',\n",
       "       'volunteerorg2_6_baseline_2', 'volunteerorg2_7_baseline_1',\n",
       "       'volunteerorg2_7_baseline_2', 'volunteerorg2_8_baseline_1',\n",
       "       'volunteerorg2_8_baseline_2', 'volunteerorg2_9_baseline_1',\n",
       "       'volunteerorg2_9_baseline_2', 'volunteerorg2_10_baseline_1',\n",
       "       'volunteerorg2_10_baseline_2', 'volunteerorg2_11_baseline_1',\n",
       "       'volunteerorg2_11_baseline_2', 'volunteerorg2_12_baseline_1',\n",
       "       'volunteerorg2_12_baseline_2', 'volunteerorg2_13_baseline_1',\n",
       "       'volunteerorg2_13_baseline_2', 'volunteerorg2_14_baseline_1',\n",
       "       'volunteerorg2_14_baseline_2', 'volunteerorg2_15_baseline_1',\n",
       "       'volunteerorg2_15_baseline_2', 'volunteerorg2_16_baseline_1',\n",
       "       'volunteerorg2_16_baseline_2', 'volunteerorg2_17_baseline_1',\n",
       "       'volunteerorg2_17_baseline_2'],\n",
       "      dtype='object')"
      ]
     },
     "execution_count": 47,
     "metadata": {},
     "output_type": "execute_result"
    }
   ],
   "source": [
    "df_predictors.columns"
   ]
  },
  {
   "cell_type": "code",
   "execution_count": 48,
   "metadata": {
    "ExecuteTime": {
     "end_time": "2019-11-23T13:28:46.950047Z",
     "start_time": "2019-11-23T13:28:42.804941Z"
    }
   },
   "outputs": [],
   "source": [
    "for i in df_predictors.index:\n",
    "    rank = np.array(order)\n",
    "    feat = np.array(df_predictors.columns)\n",
    "    rank_feat = pd.DataFrame(rank,feat, columns=['rank'])"
   ]
  },
  {
   "cell_type": "code",
   "execution_count": 52,
   "metadata": {
    "ExecuteTime": {
     "end_time": "2019-11-23T13:29:30.624770Z",
     "start_time": "2019-11-23T13:29:30.608018Z"
    }
   },
   "outputs": [
    {
     "data": {
      "text/html": [
       "<div>\n",
       "<style scoped>\n",
       "    .dataframe tbody tr th:only-of-type {\n",
       "        vertical-align: middle;\n",
       "    }\n",
       "\n",
       "    .dataframe tbody tr th {\n",
       "        vertical-align: top;\n",
       "    }\n",
       "\n",
       "    .dataframe thead th {\n",
       "        text-align: right;\n",
       "    }\n",
       "</style>\n",
       "<table border=\"1\" class=\"dataframe\">\n",
       "  <thead>\n",
       "    <tr style=\"text-align: right;\">\n",
       "      <th></th>\n",
       "      <th>rank</th>\n",
       "    </tr>\n",
       "  </thead>\n",
       "  <tbody>\n",
       "    <tr>\n",
       "      <th>pew_churatd_2016_7.0</th>\n",
       "      <td>1</td>\n",
       "    </tr>\n",
       "    <tr>\n",
       "      <th>pew_churatd_2016_6.0</th>\n",
       "      <td>2</td>\n",
       "    </tr>\n",
       "    <tr>\n",
       "      <th>volunteerorg2_13_baseline_1</th>\n",
       "      <td>3</td>\n",
       "    </tr>\n",
       "    <tr>\n",
       "      <th>volunteerorg2_12_baseline_1</th>\n",
       "      <td>4</td>\n",
       "    </tr>\n",
       "    <tr>\n",
       "      <th>volunteernum_baseline_5.0</th>\n",
       "      <td>5</td>\n",
       "    </tr>\n",
       "    <tr>\n",
       "      <th>volunteernum_baseline_4.0</th>\n",
       "      <td>6</td>\n",
       "    </tr>\n",
       "    <tr>\n",
       "      <th>volunteerorg2_6_baseline_1</th>\n",
       "      <td>7</td>\n",
       "    </tr>\n",
       "    <tr>\n",
       "      <th>volunteerorg2_14_baseline_2</th>\n",
       "      <td>8</td>\n",
       "    </tr>\n",
       "    <tr>\n",
       "      <th>pew_churatd_2016_4.0</th>\n",
       "      <td>9</td>\n",
       "    </tr>\n",
       "    <tr>\n",
       "      <th>volunteerorg2_10_baseline_2</th>\n",
       "      <td>10</td>\n",
       "    </tr>\n",
       "  </tbody>\n",
       "</table>\n",
       "</div>"
      ],
      "text/plain": [
       "                             rank\n",
       "pew_churatd_2016_7.0            1\n",
       "pew_churatd_2016_6.0            2\n",
       "volunteerorg2_13_baseline_1     3\n",
       "volunteerorg2_12_baseline_1     4\n",
       "volunteernum_baseline_5.0       5\n",
       "volunteernum_baseline_4.0       6\n",
       "volunteerorg2_6_baseline_1      7\n",
       "volunteerorg2_14_baseline_2     8\n",
       "pew_churatd_2016_4.0            9\n",
       "volunteerorg2_10_baseline_2    10"
      ]
     },
     "execution_count": 52,
     "metadata": {},
     "output_type": "execute_result"
    }
   ],
   "source": [
    "rank_feat.sort_values(by='rank').head(10)"
   ]
  },
  {
   "cell_type": "markdown",
   "metadata": {},
   "source": [
    "## Cross-validation"
   ]
  },
  {
   "cell_type": "code",
   "execution_count": 50,
   "metadata": {
    "ExecuteTime": {
     "end_time": "2019-11-23T13:28:46.980002Z",
     "start_time": "2019-11-23T13:28:46.970951Z"
    }
   },
   "outputs": [],
   "source": [
    "from sklearn.model_selection import cross_val_score"
   ]
  },
  {
   "cell_type": "code",
   "execution_count": 53,
   "metadata": {
    "ExecuteTime": {
     "end_time": "2019-11-23T13:29:53.048189Z",
     "start_time": "2019-11-23T13:29:53.025357Z"
    }
   },
   "outputs": [
    {
     "data": {
      "text/plain": [
       "False"
      ]
     },
     "execution_count": 53,
     "metadata": {},
     "output_type": "execute_result"
    }
   ],
   "source": [
    "X.isna().sum().any()"
   ]
  },
  {
   "cell_type": "code",
   "execution_count": 54,
   "metadata": {
    "ExecuteTime": {
     "end_time": "2019-11-23T13:29:53.647560Z",
     "start_time": "2019-11-23T13:29:53.641410Z"
    }
   },
   "outputs": [
    {
     "data": {
      "text/plain": [
       "(8000,)"
      ]
     },
     "execution_count": 54,
     "metadata": {},
     "output_type": "execute_result"
    }
   ],
   "source": [
    "y = np.ravel(y)\n",
    "y.shape"
   ]
  },
  {
   "cell_type": "code",
   "execution_count": 55,
   "metadata": {
    "ExecuteTime": {
     "end_time": "2019-11-23T13:30:10.182636Z",
     "start_time": "2019-11-23T13:29:54.253832Z"
    }
   },
   "outputs": [],
   "source": [
    "scores = cross_val_score(lr, X, y, cv=5)"
   ]
  },
  {
   "cell_type": "code",
   "execution_count": 56,
   "metadata": {
    "ExecuteTime": {
     "end_time": "2019-11-23T13:30:10.197882Z",
     "start_time": "2019-11-23T13:30:10.185272Z"
    }
   },
   "outputs": [
    {
     "data": {
      "text/plain": [
       "array([0.57267623, 0.51685393, 0.53625   , 0.54409006, 0.52756892])"
      ]
     },
     "execution_count": 56,
     "metadata": {},
     "output_type": "execute_result"
    }
   ],
   "source": [
    "scores"
   ]
  },
  {
   "cell_type": "markdown",
   "metadata": {},
   "source": [
    "## Random forest"
   ]
  },
  {
   "cell_type": "code",
   "execution_count": 57,
   "metadata": {
    "ExecuteTime": {
     "end_time": "2019-11-23T13:30:15.699618Z",
     "start_time": "2019-11-23T13:30:15.648871Z"
    }
   },
   "outputs": [],
   "source": [
    "from sklearn.ensemble import RandomForestClassifier\n",
    "from sklearn.metrics import accuracy_score"
   ]
  },
  {
   "cell_type": "code",
   "execution_count": 58,
   "metadata": {
    "ExecuteTime": {
     "end_time": "2019-11-23T13:30:16.066775Z",
     "start_time": "2019-11-23T13:30:15.925000Z"
    }
   },
   "outputs": [
    {
     "name": "stderr",
     "output_type": "stream",
     "text": [
      "/Users/alyssaliguori/anaconda3/lib/python3.7/site-packages/sklearn/ensemble/forest.py:245: FutureWarning: The default value of n_estimators will change from 10 in version 0.20 to 100 in 0.22.\n",
      "  \"10 in version 0.20 to 100 in 0.22.\", FutureWarning)\n"
     ]
    }
   ],
   "source": [
    "rf = RandomForestClassifier()\n",
    "rf.fit(X_train, y_train)\n",
    "y_pred_test = rf.predict(X_test)\n",
    "score = accuracy_score(y_test, y_pred_test)"
   ]
  },
  {
   "cell_type": "code",
   "execution_count": 59,
   "metadata": {
    "ExecuteTime": {
     "end_time": "2019-11-23T13:30:16.186802Z",
     "start_time": "2019-11-23T13:30:16.180562Z"
    }
   },
   "outputs": [
    {
     "data": {
      "text/plain": [
       "0.5125"
      ]
     },
     "execution_count": 59,
     "metadata": {},
     "output_type": "execute_result"
    }
   ],
   "source": [
    "score"
   ]
  },
  {
   "cell_type": "code",
   "execution_count": 60,
   "metadata": {
    "ExecuteTime": {
     "end_time": "2019-11-23T13:30:16.935642Z",
     "start_time": "2019-11-23T13:30:16.436554Z"
    }
   },
   "outputs": [],
   "source": [
    "scores = cross_val_score(rf, X, y, cv=5)"
   ]
  },
  {
   "cell_type": "code",
   "execution_count": 61,
   "metadata": {
    "ExecuteTime": {
     "end_time": "2019-11-23T13:30:17.073361Z",
     "start_time": "2019-11-23T13:30:17.065619Z"
    }
   },
   "outputs": [
    {
     "data": {
      "text/plain": [
       "array([0.54335621, 0.50811486, 0.5025    , 0.49718574, 0.4962406 ])"
      ]
     },
     "execution_count": 61,
     "metadata": {},
     "output_type": "execute_result"
    }
   ],
   "source": [
    "scores"
   ]
  },
  {
   "cell_type": "code",
   "execution_count": 62,
   "metadata": {
    "ExecuteTime": {
     "end_time": "2019-11-23T13:30:17.340774Z",
     "start_time": "2019-11-23T13:30:17.335743Z"
    }
   },
   "outputs": [],
   "source": [
    "from sklearn.neighbors import KNeighborsClassifier"
   ]
  },
  {
   "cell_type": "code",
   "execution_count": 63,
   "metadata": {
    "ExecuteTime": {
     "end_time": "2019-11-23T13:30:23.466633Z",
     "start_time": "2019-11-23T13:30:17.556243Z"
    }
   },
   "outputs": [
    {
     "data": {
      "text/plain": [
       "array([0.4959451 , 0.48564295, 0.513125  , 0.48968105, 0.5       ])"
      ]
     },
     "execution_count": 63,
     "metadata": {},
     "output_type": "execute_result"
    }
   ],
   "source": [
    "knn = KNeighborsClassifier()\n",
    "scores = cross_val_score(knn, X, y, cv=5)\n",
    "scores"
   ]
  },
  {
   "cell_type": "code",
   "execution_count": 64,
   "metadata": {
    "ExecuteTime": {
     "end_time": "2019-11-23T13:30:23.476256Z",
     "start_time": "2019-11-23T13:30:23.469792Z"
    }
   },
   "outputs": [],
   "source": [
    "from sklearn.svm import SVC"
   ]
  },
  {
   "cell_type": "code",
   "execution_count": 65,
   "metadata": {
    "ExecuteTime": {
     "end_time": "2019-11-23T13:30:30.078260Z",
     "start_time": "2019-11-23T13:30:23.484889Z"
    }
   },
   "outputs": [
    {
     "data": {
      "text/plain": [
       "0.51875"
      ]
     },
     "execution_count": 65,
     "metadata": {},
     "output_type": "execute_result"
    }
   ],
   "source": [
    "svm = SVC(kernel='linear')\n",
    "svm.fit(X_train, y_train)\n",
    "y_pred_test = svm.predict(X_test)\n",
    "score = accuracy_score(y_test, y_pred_test)\n",
    "score"
   ]
  },
  {
   "cell_type": "code",
   "execution_count": null,
   "metadata": {
    "ExecuteTime": {
     "start_time": "2019-11-23T13:30:18.391Z"
    }
   },
   "outputs": [],
   "source": [
    "scores = cross_val_score(svm, X, y, cv=5)\n",
    "scores"
   ]
  },
  {
   "cell_type": "code",
   "execution_count": null,
   "metadata": {
    "ExecuteTime": {
     "start_time": "2019-11-23T13:30:18.574Z"
    }
   },
   "outputs": [],
   "source": [
    "svm = SVC(kernel='linear', class_weight='balanced')\n",
    "svm.fit(X_train, y_train)\n",
    "y_pred_test = svm.predict(X_test)\n",
    "score = accuracy_score(y_test, y_pred_test)\n",
    "score"
   ]
  },
  {
   "cell_type": "code",
   "execution_count": null,
   "metadata": {},
   "outputs": [],
   "source": []
  }
 ],
 "metadata": {
  "kernelspec": {
   "display_name": "Python 3",
   "language": "python",
   "name": "python3"
  },
  "language_info": {
   "codemirror_mode": {
    "name": "ipython",
    "version": 3
   },
   "file_extension": ".py",
   "mimetype": "text/x-python",
   "name": "python",
   "nbconvert_exporter": "python",
   "pygments_lexer": "ipython3",
   "version": "3.7.3"
  },
  "toc": {
   "base_numbering": 1,
   "nav_menu": {},
   "number_sections": true,
   "sideBar": true,
   "skip_h1_title": false,
   "title_cell": "Table of Contents",
   "title_sidebar": "Contents",
   "toc_cell": false,
   "toc_position": {},
   "toc_section_display": true,
   "toc_window_display": false
  }
 },
 "nbformat": 4,
 "nbformat_minor": 2
}
