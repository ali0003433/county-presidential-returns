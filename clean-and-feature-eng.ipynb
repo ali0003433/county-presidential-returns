{
 "cells": [
  {
   "cell_type": "markdown",
   "metadata": {},
   "source": [
    "## Data cleaning and feature engineering"
   ]
  },
  {
   "cell_type": "code",
   "execution_count": 1,
   "metadata": {
    "ExecuteTime": {
     "end_time": "2019-11-22T16:50:49.076931Z",
     "start_time": "2019-11-22T16:50:46.796216Z"
    }
   },
   "outputs": [],
   "source": [
    "import numpy as np\n",
    "import pandas as pd\n",
    "import seaborn as sns\n",
    "import re\n",
    "import matplotlib.pyplot as plt"
   ]
  },
  {
   "cell_type": "code",
   "execution_count": 2,
   "metadata": {
    "ExecuteTime": {
     "end_time": "2019-11-22T16:50:50.907259Z",
     "start_time": "2019-11-22T16:50:49.080765Z"
    }
   },
   "outputs": [],
   "source": [
    "df = pd.read_csv('data/voter-survey-december16.csv')"
   ]
  },
  {
   "cell_type": "code",
   "execution_count": 12,
   "metadata": {
    "ExecuteTime": {
     "end_time": "2019-11-22T16:55:12.312629Z",
     "start_time": "2019-11-22T16:55:12.294104Z"
    }
   },
   "outputs": [
    {
     "data": {
      "text/plain": [
       "['imiss_a_2016',\n",
       " 'imiss_b_2016',\n",
       " 'imiss_c_2016',\n",
       " 'imiss_d_2016',\n",
       " 'imiss_e_2016',\n",
       " 'imiss_f_2016',\n",
       " 'imiss_g_2016',\n",
       " 'imiss_h_2016',\n",
       " 'imiss_i_2016',\n",
       " 'imiss_j_2016',\n",
       " 'imiss_k_2016',\n",
       " 'imiss_l_2016',\n",
       " 'imiss_m_2016',\n",
       " 'imiss_n_2016',\n",
       " 'imiss_o_2016',\n",
       " 'imiss_p_2016',\n",
       " 'imiss_q_2016',\n",
       " 'imiss_r_2016',\n",
       " 'imiss_s_2016',\n",
       " 'imiss_t_2016',\n",
       " 'imiss_u_2016',\n",
       " 'imiss_x_2016',\n",
       " 'imiss_y_2016']"
      ]
     },
     "execution_count": 12,
     "metadata": {},
     "output_type": "execute_result"
    }
   ],
   "source": [
    "pattern = '(imiss_).{1}(_2016)'\n",
    "def return_imiss_cols(df):\n",
    "    imiss_cols = []\n",
    "    for col in df.columns:\n",
    "        if re.search(pattern, col):\n",
    "            imiss_cols.append(col)\n",
    "    return imiss_cols\n",
    "\n",
    "imiss_col_list = return_imiss_cols(df)\n",
    "\n",
    "target_col_list = 'presvote16post_2016', ''\n",
    "        "
   ]
  },
  {
   "cell_type": "code",
   "execution_count": null,
   "metadata": {
    "ExecuteTime": {
     "end_time": "2019-11-22T15:03:05.734336Z",
     "start_time": "2019-11-22T15:03:05.611609Z"
    }
   },
   "outputs": [],
   "source": [
    "cols = ['presvote16post_2016', 'imiss_u_2016', 'weight']\n",
    "df = df[cols]\n",
    "df = df.fillna(0)\n",
    "# convert all categorical cols to strings for dummy encoding\n",
    "df.imiss_u_2016 = df.imiss_u_2016.astype(str)\n",
    "df = pd.get_dummies(df)"
   ]
  },
  {
   "cell_type": "code",
   "execution_count": null,
   "metadata": {
    "ExecuteTime": {
     "end_time": "2019-11-22T15:03:05.858857Z",
     "start_time": "2019-11-22T15:03:05.831271Z"
    }
   },
   "outputs": [],
   "source": [
    "df.corr()['presvote16post_2016']"
   ]
  }
 ],
 "metadata": {
  "kernelspec": {
   "display_name": "Python 3",
   "language": "python",
   "name": "python3"
  },
  "language_info": {
   "codemirror_mode": {
    "name": "ipython",
    "version": 3
   },
   "file_extension": ".py",
   "mimetype": "text/x-python",
   "name": "python",
   "nbconvert_exporter": "python",
   "pygments_lexer": "ipython3",
   "version": "3.7.3"
  },
  "toc": {
   "base_numbering": 1,
   "nav_menu": {},
   "number_sections": true,
   "sideBar": true,
   "skip_h1_title": false,
   "title_cell": "Table of Contents",
   "title_sidebar": "Contents",
   "toc_cell": false,
   "toc_position": {},
   "toc_section_display": true,
   "toc_window_display": false
  }
 },
 "nbformat": 4,
 "nbformat_minor": 2
}
