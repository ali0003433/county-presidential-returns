{
 "cells": [
  {
   "cell_type": "markdown",
   "metadata": {},
   "source": [
    "## Data cleaning, feature engineering, and modeling"
   ]
  },
  {
   "cell_type": "code",
   "execution_count": 1,
   "metadata": {
    "ExecuteTime": {
     "end_time": "2019-11-23T00:15:07.246168Z",
     "start_time": "2019-11-23T00:15:04.882645Z"
    }
   },
   "outputs": [],
   "source": [
    "import numpy as np\n",
    "import pandas as pd\n",
    "import seaborn as sns\n",
    "import re\n",
    "import matplotlib.pyplot as plt"
   ]
  },
  {
   "cell_type": "code",
   "execution_count": 2,
   "metadata": {
    "ExecuteTime": {
     "end_time": "2019-11-23T00:15:08.758554Z",
     "start_time": "2019-11-23T00:15:07.261221Z"
    }
   },
   "outputs": [],
   "source": [
    "df = pd.read_csv('data/voter-survey-december16.csv')"
   ]
  },
  {
   "cell_type": "code",
   "execution_count": 3,
   "metadata": {
    "ExecuteTime": {
     "end_time": "2019-11-23T00:15:08.777612Z",
     "start_time": "2019-11-23T00:15:08.765886Z"
    }
   },
   "outputs": [],
   "source": [
    "pattern = '(imiss_).{1}(_2016)'\n",
    "def return_imiss_cols(df):\n",
    "    imiss_cols = []\n",
    "    for col in df.columns:\n",
    "        if re.search(pattern, col):\n",
    "            imiss_cols.append(col)\n",
    "    return imiss_cols\n",
    "\n",
    "# issue column list\n",
    "imiss_col_list = return_imiss_cols(df)"
   ]
  },
  {
   "cell_type": "code",
   "execution_count": 4,
   "metadata": {
    "ExecuteTime": {
     "end_time": "2019-11-23T00:15:08.791290Z",
     "start_time": "2019-11-23T00:15:08.781091Z"
    }
   },
   "outputs": [],
   "source": [
    "# target column list  \n",
    "target_col_list = ['presvote16post_2016']\n",
    "df_target = df[target_col_list]"
   ]
  },
  {
   "cell_type": "code",
   "execution_count": 5,
   "metadata": {
    "ExecuteTime": {
     "end_time": "2019-11-23T00:15:08.823383Z",
     "start_time": "2019-11-23T00:15:08.794912Z"
    }
   },
   "outputs": [
    {
     "data": {
      "text/plain": [
       "1.0    5947\n",
       "2.0    1688\n",
       "3.0     181\n",
       "0.0     127\n",
       "4.0      57\n",
       "Name: imiss_j_2016, dtype: int64"
      ]
     },
     "execution_count": 5,
     "metadata": {},
     "output_type": "execute_result"
    }
   ],
   "source": [
    "df_issue = df[imiss_col_list].fillna(0)\n",
    "df_issue['imiss_j_2016'].value_counts()#.isna().sum()"
   ]
  },
  {
   "cell_type": "code",
   "execution_count": 6,
   "metadata": {
    "ExecuteTime": {
     "end_time": "2019-11-23T00:15:08.940311Z",
     "start_time": "2019-11-23T00:15:08.831601Z"
    }
   },
   "outputs": [],
   "source": [
    "df_issue = df_issue.astype(str)\n",
    "df_issue = df_issue.join(df_target)"
   ]
  },
  {
   "cell_type": "code",
   "execution_count": 7,
   "metadata": {
    "ExecuteTime": {
     "end_time": "2019-11-23T00:15:09.026297Z",
     "start_time": "2019-11-23T00:15:08.944054Z"
    }
   },
   "outputs": [],
   "source": [
    "df_dummies = pd.get_dummies(df_issue)"
   ]
  },
  {
   "cell_type": "code",
   "execution_count": 8,
   "metadata": {
    "ExecuteTime": {
     "end_time": "2019-11-23T00:15:09.293284Z",
     "start_time": "2019-11-23T00:15:09.041760Z"
    }
   },
   "outputs": [
    {
     "data": {
      "text/plain": [
       "presvote16post_2016    1.000000\n",
       "imiss_l_2016_1.0       0.304989\n",
       "imiss_d_2016_1.0       0.286253\n",
       "imiss_y_2016_1.0       0.267083\n",
       "imiss_u_2016_1.0       0.254038\n",
       "imiss_x_2016_1.0       0.240264\n",
       "imiss_g_2016_1.0       0.230016\n",
       "imiss_p_2016_1.0       0.226241\n",
       "imiss_l_2016_4.0       0.212959\n",
       "imiss_u_2016_3.0       0.192896\n",
       "imiss_q_2016_1.0       0.185467\n",
       "imiss_g_2016_4.0       0.182592\n",
       "imiss_d_2016_3.0       0.179266\n",
       "imiss_l_2016_3.0       0.178131\n",
       "imiss_y_2016_4.0       0.176428\n",
       "imiss_p_2016_3.0       0.155080\n",
       "imiss_y_2016_3.0       0.153542\n",
       "imiss_j_2016_1.0       0.147418\n",
       "imiss_x_2016_3.0       0.144682\n",
       "imiss_i_2016_1.0       0.140380\n",
       "imiss_f_2016_1.0       0.137812\n",
       "imiss_s_2016_1.0       0.135825\n",
       "imiss_i_2016_3.0       0.135604\n",
       "imiss_k_2016_1.0       0.133861\n",
       "imiss_r_2016_1.0       0.132862\n",
       "imiss_h_2016_1.0       0.129626\n",
       "imiss_x_2016_4.0       0.123174\n",
       "imiss_q_2016_3.0       0.120913\n",
       "imiss_i_2016_4.0       0.120097\n",
       "imiss_e_2016_1.0       0.119690\n",
       "                         ...   \n",
       "imiss_r_2016_4.0       0.019569\n",
       "imiss_m_2016_0.0       0.018127\n",
       "imiss_r_2016_0.0       0.018078\n",
       "imiss_l_2016_2.0       0.015773\n",
       "imiss_b_2016_3.0       0.015637\n",
       "imiss_t_2016_3.0       0.014887\n",
       "imiss_q_2016_0.0       0.014776\n",
       "imiss_o_2016_0.0       0.013943\n",
       "imiss_s_2016_0.0       0.013816\n",
       "imiss_e_2016_0.0       0.012039\n",
       "imiss_f_2016_0.0       0.011371\n",
       "imiss_f_2016_4.0       0.011195\n",
       "imiss_y_2016_2.0       0.011033\n",
       "imiss_x_2016_0.0       0.010416\n",
       "imiss_k_2016_0.0       0.010204\n",
       "imiss_t_2016_4.0       0.010117\n",
       "imiss_t_2016_0.0       0.009895\n",
       "imiss_c_2016_0.0       0.009744\n",
       "imiss_g_2016_0.0       0.007945\n",
       "imiss_l_2016_0.0       0.007425\n",
       "imiss_b_2016_4.0       0.007184\n",
       "imiss_d_2016_0.0       0.006467\n",
       "imiss_t_2016_1.0       0.006144\n",
       "imiss_a_2016_4.0       0.005277\n",
       "imiss_y_2016_0.0       0.005057\n",
       "imiss_j_2016_0.0       0.005016\n",
       "imiss_p_2016_0.0       0.004494\n",
       "imiss_o_2016_3.0       0.003753\n",
       "imiss_u_2016_0.0       0.003441\n",
       "imiss_a_2016_0.0       0.001411\n",
       "Name: presvote16post_2016, Length: 116, dtype: float64"
      ]
     },
     "execution_count": 8,
     "metadata": {},
     "output_type": "execute_result"
    }
   ],
   "source": [
    "df_dummies.corr()['presvote16post_2016'].abs().sort_values(ascending=False)"
   ]
  },
  {
   "cell_type": "code",
   "execution_count": 9,
   "metadata": {
    "ExecuteTime": {
     "end_time": "2019-11-23T00:15:09.310830Z",
     "start_time": "2019-11-23T00:15:09.298277Z"
    }
   },
   "outputs": [
    {
     "data": {
      "text/plain": [
       "(8000, 116)"
      ]
     },
     "execution_count": 9,
     "metadata": {},
     "output_type": "execute_result"
    }
   ],
   "source": [
    "df_dummies.shape"
   ]
  },
  {
   "cell_type": "code",
   "execution_count": 10,
   "metadata": {
    "ExecuteTime": {
     "end_time": "2019-11-23T00:15:09.331592Z",
     "start_time": "2019-11-23T00:15:09.317454Z"
    }
   },
   "outputs": [],
   "source": [
    "df_predictors = df_dummies.drop('presvote16post_2016', axis=1)"
   ]
  },
  {
   "cell_type": "code",
   "execution_count": 11,
   "metadata": {
    "ExecuteTime": {
     "end_time": "2019-11-23T00:15:09.415206Z",
     "start_time": "2019-11-23T00:15:09.337994Z"
    }
   },
   "outputs": [
    {
     "data": {
      "text/html": [
       "<div>\n",
       "<style scoped>\n",
       "    .dataframe tbody tr th:only-of-type {\n",
       "        vertical-align: middle;\n",
       "    }\n",
       "\n",
       "    .dataframe tbody tr th {\n",
       "        vertical-align: top;\n",
       "    }\n",
       "\n",
       "    .dataframe thead th {\n",
       "        text-align: right;\n",
       "    }\n",
       "</style>\n",
       "<table border=\"1\" class=\"dataframe\">\n",
       "  <thead>\n",
       "    <tr style=\"text-align: right;\">\n",
       "      <th></th>\n",
       "      <th>imiss_a_2016_0.0</th>\n",
       "      <th>imiss_a_2016_1.0</th>\n",
       "      <th>imiss_a_2016_2.0</th>\n",
       "      <th>imiss_a_2016_3.0</th>\n",
       "      <th>imiss_a_2016_4.0</th>\n",
       "      <th>imiss_b_2016_0.0</th>\n",
       "      <th>imiss_b_2016_1.0</th>\n",
       "      <th>imiss_b_2016_2.0</th>\n",
       "      <th>imiss_b_2016_3.0</th>\n",
       "      <th>imiss_b_2016_4.0</th>\n",
       "      <th>...</th>\n",
       "      <th>imiss_x_2016_0.0</th>\n",
       "      <th>imiss_x_2016_1.0</th>\n",
       "      <th>imiss_x_2016_2.0</th>\n",
       "      <th>imiss_x_2016_3.0</th>\n",
       "      <th>imiss_x_2016_4.0</th>\n",
       "      <th>imiss_y_2016_0.0</th>\n",
       "      <th>imiss_y_2016_1.0</th>\n",
       "      <th>imiss_y_2016_2.0</th>\n",
       "      <th>imiss_y_2016_3.0</th>\n",
       "      <th>imiss_y_2016_4.0</th>\n",
       "    </tr>\n",
       "  </thead>\n",
       "  <tbody>\n",
       "    <tr>\n",
       "      <th>0</th>\n",
       "      <td>0</td>\n",
       "      <td>0</td>\n",
       "      <td>1</td>\n",
       "      <td>0</td>\n",
       "      <td>0</td>\n",
       "      <td>0</td>\n",
       "      <td>0</td>\n",
       "      <td>1</td>\n",
       "      <td>0</td>\n",
       "      <td>0</td>\n",
       "      <td>...</td>\n",
       "      <td>0</td>\n",
       "      <td>1</td>\n",
       "      <td>0</td>\n",
       "      <td>0</td>\n",
       "      <td>0</td>\n",
       "      <td>0</td>\n",
       "      <td>1</td>\n",
       "      <td>0</td>\n",
       "      <td>0</td>\n",
       "      <td>0</td>\n",
       "    </tr>\n",
       "    <tr>\n",
       "      <th>1</th>\n",
       "      <td>0</td>\n",
       "      <td>1</td>\n",
       "      <td>0</td>\n",
       "      <td>0</td>\n",
       "      <td>0</td>\n",
       "      <td>0</td>\n",
       "      <td>1</td>\n",
       "      <td>0</td>\n",
       "      <td>0</td>\n",
       "      <td>0</td>\n",
       "      <td>...</td>\n",
       "      <td>0</td>\n",
       "      <td>0</td>\n",
       "      <td>0</td>\n",
       "      <td>1</td>\n",
       "      <td>0</td>\n",
       "      <td>0</td>\n",
       "      <td>0</td>\n",
       "      <td>0</td>\n",
       "      <td>0</td>\n",
       "      <td>1</td>\n",
       "    </tr>\n",
       "    <tr>\n",
       "      <th>2</th>\n",
       "      <td>0</td>\n",
       "      <td>1</td>\n",
       "      <td>0</td>\n",
       "      <td>0</td>\n",
       "      <td>0</td>\n",
       "      <td>0</td>\n",
       "      <td>1</td>\n",
       "      <td>0</td>\n",
       "      <td>0</td>\n",
       "      <td>0</td>\n",
       "      <td>...</td>\n",
       "      <td>0</td>\n",
       "      <td>1</td>\n",
       "      <td>0</td>\n",
       "      <td>0</td>\n",
       "      <td>0</td>\n",
       "      <td>0</td>\n",
       "      <td>0</td>\n",
       "      <td>1</td>\n",
       "      <td>0</td>\n",
       "      <td>0</td>\n",
       "    </tr>\n",
       "    <tr>\n",
       "      <th>3</th>\n",
       "      <td>0</td>\n",
       "      <td>1</td>\n",
       "      <td>0</td>\n",
       "      <td>0</td>\n",
       "      <td>0</td>\n",
       "      <td>0</td>\n",
       "      <td>0</td>\n",
       "      <td>1</td>\n",
       "      <td>0</td>\n",
       "      <td>0</td>\n",
       "      <td>...</td>\n",
       "      <td>0</td>\n",
       "      <td>0</td>\n",
       "      <td>1</td>\n",
       "      <td>0</td>\n",
       "      <td>0</td>\n",
       "      <td>0</td>\n",
       "      <td>0</td>\n",
       "      <td>0</td>\n",
       "      <td>1</td>\n",
       "      <td>0</td>\n",
       "    </tr>\n",
       "    <tr>\n",
       "      <th>4</th>\n",
       "      <td>0</td>\n",
       "      <td>1</td>\n",
       "      <td>0</td>\n",
       "      <td>0</td>\n",
       "      <td>0</td>\n",
       "      <td>0</td>\n",
       "      <td>1</td>\n",
       "      <td>0</td>\n",
       "      <td>0</td>\n",
       "      <td>0</td>\n",
       "      <td>...</td>\n",
       "      <td>0</td>\n",
       "      <td>1</td>\n",
       "      <td>0</td>\n",
       "      <td>0</td>\n",
       "      <td>0</td>\n",
       "      <td>0</td>\n",
       "      <td>1</td>\n",
       "      <td>0</td>\n",
       "      <td>0</td>\n",
       "      <td>0</td>\n",
       "    </tr>\n",
       "  </tbody>\n",
       "</table>\n",
       "<p>5 rows × 115 columns</p>\n",
       "</div>"
      ],
      "text/plain": [
       "   imiss_a_2016_0.0  imiss_a_2016_1.0  imiss_a_2016_2.0  imiss_a_2016_3.0  \\\n",
       "0                 0                 0                 1                 0   \n",
       "1                 0                 1                 0                 0   \n",
       "2                 0                 1                 0                 0   \n",
       "3                 0                 1                 0                 0   \n",
       "4                 0                 1                 0                 0   \n",
       "\n",
       "   imiss_a_2016_4.0  imiss_b_2016_0.0  imiss_b_2016_1.0  imiss_b_2016_2.0  \\\n",
       "0                 0                 0                 0                 1   \n",
       "1                 0                 0                 1                 0   \n",
       "2                 0                 0                 1                 0   \n",
       "3                 0                 0                 0                 1   \n",
       "4                 0                 0                 1                 0   \n",
       "\n",
       "   imiss_b_2016_3.0  imiss_b_2016_4.0  ...  imiss_x_2016_0.0  \\\n",
       "0                 0                 0  ...                 0   \n",
       "1                 0                 0  ...                 0   \n",
       "2                 0                 0  ...                 0   \n",
       "3                 0                 0  ...                 0   \n",
       "4                 0                 0  ...                 0   \n",
       "\n",
       "   imiss_x_2016_1.0  imiss_x_2016_2.0  imiss_x_2016_3.0  imiss_x_2016_4.0  \\\n",
       "0                 1                 0                 0                 0   \n",
       "1                 0                 0                 1                 0   \n",
       "2                 1                 0                 0                 0   \n",
       "3                 0                 1                 0                 0   \n",
       "4                 1                 0                 0                 0   \n",
       "\n",
       "   imiss_y_2016_0.0  imiss_y_2016_1.0  imiss_y_2016_2.0  imiss_y_2016_3.0  \\\n",
       "0                 0                 1                 0                 0   \n",
       "1                 0                 0                 0                 0   \n",
       "2                 0                 0                 1                 0   \n",
       "3                 0                 0                 0                 1   \n",
       "4                 0                 1                 0                 0   \n",
       "\n",
       "   imiss_y_2016_4.0  \n",
       "0                 0  \n",
       "1                 1  \n",
       "2                 0  \n",
       "3                 0  \n",
       "4                 0  \n",
       "\n",
       "[5 rows x 115 columns]"
      ]
     },
     "execution_count": 11,
     "metadata": {},
     "output_type": "execute_result"
    }
   ],
   "source": [
    "df_predictors.head()"
   ]
  },
  {
   "cell_type": "markdown",
   "metadata": {},
   "source": [
    "## K means clustering"
   ]
  },
  {
   "cell_type": "code",
   "execution_count": 12,
   "metadata": {
    "ExecuteTime": {
     "end_time": "2019-11-23T00:15:09.444774Z",
     "start_time": "2019-11-23T00:15:09.432590Z"
    }
   },
   "outputs": [],
   "source": [
    "X = df_predictors"
   ]
  },
  {
   "cell_type": "code",
   "execution_count": 13,
   "metadata": {
    "ExecuteTime": {
     "end_time": "2019-11-23T00:15:10.598574Z",
     "start_time": "2019-11-23T00:15:09.458661Z"
    }
   },
   "outputs": [],
   "source": [
    "from sklearn.cluster import KMeans\n",
    "from sklearn import metrics \n",
    "from sklearn.model_selection import train_test_split"
   ]
  },
  {
   "cell_type": "code",
   "execution_count": 14,
   "metadata": {
    "ExecuteTime": {
     "end_time": "2019-11-23T00:15:11.393773Z",
     "start_time": "2019-11-23T00:15:10.602014Z"
    }
   },
   "outputs": [
    {
     "data": {
      "text/plain": [
       "KMeans(algorithm='auto', copy_x=True, init='k-means++', max_iter=300,\n",
       "       n_clusters=2, n_init=10, n_jobs=None, precompute_distances='auto',\n",
       "       random_state=None, tol=0.0001, verbose=0)"
      ]
     },
     "execution_count": 14,
     "metadata": {},
     "output_type": "execute_result"
    }
   ],
   "source": [
    "k_means = KMeans(n_clusters=2)\n",
    "k_means.fit(X)"
   ]
  },
  {
   "cell_type": "code",
   "execution_count": 15,
   "metadata": {
    "ExecuteTime": {
     "end_time": "2019-11-23T00:15:11.407851Z",
     "start_time": "2019-11-23T00:15:11.399078Z"
    }
   },
   "outputs": [],
   "source": [
    "labels = k_means.labels_"
   ]
  },
  {
   "cell_type": "code",
   "execution_count": 16,
   "metadata": {
    "ExecuteTime": {
     "end_time": "2019-11-23T00:15:11.446942Z",
     "start_time": "2019-11-23T00:15:11.413083Z"
    }
   },
   "outputs": [],
   "source": [
    "y_pred = k_means.predict(X)"
   ]
  },
  {
   "cell_type": "code",
   "execution_count": 17,
   "metadata": {
    "ExecuteTime": {
     "end_time": "2019-11-23T00:15:11.789386Z",
     "start_time": "2019-11-23T00:15:11.456661Z"
    }
   },
   "outputs": [
    {
     "data": {
      "text/plain": [
       "<matplotlib.collections.PathCollection at 0x1a19fc6320>"
      ]
     },
     "execution_count": 17,
     "metadata": {},
     "output_type": "execute_result"
    },
    {
     "data": {
      "image/png": "[encoded data removed]",
      "text/plain": [
       "<Figure size 360x360 with 1 Axes>"
      ]
     },
     "metadata": {
      "needs_background": "light"
     },
     "output_type": "display_data"
    }
   ],
   "source": [
    "plt.figure(figsize=(5,5))\n",
    "cl_centers = k_means.cluster_centers_\n",
    "plt.scatter(cl_centers[:, 0], cl_centers[:, 1], c='black', s=300)"
   ]
  },
  {
   "cell_type": "code",
   "execution_count": 18,
   "metadata": {
    "ExecuteTime": {
     "end_time": "2019-11-23T00:15:15.539318Z",
     "start_time": "2019-11-23T00:15:11.791960Z"
    }
   },
   "outputs": [
    {
     "data": {
      "text/plain": [
       "0.09122755047749001"
      ]
     },
     "execution_count": 18,
     "metadata": {},
     "output_type": "execute_result"
    }
   ],
   "source": [
    "metrics.silhouette_score(X, labels, metric='euclidean')"
   ]
  },
  {
   "cell_type": "code",
   "execution_count": 19,
   "metadata": {
    "ExecuteTime": {
     "end_time": "2019-11-23T00:15:15.577222Z",
     "start_time": "2019-11-23T00:15:15.547290Z"
    }
   },
   "outputs": [
    {
     "data": {
      "text/plain": [
       "836.4878129298589"
      ]
     },
     "execution_count": 19,
     "metadata": {},
     "output_type": "execute_result"
    }
   ],
   "source": [
    "metrics.calinski_harabasz_score(X, labels)"
   ]
  },
  {
   "cell_type": "code",
   "execution_count": 20,
   "metadata": {
    "ExecuteTime": {
     "end_time": "2019-11-23T00:15:15.614518Z",
     "start_time": "2019-11-23T00:15:15.582181Z"
    }
   },
   "outputs": [
    {
     "name": "stdout",
     "output_type": "stream",
     "text": [
      "(8000, 1)\n"
     ]
    }
   ],
   "source": [
    "df_target = df[target_col_list]\n",
    "print(df_target.shape)\n",
    "df_target_arr = np.ravel(df_target)"
   ]
  },
  {
   "cell_type": "code",
   "execution_count": 21,
   "metadata": {
    "ExecuteTime": {
     "end_time": "2019-11-23T00:15:15.667925Z",
     "start_time": "2019-11-23T00:15:15.632417Z"
    }
   },
   "outputs": [
    {
     "data": {
      "text/plain": [
       "(8000,)"
      ]
     },
     "execution_count": 21,
     "metadata": {},
     "output_type": "execute_result"
    }
   ],
   "source": [
    "df_target_arr\n",
    "y_pred.shape"
   ]
  },
  {
   "cell_type": "code",
   "execution_count": 22,
   "metadata": {
    "ExecuteTime": {
     "end_time": "2019-11-23T00:15:15.704763Z",
     "start_time": "2019-11-23T00:15:15.686089Z"
    }
   },
   "outputs": [],
   "source": [
    "dataset = pd.DataFrame({ 'y_pred': y_pred}, \n",
    "                        columns=[ 'y_pred']\n",
    "                        )"
   ]
  },
  {
   "cell_type": "code",
   "execution_count": 23,
   "metadata": {
    "ExecuteTime": {
     "end_time": "2019-11-23T00:15:15.723298Z",
     "start_time": "2019-11-23T00:15:15.708459Z"
    }
   },
   "outputs": [
    {
     "data": {
      "text/html": [
       "<div>\n",
       "<style scoped>\n",
       "    .dataframe tbody tr th:only-of-type {\n",
       "        vertical-align: middle;\n",
       "    }\n",
       "\n",
       "    .dataframe tbody tr th {\n",
       "        vertical-align: top;\n",
       "    }\n",
       "\n",
       "    .dataframe thead th {\n",
       "        text-align: right;\n",
       "    }\n",
       "</style>\n",
       "<table border=\"1\" class=\"dataframe\">\n",
       "  <thead>\n",
       "    <tr style=\"text-align: right;\">\n",
       "      <th></th>\n",
       "      <th>y_pred</th>\n",
       "    </tr>\n",
       "  </thead>\n",
       "  <tbody>\n",
       "    <tr>\n",
       "      <th>0</th>\n",
       "      <td>1</td>\n",
       "    </tr>\n",
       "    <tr>\n",
       "      <th>1</th>\n",
       "      <td>0</td>\n",
       "    </tr>\n",
       "    <tr>\n",
       "      <th>2</th>\n",
       "      <td>1</td>\n",
       "    </tr>\n",
       "    <tr>\n",
       "      <th>3</th>\n",
       "      <td>0</td>\n",
       "    </tr>\n",
       "    <tr>\n",
       "      <th>4</th>\n",
       "      <td>1</td>\n",
       "    </tr>\n",
       "  </tbody>\n",
       "</table>\n",
       "</div>"
      ],
      "text/plain": [
       "   y_pred\n",
       "0       1\n",
       "1       0\n",
       "2       1\n",
       "3       0\n",
       "4       1"
      ]
     },
     "execution_count": 23,
     "metadata": {},
     "output_type": "execute_result"
    }
   ],
   "source": [
    "dataset.head()"
   ]
  },
  {
   "cell_type": "code",
   "execution_count": 24,
   "metadata": {
    "ExecuteTime": {
     "end_time": "2019-11-23T00:15:15.785645Z",
     "start_time": "2019-11-23T00:15:15.726692Z"
    }
   },
   "outputs": [
    {
     "data": {
      "text/html": [
       "<div>\n",
       "<style scoped>\n",
       "    .dataframe tbody tr th:only-of-type {\n",
       "        vertical-align: middle;\n",
       "    }\n",
       "\n",
       "    .dataframe tbody tr th {\n",
       "        vertical-align: top;\n",
       "    }\n",
       "\n",
       "    .dataframe thead th {\n",
       "        text-align: right;\n",
       "    }\n",
       "</style>\n",
       "<table border=\"1\" class=\"dataframe\">\n",
       "  <thead>\n",
       "    <tr style=\"text-align: right;\">\n",
       "      <th></th>\n",
       "      <th>imiss_a_2016_0.0</th>\n",
       "      <th>imiss_a_2016_1.0</th>\n",
       "      <th>imiss_a_2016_2.0</th>\n",
       "      <th>imiss_a_2016_3.0</th>\n",
       "      <th>imiss_a_2016_4.0</th>\n",
       "      <th>imiss_b_2016_0.0</th>\n",
       "      <th>imiss_b_2016_1.0</th>\n",
       "      <th>imiss_b_2016_2.0</th>\n",
       "      <th>imiss_b_2016_3.0</th>\n",
       "      <th>imiss_b_2016_4.0</th>\n",
       "      <th>...</th>\n",
       "      <th>imiss_x_2016_2.0</th>\n",
       "      <th>imiss_x_2016_3.0</th>\n",
       "      <th>imiss_x_2016_4.0</th>\n",
       "      <th>imiss_y_2016_0.0</th>\n",
       "      <th>imiss_y_2016_1.0</th>\n",
       "      <th>imiss_y_2016_2.0</th>\n",
       "      <th>imiss_y_2016_3.0</th>\n",
       "      <th>imiss_y_2016_4.0</th>\n",
       "      <th>presvote16post_2016</th>\n",
       "      <th>y_pred</th>\n",
       "    </tr>\n",
       "  </thead>\n",
       "  <tbody>\n",
       "    <tr>\n",
       "      <th>0</th>\n",
       "      <td>0</td>\n",
       "      <td>0</td>\n",
       "      <td>1</td>\n",
       "      <td>0</td>\n",
       "      <td>0</td>\n",
       "      <td>0</td>\n",
       "      <td>0</td>\n",
       "      <td>1</td>\n",
       "      <td>0</td>\n",
       "      <td>0</td>\n",
       "      <td>...</td>\n",
       "      <td>0</td>\n",
       "      <td>0</td>\n",
       "      <td>0</td>\n",
       "      <td>0</td>\n",
       "      <td>1</td>\n",
       "      <td>0</td>\n",
       "      <td>0</td>\n",
       "      <td>0</td>\n",
       "      <td>1.0</td>\n",
       "      <td>1</td>\n",
       "    </tr>\n",
       "    <tr>\n",
       "      <th>1</th>\n",
       "      <td>0</td>\n",
       "      <td>1</td>\n",
       "      <td>0</td>\n",
       "      <td>0</td>\n",
       "      <td>0</td>\n",
       "      <td>0</td>\n",
       "      <td>1</td>\n",
       "      <td>0</td>\n",
       "      <td>0</td>\n",
       "      <td>0</td>\n",
       "      <td>...</td>\n",
       "      <td>0</td>\n",
       "      <td>1</td>\n",
       "      <td>0</td>\n",
       "      <td>0</td>\n",
       "      <td>0</td>\n",
       "      <td>0</td>\n",
       "      <td>0</td>\n",
       "      <td>1</td>\n",
       "      <td>2.0</td>\n",
       "      <td>0</td>\n",
       "    </tr>\n",
       "    <tr>\n",
       "      <th>2</th>\n",
       "      <td>0</td>\n",
       "      <td>1</td>\n",
       "      <td>0</td>\n",
       "      <td>0</td>\n",
       "      <td>0</td>\n",
       "      <td>0</td>\n",
       "      <td>1</td>\n",
       "      <td>0</td>\n",
       "      <td>0</td>\n",
       "      <td>0</td>\n",
       "      <td>...</td>\n",
       "      <td>0</td>\n",
       "      <td>0</td>\n",
       "      <td>0</td>\n",
       "      <td>0</td>\n",
       "      <td>0</td>\n",
       "      <td>1</td>\n",
       "      <td>0</td>\n",
       "      <td>0</td>\n",
       "      <td>1.0</td>\n",
       "      <td>1</td>\n",
       "    </tr>\n",
       "    <tr>\n",
       "      <th>3</th>\n",
       "      <td>0</td>\n",
       "      <td>1</td>\n",
       "      <td>0</td>\n",
       "      <td>0</td>\n",
       "      <td>0</td>\n",
       "      <td>0</td>\n",
       "      <td>0</td>\n",
       "      <td>1</td>\n",
       "      <td>0</td>\n",
       "      <td>0</td>\n",
       "      <td>...</td>\n",
       "      <td>1</td>\n",
       "      <td>0</td>\n",
       "      <td>0</td>\n",
       "      <td>0</td>\n",
       "      <td>0</td>\n",
       "      <td>0</td>\n",
       "      <td>1</td>\n",
       "      <td>0</td>\n",
       "      <td>3.0</td>\n",
       "      <td>0</td>\n",
       "    </tr>\n",
       "    <tr>\n",
       "      <th>4</th>\n",
       "      <td>0</td>\n",
       "      <td>1</td>\n",
       "      <td>0</td>\n",
       "      <td>0</td>\n",
       "      <td>0</td>\n",
       "      <td>0</td>\n",
       "      <td>1</td>\n",
       "      <td>0</td>\n",
       "      <td>0</td>\n",
       "      <td>0</td>\n",
       "      <td>...</td>\n",
       "      <td>0</td>\n",
       "      <td>0</td>\n",
       "      <td>0</td>\n",
       "      <td>0</td>\n",
       "      <td>1</td>\n",
       "      <td>0</td>\n",
       "      <td>0</td>\n",
       "      <td>0</td>\n",
       "      <td>2.0</td>\n",
       "      <td>1</td>\n",
       "    </tr>\n",
       "    <tr>\n",
       "      <th>5</th>\n",
       "      <td>0</td>\n",
       "      <td>0</td>\n",
       "      <td>1</td>\n",
       "      <td>0</td>\n",
       "      <td>0</td>\n",
       "      <td>0</td>\n",
       "      <td>1</td>\n",
       "      <td>0</td>\n",
       "      <td>0</td>\n",
       "      <td>0</td>\n",
       "      <td>...</td>\n",
       "      <td>0</td>\n",
       "      <td>0</td>\n",
       "      <td>0</td>\n",
       "      <td>0</td>\n",
       "      <td>1</td>\n",
       "      <td>0</td>\n",
       "      <td>0</td>\n",
       "      <td>0</td>\n",
       "      <td>1.0</td>\n",
       "      <td>1</td>\n",
       "    </tr>\n",
       "    <tr>\n",
       "      <th>6</th>\n",
       "      <td>0</td>\n",
       "      <td>1</td>\n",
       "      <td>0</td>\n",
       "      <td>0</td>\n",
       "      <td>0</td>\n",
       "      <td>0</td>\n",
       "      <td>1</td>\n",
       "      <td>0</td>\n",
       "      <td>0</td>\n",
       "      <td>0</td>\n",
       "      <td>...</td>\n",
       "      <td>0</td>\n",
       "      <td>0</td>\n",
       "      <td>0</td>\n",
       "      <td>0</td>\n",
       "      <td>1</td>\n",
       "      <td>0</td>\n",
       "      <td>0</td>\n",
       "      <td>0</td>\n",
       "      <td>1.0</td>\n",
       "      <td>1</td>\n",
       "    </tr>\n",
       "    <tr>\n",
       "      <th>7</th>\n",
       "      <td>0</td>\n",
       "      <td>1</td>\n",
       "      <td>0</td>\n",
       "      <td>0</td>\n",
       "      <td>0</td>\n",
       "      <td>0</td>\n",
       "      <td>0</td>\n",
       "      <td>1</td>\n",
       "      <td>0</td>\n",
       "      <td>0</td>\n",
       "      <td>...</td>\n",
       "      <td>0</td>\n",
       "      <td>0</td>\n",
       "      <td>1</td>\n",
       "      <td>0</td>\n",
       "      <td>0</td>\n",
       "      <td>0</td>\n",
       "      <td>1</td>\n",
       "      <td>0</td>\n",
       "      <td>2.0</td>\n",
       "      <td>0</td>\n",
       "    </tr>\n",
       "    <tr>\n",
       "      <th>8</th>\n",
       "      <td>0</td>\n",
       "      <td>0</td>\n",
       "      <td>0</td>\n",
       "      <td>1</td>\n",
       "      <td>0</td>\n",
       "      <td>0</td>\n",
       "      <td>1</td>\n",
       "      <td>0</td>\n",
       "      <td>0</td>\n",
       "      <td>0</td>\n",
       "      <td>...</td>\n",
       "      <td>0</td>\n",
       "      <td>0</td>\n",
       "      <td>0</td>\n",
       "      <td>0</td>\n",
       "      <td>0</td>\n",
       "      <td>1</td>\n",
       "      <td>0</td>\n",
       "      <td>0</td>\n",
       "      <td>1.0</td>\n",
       "      <td>1</td>\n",
       "    </tr>\n",
       "    <tr>\n",
       "      <th>9</th>\n",
       "      <td>0</td>\n",
       "      <td>0</td>\n",
       "      <td>0</td>\n",
       "      <td>1</td>\n",
       "      <td>0</td>\n",
       "      <td>0</td>\n",
       "      <td>1</td>\n",
       "      <td>0</td>\n",
       "      <td>0</td>\n",
       "      <td>0</td>\n",
       "      <td>...</td>\n",
       "      <td>0</td>\n",
       "      <td>0</td>\n",
       "      <td>0</td>\n",
       "      <td>0</td>\n",
       "      <td>1</td>\n",
       "      <td>0</td>\n",
       "      <td>0</td>\n",
       "      <td>0</td>\n",
       "      <td>1.0</td>\n",
       "      <td>1</td>\n",
       "    </tr>\n",
       "  </tbody>\n",
       "</table>\n",
       "<p>10 rows × 117 columns</p>\n",
       "</div>"
      ],
      "text/plain": [
       "   imiss_a_2016_0.0  imiss_a_2016_1.0  imiss_a_2016_2.0  imiss_a_2016_3.0  \\\n",
       "0                 0                 0                 1                 0   \n",
       "1                 0                 1                 0                 0   \n",
       "2                 0                 1                 0                 0   \n",
       "3                 0                 1                 0                 0   \n",
       "4                 0                 1                 0                 0   \n",
       "5                 0                 0                 1                 0   \n",
       "6                 0                 1                 0                 0   \n",
       "7                 0                 1                 0                 0   \n",
       "8                 0                 0                 0                 1   \n",
       "9                 0                 0                 0                 1   \n",
       "\n",
       "   imiss_a_2016_4.0  imiss_b_2016_0.0  imiss_b_2016_1.0  imiss_b_2016_2.0  \\\n",
       "0                 0                 0                 0                 1   \n",
       "1                 0                 0                 1                 0   \n",
       "2                 0                 0                 1                 0   \n",
       "3                 0                 0                 0                 1   \n",
       "4                 0                 0                 1                 0   \n",
       "5                 0                 0                 1                 0   \n",
       "6                 0                 0                 1                 0   \n",
       "7                 0                 0                 0                 1   \n",
       "8                 0                 0                 1                 0   \n",
       "9                 0                 0                 1                 0   \n",
       "\n",
       "   imiss_b_2016_3.0  imiss_b_2016_4.0  ...  imiss_x_2016_2.0  \\\n",
       "0                 0                 0  ...                 0   \n",
       "1                 0                 0  ...                 0   \n",
       "2                 0                 0  ...                 0   \n",
       "3                 0                 0  ...                 1   \n",
       "4                 0                 0  ...                 0   \n",
       "5                 0                 0  ...                 0   \n",
       "6                 0                 0  ...                 0   \n",
       "7                 0                 0  ...                 0   \n",
       "8                 0                 0  ...                 0   \n",
       "9                 0                 0  ...                 0   \n",
       "\n",
       "   imiss_x_2016_3.0  imiss_x_2016_4.0  imiss_y_2016_0.0  imiss_y_2016_1.0  \\\n",
       "0                 0                 0                 0                 1   \n",
       "1                 1                 0                 0                 0   \n",
       "2                 0                 0                 0                 0   \n",
       "3                 0                 0                 0                 0   \n",
       "4                 0                 0                 0                 1   \n",
       "5                 0                 0                 0                 1   \n",
       "6                 0                 0                 0                 1   \n",
       "7                 0                 1                 0                 0   \n",
       "8                 0                 0                 0                 0   \n",
       "9                 0                 0                 0                 1   \n",
       "\n",
       "   imiss_y_2016_2.0  imiss_y_2016_3.0  imiss_y_2016_4.0  presvote16post_2016  \\\n",
       "0                 0                 0                 0                  1.0   \n",
       "1                 0                 0                 1                  2.0   \n",
       "2                 1                 0                 0                  1.0   \n",
       "3                 0                 1                 0                  3.0   \n",
       "4                 0                 0                 0                  2.0   \n",
       "5                 0                 0                 0                  1.0   \n",
       "6                 0                 0                 0                  1.0   \n",
       "7                 0                 1                 0                  2.0   \n",
       "8                 1                 0                 0                  1.0   \n",
       "9                 0                 0                 0                  1.0   \n",
       "\n",
       "   y_pred  \n",
       "0       1  \n",
       "1       0  \n",
       "2       1  \n",
       "3       0  \n",
       "4       1  \n",
       "5       1  \n",
       "6       1  \n",
       "7       0  \n",
       "8       1  \n",
       "9       1  \n",
       "\n",
       "[10 rows x 117 columns]"
      ]
     },
     "execution_count": 24,
     "metadata": {},
     "output_type": "execute_result"
    }
   ],
   "source": [
    "target_pred_df = df_predictors.join(df_target).join(dataset)\n",
    "target_pred_df.head(10)"
   ]
  },
  {
   "cell_type": "code",
   "execution_count": 25,
   "metadata": {
    "ExecuteTime": {
     "end_time": "2019-11-23T00:15:15.957207Z",
     "start_time": "2019-11-23T00:15:15.788780Z"
    }
   },
   "outputs": [
    {
     "name": "stdout",
     "output_type": "stream",
     "text": [
      "3479\n"
     ]
    }
   ],
   "source": [
    "# def count_correct():\n",
    "#     for row in target_pred_df:\n",
    "#         if (df.presvote16post_2016 == 1.0) and (df.y_pred ==1):\n",
    "#             count += 1\n",
    "#     print(count)\n",
    "\n",
    "count = 0\n",
    "for row in target_pred_df.itertuples():\n",
    "    if (row.presvote16post_2016 == 2): #and (row.y_pred == 0):\n",
    "        count +=1\n",
    "print(count)\n"
   ]
  },
  {
   "cell_type": "code",
   "execution_count": 26,
   "metadata": {
    "ExecuteTime": {
     "end_time": "2019-11-23T00:15:15.970914Z",
     "start_time": "2019-11-23T00:15:15.961832Z"
    }
   },
   "outputs": [
    {
     "data": {
      "text/plain": [
       "0.7272214386459802"
      ]
     },
     "execution_count": 26,
     "metadata": {},
     "output_type": "execute_result"
    }
   ],
   "source": [
    "2578/3545"
   ]
  },
  {
   "cell_type": "code",
   "execution_count": 27,
   "metadata": {
    "ExecuteTime": {
     "end_time": "2019-11-23T00:15:15.992715Z",
     "start_time": "2019-11-23T00:15:15.976441Z"
    }
   },
   "outputs": [
    {
     "data": {
      "text/plain": [
       "0.8033917792469101"
      ]
     },
     "execution_count": 27,
     "metadata": {},
     "output_type": "execute_result"
    }
   ],
   "source": [
    "2795/3479"
   ]
  },
  {
   "cell_type": "markdown",
   "metadata": {},
   "source": [
    "## Logistic regression"
   ]
  },
  {
   "cell_type": "code",
   "execution_count": 28,
   "metadata": {
    "ExecuteTime": {
     "end_time": "2019-11-23T00:15:16.008501Z",
     "start_time": "2019-11-23T00:15:16.000795Z"
    }
   },
   "outputs": [],
   "source": [
    "from sklearn.linear_model import LogisticRegression\n",
    "from sklearn.metrics import confusion_matrix"
   ]
  },
  {
   "cell_type": "code",
   "execution_count": 29,
   "metadata": {
    "ExecuteTime": {
     "end_time": "2019-11-23T00:15:16.034409Z",
     "start_time": "2019-11-23T00:15:16.024886Z"
    }
   },
   "outputs": [],
   "source": [
    "X = df_predictors\n",
    "y = df_target"
   ]
  },
  {
   "cell_type": "code",
   "execution_count": 30,
   "metadata": {
    "ExecuteTime": {
     "end_time": "2019-11-23T00:15:16.093767Z",
     "start_time": "2019-11-23T00:15:16.039547Z"
    }
   },
   "outputs": [
    {
     "data": {
      "text/plain": [
       "presvote16post_2016    394\n",
       "dtype: int64"
      ]
     },
     "execution_count": 30,
     "metadata": {},
     "output_type": "execute_result"
    }
   ],
   "source": [
    "X.isna().sum().any()\n",
    "y.isna().sum()"
   ]
  },
  {
   "cell_type": "code",
   "execution_count": 31,
   "metadata": {
    "ExecuteTime": {
     "end_time": "2019-11-23T00:15:16.119653Z",
     "start_time": "2019-11-23T00:15:16.108620Z"
    }
   },
   "outputs": [],
   "source": [
    "y = y.fillna(0)\n",
    "y = np.ravel(y)"
   ]
  },
  {
   "cell_type": "code",
   "execution_count": 32,
   "metadata": {
    "ExecuteTime": {
     "end_time": "2019-11-23T00:15:16.163306Z",
     "start_time": "2019-11-23T00:15:16.130625Z"
    }
   },
   "outputs": [],
   "source": [
    "X_train, X_test, y_train, y_test = train_test_split(X, \n",
    "                                                    y,\n",
    "                                                    test_size = 0.2, \n",
    "                                                    stratify=y)"
   ]
  },
  {
   "cell_type": "code",
   "execution_count": 65,
   "metadata": {
    "ExecuteTime": {
     "end_time": "2019-11-23T00:30:13.102984Z",
     "start_time": "2019-11-23T00:30:10.073866Z"
    }
   },
   "outputs": [],
   "source": [
    "lr = LogisticRegression(C=2, penalty='l2', \n",
    "                        solver='lbfgs', \n",
    "                        multi_class='auto', \n",
    "                        max_iter=1000)\n",
    "lr.fit(X_train, y_train)\n",
    "y_pred_test = lr.predict(X_test)"
   ]
  },
  {
   "cell_type": "code",
   "execution_count": 66,
   "metadata": {
    "ExecuteTime": {
     "end_time": "2019-11-23T00:30:14.083944Z",
     "start_time": "2019-11-23T00:30:14.075019Z"
    }
   },
   "outputs": [
    {
     "data": {
      "text/plain": [
       "Index(['presvote16post_2016'], dtype='object')"
      ]
     },
     "execution_count": 66,
     "metadata": {},
     "output_type": "execute_result"
    }
   ],
   "source": [
    "df_target.columns"
   ]
  },
  {
   "cell_type": "code",
   "execution_count": 67,
   "metadata": {
    "ExecuteTime": {
     "end_time": "2019-11-23T00:30:16.980694Z",
     "start_time": "2019-11-23T00:30:16.952992Z"
    }
   },
   "outputs": [
    {
     "data": {
      "text/html": [
       "<div>\n",
       "<style scoped>\n",
       "    .dataframe tbody tr th:only-of-type {\n",
       "        vertical-align: middle;\n",
       "    }\n",
       "\n",
       "    .dataframe tbody tr th {\n",
       "        vertical-align: top;\n",
       "    }\n",
       "\n",
       "    .dataframe thead th {\n",
       "        text-align: right;\n",
       "    }\n",
       "</style>\n",
       "<table border=\"1\" class=\"dataframe\">\n",
       "  <thead>\n",
       "    <tr style=\"text-align: right;\">\n",
       "      <th></th>\n",
       "      <th>Pred None</th>\n",
       "      <th>Pred Clinton</th>\n",
       "      <th>Pred Trump</th>\n",
       "      <th>Pred Johnson</th>\n",
       "      <th>Pred Stein</th>\n",
       "      <th>Pred McMullin</th>\n",
       "      <th>Pred Other</th>\n",
       "      <th>Pred Did Not Vote</th>\n",
       "    </tr>\n",
       "  </thead>\n",
       "  <tbody>\n",
       "    <tr>\n",
       "      <th>None</th>\n",
       "      <td>2</td>\n",
       "      <td>42</td>\n",
       "      <td>33</td>\n",
       "      <td>1</td>\n",
       "      <td>0</td>\n",
       "      <td>0</td>\n",
       "      <td>1</td>\n",
       "      <td>0</td>\n",
       "    </tr>\n",
       "    <tr>\n",
       "      <th>Clinton</th>\n",
       "      <td>6</td>\n",
       "      <td>633</td>\n",
       "      <td>66</td>\n",
       "      <td>1</td>\n",
       "      <td>3</td>\n",
       "      <td>0</td>\n",
       "      <td>0</td>\n",
       "      <td>0</td>\n",
       "    </tr>\n",
       "    <tr>\n",
       "      <th>Trump</th>\n",
       "      <td>2</td>\n",
       "      <td>72</td>\n",
       "      <td>618</td>\n",
       "      <td>2</td>\n",
       "      <td>0</td>\n",
       "      <td>0</td>\n",
       "      <td>2</td>\n",
       "      <td>0</td>\n",
       "    </tr>\n",
       "    <tr>\n",
       "      <th>Johnson</th>\n",
       "      <td>0</td>\n",
       "      <td>16</td>\n",
       "      <td>24</td>\n",
       "      <td>3</td>\n",
       "      <td>1</td>\n",
       "      <td>0</td>\n",
       "      <td>2</td>\n",
       "      <td>0</td>\n",
       "    </tr>\n",
       "    <tr>\n",
       "      <th>Stein</th>\n",
       "      <td>0</td>\n",
       "      <td>21</td>\n",
       "      <td>1</td>\n",
       "      <td>0</td>\n",
       "      <td>0</td>\n",
       "      <td>0</td>\n",
       "      <td>0</td>\n",
       "      <td>0</td>\n",
       "    </tr>\n",
       "    <tr>\n",
       "      <th>McMullin</th>\n",
       "      <td>0</td>\n",
       "      <td>0</td>\n",
       "      <td>5</td>\n",
       "      <td>0</td>\n",
       "      <td>0</td>\n",
       "      <td>0</td>\n",
       "      <td>0</td>\n",
       "      <td>0</td>\n",
       "    </tr>\n",
       "    <tr>\n",
       "      <th>Other</th>\n",
       "      <td>0</td>\n",
       "      <td>19</td>\n",
       "      <td>17</td>\n",
       "      <td>0</td>\n",
       "      <td>0</td>\n",
       "      <td>0</td>\n",
       "      <td>0</td>\n",
       "      <td>0</td>\n",
       "    </tr>\n",
       "    <tr>\n",
       "      <th>Did not vote</th>\n",
       "      <td>1</td>\n",
       "      <td>3</td>\n",
       "      <td>3</td>\n",
       "      <td>0</td>\n",
       "      <td>0</td>\n",
       "      <td>0</td>\n",
       "      <td>0</td>\n",
       "      <td>0</td>\n",
       "    </tr>\n",
       "  </tbody>\n",
       "</table>\n",
       "</div>"
      ],
      "text/plain": [
       "              Pred None  Pred Clinton  Pred Trump  Pred Johnson  Pred Stein  \\\n",
       "None                  2            42          33             1           0   \n",
       "Clinton               6           633          66             1           3   \n",
       "Trump                 2            72         618             2           0   \n",
       "Johnson               0            16          24             3           1   \n",
       "Stein                 0            21           1             0           0   \n",
       "McMullin              0             0           5             0           0   \n",
       "Other                 0            19          17             0           0   \n",
       "Did not vote          1             3           3             0           0   \n",
       "\n",
       "              Pred McMullin  Pred Other  Pred Did Not Vote  \n",
       "None                      0           1                  0  \n",
       "Clinton                   0           0                  0  \n",
       "Trump                     0           2                  0  \n",
       "Johnson                   0           2                  0  \n",
       "Stein                     0           0                  0  \n",
       "McMullin                  0           0                  0  \n",
       "Other                     0           0                  0  \n",
       "Did not vote              0           0                  0  "
      ]
     },
     "execution_count": 67,
     "metadata": {},
     "output_type": "execute_result"
    }
   ],
   "source": [
    "cm = confusion_matrix(y_test, y_pred_test)\n",
    "conf_matrix = pd.DataFrame(cm, index=['None','Clinton','Trump','Johnson','Stein','McMullin','Other','Did not vote'], \n",
    "                           columns=['Pred None','Pred Clinton','Pred Trump','Pred Johnson','Pred Stein','Pred McMullin','Pred Other','Pred Did Not Vote'])\n",
    "\n",
    "\n",
    "conf_matrix"
   ]
  },
  {
   "cell_type": "code",
   "execution_count": 68,
   "metadata": {
    "ExecuteTime": {
     "end_time": "2019-11-23T00:30:17.882633Z",
     "start_time": "2019-11-23T00:30:17.873610Z"
    }
   },
   "outputs": [
    {
     "data": {
      "text/plain": [
       "0.8928067700987306"
      ]
     },
     "execution_count": 68,
     "metadata": {},
     "output_type": "execute_result"
    }
   ],
   "source": [
    "# correct Clinton\n",
    "correct = cm[1][1]\n",
    "total = sum(cm[1])\n",
    "pred_correct = correct/total\n",
    "pred_correct"
   ]
  },
  {
   "cell_type": "code",
   "execution_count": 69,
   "metadata": {
    "ExecuteTime": {
     "end_time": "2019-11-23T00:31:21.091014Z",
     "start_time": "2019-11-23T00:31:21.083234Z"
    }
   },
   "outputs": [
    {
     "data": {
      "text/plain": [
       "0.8879310344827587"
      ]
     },
     "execution_count": 69,
     "metadata": {},
     "output_type": "execute_result"
    }
   ],
   "source": [
    "# correct Trump\n",
    "correct = cm[2][2]\n",
    "total = sum(cm[2])\n",
    "pred_correct = correct/total\n",
    "pred_correct"
   ]
  },
  {
   "cell_type": "code",
   "execution_count": null,
   "metadata": {},
   "outputs": [],
   "source": []
  }
 ],
 "metadata": {
  "kernelspec": {
   "display_name": "Python 3",
   "language": "python",
   "name": "python3"
  },
  "language_info": {
   "codemirror_mode": {
    "name": "ipython",
    "version": 3
   },
   "file_extension": ".py",
   "mimetype": "text/x-python",
   "name": "python",
   "nbconvert_exporter": "python",
   "pygments_lexer": "ipython3",
   "version": "3.7.3"
  },
  "toc": {
   "base_numbering": 1,
   "nav_menu": {},
   "number_sections": true,
   "sideBar": true,
   "skip_h1_title": false,
   "title_cell": "Table of Contents",
   "title_sidebar": "Contents",
   "toc_cell": false,
   "toc_position": {},
   "toc_section_display": true,
   "toc_window_display": false
  }
 },
 "nbformat": 4,
 "nbformat_minor": 2
}
