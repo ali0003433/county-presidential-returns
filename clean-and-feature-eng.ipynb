{
 "cells": [
  {
   "cell_type": "markdown",
   "metadata": {},
   "source": [
    "## Data cleaning and feature engineering"
   ]
  },
  {
   "cell_type": "code",
   "execution_count": 1,
   "metadata": {
    "ExecuteTime": {
     "end_time": "2019-11-22T17:44:07.134441Z",
     "start_time": "2019-11-22T17:44:04.709355Z"
    }
   },
   "outputs": [],
   "source": [
    "import numpy as np\n",
    "import pandas as pd\n",
    "import seaborn as sns\n",
    "import re\n",
    "import matplotlib.pyplot as plt"
   ]
  },
  {
   "cell_type": "code",
   "execution_count": 2,
   "metadata": {
    "ExecuteTime": {
     "end_time": "2019-11-22T17:44:08.311520Z",
     "start_time": "2019-11-22T17:44:07.138260Z"
    }
   },
   "outputs": [],
   "source": [
    "df = pd.read_csv('data/voter-survey-december16.csv')"
   ]
  },
  {
   "cell_type": "code",
   "execution_count": 3,
   "metadata": {
    "ExecuteTime": {
     "end_time": "2019-11-22T17:44:08.326213Z",
     "start_time": "2019-11-22T17:44:08.316433Z"
    }
   },
   "outputs": [],
   "source": [
    "pattern = '(imiss_).{1}(_2016)'\n",
    "def return_imiss_cols(df):\n",
    "    imiss_cols = []\n",
    "    for col in df.columns:\n",
    "        if re.search(pattern, col):\n",
    "            imiss_cols.append(col)\n",
    "    return imiss_cols\n",
    "\n",
    "# issue column list\n",
    "imiss_col_list = return_imiss_cols(df)"
   ]
  },
  {
   "cell_type": "code",
   "execution_count": 4,
   "metadata": {
    "ExecuteTime": {
     "end_time": "2019-11-22T17:44:08.970777Z",
     "start_time": "2019-11-22T17:44:08.964334Z"
    }
   },
   "outputs": [],
   "source": [
    "# target column list  \n",
    "target_col_list = ['presvote16post_2016']\n",
    "df_target = df[target_col_list]"
   ]
  },
  {
   "cell_type": "code",
   "execution_count": 5,
   "metadata": {
    "ExecuteTime": {
     "end_time": "2019-11-22T17:44:09.436646Z",
     "start_time": "2019-11-22T17:44:09.413960Z"
    }
   },
   "outputs": [
    {
     "data": {
      "text/plain": [
       "1.0    5947\n",
       "2.0    1688\n",
       "3.0     181\n",
       "0.0     127\n",
       "4.0      57\n",
       "Name: imiss_j_2016, dtype: int64"
      ]
     },
     "execution_count": 5,
     "metadata": {},
     "output_type": "execute_result"
    }
   ],
   "source": [
    "df_issue = df[imiss_col_list].fillna(0)\n",
    "df_issue['imiss_j_2016'].value_counts()#.isna().sum()"
   ]
  },
  {
   "cell_type": "code",
   "execution_count": 6,
   "metadata": {
    "ExecuteTime": {
     "end_time": "2019-11-22T17:44:11.340637Z",
     "start_time": "2019-11-22T17:44:11.248429Z"
    }
   },
   "outputs": [],
   "source": [
    "df_issue = df_issue.astype(str)\n",
    "df_issue = df_issue.join(df_target)"
   ]
  },
  {
   "cell_type": "code",
   "execution_count": 7,
   "metadata": {
    "ExecuteTime": {
     "end_time": "2019-11-22T17:44:13.742560Z",
     "start_time": "2019-11-22T17:44:13.658610Z"
    }
   },
   "outputs": [],
   "source": [
    "df_dummies = pd.get_dummies(df_issue)"
   ]
  },
  {
   "cell_type": "code",
   "execution_count": 8,
   "metadata": {
    "ExecuteTime": {
     "end_time": "2019-11-22T17:44:15.125322Z",
     "start_time": "2019-11-22T17:44:14.863770Z"
    }
   },
   "outputs": [
    {
     "data": {
      "text/plain": [
       "presvote16post_2016    1.000000\n",
       "imiss_l_2016_1.0       0.304989\n",
       "imiss_d_2016_1.0       0.286253\n",
       "imiss_y_2016_1.0       0.267083\n",
       "imiss_u_2016_1.0       0.254038\n",
       "imiss_x_2016_1.0       0.240264\n",
       "imiss_g_2016_1.0       0.230016\n",
       "imiss_p_2016_1.0       0.226241\n",
       "imiss_l_2016_4.0       0.212959\n",
       "imiss_u_2016_3.0       0.192896\n",
       "imiss_q_2016_1.0       0.185467\n",
       "imiss_g_2016_4.0       0.182592\n",
       "imiss_d_2016_3.0       0.179266\n",
       "imiss_l_2016_3.0       0.178131\n",
       "imiss_y_2016_4.0       0.176428\n",
       "imiss_p_2016_3.0       0.155080\n",
       "imiss_y_2016_3.0       0.153542\n",
       "imiss_j_2016_1.0       0.147418\n",
       "imiss_x_2016_3.0       0.144682\n",
       "imiss_i_2016_1.0       0.140380\n",
       "imiss_f_2016_1.0       0.137812\n",
       "imiss_s_2016_1.0       0.135825\n",
       "imiss_i_2016_3.0       0.135604\n",
       "imiss_k_2016_1.0       0.133861\n",
       "imiss_r_2016_1.0       0.132862\n",
       "imiss_h_2016_1.0       0.129626\n",
       "imiss_x_2016_4.0       0.123174\n",
       "imiss_q_2016_3.0       0.120913\n",
       "imiss_i_2016_4.0       0.120097\n",
       "imiss_e_2016_1.0       0.119690\n",
       "                         ...   \n",
       "imiss_r_2016_4.0       0.019569\n",
       "imiss_m_2016_0.0       0.018127\n",
       "imiss_r_2016_0.0       0.018078\n",
       "imiss_l_2016_2.0       0.015773\n",
       "imiss_b_2016_3.0       0.015637\n",
       "imiss_t_2016_3.0       0.014887\n",
       "imiss_q_2016_0.0       0.014776\n",
       "imiss_o_2016_0.0       0.013943\n",
       "imiss_s_2016_0.0       0.013816\n",
       "imiss_e_2016_0.0       0.012039\n",
       "imiss_f_2016_0.0       0.011371\n",
       "imiss_f_2016_4.0       0.011195\n",
       "imiss_y_2016_2.0       0.011033\n",
       "imiss_x_2016_0.0       0.010416\n",
       "imiss_k_2016_0.0       0.010204\n",
       "imiss_t_2016_4.0       0.010117\n",
       "imiss_t_2016_0.0       0.009895\n",
       "imiss_c_2016_0.0       0.009744\n",
       "imiss_g_2016_0.0       0.007945\n",
       "imiss_l_2016_0.0       0.007425\n",
       "imiss_b_2016_4.0       0.007184\n",
       "imiss_d_2016_0.0       0.006467\n",
       "imiss_t_2016_1.0       0.006144\n",
       "imiss_a_2016_4.0       0.005277\n",
       "imiss_y_2016_0.0       0.005057\n",
       "imiss_j_2016_0.0       0.005016\n",
       "imiss_p_2016_0.0       0.004494\n",
       "imiss_o_2016_3.0       0.003753\n",
       "imiss_u_2016_0.0       0.003441\n",
       "imiss_a_2016_0.0       0.001411\n",
       "Name: presvote16post_2016, Length: 116, dtype: float64"
      ]
     },
     "execution_count": 8,
     "metadata": {},
     "output_type": "execute_result"
    }
   ],
   "source": [
    "df_dummies.corr()['presvote16post_2016'].abs().sort_values(ascending=False)"
   ]
  },
  {
   "cell_type": "code",
   "execution_count": 10,
   "metadata": {
    "ExecuteTime": {
     "end_time": "2019-11-22T17:44:53.062884Z",
     "start_time": "2019-11-22T17:44:53.054042Z"
    }
   },
   "outputs": [
    {
     "data": {
      "text/plain": [
       "(8000, 116)"
      ]
     },
     "execution_count": 10,
     "metadata": {},
     "output_type": "execute_result"
    }
   ],
   "source": [
    "df_dummies.shape"
   ]
  },
  {
   "cell_type": "code",
   "execution_count": 17,
   "metadata": {
    "ExecuteTime": {
     "end_time": "2019-11-22T17:48:16.163978Z",
     "start_time": "2019-11-22T17:48:16.145742Z"
    }
   },
   "outputs": [],
   "source": [
    "df_predictors = df_dummies.drop('presvote16post_2016', axis=1)"
   ]
  },
  {
   "cell_type": "code",
   "execution_count": 18,
   "metadata": {
    "ExecuteTime": {
     "end_time": "2019-11-22T17:48:23.426226Z",
     "start_time": "2019-11-22T17:48:23.394879Z"
    }
   },
   "outputs": [
    {
     "data": {
      "text/html": [
       "<div>\n",
       "<style scoped>\n",
       "    .dataframe tbody tr th:only-of-type {\n",
       "        vertical-align: middle;\n",
       "    }\n",
       "\n",
       "    .dataframe tbody tr th {\n",
       "        vertical-align: top;\n",
       "    }\n",
       "\n",
       "    .dataframe thead th {\n",
       "        text-align: right;\n",
       "    }\n",
       "</style>\n",
       "<table border=\"1\" class=\"dataframe\">\n",
       "  <thead>\n",
       "    <tr style=\"text-align: right;\">\n",
       "      <th></th>\n",
       "      <th>imiss_a_2016_0.0</th>\n",
       "      <th>imiss_a_2016_1.0</th>\n",
       "      <th>imiss_a_2016_2.0</th>\n",
       "      <th>imiss_a_2016_3.0</th>\n",
       "      <th>imiss_a_2016_4.0</th>\n",
       "      <th>imiss_b_2016_0.0</th>\n",
       "      <th>imiss_b_2016_1.0</th>\n",
       "      <th>imiss_b_2016_2.0</th>\n",
       "      <th>imiss_b_2016_3.0</th>\n",
       "      <th>imiss_b_2016_4.0</th>\n",
       "      <th>...</th>\n",
       "      <th>imiss_x_2016_0.0</th>\n",
       "      <th>imiss_x_2016_1.0</th>\n",
       "      <th>imiss_x_2016_2.0</th>\n",
       "      <th>imiss_x_2016_3.0</th>\n",
       "      <th>imiss_x_2016_4.0</th>\n",
       "      <th>imiss_y_2016_0.0</th>\n",
       "      <th>imiss_y_2016_1.0</th>\n",
       "      <th>imiss_y_2016_2.0</th>\n",
       "      <th>imiss_y_2016_3.0</th>\n",
       "      <th>imiss_y_2016_4.0</th>\n",
       "    </tr>\n",
       "  </thead>\n",
       "  <tbody>\n",
       "    <tr>\n",
       "      <th>0</th>\n",
       "      <td>0</td>\n",
       "      <td>0</td>\n",
       "      <td>1</td>\n",
       "      <td>0</td>\n",
       "      <td>0</td>\n",
       "      <td>0</td>\n",
       "      <td>0</td>\n",
       "      <td>1</td>\n",
       "      <td>0</td>\n",
       "      <td>0</td>\n",
       "      <td>...</td>\n",
       "      <td>0</td>\n",
       "      <td>1</td>\n",
       "      <td>0</td>\n",
       "      <td>0</td>\n",
       "      <td>0</td>\n",
       "      <td>0</td>\n",
       "      <td>1</td>\n",
       "      <td>0</td>\n",
       "      <td>0</td>\n",
       "      <td>0</td>\n",
       "    </tr>\n",
       "    <tr>\n",
       "      <th>1</th>\n",
       "      <td>0</td>\n",
       "      <td>1</td>\n",
       "      <td>0</td>\n",
       "      <td>0</td>\n",
       "      <td>0</td>\n",
       "      <td>0</td>\n",
       "      <td>1</td>\n",
       "      <td>0</td>\n",
       "      <td>0</td>\n",
       "      <td>0</td>\n",
       "      <td>...</td>\n",
       "      <td>0</td>\n",
       "      <td>0</td>\n",
       "      <td>0</td>\n",
       "      <td>1</td>\n",
       "      <td>0</td>\n",
       "      <td>0</td>\n",
       "      <td>0</td>\n",
       "      <td>0</td>\n",
       "      <td>0</td>\n",
       "      <td>1</td>\n",
       "    </tr>\n",
       "    <tr>\n",
       "      <th>2</th>\n",
       "      <td>0</td>\n",
       "      <td>1</td>\n",
       "      <td>0</td>\n",
       "      <td>0</td>\n",
       "      <td>0</td>\n",
       "      <td>0</td>\n",
       "      <td>1</td>\n",
       "      <td>0</td>\n",
       "      <td>0</td>\n",
       "      <td>0</td>\n",
       "      <td>...</td>\n",
       "      <td>0</td>\n",
       "      <td>1</td>\n",
       "      <td>0</td>\n",
       "      <td>0</td>\n",
       "      <td>0</td>\n",
       "      <td>0</td>\n",
       "      <td>0</td>\n",
       "      <td>1</td>\n",
       "      <td>0</td>\n",
       "      <td>0</td>\n",
       "    </tr>\n",
       "    <tr>\n",
       "      <th>3</th>\n",
       "      <td>0</td>\n",
       "      <td>1</td>\n",
       "      <td>0</td>\n",
       "      <td>0</td>\n",
       "      <td>0</td>\n",
       "      <td>0</td>\n",
       "      <td>0</td>\n",
       "      <td>1</td>\n",
       "      <td>0</td>\n",
       "      <td>0</td>\n",
       "      <td>...</td>\n",
       "      <td>0</td>\n",
       "      <td>0</td>\n",
       "      <td>1</td>\n",
       "      <td>0</td>\n",
       "      <td>0</td>\n",
       "      <td>0</td>\n",
       "      <td>0</td>\n",
       "      <td>0</td>\n",
       "      <td>1</td>\n",
       "      <td>0</td>\n",
       "    </tr>\n",
       "    <tr>\n",
       "      <th>4</th>\n",
       "      <td>0</td>\n",
       "      <td>1</td>\n",
       "      <td>0</td>\n",
       "      <td>0</td>\n",
       "      <td>0</td>\n",
       "      <td>0</td>\n",
       "      <td>1</td>\n",
       "      <td>0</td>\n",
       "      <td>0</td>\n",
       "      <td>0</td>\n",
       "      <td>...</td>\n",
       "      <td>0</td>\n",
       "      <td>1</td>\n",
       "      <td>0</td>\n",
       "      <td>0</td>\n",
       "      <td>0</td>\n",
       "      <td>0</td>\n",
       "      <td>1</td>\n",
       "      <td>0</td>\n",
       "      <td>0</td>\n",
       "      <td>0</td>\n",
       "    </tr>\n",
       "  </tbody>\n",
       "</table>\n",
       "<p>5 rows × 115 columns</p>\n",
       "</div>"
      ],
      "text/plain": [
       "   imiss_a_2016_0.0  imiss_a_2016_1.0  imiss_a_2016_2.0  imiss_a_2016_3.0  \\\n",
       "0                 0                 0                 1                 0   \n",
       "1                 0                 1                 0                 0   \n",
       "2                 0                 1                 0                 0   \n",
       "3                 0                 1                 0                 0   \n",
       "4                 0                 1                 0                 0   \n",
       "\n",
       "   imiss_a_2016_4.0  imiss_b_2016_0.0  imiss_b_2016_1.0  imiss_b_2016_2.0  \\\n",
       "0                 0                 0                 0                 1   \n",
       "1                 0                 0                 1                 0   \n",
       "2                 0                 0                 1                 0   \n",
       "3                 0                 0                 0                 1   \n",
       "4                 0                 0                 1                 0   \n",
       "\n",
       "   imiss_b_2016_3.0  imiss_b_2016_4.0  ...  imiss_x_2016_0.0  \\\n",
       "0                 0                 0  ...                 0   \n",
       "1                 0                 0  ...                 0   \n",
       "2                 0                 0  ...                 0   \n",
       "3                 0                 0  ...                 0   \n",
       "4                 0                 0  ...                 0   \n",
       "\n",
       "   imiss_x_2016_1.0  imiss_x_2016_2.0  imiss_x_2016_3.0  imiss_x_2016_4.0  \\\n",
       "0                 1                 0                 0                 0   \n",
       "1                 0                 0                 1                 0   \n",
       "2                 1                 0                 0                 0   \n",
       "3                 0                 1                 0                 0   \n",
       "4                 1                 0                 0                 0   \n",
       "\n",
       "   imiss_y_2016_0.0  imiss_y_2016_1.0  imiss_y_2016_2.0  imiss_y_2016_3.0  \\\n",
       "0                 0                 1                 0                 0   \n",
       "1                 0                 0                 0                 0   \n",
       "2                 0                 0                 1                 0   \n",
       "3                 0                 0                 0                 1   \n",
       "4                 0                 1                 0                 0   \n",
       "\n",
       "   imiss_y_2016_4.0  \n",
       "0                 0  \n",
       "1                 1  \n",
       "2                 0  \n",
       "3                 0  \n",
       "4                 0  \n",
       "\n",
       "[5 rows x 115 columns]"
      ]
     },
     "execution_count": 18,
     "metadata": {},
     "output_type": "execute_result"
    }
   ],
   "source": [
    "df_predictors.head()"
   ]
  },
  {
   "cell_type": "code",
   "execution_count": null,
   "metadata": {},
   "outputs": [],
   "source": []
  }
 ],
 "metadata": {
  "kernelspec": {
   "display_name": "Python 3",
   "language": "python",
   "name": "python3"
  },
  "language_info": {
   "codemirror_mode": {
    "name": "ipython",
    "version": 3
   },
   "file_extension": ".py",
   "mimetype": "text/x-python",
   "name": "python",
   "nbconvert_exporter": "python",
   "pygments_lexer": "ipython3",
   "version": "3.7.3"
  },
  "toc": {
   "base_numbering": 1,
   "nav_menu": {},
   "number_sections": true,
   "sideBar": true,
   "skip_h1_title": false,
   "title_cell": "Table of Contents",
   "title_sidebar": "Contents",
   "toc_cell": false,
   "toc_position": {},
   "toc_section_display": true,
   "toc_window_display": false
  }
 },
 "nbformat": 4,
 "nbformat_minor": 2
}
