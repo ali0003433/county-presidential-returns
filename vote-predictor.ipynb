{
 "cells": [
  {
   "cell_type": "markdown",
   "metadata": {},
   "source": [
    "## Data cleaning, feature engineering, and modeling"
   ]
  },
  {
   "cell_type": "code",
   "execution_count": 4,
   "metadata": {
    "ExecuteTime": {
     "end_time": "2019-11-23T12:30:46.402478Z",
     "start_time": "2019-11-23T12:30:42.975570Z"
    }
   },
   "outputs": [],
   "source": [
    "import numpy as np\n",
    "import pandas as pd\n",
    "import seaborn as sns\n",
    "import re\n",
    "import matplotlib.pyplot as plt"
   ]
  },
  {
   "cell_type": "code",
   "execution_count": 5,
   "metadata": {
    "ExecuteTime": {
     "end_time": "2019-11-23T12:30:50.419681Z",
     "start_time": "2019-11-23T12:30:46.427296Z"
    }
   },
   "outputs": [],
   "source": [
    "df = pd.read_csv('data/voter-survey-december16.csv')"
   ]
  },
  {
   "cell_type": "code",
   "execution_count": 6,
   "metadata": {
    "ExecuteTime": {
     "end_time": "2019-11-23T12:30:50.457358Z",
     "start_time": "2019-11-23T12:30:50.429912Z"
    }
   },
   "outputs": [],
   "source": [
    "pattern = '(imiss_).{1}(_2016)'\n",
    "def return_imiss_cols(df):\n",
    "    imiss_cols = []\n",
    "    for col in df.columns:\n",
    "        if re.search(pattern, col):\n",
    "            imiss_cols.append(col)\n",
    "    return imiss_cols\n",
    "\n",
    "# issue column list\n",
    "imiss_col_list = return_imiss_cols(df)"
   ]
  },
  {
   "cell_type": "code",
   "execution_count": 7,
   "metadata": {
    "ExecuteTime": {
     "end_time": "2019-11-23T12:30:50.507650Z",
     "start_time": "2019-11-23T12:30:50.476792Z"
    }
   },
   "outputs": [],
   "source": [
    "# target column list  \n",
    "target_col_list = ['presvote16post_2016']\n",
    "df_target = df[target_col_list]"
   ]
  },
  {
   "cell_type": "code",
   "execution_count": 8,
   "metadata": {
    "ExecuteTime": {
     "end_time": "2019-11-23T12:30:50.605536Z",
     "start_time": "2019-11-23T12:30:50.516747Z"
    }
   },
   "outputs": [
    {
     "data": {
      "text/plain": [
       "1.0    5947\n",
       "2.0    1688\n",
       "3.0     181\n",
       "0.0     127\n",
       "4.0      57\n",
       "Name: imiss_j_2016, dtype: int64"
      ]
     },
     "execution_count": 8,
     "metadata": {},
     "output_type": "execute_result"
    }
   ],
   "source": [
    "df_issue = df[imiss_col_list].fillna(0)\n",
    "df_issue['imiss_j_2016'].value_counts()#.isna().sum()"
   ]
  },
  {
   "cell_type": "code",
   "execution_count": 9,
   "metadata": {
    "ExecuteTime": {
     "end_time": "2019-11-23T12:30:51.074740Z",
     "start_time": "2019-11-23T12:30:50.619589Z"
    }
   },
   "outputs": [],
   "source": [
    "df_issue = df_issue.astype(str)\n",
    "df_issue = df_issue.join(df_target)"
   ]
  },
  {
   "cell_type": "code",
   "execution_count": 10,
   "metadata": {
    "ExecuteTime": {
     "end_time": "2019-11-23T12:30:51.347691Z",
     "start_time": "2019-11-23T12:30:51.086144Z"
    }
   },
   "outputs": [],
   "source": [
    "df_dummies = pd.get_dummies(df_issue)"
   ]
  },
  {
   "cell_type": "code",
   "execution_count": 11,
   "metadata": {
    "ExecuteTime": {
     "end_time": "2019-11-23T12:30:52.218769Z",
     "start_time": "2019-11-23T12:30:51.363130Z"
    }
   },
   "outputs": [
    {
     "data": {
      "text/plain": [
       "presvote16post_2016    1.000000\n",
       "imiss_l_2016_1.0       0.304989\n",
       "imiss_d_2016_1.0       0.286253\n",
       "imiss_y_2016_1.0       0.267083\n",
       "imiss_u_2016_1.0       0.254038\n",
       "imiss_x_2016_1.0       0.240264\n",
       "imiss_g_2016_1.0       0.230016\n",
       "imiss_p_2016_1.0       0.226241\n",
       "imiss_l_2016_4.0       0.212959\n",
       "imiss_u_2016_3.0       0.192896\n",
       "imiss_q_2016_1.0       0.185467\n",
       "imiss_g_2016_4.0       0.182592\n",
       "imiss_d_2016_3.0       0.179266\n",
       "imiss_l_2016_3.0       0.178131\n",
       "imiss_y_2016_4.0       0.176428\n",
       "imiss_p_2016_3.0       0.155080\n",
       "imiss_y_2016_3.0       0.153542\n",
       "imiss_j_2016_1.0       0.147418\n",
       "imiss_x_2016_3.0       0.144682\n",
       "imiss_i_2016_1.0       0.140380\n",
       "imiss_f_2016_1.0       0.137812\n",
       "imiss_s_2016_1.0       0.135825\n",
       "imiss_i_2016_3.0       0.135604\n",
       "imiss_k_2016_1.0       0.133861\n",
       "imiss_r_2016_1.0       0.132862\n",
       "imiss_h_2016_1.0       0.129626\n",
       "imiss_x_2016_4.0       0.123174\n",
       "imiss_q_2016_3.0       0.120913\n",
       "imiss_i_2016_4.0       0.120097\n",
       "imiss_e_2016_1.0       0.119690\n",
       "                         ...   \n",
       "imiss_r_2016_4.0       0.019569\n",
       "imiss_m_2016_0.0       0.018127\n",
       "imiss_r_2016_0.0       0.018078\n",
       "imiss_l_2016_2.0       0.015773\n",
       "imiss_b_2016_3.0       0.015637\n",
       "imiss_t_2016_3.0       0.014887\n",
       "imiss_q_2016_0.0       0.014776\n",
       "imiss_o_2016_0.0       0.013943\n",
       "imiss_s_2016_0.0       0.013816\n",
       "imiss_e_2016_0.0       0.012039\n",
       "imiss_f_2016_0.0       0.011371\n",
       "imiss_f_2016_4.0       0.011195\n",
       "imiss_y_2016_2.0       0.011033\n",
       "imiss_x_2016_0.0       0.010416\n",
       "imiss_k_2016_0.0       0.010204\n",
       "imiss_t_2016_4.0       0.010117\n",
       "imiss_t_2016_0.0       0.009895\n",
       "imiss_c_2016_0.0       0.009744\n",
       "imiss_g_2016_0.0       0.007945\n",
       "imiss_l_2016_0.0       0.007425\n",
       "imiss_b_2016_4.0       0.007184\n",
       "imiss_d_2016_0.0       0.006467\n",
       "imiss_t_2016_1.0       0.006144\n",
       "imiss_a_2016_4.0       0.005277\n",
       "imiss_y_2016_0.0       0.005057\n",
       "imiss_j_2016_0.0       0.005016\n",
       "imiss_p_2016_0.0       0.004494\n",
       "imiss_o_2016_3.0       0.003753\n",
       "imiss_u_2016_0.0       0.003441\n",
       "imiss_a_2016_0.0       0.001411\n",
       "Name: presvote16post_2016, Length: 116, dtype: float64"
      ]
     },
     "execution_count": 11,
     "metadata": {},
     "output_type": "execute_result"
    }
   ],
   "source": [
    "df_dummies.corr()['presvote16post_2016'].abs().sort_values(ascending=False)"
   ]
  },
  {
   "cell_type": "code",
   "execution_count": 12,
   "metadata": {
    "ExecuteTime": {
     "end_time": "2019-11-23T12:30:52.248802Z",
     "start_time": "2019-11-23T12:30:52.226923Z"
    }
   },
   "outputs": [
    {
     "data": {
      "text/plain": [
       "(8000, 116)"
      ]
     },
     "execution_count": 12,
     "metadata": {},
     "output_type": "execute_result"
    }
   ],
   "source": [
    "df_dummies.shape"
   ]
  },
  {
   "cell_type": "code",
   "execution_count": 13,
   "metadata": {
    "ExecuteTime": {
     "end_time": "2019-11-23T12:30:52.292578Z",
     "start_time": "2019-11-23T12:30:52.258797Z"
    }
   },
   "outputs": [],
   "source": [
    "df_predictors = df_dummies.drop('presvote16post_2016', axis=1)"
   ]
  },
  {
   "cell_type": "code",
   "execution_count": 14,
   "metadata": {
    "ExecuteTime": {
     "end_time": "2019-11-23T12:30:52.396758Z",
     "start_time": "2019-11-23T12:30:52.309413Z"
    }
   },
   "outputs": [
    {
     "data": {
      "text/html": [
       "<div>\n",
       "<style scoped>\n",
       "    .dataframe tbody tr th:only-of-type {\n",
       "        vertical-align: middle;\n",
       "    }\n",
       "\n",
       "    .dataframe tbody tr th {\n",
       "        vertical-align: top;\n",
       "    }\n",
       "\n",
       "    .dataframe thead th {\n",
       "        text-align: right;\n",
       "    }\n",
       "</style>\n",
       "<table border=\"1\" class=\"dataframe\">\n",
       "  <thead>\n",
       "    <tr style=\"text-align: right;\">\n",
       "      <th></th>\n",
       "      <th>imiss_a_2016_0.0</th>\n",
       "      <th>imiss_a_2016_1.0</th>\n",
       "      <th>imiss_a_2016_2.0</th>\n",
       "      <th>imiss_a_2016_3.0</th>\n",
       "      <th>imiss_a_2016_4.0</th>\n",
       "      <th>imiss_b_2016_0.0</th>\n",
       "      <th>imiss_b_2016_1.0</th>\n",
       "      <th>imiss_b_2016_2.0</th>\n",
       "      <th>imiss_b_2016_3.0</th>\n",
       "      <th>imiss_b_2016_4.0</th>\n",
       "      <th>...</th>\n",
       "      <th>imiss_x_2016_0.0</th>\n",
       "      <th>imiss_x_2016_1.0</th>\n",
       "      <th>imiss_x_2016_2.0</th>\n",
       "      <th>imiss_x_2016_3.0</th>\n",
       "      <th>imiss_x_2016_4.0</th>\n",
       "      <th>imiss_y_2016_0.0</th>\n",
       "      <th>imiss_y_2016_1.0</th>\n",
       "      <th>imiss_y_2016_2.0</th>\n",
       "      <th>imiss_y_2016_3.0</th>\n",
       "      <th>imiss_y_2016_4.0</th>\n",
       "    </tr>\n",
       "  </thead>\n",
       "  <tbody>\n",
       "    <tr>\n",
       "      <th>0</th>\n",
       "      <td>0</td>\n",
       "      <td>0</td>\n",
       "      <td>1</td>\n",
       "      <td>0</td>\n",
       "      <td>0</td>\n",
       "      <td>0</td>\n",
       "      <td>0</td>\n",
       "      <td>1</td>\n",
       "      <td>0</td>\n",
       "      <td>0</td>\n",
       "      <td>...</td>\n",
       "      <td>0</td>\n",
       "      <td>1</td>\n",
       "      <td>0</td>\n",
       "      <td>0</td>\n",
       "      <td>0</td>\n",
       "      <td>0</td>\n",
       "      <td>1</td>\n",
       "      <td>0</td>\n",
       "      <td>0</td>\n",
       "      <td>0</td>\n",
       "    </tr>\n",
       "    <tr>\n",
       "      <th>1</th>\n",
       "      <td>0</td>\n",
       "      <td>1</td>\n",
       "      <td>0</td>\n",
       "      <td>0</td>\n",
       "      <td>0</td>\n",
       "      <td>0</td>\n",
       "      <td>1</td>\n",
       "      <td>0</td>\n",
       "      <td>0</td>\n",
       "      <td>0</td>\n",
       "      <td>...</td>\n",
       "      <td>0</td>\n",
       "      <td>0</td>\n",
       "      <td>0</td>\n",
       "      <td>1</td>\n",
       "      <td>0</td>\n",
       "      <td>0</td>\n",
       "      <td>0</td>\n",
       "      <td>0</td>\n",
       "      <td>0</td>\n",
       "      <td>1</td>\n",
       "    </tr>\n",
       "    <tr>\n",
       "      <th>2</th>\n",
       "      <td>0</td>\n",
       "      <td>1</td>\n",
       "      <td>0</td>\n",
       "      <td>0</td>\n",
       "      <td>0</td>\n",
       "      <td>0</td>\n",
       "      <td>1</td>\n",
       "      <td>0</td>\n",
       "      <td>0</td>\n",
       "      <td>0</td>\n",
       "      <td>...</td>\n",
       "      <td>0</td>\n",
       "      <td>1</td>\n",
       "      <td>0</td>\n",
       "      <td>0</td>\n",
       "      <td>0</td>\n",
       "      <td>0</td>\n",
       "      <td>0</td>\n",
       "      <td>1</td>\n",
       "      <td>0</td>\n",
       "      <td>0</td>\n",
       "    </tr>\n",
       "    <tr>\n",
       "      <th>3</th>\n",
       "      <td>0</td>\n",
       "      <td>1</td>\n",
       "      <td>0</td>\n",
       "      <td>0</td>\n",
       "      <td>0</td>\n",
       "      <td>0</td>\n",
       "      <td>0</td>\n",
       "      <td>1</td>\n",
       "      <td>0</td>\n",
       "      <td>0</td>\n",
       "      <td>...</td>\n",
       "      <td>0</td>\n",
       "      <td>0</td>\n",
       "      <td>1</td>\n",
       "      <td>0</td>\n",
       "      <td>0</td>\n",
       "      <td>0</td>\n",
       "      <td>0</td>\n",
       "      <td>0</td>\n",
       "      <td>1</td>\n",
       "      <td>0</td>\n",
       "    </tr>\n",
       "    <tr>\n",
       "      <th>4</th>\n",
       "      <td>0</td>\n",
       "      <td>1</td>\n",
       "      <td>0</td>\n",
       "      <td>0</td>\n",
       "      <td>0</td>\n",
       "      <td>0</td>\n",
       "      <td>1</td>\n",
       "      <td>0</td>\n",
       "      <td>0</td>\n",
       "      <td>0</td>\n",
       "      <td>...</td>\n",
       "      <td>0</td>\n",
       "      <td>1</td>\n",
       "      <td>0</td>\n",
       "      <td>0</td>\n",
       "      <td>0</td>\n",
       "      <td>0</td>\n",
       "      <td>1</td>\n",
       "      <td>0</td>\n",
       "      <td>0</td>\n",
       "      <td>0</td>\n",
       "    </tr>\n",
       "  </tbody>\n",
       "</table>\n",
       "<p>5 rows × 115 columns</p>\n",
       "</div>"
      ],
      "text/plain": [
       "   imiss_a_2016_0.0  imiss_a_2016_1.0  imiss_a_2016_2.0  imiss_a_2016_3.0  \\\n",
       "0                 0                 0                 1                 0   \n",
       "1                 0                 1                 0                 0   \n",
       "2                 0                 1                 0                 0   \n",
       "3                 0                 1                 0                 0   \n",
       "4                 0                 1                 0                 0   \n",
       "\n",
       "   imiss_a_2016_4.0  imiss_b_2016_0.0  imiss_b_2016_1.0  imiss_b_2016_2.0  \\\n",
       "0                 0                 0                 0                 1   \n",
       "1                 0                 0                 1                 0   \n",
       "2                 0                 0                 1                 0   \n",
       "3                 0                 0                 0                 1   \n",
       "4                 0                 0                 1                 0   \n",
       "\n",
       "   imiss_b_2016_3.0  imiss_b_2016_4.0  ...  imiss_x_2016_0.0  \\\n",
       "0                 0                 0  ...                 0   \n",
       "1                 0                 0  ...                 0   \n",
       "2                 0                 0  ...                 0   \n",
       "3                 0                 0  ...                 0   \n",
       "4                 0                 0  ...                 0   \n",
       "\n",
       "   imiss_x_2016_1.0  imiss_x_2016_2.0  imiss_x_2016_3.0  imiss_x_2016_4.0  \\\n",
       "0                 1                 0                 0                 0   \n",
       "1                 0                 0                 1                 0   \n",
       "2                 1                 0                 0                 0   \n",
       "3                 0                 1                 0                 0   \n",
       "4                 1                 0                 0                 0   \n",
       "\n",
       "   imiss_y_2016_0.0  imiss_y_2016_1.0  imiss_y_2016_2.0  imiss_y_2016_3.0  \\\n",
       "0                 0                 1                 0                 0   \n",
       "1                 0                 0                 0                 0   \n",
       "2                 0                 0                 1                 0   \n",
       "3                 0                 0                 0                 1   \n",
       "4                 0                 1                 0                 0   \n",
       "\n",
       "   imiss_y_2016_4.0  \n",
       "0                 0  \n",
       "1                 1  \n",
       "2                 0  \n",
       "3                 0  \n",
       "4                 0  \n",
       "\n",
       "[5 rows x 115 columns]"
      ]
     },
     "execution_count": 14,
     "metadata": {},
     "output_type": "execute_result"
    }
   ],
   "source": [
    "df_predictors.head()"
   ]
  },
  {
   "cell_type": "markdown",
   "metadata": {},
   "source": [
    "## K means clustering"
   ]
  },
  {
   "cell_type": "code",
   "execution_count": 15,
   "metadata": {
    "ExecuteTime": {
     "end_time": "2019-11-23T12:30:52.428142Z",
     "start_time": "2019-11-23T12:30:52.410032Z"
    }
   },
   "outputs": [],
   "source": [
    "X = df_predictors"
   ]
  },
  {
   "cell_type": "code",
   "execution_count": 16,
   "metadata": {
    "ExecuteTime": {
     "end_time": "2019-11-23T12:30:52.612008Z",
     "start_time": "2019-11-23T12:30:52.448945Z"
    }
   },
   "outputs": [],
   "source": [
    "from sklearn.cluster import KMeans\n",
    "from sklearn import metrics \n",
    "from sklearn.model_selection import train_test_split"
   ]
  },
  {
   "cell_type": "code",
   "execution_count": 17,
   "metadata": {
    "ExecuteTime": {
     "end_time": "2019-11-23T12:30:55.013529Z",
     "start_time": "2019-11-23T12:30:52.622725Z"
    }
   },
   "outputs": [
    {
     "data": {
      "text/plain": [
       "KMeans(algorithm='auto', copy_x=True, init='k-means++', max_iter=300,\n",
       "       n_clusters=2, n_init=10, n_jobs=None, precompute_distances='auto',\n",
       "       random_state=None, tol=0.0001, verbose=0)"
      ]
     },
     "execution_count": 17,
     "metadata": {},
     "output_type": "execute_result"
    }
   ],
   "source": [
    "k_means = KMeans(n_clusters=2)\n",
    "k_means.fit(X)"
   ]
  },
  {
   "cell_type": "code",
   "execution_count": 18,
   "metadata": {
    "ExecuteTime": {
     "end_time": "2019-11-23T12:30:55.039134Z",
     "start_time": "2019-11-23T12:30:55.021301Z"
    }
   },
   "outputs": [],
   "source": [
    "labels = k_means.labels_"
   ]
  },
  {
   "cell_type": "code",
   "execution_count": 19,
   "metadata": {
    "ExecuteTime": {
     "end_time": "2019-11-23T12:30:55.099575Z",
     "start_time": "2019-11-23T12:30:55.048094Z"
    }
   },
   "outputs": [],
   "source": [
    "y_pred = k_means.predict(X)"
   ]
  },
  {
   "cell_type": "code",
   "execution_count": 20,
   "metadata": {
    "ExecuteTime": {
     "end_time": "2019-11-23T12:30:56.255666Z",
     "start_time": "2019-11-23T12:30:55.111540Z"
    }
   },
   "outputs": [
    {
     "data": {
      "text/plain": [
       "<matplotlib.collections.PathCollection at 0x1a233de5f8>"
      ]
     },
     "execution_count": 20,
     "metadata": {},
     "output_type": "execute_result"
    },
    {
     "data": {
      "image/png": "[encoded data removed]",
      "text/plain": [
       "<Figure size 360x360 with 1 Axes>"
      ]
     },
     "metadata": {
      "needs_background": "light"
     },
     "output_type": "display_data"
    }
   ],
   "source": [
    "plt.figure(figsize=(5,5))\n",
    "cl_centers = k_means.cluster_centers_\n",
    "plt.scatter(cl_centers[:, 0], cl_centers[:, 1], c='black', s=300)"
   ]
  },
  {
   "cell_type": "code",
   "execution_count": 21,
   "metadata": {
    "ExecuteTime": {
     "end_time": "2019-11-23T12:31:08.062675Z",
     "start_time": "2019-11-23T12:30:56.266986Z"
    }
   },
   "outputs": [
    {
     "data": {
      "text/plain": [
       "0.09122755047749001"
      ]
     },
     "execution_count": 21,
     "metadata": {},
     "output_type": "execute_result"
    }
   ],
   "source": [
    "metrics.silhouette_score(X, labels, metric='euclidean')"
   ]
  },
  {
   "cell_type": "code",
   "execution_count": 22,
   "metadata": {
    "ExecuteTime": {
     "end_time": "2019-11-23T12:31:08.174495Z",
     "start_time": "2019-11-23T12:31:08.071763Z"
    }
   },
   "outputs": [
    {
     "data": {
      "text/plain": [
       "836.4878129298589"
      ]
     },
     "execution_count": 22,
     "metadata": {},
     "output_type": "execute_result"
    }
   ],
   "source": [
    "metrics.calinski_harabasz_score(X, labels)"
   ]
  },
  {
   "cell_type": "code",
   "execution_count": 23,
   "metadata": {
    "ExecuteTime": {
     "end_time": "2019-11-23T12:31:08.237368Z",
     "start_time": "2019-11-23T12:31:08.186930Z"
    }
   },
   "outputs": [
    {
     "name": "stdout",
     "output_type": "stream",
     "text": [
      "(8000, 1)\n"
     ]
    }
   ],
   "source": [
    "df_target = df[target_col_list]\n",
    "print(df_target.shape)\n",
    "df_target_arr = np.ravel(df_target)"
   ]
  },
  {
   "cell_type": "code",
   "execution_count": 24,
   "metadata": {
    "ExecuteTime": {
     "end_time": "2019-11-23T12:31:08.280448Z",
     "start_time": "2019-11-23T12:31:08.253807Z"
    }
   },
   "outputs": [
    {
     "data": {
      "text/plain": [
       "(8000,)"
      ]
     },
     "execution_count": 24,
     "metadata": {},
     "output_type": "execute_result"
    }
   ],
   "source": [
    "df_target_arr\n",
    "y_pred.shape"
   ]
  },
  {
   "cell_type": "code",
   "execution_count": 25,
   "metadata": {
    "ExecuteTime": {
     "end_time": "2019-11-23T12:31:08.417089Z",
     "start_time": "2019-11-23T12:31:08.293950Z"
    }
   },
   "outputs": [],
   "source": [
    "dataset = pd.DataFrame({ 'y_pred': y_pred}, \n",
    "                        columns=[ 'y_pred']\n",
    "                        )"
   ]
  },
  {
   "cell_type": "code",
   "execution_count": 26,
   "metadata": {
    "ExecuteTime": {
     "end_time": "2019-11-23T12:31:08.494964Z",
     "start_time": "2019-11-23T12:31:08.441599Z"
    }
   },
   "outputs": [
    {
     "data": {
      "text/html": [
       "<div>\n",
       "<style scoped>\n",
       "    .dataframe tbody tr th:only-of-type {\n",
       "        vertical-align: middle;\n",
       "    }\n",
       "\n",
       "    .dataframe tbody tr th {\n",
       "        vertical-align: top;\n",
       "    }\n",
       "\n",
       "    .dataframe thead th {\n",
       "        text-align: right;\n",
       "    }\n",
       "</style>\n",
       "<table border=\"1\" class=\"dataframe\">\n",
       "  <thead>\n",
       "    <tr style=\"text-align: right;\">\n",
       "      <th></th>\n",
       "      <th>y_pred</th>\n",
       "    </tr>\n",
       "  </thead>\n",
       "  <tbody>\n",
       "    <tr>\n",
       "      <th>0</th>\n",
       "      <td>1</td>\n",
       "    </tr>\n",
       "    <tr>\n",
       "      <th>1</th>\n",
       "      <td>0</td>\n",
       "    </tr>\n",
       "    <tr>\n",
       "      <th>2</th>\n",
       "      <td>1</td>\n",
       "    </tr>\n",
       "    <tr>\n",
       "      <th>3</th>\n",
       "      <td>0</td>\n",
       "    </tr>\n",
       "    <tr>\n",
       "      <th>4</th>\n",
       "      <td>1</td>\n",
       "    </tr>\n",
       "  </tbody>\n",
       "</table>\n",
       "</div>"
      ],
      "text/plain": [
       "   y_pred\n",
       "0       1\n",
       "1       0\n",
       "2       1\n",
       "3       0\n",
       "4       1"
      ]
     },
     "execution_count": 26,
     "metadata": {},
     "output_type": "execute_result"
    }
   ],
   "source": [
    "dataset.head()"
   ]
  },
  {
   "cell_type": "code",
   "execution_count": 27,
   "metadata": {
    "ExecuteTime": {
     "end_time": "2019-11-23T12:31:08.774697Z",
     "start_time": "2019-11-23T12:31:08.504430Z"
    }
   },
   "outputs": [
    {
     "data": {
      "text/html": [
       "<div>\n",
       "<style scoped>\n",
       "    .dataframe tbody tr th:only-of-type {\n",
       "        vertical-align: middle;\n",
       "    }\n",
       "\n",
       "    .dataframe tbody tr th {\n",
       "        vertical-align: top;\n",
       "    }\n",
       "\n",
       "    .dataframe thead th {\n",
       "        text-align: right;\n",
       "    }\n",
       "</style>\n",
       "<table border=\"1\" class=\"dataframe\">\n",
       "  <thead>\n",
       "    <tr style=\"text-align: right;\">\n",
       "      <th></th>\n",
       "      <th>imiss_a_2016_0.0</th>\n",
       "      <th>imiss_a_2016_1.0</th>\n",
       "      <th>imiss_a_2016_2.0</th>\n",
       "      <th>imiss_a_2016_3.0</th>\n",
       "      <th>imiss_a_2016_4.0</th>\n",
       "      <th>imiss_b_2016_0.0</th>\n",
       "      <th>imiss_b_2016_1.0</th>\n",
       "      <th>imiss_b_2016_2.0</th>\n",
       "      <th>imiss_b_2016_3.0</th>\n",
       "      <th>imiss_b_2016_4.0</th>\n",
       "      <th>...</th>\n",
       "      <th>imiss_x_2016_2.0</th>\n",
       "      <th>imiss_x_2016_3.0</th>\n",
       "      <th>imiss_x_2016_4.0</th>\n",
       "      <th>imiss_y_2016_0.0</th>\n",
       "      <th>imiss_y_2016_1.0</th>\n",
       "      <th>imiss_y_2016_2.0</th>\n",
       "      <th>imiss_y_2016_3.0</th>\n",
       "      <th>imiss_y_2016_4.0</th>\n",
       "      <th>presvote16post_2016</th>\n",
       "      <th>y_pred</th>\n",
       "    </tr>\n",
       "  </thead>\n",
       "  <tbody>\n",
       "    <tr>\n",
       "      <th>0</th>\n",
       "      <td>0</td>\n",
       "      <td>0</td>\n",
       "      <td>1</td>\n",
       "      <td>0</td>\n",
       "      <td>0</td>\n",
       "      <td>0</td>\n",
       "      <td>0</td>\n",
       "      <td>1</td>\n",
       "      <td>0</td>\n",
       "      <td>0</td>\n",
       "      <td>...</td>\n",
       "      <td>0</td>\n",
       "      <td>0</td>\n",
       "      <td>0</td>\n",
       "      <td>0</td>\n",
       "      <td>1</td>\n",
       "      <td>0</td>\n",
       "      <td>0</td>\n",
       "      <td>0</td>\n",
       "      <td>1.0</td>\n",
       "      <td>1</td>\n",
       "    </tr>\n",
       "    <tr>\n",
       "      <th>1</th>\n",
       "      <td>0</td>\n",
       "      <td>1</td>\n",
       "      <td>0</td>\n",
       "      <td>0</td>\n",
       "      <td>0</td>\n",
       "      <td>0</td>\n",
       "      <td>1</td>\n",
       "      <td>0</td>\n",
       "      <td>0</td>\n",
       "      <td>0</td>\n",
       "      <td>...</td>\n",
       "      <td>0</td>\n",
       "      <td>1</td>\n",
       "      <td>0</td>\n",
       "      <td>0</td>\n",
       "      <td>0</td>\n",
       "      <td>0</td>\n",
       "      <td>0</td>\n",
       "      <td>1</td>\n",
       "      <td>2.0</td>\n",
       "      <td>0</td>\n",
       "    </tr>\n",
       "    <tr>\n",
       "      <th>2</th>\n",
       "      <td>0</td>\n",
       "      <td>1</td>\n",
       "      <td>0</td>\n",
       "      <td>0</td>\n",
       "      <td>0</td>\n",
       "      <td>0</td>\n",
       "      <td>1</td>\n",
       "      <td>0</td>\n",
       "      <td>0</td>\n",
       "      <td>0</td>\n",
       "      <td>...</td>\n",
       "      <td>0</td>\n",
       "      <td>0</td>\n",
       "      <td>0</td>\n",
       "      <td>0</td>\n",
       "      <td>0</td>\n",
       "      <td>1</td>\n",
       "      <td>0</td>\n",
       "      <td>0</td>\n",
       "      <td>1.0</td>\n",
       "      <td>1</td>\n",
       "    </tr>\n",
       "    <tr>\n",
       "      <th>3</th>\n",
       "      <td>0</td>\n",
       "      <td>1</td>\n",
       "      <td>0</td>\n",
       "      <td>0</td>\n",
       "      <td>0</td>\n",
       "      <td>0</td>\n",
       "      <td>0</td>\n",
       "      <td>1</td>\n",
       "      <td>0</td>\n",
       "      <td>0</td>\n",
       "      <td>...</td>\n",
       "      <td>1</td>\n",
       "      <td>0</td>\n",
       "      <td>0</td>\n",
       "      <td>0</td>\n",
       "      <td>0</td>\n",
       "      <td>0</td>\n",
       "      <td>1</td>\n",
       "      <td>0</td>\n",
       "      <td>3.0</td>\n",
       "      <td>0</td>\n",
       "    </tr>\n",
       "    <tr>\n",
       "      <th>4</th>\n",
       "      <td>0</td>\n",
       "      <td>1</td>\n",
       "      <td>0</td>\n",
       "      <td>0</td>\n",
       "      <td>0</td>\n",
       "      <td>0</td>\n",
       "      <td>1</td>\n",
       "      <td>0</td>\n",
       "      <td>0</td>\n",
       "      <td>0</td>\n",
       "      <td>...</td>\n",
       "      <td>0</td>\n",
       "      <td>0</td>\n",
       "      <td>0</td>\n",
       "      <td>0</td>\n",
       "      <td>1</td>\n",
       "      <td>0</td>\n",
       "      <td>0</td>\n",
       "      <td>0</td>\n",
       "      <td>2.0</td>\n",
       "      <td>1</td>\n",
       "    </tr>\n",
       "    <tr>\n",
       "      <th>5</th>\n",
       "      <td>0</td>\n",
       "      <td>0</td>\n",
       "      <td>1</td>\n",
       "      <td>0</td>\n",
       "      <td>0</td>\n",
       "      <td>0</td>\n",
       "      <td>1</td>\n",
       "      <td>0</td>\n",
       "      <td>0</td>\n",
       "      <td>0</td>\n",
       "      <td>...</td>\n",
       "      <td>0</td>\n",
       "      <td>0</td>\n",
       "      <td>0</td>\n",
       "      <td>0</td>\n",
       "      <td>1</td>\n",
       "      <td>0</td>\n",
       "      <td>0</td>\n",
       "      <td>0</td>\n",
       "      <td>1.0</td>\n",
       "      <td>1</td>\n",
       "    </tr>\n",
       "    <tr>\n",
       "      <th>6</th>\n",
       "      <td>0</td>\n",
       "      <td>1</td>\n",
       "      <td>0</td>\n",
       "      <td>0</td>\n",
       "      <td>0</td>\n",
       "      <td>0</td>\n",
       "      <td>1</td>\n",
       "      <td>0</td>\n",
       "      <td>0</td>\n",
       "      <td>0</td>\n",
       "      <td>...</td>\n",
       "      <td>0</td>\n",
       "      <td>0</td>\n",
       "      <td>0</td>\n",
       "      <td>0</td>\n",
       "      <td>1</td>\n",
       "      <td>0</td>\n",
       "      <td>0</td>\n",
       "      <td>0</td>\n",
       "      <td>1.0</td>\n",
       "      <td>1</td>\n",
       "    </tr>\n",
       "    <tr>\n",
       "      <th>7</th>\n",
       "      <td>0</td>\n",
       "      <td>1</td>\n",
       "      <td>0</td>\n",
       "      <td>0</td>\n",
       "      <td>0</td>\n",
       "      <td>0</td>\n",
       "      <td>0</td>\n",
       "      <td>1</td>\n",
       "      <td>0</td>\n",
       "      <td>0</td>\n",
       "      <td>...</td>\n",
       "      <td>0</td>\n",
       "      <td>0</td>\n",
       "      <td>1</td>\n",
       "      <td>0</td>\n",
       "      <td>0</td>\n",
       "      <td>0</td>\n",
       "      <td>1</td>\n",
       "      <td>0</td>\n",
       "      <td>2.0</td>\n",
       "      <td>0</td>\n",
       "    </tr>\n",
       "    <tr>\n",
       "      <th>8</th>\n",
       "      <td>0</td>\n",
       "      <td>0</td>\n",
       "      <td>0</td>\n",
       "      <td>1</td>\n",
       "      <td>0</td>\n",
       "      <td>0</td>\n",
       "      <td>1</td>\n",
       "      <td>0</td>\n",
       "      <td>0</td>\n",
       "      <td>0</td>\n",
       "      <td>...</td>\n",
       "      <td>0</td>\n",
       "      <td>0</td>\n",
       "      <td>0</td>\n",
       "      <td>0</td>\n",
       "      <td>0</td>\n",
       "      <td>1</td>\n",
       "      <td>0</td>\n",
       "      <td>0</td>\n",
       "      <td>1.0</td>\n",
       "      <td>1</td>\n",
       "    </tr>\n",
       "    <tr>\n",
       "      <th>9</th>\n",
       "      <td>0</td>\n",
       "      <td>0</td>\n",
       "      <td>0</td>\n",
       "      <td>1</td>\n",
       "      <td>0</td>\n",
       "      <td>0</td>\n",
       "      <td>1</td>\n",
       "      <td>0</td>\n",
       "      <td>0</td>\n",
       "      <td>0</td>\n",
       "      <td>...</td>\n",
       "      <td>0</td>\n",
       "      <td>0</td>\n",
       "      <td>0</td>\n",
       "      <td>0</td>\n",
       "      <td>1</td>\n",
       "      <td>0</td>\n",
       "      <td>0</td>\n",
       "      <td>0</td>\n",
       "      <td>1.0</td>\n",
       "      <td>1</td>\n",
       "    </tr>\n",
       "  </tbody>\n",
       "</table>\n",
       "<p>10 rows × 117 columns</p>\n",
       "</div>"
      ],
      "text/plain": [
       "   imiss_a_2016_0.0  imiss_a_2016_1.0  imiss_a_2016_2.0  imiss_a_2016_3.0  \\\n",
       "0                 0                 0                 1                 0   \n",
       "1                 0                 1                 0                 0   \n",
       "2                 0                 1                 0                 0   \n",
       "3                 0                 1                 0                 0   \n",
       "4                 0                 1                 0                 0   \n",
       "5                 0                 0                 1                 0   \n",
       "6                 0                 1                 0                 0   \n",
       "7                 0                 1                 0                 0   \n",
       "8                 0                 0                 0                 1   \n",
       "9                 0                 0                 0                 1   \n",
       "\n",
       "   imiss_a_2016_4.0  imiss_b_2016_0.0  imiss_b_2016_1.0  imiss_b_2016_2.0  \\\n",
       "0                 0                 0                 0                 1   \n",
       "1                 0                 0                 1                 0   \n",
       "2                 0                 0                 1                 0   \n",
       "3                 0                 0                 0                 1   \n",
       "4                 0                 0                 1                 0   \n",
       "5                 0                 0                 1                 0   \n",
       "6                 0                 0                 1                 0   \n",
       "7                 0                 0                 0                 1   \n",
       "8                 0                 0                 1                 0   \n",
       "9                 0                 0                 1                 0   \n",
       "\n",
       "   imiss_b_2016_3.0  imiss_b_2016_4.0  ...  imiss_x_2016_2.0  \\\n",
       "0                 0                 0  ...                 0   \n",
       "1                 0                 0  ...                 0   \n",
       "2                 0                 0  ...                 0   \n",
       "3                 0                 0  ...                 1   \n",
       "4                 0                 0  ...                 0   \n",
       "5                 0                 0  ...                 0   \n",
       "6                 0                 0  ...                 0   \n",
       "7                 0                 0  ...                 0   \n",
       "8                 0                 0  ...                 0   \n",
       "9                 0                 0  ...                 0   \n",
       "\n",
       "   imiss_x_2016_3.0  imiss_x_2016_4.0  imiss_y_2016_0.0  imiss_y_2016_1.0  \\\n",
       "0                 0                 0                 0                 1   \n",
       "1                 1                 0                 0                 0   \n",
       "2                 0                 0                 0                 0   \n",
       "3                 0                 0                 0                 0   \n",
       "4                 0                 0                 0                 1   \n",
       "5                 0                 0                 0                 1   \n",
       "6                 0                 0                 0                 1   \n",
       "7                 0                 1                 0                 0   \n",
       "8                 0                 0                 0                 0   \n",
       "9                 0                 0                 0                 1   \n",
       "\n",
       "   imiss_y_2016_2.0  imiss_y_2016_3.0  imiss_y_2016_4.0  presvote16post_2016  \\\n",
       "0                 0                 0                 0                  1.0   \n",
       "1                 0                 0                 1                  2.0   \n",
       "2                 1                 0                 0                  1.0   \n",
       "3                 0                 1                 0                  3.0   \n",
       "4                 0                 0                 0                  2.0   \n",
       "5                 0                 0                 0                  1.0   \n",
       "6                 0                 0                 0                  1.0   \n",
       "7                 0                 1                 0                  2.0   \n",
       "8                 1                 0                 0                  1.0   \n",
       "9                 0                 0                 0                  1.0   \n",
       "\n",
       "   y_pred  \n",
       "0       1  \n",
       "1       0  \n",
       "2       1  \n",
       "3       0  \n",
       "4       1  \n",
       "5       1  \n",
       "6       1  \n",
       "7       0  \n",
       "8       1  \n",
       "9       1  \n",
       "\n",
       "[10 rows x 117 columns]"
      ]
     },
     "execution_count": 27,
     "metadata": {},
     "output_type": "execute_result"
    }
   ],
   "source": [
    "target_pred_df = df_predictors.join(df_target).join(dataset)\n",
    "target_pred_df.head(10)"
   ]
  },
  {
   "cell_type": "code",
   "execution_count": 28,
   "metadata": {
    "ExecuteTime": {
     "end_time": "2019-11-23T12:31:26.627393Z",
     "start_time": "2019-11-23T12:31:26.089401Z"
    }
   },
   "outputs": [
    {
     "name": "stdout",
     "output_type": "stream",
     "text": [
      "3479\n"
     ]
    }
   ],
   "source": [
    "count = 0\n",
    "for row in target_pred_df.itertuples():\n",
    "    if (row.presvote16post_2016 == 2): #and (row.y_pred == 0):\n",
    "        count +=1\n",
    "print(count)\n"
   ]
  },
  {
   "cell_type": "code",
   "execution_count": 29,
   "metadata": {
    "ExecuteTime": {
     "end_time": "2019-11-23T12:31:26.665510Z",
     "start_time": "2019-11-23T12:31:26.640689Z"
    }
   },
   "outputs": [
    {
     "data": {
      "text/plain": [
       "0.7272214386459802"
      ]
     },
     "execution_count": 29,
     "metadata": {},
     "output_type": "execute_result"
    }
   ],
   "source": [
    "2578/3545"
   ]
  },
  {
   "cell_type": "code",
   "execution_count": 30,
   "metadata": {
    "ExecuteTime": {
     "end_time": "2019-11-23T12:31:26.973713Z",
     "start_time": "2019-11-23T12:31:26.949043Z"
    }
   },
   "outputs": [
    {
     "data": {
      "text/plain": [
       "0.8033917792469101"
      ]
     },
     "execution_count": 30,
     "metadata": {},
     "output_type": "execute_result"
    }
   ],
   "source": [
    "2795/3479"
   ]
  },
  {
   "cell_type": "markdown",
   "metadata": {},
   "source": [
    "## Logistic regression"
   ]
  },
  {
   "cell_type": "code",
   "execution_count": 31,
   "metadata": {
    "ExecuteTime": {
     "end_time": "2019-11-23T12:31:27.377344Z",
     "start_time": "2019-11-23T12:31:27.365411Z"
    }
   },
   "outputs": [],
   "source": [
    "from sklearn.linear_model import LogisticRegression\n",
    "from sklearn.metrics import confusion_matrix"
   ]
  },
  {
   "cell_type": "code",
   "execution_count": 32,
   "metadata": {
    "ExecuteTime": {
     "end_time": "2019-11-23T12:31:27.775743Z",
     "start_time": "2019-11-23T12:31:27.695380Z"
    }
   },
   "outputs": [
    {
     "data": {
      "text/html": [
       "<div>\n",
       "<style scoped>\n",
       "    .dataframe tbody tr th:only-of-type {\n",
       "        vertical-align: middle;\n",
       "    }\n",
       "\n",
       "    .dataframe tbody tr th {\n",
       "        vertical-align: top;\n",
       "    }\n",
       "\n",
       "    .dataframe thead th {\n",
       "        text-align: right;\n",
       "    }\n",
       "</style>\n",
       "<table border=\"1\" class=\"dataframe\">\n",
       "  <thead>\n",
       "    <tr style=\"text-align: right;\">\n",
       "      <th></th>\n",
       "      <th>imiss_a_2016_0.0</th>\n",
       "      <th>imiss_a_2016_1.0</th>\n",
       "      <th>imiss_a_2016_2.0</th>\n",
       "      <th>imiss_a_2016_3.0</th>\n",
       "      <th>imiss_a_2016_4.0</th>\n",
       "      <th>imiss_b_2016_0.0</th>\n",
       "      <th>imiss_b_2016_1.0</th>\n",
       "      <th>imiss_b_2016_2.0</th>\n",
       "      <th>imiss_b_2016_3.0</th>\n",
       "      <th>imiss_b_2016_4.0</th>\n",
       "      <th>...</th>\n",
       "      <th>imiss_x_2016_0.0</th>\n",
       "      <th>imiss_x_2016_1.0</th>\n",
       "      <th>imiss_x_2016_2.0</th>\n",
       "      <th>imiss_x_2016_3.0</th>\n",
       "      <th>imiss_x_2016_4.0</th>\n",
       "      <th>imiss_y_2016_0.0</th>\n",
       "      <th>imiss_y_2016_1.0</th>\n",
       "      <th>imiss_y_2016_2.0</th>\n",
       "      <th>imiss_y_2016_3.0</th>\n",
       "      <th>imiss_y_2016_4.0</th>\n",
       "    </tr>\n",
       "  </thead>\n",
       "  <tbody>\n",
       "    <tr>\n",
       "      <th>0</th>\n",
       "      <td>0</td>\n",
       "      <td>0</td>\n",
       "      <td>1</td>\n",
       "      <td>0</td>\n",
       "      <td>0</td>\n",
       "      <td>0</td>\n",
       "      <td>0</td>\n",
       "      <td>1</td>\n",
       "      <td>0</td>\n",
       "      <td>0</td>\n",
       "      <td>...</td>\n",
       "      <td>0</td>\n",
       "      <td>1</td>\n",
       "      <td>0</td>\n",
       "      <td>0</td>\n",
       "      <td>0</td>\n",
       "      <td>0</td>\n",
       "      <td>1</td>\n",
       "      <td>0</td>\n",
       "      <td>0</td>\n",
       "      <td>0</td>\n",
       "    </tr>\n",
       "    <tr>\n",
       "      <th>1</th>\n",
       "      <td>0</td>\n",
       "      <td>1</td>\n",
       "      <td>0</td>\n",
       "      <td>0</td>\n",
       "      <td>0</td>\n",
       "      <td>0</td>\n",
       "      <td>1</td>\n",
       "      <td>0</td>\n",
       "      <td>0</td>\n",
       "      <td>0</td>\n",
       "      <td>...</td>\n",
       "      <td>0</td>\n",
       "      <td>0</td>\n",
       "      <td>0</td>\n",
       "      <td>1</td>\n",
       "      <td>0</td>\n",
       "      <td>0</td>\n",
       "      <td>0</td>\n",
       "      <td>0</td>\n",
       "      <td>0</td>\n",
       "      <td>1</td>\n",
       "    </tr>\n",
       "    <tr>\n",
       "      <th>2</th>\n",
       "      <td>0</td>\n",
       "      <td>1</td>\n",
       "      <td>0</td>\n",
       "      <td>0</td>\n",
       "      <td>0</td>\n",
       "      <td>0</td>\n",
       "      <td>1</td>\n",
       "      <td>0</td>\n",
       "      <td>0</td>\n",
       "      <td>0</td>\n",
       "      <td>...</td>\n",
       "      <td>0</td>\n",
       "      <td>1</td>\n",
       "      <td>0</td>\n",
       "      <td>0</td>\n",
       "      <td>0</td>\n",
       "      <td>0</td>\n",
       "      <td>0</td>\n",
       "      <td>1</td>\n",
       "      <td>0</td>\n",
       "      <td>0</td>\n",
       "    </tr>\n",
       "    <tr>\n",
       "      <th>3</th>\n",
       "      <td>0</td>\n",
       "      <td>1</td>\n",
       "      <td>0</td>\n",
       "      <td>0</td>\n",
       "      <td>0</td>\n",
       "      <td>0</td>\n",
       "      <td>0</td>\n",
       "      <td>1</td>\n",
       "      <td>0</td>\n",
       "      <td>0</td>\n",
       "      <td>...</td>\n",
       "      <td>0</td>\n",
       "      <td>0</td>\n",
       "      <td>1</td>\n",
       "      <td>0</td>\n",
       "      <td>0</td>\n",
       "      <td>0</td>\n",
       "      <td>0</td>\n",
       "      <td>0</td>\n",
       "      <td>1</td>\n",
       "      <td>0</td>\n",
       "    </tr>\n",
       "    <tr>\n",
       "      <th>4</th>\n",
       "      <td>0</td>\n",
       "      <td>1</td>\n",
       "      <td>0</td>\n",
       "      <td>0</td>\n",
       "      <td>0</td>\n",
       "      <td>0</td>\n",
       "      <td>1</td>\n",
       "      <td>0</td>\n",
       "      <td>0</td>\n",
       "      <td>0</td>\n",
       "      <td>...</td>\n",
       "      <td>0</td>\n",
       "      <td>1</td>\n",
       "      <td>0</td>\n",
       "      <td>0</td>\n",
       "      <td>0</td>\n",
       "      <td>0</td>\n",
       "      <td>1</td>\n",
       "      <td>0</td>\n",
       "      <td>0</td>\n",
       "      <td>0</td>\n",
       "    </tr>\n",
       "  </tbody>\n",
       "</table>\n",
       "<p>5 rows × 115 columns</p>\n",
       "</div>"
      ],
      "text/plain": [
       "   imiss_a_2016_0.0  imiss_a_2016_1.0  imiss_a_2016_2.0  imiss_a_2016_3.0  \\\n",
       "0                 0                 0                 1                 0   \n",
       "1                 0                 1                 0                 0   \n",
       "2                 0                 1                 0                 0   \n",
       "3                 0                 1                 0                 0   \n",
       "4                 0                 1                 0                 0   \n",
       "\n",
       "   imiss_a_2016_4.0  imiss_b_2016_0.0  imiss_b_2016_1.0  imiss_b_2016_2.0  \\\n",
       "0                 0                 0                 0                 1   \n",
       "1                 0                 0                 1                 0   \n",
       "2                 0                 0                 1                 0   \n",
       "3                 0                 0                 0                 1   \n",
       "4                 0                 0                 1                 0   \n",
       "\n",
       "   imiss_b_2016_3.0  imiss_b_2016_4.0  ...  imiss_x_2016_0.0  \\\n",
       "0                 0                 0  ...                 0   \n",
       "1                 0                 0  ...                 0   \n",
       "2                 0                 0  ...                 0   \n",
       "3                 0                 0  ...                 0   \n",
       "4                 0                 0  ...                 0   \n",
       "\n",
       "   imiss_x_2016_1.0  imiss_x_2016_2.0  imiss_x_2016_3.0  imiss_x_2016_4.0  \\\n",
       "0                 1                 0                 0                 0   \n",
       "1                 0                 0                 1                 0   \n",
       "2                 1                 0                 0                 0   \n",
       "3                 0                 1                 0                 0   \n",
       "4                 1                 0                 0                 0   \n",
       "\n",
       "   imiss_y_2016_0.0  imiss_y_2016_1.0  imiss_y_2016_2.0  imiss_y_2016_3.0  \\\n",
       "0                 0                 1                 0                 0   \n",
       "1                 0                 0                 0                 0   \n",
       "2                 0                 0                 1                 0   \n",
       "3                 0                 0                 0                 1   \n",
       "4                 0                 1                 0                 0   \n",
       "\n",
       "   imiss_y_2016_4.0  \n",
       "0                 0  \n",
       "1                 1  \n",
       "2                 0  \n",
       "3                 0  \n",
       "4                 0  \n",
       "\n",
       "[5 rows x 115 columns]"
      ]
     },
     "execution_count": 32,
     "metadata": {},
     "output_type": "execute_result"
    }
   ],
   "source": [
    "X = df_predictors\n",
    "y = df_target\n",
    "X.head()"
   ]
  },
  {
   "cell_type": "code",
   "execution_count": 33,
   "metadata": {
    "ExecuteTime": {
     "end_time": "2019-11-23T12:31:28.271305Z",
     "start_time": "2019-11-23T12:31:28.105442Z"
    }
   },
   "outputs": [
    {
     "data": {
      "text/plain": [
       "presvote16post_2016    394\n",
       "dtype: int64"
      ]
     },
     "execution_count": 33,
     "metadata": {},
     "output_type": "execute_result"
    }
   ],
   "source": [
    "X.isna().sum().any()\n",
    "y.isna().sum()"
   ]
  },
  {
   "cell_type": "code",
   "execution_count": 34,
   "metadata": {
    "ExecuteTime": {
     "end_time": "2019-11-23T12:31:28.316854Z",
     "start_time": "2019-11-23T12:31:28.301600Z"
    }
   },
   "outputs": [],
   "source": [
    "y = y.fillna(0)\n",
    "y = np.ravel(y)"
   ]
  },
  {
   "cell_type": "code",
   "execution_count": 35,
   "metadata": {
    "ExecuteTime": {
     "end_time": "2019-11-23T12:31:28.692331Z",
     "start_time": "2019-11-23T12:31:28.615762Z"
    }
   },
   "outputs": [],
   "source": [
    "X_train, X_test, y_train, y_test = train_test_split(X, \n",
    "                                                    y,\n",
    "                                                    test_size = 0.2, \n",
    "                                                    stratify=y)"
   ]
  },
  {
   "cell_type": "code",
   "execution_count": 36,
   "metadata": {
    "ExecuteTime": {
     "end_time": "2019-11-23T12:31:41.670865Z",
     "start_time": "2019-11-23T12:31:29.073440Z"
    }
   },
   "outputs": [],
   "source": [
    "lr = LogisticRegression(C=2, penalty='l2', \n",
    "                        solver='lbfgs', \n",
    "                        multi_class='auto', \n",
    "                        max_iter=1000)\n",
    "lr.fit(X_train, y_train)\n",
    "y_pred_test = lr.predict(X_test)"
   ]
  },
  {
   "cell_type": "code",
   "execution_count": 34,
   "metadata": {
    "ExecuteTime": {
     "end_time": "2019-11-23T11:40:38.976088Z",
     "start_time": "2019-11-23T11:40:38.961218Z"
    }
   },
   "outputs": [
    {
     "data": {
      "text/plain": [
       "Index(['presvote16post_2016'], dtype='object')"
      ]
     },
     "execution_count": 34,
     "metadata": {},
     "output_type": "execute_result"
    }
   ],
   "source": [
    "df_target.columns"
   ]
  },
  {
   "cell_type": "code",
   "execution_count": 35,
   "metadata": {
    "ExecuteTime": {
     "end_time": "2019-11-23T11:40:39.030765Z",
     "start_time": "2019-11-23T11:40:38.981295Z"
    }
   },
   "outputs": [
    {
     "data": {
      "text/html": [
       "<div>\n",
       "<style scoped>\n",
       "    .dataframe tbody tr th:only-of-type {\n",
       "        vertical-align: middle;\n",
       "    }\n",
       "\n",
       "    .dataframe tbody tr th {\n",
       "        vertical-align: top;\n",
       "    }\n",
       "\n",
       "    .dataframe thead th {\n",
       "        text-align: right;\n",
       "    }\n",
       "</style>\n",
       "<table border=\"1\" class=\"dataframe\">\n",
       "  <thead>\n",
       "    <tr style=\"text-align: right;\">\n",
       "      <th></th>\n",
       "      <th>Pred None</th>\n",
       "      <th>Pred Clinton</th>\n",
       "      <th>Pred Trump</th>\n",
       "      <th>Pred Johnson</th>\n",
       "      <th>Pred Stein</th>\n",
       "      <th>Pred McMullin</th>\n",
       "      <th>Pred Other</th>\n",
       "      <th>Pred Did Not Vote</th>\n",
       "    </tr>\n",
       "  </thead>\n",
       "  <tbody>\n",
       "    <tr>\n",
       "      <th>None</th>\n",
       "      <td>3</td>\n",
       "      <td>35</td>\n",
       "      <td>40</td>\n",
       "      <td>1</td>\n",
       "      <td>0</td>\n",
       "      <td>0</td>\n",
       "      <td>0</td>\n",
       "      <td>0</td>\n",
       "    </tr>\n",
       "    <tr>\n",
       "      <th>Clinton</th>\n",
       "      <td>1</td>\n",
       "      <td>631</td>\n",
       "      <td>74</td>\n",
       "      <td>2</td>\n",
       "      <td>0</td>\n",
       "      <td>0</td>\n",
       "      <td>1</td>\n",
       "      <td>0</td>\n",
       "    </tr>\n",
       "    <tr>\n",
       "      <th>Trump</th>\n",
       "      <td>1</td>\n",
       "      <td>56</td>\n",
       "      <td>638</td>\n",
       "      <td>1</td>\n",
       "      <td>0</td>\n",
       "      <td>0</td>\n",
       "      <td>0</td>\n",
       "      <td>0</td>\n",
       "    </tr>\n",
       "    <tr>\n",
       "      <th>Johnson</th>\n",
       "      <td>0</td>\n",
       "      <td>18</td>\n",
       "      <td>25</td>\n",
       "      <td>2</td>\n",
       "      <td>0</td>\n",
       "      <td>0</td>\n",
       "      <td>1</td>\n",
       "      <td>0</td>\n",
       "    </tr>\n",
       "    <tr>\n",
       "      <th>Stein</th>\n",
       "      <td>0</td>\n",
       "      <td>19</td>\n",
       "      <td>3</td>\n",
       "      <td>0</td>\n",
       "      <td>0</td>\n",
       "      <td>0</td>\n",
       "      <td>0</td>\n",
       "      <td>0</td>\n",
       "    </tr>\n",
       "    <tr>\n",
       "      <th>McMullin</th>\n",
       "      <td>0</td>\n",
       "      <td>1</td>\n",
       "      <td>4</td>\n",
       "      <td>0</td>\n",
       "      <td>0</td>\n",
       "      <td>0</td>\n",
       "      <td>0</td>\n",
       "      <td>0</td>\n",
       "    </tr>\n",
       "    <tr>\n",
       "      <th>Other</th>\n",
       "      <td>0</td>\n",
       "      <td>21</td>\n",
       "      <td>15</td>\n",
       "      <td>0</td>\n",
       "      <td>0</td>\n",
       "      <td>0</td>\n",
       "      <td>0</td>\n",
       "      <td>0</td>\n",
       "    </tr>\n",
       "    <tr>\n",
       "      <th>Did not vote</th>\n",
       "      <td>0</td>\n",
       "      <td>4</td>\n",
       "      <td>3</td>\n",
       "      <td>0</td>\n",
       "      <td>0</td>\n",
       "      <td>0</td>\n",
       "      <td>0</td>\n",
       "      <td>0</td>\n",
       "    </tr>\n",
       "  </tbody>\n",
       "</table>\n",
       "</div>"
      ],
      "text/plain": [
       "              Pred None  Pred Clinton  Pred Trump  Pred Johnson  Pred Stein  \\\n",
       "None                  3            35          40             1           0   \n",
       "Clinton               1           631          74             2           0   \n",
       "Trump                 1            56         638             1           0   \n",
       "Johnson               0            18          25             2           0   \n",
       "Stein                 0            19           3             0           0   \n",
       "McMullin              0             1           4             0           0   \n",
       "Other                 0            21          15             0           0   \n",
       "Did not vote          0             4           3             0           0   \n",
       "\n",
       "              Pred McMullin  Pred Other  Pred Did Not Vote  \n",
       "None                      0           0                  0  \n",
       "Clinton                   0           1                  0  \n",
       "Trump                     0           0                  0  \n",
       "Johnson                   0           1                  0  \n",
       "Stein                     0           0                  0  \n",
       "McMullin                  0           0                  0  \n",
       "Other                     0           0                  0  \n",
       "Did not vote              0           0                  0  "
      ]
     },
     "execution_count": 35,
     "metadata": {},
     "output_type": "execute_result"
    }
   ],
   "source": [
    "cm = confusion_matrix(y_test, y_pred_test)\n",
    "conf_matrix = pd.DataFrame(cm, index=['None','Clinton','Trump','Johnson','Stein','McMullin','Other','Did not vote'], \n",
    "                           columns=['Pred None','Pred Clinton','Pred Trump','Pred Johnson','Pred Stein','Pred McMullin','Pred Other','Pred Did Not Vote'])\n",
    "\n",
    "\n",
    "conf_matrix"
   ]
  },
  {
   "cell_type": "code",
   "execution_count": 36,
   "metadata": {
    "ExecuteTime": {
     "end_time": "2019-11-23T11:40:39.050767Z",
     "start_time": "2019-11-23T11:40:39.034393Z"
    }
   },
   "outputs": [
    {
     "data": {
      "text/plain": [
       "0.8899858956276445"
      ]
     },
     "execution_count": 36,
     "metadata": {},
     "output_type": "execute_result"
    }
   ],
   "source": [
    "# correct Clinton\n",
    "correct = cm[1][1]\n",
    "total = sum(cm[1])\n",
    "pred_correct = correct/total\n",
    "pred_correct"
   ]
  },
  {
   "cell_type": "code",
   "execution_count": 37,
   "metadata": {
    "ExecuteTime": {
     "end_time": "2019-11-23T11:40:39.076419Z",
     "start_time": "2019-11-23T11:40:39.061786Z"
    }
   },
   "outputs": [
    {
     "data": {
      "text/plain": [
       "0.9166666666666666"
      ]
     },
     "execution_count": 37,
     "metadata": {},
     "output_type": "execute_result"
    }
   ],
   "source": [
    "# correct Trump\n",
    "correct = cm[2][2]\n",
    "total = sum(cm[2])\n",
    "pred_correct = correct/total\n",
    "pred_correct"
   ]
  },
  {
   "cell_type": "code",
   "execution_count": 38,
   "metadata": {
    "ExecuteTime": {
     "end_time": "2019-11-23T11:40:39.094504Z",
     "start_time": "2019-11-23T11:40:39.081528Z"
    }
   },
   "outputs": [
    {
     "data": {
      "text/plain": [
       "115"
      ]
     },
     "execution_count": 38,
     "metadata": {},
     "output_type": "execute_result"
    }
   ],
   "source": [
    "len(lr.coef_[1])"
   ]
  },
  {
   "cell_type": "code",
   "execution_count": 39,
   "metadata": {
    "ExecuteTime": {
     "end_time": "2019-11-23T11:40:39.112844Z",
     "start_time": "2019-11-23T11:40:39.101755Z"
    }
   },
   "outputs": [
    {
     "data": {
      "text/plain": [
       "{'imiss_a_2016_0.0': -0.10404943923081895,\n",
       " 'imiss_a_2016_1.0': 0.24291226743981922,\n",
       " 'imiss_a_2016_2.0': 0.052454660109609245,\n",
       " 'imiss_a_2016_3.0': -0.29717277119798446,\n",
       " 'imiss_a_2016_4.0': 0.10704905782829288,\n",
       " 'imiss_b_2016_0.0': -0.4615256539571386,\n",
       " 'imiss_b_2016_1.0': -0.30731225914731,\n",
       " 'imiss_b_2016_2.0': 0.05347887370036297,\n",
       " 'imiss_b_2016_3.0': 0.4948771019259455,\n",
       " 'imiss_b_2016_4.0': 0.2216757124270555,\n",
       " 'imiss_c_2016_0.0': 0.19465896217776532,\n",
       " 'imiss_c_2016_1.0': 0.08635564123587226,\n",
       " 'imiss_c_2016_2.0': -0.3811358771341699,\n",
       " 'imiss_c_2016_3.0': -0.233542956069862,\n",
       " 'imiss_c_2016_4.0': 0.334858004739315,\n",
       " 'imiss_d_2016_0.0': -0.29704777907230845,\n",
       " 'imiss_d_2016_1.0': 0.28875836727032816,\n",
       " 'imiss_d_2016_2.0': 0.0569467081474142,\n",
       " 'imiss_d_2016_3.0': -0.025042447137693945,\n",
       " 'imiss_d_2016_4.0': -0.02242107425882628,\n",
       " 'imiss_e_2016_0.0': -0.12026786799092809,\n",
       " 'imiss_e_2016_1.0': -0.23658352569064514,\n",
       " 'imiss_e_2016_2.0': 0.09550461315036,\n",
       " 'imiss_e_2016_3.0': -0.02158305792583396,\n",
       " 'imiss_e_2016_4.0': 0.2841236134059594,\n",
       " 'imiss_f_2016_0.0': -0.27181017507459077,\n",
       " 'imiss_f_2016_1.0': -0.1874658865745534,\n",
       " 'imiss_f_2016_2.0': 0.019125644291823018,\n",
       " 'imiss_f_2016_3.0': 0.1753808078659367,\n",
       " 'imiss_f_2016_4.0': 0.26596338444029344,\n",
       " 'imiss_g_2016_0.0': 0.1517845747065803,\n",
       " 'imiss_g_2016_1.0': -0.038994650921535985,\n",
       " 'imiss_g_2016_2.0': -0.34948584103433755,\n",
       " 'imiss_g_2016_3.0': -0.11410650155367515,\n",
       " 'imiss_g_2016_4.0': 0.35199619375188285,\n",
       " 'imiss_h_2016_0.0': 0.7459408259360292,\n",
       " 'imiss_h_2016_1.0': -0.27426409606120616,\n",
       " 'imiss_h_2016_2.0': -0.06734844798181217,\n",
       " 'imiss_h_2016_3.0': -0.22640261587025207,\n",
       " 'imiss_h_2016_4.0': -0.176731891073844,\n",
       " 'imiss_i_2016_0.0': -0.17135847022688153,\n",
       " 'imiss_i_2016_1.0': 0.17663489533210186,\n",
       " 'imiss_i_2016_2.0': 0.2524711803488112,\n",
       " 'imiss_i_2016_3.0': -0.11691308605589537,\n",
       " 'imiss_i_2016_4.0': -0.13964074444922317,\n",
       " 'imiss_j_2016_0.0': 0.3959938874946134,\n",
       " 'imiss_j_2016_1.0': -0.1138560849783276,\n",
       " 'imiss_j_2016_2.0': -0.15985824591388498,\n",
       " 'imiss_j_2016_3.0': -0.6118949567774257,\n",
       " 'imiss_j_2016_4.0': 0.4908091751239481,\n",
       " 'imiss_k_2016_0.0': 0.18613950862823458,\n",
       " 'imiss_k_2016_1.0': -0.2962807383467763,\n",
       " 'imiss_k_2016_2.0': -0.08691139150452337,\n",
       " 'imiss_k_2016_3.0': -0.0379827929634748,\n",
       " 'imiss_k_2016_4.0': 0.2362291891354535,\n",
       " 'imiss_l_2016_0.0': 0.06164098211911333,\n",
       " 'imiss_l_2016_1.0': -0.021866847342391776,\n",
       " 'imiss_l_2016_2.0': -0.0694039624238222,\n",
       " 'imiss_l_2016_3.0': -0.11660496596915153,\n",
       " 'imiss_l_2016_4.0': 0.1474285685651671,\n",
       " 'imiss_m_2016_0.0': -0.2756968514951632,\n",
       " 'imiss_m_2016_1.0': 0.3812365280416453,\n",
       " 'imiss_m_2016_2.0': 0.1174926252369214,\n",
       " 'imiss_m_2016_3.0': 0.3772902139019555,\n",
       " 'imiss_m_2016_4.0': -0.5991287407364483,\n",
       " 'imiss_n_2016_0.0': -0.029827040171277193,\n",
       " 'imiss_n_2016_1.0': -0.4250991795150185,\n",
       " 'imiss_n_2016_2.0': -0.058753325136357185,\n",
       " 'imiss_n_2016_3.0': -0.15631903966897118,\n",
       " 'imiss_n_2016_4.0': 0.6711923594405411,\n",
       " 'imiss_o_2016_0.0': 0.031733210941554034,\n",
       " 'imiss_o_2016_1.0': 0.03579746212848526,\n",
       " 'imiss_o_2016_2.0': -0.13854735330657464,\n",
       " 'imiss_o_2016_3.0': 0.19323878555710247,\n",
       " 'imiss_o_2016_4.0': -0.12102833037165521,\n",
       " 'imiss_p_2016_0.0': -0.3125060288637581,\n",
       " 'imiss_p_2016_1.0': -0.1640443283856715,\n",
       " 'imiss_p_2016_2.0': 0.10817151064777643,\n",
       " 'imiss_p_2016_3.0': 0.07246759627515599,\n",
       " 'imiss_p_2016_4.0': 0.2971050252754135,\n",
       " 'imiss_q_2016_0.0': -0.19301640964011108,\n",
       " 'imiss_q_2016_1.0': 0.09999405515677709,\n",
       " 'imiss_q_2016_2.0': -0.06615526773893572,\n",
       " 'imiss_q_2016_3.0': -0.15805064656430137,\n",
       " 'imiss_q_2016_4.0': 0.3184220437354886,\n",
       " 'imiss_r_2016_0.0': 0.24796526409538486,\n",
       " 'imiss_r_2016_1.0': 0.11709686791398562,\n",
       " 'imiss_r_2016_2.0': -0.21718429616670273,\n",
       " 'imiss_r_2016_3.0': -0.4111069026202958,\n",
       " 'imiss_r_2016_4.0': 0.26442284172655134,\n",
       " 'imiss_s_2016_0.0': -0.30129315284719116,\n",
       " 'imiss_s_2016_1.0': 0.1677021708808427,\n",
       " 'imiss_s_2016_2.0': 0.17358642370028116,\n",
       " 'imiss_s_2016_3.0': 0.24795764151628183,\n",
       " 'imiss_s_2016_4.0': -0.2867593083012834,\n",
       " 'imiss_t_2016_0.0': -0.2893860945646627,\n",
       " 'imiss_t_2016_1.0': -0.09420675575420837,\n",
       " 'imiss_t_2016_2.0': -0.026210399627409862,\n",
       " 'imiss_t_2016_3.0': 0.12417991150379455,\n",
       " 'imiss_t_2016_4.0': 0.28681711339140087,\n",
       " 'imiss_u_2016_0.0': 0.5045383800518086,\n",
       " 'imiss_u_2016_1.0': -0.31859843568265805,\n",
       " 'imiss_u_2016_2.0': -0.14683428195098597,\n",
       " 'imiss_u_2016_3.0': 0.26467696192384405,\n",
       " 'imiss_u_2016_4.0': -0.3025888493930786,\n",
       " 'imiss_x_2016_0.0': -0.03362757251535358,\n",
       " 'imiss_x_2016_1.0': 0.051009910747426515,\n",
       " 'imiss_x_2016_2.0': 0.018009034761874765,\n",
       " 'imiss_x_2016_3.0': -0.015734243214752783,\n",
       " 'imiss_x_2016_4.0': -0.018463354830281553,\n",
       " 'imiss_y_2016_0.0': 0.06751624229772413,\n",
       " 'imiss_y_2016_1.0': 0.14421569995211356,\n",
       " 'imiss_y_2016_2.0': -0.04681740469982748,\n",
       " 'imiss_y_2016_3.0': 0.018936541040115214,\n",
       " 'imiss_y_2016_4.0': -0.18265730364121877}"
      ]
     },
     "execution_count": 39,
     "metadata": {},
     "output_type": "execute_result"
    }
   ],
   "source": [
    "coef_dict = dict(zip(X.columns, lr.coef_[0]))\n",
    "coef_dict"
   ]
  },
  {
   "cell_type": "markdown",
   "metadata": {},
   "source": [
    "## Feature importance"
   ]
  },
  {
   "cell_type": "code",
   "execution_count": 40,
   "metadata": {
    "ExecuteTime": {
     "end_time": "2019-11-23T11:43:46.535272Z",
     "start_time": "2019-11-23T11:40:39.120582Z"
    }
   },
   "outputs": [],
   "source": [
    "from sklearn.feature_selection import RFE\n",
    "predictors = X_train\n",
    "selector = RFE(lr, n_features_to_select=1)\n",
    "selector = selector.fit(predictors, y_train)"
   ]
  },
  {
   "cell_type": "code",
   "execution_count": 41,
   "metadata": {
    "ExecuteTime": {
     "end_time": "2019-11-23T11:43:46.565546Z",
     "start_time": "2019-11-23T11:43:46.542923Z"
    }
   },
   "outputs": [
    {
     "data": {
      "text/plain": [
       "115"
      ]
     },
     "execution_count": 41,
     "metadata": {},
     "output_type": "execute_result"
    }
   ],
   "source": [
    "len(X_train.columns)"
   ]
  },
  {
   "cell_type": "code",
   "execution_count": 42,
   "metadata": {
    "ExecuteTime": {
     "end_time": "2019-11-23T11:43:46.603600Z",
     "start_time": "2019-11-23T11:43:46.583479Z"
    }
   },
   "outputs": [
    {
     "data": {
      "text/plain": [
       "array([ 57,  85, 107,  39, 106,  30,  77,  76,  23,  32,  97,  80,  22,\n",
       "        21,  37,  75,  10, 104,  95,  64,  52,  11,  92,  54,  34,  24,\n",
       "         9, 114,  18,  17,  60,  41, 111, 115,  49,  29,  99,  98, 100,\n",
       "        31,  45,  94,  89,  63,  62,  79,  50,  51,  26,  13,  71,  84,\n",
       "       113,  36,  16,  20,   1,  65,  42,   2,  81,  88, 109,  14,   7,\n",
       "        46,  53, 110,  70,  28,  83,  73, 108,  59,  74, 101,  48,  47,\n",
       "        87,  69, 105,  90,  43,  25,   8,  86,  82, 102,  44,  15,  91,\n",
       "        33, 112,  66,   5,  68,  35,  40,  78,  56,  72,  27,  96,   6,\n",
       "         3,  55,  12,  93,  58,  38,  61,  19,  67, 103,   4])"
      ]
     },
     "execution_count": 42,
     "metadata": {},
     "output_type": "execute_result"
    }
   ],
   "source": [
    "order = selector.ranking_\n",
    "len(order)\n",
    "order"
   ]
  },
  {
   "cell_type": "code",
   "execution_count": 43,
   "metadata": {
    "ExecuteTime": {
     "end_time": "2019-11-23T11:43:46.656468Z",
     "start_time": "2019-11-23T11:43:46.624449Z"
    }
   },
   "outputs": [
    {
     "data": {
      "text/plain": [
       "Index(['imiss_a_2016_0.0', 'imiss_a_2016_1.0', 'imiss_a_2016_2.0',\n",
       "       'imiss_a_2016_3.0', 'imiss_a_2016_4.0', 'imiss_b_2016_0.0',\n",
       "       'imiss_b_2016_1.0', 'imiss_b_2016_2.0', 'imiss_b_2016_3.0',\n",
       "       'imiss_b_2016_4.0',\n",
       "       ...\n",
       "       'imiss_x_2016_0.0', 'imiss_x_2016_1.0', 'imiss_x_2016_2.0',\n",
       "       'imiss_x_2016_3.0', 'imiss_x_2016_4.0', 'imiss_y_2016_0.0',\n",
       "       'imiss_y_2016_1.0', 'imiss_y_2016_2.0', 'imiss_y_2016_3.0',\n",
       "       'imiss_y_2016_4.0'],\n",
       "      dtype='object', length=115)"
      ]
     },
     "execution_count": 43,
     "metadata": {},
     "output_type": "execute_result"
    }
   ],
   "source": [
    "df_predictors.columns"
   ]
  },
  {
   "cell_type": "code",
   "execution_count": 44,
   "metadata": {
    "ExecuteTime": {
     "end_time": "2019-11-23T11:43:50.740007Z",
     "start_time": "2019-11-23T11:43:46.661226Z"
    }
   },
   "outputs": [],
   "source": [
    "for i in df_predictors.index:\n",
    "    rank = np.array(order)\n",
    "    feat = np.array(df_predictors.columns)\n",
    "    rank_feat = pd.DataFrame(rank,feat, columns=['rank'])"
   ]
  },
  {
   "cell_type": "code",
   "execution_count": 165,
   "metadata": {
    "ExecuteTime": {
     "end_time": "2019-11-23T12:00:11.198412Z",
     "start_time": "2019-11-23T12:00:11.180844Z"
    }
   },
   "outputs": [
    {
     "data": {
      "text/html": [
       "<div>\n",
       "<style scoped>\n",
       "    .dataframe tbody tr th:only-of-type {\n",
       "        vertical-align: middle;\n",
       "    }\n",
       "\n",
       "    .dataframe tbody tr th {\n",
       "        vertical-align: top;\n",
       "    }\n",
       "\n",
       "    .dataframe thead th {\n",
       "        text-align: right;\n",
       "    }\n",
       "</style>\n",
       "<table border=\"1\" class=\"dataframe\">\n",
       "  <thead>\n",
       "    <tr style=\"text-align: right;\">\n",
       "      <th></th>\n",
       "      <th>rank</th>\n",
       "    </tr>\n",
       "  </thead>\n",
       "  <tbody>\n",
       "    <tr>\n",
       "      <th>imiss_s_2016_3.0</th>\n",
       "      <td>106</td>\n",
       "    </tr>\n",
       "    <tr>\n",
       "      <th>imiss_u_2016_2.0</th>\n",
       "      <td>107</td>\n",
       "    </tr>\n",
       "    <tr>\n",
       "      <th>imiss_d_2016_3.0</th>\n",
       "      <td>108</td>\n",
       "    </tr>\n",
       "    <tr>\n",
       "      <th>imiss_d_2016_2.0</th>\n",
       "      <td>109</td>\n",
       "    </tr>\n",
       "    <tr>\n",
       "      <th>imiss_q_2016_4.0</th>\n",
       "      <td>110</td>\n",
       "    </tr>\n",
       "    <tr>\n",
       "      <th>imiss_o_2016_2.0</th>\n",
       "      <td>111</td>\n",
       "    </tr>\n",
       "    <tr>\n",
       "      <th>imiss_n_2016_2.0</th>\n",
       "      <td>112</td>\n",
       "    </tr>\n",
       "    <tr>\n",
       "      <th>imiss_x_2016_2.0</th>\n",
       "      <td>113</td>\n",
       "    </tr>\n",
       "    <tr>\n",
       "      <th>imiss_e_2016_2.0</th>\n",
       "      <td>114</td>\n",
       "    </tr>\n",
       "    <tr>\n",
       "      <th>imiss_g_2016_3.0</th>\n",
       "      <td>115</td>\n",
       "    </tr>\n",
       "  </tbody>\n",
       "</table>\n",
       "</div>"
      ],
      "text/plain": [
       "                  rank\n",
       "imiss_s_2016_3.0   106\n",
       "imiss_u_2016_2.0   107\n",
       "imiss_d_2016_3.0   108\n",
       "imiss_d_2016_2.0   109\n",
       "imiss_q_2016_4.0   110\n",
       "imiss_o_2016_2.0   111\n",
       "imiss_n_2016_2.0   112\n",
       "imiss_x_2016_2.0   113\n",
       "imiss_e_2016_2.0   114\n",
       "imiss_g_2016_3.0   115"
      ]
     },
     "execution_count": 165,
     "metadata": {},
     "output_type": "execute_result"
    }
   ],
   "source": [
    "rank_feat.sort_values(by='rank').tail(10)"
   ]
  },
  {
   "cell_type": "markdown",
   "metadata": {},
   "source": [
    "## Cross-validation"
   ]
  },
  {
   "cell_type": "code",
   "execution_count": 40,
   "metadata": {
    "ExecuteTime": {
     "end_time": "2019-11-23T12:33:17.031905Z",
     "start_time": "2019-11-23T12:33:17.027722Z"
    }
   },
   "outputs": [],
   "source": [
    "from sklearn.model_selection import cross_val_score"
   ]
  },
  {
   "cell_type": "code",
   "execution_count": 153,
   "metadata": {
    "ExecuteTime": {
     "end_time": "2019-11-23T11:53:38.868454Z",
     "start_time": "2019-11-23T11:53:38.842395Z"
    }
   },
   "outputs": [],
   "source": [
    "y = y.fillna(0)"
   ]
  },
  {
   "cell_type": "code",
   "execution_count": 154,
   "metadata": {
    "ExecuteTime": {
     "end_time": "2019-11-23T11:53:50.748833Z",
     "start_time": "2019-11-23T11:53:50.692729Z"
    }
   },
   "outputs": [
    {
     "data": {
      "text/plain": [
       "False"
      ]
     },
     "execution_count": 154,
     "metadata": {},
     "output_type": "execute_result"
    }
   ],
   "source": [
    "X.isna().sum().any()"
   ]
  },
  {
   "cell_type": "code",
   "execution_count": 158,
   "metadata": {
    "ExecuteTime": {
     "end_time": "2019-11-23T11:54:48.093628Z",
     "start_time": "2019-11-23T11:54:48.085691Z"
    }
   },
   "outputs": [
    {
     "data": {
      "text/plain": [
       "(8000,)"
      ]
     },
     "execution_count": 158,
     "metadata": {},
     "output_type": "execute_result"
    }
   ],
   "source": [
    "y = np.ravel(y)\n",
    "y.shape"
   ]
  },
  {
   "cell_type": "code",
   "execution_count": 159,
   "metadata": {
    "ExecuteTime": {
     "end_time": "2019-11-23T11:55:02.010268Z",
     "start_time": "2019-11-23T11:54:50.747515Z"
    }
   },
   "outputs": [],
   "source": [
    "scores = cross_val_score(lr, X, y, cv=5)"
   ]
  },
  {
   "cell_type": "code",
   "execution_count": 160,
   "metadata": {
    "ExecuteTime": {
     "end_time": "2019-11-23T11:55:05.769762Z",
     "start_time": "2019-11-23T11:55:05.751435Z"
    }
   },
   "outputs": [
    {
     "data": {
      "text/plain": [
       "array([0.82033687, 0.76966292, 0.7825    , 0.7804878 , 0.78070175])"
      ]
     },
     "execution_count": 160,
     "metadata": {},
     "output_type": "execute_result"
    }
   ],
   "source": [
    "scores"
   ]
  },
  {
   "cell_type": "markdown",
   "metadata": {},
   "source": [
    "## Random forest"
   ]
  },
  {
   "cell_type": "code",
   "execution_count": 2,
   "metadata": {
    "ExecuteTime": {
     "end_time": "2019-11-23T12:30:24.187061Z",
     "start_time": "2019-11-23T12:30:24.180979Z"
    }
   },
   "outputs": [],
   "source": [
    "from sklearn.ensemble import RandomForestClassifier\n",
    "from sklearn.metrics import accuracy_score"
   ]
  },
  {
   "cell_type": "code",
   "execution_count": 37,
   "metadata": {
    "ExecuteTime": {
     "end_time": "2019-11-23T12:31:43.338571Z",
     "start_time": "2019-11-23T12:31:42.898485Z"
    }
   },
   "outputs": [
    {
     "name": "stderr",
     "output_type": "stream",
     "text": [
      "/Users/alyssaliguori/anaconda3/lib/python3.7/site-packages/sklearn/ensemble/forest.py:245: FutureWarning: The default value of n_estimators will change from 10 in version 0.20 to 100 in 0.22.\n",
      "  \"10 in version 0.20 to 100 in 0.22.\", FutureWarning)\n"
     ]
    }
   ],
   "source": [
    "rf = RandomForestClassifier()\n",
    "rf.fit(X_train, y_train)\n",
    "y_pred_test = rf.predict(X_test)\n",
    "score = accuracy_score(y_test, y_pred_test)"
   ]
  },
  {
   "cell_type": "code",
   "execution_count": 38,
   "metadata": {
    "ExecuteTime": {
     "end_time": "2019-11-23T12:31:50.174506Z",
     "start_time": "2019-11-23T12:31:50.154507Z"
    }
   },
   "outputs": [
    {
     "data": {
      "text/plain": [
       "0.78"
      ]
     },
     "execution_count": 38,
     "metadata": {},
     "output_type": "execute_result"
    }
   ],
   "source": [
    "score"
   ]
  },
  {
   "cell_type": "code",
   "execution_count": 41,
   "metadata": {
    "ExecuteTime": {
     "end_time": "2019-11-23T12:33:19.986739Z",
     "start_time": "2019-11-23T12:33:19.371124Z"
    }
   },
   "outputs": [],
   "source": [
    "scores = cross_val_score(rf, X, y, cv=5)"
   ]
  },
  {
   "cell_type": "code",
   "execution_count": 42,
   "metadata": {
    "ExecuteTime": {
     "end_time": "2019-11-23T12:33:23.746761Z",
     "start_time": "2019-11-23T12:33:23.739866Z"
    }
   },
   "outputs": [
    {
     "data": {
      "text/plain": [
       "array([0.80848409, 0.75280899, 0.76125   , 0.76297686, 0.7612782 ])"
      ]
     },
     "execution_count": 42,
     "metadata": {},
     "output_type": "execute_result"
    }
   ],
   "source": [
    "scores"
   ]
  },
  {
   "cell_type": "code",
   "execution_count": 43,
   "metadata": {
    "ExecuteTime": {
     "end_time": "2019-11-23T12:34:19.436068Z",
     "start_time": "2019-11-23T12:34:19.432283Z"
    }
   },
   "outputs": [],
   "source": [
    "from sklearn.neighbors import KNeighborsClassifier"
   ]
  },
  {
   "cell_type": "code",
   "execution_count": 44,
   "metadata": {
    "ExecuteTime": {
     "end_time": "2019-11-23T12:35:07.786669Z",
     "start_time": "2019-11-23T12:34:55.564529Z"
    }
   },
   "outputs": [
    {
     "data": {
      "text/plain": [
       "array([0.80723643, 0.74906367, 0.754375  , 0.75547217, 0.76253133])"
      ]
     },
     "execution_count": 44,
     "metadata": {},
     "output_type": "execute_result"
    }
   ],
   "source": [
    "knn = KNeighborsClassifier()\n",
    "scores = cross_val_score(knn, X, y, cv=5)\n",
    "scores"
   ]
  },
  {
   "cell_type": "code",
   "execution_count": 45,
   "metadata": {
    "ExecuteTime": {
     "end_time": "2019-11-23T12:36:34.642130Z",
     "start_time": "2019-11-23T12:36:34.632749Z"
    }
   },
   "outputs": [],
   "source": [
    "from sklearn.svm import SVC"
   ]
  },
  {
   "cell_type": "code",
   "execution_count": 47,
   "metadata": {
    "ExecuteTime": {
     "end_time": "2019-11-23T12:37:44.049712Z",
     "start_time": "2019-11-23T12:37:35.722589Z"
    }
   },
   "outputs": [
    {
     "data": {
      "text/plain": [
       "0.790625"
      ]
     },
     "execution_count": 47,
     "metadata": {},
     "output_type": "execute_result"
    }
   ],
   "source": [
    "svm = SVC(kernel='linear')\n",
    "svm.fit(X_train, y_train)\n",
    "y_pred_test = svm.predict(X_test)\n",
    "score = accuracy_score(y_test, y_pred_test)\n",
    "score"
   ]
  },
  {
   "cell_type": "code",
   "execution_count": 48,
   "metadata": {
    "ExecuteTime": {
     "end_time": "2019-11-23T12:38:46.849462Z",
     "start_time": "2019-11-23T12:38:06.826392Z"
    }
   },
   "outputs": [
    {
     "data": {
      "text/plain": [
       "array([0.82283219, 0.77028714, 0.785625  , 0.78549093, 0.78070175])"
      ]
     },
     "execution_count": 48,
     "metadata": {},
     "output_type": "execute_result"
    }
   ],
   "source": [
    "scores = cross_val_score(svm, X, y, cv=5)\n",
    "scores"
   ]
  },
  {
   "cell_type": "code",
   "execution_count": 50,
   "metadata": {
    "ExecuteTime": {
     "end_time": "2019-11-23T12:39:45.704719Z",
     "start_time": "2019-11-23T12:39:33.323385Z"
    }
   },
   "outputs": [
    {
     "data": {
      "text/plain": [
       "0.505"
      ]
     },
     "execution_count": 50,
     "metadata": {},
     "output_type": "execute_result"
    }
   ],
   "source": [
    "svm = SVC(kernel='linear', class_weight='balanced')\n",
    "svm.fit(X_train, y_train)\n",
    "y_pred_test = svm.predict(X_test)\n",
    "score = accuracy_score(y_test, y_pred_test)\n",
    "score"
   ]
  },
  {
   "cell_type": "code",
   "execution_count": null,
   "metadata": {},
   "outputs": [],
   "source": []
  }
 ],
 "metadata": {
  "kernelspec": {
   "display_name": "Python 3",
   "language": "python",
   "name": "python3"
  },
  "language_info": {
   "codemirror_mode": {
    "name": "ipython",
    "version": 3
   },
   "file_extension": ".py",
   "mimetype": "text/x-python",
   "name": "python",
   "nbconvert_exporter": "python",
   "pygments_lexer": "ipython3",
   "version": "3.7.3"
  },
  "toc": {
   "base_numbering": 1,
   "nav_menu": {},
   "number_sections": true,
   "sideBar": true,
   "skip_h1_title": false,
   "title_cell": "Table of Contents",
   "title_sidebar": "Contents",
   "toc_cell": false,
   "toc_position": {},
   "toc_section_display": true,
   "toc_window_display": false
  }
 },
 "nbformat": 4,
 "nbformat_minor": 2
}
