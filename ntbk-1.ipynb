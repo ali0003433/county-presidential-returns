{
 "cells": [
  {
   "cell_type": "code",
   "execution_count": 1,
   "metadata": {
    "ExecuteTime": {
     "end_time": "2019-11-19T22:41:48.306442Z",
     "start_time": "2019-11-19T22:41:45.721503Z"
    }
   },
   "outputs": [],
   "source": [
    "import numpy as np\n",
    "import pandas as pd\n",
    "import seaborn as sns\n",
    "import matplotlib.pyplot as plt"
   ]
  },
  {
   "cell_type": "code",
   "execution_count": 2,
   "metadata": {
    "ExecuteTime": {
     "end_time": "2019-11-19T22:41:49.650055Z",
     "start_time": "2019-11-19T22:41:48.311457Z"
    }
   },
   "outputs": [],
   "source": [
    "#read in data \n",
    "df = pd.read_csv('data/voter-survey-december16.csv')"
   ]
  },
  {
   "cell_type": "code",
   "execution_count": 3,
   "metadata": {
    "ExecuteTime": {
     "end_time": "2019-11-19T22:41:49.701889Z",
     "start_time": "2019-11-19T22:41:49.654666Z"
    }
   },
   "outputs": [
    {
     "name": "stdout",
     "output_type": "stream",
     "text": [
      "668\n",
      "(8000, 668)\n"
     ]
    },
    {
     "data": {
      "text/html": [
       "<div>\n",
       "<style scoped>\n",
       "    .dataframe tbody tr th:only-of-type {\n",
       "        vertical-align: middle;\n",
       "    }\n",
       "\n",
       "    .dataframe tbody tr th {\n",
       "        vertical-align: top;\n",
       "    }\n",
       "\n",
       "    .dataframe thead th {\n",
       "        text-align: right;\n",
       "    }\n",
       "</style>\n",
       "<table border=\"1\" class=\"dataframe\">\n",
       "  <thead>\n",
       "    <tr style=\"text-align: right;\">\n",
       "      <th></th>\n",
       "      <th>case_identifier</th>\n",
       "      <th>weight</th>\n",
       "      <th>PARTY_AGENDAS_rand_2016</th>\n",
       "      <th>pp_primary16_2016</th>\n",
       "      <th>pp_demprim16_2016</th>\n",
       "      <th>pp_repprim16_2016</th>\n",
       "      <th>inputstate_2016</th>\n",
       "      <th>izip_2016</th>\n",
       "      <th>votereg2_2016</th>\n",
       "      <th>votereg_f_2016</th>\n",
       "      <th>...</th>\n",
       "      <th>post_HouseCand3Name_2012</th>\n",
       "      <th>post_HouseCand3Party_2012</th>\n",
       "      <th>post_SenCand1Name_2012</th>\n",
       "      <th>post_SenCand1Party_2012</th>\n",
       "      <th>post_SenCand2Name_2012</th>\n",
       "      <th>post_SenCand2Party_2012</th>\n",
       "      <th>post_SenCand3Name_2012</th>\n",
       "      <th>post_SenCand3Party_2012</th>\n",
       "      <th>starttime_2016</th>\n",
       "      <th>endtime_2016</th>\n",
       "    </tr>\n",
       "  </thead>\n",
       "  <tbody>\n",
       "    <tr>\n",
       "      <th>0</th>\n",
       "      <td>779</td>\n",
       "      <td>0.358213</td>\n",
       "      <td>2</td>\n",
       "      <td>1</td>\n",
       "      <td>1.0</td>\n",
       "      <td>NaN</td>\n",
       "      <td>6</td>\n",
       "      <td>94952</td>\n",
       "      <td>1</td>\n",
       "      <td>1.0</td>\n",
       "      <td>...</td>\n",
       "      <td>NaN</td>\n",
       "      <td>NaN</td>\n",
       "      <td>Shelley Berkley</td>\n",
       "      <td>Democratic</td>\n",
       "      <td>Dean Heller</td>\n",
       "      <td>Republican</td>\n",
       "      <td>NaN</td>\n",
       "      <td>NaN</td>\n",
       "      <td>29nov2016 22:59:43</td>\n",
       "      <td>29nov2016 23:28:24</td>\n",
       "    </tr>\n",
       "    <tr>\n",
       "      <th>1</th>\n",
       "      <td>2108</td>\n",
       "      <td>0.562867</td>\n",
       "      <td>2</td>\n",
       "      <td>2</td>\n",
       "      <td>NaN</td>\n",
       "      <td>1.0</td>\n",
       "      <td>4</td>\n",
       "      <td>85298</td>\n",
       "      <td>1</td>\n",
       "      <td>1.0</td>\n",
       "      <td>...</td>\n",
       "      <td>NaN</td>\n",
       "      <td>NaN</td>\n",
       "      <td>Richard Carmona</td>\n",
       "      <td>Democratic</td>\n",
       "      <td>Jeff Flake</td>\n",
       "      <td>Republican</td>\n",
       "      <td>NaN</td>\n",
       "      <td>NaN</td>\n",
       "      <td>29nov2016 15:41:28</td>\n",
       "      <td>29nov2016 18:58:28</td>\n",
       "    </tr>\n",
       "    <tr>\n",
       "      <th>2</th>\n",
       "      <td>2597</td>\n",
       "      <td>0.552138</td>\n",
       "      <td>2</td>\n",
       "      <td>1</td>\n",
       "      <td>1.0</td>\n",
       "      <td>NaN</td>\n",
       "      <td>55</td>\n",
       "      <td>54904</td>\n",
       "      <td>1</td>\n",
       "      <td>1.0</td>\n",
       "      <td>...</td>\n",
       "      <td>NaN</td>\n",
       "      <td>NaN</td>\n",
       "      <td>Tammy Baldwin</td>\n",
       "      <td>Democratic</td>\n",
       "      <td>Tommy Thompson</td>\n",
       "      <td>Republican</td>\n",
       "      <td>NaN</td>\n",
       "      <td>NaN</td>\n",
       "      <td>29nov2016 16:08:39</td>\n",
       "      <td>29nov2016 16:32:43</td>\n",
       "    </tr>\n",
       "    <tr>\n",
       "      <th>3</th>\n",
       "      <td>4148</td>\n",
       "      <td>0.207591</td>\n",
       "      <td>1</td>\n",
       "      <td>1</td>\n",
       "      <td>3.0</td>\n",
       "      <td>NaN</td>\n",
       "      <td>40</td>\n",
       "      <td>74104</td>\n",
       "      <td>1</td>\n",
       "      <td>1.0</td>\n",
       "      <td>...</td>\n",
       "      <td>NaN</td>\n",
       "      <td>NaN</td>\n",
       "      <td>NaN</td>\n",
       "      <td>NaN</td>\n",
       "      <td>NaN</td>\n",
       "      <td>NaN</td>\n",
       "      <td>NaN</td>\n",
       "      <td>NaN</td>\n",
       "      <td>14dec2016 18:46:33</td>\n",
       "      <td>14dec2016 19:11:20</td>\n",
       "    </tr>\n",
       "    <tr>\n",
       "      <th>4</th>\n",
       "      <td>4460</td>\n",
       "      <td>0.333729</td>\n",
       "      <td>2</td>\n",
       "      <td>2</td>\n",
       "      <td>NaN</td>\n",
       "      <td>4.0</td>\n",
       "      <td>48</td>\n",
       "      <td>78253</td>\n",
       "      <td>1</td>\n",
       "      <td>1.0</td>\n",
       "      <td>...</td>\n",
       "      <td>NaN</td>\n",
       "      <td>NaN</td>\n",
       "      <td>Paul Sadler</td>\n",
       "      <td>Democratic</td>\n",
       "      <td>Ted Cruz</td>\n",
       "      <td>Republican</td>\n",
       "      <td>NaN</td>\n",
       "      <td>NaN</td>\n",
       "      <td>01dec2016 10:17:47</td>\n",
       "      <td>01dec2016 10:59:48</td>\n",
       "    </tr>\n",
       "  </tbody>\n",
       "</table>\n",
       "<p>5 rows × 668 columns</p>\n",
       "</div>"
      ],
      "text/plain": [
       "   case_identifier    weight  PARTY_AGENDAS_rand_2016  pp_primary16_2016  \\\n",
       "0              779  0.358213                        2                  1   \n",
       "1             2108  0.562867                        2                  2   \n",
       "2             2597  0.552138                        2                  1   \n",
       "3             4148  0.207591                        1                  1   \n",
       "4             4460  0.333729                        2                  2   \n",
       "\n",
       "   pp_demprim16_2016  pp_repprim16_2016  inputstate_2016  izip_2016  \\\n",
       "0                1.0                NaN                6      94952   \n",
       "1                NaN                1.0                4      85298   \n",
       "2                1.0                NaN               55      54904   \n",
       "3                3.0                NaN               40      74104   \n",
       "4                NaN                4.0               48      78253   \n",
       "\n",
       "   votereg2_2016  votereg_f_2016  ...  post_HouseCand3Name_2012  \\\n",
       "0              1             1.0  ...                       NaN   \n",
       "1              1             1.0  ...                       NaN   \n",
       "2              1             1.0  ...                       NaN   \n",
       "3              1             1.0  ...                       NaN   \n",
       "4              1             1.0  ...                       NaN   \n",
       "\n",
       "   post_HouseCand3Party_2012  post_SenCand1Name_2012  post_SenCand1Party_2012  \\\n",
       "0                        NaN         Shelley Berkley               Democratic   \n",
       "1                        NaN         Richard Carmona               Democratic   \n",
       "2                        NaN           Tammy Baldwin               Democratic   \n",
       "3                        NaN                     NaN                      NaN   \n",
       "4                        NaN             Paul Sadler               Democratic   \n",
       "\n",
       "   post_SenCand2Name_2012 post_SenCand2Party_2012  post_SenCand3Name_2012  \\\n",
       "0             Dean Heller              Republican                     NaN   \n",
       "1              Jeff Flake              Republican                     NaN   \n",
       "2          Tommy Thompson              Republican                     NaN   \n",
       "3                     NaN                     NaN                     NaN   \n",
       "4                Ted Cruz              Republican                     NaN   \n",
       "\n",
       "   post_SenCand3Party_2012      starttime_2016        endtime_2016  \n",
       "0                      NaN  29nov2016 22:59:43  29nov2016 23:28:24  \n",
       "1                      NaN  29nov2016 15:41:28  29nov2016 18:58:28  \n",
       "2                      NaN  29nov2016 16:08:39  29nov2016 16:32:43  \n",
       "3                      NaN  14dec2016 18:46:33  14dec2016 19:11:20  \n",
       "4                      NaN  01dec2016 10:17:47  01dec2016 10:59:48  \n",
       "\n",
       "[5 rows x 668 columns]"
      ]
     },
     "execution_count": 3,
     "metadata": {},
     "output_type": "execute_result"
    }
   ],
   "source": [
    "print(len(df.columns))\n",
    "print(df.shape)\n",
    "df.head()"
   ]
  },
  {
   "cell_type": "code",
   "execution_count": 4,
   "metadata": {
    "ExecuteTime": {
     "end_time": "2019-11-19T22:41:49.941507Z",
     "start_time": "2019-11-19T22:41:49.705656Z"
    }
   },
   "outputs": [
    {
     "data": {
      "text/plain": [
       "case_identifier                   0\n",
       "weight                            0\n",
       "PARTY_AGENDAS_rand_2016           0\n",
       "pp_primary16_2016                 0\n",
       "pp_demprim16_2016              5026\n",
       "pp_repprim16_2016              5094\n",
       "inputstate_2016                   0\n",
       "izip_2016                         0\n",
       "votereg2_2016                     0\n",
       "votereg_f_2016                   90\n",
       "regzip_2016                    7761\n",
       "turnout16_2016                   48\n",
       "vote_usual_2016                7684\n",
       "votemeth16_2016                 389\n",
       "presvote16post_2016             394\n",
       "presvote16post_t_2016             0\n",
       "vote2016_cand2_2016            7613\n",
       "vote_for_against_2016           998\n",
       "Clinton_Rubio_2016               26\n",
       "Clinton_Cruz_2016                25\n",
       "Sanders_Trump_2016               25\n",
       "Sanders_Rubio_2016               35\n",
       "wished_voted_2016              7630\n",
       "vote_regrets_2016               392\n",
       "second_chance_2016             7698\n",
       "second_chance_t_2016              6\n",
       "accurately_counted_2016         399\n",
       "accurately_counted2_2016         36\n",
       "obamaapp_2016                     6\n",
       "fav_trump_2016                   47\n",
       "                               ... \n",
       "ccap2012_post_2016                0\n",
       "post_inputstate_2012              0\n",
       "post_cdid113_2012                 0\n",
       "post_turnout12_2012              28\n",
       "post_turnout_method12_2012      522\n",
       "post_presvote12_2012            568\n",
       "post_presvote12_other_2012       12\n",
       "post_senvote12_2012            1952\n",
       "post_senvote12_other_2012        14\n",
       "post_house12_2012                29\n",
       "post_housevote12_other_2012      29\n",
       "post_pid7_2012                    0\n",
       "post_pid3_t_2012                  3\n",
       "post_pid3_2012                    0\n",
       "post_ideo5_2012                   0\n",
       "post_newsint_2012                 0\n",
       "post_HouseCand1Name_2012        394\n",
       "post_HouseCand1Party_2012       394\n",
       "post_HouseCand2Name_2012        207\n",
       "post_HouseCand2Party_2012       207\n",
       "post_HouseCand3Name_2012       7644\n",
       "post_HouseCand3Party_2012      7644\n",
       "post_SenCand1Name_2012         1933\n",
       "post_SenCand1Party_2012        1933\n",
       "post_SenCand2Name_2012         1933\n",
       "post_SenCand2Party_2012        1933\n",
       "post_SenCand3Name_2012         7631\n",
       "post_SenCand3Party_2012        7631\n",
       "starttime_2016                    0\n",
       "endtime_2016                      0\n",
       "Length: 668, dtype: int64"
      ]
     },
     "execution_count": 4,
     "metadata": {},
     "output_type": "execute_result"
    }
   ],
   "source": [
    "df.isna().sum()"
   ]
  },
  {
   "cell_type": "code",
   "execution_count": 5,
   "metadata": {
    "ExecuteTime": {
     "end_time": "2019-11-19T22:41:49.957503Z",
     "start_time": "2019-11-19T22:41:49.944726Z"
    }
   },
   "outputs": [
    {
     "data": {
      "text/plain": [
       "394"
      ]
     },
     "execution_count": 5,
     "metadata": {},
     "output_type": "execute_result"
    }
   ],
   "source": [
    "# restrict to those who voted in 2016 Presidential campaign \n",
    "# did you vote on Nov 8th?\n",
    "df.turnout16_2016.isna().sum()\n",
    "# who did you vote for? 1-7 categorical (1-Hillary Clinton, 2-Donald Trump)\n",
    "df.presvote16post_2016.isna().sum()"
   ]
  },
  {
   "cell_type": "code",
   "execution_count": 6,
   "metadata": {
    "ExecuteTime": {
     "end_time": "2019-11-19T22:41:49.973577Z",
     "start_time": "2019-11-19T22:41:49.961733Z"
    }
   },
   "outputs": [],
   "source": [
    "# which columns should I keep? \n",
    "# issue importance? "
   ]
  },
  {
   "cell_type": "code",
   "execution_count": 18,
   "metadata": {
    "ExecuteTime": {
     "end_time": "2019-11-19T22:46:56.081358Z",
     "start_time": "2019-11-19T22:46:56.073190Z"
    }
   },
   "outputs": [
    {
     "name": "stdout",
     "output_type": "stream",
     "text": [
      "['imiss_a_2016', 'imiss_b_2016', 'imiss_c_2016', 'imiss_d_2016', 'imiss_e_2016', 'imiss_f_2016', 'imiss_g_2016', 'imiss_h_2016', 'imiss_i_2016', 'imiss_j_2016', 'imiss_k_2016', 'imiss_l_2016', 'imiss_m_2016', 'imiss_n_2016', 'imiss_o_2016', 'imiss_p_2016', 'imiss_q_2016', 'imiss_r_2016', 'imiss_s_2016', 'imiss_t_2016', 'imiss_u_2016', 'imiss_x_2016', 'imiss_y_2016', 'imiss_row_rnd_2016', 'imiss_col_rnd_2016', 'imiss_a_baseline', 'imiss_b_baseline', 'imiss_c_baseline', 'imiss_d_baseline', 'imiss_f_baseline', 'imiss_g_baseline', 'imiss_h_baseline', 'imiss_j_baseline', 'imiss_m_baseline', 'imiss_p_baseline', 'imiss_q_baseline', 'imiss_r_baseline', 'imiss_s_baseline', 'imiss_t_baseline', 'weights', 'turnout16_2016', 'presvote16post_2016']\n"
     ]
    }
   ],
   "source": [
    "# imiss = important issue \n",
    "# df[['turnout16_2016', 'presvote16post_2016'\n",
    "filer_col = []\n",
    "filter_col = [col for col in df if col.startswith('imiss_')]\n",
    "keep_vals = ['weights', 'turnout16_2016', 'presvote16post_2016']\n",
    "for val in keep_vals:\n",
    "    filter_col.append(val)\n",
    "print(filter_col)"
   ]
  },
  {
   "cell_type": "code",
   "execution_count": null,
   "metadata": {},
   "outputs": [],
   "source": [
    "# label the columns with issue \n",
    "# figure out how to use weights in python with survey data\n",
    "# clean data, drop null vals \n",
    "# explore and visualize data \n",
    "# To read: \n",
    "# https://towardsdatascience.com/how-to-analyze-survey-data-with-python-84eff9cc9568"
   ]
  }
 ],
 "metadata": {
  "kernelspec": {
   "display_name": "Python 3",
   "language": "python",
   "name": "python3"
  },
  "language_info": {
   "codemirror_mode": {
    "name": "ipython",
    "version": 3
   },
   "file_extension": ".py",
   "mimetype": "text/x-python",
   "name": "python",
   "nbconvert_exporter": "python",
   "pygments_lexer": "ipython3",
   "version": "3.7.3"
  },
  "toc": {
   "base_numbering": 1,
   "nav_menu": {},
   "number_sections": true,
   "sideBar": true,
   "skip_h1_title": false,
   "title_cell": "Table of Contents",
   "title_sidebar": "Contents",
   "toc_cell": false,
   "toc_position": {},
   "toc_section_display": true,
   "toc_window_display": false
  }
 },
 "nbformat": 4,
 "nbformat_minor": 2
}
