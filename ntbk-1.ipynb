{
 "cells": [
  {
   "cell_type": "code",
   "execution_count": 2,
   "metadata": {
    "ExecuteTime": {
     "end_time": "2019-11-19T17:44:14.249308Z",
     "start_time": "2019-11-19T17:44:10.631135Z"
    }
   },
   "outputs": [],
   "source": [
    "import numpy as np\n",
    "import pandas as pd\n",
    "import seaborn as sns\n",
    "import matplotlib.pyplot as plt"
   ]
  },
  {
   "cell_type": "code",
   "execution_count": 3,
   "metadata": {
    "ExecuteTime": {
     "end_time": "2019-11-19T17:44:15.524638Z",
     "start_time": "2019-11-19T17:44:14.253704Z"
    }
   },
   "outputs": [],
   "source": [
    "#read in data \n",
    "df = pd.read_csv('data/voter_survey_december16_release1.csv')"
   ]
  },
  {
   "cell_type": "code",
   "execution_count": 4,
   "metadata": {
    "ExecuteTime": {
     "end_time": "2019-11-19T17:44:15.545281Z",
     "start_time": "2019-11-19T17:44:15.528586Z"
    }
   },
   "outputs": [
    {
     "data": {
      "text/plain": [
       "(8000, 668)"
      ]
     },
     "execution_count": 4,
     "metadata": {},
     "output_type": "execute_result"
    }
   ],
   "source": [
    "df.head()\n",
    "df.columns\n",
    "df.shape"
   ]
  },
  {
   "cell_type": "code",
   "execution_count": 8,
   "metadata": {
    "ExecuteTime": {
     "end_time": "2019-11-18T23:07:12.544962Z",
     "start_time": "2019-11-18T23:07:12.186875Z"
    }
   },
   "outputs": [
    {
     "data": {
      "text/plain": [
       "case_identifier                   0\n",
       "weight                            0\n",
       "PARTY_AGENDAS_rand_2016           0\n",
       "pp_primary16_2016                 0\n",
       "pp_demprim16_2016              5026\n",
       "pp_repprim16_2016              5094\n",
       "inputstate_2016                   0\n",
       "izip_2016                         0\n",
       "votereg2_2016                     0\n",
       "votereg_f_2016                   90\n",
       "regzip_2016                    7761\n",
       "turnout16_2016                   48\n",
       "vote_usual_2016                7684\n",
       "votemeth16_2016                 389\n",
       "presvote16post_2016             394\n",
       "presvote16post_t_2016             0\n",
       "vote2016_cand2_2016            7613\n",
       "vote_for_against_2016           998\n",
       "Clinton_Rubio_2016               26\n",
       "Clinton_Cruz_2016                25\n",
       "Sanders_Trump_2016               25\n",
       "Sanders_Rubio_2016               35\n",
       "wished_voted_2016              7630\n",
       "vote_regrets_2016               392\n",
       "second_chance_2016             7698\n",
       "second_chance_t_2016              6\n",
       "accurately_counted_2016         399\n",
       "accurately_counted2_2016         36\n",
       "obamaapp_2016                     6\n",
       "fav_trump_2016                   47\n",
       "                               ... \n",
       "ccap2012_post_2016                0\n",
       "post_inputstate_2012              0\n",
       "post_cdid113_2012                 0\n",
       "post_turnout12_2012              28\n",
       "post_turnout_method12_2012      522\n",
       "post_presvote12_2012            568\n",
       "post_presvote12_other_2012       12\n",
       "post_senvote12_2012            1952\n",
       "post_senvote12_other_2012        14\n",
       "post_house12_2012                29\n",
       "post_housevote12_other_2012      29\n",
       "post_pid7_2012                    0\n",
       "post_pid3_t_2012                  3\n",
       "post_pid3_2012                    0\n",
       "post_ideo5_2012                   0\n",
       "post_newsint_2012                 0\n",
       "post_HouseCand1Name_2012        394\n",
       "post_HouseCand1Party_2012       394\n",
       "post_HouseCand2Name_2012        207\n",
       "post_HouseCand2Party_2012       207\n",
       "post_HouseCand3Name_2012       7644\n",
       "post_HouseCand3Party_2012      7644\n",
       "post_SenCand1Name_2012         1933\n",
       "post_SenCand1Party_2012        1933\n",
       "post_SenCand2Name_2012         1933\n",
       "post_SenCand2Party_2012        1933\n",
       "post_SenCand3Name_2012         7631\n",
       "post_SenCand3Party_2012        7631\n",
       "starttime_2016                    0\n",
       "endtime_2016                      0\n",
       "Length: 668, dtype: int64"
      ]
     },
     "execution_count": 8,
     "metadata": {},
     "output_type": "execute_result"
    }
   ],
   "source": [
    "df.isna().sum()"
   ]
  },
  {
   "cell_type": "code",
   "execution_count": null,
   "metadata": {},
   "outputs": [],
   "source": []
  }
 ],
 "metadata": {
  "kernelspec": {
   "display_name": "Python 3",
   "language": "python",
   "name": "python3"
  },
  "language_info": {
   "codemirror_mode": {
    "name": "ipython",
    "version": 3
   },
   "file_extension": ".py",
   "mimetype": "text/x-python",
   "name": "python",
   "nbconvert_exporter": "python",
   "pygments_lexer": "ipython3",
   "version": "3.7.3"
  },
  "toc": {
   "base_numbering": 1,
   "nav_menu": {},
   "number_sections": true,
   "sideBar": true,
   "skip_h1_title": false,
   "title_cell": "Table of Contents",
   "title_sidebar": "Contents",
   "toc_cell": false,
   "toc_position": {},
   "toc_section_display": true,
   "toc_window_display": false
  }
 },
 "nbformat": 4,
 "nbformat_minor": 2
}
